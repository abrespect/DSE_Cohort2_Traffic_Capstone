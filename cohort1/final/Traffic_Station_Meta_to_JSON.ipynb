{
 "cells": [
  {
   "cell_type": "code",
   "execution_count": 4,
   "metadata": {
    "collapsed": false
   },
   "outputs": [],
   "source": [
    "import fnmatch\n",
    "import os\n",
    "from collections import Counter\n",
    "import json\n",
    "import pandas as pd\n",
    "from osgeo import ogr, gdal"
   ]
  },
  {
   "cell_type": "code",
   "execution_count": 2,
   "metadata": {
    "collapsed": true
   },
   "outputs": [],
   "source": [
    "dir_to_int = {\n",
    "    \"N\": 1,\n",
    "    \"S\": 2,\n",
    "    \"E\": 3,\n",
    "    \"W\": 4,\n",
    "}"
   ]
  },
  {
   "cell_type": "code",
   "execution_count": 5,
   "metadata": {
    "collapsed": false
   },
   "outputs": [
    {
     "data": {
      "text/plain": [
       "0"
      ]
     },
     "execution_count": 5,
     "metadata": {},
     "output_type": "execute_result"
    }
   ],
   "source": [
    "# NOTE!: You need to set up the GDAL_DATA environment variable\n",
    "#      prior to launching the jupyter notebook.\n",
    "# export GDAL_DATA=/Users/username/anaconda/envs/capstone/share/gdal\n",
    "\n",
    "\n",
    "# \n",
    "# GDAL error handler function\n",
    "#\n",
    "def gdal_error_handler(err_class, err_num, err_msg):\n",
    "    errtype = {\n",
    "            gdal.CE_None:'None',\n",
    "            gdal.CE_Debug:'Debug',\n",
    "            gdal.CE_Warning:'Warning',\n",
    "            gdal.CE_Failure:'Failure',\n",
    "            gdal.CE_Fatal:'Fatal'\n",
    "    }\n",
    "    err_msg = err_msg.replace('\\n',' ')\n",
    "    err_class = errtype.get(err_class, 'None')\n",
    "    print 'Error Number: %s' % (err_num)\n",
    "    print 'Error Type: %s' % (err_class)\n",
    "    print 'Error Message: %s' % (err_msg)\n",
    "\n",
    "gdal.PushErrorHandler(gdal_error_handler)"
   ]
  },
  {
   "cell_type": "code",
   "execution_count": 6,
   "metadata": {
    "collapsed": true
   },
   "outputs": [],
   "source": [
    "# Directory containing data from s3://dse-team2-2014/dse_traffic/meta\n",
    "meta_dir = '/Users/username/capstone/data/meta'\n",
    "\n",
    "# Shape data file: tl_2010_us_uac10.shp\n",
    "shapefile_uac10 = '/Users/username/capstone/data/shape/tl_2010_us_uac10/tl_2010_us_uac10.shp'\n",
    "\n",
    "# Shape data file: tl_2010_06_zcta510.shp\n",
    "shapefile_zcta510 = '/Users/username/capstone/data/shape/tl_2010_06_zcta510/tl_2010_06_zcta510.shp'\n",
    "\n",
    "# Population density file\n",
    "popden_file = '/Users/username/capstone/data/Zipcode-ZCTA-Population-Density-And-Area-Unsorted.csv'\n"
   ]
  },
  {
   "cell_type": "code",
   "execution_count": 7,
   "metadata": {
    "collapsed": true
   },
   "outputs": [],
   "source": [
    "matches = []\n",
    "# the directory contains a list of PeMS station meta data files\n",
    "for root, dirnames, filenames in os.walk( meta_dir ):\n",
    "    for filename in fnmatch.filter(filenames, '*.txt'):\n",
    "        matches.append(os.path.join(root, filename))"
   ]
  },
  {
   "cell_type": "code",
   "execution_count": 30,
   "metadata": {
    "collapsed": false
   },
   "outputs": [],
   "source": [
    "# sanity check to ensure files have been found\n",
    "matches[:5]"
   ]
  },
  {
   "cell_type": "code",
   "execution_count": 9,
   "metadata": {
    "collapsed": false,
    "scrolled": true
   },
   "outputs": [],
   "source": [
    "# Create map of station id -> Counter\n",
    "# The counter stores the counts of the station tuple (direction, lat, lon, freeway, district, s_type, name)\n",
    "# This is needed because stations are reported multiple times and some statitions report incorrect/different information\n",
    "stations_map = {}\n",
    "for m in matches:\n",
    "    with open(m) as f:\n",
    "        for l in f.readlines()[1:]:\n",
    "            vals = l.split(\"\\t\")\n",
    "            station = int(vals[0])\n",
    "            freeway = int(vals[1])\n",
    "            direction = dir_to_int[vals[2]]\n",
    "            district = int(vals[3])\n",
    "            s_type = vals[11]\n",
    "            name = vals[13]\n",
    "            try:\n",
    "                lat = float(vals[8])\n",
    "                lon = float(vals[9])\n",
    "            except:\n",
    "                lat = None\n",
    "                lon = None\n",
    "            t = (direction, lat, lon, freeway, district, s_type, name)\n",
    "            if station not in stations_map:\n",
    "                stations_map[station] = Counter()\n",
    "            stations_map[station][t] += 1"
   ]
  },
  {
   "cell_type": "code",
   "execution_count": 10,
   "metadata": {
    "collapsed": false
   },
   "outputs": [
    {
     "data": {
      "text/plain": [
       "(1, 32.767779, -117.205941, 5, 11, 'FR', 'SEA WORLD DR')"
      ]
     },
     "execution_count": 10,
     "metadata": {},
     "output_type": "execute_result"
    }
   ],
   "source": [
    "stations_map[1100310].most_common(1)[0][0]"
   ]
  },
  {
   "cell_type": "code",
   "execution_count": 11,
   "metadata": {
    "collapsed": false
   },
   "outputs": [],
   "source": [
    "# Use the naive approach and select the most-common station tuple to represent each station\n",
    "station_directions = []\n",
    "for k, c in stations_map.items():\n",
    "    t = c.most_common(1)[0][0]\n",
    "    s = {'station': k, 'direction': t[0], 'freeway': t[3], 'district': t[4], 'type': t[5], 'name': t[6]}\n",
    "    if t[1] is not None and t[2] is not None:\n",
    "        s['latitude'] = t[1]\n",
    "        s['longitude'] = t[2]\n",
    "    station_directions.append(s)"
   ]
  },
  {
   "cell_type": "code",
   "execution_count": 12,
   "metadata": {
    "collapsed": false
   },
   "outputs": [
    {
     "data": {
      "text/plain": [
       "{'direction': 1,\n",
       " 'district': 8,\n",
       " 'freeway': 215,\n",
       " 'latitude': 33.785651,\n",
       " 'longitude': -117.218642,\n",
       " 'name': 'RTE 74/4th SEP N/O',\n",
       " 'station': 819200,\n",
       " 'type': 'ML'}"
      ]
     },
     "execution_count": 12,
     "metadata": {},
     "output_type": "execute_result"
    }
   ],
   "source": [
    "station_directions[0]"
   ]
  },
  {
   "cell_type": "code",
   "execution_count": 96,
   "metadata": {
    "collapsed": false
   },
   "outputs": [],
   "source": [
    "# WriteDictToCSV('station_direction.csv', ['station','direction'],station_directions)"
   ]
  },
  {
   "cell_type": "code",
   "execution_count": 13,
   "metadata": {
    "collapsed": false
   },
   "outputs": [],
   "source": [
    "json_filename = \"station_direction.json\"\n",
    "\n",
    "with open(json_filename, 'w') as fp:\n",
    "    json.dump(station_directions, fp)"
   ]
  },
  {
   "cell_type": "code",
   "execution_count": 14,
   "metadata": {
    "collapsed": false
   },
   "outputs": [],
   "source": [
    "with open(json_filename, 'r') as fp:\n",
    "    d = json.load(fp)"
   ]
  },
  {
   "cell_type": "code",
   "execution_count": 15,
   "metadata": {
    "collapsed": false
   },
   "outputs": [
    {
     "name": "stdout",
     "output_type": "stream",
     "text": [
      "Opened /Users/monkey/Repositories/DSE/jduclos/capstone/data/shape/tl_2010_us_uac10/tl_2010_us_uac10.shp\n",
      "Number of features in tl_2010_us_uac10.shp: 3592\n",
      "UACE10\n",
      "GEOID10\n",
      "NAME10\n",
      "NAMELSAD10\n",
      "LSAD10\n",
      "MTFCC10\n",
      "UATYP10\n",
      "FUNCSTAT10\n",
      "ALAND10\n",
      "AWATER10\n",
      "INTPTLAT10\n",
      "INTPTLON10\n"
     ]
    }
   ],
   "source": [
    "# Entire US urban shape file\n",
    "# https://www.census.gov/geo/reference/ua/urban-rural-2010.html\n",
    "# http://www2.census.gov/geo/tiger/TIGER2010/UA/2010/tl_2010_us_uac10.zip\n",
    "shapeFile = shapefile_uac10\n",
    "\n",
    "driver = ogr.GetDriverByName('ESRI Shapefile')\n",
    "\n",
    "dataSource = driver.Open( shapefile_uac10, 0) # 0 means read-only. 1 means writeable.\n",
    "\n",
    "# Check to see if shapefile is found.\n",
    "if dataSource is None:\n",
    "    print 'Could not open %s' % (shapeFile)\n",
    "else:\n",
    "    print 'Opened %s' % (shapeFile)\n",
    "    layer = dataSource.GetLayer()\n",
    "    featureCount = layer.GetFeatureCount()\n",
    "    print \"Number of features in %s: %d\" % (os.path.basename(shapeFile),featureCount)\n",
    "\n",
    "# Print field names for reference\n",
    "layerDefinition = layer.GetLayerDefn()\n",
    "for i in range(layerDefinition.GetFieldCount()):\n",
    "    print layerDefinition.GetFieldDefn(i).GetName()"
   ]
  },
  {
   "cell_type": "code",
   "execution_count": 16,
   "metadata": {
    "collapsed": true
   },
   "outputs": [],
   "source": [
    "# Define transformations into shapefile's CRS\n",
    "geo_ref = layer.GetSpatialRef()\n",
    "point_ref=ogr.osr.SpatialReference()\n",
    "point_ref.ImportFromEPSG(4326)\n",
    "ctran=ogr.osr.CoordinateTransformation(point_ref,geo_ref)\n",
    "\n",
    "layer.ResetReading() #Read the layer from the beginning again\n",
    "# for feature in layer:\n",
    "#     geom = feature.GetGeometryRef()\n",
    "#     print feature.GetField(\"NAME10\")\n",
    "\n",
    "def check(lon, lat):\n",
    "    #Transform incoming longitude/latitude to the shapefile's projection\n",
    "    [lon,lat,z]=ctran.TransformPoint(lon,lat,0.0)\n",
    "\n",
    "    #Create a point\n",
    "    pt = ogr.Geometry(ogr.wkbPoint)\n",
    "    pt.SetPoint_2D(0, lon, lat)\n",
    "\n",
    "    #Set up a spatial filter such that the only features we see when we\n",
    "    #loop through \"lyr_in\" are those which overlap the point defined above\n",
    "    layer.SetSpatialFilter(pt)\n",
    "\n",
    "    # overlapped feature\n",
    "    for feat_in in layer:\n",
    "        # Assuming there's only one overlapping feature\n",
    "        return feat_in\n",
    "    \n",
    "    return None\n",
    "\n",
    "def getUrbanType(feat):\n",
    "    # Field NAMELSAD10 contains the urbanized area name and type\n",
    "    # For example, \"San Diego, CA Urbanized Area\" or \"Brawley, CA Urban Cluster\"\n",
    "    type = feat.GetField(\"NAMELSAD10\").split(\" \")[-1] # \"Area\" or \"Cluster\"\n",
    "    if type not in (\"Area\", \"Cluster\"):\n",
    "        raise ValueError(\"Unknown urban type: \" + type)\n",
    "    else:\n",
    "        if type == \"Area\":\n",
    "            return 1\n",
    "        else:\n",
    "            return 2"
   ]
  },
  {
   "cell_type": "code",
   "execution_count": 17,
   "metadata": {
    "collapsed": false
   },
   "outputs": [
    {
     "data": {
      "text/plain": [
       "1"
      ]
     },
     "execution_count": 17,
     "metadata": {},
     "output_type": "execute_result"
    }
   ],
   "source": [
    "# Sanity check to ensure point in San Diego County returns 1 (i.e. Urbanized Area)\n",
    "feat = check(-117.01033,32.71483)\n",
    "getUrbanType(feat)"
   ]
  },
  {
   "cell_type": "code",
   "execution_count": 102,
   "metadata": {
    "collapsed": false,
    "scrolled": true
   },
   "outputs": [
    {
     "name": "stdout",
     "output_type": "stream",
     "text": [
      "caught this error: KeyError('latitude',)\n",
      "caught this error: KeyError('latitude',)\n",
      "caught this error: KeyError('latitude',)\n",
      "caught this error: KeyError('latitude',)\n",
      "caught this error: KeyError('latitude',)\n",
      "1000\n",
      "caught this error: KeyError('latitude',)\n",
      "2000\n",
      "caught this error: KeyError('latitude',)\n",
      "caught this error: KeyError('latitude',)\n",
      "caught this error: KeyError('latitude',)\n",
      "caught this error: KeyError('latitude',)\n",
      "caught this error: KeyError('latitude',)\n",
      "caught this error: KeyError('latitude',)\n",
      "3000\n",
      "caught this error: KeyError('latitude',)\n",
      "caught this error: KeyError('latitude',)\n",
      "caught this error: KeyError('latitude',)\n",
      "4000\n",
      "caught this error: KeyError('latitude',)\n",
      "5000\n",
      "6000\n",
      "caught this error: KeyError('latitude',)\n",
      "7000\n",
      "8000\n",
      "9000\n",
      "caught this error: KeyError('latitude',)\n",
      "caught this error: KeyError('latitude',)\n",
      "10000\n",
      "11000\n",
      "12000\n",
      "13000\n",
      "caught this error: KeyError('latitude',)\n",
      "14000\n",
      "15000\n",
      "caught this error: KeyError('latitude',)\n",
      "caught this error: KeyError('latitude',)\n",
      "caught this error: KeyError('latitude',)\n",
      "caught this error: KeyError('latitude',)\n",
      "16000\n",
      "17000\n",
      "caught this error: KeyError('latitude',)\n",
      "18000\n",
      "caught this error: KeyError('latitude',)\n",
      "caught this error: KeyError('latitude',)\n",
      "19000\n"
     ]
    }
   ],
   "source": [
    "i = 0\n",
    "for station in d:\n",
    "    try: \n",
    "        lat = station['latitude']\n",
    "        lon = station['longitude']\n",
    "        \n",
    "        feat = check(lon, lat)\n",
    "        \n",
    "        if feat:\n",
    "#             urban_enum = getUrbanType(feat) # 1 = urban area, 2 = urban cluster\n",
    "            station['urban'] = 1\n",
    "        else:\n",
    "            station['urban'] = 0\n",
    "            \n",
    "    except Exception as error:\n",
    "        # Not all stations have a reported lat/lon\n",
    "        print('caught this error: ' + repr(error))\n",
    "        continue\n",
    "    i = i + 1\n",
    "    if i % 1000 == 0:\n",
    "        print i"
   ]
  },
  {
   "cell_type": "code",
   "execution_count": 103,
   "metadata": {
    "collapsed": true
   },
   "outputs": [],
   "source": [
    "json_filename = \"station_meta2.json\"\n",
    "with open(json_filename, 'w') as fp:\n",
    "    json.dump(d, fp)"
   ]
  },
  {
   "cell_type": "code",
   "execution_count": 104,
   "metadata": {
    "collapsed": true
   },
   "outputs": [],
   "source": [
    "with open(json_filename, 'r') as fp:\n",
    "    d = json.load(fp)"
   ]
  },
  {
   "cell_type": "code",
   "execution_count": 19,
   "metadata": {
    "collapsed": false,
    "scrolled": true
   },
   "outputs": [],
   "source": [
    "ml_stations = [v for v in d if v['type'] == 'ML']\n",
    "dev_null = map(lambda x:  x.pop(\"type\"), ml_stations)"
   ]
  },
  {
   "cell_type": "code",
   "execution_count": 20,
   "metadata": {
    "collapsed": false
   },
   "outputs": [
    {
     "data": {
      "text/plain": [
       "10633"
      ]
     },
     "execution_count": 20,
     "metadata": {},
     "output_type": "execute_result"
    }
   ],
   "source": [
    "len(ml_stations)"
   ]
  },
  {
   "cell_type": "code",
   "execution_count": 21,
   "metadata": {
    "collapsed": false
   },
   "outputs": [
    {
     "data": {
      "text/plain": [
       "{u'direction': 1,\n",
       " u'district': 8,\n",
       " u'freeway': 215,\n",
       " u'latitude': 33.785651,\n",
       " u'longitude': -117.218642,\n",
       " u'name': u'RTE 74/4th SEP N/O',\n",
       " u'station': 819200}"
      ]
     },
     "execution_count": 21,
     "metadata": {},
     "output_type": "execute_result"
    }
   ],
   "source": [
    "ml_stations[0]"
   ]
  },
  {
   "cell_type": "code",
   "execution_count": 22,
   "metadata": {
    "collapsed": false
   },
   "outputs": [],
   "source": [
    "json_filename = \"station_meta_ML.json\"\n",
    "with open(json_filename, 'w') as fp:\n",
    "    json.dump(ml_stations, fp)"
   ]
  },
  {
   "cell_type": "code",
   "execution_count": 23,
   "metadata": {
    "collapsed": false
   },
   "outputs": [
    {
     "name": "stdout",
     "output_type": "stream",
     "text": [
      "Opened /Users/monkey/Repositories/DSE/jduclos/capstone/data/shape/tl_2010_06_zcta510/tl_2010_06_zcta510.shp\n",
      "Number of features in tl_2010_06_zcta510.shp: 1769\n",
      "STATEFP10\n",
      "ZCTA5CE10\n",
      "GEOID10\n",
      "CLASSFP10\n",
      "MTFCC10\n",
      "FUNCSTAT10\n",
      "ALAND10\n",
      "AWATER10\n",
      "INTPTLAT10\n",
      "INTPTLON10\n",
      "PARTFLG10\n"
     ]
    }
   ],
   "source": [
    "with open(json_filename, 'r') as fp:\n",
    "    d = json.load(fp)\n",
    "\n",
    "shapeFile = shapefile_zcta510\n",
    "\n",
    "driver = ogr.GetDriverByName('ESRI Shapefile')\n",
    "\n",
    "dataSource = driver.Open(shapeFile, 0) # 0 means read-only. 1 means writeable.\n",
    "\n",
    "# Check to see if shapefile is found.\n",
    "if dataSource is None:\n",
    "    print 'Could not open %s' % (shapeFile)\n",
    "else:\n",
    "    print 'Opened %s' % (shapeFile)\n",
    "    layer = dataSource.GetLayer()\n",
    "    featureCount = layer.GetFeatureCount()\n",
    "    print \"Number of features in %s: %d\" % (os.path.basename(shapeFile),featureCount)\n",
    "    \n",
    "layerDefinition = layer.GetLayerDefn()\n",
    "\n",
    "for i in range(layerDefinition.GetFieldCount()):\n",
    "    print layerDefinition.GetFieldDefn(i).GetName()\n",
    "    \n",
    "geo_ref = layer.GetSpatialRef()\n",
    "point_ref=ogr.osr.SpatialReference()\n",
    "point_ref.ImportFromEPSG(4326)\n",
    "ctran=ogr.osr.CoordinateTransformation(point_ref,geo_ref)\n",
    "\n",
    "layer.ResetReading() #Read the layer from the beginning again\n",
    "\n",
    "# Define a function that given a latitude & longitude, returns is associated zip code\n",
    "# Lookup is via a U.S. Census TIGER/Line shapefile\n",
    "def getZip(lon, lat):\n",
    "    #Transform incoming longitude/latitude to the shapefile's projection\n",
    "    [lon,lat,z]=ctran.TransformPoint(lon,lat,0.0)\n",
    "\n",
    "    #Create a point\n",
    "    pt = ogr.Geometry(ogr.wkbPoint)\n",
    "    pt.SetPoint_2D(0, lon, lat)\n",
    "\n",
    "    #Set up a spatial filter such that the only features we see when we\n",
    "    #loop through \"lyr_in\" are those which overlap the point defined above\n",
    "    layer.SetSpatialFilter(pt)\n",
    "\n",
    "    # overlapped feature\n",
    "    for feat_in in layer:\n",
    "        # Assuming there's only one overlapping feature\n",
    "        #return feat_in\n",
    "        return feat_in.GetField(\"ZCTA5CE10\")\n",
    "    \n",
    "    return None"
   ]
  },
  {
   "cell_type": "code",
   "execution_count": 24,
   "metadata": {
    "collapsed": false
   },
   "outputs": [
    {
     "name": "stdout",
     "output_type": "stream",
     "text": [
      "92124\n"
     ]
    }
   ],
   "source": [
    "zip = getZip(-117.104,32.82)\n",
    "print zip"
   ]
  },
  {
   "cell_type": "code",
   "execution_count": 111,
   "metadata": {
    "collapsed": false
   },
   "outputs": [
    {
     "name": "stdout",
     "output_type": "stream",
     "text": [
      "caught this error: KeyError('latitude',)\n",
      "caught this error: KeyError('latitude',)\n",
      "caught this error: KeyError('latitude',)\n",
      "1000\n",
      "caught this error: KeyError('latitude',)\n",
      "caught this error: KeyError('latitude',)\n",
      "caught this error: KeyError('latitude',)\n",
      "caught this error: KeyError('latitude',)\n",
      "2000\n",
      "caught this error: KeyError('latitude',)\n",
      "3000\n",
      "4000\n",
      "caught this error: KeyError('latitude',)\n",
      "5000\n",
      "caught this error: KeyError('latitude',)\n",
      "6000\n",
      "7000\n",
      "caught this error: KeyError('latitude',)\n",
      "8000\n",
      "caught this error: KeyError('latitude',)\n",
      "9000\n",
      "10000\n",
      "caught this error: KeyError('latitude',)\n",
      "caught this error: KeyError('latitude',)\n"
     ]
    }
   ],
   "source": [
    "i = 0\n",
    "for station in d:\n",
    "    try: \n",
    "        lat = station['latitude']\n",
    "        lon = station['longitude']\n",
    "        \n",
    "        zipcode = getZip(lon, lat)\n",
    "        \n",
    "        if zipcode:\n",
    "            station['zip'] = zipcode\n",
    "            \n",
    "    except Exception as error:\n",
    "        # Not all stations have a reported lat/lon\n",
    "        print('caught this error: ' + repr(error))\n",
    "        continue\n",
    "    i = i + 1\n",
    "    if i % 1000 == 0:\n",
    "        print i"
   ]
  },
  {
   "cell_type": "code",
   "execution_count": 112,
   "metadata": {
    "collapsed": true
   },
   "outputs": [],
   "source": [
    "json_filename = \"station_meta_ML2.json\"\n",
    "with open(json_filename, 'w') as fp:\n",
    "    json.dump(d, fp)"
   ]
  },
  {
   "cell_type": "code",
   "execution_count": 26,
   "metadata": {
    "collapsed": true
   },
   "outputs": [],
   "source": [
    "station_df = pd.read_json(json_filename)"
   ]
  },
  {
   "cell_type": "code",
   "execution_count": 27,
   "metadata": {
    "collapsed": false
   },
   "outputs": [
    {
     "data": {
      "text/html": [
       "<div>\n",
       "<table border=\"1\" class=\"dataframe\">\n",
       "  <thead>\n",
       "    <tr style=\"text-align: right;\">\n",
       "      <th></th>\n",
       "      <th>direction</th>\n",
       "      <th>district</th>\n",
       "      <th>freeway</th>\n",
       "      <th>latitude</th>\n",
       "      <th>longitude</th>\n",
       "      <th>name</th>\n",
       "      <th>station</th>\n",
       "      <th>urban</th>\n",
       "      <th>zip</th>\n",
       "    </tr>\n",
       "  </thead>\n",
       "  <tbody>\n",
       "    <tr>\n",
       "      <th>0</th>\n",
       "      <td>1</td>\n",
       "      <td>8</td>\n",
       "      <td>215</td>\n",
       "      <td>33.785651</td>\n",
       "      <td>-117.218642</td>\n",
       "      <td>RTE 74/4th SEP N/O</td>\n",
       "      <td>819200</td>\n",
       "      <td>1.0</td>\n",
       "      <td>92570.0</td>\n",
       "    </tr>\n",
       "    <tr>\n",
       "      <th>1</th>\n",
       "      <td>2</td>\n",
       "      <td>8</td>\n",
       "      <td>215</td>\n",
       "      <td>33.785554</td>\n",
       "      <td>-117.218747</td>\n",
       "      <td>RTE 74/4th SEP N/O</td>\n",
       "      <td>819201</td>\n",
       "      <td>1.0</td>\n",
       "      <td>92570.0</td>\n",
       "    </tr>\n",
       "    <tr>\n",
       "      <th>2</th>\n",
       "      <td>1</td>\n",
       "      <td>10</td>\n",
       "      <td>5</td>\n",
       "      <td>37.767234</td>\n",
       "      <td>-121.331393</td>\n",
       "      <td>S/O Jct Rte EB 205</td>\n",
       "      <td>1015810</td>\n",
       "      <td>0.0</td>\n",
       "      <td>95304.0</td>\n",
       "    </tr>\n",
       "    <tr>\n",
       "      <th>3</th>\n",
       "      <td>1</td>\n",
       "      <td>8</td>\n",
       "      <td>215</td>\n",
       "      <td>33.782061</td>\n",
       "      <td>-117.213169</td>\n",
       "      <td>RTE 74/4th SEP S/O</td>\n",
       "      <td>819203</td>\n",
       "      <td>0.0</td>\n",
       "      <td>92570.0</td>\n",
       "    </tr>\n",
       "    <tr>\n",
       "      <th>4</th>\n",
       "      <td>1</td>\n",
       "      <td>8</td>\n",
       "      <td>215</td>\n",
       "      <td>33.889640</td>\n",
       "      <td>-117.270822</td>\n",
       "      <td>VAN BUREN BLVD</td>\n",
       "      <td>819204</td>\n",
       "      <td>0.0</td>\n",
       "      <td>92518.0</td>\n",
       "    </tr>\n",
       "  </tbody>\n",
       "</table>\n",
       "</div>"
      ],
      "text/plain": [
       "   direction  district  freeway   latitude   longitude                name  \\\n",
       "0          1         8      215  33.785651 -117.218642  RTE 74/4th SEP N/O   \n",
       "1          2         8      215  33.785554 -117.218747  RTE 74/4th SEP N/O   \n",
       "2          1        10        5  37.767234 -121.331393  S/O Jct Rte EB 205   \n",
       "3          1         8      215  33.782061 -117.213169  RTE 74/4th SEP S/O   \n",
       "4          1         8      215  33.889640 -117.270822      VAN BUREN BLVD   \n",
       "\n",
       "   station  urban      zip  \n",
       "0   819200    1.0  92570.0  \n",
       "1   819201    1.0  92570.0  \n",
       "2  1015810    0.0  95304.0  \n",
       "3   819203    0.0  92570.0  \n",
       "4   819204    0.0  92518.0  "
      ]
     },
     "execution_count": 27,
     "metadata": {},
     "output_type": "execute_result"
    }
   ],
   "source": [
    "station_df.head()"
   ]
  },
  {
   "cell_type": "code",
   "execution_count": 28,
   "metadata": {
    "collapsed": false
   },
   "outputs": [],
   "source": [
    "zipcode_density_df = pd.read_csv( popden_file )"
   ]
  },
  {
   "cell_type": "code",
   "execution_count": 29,
   "metadata": {
    "collapsed": false
   },
   "outputs": [
    {
     "data": {
      "text/html": [
       "<div>\n",
       "<table border=\"1\" class=\"dataframe\">\n",
       "  <thead>\n",
       "    <tr style=\"text-align: right;\">\n",
       "      <th></th>\n",
       "      <th>Zip/ZCTA</th>\n",
       "      <th>2010 Population</th>\n",
       "      <th>Land-Sq-Mi</th>\n",
       "      <th>Density Per Sq Mile</th>\n",
       "    </tr>\n",
       "  </thead>\n",
       "  <tbody>\n",
       "    <tr>\n",
       "      <th>0</th>\n",
       "      <td>601</td>\n",
       "      <td>0</td>\n",
       "      <td>64.348</td>\n",
       "      <td>0.0</td>\n",
       "    </tr>\n",
       "    <tr>\n",
       "      <th>1</th>\n",
       "      <td>602</td>\n",
       "      <td>0</td>\n",
       "      <td>30.613</td>\n",
       "      <td>0.0</td>\n",
       "    </tr>\n",
       "    <tr>\n",
       "      <th>2</th>\n",
       "      <td>603</td>\n",
       "      <td>0</td>\n",
       "      <td>31.616</td>\n",
       "      <td>0.0</td>\n",
       "    </tr>\n",
       "    <tr>\n",
       "      <th>3</th>\n",
       "      <td>606</td>\n",
       "      <td>0</td>\n",
       "      <td>42.309</td>\n",
       "      <td>0.0</td>\n",
       "    </tr>\n",
       "    <tr>\n",
       "      <th>4</th>\n",
       "      <td>610</td>\n",
       "      <td>0</td>\n",
       "      <td>35.916</td>\n",
       "      <td>0.0</td>\n",
       "    </tr>\n",
       "  </tbody>\n",
       "</table>\n",
       "</div>"
      ],
      "text/plain": [
       "   Zip/ZCTA  2010 Population  Land-Sq-Mi  Density Per Sq Mile\n",
       "0       601                0      64.348                  0.0\n",
       "1       602                0      30.613                  0.0\n",
       "2       603                0      31.616                  0.0\n",
       "3       606                0      42.309                  0.0\n",
       "4       610                0      35.916                  0.0"
      ]
     },
     "execution_count": 29,
     "metadata": {},
     "output_type": "execute_result"
    }
   ],
   "source": [
    "zipcode_density_df.head()"
   ]
  },
  {
   "cell_type": "code",
   "execution_count": 118,
   "metadata": {
    "collapsed": false
   },
   "outputs": [],
   "source": [
    "merged_df = pd.merge(station_df, zipcode_density_df[['Zip/ZCTA','Density Per Sq Mile']], how='left', left_on='zip', right_on='Zip/ZCTA')\n",
    "merged_df.drop(['Zip/ZCTA'], axis=1, inplace=True)"
   ]
  },
  {
   "cell_type": "code",
   "execution_count": 119,
   "metadata": {
    "collapsed": false
   },
   "outputs": [
    {
     "data": {
      "text/html": [
       "<div>\n",
       "<table border=\"1\" class=\"dataframe\">\n",
       "  <thead>\n",
       "    <tr style=\"text-align: right;\">\n",
       "      <th></th>\n",
       "      <th>direction</th>\n",
       "      <th>district</th>\n",
       "      <th>freeway</th>\n",
       "      <th>latitude</th>\n",
       "      <th>longitude</th>\n",
       "      <th>name</th>\n",
       "      <th>station</th>\n",
       "      <th>urban</th>\n",
       "      <th>zip</th>\n",
       "      <th>Density Per Sq Mile</th>\n",
       "    </tr>\n",
       "  </thead>\n",
       "  <tbody>\n",
       "    <tr>\n",
       "      <th>10628</th>\n",
       "      <td>1</td>\n",
       "      <td>8</td>\n",
       "      <td>215</td>\n",
       "      <td>34.117224</td>\n",
       "      <td>-117.302924</td>\n",
       "      <td>10th STREET</td>\n",
       "      <td>819195</td>\n",
       "      <td>1</td>\n",
       "      <td>92411</td>\n",
       "      <td>6412.426614</td>\n",
       "    </tr>\n",
       "    <tr>\n",
       "      <th>10629</th>\n",
       "      <td>3</td>\n",
       "      <td>11</td>\n",
       "      <td>52</td>\n",
       "      <td>32.845413</td>\n",
       "      <td>-117.209402</td>\n",
       "      <td>.6 M E/O REGENTS RD</td>\n",
       "      <td>1114108</td>\n",
       "      <td>1</td>\n",
       "      <td>92117</td>\n",
       "      <td>5841.147019</td>\n",
       "    </tr>\n",
       "    <tr>\n",
       "      <th>10630</th>\n",
       "      <td>1</td>\n",
       "      <td>8</td>\n",
       "      <td>215</td>\n",
       "      <td>34.149161</td>\n",
       "      <td>-117.321884</td>\n",
       "      <td>27th STREET</td>\n",
       "      <td>819197</td>\n",
       "      <td>1</td>\n",
       "      <td>92405</td>\n",
       "      <td>6109.394837</td>\n",
       "    </tr>\n",
       "    <tr>\n",
       "      <th>10631</th>\n",
       "      <td>1</td>\n",
       "      <td>12</td>\n",
       "      <td>261</td>\n",
       "      <td>33.766351</td>\n",
       "      <td>-117.758414</td>\n",
       "      <td>HANDY 1</td>\n",
       "      <td>1212414</td>\n",
       "      <td>1</td>\n",
       "      <td>92602</td>\n",
       "      <td>2190.079479</td>\n",
       "    </tr>\n",
       "    <tr>\n",
       "      <th>10632</th>\n",
       "      <td>2</td>\n",
       "      <td>12</td>\n",
       "      <td>261</td>\n",
       "      <td>33.766516</td>\n",
       "      <td>-117.758825</td>\n",
       "      <td>HANDY 1</td>\n",
       "      <td>1212415</td>\n",
       "      <td>1</td>\n",
       "      <td>92602</td>\n",
       "      <td>2190.079479</td>\n",
       "    </tr>\n",
       "  </tbody>\n",
       "</table>\n",
       "</div>"
      ],
      "text/plain": [
       "       direction  district  freeway   latitude   longitude  \\\n",
       "10628          1         8      215  34.117224 -117.302924   \n",
       "10629          3        11       52  32.845413 -117.209402   \n",
       "10630          1         8      215  34.149161 -117.321884   \n",
       "10631          1        12      261  33.766351 -117.758414   \n",
       "10632          2        12      261  33.766516 -117.758825   \n",
       "\n",
       "                      name  station  urban    zip  Density Per Sq Mile  \n",
       "10628          10th STREET   819195      1  92411          6412.426614  \n",
       "10629  .6 M E/O REGENTS RD  1114108      1  92117          5841.147019  \n",
       "10630          27th STREET   819197      1  92405          6109.394837  \n",
       "10631              HANDY 1  1212414      1  92602          2190.079479  \n",
       "10632              HANDY 1  1212415      1  92602          2190.079479  "
      ]
     },
     "execution_count": 119,
     "metadata": {},
     "output_type": "execute_result"
    }
   ],
   "source": [
    "merged_df.tail()"
   ]
  },
  {
   "cell_type": "code",
   "execution_count": 120,
   "metadata": {
    "collapsed": true
   },
   "outputs": [],
   "source": [
    "merged_df.to_json('station_meta_density.json')"
   ]
  },
  {
   "cell_type": "code",
   "execution_count": null,
   "metadata": {
    "collapsed": true
   },
   "outputs": [],
   "source": []
  }
 ],
 "metadata": {
  "anaconda-cloud": {},
  "kernelspec": {
   "display_name": "Python [default]",
   "language": "python",
   "name": "python2"
  },
  "language_info": {
   "codemirror_mode": {
    "name": "ipython",
    "version": 2
   },
   "file_extension": ".py",
   "mimetype": "text/x-python",
   "name": "python",
   "nbconvert_exporter": "python",
   "pygments_lexer": "ipython2",
   "version": "2.7.12"
  }
 },
 "nbformat": 4,
 "nbformat_minor": 0
}
