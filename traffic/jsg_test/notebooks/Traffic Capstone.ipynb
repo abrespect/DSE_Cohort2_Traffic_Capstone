{
 "cells": [
  {
   "cell_type": "code",
   "execution_count": 4,
   "metadata": {
    "collapsed": false,
    "scrolled": true
   },
   "outputs": [
    {
     "name": "stdout",
     "output_type": "stream",
     "text": [
      "Populating the interactive namespace from numpy and matplotlib\n"
     ]
    }
   ],
   "source": [
    "%pylab inline\n",
    "import pandas as pd\n",
    "from sklearn.decomposition import PCA\n",
    "from datetime import datetime"
   ]
  },
  {
   "cell_type": "markdown",
   "metadata": {},
   "source": [
    "The following workbook assumes that the PEMs data has already been split out using the CloverETL Workspace."
   ]
  },
  {
   "cell_type": "code",
   "execution_count": 5,
   "metadata": {
    "collapsed": false,
    "scrolled": true
   },
   "outputs": [
    {
     "name": "stdout",
     "output_type": "stream",
     "text": [
      "/Users/johngill/Documents/DSE/jgilliii/dse_capstone/traffic/jsg_test/data-out\n",
      "Lanes.csv              Observations.csv       Observations_pivot.csv Stations.csv\r\n"
     ]
    }
   ],
   "source": [
    "%cd ../data-out\n",
    "!ls"
   ]
  },
  {
   "cell_type": "markdown",
   "metadata": {},
   "source": [
    "## Read in Stations and Observations"
   ]
  },
  {
   "cell_type": "code",
   "execution_count": 6,
   "metadata": {
    "collapsed": false
   },
   "outputs": [],
   "source": [
    "stat = pd.read_csv('Stations.csv',quotechar='\"')\n",
    "obso = pd.read_csv('Observations.csv',parse_dates=True, infer_datetime_format=True)"
   ]
  },
  {
   "cell_type": "code",
   "execution_count": 7,
   "metadata": {
    "collapsed": false
   },
   "outputs": [
    {
     "data": {
      "text/html": [
       "<div>\n",
       "<table border=\"1\" class=\"dataframe\">\n",
       "  <thead>\n",
       "    <tr style=\"text-align: right;\">\n",
       "      <th></th>\n",
       "      <th>ID</th>\n",
       "      <th>Timestamp</th>\n",
       "      <th>Station</th>\n",
       "      <th>Samples</th>\n",
       "      <th>% Observed</th>\n",
       "      <th>Total Flow</th>\n",
       "      <th>Avg Occupancy</th>\n",
       "      <th>Avg Speed</th>\n",
       "    </tr>\n",
       "  </thead>\n",
       "  <tbody>\n",
       "    <tr>\n",
       "      <th>0</th>\n",
       "      <td>1</td>\n",
       "      <td>03/10/2013 00:00:00</td>\n",
       "      <td>1100310</td>\n",
       "      <td>0</td>\n",
       "      <td>0</td>\n",
       "      <td>0</td>\n",
       "      <td>0</td>\n",
       "      <td>0</td>\n",
       "    </tr>\n",
       "    <tr>\n",
       "      <th>1</th>\n",
       "      <td>2</td>\n",
       "      <td>03/10/2013 00:00:00</td>\n",
       "      <td>1100313</td>\n",
       "      <td>10</td>\n",
       "      <td>100</td>\n",
       "      <td>14</td>\n",
       "      <td>0</td>\n",
       "      <td>0</td>\n",
       "    </tr>\n",
       "    <tr>\n",
       "      <th>2</th>\n",
       "      <td>3</td>\n",
       "      <td>03/10/2013 00:00:00</td>\n",
       "      <td>1100323</td>\n",
       "      <td>20</td>\n",
       "      <td>0</td>\n",
       "      <td>0</td>\n",
       "      <td>0</td>\n",
       "      <td>0</td>\n",
       "    </tr>\n",
       "    <tr>\n",
       "      <th>3</th>\n",
       "      <td>4</td>\n",
       "      <td>03/10/2013 00:00:00</td>\n",
       "      <td>1100326</td>\n",
       "      <td>20</td>\n",
       "      <td>100</td>\n",
       "      <td>11</td>\n",
       "      <td>0</td>\n",
       "      <td>0</td>\n",
       "    </tr>\n",
       "    <tr>\n",
       "      <th>4</th>\n",
       "      <td>5</td>\n",
       "      <td>03/10/2013 00:00:00</td>\n",
       "      <td>1100330</td>\n",
       "      <td>20</td>\n",
       "      <td>100</td>\n",
       "      <td>9</td>\n",
       "      <td>0</td>\n",
       "      <td>0</td>\n",
       "    </tr>\n",
       "  </tbody>\n",
       "</table>\n",
       "</div>"
      ],
      "text/plain": [
       "   ID            Timestamp  Station  Samples  % Observed  Total Flow  \\\n",
       "0   1  03/10/2013 00:00:00  1100310        0           0           0   \n",
       "1   2  03/10/2013 00:00:00  1100313       10         100          14   \n",
       "2   3  03/10/2013 00:00:00  1100323       20           0           0   \n",
       "3   4  03/10/2013 00:00:00  1100326       20         100          11   \n",
       "4   5  03/10/2013 00:00:00  1100330       20         100           9   \n",
       "\n",
       "   Avg Occupancy  Avg Speed  \n",
       "0              0          0  \n",
       "1              0          0  \n",
       "2              0          0  \n",
       "3              0          0  \n",
       "4              0          0  "
      ]
     },
     "execution_count": 7,
     "metadata": {},
     "output_type": "execute_result"
    }
   ],
   "source": [
    "obso.head()"
   ]
  },
  {
   "cell_type": "code",
   "execution_count": 8,
   "metadata": {
    "collapsed": false
   },
   "outputs": [
    {
     "data": {
      "text/plain": [
       "(2573136, 8)"
      ]
     },
     "execution_count": 8,
     "metadata": {},
     "output_type": "execute_result"
    }
   ],
   "source": [
    "obso.shape"
   ]
  },
  {
   "cell_type": "code",
   "execution_count": 9,
   "metadata": {
    "collapsed": false,
    "scrolled": false
   },
   "outputs": [
    {
     "data": {
      "text/html": [
       "<div>\n",
       "<table border=\"1\" class=\"dataframe\">\n",
       "  <thead>\n",
       "    <tr style=\"text-align: right;\">\n",
       "      <th></th>\n",
       "      <th>Station</th>\n",
       "      <th>Samples</th>\n",
       "      <th>% Observed</th>\n",
       "      <th>Total Flow</th>\n",
       "      <th>Avg Occupancy</th>\n",
       "      <th>Avg Speed</th>\n",
       "      <th>Year</th>\n",
       "      <th>Day_Of_Year</th>\n",
       "      <th>Time</th>\n",
       "    </tr>\n",
       "  </thead>\n",
       "  <tbody>\n",
       "    <tr>\n",
       "      <th>0</th>\n",
       "      <td>1100310</td>\n",
       "      <td>0</td>\n",
       "      <td>0</td>\n",
       "      <td>0</td>\n",
       "      <td>0</td>\n",
       "      <td>0</td>\n",
       "      <td>2013</td>\n",
       "      <td>69</td>\n",
       "      <td>00:00:00</td>\n",
       "    </tr>\n",
       "    <tr>\n",
       "      <th>1</th>\n",
       "      <td>1100313</td>\n",
       "      <td>10</td>\n",
       "      <td>100</td>\n",
       "      <td>14</td>\n",
       "      <td>0</td>\n",
       "      <td>0</td>\n",
       "      <td>2013</td>\n",
       "      <td>69</td>\n",
       "      <td>00:00:00</td>\n",
       "    </tr>\n",
       "    <tr>\n",
       "      <th>2</th>\n",
       "      <td>1100323</td>\n",
       "      <td>20</td>\n",
       "      <td>0</td>\n",
       "      <td>0</td>\n",
       "      <td>0</td>\n",
       "      <td>0</td>\n",
       "      <td>2013</td>\n",
       "      <td>69</td>\n",
       "      <td>00:00:00</td>\n",
       "    </tr>\n",
       "    <tr>\n",
       "      <th>3</th>\n",
       "      <td>1100326</td>\n",
       "      <td>20</td>\n",
       "      <td>100</td>\n",
       "      <td>11</td>\n",
       "      <td>0</td>\n",
       "      <td>0</td>\n",
       "      <td>2013</td>\n",
       "      <td>69</td>\n",
       "      <td>00:00:00</td>\n",
       "    </tr>\n",
       "    <tr>\n",
       "      <th>4</th>\n",
       "      <td>1100330</td>\n",
       "      <td>20</td>\n",
       "      <td>100</td>\n",
       "      <td>9</td>\n",
       "      <td>0</td>\n",
       "      <td>0</td>\n",
       "      <td>2013</td>\n",
       "      <td>69</td>\n",
       "      <td>00:00:00</td>\n",
       "    </tr>\n",
       "  </tbody>\n",
       "</table>\n",
       "</div>"
      ],
      "text/plain": [
       "   Station  Samples  % Observed  Total Flow  Avg Occupancy  Avg Speed  Year  \\\n",
       "0  1100310        0           0           0              0          0  2013   \n",
       "1  1100313       10         100          14              0          0  2013   \n",
       "2  1100323       20           0           0              0          0  2013   \n",
       "3  1100326       20         100          11              0          0  2013   \n",
       "4  1100330       20         100           9              0          0  2013   \n",
       "\n",
       "   Day_Of_Year      Time  \n",
       "0           69  00:00:00  \n",
       "1           69  00:00:00  \n",
       "2           69  00:00:00  \n",
       "3           69  00:00:00  \n",
       "4           69  00:00:00  "
      ]
     },
     "execution_count": 9,
     "metadata": {},
     "output_type": "execute_result"
    }
   ],
   "source": [
    "temp = pd.DatetimeIndex(obso['Timestamp'])\n",
    "obso['Year'] = temp.year\n",
    "obso['Day_Of_Year'] = temp.dayofy ear\n",
    "obso['Time'] = temp.time\n",
    "del obso['Timestamp']\n",
    "del obso['ID']\n",
    "\n",
    "obso.head()"
   ]
  },
  {
   "cell_type": "markdown",
   "metadata": {},
   "source": [
    "Need to get data into a format such that a single row is for a single station in some time period:\n",
    "I.E.:\n",
    "\n",
    "             t0 | t1 | t2 | t3 | t4 | ... | tn\n",
    "StationX_dN"
   ]
  },
  {
   "cell_type": "code",
   "execution_count": 18,
   "metadata": {
    "collapsed": false
   },
   "outputs": [
    {
     "data": {
      "text/plain": [
       "(2573136, 9)"
      ]
     },
     "execution_count": 18,
     "metadata": {},
     "output_type": "execute_result"
    }
   ],
   "source": [
    "obso.shape"
   ]
  },
  {
   "cell_type": "code",
   "execution_count": 13,
   "metadata": {
    "collapsed": false
   },
   "outputs": [],
   "source": [
    "obso_pvt = obso.pivot_table(index=['Station','Year','Day_Of_Year'],columns='Time')"
   ]
  },
  {
   "cell_type": "code",
   "execution_count": 14,
   "metadata": {
    "collapsed": false
   },
   "outputs": [
    {
     "data": {
      "text/html": [
       "<div>\n",
       "<table border=\"1\" class=\"dataframe\">\n",
       "  <thead>\n",
       "    <tr>\n",
       "      <th></th>\n",
       "      <th></th>\n",
       "      <th></th>\n",
       "      <th colspan=\"10\" halign=\"left\">Samples</th>\n",
       "      <th>...</th>\n",
       "      <th colspan=\"10\" halign=\"left\">Avg Speed</th>\n",
       "    </tr>\n",
       "    <tr>\n",
       "      <th></th>\n",
       "      <th></th>\n",
       "      <th>Time</th>\n",
       "      <th>00:00:00</th>\n",
       "      <th>00:05:00</th>\n",
       "      <th>00:10:00</th>\n",
       "      <th>00:15:00</th>\n",
       "      <th>00:20:00</th>\n",
       "      <th>00:25:00</th>\n",
       "      <th>00:30:00</th>\n",
       "      <th>00:35:00</th>\n",
       "      <th>00:40:00</th>\n",
       "      <th>00:45:00</th>\n",
       "      <th>...</th>\n",
       "      <th>23:10:00</th>\n",
       "      <th>23:15:00</th>\n",
       "      <th>23:20:00</th>\n",
       "      <th>23:25:00</th>\n",
       "      <th>23:30:00</th>\n",
       "      <th>23:35:00</th>\n",
       "      <th>23:40:00</th>\n",
       "      <th>23:45:00</th>\n",
       "      <th>23:50:00</th>\n",
       "      <th>23:55:00</th>\n",
       "    </tr>\n",
       "    <tr>\n",
       "      <th>Station</th>\n",
       "      <th>Year</th>\n",
       "      <th>Day_Of_Year</th>\n",
       "      <th></th>\n",
       "      <th></th>\n",
       "      <th></th>\n",
       "      <th></th>\n",
       "      <th></th>\n",
       "      <th></th>\n",
       "      <th></th>\n",
       "      <th></th>\n",
       "      <th></th>\n",
       "      <th></th>\n",
       "      <th></th>\n",
       "      <th></th>\n",
       "      <th></th>\n",
       "      <th></th>\n",
       "      <th></th>\n",
       "      <th></th>\n",
       "      <th></th>\n",
       "      <th></th>\n",
       "      <th></th>\n",
       "      <th></th>\n",
       "      <th></th>\n",
       "    </tr>\n",
       "  </thead>\n",
       "  <tbody>\n",
       "    <tr>\n",
       "      <th rowspan=\"7\" valign=\"top\">1100310</th>\n",
       "      <th rowspan=\"7\" valign=\"top\">2013</th>\n",
       "      <th>69</th>\n",
       "      <td>0</td>\n",
       "      <td>0</td>\n",
       "      <td>0</td>\n",
       "      <td>0</td>\n",
       "      <td>0</td>\n",
       "      <td>0</td>\n",
       "      <td>0</td>\n",
       "      <td>0</td>\n",
       "      <td>0</td>\n",
       "      <td>0</td>\n",
       "      <td>...</td>\n",
       "      <td>0</td>\n",
       "      <td>0</td>\n",
       "      <td>0</td>\n",
       "      <td>0</td>\n",
       "      <td>0</td>\n",
       "      <td>0</td>\n",
       "      <td>0</td>\n",
       "      <td>0</td>\n",
       "      <td>0</td>\n",
       "      <td>0</td>\n",
       "    </tr>\n",
       "    <tr>\n",
       "      <th>70</th>\n",
       "      <td>20</td>\n",
       "      <td>20</td>\n",
       "      <td>20</td>\n",
       "      <td>20</td>\n",
       "      <td>20</td>\n",
       "      <td>20</td>\n",
       "      <td>20</td>\n",
       "      <td>20</td>\n",
       "      <td>20</td>\n",
       "      <td>20</td>\n",
       "      <td>...</td>\n",
       "      <td>0</td>\n",
       "      <td>0</td>\n",
       "      <td>0</td>\n",
       "      <td>0</td>\n",
       "      <td>0</td>\n",
       "      <td>0</td>\n",
       "      <td>0</td>\n",
       "      <td>0</td>\n",
       "      <td>0</td>\n",
       "      <td>0</td>\n",
       "    </tr>\n",
       "    <tr>\n",
       "      <th>71</th>\n",
       "      <td>0</td>\n",
       "      <td>0</td>\n",
       "      <td>0</td>\n",
       "      <td>0</td>\n",
       "      <td>0</td>\n",
       "      <td>0</td>\n",
       "      <td>0</td>\n",
       "      <td>0</td>\n",
       "      <td>0</td>\n",
       "      <td>0</td>\n",
       "      <td>...</td>\n",
       "      <td>0</td>\n",
       "      <td>0</td>\n",
       "      <td>0</td>\n",
       "      <td>0</td>\n",
       "      <td>0</td>\n",
       "      <td>0</td>\n",
       "      <td>0</td>\n",
       "      <td>0</td>\n",
       "      <td>0</td>\n",
       "      <td>0</td>\n",
       "    </tr>\n",
       "    <tr>\n",
       "      <th>72</th>\n",
       "      <td>20</td>\n",
       "      <td>20</td>\n",
       "      <td>20</td>\n",
       "      <td>20</td>\n",
       "      <td>20</td>\n",
       "      <td>20</td>\n",
       "      <td>20</td>\n",
       "      <td>20</td>\n",
       "      <td>20</td>\n",
       "      <td>20</td>\n",
       "      <td>...</td>\n",
       "      <td>0</td>\n",
       "      <td>0</td>\n",
       "      <td>0</td>\n",
       "      <td>0</td>\n",
       "      <td>0</td>\n",
       "      <td>0</td>\n",
       "      <td>0</td>\n",
       "      <td>0</td>\n",
       "      <td>0</td>\n",
       "      <td>0</td>\n",
       "    </tr>\n",
       "    <tr>\n",
       "      <th>73</th>\n",
       "      <td>0</td>\n",
       "      <td>0</td>\n",
       "      <td>0</td>\n",
       "      <td>0</td>\n",
       "      <td>0</td>\n",
       "      <td>0</td>\n",
       "      <td>0</td>\n",
       "      <td>0</td>\n",
       "      <td>0</td>\n",
       "      <td>0</td>\n",
       "      <td>...</td>\n",
       "      <td>0</td>\n",
       "      <td>0</td>\n",
       "      <td>0</td>\n",
       "      <td>0</td>\n",
       "      <td>0</td>\n",
       "      <td>0</td>\n",
       "      <td>0</td>\n",
       "      <td>0</td>\n",
       "      <td>0</td>\n",
       "      <td>0</td>\n",
       "    </tr>\n",
       "    <tr>\n",
       "      <th>74</th>\n",
       "      <td>0</td>\n",
       "      <td>0</td>\n",
       "      <td>0</td>\n",
       "      <td>0</td>\n",
       "      <td>0</td>\n",
       "      <td>0</td>\n",
       "      <td>0</td>\n",
       "      <td>0</td>\n",
       "      <td>0</td>\n",
       "      <td>0</td>\n",
       "      <td>...</td>\n",
       "      <td>0</td>\n",
       "      <td>0</td>\n",
       "      <td>0</td>\n",
       "      <td>0</td>\n",
       "      <td>0</td>\n",
       "      <td>0</td>\n",
       "      <td>0</td>\n",
       "      <td>0</td>\n",
       "      <td>0</td>\n",
       "      <td>0</td>\n",
       "    </tr>\n",
       "    <tr>\n",
       "      <th>75</th>\n",
       "      <td>0</td>\n",
       "      <td>0</td>\n",
       "      <td>0</td>\n",
       "      <td>0</td>\n",
       "      <td>0</td>\n",
       "      <td>0</td>\n",
       "      <td>0</td>\n",
       "      <td>0</td>\n",
       "      <td>0</td>\n",
       "      <td>0</td>\n",
       "      <td>...</td>\n",
       "      <td>0</td>\n",
       "      <td>0</td>\n",
       "      <td>0</td>\n",
       "      <td>0</td>\n",
       "      <td>0</td>\n",
       "      <td>0</td>\n",
       "      <td>0</td>\n",
       "      <td>0</td>\n",
       "      <td>0</td>\n",
       "      <td>0</td>\n",
       "    </tr>\n",
       "    <tr>\n",
       "      <th rowspan=\"3\" valign=\"top\">1100313</th>\n",
       "      <th rowspan=\"3\" valign=\"top\">2013</th>\n",
       "      <th>69</th>\n",
       "      <td>10</td>\n",
       "      <td>10</td>\n",
       "      <td>10</td>\n",
       "      <td>10</td>\n",
       "      <td>10</td>\n",
       "      <td>10</td>\n",
       "      <td>10</td>\n",
       "      <td>10</td>\n",
       "      <td>10</td>\n",
       "      <td>10</td>\n",
       "      <td>...</td>\n",
       "      <td>0</td>\n",
       "      <td>0</td>\n",
       "      <td>0</td>\n",
       "      <td>0</td>\n",
       "      <td>0</td>\n",
       "      <td>0</td>\n",
       "      <td>0</td>\n",
       "      <td>0</td>\n",
       "      <td>0</td>\n",
       "      <td>0</td>\n",
       "    </tr>\n",
       "    <tr>\n",
       "      <th>70</th>\n",
       "      <td>10</td>\n",
       "      <td>10</td>\n",
       "      <td>10</td>\n",
       "      <td>10</td>\n",
       "      <td>10</td>\n",
       "      <td>10</td>\n",
       "      <td>10</td>\n",
       "      <td>10</td>\n",
       "      <td>10</td>\n",
       "      <td>10</td>\n",
       "      <td>...</td>\n",
       "      <td>0</td>\n",
       "      <td>0</td>\n",
       "      <td>0</td>\n",
       "      <td>0</td>\n",
       "      <td>0</td>\n",
       "      <td>0</td>\n",
       "      <td>0</td>\n",
       "      <td>0</td>\n",
       "      <td>0</td>\n",
       "      <td>0</td>\n",
       "    </tr>\n",
       "    <tr>\n",
       "      <th>71</th>\n",
       "      <td>10</td>\n",
       "      <td>10</td>\n",
       "      <td>10</td>\n",
       "      <td>10</td>\n",
       "      <td>10</td>\n",
       "      <td>10</td>\n",
       "      <td>10</td>\n",
       "      <td>10</td>\n",
       "      <td>10</td>\n",
       "      <td>10</td>\n",
       "      <td>...</td>\n",
       "      <td>0</td>\n",
       "      <td>0</td>\n",
       "      <td>0</td>\n",
       "      <td>0</td>\n",
       "      <td>0</td>\n",
       "      <td>0</td>\n",
       "      <td>0</td>\n",
       "      <td>0</td>\n",
       "      <td>0</td>\n",
       "      <td>0</td>\n",
       "    </tr>\n",
       "  </tbody>\n",
       "</table>\n",
       "<p>10 rows × 1440 columns</p>\n",
       "</div>"
      ],
      "text/plain": [
       "                          Samples                                      \\\n",
       "Time                     00:00:00 00:05:00 00:10:00 00:15:00 00:20:00   \n",
       "Station Year Day_Of_Year                                                \n",
       "1100310 2013 69                 0        0        0        0        0   \n",
       "             70                20       20       20       20       20   \n",
       "             71                 0        0        0        0        0   \n",
       "             72                20       20       20       20       20   \n",
       "             73                 0        0        0        0        0   \n",
       "             74                 0        0        0        0        0   \n",
       "             75                 0        0        0        0        0   \n",
       "1100313 2013 69                10       10       10       10       10   \n",
       "             70                10       10       10       10       10   \n",
       "             71                10       10       10       10       10   \n",
       "\n",
       "                                                                       \\\n",
       "Time                     00:25:00 00:30:00 00:35:00 00:40:00 00:45:00   \n",
       "Station Year Day_Of_Year                                                \n",
       "1100310 2013 69                 0        0        0        0        0   \n",
       "             70                20       20       20       20       20   \n",
       "             71                 0        0        0        0        0   \n",
       "             72                20       20       20       20       20   \n",
       "             73                 0        0        0        0        0   \n",
       "             74                 0        0        0        0        0   \n",
       "             75                 0        0        0        0        0   \n",
       "1100313 2013 69                10       10       10       10       10   \n",
       "             70                10       10       10       10       10   \n",
       "             71                10       10       10       10       10   \n",
       "\n",
       "                           ...    Avg Speed                             \\\n",
       "Time                       ...     23:10:00 23:15:00 23:20:00 23:25:00   \n",
       "Station Year Day_Of_Year   ...                                           \n",
       "1100310 2013 69            ...            0        0        0        0   \n",
       "             70            ...            0        0        0        0   \n",
       "             71            ...            0        0        0        0   \n",
       "             72            ...            0        0        0        0   \n",
       "             73            ...            0        0        0        0   \n",
       "             74            ...            0        0        0        0   \n",
       "             75            ...            0        0        0        0   \n",
       "1100313 2013 69            ...            0        0        0        0   \n",
       "             70            ...            0        0        0        0   \n",
       "             71            ...            0        0        0        0   \n",
       "\n",
       "                                                                                \n",
       "Time                     23:30:00 23:35:00 23:40:00 23:45:00 23:50:00 23:55:00  \n",
       "Station Year Day_Of_Year                                                        \n",
       "1100310 2013 69                 0        0        0        0        0        0  \n",
       "             70                 0        0        0        0        0        0  \n",
       "             71                 0        0        0        0        0        0  \n",
       "             72                 0        0        0        0        0        0  \n",
       "             73                 0        0        0        0        0        0  \n",
       "             74                 0        0        0        0        0        0  \n",
       "             75                 0        0        0        0        0        0  \n",
       "1100313 2013 69                 0        0        0        0        0        0  \n",
       "             70                 0        0        0        0        0        0  \n",
       "             71                 0        0        0        0        0        0  \n",
       "\n",
       "[10 rows x 1440 columns]"
      ]
     },
     "execution_count": 14,
     "metadata": {},
     "output_type": "execute_result"
    }
   ],
   "source": [
    "obso_pvt.head(10)"
   ]
  },
  {
   "cell_type": "code",
   "execution_count": 15,
   "metadata": {
    "collapsed": false
   },
   "outputs": [
    {
     "data": {
      "text/plain": [
       "(8988, 1440)"
      ]
     },
     "execution_count": 15,
     "metadata": {},
     "output_type": "execute_result"
    }
   ],
   "source": [
    "obso_pvt.shape"
   ]
  },
  {
   "cell_type": "code",
   "execution_count": 16,
   "metadata": {
    "collapsed": true
   },
   "outputs": [],
   "source": [
    "obso_pvt.to_csv('Observations_pivot.csv',header=False)"
   ]
  },
  {
   "cell_type": "markdown",
   "metadata": {},
   "source": [
    "## List of 52 Eastbound Stations"
   ]
  },
  {
   "cell_type": "raw",
   "metadata": {
    "collapsed": false,
    "scrolled": false
   },
   "source": [
    "fwy_id = list(stat[(stat[\"Fwy\"] == 52) & (stat[\"Dir\"] == \"E\") & (-stat[\"Type\"].isin(['FR','OR','HV','FF']))].sort(['Abs_PM'])[\"ID\"])\n",
    "print len(fwy_id)\n",
    "stat[stat[\"ID\"].isin(fwy_id)].sort(['Abs_PM'])"
   ]
  },
  {
   "cell_type": "markdown",
   "metadata": {},
   "source": [
    "## Avg Speed vs Time for 52 East"
   ]
  },
  {
   "cell_type": "raw",
   "metadata": {
    "collapsed": false,
    "scrolled": false
   },
   "source": [
    "for fwy in fwy_id:\n",
    "    fig = obso[obso[\"Station\"] == fwy].plot(x='Timestamp', y='Avg Speed')\n",
    "    fig.set_title(str(stat[stat[\"ID\"] == fwy][\"Name\"]))\n",
    "    for l in fig.get_xticklabels():\n",
    "        l.set_rotation(45)"
   ]
  },
  {
   "cell_type": "code",
   "execution_count": null,
   "metadata": {
    "collapsed": true
   },
   "outputs": [],
   "source": []
  }
 ],
 "metadata": {
  "kernelspec": {
   "display_name": "Python 2",
   "language": "python",
   "name": "python2"
  },
  "language_info": {
   "codemirror_mode": {
    "name": "ipython",
    "version": 2
   },
   "file_extension": ".py",
   "mimetype": "text/x-python",
   "name": "python",
   "nbconvert_exporter": "python",
   "pygments_lexer": "ipython2",
   "version": "2.7.10"
  }
 },
 "nbformat": 4,
 "nbformat_minor": 0
}
