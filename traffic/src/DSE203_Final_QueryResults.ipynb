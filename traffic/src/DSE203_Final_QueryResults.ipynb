{
 "cells": [
  {
   "cell_type": "markdown",
   "metadata": {},
   "source": [
    "# Queries"
   ]
  },
  {
   "cell_type": "markdown",
   "metadata": {},
   "source": [
    "### NOTE: All queries made within the month of January 2010, in the San Diego geographic area\n",
    "1. What traffic station has the largest difference in average speed over the first two weeks of the month?\n",
    "2. How significant is the difference in traffic throughput on a rainy Monday vs a non-rainy Monday?\n",
    "3. Does trace amount of precipitation affect the number of CHP traffic incidents on a given day?  (Trace precipitation is defined as a weather station registering precipitation but less than the unit granularity of the sensor)\n",
    "4. Identify the top 5 freeways with respect to traffic speed.\n",
    "5. Is the traffic throughput of one freeway indicative of others?"
   ]
  },
  {
   "cell_type": "code",
   "execution_count": 6,
   "metadata": {
    "collapsed": false
   },
   "outputs": [],
   "source": [
    "import dbtemplate as dbt\n",
    "import numpy as np\n",
    "import pandas as pd\n",
    "import pickle\n",
    "import psycopg2 as pg\n",
    "import pandas.io.sql as psql\n",
    "from dbtemplate import StatementExecutorTemplateCallback\n",
    "from dbtemplate import StatementExecutorTemplate"
   ]
  },
  {
   "cell_type": "code",
   "execution_count": 2,
   "metadata": {
    "collapsed": false
   },
   "outputs": [
    {
     "name": "stdout",
     "output_type": "stream",
     "text": [
      "Populating the interactive namespace from numpy and matplotlib\n"
     ]
    }
   ],
   "source": [
    "%pylab inline"
   ]
  },
  {
   "cell_type": "code",
   "execution_count": 5,
   "metadata": {
    "collapsed": false
   },
   "outputs": [],
   "source": [
    "# login_info = {}\n",
    "# login_info['db_name'] = \n",
    "# login_info['username'] = \n",
    "# login_info['password'] = \n",
    "# login_info['hostname'] = \n",
    "# login_info['port'] = \n",
    "\n",
    "# with open('pg_login.pkl', 'w') as pfile:\n",
    "#     pickle.dump(login_info, pfile)"
   ]
  },
  {
   "cell_type": "code",
   "execution_count": 3,
   "metadata": {
    "collapsed": false
   },
   "outputs": [],
   "source": [
    "with open('pg_login.pkl') as pfile:\n",
    "    login_info = pickle.load(pfile)\n",
    "template = StatementExecutorTemplate(login_info['db_name'], login_info['username'], \n",
    "                                    login_info['password'], login_info['hostname'], login_info['port'])"
   ]
  },
  {
   "cell_type": "markdown",
   "metadata": {},
   "source": [
    "# Results"
   ]
  },
  {
   "cell_type": "markdown",
   "metadata": {},
   "source": [
    "## 1. What traffic station has the largest difference in average speed over the first two weeks of the month?"
   ]
  },
  {
   "cell_type": "code",
   "execution_count": 31,
   "metadata": {
    "collapsed": false
   },
   "outputs": [
    {
     "name": "stdout",
     "output_type": "stream",
     "text": [
      "pems_id                           1108491\n",
      "traffic_station_name    WB MIRA MESA BLVD\n",
      "week_one_avg_speed               63.32569\n",
      "week_two_avg_speed               67.39831\n",
      "delta                            4.072619\n",
      "Name: 59, dtype: object\n"
     ]
    }
   ],
   "source": [
    "class InternalWeekOneCallback(StatementExecutorTemplateCallback):\n",
    "    def _get_query(self):\n",
    "        query= \"\"\"\n",
    "        SELECT t.pems_id, t.name, avg(o.avg_speed) AS week_one_avg_speed\n",
    "        FROM traffic_station t\n",
    "        INNER JOIN observation o on t.id = o.station_id\n",
    "        WHERE o.time between '2010-01-01 00:00:00' AND '2010-01-07 23:59:59'\n",
    "        GROUP BY t.pems_id, t.name\n",
    "        HAVING avg(o.avg_speed) > 0\n",
    "        \"\"\"\n",
    "        return query\n",
    "    \n",
    "    def _map_row(self, row):\n",
    "        m_pems_id, m_traffic_station_name, week_one_avg_speed= row\n",
    "        return (m_pems_id, m_traffic_station_name, float(week_one_avg_speed))\n",
    "\n",
    "class InternalWeekTwoCallback(StatementExecutorTemplateCallback):\n",
    "    def _get_query(self):\n",
    "        query= \"\"\"\n",
    "        SELECT t.pems_id, t.name, avg(o.avg_speed) AS week_two_avg_speed\n",
    "        FROM traffic_station t\n",
    "        INNER JOIN observation o on t.id = o.station_id\n",
    "        WHERE o.time between '2010-01-08 00:00:00' and '2010-01-14 23:59:59'\n",
    "        GROUP BY t.pems_id, t.name\n",
    "        HAVING avg(o.avg_speed) > 0\n",
    "        \"\"\"\n",
    "        return query\n",
    "    \n",
    "    def _map_row(self, row):\n",
    "        m_pems_id, m_traffic_station_name, week_two_avg_speed= row\n",
    "        return (m_pems_id, m_traffic_station_name, float(week_two_avg_speed))\n",
    "\n",
    "week_one_callback= InternalWeekOneCallback()\n",
    "week_two_callback= InternalWeekTwoCallback()\n",
    "\n",
    "m_week_one_list= template.execute(week_one_callback)\n",
    "m_week_two_list= template.execute(week_two_callback)\n",
    "\n",
    "week_one_df= dbt.to_data_frame(m_week_one_list, ['pems_id', 'traffic_station_name', 'week_one_avg_speed'])\n",
    "week_two_df= dbt.to_data_frame(m_week_two_list, ['pems_id', 'traffic_station_name', 'week_two_avg_speed'])\n",
    "\n",
    "week_one_df['week_one_avg_speed'] = week_one_df['week_one_avg_speed'].astype(float)\n",
    "week_two_df['week_two_avg_speed'] = week_two_df['week_two_avg_speed'].astype(float)\n",
    "\n",
    "if week_one_df is None or week_two_df is None:\n",
    "    print \"No Results\"\n",
    "else:\n",
    "    m_working_df= pd.merge(week_one_df, week_two_df, on=['pems_id', 'traffic_station_name'])\n",
    "    m_working_df['delta']= m_working_df['week_two_avg_speed'] - m_working_df['week_one_avg_speed']\n",
    "    m_working_df.sort('delta', ascending=False, inplace=True)\n",
    "    m_result= m_working_df.iloc[0]\n",
    "    print m_result"
   ]
  },
  {
   "cell_type": "markdown",
   "metadata": {},
   "source": [
    "##### Traffic Station with the largest difference across the first two weeks of the month is WB MIRA MESA BLVD station"
   ]
  },
  {
   "cell_type": "markdown",
   "metadata": {},
   "source": [
    "## 2. How significant is the difference in traffic throughput on a rainy Monday vs a non-rainy Monday?"
   ]
  },
  {
   "cell_type": "code",
   "execution_count": 7,
   "metadata": {
    "collapsed": true
   },
   "outputs": [],
   "source": [
    "m_all_mondays= ['2010-01-04', '2010-01-11', '2010-01-18', '2010-01-25']"
   ]
  },
  {
   "cell_type": "code",
   "execution_count": 15,
   "metadata": {
    "collapsed": false
   },
   "outputs": [],
   "source": [
    "class InternalRainyDayCallback(StatementExecutorTemplateCallback):\n",
    "    \n",
    "    def __init__(self, all_mondays):\n",
    "        self.m_query_part= \"\"\n",
    "        i= 0significant is the difference in traffic throughput on a rainy Monday vs a non-rainy Monday\n",
    "        for d in all_mondays:\n",
    "            if i > 0:\n",
    "                self.m_query_part += ' or '\n",
    "            self.m_query_part += \"p.day = '\" + str(d) + \"'\"\n",
    "            i+=1\n",
    "        StatementExecutorTemplateCallback.__init__(self)\n",
    "        \n",
    "        \n",
    "    def _get_query(self):\n",
    "        query= \"\"\"\n",
    "        select p.station_id, p.day, p.amount\n",
    "        from precipitation_daily_total p\n",
    "        where p.amount > 0 and ({})\n",
    "        and p.station_id in (\n",
    "            select id\n",
    "            from weather_station\n",
    "            where ST_Distance(ST_GeographyFromText('SRID=4267;POINT(-117.168347 32.711404)'), Location) < 15 * 1852\n",
    "        )\n",
    "        \"\"\"\n",
    "        s= query.format(self.m_query_part)\n",
    "        return s\n",
    "    \n",
    "    def _map_row(self, row):\n",
    "        station_id, day, amount= row\n",
    "        return (station_id, day, float(amount))\n",
    "\n",
    "rainy_day_callback= InternalRainyDayCallback(m_all_mondays)\n",
    "\n",
    "rainy_day_list= template.execute(rainy_day_callback)\n",
    "rainy_day_df= dbt.to_data_frame(rainy_day_list, ['station_id', 'day', 'amount'])"
   ]
  },
  {
   "cell_type": "code",
   "execution_count": 16,
   "metadata": {
    "collapsed": false
   },
   "outputs": [
    {
     "data": {
      "text/html": [
       "<div>\n",
       "<table border=\"1\" class=\"dataframe\">\n",
       "  <thead>\n",
       "    <tr style=\"text-align: right;\">\n",
       "      <th></th>\n",
       "      <th>station_id</th>\n",
       "      <th>day</th>\n",
       "      <th>amount</th>\n",
       "    </tr>\n",
       "  </thead>\n",
       "  <tbody>\n",
       "    <tr>\n",
       "      <th>0</th>\n",
       "      <td>7740</td>\n",
       "      <td>2010-01-18</td>\n",
       "      <td>106</td>\n",
       "    </tr>\n",
       "  </tbody>\n",
       "</table>\n",
       "</div>"
      ],
      "text/plain": [
       "   station_id         day  amount\n",
       "0        7740  2010-01-18     106"
      ]
     },
     "execution_count": 16,
     "metadata": {},
     "output_type": "execute_result"
    }
   ],
   "source": [
    "rainy_day_df"
   ]
  },
  {
   "cell_type": "code",
   "execution_count": 17,
   "metadata": {
    "collapsed": false
   },
   "outputs": [
    {
     "name": "stdout",
     "output_type": "stream",
     "text": [
      "2010-01-18\n"
     ]
    }
   ],
   "source": [
    "m_rainy_days= rainy_day_df['day'].values.tolist()\n",
    "for d in m_rainy_days:\n",
    "    print str(d)"
   ]
  },
  {
   "cell_type": "code",
   "execution_count": 37,
   "metadata": {
    "collapsed": false
   },
   "outputs": [
    {
     "name": "stdout",
     "output_type": "stream",
     "text": [
      "rainy_day_avg_throughput= 113.602239918 v/5m\n",
      "throughput_per_day= 32717.4450964\n"
     ]
    }
   ],
   "source": [
    "class InternalRainyDayObservationCallback(StatementExecutorTemplateCallback):\n",
    "    def __init__(self, rainy_days):\n",
    "        self.m_query_part= \"\"\n",
    "        i= 0\n",
    "        for d in rainy_days:\n",
    "            if i > 0:\n",
    "                self.m_query_part += ' or '\n",
    "            self.m_query_part += \"date(time) = '\" + str(d) + \"'\"\n",
    "            i+=1\n",
    "        StatementExecutorTemplateCallback.__init__(self)\n",
    "    \n",
    "    def _get_query(self):\n",
    "        query= \"\"\"\n",
    "        select avg(total_flow) as avg_rainy_day_throughput\n",
    "        from observation\n",
    "        where\n",
    "        \"\"\"\n",
    "        query+= self.m_query_part\n",
    "        return query\n",
    "    \n",
    "    def _map_row(self, row):\n",
    "        avg_throughput= row[0]\n",
    "        return float(avg_throughput)\n",
    "\n",
    "rainy_day_obs_callback= InternalRainyDayObservationCallback(m_rainy_days)\n",
    "\n",
    "rainy_day_obs_list= template.execute(rainy_day_obs_callback)\n",
    "rainy_day_avg_throughput= rainy_day_obs_list[0]\n",
    "print \"rainy_day_avg_throughput=\", rainy_day_avg_throughput, \"v/5m\"\n",
    "\n",
    "throughput_per_day= rainy_day_avg_throughput * (12 * 24)\n",
    "print \"throughput_per_day=\", throughput_per_day"
   ]
  },
  {
   "cell_type": "code",
   "execution_count": 36,
   "metadata": {
    "collapsed": false
   },
   "outputs": [
    {
     "name": "stdout",
     "output_type": "stream",
     "text": [
      "non_rainy_day_avg_throughput= 141.788926919 v/5m\n",
      "throughput_per_day= 40835.2109528\n"
     ]
    }
   ],
   "source": [
    "class InternalNonRainyDayObservationCallback(StatementExecutorTemplateCallback):\n",
    "    def __init__(self, non_rainy_days):\n",
    "        self.m_query_part= \"\"\n",
    "        i= 0\n",
    "        for d in non_rainy_days:\n",
    "            if i > 0:\n",
    "                self.m_query_part += ' or '\n",
    "            self.m_query_part += \"date(time) = '\" + str(d) + \"'\"\n",
    "            i+=1\n",
    "        StatementExecutorTemplateCallback.__init__(self)\n",
    "    \n",
    "    def _get_query(self):\n",
    "        query= \"\"\"\n",
    "        select avg(total_flow) as avg_non_rainy_day_throughput\n",
    "        from observation\n",
    "        where\n",
    "        \"\"\"\n",
    "        query+= self.m_query_part\n",
    "        return query\n",
    "    \n",
    "    def _map_row(self, row):\n",
    "        avg_throughput= row[0]\n",
    "        return float(avg_throughput)\n",
    "\n",
    "non_rainy_days= set(m_all_mondays)\n",
    "for d2 in m_rainy_days:\n",
    "    d_str= str(d2)\n",
    "    if d_str in non_rainy_days:\n",
    "        non_rainy_days.remove(d_str)\n",
    "\n",
    "non_rainy_day_obs_callback= InternalNonRainyDayObservationCallback(non_rainy_days)\n",
    "\n",
    "non_rainy_day_obs_list= template.execute(non_rainy_day_obs_callback)\n",
    "non_rainy_day_avg_throughput= non_rainy_day_obs_list[0]\n",
    "print \"non_rainy_day_avg_throughput=\", non_rainy_day_avg_throughput, \"v/5m\"\n",
    "\n",
    "throughput_per_day= non_rainy_day_avg_throughput * (12 * 24)\n",
    "print \"throughput_per_day=\", throughput_per_day"
   ]
  },
  {
   "cell_type": "code",
   "execution_count": 35,
   "metadata": {
    "collapsed": false
   },
   "outputs": [
    {
     "name": "stdout",
     "output_type": "stream",
     "text": [
      "28.1866870013 vehciles/5m\n",
      "8117.76585638 vehicles/day\n"
     ]
    }
   ],
   "source": [
    "delta= non_rainy_day_avg_throughput - rainy_day_avg_throughput\n",
    "print delta, \"vehciles/5m\"\n",
    "\n",
    "delta_per_day= delta * (12 * 24)\n",
    "print delta_per_day, \"vehicles/day\""
   ]
  },
  {
   "cell_type": "markdown",
   "metadata": {},
   "source": [
    "##### The difference between a rainy Monday and a non-rainy Monday is significant, with an additional throughput of 8117.77 vehicles per day"
   ]
  },
  {
   "cell_type": "markdown",
   "metadata": {
    "collapsed": true
   },
   "source": [
    "## 3. Does trace amount of precipitation affect the number of CHP traffic incidents on a given day?  (Trace precipitation is defined as a weather station registering precipitation but less than the unit granularity of the sensor)"
   ]
  },
  {
   "cell_type": "code",
   "execution_count": 7,
   "metadata": {
    "collapsed": false
   },
   "outputs": [],
   "source": [
    "connection = pg.connect(dbname=login_info['db_name'], host=login_info['hostname'], user=login_info['username'], password=login_info['password'], port=login_info['port'])"
   ]
  },
  {
   "cell_type": "code",
   "execution_count": 8,
   "metadata": {
    "collapsed": false
   },
   "outputs": [
    {
     "data": {
      "image/png": "[encoded data removed]",
      "text/plain": [
       "<matplotlib.figure.Figure at 0x7fde5d6ee410>"
      ]
     },
     "metadata": {},
     "output_type": "display_data"
    }
   ],
   "source": [
    "# Number of CHP collision incidents during non-rainy week\n",
    "df_week1 = psql.read_sql(\"\"\"\n",
    "SELECT * \n",
    "FROM chp_inc_collision ci\n",
    "WHERE ci.time between '2010-01-04 00:00:00' AND '2010-01-08 23:59:59'\n",
    "\"\"\", connection)\n",
    "g = df_week1.groupby(df_week1['time'].dt.normalize())\n",
    "m_df = g.count()\n",
    "week1_df = m_df['id']\n",
    "\n",
    "# Number of CHP collision incidents during non-rainy week\n",
    "df_week2 = psql.read_sql(\"\"\"\n",
    "SELECT * \n",
    "FROM chp_inc_collision ci\n",
    "WHERE ci.time between '2010-01-11 00:00:00' AND '2010-01-15 23:59:59'\n",
    "\"\"\", connection)\n",
    "g = df_week2.groupby(df_week2['time'].dt.normalize())\n",
    "week2_df = g.count()['id']\n",
    "\n",
    "# Number of CHP collision incidents during rainy week\n",
    "df_week3 = psql.read_sql(\"\"\"\n",
    "SELECT *\n",
    "FROM chp_inc_collision ci\n",
    "WHERE ci.time between '2010-01-18 00:00:00' AND '2010-01-22 23:59:59'\n",
    "\"\"\", connection)\n",
    "g = df_week3.groupby(df_week3['time'].dt.normalize())\n",
    "week3_df = g.count()['id']\n",
    "\n",
    "# Visually compare number of CHP collisions 2 non-rainy weeks with a rainy week\n",
    "plt.plot(week1_df.index.dayofweek, week1_df, color = 'green', label=\"Jan 4-8\")\n",
    "plt.plot(week2_df.index.dayofweek, week2_df, color = 'blue', label=\"Jan 11-15\")\n",
    "plt.plot(week3_df.index.dayofweek, week3_df, color = 'red', label=\"Jan 18-22\")\n",
    "plt.ylim(ymin=0)\n",
    "plt.xticks([0,1,2,3,4], ['Mon','Tues','Wed', 'Thu','Fri'])\n",
    "plt.legend(loc=4)\n",
    "plt.title(\"Comparision of CHP Collision Incidents for 3 weeks\")\n",
    "plt.show()"
   ]
  },
  {
   "cell_type": "markdown",
   "metadata": {},
   "source": [
    "The figure above shows three separate weeks of CHP collision incidents. The weeks of Jan 4-8 and Jan 11-15 are no precipitation and look very similar. The red line corresponds to a week when there was a lot of rain. It is a little strange that the Wednesday of the rainy week recorded a signifantly less number of collisions than the other days of the week. The trace amount of precipitation occured on Jan 13 (Wed of blue line). As we can see, there a significant deviation from the rest of the week was not observed like the rainy week."
   ]
  },
  {
   "cell_type": "code",
   "execution_count": 9,
   "metadata": {
    "collapsed": false
   },
   "outputs": [
    {
     "data": {
      "image/png": "[encoded data removed]",
      "text/plain": [
       "<matplotlib.figure.Figure at 0x7fde915d0fd0>"
      ]
     },
     "metadata": {},
     "output_type": "display_data"
    }
   ],
   "source": [
    "# Number of CHP incidents during non-rainy week\n",
    "df_week1 = psql.read_sql(\"\"\"\n",
    "SELECT * \n",
    "FROM chp_inc ci\n",
    "WHERE ci.time between '2010-01-04 00:00:00' AND '2010-01-08 23:59:59'\n",
    "\"\"\", connection)\n",
    "g = df_week1.groupby(df_week1['time'].dt.normalize())\n",
    "m_df = g.count()\n",
    "week1_df = m_df['id']\n",
    "\n",
    "# Number of CHP incidents during non-rainy week\n",
    "df_week2 = psql.read_sql(\"\"\"\n",
    "SELECT * \n",
    "FROM chp_inc ci\n",
    "WHERE ci.time between '2010-01-11 00:00:00' AND '2010-01-15 23:59:59'\n",
    "\"\"\", connection)\n",
    "g = df_week2.groupby(df_week2['time'].dt.normalize())\n",
    "week2_df = g.count()['id']\n",
    "\n",
    "# Number of CHP collision incidents during rainy week\n",
    "df_week3 = psql.read_sql(\"\"\"\n",
    "SELECT *\n",
    "FROM chp_inc ci\n",
    "WHERE ci.time between '2010-01-18 00:00:00' AND '2010-01-22 23:59:59'\n",
    "\"\"\", connection)\n",
    "g = df_week3.groupby(df_week3['time'].dt.normalize())\n",
    "week3_df = g.count()['id']\n",
    "\n",
    "# Visually compare number of CHP collisions 2 non-rainy weeks with a rainy week\n",
    "plt.plot(week1_df.index.dayofweek, week1_df, color = 'green', label=\"Jan 4-8\")\n",
    "plt.plot(week2_df.index.dayofweek, week2_df, color = 'blue', label=\"Jan 11-15\")\n",
    "plt.plot(week3_df.index.dayofweek, week3_df, color = 'red', label=\"Jan 18-22\")\n",
    "plt.ylim(ymin=0)\n",
    "plt.xticks([0,1,2,3,4], ['Mon','Tues','Wed', 'Thu','Fri'])\n",
    "plt.legend(loc=4)\n",
    "plt.title(\"Comparision of Total CHP Incidents for 3 weeks\")\n",
    "plt.show()"
   ]
  },
  {
   "cell_type": "markdown",
   "metadata": {},
   "source": [
    "\n",
    "To get a comparison of CHP collision incidents to the total number of CHP incidents observed for the same three weeks, the figure above graphs the number of total CHP incidents for the same weeks as the previous figure. The figure shows what the CHP collision incidents show; trace amount of precipitation on Jan 13th is not significantly different than the sunny days."
   ]
  },
  {
   "cell_type": "markdown",
   "metadata": {},
   "source": [
    "## 4. Identify the top 5 freeways with respect to traffic speed."
   ]
  },
  {
   "cell_type": "code",
   "execution_count": 10,
   "metadata": {
    "collapsed": false
   },
   "outputs": [
    {
     "data": {
      "text/html": [
       "<div>\n",
       "<table border=\"1\" class=\"dataframe\">\n",
       "  <thead>\n",
       "    <tr style=\"text-align: right;\">\n",
       "      <th></th>\n",
       "      <th>num</th>\n",
       "      <th>direction</th>\n",
       "      <th>avg_speed</th>\n",
       "    </tr>\n",
       "  </thead>\n",
       "  <tbody>\n",
       "    <tr>\n",
       "      <th>0</th>\n",
       "      <td>163</td>\n",
       "      <td>S</td>\n",
       "      <td>67.203235</td>\n",
       "    </tr>\n",
       "    <tr>\n",
       "      <th>1</th>\n",
       "      <td>94</td>\n",
       "      <td>W</td>\n",
       "      <td>66.629726</td>\n",
       "    </tr>\n",
       "    <tr>\n",
       "      <th>2</th>\n",
       "      <td>805</td>\n",
       "      <td>N</td>\n",
       "      <td>66.242472</td>\n",
       "    </tr>\n",
       "    <tr>\n",
       "      <th>3</th>\n",
       "      <td>52</td>\n",
       "      <td>W</td>\n",
       "      <td>66.132773</td>\n",
       "    </tr>\n",
       "    <tr>\n",
       "      <th>4</th>\n",
       "      <td>8</td>\n",
       "      <td>W</td>\n",
       "      <td>65.970106</td>\n",
       "    </tr>\n",
       "  </tbody>\n",
       "</table>\n",
       "</div>"
      ],
      "text/plain": [
       "   num direction  avg_speed\n",
       "0  163         S  67.203235\n",
       "1   94         W  66.629726\n",
       "2  805         N  66.242472\n",
       "3   52         W  66.132773\n",
       "4    8         W  65.970106"
      ]
     },
     "execution_count": 10,
     "metadata": {},
     "output_type": "execute_result"
    }
   ],
   "source": [
    "df = psql.read_sql(\"\"\"\n",
    "SELECT f.num, f.direction, avg(o.avg_speed) AS avg_speed\n",
    "        FROM observation o, traffic_station t, freeways f\n",
    "        WHERE t.id = o.station_id AND\n",
    "            t.fwy_id = f.id AND\n",
    "            o.time between '2010-01-01' AND '2010-01-08' AND\n",
    "            extract(hour from o.time) BETWEEN 15 AND 19 AND\n",
    "            o.avg_speed > 0\n",
    "        GROUP BY f.num, f.direction \n",
    "        HAVING avg(o.avg_speed) > 0\n",
    "        ORDER BY avg_speed DESC\n",
    "        LIMIT 5\n",
    "\"\"\", connection)\n",
    "df"
   ]
  },
  {
   "cell_type": "markdown",
   "metadata": {},
   "source": [
    "For afternoon traffic (15:00 to 19:00), the 5 fastest freeways are show above. "
   ]
  },
  {
   "cell_type": "code",
   "execution_count": 11,
   "metadata": {
    "collapsed": false
   },
   "outputs": [
    {
     "data": {
      "text/html": [
       "<div>\n",
       "<table border=\"1\" class=\"dataframe\">\n",
       "  <thead>\n",
       "    <tr style=\"text-align: right;\">\n",
       "      <th></th>\n",
       "      <th>num</th>\n",
       "      <th>direction</th>\n",
       "      <th>avg_speed</th>\n",
       "    </tr>\n",
       "  </thead>\n",
       "  <tbody>\n",
       "    <tr>\n",
       "      <th>0</th>\n",
       "      <td>56</td>\n",
       "      <td>E</td>\n",
       "      <td>56.587540</td>\n",
       "    </tr>\n",
       "    <tr>\n",
       "      <th>1</th>\n",
       "      <td>78</td>\n",
       "      <td>E</td>\n",
       "      <td>61.036947</td>\n",
       "    </tr>\n",
       "    <tr>\n",
       "      <th>2</th>\n",
       "      <td>8</td>\n",
       "      <td>E</td>\n",
       "      <td>62.415730</td>\n",
       "    </tr>\n",
       "    <tr>\n",
       "      <th>3</th>\n",
       "      <td>805</td>\n",
       "      <td>S</td>\n",
       "      <td>62.736001</td>\n",
       "    </tr>\n",
       "    <tr>\n",
       "      <th>4</th>\n",
       "      <td>905</td>\n",
       "      <td>W</td>\n",
       "      <td>63.152857</td>\n",
       "    </tr>\n",
       "  </tbody>\n",
       "</table>\n",
       "</div>"
      ],
      "text/plain": [
       "   num direction  avg_speed\n",
       "0   56         E  56.587540\n",
       "1   78         E  61.036947\n",
       "2    8         E  62.415730\n",
       "3  805         S  62.736001\n",
       "4  905         W  63.152857"
      ]
     },
     "execution_count": 11,
     "metadata": {},
     "output_type": "execute_result"
    }
   ],
   "source": [
    "df = psql.read_sql(\"\"\"\n",
    "SELECT f.num, f.direction, avg(o.avg_speed) AS avg_speed\n",
    "        FROM observation o, traffic_station t, freeways f\n",
    "        WHERE t.id = o.station_id AND\n",
    "            t.fwy_id = f.id AND\n",
    "            o.time between '2010-01-01' AND '2010-01-08' AND\n",
    "            extract(hour from o.time) BETWEEN 15 AND 19 AND\n",
    "            o.avg_speed > 0\n",
    "        GROUP BY f.num, f.direction \n",
    "        HAVING avg(o.avg_speed) > 0\n",
    "        ORDER BY avg_speed ASC\n",
    "        LIMIT 5\n",
    "\"\"\", connection)\n",
    "df"
   ]
  },
  {
   "cell_type": "markdown",
   "metadata": {},
   "source": [
    "For afternoon traffic (15:00 to 19:00), the 5 slowest freeways are show above. "
   ]
  },
  {
   "cell_type": "code",
   "execution_count": 13,
   "metadata": {
    "collapsed": true
   },
   "outputs": [],
   "source": [
    "connection.close()"
   ]
  },
  {
   "cell_type": "code",
   "execution_count": null,
   "metadata": {
    "collapsed": true
   },
   "outputs": [],
   "source": []
  }
 ],
 "metadata": {
  "kernelspec": {
   "display_name": "Python 2",
   "language": "python",
   "name": "python2"
  },
  "language_info": {
   "codemirror_mode": {
    "name": "ipython",
    "version": 2
   },
   "file_extension": ".py",
   "mimetype": "text/x-python",
   "name": "python",
   "nbconvert_exporter": "python",
   "pygments_lexer": "ipython2",
   "version": "2.7.10"
  }
 },
 "nbformat": 4,
 "nbformat_minor": 0
}
