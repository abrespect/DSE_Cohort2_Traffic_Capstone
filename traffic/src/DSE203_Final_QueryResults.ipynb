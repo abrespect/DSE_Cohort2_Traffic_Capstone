{
 "cells": [
  {
   "cell_type": "markdown",
   "metadata": {},
   "source": [
    "# Queries"
   ]
  },
  {
   "cell_type": "markdown",
   "metadata": {},
   "source": [
    "### NOTE: All queries made within the month of January 2010, in the San Diego geographic area\n",
    "1. What traffic station has the largest difference in average speed over the first two weeks of the month?\n",
    "2. How significant is the difference in traffic throughput on a rainy Monday vs a non-rainy Monday?\n",
    "3. Does trace amount of precipitation affect the number of CHP traffic incidents on a given day?  (Trace precipitation is defined as a weather station registering precipitation but less than the unit granularity of the sensor)\n",
    "4. Identify the top 5 freeways with respect to traffic speed.\n",
    "5. Is the traffic throughput of one freeway indicative of others?"
   ]
  },
  {
   "cell_type": "code",
   "execution_count": 3,
   "metadata": {
    "collapsed": false
   },
   "outputs": [],
   "source": [
    "import dbtemplate as dbt\n",
    "import numpy as np\n",
    "import pandas as pd\n",
    "import pickle\n",
    "from dbtemplate import StatementExecutorTemplateCallback\n",
    "from dbtemplate import StatementExecutorTemplate"
   ]
  },
  {
   "cell_type": "code",
   "execution_count": 4,
   "metadata": {
    "collapsed": false
   },
   "outputs": [
    {
     "name": "stdout",
     "output_type": "stream",
     "text": [
      "Populating the interactive namespace from numpy and matplotlib\n"
     ]
    }
   ],
   "source": [
    "%pylab inline"
   ]
  },
  {
   "cell_type": "code",
   "execution_count": 5,
   "metadata": {
    "collapsed": false
   },
   "outputs": [],
   "source": [
    "# login_info = {}\n",
    "# login_info['db_name'] = \n",
    "# login_info['username'] = \n",
    "# login_info['password'] = \n",
    "# login_info['hostname'] = \n",
    "# login_info['port'] = \n",
    "\n",
    "# with open('pg_login.pkl', 'w') as pfile:\n",
    "#     pickle.dump(login_info, pfile)"
   ]
  },
  {
   "cell_type": "code",
   "execution_count": 6,
   "metadata": {
    "collapsed": false
   },
   "outputs": [],
   "source": [
    "with open('pg_login.pkl') as pfile:\n",
    "    login_info = pickle.load(pfile)\n",
    "template = StatementExecutorTemplate(login_info['db_name'], login_info['username'], \n",
    "                                    login_info['password'], login_info['hostname'], login_info['port'])"
   ]
  },
  {
   "cell_type": "markdown",
   "metadata": {},
   "source": [
    "# Results"
   ]
  },
  {
   "cell_type": "markdown",
   "metadata": {},
   "source": [
    "## 1. What traffic station has the largest difference in average speed over the first two weeks of the month?"
   ]
  },
  {
   "cell_type": "code",
   "execution_count": 31,
   "metadata": {
    "collapsed": false
   },
   "outputs": [
    {
     "name": "stdout",
     "output_type": "stream",
     "text": [
      "pems_id                           1108491\n",
      "traffic_station_name    WB MIRA MESA BLVD\n",
      "week_one_avg_speed               63.32569\n",
      "week_two_avg_speed               67.39831\n",
      "delta                            4.072619\n",
      "Name: 59, dtype: object\n"
     ]
    }
   ],
   "source": [
    "class InternalWeekOneCallback(StatementExecutorTemplateCallback):\n",
    "    def _get_query(self):\n",
    "        query= \"\"\"\n",
    "        SELECT t.pems_id, t.name, avg(o.avg_speed) AS week_one_avg_speed\n",
    "        FROM traffic_station t\n",
    "        INNER JOIN observation o on t.id = o.station_id\n",
    "        WHERE o.time between '2010-01-01 00:00:00' AND '2010-01-07 23:59:59'\n",
    "        GROUP BY t.pems_id, t.name\n",
    "        HAVING avg(o.avg_speed) > 0\n",
    "        \"\"\"\n",
    "        return query\n",
    "    \n",
    "    def _map_row(self, row):\n",
    "        m_pems_id, m_traffic_station_name, week_one_avg_speed= row\n",
    "        return (m_pems_id, m_traffic_station_name, float(week_one_avg_speed))\n",
    "\n",
    "class InternalWeekTwoCallback(StatementExecutorTemplateCallback):\n",
    "    def _get_query(self):\n",
    "        query= \"\"\"\n",
    "        SELECT t.pems_id, t.name, avg(o.avg_speed) AS week_two_avg_speed\n",
    "        FROM traffic_station t\n",
    "        INNER JOIN observation o on t.id = o.station_id\n",
    "        WHERE o.time between '2010-01-08 00:00:00' and '2010-01-14 23:59:59'\n",
    "        GROUP BY t.pems_id, t.name\n",
    "        HAVING avg(o.avg_speed) > 0\n",
    "        \"\"\"\n",
    "        return query\n",
    "    \n",
    "    def _map_row(self, row):\n",
    "        m_pems_id, m_traffic_station_name, week_two_avg_speed= row\n",
    "        return (m_pems_id, m_traffic_station_name, float(week_two_avg_speed))\n",
    "\n",
    "week_one_callback= InternalWeekOneCallback()\n",
    "week_two_callback= InternalWeekTwoCallback()\n",
    "\n",
    "m_week_one_list= template.execute(week_one_callback)\n",
    "m_week_two_list= template.execute(week_two_callback)\n",
    "\n",
    "week_one_df= dbt.to_data_frame(m_week_one_list, ['pems_id', 'traffic_station_name', 'week_one_avg_speed'])\n",
    "week_two_df= dbt.to_data_frame(m_week_two_list, ['pems_id', 'traffic_station_name', 'week_two_avg_speed'])\n",
    "\n",
    "week_one_df['week_one_avg_speed'] = week_one_df['week_one_avg_speed'].astype(float)\n",
    "week_two_df['week_two_avg_speed'] = week_two_df['week_two_avg_speed'].astype(float)\n",
    "\n",
    "if week_one_df is None or week_two_df is None:\n",
    "    print \"No Results\"\n",
    "else:\n",
    "    m_working_df= pd.merge(week_one_df, week_two_df, on=['pems_id', 'traffic_station_name'])\n",
    "    m_working_df['delta']= m_working_df['week_two_avg_speed'] - m_working_df['week_one_avg_speed']\n",
    "    m_working_df.sort('delta', ascending=False, inplace=True)\n",
    "    m_result= m_working_df.iloc[0]\n",
    "    print m_result"
   ]
  },
  {
   "cell_type": "markdown",
   "metadata": {},
   "source": [
    "##### Traffic Station with the largest difference across the first two weeks of the month is WB MIRA MESA BLVD station"
   ]
  },
  {
   "cell_type": "markdown",
   "metadata": {},
   "source": [
    "## 2. How significant is the difference in traffic throughput on a rainy Monday vs a non-rainy Monday?"
   ]
  },
  {
   "cell_type": "code",
   "execution_count": 7,
   "metadata": {
    "collapsed": true
   },
   "outputs": [],
   "source": [
    "m_all_mondays= ['2010-01-04', '2010-01-11', '2010-01-18', '2010-01-25']"
   ]
  },
  {
   "cell_type": "code",
   "execution_count": 15,
   "metadata": {
    "collapsed": false
   },
   "outputs": [],
   "source": [
    "class InternalRainyDayCallback(StatementExecutorTemplateCallback):\n",
    "    \n",
    "    def __init__(self, all_mondays):\n",
    "        self.m_query_part= \"\"\n",
    "        i= 0significant is the difference in traffic throughput on a rainy Monday vs a non-rainy Monday\n",
    "        for d in all_mondays:\n",
    "            if i > 0:\n",
    "                self.m_query_part += ' or '\n",
    "            self.m_query_part += \"p.day = '\" + str(d) + \"'\"\n",
    "            i+=1\n",
    "        StatementExecutorTemplateCallback.__init__(self)\n",
    "        \n",
    "        \n",
    "    def _get_query(self):\n",
    "        query= \"\"\"\n",
    "        select p.station_id, p.day, p.amount\n",
    "        from precipitation_daily_total p\n",
    "        where p.amount > 0 and ({})\n",
    "        and p.station_id in (\n",
    "            select id\n",
    "            from weather_station\n",
    "            where ST_Distance(ST_GeographyFromText('SRID=4267;POINT(-117.168347 32.711404)'), Location) < 15 * 1852\n",
    "        )\n",
    "        \"\"\"\n",
    "        s= query.format(self.m_query_part)\n",
    "        return s\n",
    "    \n",
    "    def _map_row(self, row):\n",
    "        station_id, day, amount= row\n",
    "        return (station_id, day, float(amount))\n",
    "\n",
    "rainy_day_callback= InternalRainyDayCallback(m_all_mondays)\n",
    "\n",
    "rainy_day_list= template.execute(rainy_day_callback)\n",
    "rainy_day_df= dbt.to_data_frame(rainy_day_list, ['station_id', 'day', 'amount'])"
   ]
  },
  {
   "cell_type": "code",
   "execution_count": 16,
   "metadata": {
    "collapsed": false
   },
   "outputs": [
    {
     "data": {
      "text/html": [
       "<div>\n",
       "<table border=\"1\" class=\"dataframe\">\n",
       "  <thead>\n",
       "    <tr style=\"text-align: right;\">\n",
       "      <th></th>\n",
       "      <th>station_id</th>\n",
       "      <th>day</th>\n",
       "      <th>amount</th>\n",
       "    </tr>\n",
       "  </thead>\n",
       "  <tbody>\n",
       "    <tr>\n",
       "      <th>0</th>\n",
       "      <td>7740</td>\n",
       "      <td>2010-01-18</td>\n",
       "      <td>106</td>\n",
       "    </tr>\n",
       "  </tbody>\n",
       "</table>\n",
       "</div>"
      ],
      "text/plain": [
       "   station_id         day  amount\n",
       "0        7740  2010-01-18     106"
      ]
     },
     "execution_count": 16,
     "metadata": {},
     "output_type": "execute_result"
    }
   ],
   "source": [
    "rainy_day_df"
   ]
  },
  {
   "cell_type": "code",
   "execution_count": 17,
   "metadata": {
    "collapsed": false
   },
   "outputs": [
    {
     "name": "stdout",
     "output_type": "stream",
     "text": [
      "2010-01-18\n"
     ]
    }
   ],
   "source": [
    "m_rainy_days= rainy_day_df['day'].values.tolist()\n",
    "for d in m_rainy_days:\n",
    "    print str(d)"
   ]
  },
  {
   "cell_type": "code",
   "execution_count": 37,
   "metadata": {
    "collapsed": false
   },
   "outputs": [
    {
     "name": "stdout",
     "output_type": "stream",
     "text": [
      "rainy_day_avg_throughput= 113.602239918 v/5m\n",
      "throughput_per_day= 32717.4450964\n"
     ]
    }
   ],
   "source": [
    "class InternalRainyDayObservationCallback(StatementExecutorTemplateCallback):\n",
    "    def __init__(self, rainy_days):\n",
    "        self.m_query_part= \"\"\n",
    "        i= 0\n",
    "        for d in rainy_days:\n",
    "            if i > 0:\n",
    "                self.m_query_part += ' or '\n",
    "            self.m_query_part += \"date(time) = '\" + str(d) + \"'\"\n",
    "            i+=1\n",
    "        StatementExecutorTemplateCallback.__init__(self)\n",
    "    \n",
    "    def _get_query(self):\n",
    "        query= \"\"\"\n",
    "        select avg(total_flow) as avg_rainy_day_throughput\n",
    "        from observation\n",
    "        where\n",
    "        \"\"\"\n",
    "        query+= self.m_query_part\n",
    "        return query\n",
    "    \n",
    "    def _map_row(self, row):\n",
    "        avg_throughput= row[0]\n",
    "        return float(avg_throughput)\n",
    "\n",
    "rainy_day_obs_callback= InternalRainyDayObservationCallback(m_rainy_days)\n",
    "\n",
    "rainy_day_obs_list= template.execute(rainy_day_obs_callback)\n",
    "rainy_day_avg_throughput= rainy_day_obs_list[0]\n",
    "print \"rainy_day_avg_throughput=\", rainy_day_avg_throughput, \"v/5m\"\n",
    "\n",
    "throughput_per_day= rainy_day_avg_throughput * (12 * 24)\n",
    "print \"throughput_per_day=\", throughput_per_day"
   ]
  },
  {
   "cell_type": "code",
   "execution_count": 36,
   "metadata": {
    "collapsed": false
   },
   "outputs": [
    {
     "name": "stdout",
     "output_type": "stream",
     "text": [
      "non_rainy_day_avg_throughput= 141.788926919 v/5m\n",
      "throughput_per_day= 40835.2109528\n"
     ]
    }
   ],
   "source": [
    "class InternalNonRainyDayObservationCallback(StatementExecutorTemplateCallback):\n",
    "    def __init__(self, non_rainy_days):\n",
    "        self.m_query_part= \"\"\n",
    "        i= 0\n",
    "        for d in non_rainy_days:\n",
    "            if i > 0:\n",
    "                self.m_query_part += ' or '\n",
    "            self.m_query_part += \"date(time) = '\" + str(d) + \"'\"\n",
    "            i+=1\n",
    "        StatementExecutorTemplateCallback.__init__(self)\n",
    "    \n",
    "    def _get_query(self):\n",
    "        query= \"\"\"\n",
    "        select avg(total_flow) as avg_non_rainy_day_throughput\n",
    "        from observation\n",
    "        where\n",
    "        \"\"\"\n",
    "        query+= self.m_query_part\n",
    "        return query\n",
    "    \n",
    "    def _map_row(self, row):\n",
    "        avg_throughput= row[0]\n",
    "        return float(avg_throughput)\n",
    "\n",
    "non_rainy_days= set(m_all_mondays)\n",
    "for d2 in m_rainy_days:\n",
    "    d_str= str(d2)\n",
    "    if d_str in non_rainy_days:\n",
    "        non_rainy_days.remove(d_str)\n",
    "\n",
    "non_rainy_day_obs_callback= InternalNonRainyDayObservationCallback(non_rainy_days)\n",
    "\n",
    "non_rainy_day_obs_list= template.execute(non_rainy_day_obs_callback)\n",
    "non_rainy_day_avg_throughput= non_rainy_day_obs_list[0]\n",
    "print \"non_rainy_day_avg_throughput=\", non_rainy_day_avg_throughput, \"v/5m\"\n",
    "\n",
    "throughput_per_day= non_rainy_day_avg_throughput * (12 * 24)\n",
    "print \"throughput_per_day=\", throughput_per_day"
   ]
  },
  {
   "cell_type": "code",
   "execution_count": 35,
   "metadata": {
    "collapsed": false
   },
   "outputs": [
    {
     "name": "stdout",
     "output_type": "stream",
     "text": [
      "28.1866870013 vehciles/5m\n",
      "8117.76585638 vehicles/day\n"
     ]
    }
   ],
   "source": [
    "delta= non_rainy_day_avg_throughput - rainy_day_avg_throughput\n",
    "print delta, \"vehciles/5m\"\n",
    "\n",
    "delta_per_day= delta * (12 * 24)\n",
    "print delta_per_day, \"vehicles/day\""
   ]
  },
  {
   "cell_type": "markdown",
   "metadata": {},
   "source": [
    "##### The difference between a rainy Monday and a non-rainy Monday is significant, with an additional throughput of 8117.77 vehicles per day"
   ]
  },
  {
   "cell_type": "code",
   "execution_count": null,
   "metadata": {
    "collapsed": true
   },
   "outputs": [],
   "source": []
  }
 ],
 "metadata": {
  "kernelspec": {
   "display_name": "Python 2",
   "language": "python",
   "name": "python2"
  },
  "language_info": {
   "codemirror_mode": {
    "name": "ipython",
    "version": 2
   },
   "file_extension": ".py",
   "mimetype": "text/x-python",
   "name": "python",
   "nbconvert_exporter": "python",
   "pygments_lexer": "ipython2",
   "version": "2.7.10"
  }
 },
 "nbformat": 4,
 "nbformat_minor": 0
}
