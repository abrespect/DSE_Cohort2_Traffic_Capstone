{
 "cells": [
  {
   "cell_type": "markdown",
   "metadata": {},
   "source": [
    "# Queries"
   ]
  },
  {
   "cell_type": "markdown",
   "metadata": {},
   "source": [
    "1. What traffic station has the largest difference in average speed over the first two weeks of September?\n",
    "2. How significant is the difference in traffic throughput on a rainy day vs a non-rainy day?\n",
    "3. Is there an increase in CHP traffic incidents throughout the day?\n",
    "4. Does trace amount of precipitation affect the number of CHP traffic incidents on a given day?  (Trace precipitation is defined as a weather station registering precipitation but less than the unit granularity of the sensor)\n",
    "5. Does weather have an effect on the severity of CHP incidents in a given day?\n",
    "6. Identify the top 5 freeways with respect to traffic throughput.\n",
    "7. Identify the top 5 freeways with respect to traffic speed.\n",
    "8. Is the traffic throughput of one freeway indicative of others?"
   ]
  },
  {
   "cell_type": "code",
   "execution_count": 5,
   "metadata": {
    "collapsed": true
   },
   "outputs": [],
   "source": [
    "import dbtemplate as dbt\n",
    "import numpy as np\n",
    "import pandas as pd\n",
    "from dbtemplate import StatementExecutorTemplateCallback\n",
    "from dbtemplate import StatementExecutorTemplate"
   ]
  },
  {
   "cell_type": "code",
   "execution_count": 6,
   "metadata": {
    "collapsed": false
   },
   "outputs": [
    {
     "name": "stdout",
     "output_type": "stream",
     "text": [
      "Populating the interactive namespace from numpy and matplotlib\n"
     ]
    }
   ],
   "source": [
    "%pylab inline"
   ]
  },
  {
   "cell_type": "code",
   "execution_count": 7,
   "metadata": {
    "collapsed": true
   },
   "outputs": [],
   "source": [
    "db_name = 'dyerke'\n",
    "username = 'dyerke'\n",
    "password = 'dyerke'\n",
    "hostname = 'localhost'\n",
    "port = 5432\n",
    "\n",
    "template = StatementExecutorTemplate(db_name, username, password, hostname, port)"
   ]
  },
  {
   "cell_type": "markdown",
   "metadata": {},
   "source": [
    "# Results"
   ]
  },
  {
   "cell_type": "markdown",
   "metadata": {},
   "source": [
    "1. What traffic station has the largest difference in average speed over the first two weeks of September?"
   ]
  },
  {
   "cell_type": "code",
   "execution_count": 8,
   "metadata": {
    "collapsed": false
   },
   "outputs": [
    {
     "data": {
      "text/html": [
       "<div>\n",
       "<table border=\"1\" class=\"dataframe\">\n",
       "  <thead>\n",
       "    <tr style=\"text-align: right;\">\n",
       "      <th></th>\n",
       "      <th>id</th>\n",
       "      <th>name</th>\n",
       "    </tr>\n",
       "  </thead>\n",
       "  <tbody>\n",
       "    <tr>\n",
       "      <th>0</th>\n",
       "      <td>1</td>\n",
       "      <td>Northwest</td>\n",
       "    </tr>\n",
       "    <tr>\n",
       "      <th>1</th>\n",
       "      <td>2</td>\n",
       "      <td>Northeast</td>\n",
       "    </tr>\n",
       "    <tr>\n",
       "      <th>2</th>\n",
       "      <td>3</td>\n",
       "      <td>North Central</td>\n",
       "    </tr>\n",
       "    <tr>\n",
       "      <th>3</th>\n",
       "      <td>4</td>\n",
       "      <td>Bay Area</td>\n",
       "    </tr>\n",
       "    <tr>\n",
       "      <th>4</th>\n",
       "      <td>5</td>\n",
       "      <td>Central Coast</td>\n",
       "    </tr>\n",
       "    <tr>\n",
       "      <th>5</th>\n",
       "      <td>6</td>\n",
       "      <td>South Central</td>\n",
       "    </tr>\n",
       "    <tr>\n",
       "      <th>6</th>\n",
       "      <td>7</td>\n",
       "      <td>LA/Ventura</td>\n",
       "    </tr>\n",
       "    <tr>\n",
       "      <th>7</th>\n",
       "      <td>8</td>\n",
       "      <td>San Bernardino/Riverside</td>\n",
       "    </tr>\n",
       "    <tr>\n",
       "      <th>8</th>\n",
       "      <td>9</td>\n",
       "      <td>Eastern Sierra</td>\n",
       "    </tr>\n",
       "    <tr>\n",
       "      <th>9</th>\n",
       "      <td>10</td>\n",
       "      <td>Central</td>\n",
       "    </tr>\n",
       "    <tr>\n",
       "      <th>10</th>\n",
       "      <td>11</td>\n",
       "      <td>San Diego/Imperial</td>\n",
       "    </tr>\n",
       "    <tr>\n",
       "      <th>11</th>\n",
       "      <td>12</td>\n",
       "      <td>Orange County</td>\n",
       "    </tr>\n",
       "  </tbody>\n",
       "</table>\n",
       "</div>"
      ],
      "text/plain": [
       "    id                      name\n",
       "0    1                 Northwest\n",
       "1    2                 Northeast\n",
       "2    3             North Central\n",
       "3    4                  Bay Area\n",
       "4    5             Central Coast\n",
       "5    6             South Central\n",
       "6    7                LA/Ventura\n",
       "7    8  San Bernardino/Riverside\n",
       "8    9            Eastern Sierra\n",
       "9   10                   Central\n",
       "10  11        San Diego/Imperial\n",
       "11  12             Orange County"
      ]
     },
     "execution_count": 8,
     "metadata": {},
     "output_type": "execute_result"
    }
   ],
   "source": [
    "class InternalCallback(StatementExecutorTemplateCallback):\n",
    "    def _get_query(self):\n",
    "        return \"select * from district\"\n",
    "    \n",
    "    def _map_row(self, row):\n",
    "        m_id, m_name= row\n",
    "        return (m_id, m_name)\n",
    "\n",
    "callback= InternalCallback()\n",
    "m_list= template.execute(callback)\n",
    "m_df= dbt.to_data_frame(m_list, ['id', 'name'])\n",
    "m_df"
   ]
  },
  {
   "cell_type": "code",
   "execution_count": null,
   "metadata": {
    "collapsed": true
   },
   "outputs": [],
   "source": []
  }
 ],
 "metadata": {
  "kernelspec": {
   "display_name": "Python 2",
   "language": "python",
   "name": "python2"
  },
  "language_info": {
   "codemirror_mode": {
    "name": "ipython",
    "version": 2
   },
   "file_extension": ".py",
   "mimetype": "text/x-python",
   "name": "python",
   "nbconvert_exporter": "python",
   "pygments_lexer": "ipython2",
   "version": "2.7.10"
  }
 },
 "nbformat": 4,
 "nbformat_minor": 0
}
