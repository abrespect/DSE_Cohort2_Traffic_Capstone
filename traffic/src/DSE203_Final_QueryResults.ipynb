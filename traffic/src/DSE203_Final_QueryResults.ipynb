{
 "cells": [
  {
   "cell_type": "markdown",
   "metadata": {},
   "source": [
    "# Queries"
   ]
  },
  {
   "cell_type": "markdown",
   "metadata": {},
   "source": [
    "### NOTE: All queries made within the month of January 2010, in the San Diego geographic area\n",
    "1. What traffic station has the largest difference in average speed over the first two weeks of the month?\n",
    "2. How significant is the difference in traffic throughput on a rainy day vs a non-rainy day?\n",
    "3. Is there an increase in CHP traffic incidents throughout the day?\n",
    "4. Does trace amount of precipitation affect the number of CHP traffic incidents on a given day?  (Trace precipitation is defined as a weather station registering precipitation but less than the unit granularity of the sensor)\n",
    "5. Does weather have an effect on the severity of CHP incidents in a given day?\n",
    "6. Identify the top 5 freeways with respect to traffic throughput.\n",
    "7. Identify the top 5 freeways with respect to traffic speed.\n",
    "8. Is the traffic throughput of one freeway indicative of others?"
   ]
  },
  {
   "cell_type": "code",
   "execution_count": 6,
   "metadata": {
    "collapsed": false
   },
   "outputs": [],
   "source": [
    "import dbtemplate as dbt\n",
    "import numpy as np\n",
    "import pandas as pd\n",
    "import pickle\n",
    "from dbtemplate import StatementExecutorTemplateCallback\n",
    "from dbtemplate import StatementExecutorTemplate"
   ]
  },
  {
   "cell_type": "code",
   "execution_count": 3,
   "metadata": {
    "collapsed": false
   },
   "outputs": [
    {
     "name": "stdout",
     "output_type": "stream",
     "text": [
      "Populating the interactive namespace from numpy and matplotlib\n"
     ]
    }
   ],
   "source": [
    "%pylab inline"
   ]
  },
  {
   "cell_type": "markdown",
   "metadata": {},
   "source": [
    "login_info = {}\n",
    "login_info['db_name'] =\n",
    "login_info['username'] =\n",
    "login_info['password'] =\n",
    "login_info['hostname'] =\n",
    "login_info['port'] =\n",
    "\n",
    "with open('pg_login.pkl', 'w') as pfile:\n",
    "    pickle.dump(login_info, pfile)"
   ]
  },
  {
   "cell_type": "code",
   "execution_count": 20,
   "metadata": {
    "collapsed": false
   },
   "outputs": [],
   "source": [
    "with open('pg_login.pkl') as pfile:\n",
    "    login_info = pickle.load(pfile)\n",
    "template = StatementExecutorTemplate(login_info['db_name'], login_info['username'], \n",
    "                                    login_info['password'], login_info['hostname'], login_info['port'])"
   ]
  },
  {
   "cell_type": "markdown",
   "metadata": {},
   "source": [
    "# Results"
   ]
  },
  {
   "cell_type": "markdown",
   "metadata": {},
   "source": [
    "#### 1. What traffic station has the largest difference in average speed over the first two weeks of the month?"
   ]
  },
  {
   "cell_type": "code",
   "execution_count": 27,
   "metadata": {
    "collapsed": false
   },
   "outputs": [
    {
     "name": "stdout",
     "output_type": "stream",
     "text": [
      "pems_id                           1108491\n",
      "traffic_station_name    WB MIRA MESA BLVD\n",
      "week_one_avg_speed               63.32569\n",
      "week_two_avg_speed               67.39831\n",
      "delta                            4.072619\n",
      "Name: 59, dtype: object\n"
     ]
    }
   ],
   "source": [
    "class InternalWeekOneCallback(StatementExecutorTemplateCallback):\n",
    "    def _get_query(self):\n",
    "        query= \"\"\"\n",
    "        SELECT t.pems_id, t.name, avg(o.avg_speed) AS week_one_avg_speed\n",
    "        FROM traffic_station t\n",
    "             INNER JOIN observation o on t.id = o.station_id\n",
    "        WHERE o.time between '2010-01-01 00:00:00' AND '2010-01-07 23:59:59'\n",
    "        GROUP BY t.pems_id, t.name\n",
    "        HAVING avg(o.avg_speed) > 0\n",
    "        \"\"\"\n",
    "        return query\n",
    "    \n",
    "    def _map_row(self, row):\n",
    "        m_pems_id, m_traffic_station_name, week_one_avg_speed= row\n",
    "        return (m_pems_id, m_traffic_station_name, float(week_one_avg_speed))\n",
    "\n",
    "class InternalWeekTwoCallback(StatementExecutorTemplateCallback):\n",
    "    def _get_query(self):\n",
    "        query= \"\"\"\n",
    "        SELECT t.pems_id, t.name, avg(o.avg_speed) AS week_two_avg_speed\n",
    "        FROM traffic_station t\n",
    "            INNER JOIN observation o on t.id = o.station_id\n",
    "        WHERE o.time between '2010-01-08 00:00:00' and '2010-01-14 23:59:59'\n",
    "        GROUP BY t.pems_id, t.name\n",
    "        HAVING avg(o.avg_speed) > 0\n",
    "        \"\"\"\n",
    "        return query\n",
    "    \n",
    "    def _map_row(self, row):\n",
    "        m_pems_id, m_traffic_station_name, week_two_avg_speed= row\n",
    "        return (m_pems_id, m_traffic_station_name, float(week_two_avg_speed))\n",
    "\n",
    "week_one_callback= InternalWeekOneCallback()\n",
    "week_two_callback= InternalWeekTwoCallback()\n",
    "\n",
    "m_week_one_list= template.execute(week_one_callback)\n",
    "m_week_two_list= template.execute(week_two_callback)\n",
    "\n",
    "week_one_df= dbt.to_data_frame(m_week_one_list, ['pems_id', 'traffic_station_name', 'week_one_avg_speed'])\n",
    "week_two_df= dbt.to_data_frame(m_week_two_list, ['pems_id', 'traffic_station_name', 'week_two_avg_speed'])\n",
    "\n",
    "week_one_df['week_one_avg_speed'] = week_one_df['week_one_avg_speed'].astype(float)\n",
    "week_two_df['week_two_avg_speed'] = week_two_df['week_two_avg_speed'].astype(float)\n",
    "\n",
    "if week_one_df is None or week_two_df is None:\n",
    "    print \"No Results\"\n",
    "else:\n",
    "    m_working_df= pd.merge(week_one_df, week_two_df, on=['pems_id', 'traffic_station_name'])\n",
    "    m_working_df['delta']= m_working_df['week_two_avg_speed'] - m_working_df['week_one_avg_speed']\n",
    "    m_working_df.sort('delta', ascending=False, inplace=True)\n",
    "    m_result= m_working_df.iloc[0]\n",
    "    print m_result"
   ]
  },
  {
   "cell_type": "markdown",
   "metadata": {},
   "source": [
    "#### 2. How significant is the difference in traffic throughput on a rainy day vs a non-rainy day?"
   ]
  },
  {
   "cell_type": "code",
   "execution_count": null,
   "metadata": {
    "collapsed": true
   },
   "outputs": [],
   "source": []
  }
 ],
 "metadata": {
  "kernelspec": {
   "display_name": "Python 2",
   "language": "python",
   "name": "python2"
  },
  "language_info": {
   "codemirror_mode": {
    "name": "ipython",
    "version": 2
   },
   "file_extension": ".py",
   "mimetype": "text/x-python",
   "name": "python",
   "nbconvert_exporter": "python",
   "pygments_lexer": "ipython2",
   "version": "2.7.10"
  }
 },
 "nbformat": 4,
 "nbformat_minor": 0
}
