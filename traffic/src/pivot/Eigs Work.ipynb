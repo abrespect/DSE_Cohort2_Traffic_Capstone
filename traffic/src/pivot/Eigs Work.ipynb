{
 "cells": [
  {
   "cell_type": "code",
   "execution_count": 1,
   "metadata": {
    "collapsed": false
   },
   "outputs": [
    {
     "name": "stdout",
     "output_type": "stream",
     "text": [
      "Populating the interactive namespace from numpy and matplotlib\n"
     ]
    }
   ],
   "source": [
    "%pylab inline"
   ]
  },
  {
   "cell_type": "code",
   "execution_count": 99,
   "metadata": {
    "collapsed": false
   },
   "outputs": [],
   "source": [
    "import pickle\n",
    "import pandas as pd\n",
    "from sklearn.decomposition import PCA\n",
    "import numpy as np\n",
    "x = 20"
   ]
  },
  {
   "cell_type": "code",
   "execution_count": 100,
   "metadata": {
    "collapsed": false
   },
   "outputs": [],
   "source": [
    "data = pd.read_csv('d11_2010_01_m1_pivot.csv', header=None)"
   ]
  },
  {
   "cell_type": "code",
   "execution_count": 101,
   "metadata": {
    "collapsed": false,
    "scrolled": true
   },
   "outputs": [
    {
     "data": {
      "text/html": [
       "<div>\n",
       "<table border=\"1\" class=\"dataframe\">\n",
       "  <thead>\n",
       "    <tr style=\"text-align: right;\">\n",
       "      <th></th>\n",
       "      <th>0</th>\n",
       "      <th>1</th>\n",
       "      <th>2</th>\n",
       "      <th>3</th>\n",
       "      <th>4</th>\n",
       "      <th>5</th>\n",
       "      <th>6</th>\n",
       "      <th>7</th>\n",
       "      <th>8</th>\n",
       "      <th>9</th>\n",
       "      <th>...</th>\n",
       "      <th>1433</th>\n",
       "      <th>1434</th>\n",
       "      <th>1435</th>\n",
       "      <th>1436</th>\n",
       "      <th>1437</th>\n",
       "      <th>1438</th>\n",
       "      <th>1439</th>\n",
       "      <th>1440</th>\n",
       "      <th>1441</th>\n",
       "      <th>1442</th>\n",
       "    </tr>\n",
       "  </thead>\n",
       "  <tbody>\n",
       "    <tr>\n",
       "      <th>0</th>\n",
       "      <td>1118076</td>\n",
       "      <td>2010</td>\n",
       "      <td>21</td>\n",
       "      <td>36</td>\n",
       "      <td>40</td>\n",
       "      <td>40</td>\n",
       "      <td>40</td>\n",
       "      <td>40</td>\n",
       "      <td>40</td>\n",
       "      <td>40</td>\n",
       "      <td>...</td>\n",
       "      <td>67.1</td>\n",
       "      <td>67.2</td>\n",
       "      <td>66.6</td>\n",
       "      <td>66.7</td>\n",
       "      <td>67.3</td>\n",
       "      <td>66.2</td>\n",
       "      <td>66.5</td>\n",
       "      <td>65.9</td>\n",
       "      <td>66.6</td>\n",
       "      <td>66.9</td>\n",
       "    </tr>\n",
       "    <tr>\n",
       "      <th>1</th>\n",
       "      <td>1119871</td>\n",
       "      <td>2010</td>\n",
       "      <td>25</td>\n",
       "      <td>36</td>\n",
       "      <td>40</td>\n",
       "      <td>40</td>\n",
       "      <td>40</td>\n",
       "      <td>40</td>\n",
       "      <td>40</td>\n",
       "      <td>40</td>\n",
       "      <td>...</td>\n",
       "      <td>68.5</td>\n",
       "      <td>66.9</td>\n",
       "      <td>67.6</td>\n",
       "      <td>67.6</td>\n",
       "      <td>67.4</td>\n",
       "      <td>67.0</td>\n",
       "      <td>67.8</td>\n",
       "      <td>68.2</td>\n",
       "      <td>67.7</td>\n",
       "      <td>67.7</td>\n",
       "    </tr>\n",
       "    <tr>\n",
       "      <th>2</th>\n",
       "      <td>1119817</td>\n",
       "      <td>2010</td>\n",
       "      <td>6</td>\n",
       "      <td>36</td>\n",
       "      <td>40</td>\n",
       "      <td>40</td>\n",
       "      <td>40</td>\n",
       "      <td>40</td>\n",
       "      <td>40</td>\n",
       "      <td>40</td>\n",
       "      <td>...</td>\n",
       "      <td>69.3</td>\n",
       "      <td>69.7</td>\n",
       "      <td>69.6</td>\n",
       "      <td>70.0</td>\n",
       "      <td>69.3</td>\n",
       "      <td>70.0</td>\n",
       "      <td>69.5</td>\n",
       "      <td>70.3</td>\n",
       "      <td>69.7</td>\n",
       "      <td>69.5</td>\n",
       "    </tr>\n",
       "    <tr>\n",
       "      <th>3</th>\n",
       "      <td>1108434</td>\n",
       "      <td>2010</td>\n",
       "      <td>6</td>\n",
       "      <td>36</td>\n",
       "      <td>40</td>\n",
       "      <td>40</td>\n",
       "      <td>40</td>\n",
       "      <td>40</td>\n",
       "      <td>40</td>\n",
       "      <td>40</td>\n",
       "      <td>...</td>\n",
       "      <td>68.0</td>\n",
       "      <td>69.3</td>\n",
       "      <td>68.3</td>\n",
       "      <td>68.3</td>\n",
       "      <td>67.1</td>\n",
       "      <td>68.5</td>\n",
       "      <td>67.8</td>\n",
       "      <td>68.5</td>\n",
       "      <td>68.2</td>\n",
       "      <td>67.5</td>\n",
       "    </tr>\n",
       "    <tr>\n",
       "      <th>4</th>\n",
       "      <td>1108689</td>\n",
       "      <td>2010</td>\n",
       "      <td>9</td>\n",
       "      <td>27</td>\n",
       "      <td>30</td>\n",
       "      <td>30</td>\n",
       "      <td>30</td>\n",
       "      <td>30</td>\n",
       "      <td>30</td>\n",
       "      <td>30</td>\n",
       "      <td>...</td>\n",
       "      <td>66.8</td>\n",
       "      <td>67.6</td>\n",
       "      <td>67.2</td>\n",
       "      <td>66.8</td>\n",
       "      <td>67.0</td>\n",
       "      <td>67.4</td>\n",
       "      <td>68.2</td>\n",
       "      <td>67.2</td>\n",
       "      <td>67.6</td>\n",
       "      <td>67.5</td>\n",
       "    </tr>\n",
       "  </tbody>\n",
       "</table>\n",
       "<p>5 rows × 1443 columns</p>\n",
       "</div>"
      ],
      "text/plain": [
       "      0     1     2     3     4     5     6     7     8     9     ...   1433  \\\n",
       "0  1118076  2010    21    36    40    40    40    40    40    40  ...   67.1   \n",
       "1  1119871  2010    25    36    40    40    40    40    40    40  ...   68.5   \n",
       "2  1119817  2010     6    36    40    40    40    40    40    40  ...   69.3   \n",
       "3  1108434  2010     6    36    40    40    40    40    40    40  ...   68.0   \n",
       "4  1108689  2010     9    27    30    30    30    30    30    30  ...   66.8   \n",
       "\n",
       "   1434  1435  1436  1437  1438  1439  1440  1441  1442  \n",
       "0  67.2  66.6  66.7  67.3  66.2  66.5  65.9  66.6  66.9  \n",
       "1  66.9  67.6  67.6  67.4  67.0  67.8  68.2  67.7  67.7  \n",
       "2  69.7  69.6  70.0  69.3  70.0  69.5  70.3  69.7  69.5  \n",
       "3  69.3  68.3  68.3  67.1  68.5  67.8  68.5  68.2  67.5  \n",
       "4  67.6  67.2  66.8  67.0  67.4  68.2  67.2  67.6  67.5  \n",
       "\n",
       "[5 rows x 1443 columns]"
      ]
     },
     "execution_count": 101,
     "metadata": {},
     "output_type": "execute_result"
    }
   ],
   "source": [
    "data.head()"
   ]
  },
  {
   "cell_type": "code",
   "execution_count": 105,
   "metadata": {
    "collapsed": false,
    "scrolled": true
   },
   "outputs": [
    {
     "data": {
      "text/plain": [
       "PCA(copy=True, n_components=None, whiten=False)"
      ]
     },
     "execution_count": 105,
     "metadata": {},
     "output_type": "execute_result"
    }
   ],
   "source": [
    "pca = PCA()#n_components=x)\n",
    "pca.fit(data.iloc[:,3:])"
   ]
  },
  {
   "cell_type": "code",
   "execution_count": 116,
   "metadata": {
    "collapsed": false
   },
   "outputs": [
    {
     "name": "stdout",
     "output_type": "stream",
     "text": [
      "[ 0.66042599  0.82847531  0.88487005  0.92302414  0.93457027  0.94139338\n",
      "  0.94681672  0.95117139  0.95411138  0.95687356  0.95912442  0.96106445\n",
      "  0.96289795  0.96441637  0.96586702  0.96699186  0.96798326  0.9688762\n",
      "  0.96966428  0.97034033]\n"
     ]
    },
    {
     "data": {
      "image/png": "[encoded data removed]",
      "text/plain": [
       "<matplotlib.figure.Figure at 0x109207a50>"
      ]
     },
     "metadata": {},
     "output_type": "display_data"
    }
   ],
   "source": [
    "plt.plot(np.cumsum(pca.explained_variance_ratio_[:20]))\n",
    "print np.cumsum(pca.explained_variance_ratio_[:20])"
   ]
  },
  {
   "cell_type": "code",
   "execution_count": 108,
   "metadata": {
    "collapsed": false
   },
   "outputs": [],
   "source": [
    "eigs = {}\n",
    "with open('d11_2010_01_m1_eigs'+str(x)+'.pkl', 'rb') as pfile:\n",
    "    eigs['eigvalues'] = pickle.load(pfile)\n",
    "    eigs['eigvectors'] = pickle.load(pfile)\n",
    "    eigs['mean'] = pickle.load(pfile)"
   ]
  },
  {
   "cell_type": "code",
   "execution_count": 114,
   "metadata": {
    "collapsed": false
   },
   "outputs": [],
   "source": [
    "spk_explained_variance_ratio_ = []\n",
    "for i in xrange(shape(eigs['eigvalues'])[0]):\n",
    "    spk_explained_variance_ratio_.append(eigs['eigvalues'][i] / sum(eigs['eigvalues']))"
   ]
  },
  {
   "cell_type": "code",
   "execution_count": 117,
   "metadata": {
    "collapsed": false
   },
   "outputs": [
    {
     "name": "stdout",
     "output_type": "stream",
     "text": [
      "[ 0.66042599  0.82847531  0.88487005  0.92302414  0.93457027  0.94139338\n",
      "  0.94681672  0.95117139  0.95411138  0.95687356  0.95912442  0.96106445\n",
      "  0.96289795  0.96441637  0.96586702  0.96699186  0.96798326  0.9688762\n",
      "  0.96966428  0.97034033]\n"
     ]
    },
    {
     "data": {
      "image/png": "[encoded data removed]",
      "text/plain": [
       "<matplotlib.figure.Figure at 0x1091a1b10>"
      ]
     },
     "metadata": {},
     "output_type": "display_data"
    }
   ],
   "source": [
    "plt.plot(np.cumsum(spk_explained_variance_ratio_[:20]))\n",
    "print np.cumsum(spk_explained_variance_ratio_[:20])"
   ]
  },
  {
   "cell_type": "code",
   "execution_count": 118,
   "metadata": {
    "collapsed": false
   },
   "outputs": [
    {
     "data": {
      "text/plain": [
       "(19, 1440)"
      ]
     },
     "execution_count": 118,
     "metadata": {},
     "output_type": "execute_result"
    }
   ],
   "source": [
    "shape(eigs['eigvectors'])"
   ]
  },
  {
   "cell_type": "code",
   "execution_count": 119,
   "metadata": {
    "collapsed": false
   },
   "outputs": [
    {
     "data": {
      "text/plain": [
       "[<matplotlib.lines.Line2D at 0x1090fcf50>]"
      ]
     },
     "execution_count": 119,
     "metadata": {},
     "output_type": "execute_result"
    },
    {
     "data": {
      "image/png": "[encoded data removed]",
      "text/plain": [
       "<matplotlib.figure.Figure at 0x123c6f250>"
      ]
     },
     "metadata": {},
     "output_type": "display_data"
    }
   ],
   "source": [
    "plt.plot(eigs['mean'])"
   ]
  },
  {
   "cell_type": "code",
   "execution_count": 129,
   "metadata": {
    "collapsed": false
   },
   "outputs": [
    {
     "data": {
      "text/plain": [
       "((19654, 1440), (1440, 2))"
      ]
     },
     "execution_count": 129,
     "metadata": {},
     "output_type": "execute_result"
    }
   ],
   "source": [
    "shape(data.iloc[:,3:]), shape(eigs['eigvectors'][:2].T)"
   ]
  },
  {
   "cell_type": "code",
   "execution_count": 130,
   "metadata": {
    "collapsed": true
   },
   "outputs": [],
   "source": [
    "vec2proj =  np.dot(data.iloc[:,3:], eigs['eigvectors'][:2].T)"
   ]
  },
  {
   "cell_type": "code",
   "execution_count": 133,
   "metadata": {
    "collapsed": false
   },
   "outputs": [
    {
     "data": {
      "text/plain": [
       "<matplotlib.collections.PathCollection at 0x10935f950>"
      ]
     },
     "execution_count": 133,
     "metadata": {},
     "output_type": "execute_result"
    },
    {
     "data": {
      "image/png": "[encoded data removed]",
      "text/plain": [
       "<matplotlib.figure.Figure at 0x1086244d0>"
      ]
     },
     "metadata": {},
     "output_type": "display_data"
    }
   ],
   "source": [
    "plt.scatter([x[0] for x in vec2proj], [y[1] for y in vec2proj])"
   ]
  },
  {
   "cell_type": "code",
   "execution_count": null,
   "metadata": {
    "collapsed": true
   },
   "outputs": [],
   "source": []
  }
 ],
 "metadata": {
  "kernelspec": {
   "display_name": "Python 2",
   "language": "python",
   "name": "python2"
  },
  "language_info": {
   "codemirror_mode": {
    "name": "ipython",
    "version": 2
   },
   "file_extension": ".py",
   "mimetype": "text/x-python",
   "name": "python",
   "nbconvert_exporter": "python",
   "pygments_lexer": "ipython2",
   "version": "2.7.11"
  }
 },
 "nbformat": 4,
 "nbformat_minor": 0
}
