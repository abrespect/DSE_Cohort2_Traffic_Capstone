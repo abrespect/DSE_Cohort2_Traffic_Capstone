{
 "cells": [
  {
   "cell_type": "code",
   "execution_count": 1,
   "metadata": {
    "collapsed": false
   },
   "outputs": [
    {
     "name": "stdout",
     "output_type": "stream",
     "text": [
      "Populating the interactive namespace from numpy and matplotlib\n"
     ]
    }
   ],
   "source": [
    "%pylab inline"
   ]
  },
  {
   "cell_type": "code",
   "execution_count": 2,
   "metadata": {
    "collapsed": false
   },
   "outputs": [],
   "source": [
    "import pickle\n",
    "import pandas as pd\n",
    "from sklearn.decomposition import PCA\n",
    "import numpy as np\n",
    "e = 20"
   ]
  },
  {
   "cell_type": "markdown",
   "metadata": {},
   "source": [
    "# Read in the pivoted data to validate using sklearn PCA"
   ]
  },
  {
   "cell_type": "code",
   "execution_count": 3,
   "metadata": {
    "collapsed": false
   },
   "outputs": [],
   "source": [
    "data1 = pd.read_csv('d11_2010_01_m1_pivot1.csv', header=None)"
   ]
  },
  {
   "cell_type": "code",
   "execution_count": 4,
   "metadata": {
    "collapsed": false,
    "scrolled": true
   },
   "outputs": [
    {
     "data": {
      "text/html": [
       "<div>\n",
       "<table border=\"1\" class=\"dataframe\">\n",
       "  <thead>\n",
       "    <tr style=\"text-align: right;\">\n",
       "      <th></th>\n",
       "      <th>0</th>\n",
       "      <th>1</th>\n",
       "      <th>2</th>\n",
       "      <th>3</th>\n",
       "      <th>4</th>\n",
       "      <th>5</th>\n",
       "      <th>6</th>\n",
       "      <th>7</th>\n",
       "      <th>8</th>\n",
       "      <th>9</th>\n",
       "      <th>...</th>\n",
       "      <th>1433</th>\n",
       "      <th>1434</th>\n",
       "      <th>1435</th>\n",
       "      <th>1436</th>\n",
       "      <th>1437</th>\n",
       "      <th>1438</th>\n",
       "      <th>1439</th>\n",
       "      <th>1440</th>\n",
       "      <th>1441</th>\n",
       "      <th>1442</th>\n",
       "    </tr>\n",
       "  </thead>\n",
       "  <tbody>\n",
       "    <tr>\n",
       "      <th>0</th>\n",
       "      <td>1118076</td>\n",
       "      <td>2010</td>\n",
       "      <td>21</td>\n",
       "      <td>36</td>\n",
       "      <td>40</td>\n",
       "      <td>40</td>\n",
       "      <td>40</td>\n",
       "      <td>40</td>\n",
       "      <td>40</td>\n",
       "      <td>40</td>\n",
       "      <td>...</td>\n",
       "      <td>67.1</td>\n",
       "      <td>67.2</td>\n",
       "      <td>66.6</td>\n",
       "      <td>66.7</td>\n",
       "      <td>67.3</td>\n",
       "      <td>66.2</td>\n",
       "      <td>66.5</td>\n",
       "      <td>65.9</td>\n",
       "      <td>66.6</td>\n",
       "      <td>66.9</td>\n",
       "    </tr>\n",
       "    <tr>\n",
       "      <th>1</th>\n",
       "      <td>1119871</td>\n",
       "      <td>2010</td>\n",
       "      <td>25</td>\n",
       "      <td>36</td>\n",
       "      <td>40</td>\n",
       "      <td>40</td>\n",
       "      <td>40</td>\n",
       "      <td>40</td>\n",
       "      <td>40</td>\n",
       "      <td>40</td>\n",
       "      <td>...</td>\n",
       "      <td>68.5</td>\n",
       "      <td>66.9</td>\n",
       "      <td>67.6</td>\n",
       "      <td>67.6</td>\n",
       "      <td>67.4</td>\n",
       "      <td>67.0</td>\n",
       "      <td>67.8</td>\n",
       "      <td>68.2</td>\n",
       "      <td>67.7</td>\n",
       "      <td>67.7</td>\n",
       "    </tr>\n",
       "    <tr>\n",
       "      <th>2</th>\n",
       "      <td>1119817</td>\n",
       "      <td>2010</td>\n",
       "      <td>6</td>\n",
       "      <td>36</td>\n",
       "      <td>40</td>\n",
       "      <td>40</td>\n",
       "      <td>40</td>\n",
       "      <td>40</td>\n",
       "      <td>40</td>\n",
       "      <td>40</td>\n",
       "      <td>...</td>\n",
       "      <td>69.3</td>\n",
       "      <td>69.7</td>\n",
       "      <td>69.6</td>\n",
       "      <td>70.0</td>\n",
       "      <td>69.3</td>\n",
       "      <td>70.0</td>\n",
       "      <td>69.5</td>\n",
       "      <td>70.3</td>\n",
       "      <td>69.7</td>\n",
       "      <td>69.5</td>\n",
       "    </tr>\n",
       "    <tr>\n",
       "      <th>3</th>\n",
       "      <td>1108434</td>\n",
       "      <td>2010</td>\n",
       "      <td>6</td>\n",
       "      <td>36</td>\n",
       "      <td>40</td>\n",
       "      <td>40</td>\n",
       "      <td>40</td>\n",
       "      <td>40</td>\n",
       "      <td>40</td>\n",
       "      <td>40</td>\n",
       "      <td>...</td>\n",
       "      <td>68.0</td>\n",
       "      <td>69.3</td>\n",
       "      <td>68.3</td>\n",
       "      <td>68.3</td>\n",
       "      <td>67.1</td>\n",
       "      <td>68.5</td>\n",
       "      <td>67.8</td>\n",
       "      <td>68.5</td>\n",
       "      <td>68.2</td>\n",
       "      <td>67.5</td>\n",
       "    </tr>\n",
       "    <tr>\n",
       "      <th>4</th>\n",
       "      <td>1108689</td>\n",
       "      <td>2010</td>\n",
       "      <td>9</td>\n",
       "      <td>27</td>\n",
       "      <td>30</td>\n",
       "      <td>30</td>\n",
       "      <td>30</td>\n",
       "      <td>30</td>\n",
       "      <td>30</td>\n",
       "      <td>30</td>\n",
       "      <td>...</td>\n",
       "      <td>66.8</td>\n",
       "      <td>67.6</td>\n",
       "      <td>67.2</td>\n",
       "      <td>66.8</td>\n",
       "      <td>67.0</td>\n",
       "      <td>67.4</td>\n",
       "      <td>68.2</td>\n",
       "      <td>67.2</td>\n",
       "      <td>67.6</td>\n",
       "      <td>67.5</td>\n",
       "    </tr>\n",
       "  </tbody>\n",
       "</table>\n",
       "<p>5 rows × 1443 columns</p>\n",
       "</div>"
      ],
      "text/plain": [
       "      0     1     2     3     4     5     6     7     8     9     ...   1433  \\\n",
       "0  1118076  2010    21    36    40    40    40    40    40    40  ...   67.1   \n",
       "1  1119871  2010    25    36    40    40    40    40    40    40  ...   68.5   \n",
       "2  1119817  2010     6    36    40    40    40    40    40    40  ...   69.3   \n",
       "3  1108434  2010     6    36    40    40    40    40    40    40  ...   68.0   \n",
       "4  1108689  2010     9    27    30    30    30    30    30    30  ...   66.8   \n",
       "\n",
       "   1434  1435  1436  1437  1438  1439  1440  1441  1442  \n",
       "0  67.2  66.6  66.7  67.3  66.2  66.5  65.9  66.6  66.9  \n",
       "1  66.9  67.6  67.6  67.4  67.0  67.8  68.2  67.7  67.7  \n",
       "2  69.7  69.6  70.0  69.3  70.0  69.5  70.3  69.7  69.5  \n",
       "3  69.3  68.3  68.3  67.1  68.5  67.8  68.5  68.2  67.5  \n",
       "4  67.6  67.2  66.8  67.0  67.4  68.2  67.2  67.6  67.5  \n",
       "\n",
       "[5 rows x 1443 columns]"
      ]
     },
     "execution_count": 4,
     "metadata": {},
     "output_type": "execute_result"
    }
   ],
   "source": [
    "data1.head()"
   ]
  },
  {
   "cell_type": "code",
   "execution_count": 5,
   "metadata": {
    "collapsed": false,
    "scrolled": true
   },
   "outputs": [
    {
     "data": {
      "text/plain": [
       "PCA(copy=True, n_components=None, whiten=False)"
      ]
     },
     "execution_count": 5,
     "metadata": {},
     "output_type": "execute_result"
    }
   ],
   "source": [
    "pca1 = PCA()\n",
    "pca1.fit(data1.iloc[:,3:])"
   ]
  },
  {
   "cell_type": "markdown",
   "metadata": {},
   "source": [
    "### Plot the varience explained"
   ]
  },
  {
   "cell_type": "code",
   "execution_count": 6,
   "metadata": {
    "collapsed": false
   },
   "outputs": [
    {
     "name": "stdout",
     "output_type": "stream",
     "text": [
      "[ 0.66042599  0.82847531  0.88487005  0.92302414  0.93457027  0.94139338\n",
      "  0.94681672  0.95117139  0.95411138  0.95687356  0.95912442  0.96106445\n",
      "  0.96289795  0.96441637  0.96586702  0.96699186  0.96798326  0.9688762\n",
      "  0.96966428  0.97034033]\n"
     ]
    },
    {
     "data": {
      "image/png": "[encoded data removed]",
      "text/plain": [
       "<matplotlib.figure.Figure at 0x10c16c850>"
      ]
     },
     "metadata": {},
     "output_type": "display_data"
    }
   ],
   "source": [
    "plt.plot(np.cumsum(pca1.explained_variance_ratio_[:e]))\n",
    "print np.cumsum(pca1.explained_variance_ratio_[:e])"
   ]
  },
  {
   "cell_type": "markdown",
   "metadata": {},
   "source": [
    "## Verify that the Spark VecStat PCA matches"
   ]
  },
  {
   "cell_type": "code",
   "execution_count": 7,
   "metadata": {
    "collapsed": false
   },
   "outputs": [],
   "source": [
    "eigs1 = {}\n",
    "with open('d11_2010_01_m1_eigs'+str(e)+'_1.pkl', 'rb') as pfile:\n",
    "    eigs1['eigvalues'] = pickle.load(pfile)\n",
    "    eigs1['eigvectors'] = pickle.load(pfile)\n",
    "    eigs1['mean'] = pickle.load(pfile)"
   ]
  },
  {
   "cell_type": "code",
   "execution_count": 8,
   "metadata": {
    "collapsed": false
   },
   "outputs": [],
   "source": [
    "spk1_explained_variance_ratio_ = []\n",
    "for i in xrange(shape(eigs1['eigvalues'])[0]):\n",
    "    spk1_explained_variance_ratio_.append(eigs1['eigvalues'][i] / sum(eigs1['eigvalues']))"
   ]
  },
  {
   "cell_type": "code",
   "execution_count": 9,
   "metadata": {
    "collapsed": false
   },
   "outputs": [
    {
     "name": "stdout",
     "output_type": "stream",
     "text": [
      "[ 0.66042599  0.82847531  0.88487005  0.92302414  0.93457027  0.94139338\n",
      "  0.94681672  0.95117139  0.95411138  0.95687356  0.95912442  0.96106445\n",
      "  0.96289795  0.96441637  0.96586702  0.96699186  0.96798326  0.9688762\n",
      "  0.96966428  0.97034033]\n"
     ]
    },
    {
     "data": {
      "image/png": "[encoded data removed]",
      "text/plain": [
       "<matplotlib.figure.Figure at 0x104d37fd0>"
      ]
     },
     "metadata": {},
     "output_type": "display_data"
    }
   ],
   "source": [
    "plt.plot(np.cumsum(spk1_explained_variance_ratio_[:20]))\n",
    "print np.cumsum(spk1_explained_variance_ratio_[:20])"
   ]
  },
  {
   "cell_type": "code",
   "execution_count": 10,
   "metadata": {
    "collapsed": false,
    "scrolled": true
   },
   "outputs": [
    {
     "data": {
      "text/plain": [
       "(19, 1440)"
      ]
     },
     "execution_count": 10,
     "metadata": {},
     "output_type": "execute_result"
    }
   ],
   "source": [
    "shape(eigs1['eigvectors'])"
   ]
  },
  {
   "cell_type": "code",
   "execution_count": 11,
   "metadata": {
    "collapsed": false,
    "scrolled": true
   },
   "outputs": [
    {
     "data": {
      "text/plain": [
       "[<matplotlib.lines.Line2D at 0x109d72890>]"
      ]
     },
     "execution_count": 11,
     "metadata": {},
     "output_type": "execute_result"
    },
    {
     "data": {
      "image/png": "[encoded data removed]",
      "text/plain": [
       "<matplotlib.figure.Figure at 0x104db70d0>"
      ]
     },
     "metadata": {},
     "output_type": "display_data"
    }
   ],
   "source": [
    "plt.plot(eigs1['mean'])"
   ]
  },
  {
   "cell_type": "code",
   "execution_count": 12,
   "metadata": {
    "collapsed": false,
    "scrolled": true
   },
   "outputs": [
    {
     "data": {
      "text/plain": [
       "((19654, 1440), (1440, 2))"
      ]
     },
     "execution_count": 12,
     "metadata": {},
     "output_type": "execute_result"
    }
   ],
   "source": [
    "shape(data1.iloc[:,3:]), shape(eigs1['eigvectors'][:2].T)"
   ]
  },
  {
   "cell_type": "code",
   "execution_count": 13,
   "metadata": {
    "collapsed": true
   },
   "outputs": [],
   "source": [
    "vec2proj1 =  np.dot(data1.iloc[:,3:], eigs1['eigvectors'][:2].T)"
   ]
  },
  {
   "cell_type": "code",
   "execution_count": 14,
   "metadata": {
    "collapsed": false,
    "scrolled": true
   },
   "outputs": [
    {
     "data": {
      "text/plain": [
       "<matplotlib.collections.PathCollection at 0x10a0f62d0>"
      ]
     },
     "execution_count": 14,
     "metadata": {},
     "output_type": "execute_result"
    },
    {
     "data": {
      "image/png": "[encoded data removed]",
      "text/plain": [
       "<matplotlib.figure.Figure at 0x109fb8dd0>"
      ]
     },
     "metadata": {},
     "output_type": "display_data"
    }
   ],
   "source": [
    "plt.scatter([x[0] for x in vec2proj1], [y[1] for y in vec2proj1])"
   ]
  },
  {
   "cell_type": "markdown",
   "metadata": {},
   "source": [
    "## Redo w/ Samples and Observed Remove"
   ]
  },
  {
   "cell_type": "code",
   "execution_count": 15,
   "metadata": {
    "collapsed": false
   },
   "outputs": [],
   "source": [
    "data2 = pd.read_csv('d11_2010_01_m1_pivot2.csv', header=None)"
   ]
  },
  {
   "cell_type": "code",
   "execution_count": 16,
   "metadata": {
    "collapsed": false,
    "scrolled": true
   },
   "outputs": [
    {
     "data": {
      "text/html": [
       "<div>\n",
       "<table border=\"1\" class=\"dataframe\">\n",
       "  <thead>\n",
       "    <tr style=\"text-align: right;\">\n",
       "      <th></th>\n",
       "      <th>0</th>\n",
       "      <th>1</th>\n",
       "      <th>2</th>\n",
       "      <th>3</th>\n",
       "      <th>4</th>\n",
       "      <th>5</th>\n",
       "      <th>6</th>\n",
       "      <th>7</th>\n",
       "      <th>8</th>\n",
       "      <th>9</th>\n",
       "      <th>...</th>\n",
       "      <th>857</th>\n",
       "      <th>858</th>\n",
       "      <th>859</th>\n",
       "      <th>860</th>\n",
       "      <th>861</th>\n",
       "      <th>862</th>\n",
       "      <th>863</th>\n",
       "      <th>864</th>\n",
       "      <th>865</th>\n",
       "      <th>866</th>\n",
       "    </tr>\n",
       "  </thead>\n",
       "  <tbody>\n",
       "    <tr>\n",
       "      <th>0</th>\n",
       "      <td>1118076</td>\n",
       "      <td>2010</td>\n",
       "      <td>21</td>\n",
       "      <td>60</td>\n",
       "      <td>61</td>\n",
       "      <td>53</td>\n",
       "      <td>62</td>\n",
       "      <td>58</td>\n",
       "      <td>56</td>\n",
       "      <td>42</td>\n",
       "      <td>...</td>\n",
       "      <td>67.1</td>\n",
       "      <td>67.2</td>\n",
       "      <td>66.6</td>\n",
       "      <td>66.7</td>\n",
       "      <td>67.3</td>\n",
       "      <td>66.2</td>\n",
       "      <td>66.5</td>\n",
       "      <td>65.9</td>\n",
       "      <td>66.6</td>\n",
       "      <td>66.9</td>\n",
       "    </tr>\n",
       "    <tr>\n",
       "      <th>1</th>\n",
       "      <td>1119871</td>\n",
       "      <td>2010</td>\n",
       "      <td>25</td>\n",
       "      <td>80</td>\n",
       "      <td>83</td>\n",
       "      <td>103</td>\n",
       "      <td>103</td>\n",
       "      <td>81</td>\n",
       "      <td>93</td>\n",
       "      <td>56</td>\n",
       "      <td>...</td>\n",
       "      <td>68.5</td>\n",
       "      <td>66.9</td>\n",
       "      <td>67.6</td>\n",
       "      <td>67.6</td>\n",
       "      <td>67.4</td>\n",
       "      <td>67.0</td>\n",
       "      <td>67.8</td>\n",
       "      <td>68.2</td>\n",
       "      <td>67.7</td>\n",
       "      <td>67.7</td>\n",
       "    </tr>\n",
       "    <tr>\n",
       "      <th>2</th>\n",
       "      <td>1119817</td>\n",
       "      <td>2010</td>\n",
       "      <td>6</td>\n",
       "      <td>68</td>\n",
       "      <td>56</td>\n",
       "      <td>58</td>\n",
       "      <td>48</td>\n",
       "      <td>50</td>\n",
       "      <td>64</td>\n",
       "      <td>52</td>\n",
       "      <td>...</td>\n",
       "      <td>69.3</td>\n",
       "      <td>69.7</td>\n",
       "      <td>69.6</td>\n",
       "      <td>70.0</td>\n",
       "      <td>69.3</td>\n",
       "      <td>70.0</td>\n",
       "      <td>69.5</td>\n",
       "      <td>70.3</td>\n",
       "      <td>69.7</td>\n",
       "      <td>69.5</td>\n",
       "    </tr>\n",
       "    <tr>\n",
       "      <th>3</th>\n",
       "      <td>1108434</td>\n",
       "      <td>2010</td>\n",
       "      <td>6</td>\n",
       "      <td>56</td>\n",
       "      <td>55</td>\n",
       "      <td>67</td>\n",
       "      <td>65</td>\n",
       "      <td>66</td>\n",
       "      <td>49</td>\n",
       "      <td>53</td>\n",
       "      <td>...</td>\n",
       "      <td>68.0</td>\n",
       "      <td>69.3</td>\n",
       "      <td>68.3</td>\n",
       "      <td>68.3</td>\n",
       "      <td>67.1</td>\n",
       "      <td>68.5</td>\n",
       "      <td>67.8</td>\n",
       "      <td>68.5</td>\n",
       "      <td>68.2</td>\n",
       "      <td>67.5</td>\n",
       "    </tr>\n",
       "    <tr>\n",
       "      <th>4</th>\n",
       "      <td>1108689</td>\n",
       "      <td>2010</td>\n",
       "      <td>9</td>\n",
       "      <td>92</td>\n",
       "      <td>81</td>\n",
       "      <td>97</td>\n",
       "      <td>84</td>\n",
       "      <td>97</td>\n",
       "      <td>57</td>\n",
       "      <td>64</td>\n",
       "      <td>...</td>\n",
       "      <td>66.8</td>\n",
       "      <td>67.6</td>\n",
       "      <td>67.2</td>\n",
       "      <td>66.8</td>\n",
       "      <td>67.0</td>\n",
       "      <td>67.4</td>\n",
       "      <td>68.2</td>\n",
       "      <td>67.2</td>\n",
       "      <td>67.6</td>\n",
       "      <td>67.5</td>\n",
       "    </tr>\n",
       "  </tbody>\n",
       "</table>\n",
       "<p>5 rows × 867 columns</p>\n",
       "</div>"
      ],
      "text/plain": [
       "       0     1    2    3    4    5    6    7    8    9    ...    857   858  \\\n",
       "0  1118076  2010   21   60   61   53   62   58   56   42  ...   67.1  67.2   \n",
       "1  1119871  2010   25   80   83  103  103   81   93   56  ...   68.5  66.9   \n",
       "2  1119817  2010    6   68   56   58   48   50   64   52  ...   69.3  69.7   \n",
       "3  1108434  2010    6   56   55   67   65   66   49   53  ...   68.0  69.3   \n",
       "4  1108689  2010    9   92   81   97   84   97   57   64  ...   66.8  67.6   \n",
       "\n",
       "    859   860   861   862   863   864   865   866  \n",
       "0  66.6  66.7  67.3  66.2  66.5  65.9  66.6  66.9  \n",
       "1  67.6  67.6  67.4  67.0  67.8  68.2  67.7  67.7  \n",
       "2  69.6  70.0  69.3  70.0  69.5  70.3  69.7  69.5  \n",
       "3  68.3  68.3  67.1  68.5  67.8  68.5  68.2  67.5  \n",
       "4  67.2  66.8  67.0  67.4  68.2  67.2  67.6  67.5  \n",
       "\n",
       "[5 rows x 867 columns]"
      ]
     },
     "execution_count": 16,
     "metadata": {},
     "output_type": "execute_result"
    }
   ],
   "source": [
    "data2.head()"
   ]
  },
  {
   "cell_type": "code",
   "execution_count": 17,
   "metadata": {
    "collapsed": false,
    "scrolled": true
   },
   "outputs": [
    {
     "data": {
      "text/plain": [
       "PCA(copy=True, n_components=None, whiten=False)"
      ]
     },
     "execution_count": 17,
     "metadata": {},
     "output_type": "execute_result"
    }
   ],
   "source": [
    "pca2 = PCA()\n",
    "pca2.fit(data2.iloc[:,3:])"
   ]
  },
  {
   "cell_type": "code",
   "execution_count": 18,
   "metadata": {
    "collapsed": false,
    "scrolled": true
   },
   "outputs": [
    {
     "name": "stdout",
     "output_type": "stream",
     "text": [
      "[ 0.7060019   0.88593643  0.92742079  0.94049957  0.94811766  0.95394076\n",
      "  0.95745671  0.95998943  0.96221613  0.96389192  0.96549473  0.9667451\n",
      "  0.9678317   0.96878544  0.96952015  0.9702342   0.97084923  0.97143549\n",
      "  0.97199563  0.97249572]\n"
     ]
    },
    {
     "data": {
      "image/png": "[encoded data removed]",
      "text/plain": [
       "<matplotlib.figure.Figure at 0x10a0b54d0>"
      ]
     },
     "metadata": {},
     "output_type": "display_data"
    }
   ],
   "source": [
    "plt.plot(np.cumsum(pca2.explained_variance_ratio_[:e]))\n",
    "print np.cumsum(pca2.explained_variance_ratio_[:e])"
   ]
  },
  {
   "cell_type": "code",
   "execution_count": 19,
   "metadata": {
    "collapsed": false
   },
   "outputs": [],
   "source": [
    "eigs2 = {}\n",
    "with open('d11_2010_01_m1_eigs'+str(e)+'_2.pkl', 'rb') as pfile:\n",
    "    eigs2['eigvalues'] = pickle.load(pfile)\n",
    "    eigs2['eigvectors'] = pickle.load(pfile)\n",
    "    eigs2['mean'] = pickle.load(pfile)"
   ]
  },
  {
   "cell_type": "code",
   "execution_count": 20,
   "metadata": {
    "collapsed": false
   },
   "outputs": [],
   "source": [
    "spk2_explained_variance_ratio_ = []\n",
    "for i in xrange(shape(eigs2['eigvalues'])[0]):\n",
    "    spk2_explained_variance_ratio_.append(eigs2['eigvalues'][i] / sum(eigs2['eigvalues']))"
   ]
  },
  {
   "cell_type": "code",
   "execution_count": 21,
   "metadata": {
    "collapsed": false
   },
   "outputs": [
    {
     "name": "stdout",
     "output_type": "stream",
     "text": [
      "[ 0.7060019   0.88593643  0.92742079  0.94049957  0.94811766  0.95394076\n",
      "  0.95745671  0.95998943  0.96221613  0.96389192  0.96549473  0.9667451\n",
      "  0.9678317   0.96878544  0.96952015  0.9702342   0.97084923  0.97143549\n",
      "  0.97199563  0.97249572]\n"
     ]
    },
    {
     "data": {
      "image/png": "[encoded data removed]",
      "text/plain": [
       "<matplotlib.figure.Figure at 0x10bf03210>"
      ]
     },
     "metadata": {},
     "output_type": "display_data"
    }
   ],
   "source": [
    "plt.plot(np.cumsum(spk2_explained_variance_ratio_[:20]))\n",
    "print np.cumsum(spk2_explained_variance_ratio_[:20])"
   ]
  },
  {
   "cell_type": "code",
   "execution_count": 22,
   "metadata": {
    "collapsed": false,
    "scrolled": true
   },
   "outputs": [
    {
     "data": {
      "text/plain": [
       "(19, 864)"
      ]
     },
     "execution_count": 22,
     "metadata": {},
     "output_type": "execute_result"
    }
   ],
   "source": [
    "shape(eigs2['eigvectors'])"
   ]
  },
  {
   "cell_type": "code",
   "execution_count": 23,
   "metadata": {
    "collapsed": false,
    "scrolled": true
   },
   "outputs": [
    {
     "data": {
      "text/plain": [
       "[<matplotlib.lines.Line2D at 0x10a262b50>]"
      ]
     },
     "execution_count": 23,
     "metadata": {},
     "output_type": "execute_result"
    },
    {
     "data": {
      "image/png": "[encoded data removed]",
      "text/plain": [
       "<matplotlib.figure.Figure at 0x10a02f850>"
      ]
     },
     "metadata": {},
     "output_type": "display_data"
    }
   ],
   "source": [
    "plt.plot(eigs2['mean'])"
   ]
  },
  {
   "cell_type": "code",
   "execution_count": 24,
   "metadata": {
    "collapsed": false,
    "scrolled": true
   },
   "outputs": [
    {
     "data": {
      "text/plain": [
       "((19654, 864), (864, 2))"
      ]
     },
     "execution_count": 24,
     "metadata": {},
     "output_type": "execute_result"
    }
   ],
   "source": [
    "shape(data2.iloc[:,3:]), shape(eigs2['eigvectors'][:2].T)"
   ]
  },
  {
   "cell_type": "code",
   "execution_count": 25,
   "metadata": {
    "collapsed": true
   },
   "outputs": [],
   "source": [
    "vec2proj2 =  np.dot(data2.iloc[:,3:], eigs2['eigvectors'][:2].T)"
   ]
  },
  {
   "cell_type": "code",
   "execution_count": 26,
   "metadata": {
    "collapsed": false,
    "scrolled": true
   },
   "outputs": [
    {
     "data": {
      "text/plain": [
       "<matplotlib.collections.PathCollection at 0x10bed30d0>"
      ]
     },
     "execution_count": 26,
     "metadata": {},
     "output_type": "execute_result"
    },
    {
     "data": {
      "image/png": "[encoded data removed]",
      "text/plain": [
       "<matplotlib.figure.Figure at 0x10a41c210>"
      ]
     },
     "metadata": {},
     "output_type": "display_data"
    }
   ],
   "source": [
    "plt.scatter([x[0] for x in vec2proj2], [y[1] for y in vec2proj2])"
   ]
  },
  {
   "cell_type": "code",
   "execution_count": null,
   "metadata": {
    "collapsed": true
   },
   "outputs": [],
   "source": []
  }
 ],
 "metadata": {
  "kernelspec": {
   "display_name": "Python 2",
   "language": "python",
   "name": "python2"
  },
  "language_info": {
   "codemirror_mode": {
    "name": "ipython",
    "version": 2
   },
   "file_extension": ".py",
   "mimetype": "text/x-python",
   "name": "python",
   "nbconvert_exporter": "python",
   "pygments_lexer": "ipython2",
   "version": "2.7.11"
  }
 },
 "nbformat": 4,
 "nbformat_minor": 0
}
