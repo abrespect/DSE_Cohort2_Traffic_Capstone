{
 "cells": [
  {
   "cell_type": "code",
   "execution_count": 1,
   "metadata": {
    "collapsed": true
   },
   "outputs": [],
   "source": [
    "# dependent on pg8000 sql api\n",
    "#\n",
    "# pip install pg8000"
   ]
  },
  {
   "cell_type": "code",
   "execution_count": 1,
   "metadata": {
    "collapsed": true
   },
   "outputs": [],
   "source": [
    "import dbtemplate as dbt\n",
    "from dbtemplate import StatementExecutorTemplateCallback\n",
    "from dbtemplate import StatementExecutorTemplate"
   ]
  },
  {
   "cell_type": "code",
   "execution_count": 3,
   "metadata": {
    "collapsed": true
   },
   "outputs": [],
   "source": [
    "class InternalCallback(StatementExecutorTemplateCallback):\n",
    "    def _get_query(self):\n",
    "        return \"select * from district\"\n",
    "    \n",
    "    def _map_row(self, row):\n",
    "        m_id, m_name= row\n",
    "        return (m_id, m_name)"
   ]
  },
  {
   "cell_type": "code",
   "execution_count": 4,
   "metadata": {
    "collapsed": false
   },
   "outputs": [
    {
     "name": "stdout",
     "output_type": "stream",
     "text": [
      "(1, u'Northwest')\n",
      "(2, u'Northeast')\n",
      "(3, u'North Central')\n",
      "(4, u'Bay Area')\n",
      "(5, u'Central Coast')\n",
      "(6, u'South Central')\n",
      "(7, u'LA/Ventura')\n",
      "(8, u'San Bernardino/Riverside')\n",
      "(9, u'Eastern Sierra')\n",
      "(10, u'Central')\n",
      "(11, u'San Diego/Imperial')\n",
      "(12, u'Orange County')\n"
     ]
    }
   ],
   "source": [
    "db_name = 'dyerke'\n",
    "username = 'dyerke'\n",
    "password = 'dyerke'\n",
    "hostname = 'localhost'\n",
    "port = 5432\n",
    "\n",
    "template = StatementExecutorTemplate(db_name, username, password, hostname, port)\n",
    "callback= InternalCallback()\n",
    "m_list= template.execute(callback)\n",
    "for i in m_list:\n",
    "    print i\n",
    "\n",
    "m_df= dbt.to_data_frame(m_list, ['id', 'name'])"
   ]
  },
  {
   "cell_type": "code",
   "execution_count": 5,
   "metadata": {
    "collapsed": false
   },
   "outputs": [
    {
     "data": {
      "text/html": [
       "<div>\n",
       "<table border=\"1\" class=\"dataframe\">\n",
       "  <thead>\n",
       "    <tr style=\"text-align: right;\">\n",
       "      <th></th>\n",
       "      <th>id</th>\n",
       "      <th>name</th>\n",
       "    </tr>\n",
       "  </thead>\n",
       "  <tbody>\n",
       "    <tr>\n",
       "      <th>0</th>\n",
       "      <td>1</td>\n",
       "      <td>Northwest</td>\n",
       "    </tr>\n",
       "    <tr>\n",
       "      <th>1</th>\n",
       "      <td>2</td>\n",
       "      <td>Northeast</td>\n",
       "    </tr>\n",
       "    <tr>\n",
       "      <th>2</th>\n",
       "      <td>3</td>\n",
       "      <td>North Central</td>\n",
       "    </tr>\n",
       "    <tr>\n",
       "      <th>3</th>\n",
       "      <td>4</td>\n",
       "      <td>Bay Area</td>\n",
       "    </tr>\n",
       "    <tr>\n",
       "      <th>4</th>\n",
       "      <td>5</td>\n",
       "      <td>Central Coast</td>\n",
       "    </tr>\n",
       "    <tr>\n",
       "      <th>5</th>\n",
       "      <td>6</td>\n",
       "      <td>South Central</td>\n",
       "    </tr>\n",
       "    <tr>\n",
       "      <th>6</th>\n",
       "      <td>7</td>\n",
       "      <td>LA/Ventura</td>\n",
       "    </tr>\n",
       "    <tr>\n",
       "      <th>7</th>\n",
       "      <td>8</td>\n",
       "      <td>San Bernardino/Riverside</td>\n",
       "    </tr>\n",
       "    <tr>\n",
       "      <th>8</th>\n",
       "      <td>9</td>\n",
       "      <td>Eastern Sierra</td>\n",
       "    </tr>\n",
       "    <tr>\n",
       "      <th>9</th>\n",
       "      <td>10</td>\n",
       "      <td>Central</td>\n",
       "    </tr>\n",
       "    <tr>\n",
       "      <th>10</th>\n",
       "      <td>11</td>\n",
       "      <td>San Diego/Imperial</td>\n",
       "    </tr>\n",
       "    <tr>\n",
       "      <th>11</th>\n",
       "      <td>12</td>\n",
       "      <td>Orange County</td>\n",
       "    </tr>\n",
       "  </tbody>\n",
       "</table>\n",
       "</div>"
      ],
      "text/plain": [
       "    id                      name\n",
       "0    1                 Northwest\n",
       "1    2                 Northeast\n",
       "2    3             North Central\n",
       "3    4                  Bay Area\n",
       "4    5             Central Coast\n",
       "5    6             South Central\n",
       "6    7                LA/Ventura\n",
       "7    8  San Bernardino/Riverside\n",
       "8    9            Eastern Sierra\n",
       "9   10                   Central\n",
       "10  11        San Diego/Imperial\n",
       "11  12             Orange County"
      ]
     },
     "execution_count": 5,
     "metadata": {},
     "output_type": "execute_result"
    }
   ],
   "source": [
    "m_df"
   ]
  }
 ],
 "metadata": {
  "kernelspec": {
   "display_name": "Python 2",
   "language": "python",
   "name": "python2"
  },
  "language_info": {
   "codemirror_mode": {
    "name": "ipython",
    "version": 2
   },
   "file_extension": ".py",
   "mimetype": "text/x-python",
   "name": "python",
   "nbconvert_exporter": "python",
   "pygments_lexer": "ipython2",
   "version": "2.7.10"
  }
 },
 "nbformat": 4,
 "nbformat_minor": 0
}
