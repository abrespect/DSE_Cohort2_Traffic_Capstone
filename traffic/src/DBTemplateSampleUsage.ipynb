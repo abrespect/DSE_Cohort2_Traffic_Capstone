{
 "cells": [
  {
   "cell_type": "code",
   "execution_count": null,
   "metadata": {
    "collapsed": true
   },
   "outputs": [],
   "source": [
    "# dependent on pg8000 sql api\n",
    "#\n",
    "# pip install pg8000"
   ]
  },
  {
   "cell_type": "code",
   "execution_count": 1,
   "metadata": {
    "collapsed": true
   },
   "outputs": [],
   "source": [
    "from dbtemplate import StatementExecutorTemplateCallback\n",
    "from dbtemplate import StatementExecutorTemplate"
   ]
  },
  {
   "cell_type": "code",
   "execution_count": 2,
   "metadata": {
    "collapsed": true
   },
   "outputs": [],
   "source": [
    "class InternalCallback(StatementExecutorTemplateCallback):\n",
    "    def _get_query(self):\n",
    "        return \"select * from district\"\n",
    "    \n",
    "    def _map_row(self, row):\n",
    "        m_id, m_name= row\n",
    "        return (m_id, m_name)"
   ]
  },
  {
   "cell_type": "code",
   "execution_count": 3,
   "metadata": {
    "collapsed": false
   },
   "outputs": [
    {
     "name": "stdout",
     "output_type": "stream",
     "text": [
      "(1, u'Northwest')\n",
      "(2, u'Northeast')\n",
      "(3, u'North Central')\n",
      "(4, u'Bay Area')\n",
      "(5, u'Central Coast')\n",
      "(6, u'South Central')\n",
      "(7, u'LA/Ventura')\n",
      "(8, u'San Bernardino/Riverside')\n",
      "(9, u'Eastern Sierra')\n",
      "(10, u'Central')\n",
      "(11, u'San Diego/Imperial')\n",
      "(12, u'Orange County')\n"
     ]
    }
   ],
   "source": [
    "db_name = 'dyerke'\n",
    "username = 'dyerke'\n",
    "password = 'dyerke'\n",
    "hostname = 'localhost'\n",
    "port = 5432\n",
    "\n",
    "template = StatementExecutorTemplate(db_name, username, password, hostname, port)\n",
    "callback= InternalCallback()\n",
    "m_list= template.execute(callback)\n",
    "for i in m_list:\n",
    "    print i"
   ]
  }
 ],
 "metadata": {
  "kernelspec": {
   "display_name": "Python 2",
   "language": "python",
   "name": "python2"
  },
  "language_info": {
   "codemirror_mode": {
    "name": "ipython",
    "version": 2
   },
   "file_extension": ".py",
   "mimetype": "text/x-python",
   "name": "python",
   "nbconvert_exporter": "python",
   "pygments_lexer": "ipython2",
   "version": "2.7.10"
  }
 },
 "nbformat": 4,
 "nbformat_minor": 0
}
