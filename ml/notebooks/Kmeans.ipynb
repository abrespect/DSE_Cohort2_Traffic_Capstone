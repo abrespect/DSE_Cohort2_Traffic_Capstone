{
 "cells": [
  {
   "cell_type": "code",
   "execution_count": 1,
   "metadata": {
    "collapsed": false
   },
   "outputs": [
    {
     "name": "stdout",
     "output_type": "stream",
     "text": [
      "Populating the interactive namespace from numpy and matplotlib\n"
     ]
    }
   ],
   "source": [
    "%pylab inline\n",
    "import scipy.spatial.distance as sdist"
   ]
  },
  {
   "cell_type": "code",
   "execution_count": 39,
   "metadata": {
    "collapsed": false
   },
   "outputs": [],
   "source": [
    "n_samples = 15\n",
    "n_features = 2\n",
    "\n",
    "gen_cov = np.eye(n_features)\n",
    "gen_cov[0, 0] = 5.\n",
    "gen_cov[1, 1] = 3.\n",
    "X = np.dot(np.random.randn(n_samples, n_features), gen_cov)\n",
    "X = np.array([\n",
    "        [-3, -3], [-3, -2], [-2, -2], [-2, -3], [-2.5, -2.5],\n",
    "        [3, 3], [3, 2], [2, 2], [2, 3], [2.5, 2.5],\n",
    "        [0, 0], [-1, -1], [-1, 1], [1, 1], [1, -1]\n",
    "    ])"
   ]
  },
  {
   "cell_type": "code",
   "execution_count": 40,
   "metadata": {
    "collapsed": false
   },
   "outputs": [
    {
     "name": "stdout",
     "output_type": "stream",
     "text": [
      "[[-3.  -3. ]\n",
      " [-3.  -2. ]\n",
      " [-2.  -2. ]\n",
      " [-2.  -3. ]\n",
      " [-2.5 -2.5]\n",
      " [ 3.   3. ]\n",
      " [ 3.   2. ]\n",
      " [ 2.   2. ]\n",
      " [ 2.   3. ]\n",
      " [ 2.5  2.5]\n",
      " [ 0.   0. ]\n",
      " [-1.  -1. ]\n",
      " [-1.   1. ]\n",
      " [ 1.   1. ]\n",
      " [ 1.  -1. ]]\n"
     ]
    }
   ],
   "source": [
    "print X"
   ]
  },
  {
   "cell_type": "code",
   "execution_count": 41,
   "metadata": {
    "collapsed": true
   },
   "outputs": [],
   "source": [
    "def centI(x, C):\n",
    "    return np.argmin([sdist.euclidean(x, c) for c in C])"
   ]
  },
  {
   "cell_type": "code",
   "execution_count": 48,
   "metadata": {
    "collapsed": false
   },
   "outputs": [
    {
     "data": {
      "image/png": "[encoded data removed]",
      "text/plain": [
       "<matplotlib.figure.Figure at 0x10fc588d0>"
      ]
     },
     "metadata": {},
     "output_type": "display_data"
    }
   ],
   "source": [
    "colors = ['red','green','blue']\n",
    "\n",
    "k = 3\n",
    "XColors = []\n",
    "C = []\n",
    "convergeDist = 0.00001\n",
    "convergence = False\n",
    "XColors.append(['grey' for x in X])\n",
    "\n",
    "C.append(np.array(X[np.random.choice(X.shape[0], k, replace=False)]))\n",
    "i = 1\n",
    "while i < 4:\n",
    "    # Assign points to centers\n",
    "    P = {j:[] for j in xrange(k)}\n",
    "    clr = []\n",
    "    for x in X:\n",
    "        c = centI(x, C[i-1])\n",
    "        P[c].append(x)\n",
    "        clr.append(colors[c])\n",
    "    XColors.append(clr)\n",
    "    # Calculate new centers\n",
    "    C.append(np.array([np.mean(P[j],0) for j in xrange(k)]))\n",
    "#     if np.linalg.norm(C[i-1] - C[i]) < convergeDist:\n",
    "#         convergence = True\n",
    "#     else:\n",
    "    i += 1\n",
    "\n",
    "n_rows = int((i)/4.0)+1\n",
    "fig, ax = plt.subplots(n_rows, 4, sharey=True, figsize=(16,n_rows*4))\n",
    "\n",
    "for j in xrange(i):\n",
    "    subfig = plt.subplot(n_rows, 4, j+1)\n",
    "    subfig = plt.subplot(n_rows, 4, j+1)\n",
    "    subfig.scatter(X[:, 0], X[:, 1], color=XColors[j], marker='o')\n",
    "    subfig.scatter([c[0] for c in C[j]], [c[1] for c in C[j]], color=colors, marker='*')\n",
    "    subfig.set_title('Iteration %d'%(j))\n",
    "    subfig.set_xticks(())\n",
    "    subfig.set_yticks(())\n",
    "    \n",
    "# Blank out the rest\n",
    "for j in xrange(i, n_rows*4):\n",
    "    subfig = plt.subplot(n_rows, 4, j+1)\n",
    "    subfig.axis('off')\n"
   ]
  },
  {
   "cell_type": "code",
   "execution_count": null,
   "metadata": {
    "collapsed": true
   },
   "outputs": [],
   "source": []
  }
 ],
 "metadata": {
  "kernelspec": {
   "display_name": "Python 2",
   "language": "python",
   "name": "python2"
  },
  "language_info": {
   "codemirror_mode": {
    "name": "ipython",
    "version": 2
   },
   "file_extension": ".py",
   "mimetype": "text/x-python",
   "name": "python",
   "nbconvert_exporter": "python",
   "pygments_lexer": "ipython2",
   "version": "2.7.11"
  }
 },
 "nbformat": 4,
 "nbformat_minor": 0
}
