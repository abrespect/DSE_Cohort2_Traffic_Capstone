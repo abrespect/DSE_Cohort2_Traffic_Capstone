{
 "cells": [
  {
   "cell_type": "code",
   "execution_count": 76,
   "metadata": {
    "collapsed": true
   },
   "outputs": [],
   "source": [
    "from os.path import expanduser\n",
    "import pandas as pd\n",
    "import simplejson\n",
    "import numpy as np\n",
    "import urllib"
   ]
  },
  {
   "cell_type": "code",
   "execution_count": 2,
   "metadata": {
    "collapsed": false
   },
   "outputs": [],
   "source": [
    "# get the google api key\n",
    "home = expanduser(\"~\")\n",
    "with open(home + '/.googleapi') as infile:\n",
    "    apikey = infile.next().strip()"
   ]
  },
  {
   "cell_type": "code",
   "execution_count": null,
   "metadata": {
    "collapsed": false
   },
   "outputs": [],
   "source": []
  },
  {
   "cell_type": "code",
   "execution_count": 6,
   "metadata": {
    "collapsed": false
   },
   "outputs": [
    {
     "data": {
      "text/html": [
       "<div>\n",
       "<table border=\"1\" class=\"dataframe\">\n",
       "  <thead>\n",
       "    <tr style=\"text-align: right;\">\n",
       "      <th></th>\n",
       "      <th>ID</th>\n",
       "      <th>Fwy</th>\n",
       "      <th>Dir</th>\n",
       "      <th>District</th>\n",
       "      <th>County</th>\n",
       "      <th>City</th>\n",
       "      <th>State_PM</th>\n",
       "      <th>Abs_PM</th>\n",
       "      <th>Latitude</th>\n",
       "      <th>Longitude</th>\n",
       "      <th>Length</th>\n",
       "      <th>Type</th>\n",
       "      <th>Lanes</th>\n",
       "      <th>Name</th>\n",
       "      <th>User_ID_1</th>\n",
       "      <th>User_ID_2</th>\n",
       "      <th>User_ID_3</th>\n",
       "      <th>User_ID_4</th>\n",
       "      <th>file_date</th>\n",
       "    </tr>\n",
       "  </thead>\n",
       "  <tbody>\n",
       "    <tr>\n",
       "      <th>584</th>\n",
       "      <td>1113072</td>\n",
       "      <td>56</td>\n",
       "      <td>W</td>\n",
       "      <td>11</td>\n",
       "      <td>73</td>\n",
       "      <td>66000.0</td>\n",
       "      <td>7.383</td>\n",
       "      <td>7.885</td>\n",
       "      <td>32.955202</td>\n",
       "      <td>-117.124689</td>\n",
       "      <td>0.452</td>\n",
       "      <td>ML</td>\n",
       "      <td>2</td>\n",
       "      <td>Black Mountain Rd</td>\n",
       "      <td>314</td>\n",
       "      <td>NaN</td>\n",
       "      <td>NaN</td>\n",
       "      <td>NaN</td>\n",
       "      <td>2015_01_01</td>\n",
       "    </tr>\n",
       "    <tr>\n",
       "      <th>585</th>\n",
       "      <td>1113073</td>\n",
       "      <td>56</td>\n",
       "      <td>W</td>\n",
       "      <td>11</td>\n",
       "      <td>73</td>\n",
       "      <td>66000.0</td>\n",
       "      <td>7.383</td>\n",
       "      <td>7.885</td>\n",
       "      <td>32.955202</td>\n",
       "      <td>-117.124689</td>\n",
       "      <td>NaN</td>\n",
       "      <td>OR</td>\n",
       "      <td>3</td>\n",
       "      <td>BLACK MOUNTAIN RD</td>\n",
       "      <td>314</td>\n",
       "      <td>NaN</td>\n",
       "      <td>NaN</td>\n",
       "      <td>NaN</td>\n",
       "      <td>2015_01_01</td>\n",
       "    </tr>\n",
       "    <tr>\n",
       "      <th>665</th>\n",
       "      <td>1113680</td>\n",
       "      <td>56</td>\n",
       "      <td>E</td>\n",
       "      <td>11</td>\n",
       "      <td>73</td>\n",
       "      <td>66000.0</td>\n",
       "      <td>6.862</td>\n",
       "      <td>7.364</td>\n",
       "      <td>32.953394</td>\n",
       "      <td>-117.133404</td>\n",
       "      <td>0.999</td>\n",
       "      <td>ML</td>\n",
       "      <td>3</td>\n",
       "      <td>BLACK MOUNTAIN RD</td>\n",
       "      <td>434</td>\n",
       "      <td>NaN</td>\n",
       "      <td>NaN</td>\n",
       "      <td>NaN</td>\n",
       "      <td>2015_01_01</td>\n",
       "    </tr>\n",
       "    <tr>\n",
       "      <th>666</th>\n",
       "      <td>1113683</td>\n",
       "      <td>56</td>\n",
       "      <td>W</td>\n",
       "      <td>11</td>\n",
       "      <td>73</td>\n",
       "      <td>66000.0</td>\n",
       "      <td>7.383</td>\n",
       "      <td>7.885</td>\n",
       "      <td>32.955202</td>\n",
       "      <td>-117.124689</td>\n",
       "      <td>NaN</td>\n",
       "      <td>FR</td>\n",
       "      <td>2</td>\n",
       "      <td>BLK MOUNTAIN - WB 56</td>\n",
       "      <td>314</td>\n",
       "      <td>NaN</td>\n",
       "      <td>NaN</td>\n",
       "      <td>NaN</td>\n",
       "      <td>2015_01_01</td>\n",
       "    </tr>\n",
       "    <tr>\n",
       "      <th>1034</th>\n",
       "      <td>1119041</td>\n",
       "      <td>125</td>\n",
       "      <td>N</td>\n",
       "      <td>11</td>\n",
       "      <td>73</td>\n",
       "      <td>NaN</td>\n",
       "      <td>1.433</td>\n",
       "      <td>3.282</td>\n",
       "      <td>32.608637</td>\n",
       "      <td>-116.967247</td>\n",
       "      <td>0.792</td>\n",
       "      <td>ML</td>\n",
       "      <td>3</td>\n",
       "      <td>1 MI S/O BIRCH RD</td>\n",
       "      <td>19106</td>\n",
       "      <td>NaN</td>\n",
       "      <td>NaN</td>\n",
       "      <td>NaN</td>\n",
       "      <td>2015_01_01</td>\n",
       "    </tr>\n",
       "  </tbody>\n",
       "</table>\n",
       "</div>"
      ],
      "text/plain": [
       "           ID  Fwy Dir  District  County     City State_PM  Abs_PM   Latitude  \\\n",
       "584   1113072   56   W        11      73  66000.0    7.383   7.885  32.955202   \n",
       "585   1113073   56   W        11      73  66000.0    7.383   7.885  32.955202   \n",
       "665   1113680   56   E        11      73  66000.0    6.862   7.364  32.953394   \n",
       "666   1113683   56   W        11      73  66000.0    7.383   7.885  32.955202   \n",
       "1034  1119041  125   N        11      73      NaN    1.433   3.282  32.608637   \n",
       "\n",
       "       Longitude  Length Type  Lanes                  Name  User_ID_1  \\\n",
       "584  -117.124689   0.452   ML      2     Black Mountain Rd        314   \n",
       "585  -117.124689     NaN   OR      3     BLACK MOUNTAIN RD        314   \n",
       "665  -117.133404   0.999   ML      3     BLACK MOUNTAIN RD        434   \n",
       "666  -117.124689     NaN   FR      2  BLK MOUNTAIN - WB 56        314   \n",
       "1034 -116.967247   0.792   ML      3     1 MI S/O BIRCH RD      19106   \n",
       "\n",
       "      User_ID_2  User_ID_3  User_ID_4   file_date  \n",
       "584         NaN        NaN        NaN  2015_01_01  \n",
       "585         NaN        NaN        NaN  2015_01_01  \n",
       "665         NaN        NaN        NaN  2015_01_01  \n",
       "666         NaN        NaN        NaN  2015_01_01  \n",
       "1034        NaN        NaN        NaN  2015_01_01  "
      ]
     },
     "execution_count": 6,
     "metadata": {},
     "output_type": "execute_result"
    }
   ],
   "source": [
    "# read in the metadata file\n",
    "meta_hdf_path = '/Users/bohr/workspace/capstone/DSE_Cohort2_Traffic_Capstone/C2 Exploratory/meta_2015.hdf'\n",
    "meta_frame = pd.read_hdf(meta_hdf_path, 'meta_2015')\n",
    "meta_frame.head()"
   ]
  },
  {
   "cell_type": "code",
   "execution_count": 81,
   "metadata": {
    "collapsed": false
   },
   "outputs": [
    {
     "data": {
      "text/plain": [
       "ID           1541\n",
       "Fwy          1541\n",
       "Dir          1541\n",
       "District     1541\n",
       "County       1541\n",
       "City         1318\n",
       "State_PM     1541\n",
       "Abs_PM       1541\n",
       "Latitude     1539\n",
       "Longitude    1539\n",
       "Length        932\n",
       "Type         1541\n",
       "Lanes        1541\n",
       "Name         1541\n",
       "User_ID_1    1541\n",
       "User_ID_2       0\n",
       "User_ID_3       0\n",
       "User_ID_4       0\n",
       "file_date    1541\n",
       "dtype: int64"
      ]
     },
     "execution_count": 81,
     "metadata": {},
     "output_type": "execute_result"
    }
   ],
   "source": [
    "meta_frame.count()"
   ]
  },
  {
   "cell_type": "code",
   "execution_count": 103,
   "metadata": {
    "collapsed": false
   },
   "outputs": [
    {
     "data": {
      "text/html": [
       "<div>\n",
       "<table border=\"1\" class=\"dataframe\">\n",
       "  <thead>\n",
       "    <tr style=\"text-align: right;\">\n",
       "      <th></th>\n",
       "      <th>ID</th>\n",
       "      <th>Fwy</th>\n",
       "      <th>Dir</th>\n",
       "      <th>District</th>\n",
       "      <th>County</th>\n",
       "      <th>City</th>\n",
       "      <th>State_PM</th>\n",
       "      <th>Abs_PM</th>\n",
       "      <th>Latitude</th>\n",
       "      <th>Longitude</th>\n",
       "      <th>Length</th>\n",
       "      <th>Type</th>\n",
       "      <th>Lanes</th>\n",
       "      <th>Name</th>\n",
       "      <th>User_ID_1</th>\n",
       "      <th>User_ID_2</th>\n",
       "      <th>User_ID_3</th>\n",
       "      <th>User_ID_4</th>\n",
       "      <th>file_date</th>\n",
       "    </tr>\n",
       "  </thead>\n",
       "  <tbody>\n",
       "    <tr>\n",
       "      <th>767</th>\n",
       "      <td>1114649</td>\n",
       "      <td>805</td>\n",
       "      <td>S</td>\n",
       "      <td>11</td>\n",
       "      <td>73</td>\n",
       "      <td>66000.0</td>\n",
       "      <td>28.811</td>\n",
       "      <td>28.662</td>\n",
       "      <td>NaN</td>\n",
       "      <td>NaN</td>\n",
       "      <td>0.651</td>\n",
       "      <td>ML</td>\n",
       "      <td>4</td>\n",
       "      <td>S/B AT JCT I-5</td>\n",
       "      <td>4045</td>\n",
       "      <td>NaN</td>\n",
       "      <td>NaN</td>\n",
       "      <td>NaN</td>\n",
       "      <td>2015_12_17</td>\n",
       "    </tr>\n",
       "    <tr>\n",
       "      <th>1324</th>\n",
       "      <td>1125383</td>\n",
       "      <td>52</td>\n",
       "      <td>W</td>\n",
       "      <td>11</td>\n",
       "      <td>73</td>\n",
       "      <td>70224.0</td>\n",
       "      <td>14.756</td>\n",
       "      <td>14.756</td>\n",
       "      <td>NaN</td>\n",
       "      <td>NaN</td>\n",
       "      <td>0.695</td>\n",
       "      <td>ML</td>\n",
       "      <td>2</td>\n",
       "      <td>52 WB from 125 Conn</td>\n",
       "      <td>43812</td>\n",
       "      <td>NaN</td>\n",
       "      <td>NaN</td>\n",
       "      <td>NaN</td>\n",
       "      <td>2015_12_17</td>\n",
       "    </tr>\n",
       "  </tbody>\n",
       "</table>\n",
       "</div>"
      ],
      "text/plain": [
       "           ID  Fwy Dir  District  County     City State_PM  Abs_PM  Latitude  \\\n",
       "767   1114649  805   S        11      73  66000.0   28.811  28.662       NaN   \n",
       "1324  1125383   52   W        11      73  70224.0   14.756  14.756       NaN   \n",
       "\n",
       "      Longitude  Length Type  Lanes                 Name  User_ID_1  \\\n",
       "767         NaN   0.651   ML      4       S/B AT JCT I-5       4045   \n",
       "1324        NaN   0.695   ML      2  52 WB from 125 Conn      43812   \n",
       "\n",
       "      User_ID_2  User_ID_3  User_ID_4   file_date  \n",
       "767         NaN        NaN        NaN  2015_12_17  \n",
       "1324        NaN        NaN        NaN  2015_12_17  "
      ]
     },
     "execution_count": 103,
     "metadata": {},
     "output_type": "execute_result"
    }
   ],
   "source": [
    "meta_frame[meta_frame.Latitude.isnull()]"
   ]
  },
  {
   "cell_type": "code",
   "execution_count": 215,
   "metadata": {
    "collapsed": false
   },
   "outputs": [
    {
     "name": "stderr",
     "output_type": "stream",
     "text": [
      "/anaconda/lib/python2.7/site-packages/ipykernel/__main__.py:3: SettingWithCopyWarning: \n",
      "A value is trying to be set on a copy of a slice from a DataFrame.\n",
      "Try using .loc[row_indexer,col_indexer] = value instead\n",
      "\n",
      "See the caveats in the documentation: http://pandas.pydata.org/pandas-docs/stable/indexing.html#indexing-view-versus-copy\n",
      "  app.launch_new_instance()\n"
     ]
    }
   ],
   "source": [
    "meta_frame_no_nan = meta_frame.dropna(axis='index', subset=['Latitude', 'Longitude'])\n",
    "meta_frame_no_nan.index = np.arange(0, len(meta_frame_no_nan))\n",
    "meta_frame_no_nan['lat_lon'] = meta_frame_no_nan['Latitude'].map(str) + ',' + meta_frame_no_nan['Longitude'].map(str)"
   ]
  },
  {
   "cell_type": "code",
   "execution_count": 216,
   "metadata": {
    "collapsed": false
   },
   "outputs": [
    {
     "data": {
      "text/html": [
       "<div>\n",
       "<table border=\"1\" class=\"dataframe\">\n",
       "  <thead>\n",
       "    <tr style=\"text-align: right;\">\n",
       "      <th></th>\n",
       "      <th>ID</th>\n",
       "      <th>Fwy</th>\n",
       "      <th>Dir</th>\n",
       "      <th>District</th>\n",
       "      <th>County</th>\n",
       "      <th>City</th>\n",
       "      <th>State_PM</th>\n",
       "      <th>Abs_PM</th>\n",
       "      <th>Latitude</th>\n",
       "      <th>Longitude</th>\n",
       "      <th>Length</th>\n",
       "      <th>Type</th>\n",
       "      <th>Lanes</th>\n",
       "      <th>Name</th>\n",
       "      <th>User_ID_1</th>\n",
       "      <th>User_ID_2</th>\n",
       "      <th>User_ID_3</th>\n",
       "      <th>User_ID_4</th>\n",
       "      <th>file_date</th>\n",
       "      <th>lat_lon</th>\n",
       "    </tr>\n",
       "  </thead>\n",
       "  <tbody>\n",
       "  </tbody>\n",
       "</table>\n",
       "</div>"
      ],
      "text/plain": [
       "Empty DataFrame\n",
       "Columns: [ID, Fwy, Dir, District, County, City, State_PM, Abs_PM, Latitude, Longitude, Length, Type, Lanes, Name, User_ID_1, User_ID_2, User_ID_3, User_ID_4, file_date, lat_lon]\n",
       "Index: []"
      ]
     },
     "execution_count": 216,
     "metadata": {},
     "output_type": "execute_result"
    }
   ],
   "source": [
    "# spot check\n",
    "meta_frame_no_nan[meta_frame_no_nan.ID == 1114649]"
   ]
  },
  {
   "cell_type": "code",
   "execution_count": 217,
   "metadata": {
    "collapsed": false
   },
   "outputs": [
    {
     "data": {
      "text/plain": [
       "ID           1539\n",
       "Fwy          1539\n",
       "Dir          1539\n",
       "District     1539\n",
       "County       1539\n",
       "City         1316\n",
       "State_PM     1539\n",
       "Abs_PM       1539\n",
       "Latitude     1539\n",
       "Longitude    1539\n",
       "Length        930\n",
       "Type         1539\n",
       "Lanes        1539\n",
       "Name         1539\n",
       "User_ID_1    1539\n",
       "User_ID_2       0\n",
       "User_ID_3       0\n",
       "User_ID_4       0\n",
       "file_date    1539\n",
       "lat_lon      1539\n",
       "dtype: int64"
      ]
     },
     "execution_count": 217,
     "metadata": {},
     "output_type": "execute_result"
    }
   ],
   "source": [
    "meta_frame_no_nan.count()"
   ]
  },
  {
   "cell_type": "code",
   "execution_count": 235,
   "metadata": {
    "collapsed": false
   },
   "outputs": [],
   "source": [
    "ELEVATION_BASE_URL = 'https://maps.googleapis.com/maps/api/elevation/json'\n",
    "def getElevation(lat_lon_list=None, **elvtn_args):\n",
    "    \"\"\"\n",
    "    This function will get the elevation from the google api\n",
    "    \"\"\"\n",
    "    result = None\n",
    "    elvtn_args.update({\n",
    "        'locations': \"|\".join(lat_lon_list),\n",
    "        'key': apikey\n",
    "    })\n",
    "\n",
    "    url = ELEVATION_BASE_URL + '?' + urllib.urlencode(elvtn_args)\n",
    "    response = simplejson.load(urllib.urlopen(url))\n",
    "\n",
    "    if 'status' not in response or response['status'] != 'OK':\n",
    "        print \"bad response\"\n",
    "    else:\n",
    "        result = [item['elevation'] for item in response['results']]\n",
    "    return result"
   ]
  },
  {
   "cell_type": "code",
   "execution_count": 236,
   "metadata": {
    "collapsed": false
   },
   "outputs": [
    {
     "name": "stdout",
     "output_type": "stream",
     "text": [
      "1539\n",
      "1539\n"
     ]
    }
   ],
   "source": [
    "# # chunk the data into parts of 50\n",
    "# id_master = []\n",
    "# elevation_master = []\n",
    "\n",
    "# chunk = 50\n",
    "# for item in range(0, 31):\n",
    "#     start = item*chunk\n",
    "#     end = (item+1)*chunk\n",
    "    \n",
    "#     id_master += list(meta_frame_no_nan['ID'][start:end].values)\n",
    "#     elevation_master += getElevation(list(meta_frame_no_nan['lat_lon'][start:end]))\n",
    "    \n",
    "# print len(id_master)\n",
    "# print len(elevation_master)"
   ]
  },
  {
   "cell_type": "code",
   "execution_count": 237,
   "metadata": {
    "collapsed": false
   },
   "outputs": [],
   "source": [
    "elev_df = pd.DataFrame({'ID': id_master, 'elevation': elevation_master})"
   ]
  },
  {
   "cell_type": "code",
   "execution_count": 241,
   "metadata": {
    "collapsed": false
   },
   "outputs": [
    {
     "data": {
      "text/plain": [
       "Index([u'ID', u'Fwy', u'Dir', u'District', u'County', u'City', u'State_PM',\n",
       "       u'Abs_PM', u'Latitude', u'Longitude', u'Length', u'Type', u'Lanes',\n",
       "       u'Name', u'User_ID_1', u'User_ID_2', u'User_ID_3', u'User_ID_4',\n",
       "       u'file_date'],\n",
       "      dtype='object')"
      ]
     },
     "execution_count": 241,
     "metadata": {},
     "output_type": "execute_result"
    }
   ],
   "source": [
    "meta_frame.columns"
   ]
  },
  {
   "cell_type": "code",
   "execution_count": 242,
   "metadata": {
    "collapsed": false
   },
   "outputs": [
    {
     "data": {
      "text/plain": [
       "Index([u'ID', u'elevation'], dtype='object')"
      ]
     },
     "execution_count": 242,
     "metadata": {},
     "output_type": "execute_result"
    }
   ],
   "source": [
    "elev_df.columns"
   ]
  },
  {
   "cell_type": "code",
   "execution_count": 251,
   "metadata": {
    "collapsed": false
   },
   "outputs": [],
   "source": [
    "new_meta_frame = pd.merge(meta_frame, elev_df, how='left')"
   ]
  },
  {
   "cell_type": "code",
   "execution_count": 253,
   "metadata": {
    "collapsed": false
   },
   "outputs": [
    {
     "data": {
      "text/html": [
       "<div>\n",
       "<table border=\"1\" class=\"dataframe\">\n",
       "  <thead>\n",
       "    <tr style=\"text-align: right;\">\n",
       "      <th></th>\n",
       "      <th>ID</th>\n",
       "      <th>Fwy</th>\n",
       "      <th>Dir</th>\n",
       "      <th>District</th>\n",
       "      <th>County</th>\n",
       "      <th>City</th>\n",
       "      <th>State_PM</th>\n",
       "      <th>Abs_PM</th>\n",
       "      <th>Latitude</th>\n",
       "      <th>Longitude</th>\n",
       "      <th>Length</th>\n",
       "      <th>Type</th>\n",
       "      <th>Lanes</th>\n",
       "      <th>Name</th>\n",
       "      <th>User_ID_1</th>\n",
       "      <th>User_ID_2</th>\n",
       "      <th>User_ID_3</th>\n",
       "      <th>User_ID_4</th>\n",
       "      <th>file_date</th>\n",
       "      <th>elevation</th>\n",
       "    </tr>\n",
       "  </thead>\n",
       "  <tbody>\n",
       "    <tr>\n",
       "      <th>884</th>\n",
       "      <td>1114649</td>\n",
       "      <td>805</td>\n",
       "      <td>S</td>\n",
       "      <td>11</td>\n",
       "      <td>73</td>\n",
       "      <td>66000.0</td>\n",
       "      <td>28.811</td>\n",
       "      <td>28.662</td>\n",
       "      <td>NaN</td>\n",
       "      <td>NaN</td>\n",
       "      <td>0.651</td>\n",
       "      <td>ML</td>\n",
       "      <td>4</td>\n",
       "      <td>S/B AT JCT I-5</td>\n",
       "      <td>4045</td>\n",
       "      <td>NaN</td>\n",
       "      <td>NaN</td>\n",
       "      <td>NaN</td>\n",
       "      <td>2015_12_17</td>\n",
       "      <td>NaN</td>\n",
       "    </tr>\n",
       "    <tr>\n",
       "      <th>1441</th>\n",
       "      <td>1125383</td>\n",
       "      <td>52</td>\n",
       "      <td>W</td>\n",
       "      <td>11</td>\n",
       "      <td>73</td>\n",
       "      <td>70224.0</td>\n",
       "      <td>14.756</td>\n",
       "      <td>14.756</td>\n",
       "      <td>NaN</td>\n",
       "      <td>NaN</td>\n",
       "      <td>0.695</td>\n",
       "      <td>ML</td>\n",
       "      <td>2</td>\n",
       "      <td>52 WB from 125 Conn</td>\n",
       "      <td>43812</td>\n",
       "      <td>NaN</td>\n",
       "      <td>NaN</td>\n",
       "      <td>NaN</td>\n",
       "      <td>2015_12_17</td>\n",
       "      <td>NaN</td>\n",
       "    </tr>\n",
       "  </tbody>\n",
       "</table>\n",
       "</div>"
      ],
      "text/plain": [
       "           ID  Fwy Dir  District  County     City State_PM  Abs_PM  Latitude  \\\n",
       "884   1114649  805   S        11      73  66000.0   28.811  28.662       NaN   \n",
       "1441  1125383   52   W        11      73  70224.0   14.756  14.756       NaN   \n",
       "\n",
       "      Longitude  Length Type  Lanes                 Name  User_ID_1  \\\n",
       "884         NaN   0.651   ML      4       S/B AT JCT I-5       4045   \n",
       "1441        NaN   0.695   ML      2  52 WB from 125 Conn      43812   \n",
       "\n",
       "      User_ID_2  User_ID_3  User_ID_4   file_date  elevation  \n",
       "884         NaN        NaN        NaN  2015_12_17        NaN  \n",
       "1441        NaN        NaN        NaN  2015_12_17        NaN  "
      ]
     },
     "execution_count": 253,
     "metadata": {},
     "output_type": "execute_result"
    }
   ],
   "source": [
    "new_meta_frame[new_meta_frame.elevation.isnull()]"
   ]
  },
  {
   "cell_type": "code",
   "execution_count": 254,
   "metadata": {
    "collapsed": false
   },
   "outputs": [],
   "source": [
    "new_meta_frame.to_csv('meta_2015_with_elev.csv')"
   ]
  },
  {
   "cell_type": "code",
   "execution_count": null,
   "metadata": {
    "collapsed": false
   },
   "outputs": [],
   "source": []
  }
 ],
 "metadata": {
  "anaconda-cloud": {},
  "kernelspec": {
   "display_name": "Python [default]",
   "language": "python",
   "name": "python2"
  },
  "language_info": {
   "codemirror_mode": {
    "name": "ipython",
    "version": 2
   },
   "file_extension": ".py",
   "mimetype": "text/x-python",
   "name": "python",
   "nbconvert_exporter": "python",
   "pygments_lexer": "ipython2",
   "version": "2.7.12"
  }
 },
 "nbformat": 4,
 "nbformat_minor": 1
}
