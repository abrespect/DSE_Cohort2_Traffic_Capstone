{
 "cells": [
  {
   "cell_type": "code",
   "execution_count": 140,
   "metadata": {
    "collapsed": false
   },
   "outputs": [],
   "source": [
    "%matplotlib inline\n",
    "import matplotlib.pyplot as plt\n",
    "import pandas as pd\n",
    "import numpy as np\n",
    "import time\n",
    "from os import listdir\n",
    "from os.path import isfile, join\n",
    "from datetime import time\n",
    "import glob\n",
    "import sys\n",
    "import datetime\n",
    "\n",
    "from pyspark.sql.functions import udf, hour, mean, minute, stddev, count, max as psmax, min as psmin, date_format\n",
    "\n",
    "from pyspark.sql import SQLContext\n",
    "from pyspark.sql.types import *"
   ]
  },
  {
   "cell_type": "markdown",
   "metadata": {},
   "source": [
    "Go here to see pyspark functions\n",
    "http://spark.apache.org/docs/2.1.0/api/python/pyspark.sql.html"
   ]
  },
  {
   "cell_type": "code",
   "execution_count": 18,
   "metadata": {
    "collapsed": true
   },
   "outputs": [],
   "source": [
    "#data locations\n",
    "data_5min_path = \"../../../d11_traffic_data/d11/\"\n",
    "meta_path = \"../../../d11_traffic_data/meta/d11/\""
   ]
  },
  {
   "cell_type": "markdown",
   "metadata": {},
   "source": [
    "# Get data file names"
   ]
  },
  {
   "cell_type": "markdown",
   "metadata": {},
   "source": [
    "These are all of the filenames that are going to be fed into the Spark instance."
   ]
  },
  {
   "cell_type": "code",
   "execution_count": 13,
   "metadata": {
    "collapsed": false
   },
   "outputs": [],
   "source": [
    "#get all files to process\n",
    "onlyfiles = [f for f in listdir(data_5min_path) if isfile(join(data_5min_path, f)) ]\n",
    "onlyfiles = [a for a in onlyfiles if 'txt.gz' in a]"
   ]
  },
  {
   "cell_type": "code",
   "execution_count": 14,
   "metadata": {
    "collapsed": false
   },
   "outputs": [
    {
     "data": {
      "text/plain": [
       "['d11_text_station_5min_2015_01_01.txt.gz',\n",
       " 'd11_text_station_5min_2015_01_02.txt.gz',\n",
       " 'd11_text_station_5min_2015_01_03.txt.gz']"
      ]
     },
     "execution_count": 14,
     "metadata": {},
     "output_type": "execute_result"
    }
   ],
   "source": [
    "onlyfiles[0:3]"
   ]
  },
  {
   "cell_type": "markdown",
   "metadata": {},
   "source": [
    "# Make spark schema"
   ]
  },
  {
   "cell_type": "markdown",
   "metadata": {},
   "source": [
    "struct list was generated with the following code after reading the files with inferschema = true, then hand modified \n",
    "```\n",
    "'[' + ','.join(['StructField(\"%s\",%s(),True)'% (colnames[idx], str(i.dataType))\n",
    "for idx, i in enumerate(rdd.schema)]) + ']'\n",
    "```"
   ]
  },
  {
   "cell_type": "markdown",
   "metadata": {},
   "source": [
    " Column Names are not defined in the files. Defining column names for readability"
   ]
  },
  {
   "cell_type": "code",
   "execution_count": 10,
   "metadata": {
    "collapsed": true
   },
   "outputs": [],
   "source": [
    "colnames = [\n",
    "    'Timestamp','Station','District','Freeway','Direction_of_Travel',\n",
    "    'LaneType','StationLength','Samples',\n",
    "    'Perc_Observed','TotalFlow','AvgOccupancy','AvgSpeed',\n",
    "    'Lane1_Samples','Lane1_Flow','Lane1_AvgOcc','Lane1_AvgSpeed','Lane1_Observed',\n",
    "    'Lane2_Samples','Lane2_Flow','Lane2_AvgOcc','Lane2_AvgSpeed','Lane2_Observed',\n",
    "    'Lane3_Samples','Lane3_Flow','Lane3_AvgOcc','Lane3_AvgSpeed','Lane3_Observed',\n",
    "    'Lane4_Samples','Lane4_Flow','Lane4_AvgOcc','Lane4_AvgSpeed','Lane4_Observed',\n",
    "    'Lane5_Samples','Lane5_Flow','Lane5_AvgOcc','Lane5_AvgSpeed','Lane5_Observed',\n",
    "    'Lane6_Samples','Lane6_Flow','Lane6_AvgOcc','Lane6_AvgSpeed','Lane6_Observed',\n",
    "    'Lane7_Samples','Lane7_Flow','Lane7_AvgOcc','Lane7_AvgSpeed','Lane7_Observed',\n",
    "    'Lane8_Samples','Lane8_Flow','Lane8_AvgOcc','Lane8_AvgSpeed','Lane8_Observed'\n",
    "]\n",
    "colnames = [c.lower() for c in colnames]"
   ]
  },
  {
   "cell_type": "markdown",
   "metadata": {},
   "source": [
    "Ran spark instance once with limited dataset to identify the datatypes of each column to help create the following script."
   ]
  },
  {
   "cell_type": "code",
   "execution_count": 66,
   "metadata": {
    "collapsed": false
   },
   "outputs": [],
   "source": [
    "#print '[\\n    ' + \",\\n    \".join(['StructField(\"%s\",%s(),True)'% (colnames[idx], str(i.dataType))\n",
    "#for idx, i in enumerate(rdd.schema)]) + '\\n]'"
   ]
  },
  {
   "cell_type": "markdown",
   "metadata": {},
   "source": [
    "# Build dataframe with spark"
   ]
  },
  {
   "cell_type": "markdown",
   "metadata": {},
   "source": [
    "Defining the schema of the files that we are reading in. StructType creates the dataframe schema equivalent of create syntax in SQL)"
   ]
  },
  {
   "cell_type": "code",
   "execution_count": 16,
   "metadata": {
    "collapsed": true
   },
   "outputs": [],
   "source": [
    "struct_list = [\n",
    "    StructField(\"timestamp\",TimestampType(),True),\n",
    "    StructField(\"station\",IntegerType(),True),\n",
    "    StructField(\"district\",IntegerType(),True),\n",
    "    StructField(\"freeway\",IntegerType(),True),\n",
    "    StructField(\"direction_of_travel\",StringType(),True),\n",
    "    StructField(\"lanetype\",StringType(),True),\n",
    "    StructField(\"stationlength\",DoubleType(),True),\n",
    "    StructField(\"samples\",IntegerType(),True),\n",
    "    StructField(\"perc_observed\",IntegerType(),True),\n",
    "    StructField(\"totalflow\",IntegerType(),True),\n",
    "    StructField(\"avgoccupancy\",DoubleType(),True),\n",
    "    StructField(\"avgspeed\",DoubleType(),True),\n",
    "    StructField(\"lane1_samples\",IntegerType(),True),\n",
    "    StructField(\"lane1_flow\",IntegerType(),True),\n",
    "    StructField(\"lane1_avgocc\",DoubleType(),True),\n",
    "    StructField(\"lane1_avgspeed\",DoubleType(),True),\n",
    "    StructField(\"lane1_observed\",IntegerType(),True),\n",
    "    StructField(\"lane2_samples\",IntegerType(),True),\n",
    "    StructField(\"lane2_flow\",IntegerType(),True),\n",
    "    StructField(\"lane2_avgocc\",DoubleType(),True),\n",
    "    StructField(\"lane2_avgspeed\",DoubleType(),True),\n",
    "    StructField(\"lane2_observed\",IntegerType(),True),\n",
    "    StructField(\"lane3_samples\",IntegerType(),True),\n",
    "    StructField(\"lane3_flow\",IntegerType(),True),\n",
    "    StructField(\"lane3_avgocc\",DoubleType(),True),\n",
    "    StructField(\"lane3_avgspeed\",DoubleType(),True),\n",
    "    StructField(\"lane3_observed\",IntegerType(),True),\n",
    "    StructField(\"lane4_samples\",IntegerType(),True),\n",
    "    StructField(\"lane4_flow\",IntegerType(),True),\n",
    "    StructField(\"lane4_avgocc\",DoubleType(),True),\n",
    "    StructField(\"lane4_avgspeed\",DoubleType(),True),\n",
    "    StructField(\"lane4_observed\",IntegerType(),True),\n",
    "    StructField(\"lane5_samples\",IntegerType(),True),\n",
    "    StructField(\"lane5_flow\",IntegerType(),True),\n",
    "    StructField(\"lane5_avgocc\",DoubleType(),True),\n",
    "    StructField(\"lane5_avgspeed\",DoubleType(),True),\n",
    "    StructField(\"lane5_observed\",IntegerType(),True),\n",
    "    StructField(\"lane6_samples\",IntegerType(),True),\n",
    "    StructField(\"lane6_flow\",IntegerType(),True),\n",
    "    StructField(\"lane6_avgocc\",DoubleType(),True),\n",
    "    StructField(\"lane6_avgspeed\",DoubleType(),True),\n",
    "    StructField(\"lane6_observed\",IntegerType(),True),\n",
    "    StructField(\"lane7_samples\",IntegerType(),True),\n",
    "    StructField(\"lane7_flow\",IntegerType(),True),\n",
    "    StructField(\"lane7_avgocc\",DoubleType(),True),\n",
    "    StructField(\"lane7_avgspeed\",DoubleType(),True),\n",
    "    StructField(\"lane7_observed\",IntegerType(),True),\n",
    "    StructField(\"lane8_samples\",IntegerType(),True),\n",
    "    StructField(\"lane8_flow\",IntegerType(),True),\n",
    "    StructField(\"lane8_avgocc\",DoubleType(),True),\n",
    "    StructField(\"lane8_avgspeed\",DoubleType(),True),\n",
    "    StructField(\"lane8_observed\",IntegerType(),True)\n",
    "]\n",
    "\n",
    "schema_struct = StructType(struct_list)"
   ]
  },
  {
   "cell_type": "markdown",
   "metadata": {},
   "source": [
    "Loading the data into spark dataframe from the files (equivalent of insert statements with files in SQL)"
   ]
  },
  {
   "cell_type": "code",
   "execution_count": 34,
   "metadata": {
    "collapsed": false
   },
   "outputs": [
    {
     "data": {
      "text/plain": [
       "[Row(timestamp=datetime.datetime(2015, 1, 5, 0, 0), station=1100313, district=11, freeway=5, direction_of_travel=u'N', lanetype=u'FR', stationlength=None, samples=10, perc_observed=100, totalflow=6, avgoccupancy=None, avgspeed=None, lane1_samples=10, lane1_flow=6, lane1_avgocc=None, lane1_avgspeed=None, lane1_observed=1, lane2_samples=None, lane2_flow=None, lane2_avgocc=None, lane2_avgspeed=None, lane2_observed=0, lane3_samples=None, lane3_flow=None, lane3_avgocc=None, lane3_avgspeed=None, lane3_observed=0, lane4_samples=None, lane4_flow=None, lane4_avgocc=None, lane4_avgspeed=None, lane4_observed=0, lane5_samples=None, lane5_flow=None, lane5_avgocc=None, lane5_avgspeed=None, lane5_observed=0, lane6_samples=None, lane6_flow=None, lane6_avgocc=None, lane6_avgspeed=None, lane6_observed=0, lane7_samples=None, lane7_flow=None, lane7_avgocc=None, lane7_avgspeed=None, lane7_observed=0, lane8_samples=None, lane8_flow=None, lane8_avgocc=None, lane8_avgspeed=None, lane8_observed=0)]"
      ]
     },
     "execution_count": 34,
     "metadata": {},
     "output_type": "execute_result"
    }
   ],
   "source": [
    "#node this is only the first 5 days of files for now\n",
    "files = [data_5min_path + filename for filename in onlyfiles[:5]]\n",
    "\n",
    "rdd = spark.read.csv(\n",
    "    files, \n",
    "    header='false',\n",
    "    timestampFormat='MM/dd/yyyy HH:mm:ss',\n",
    "    schema=schema_struct,\n",
    "    inferSchema='false'\n",
    ")\n",
    "    \n",
    "rdd.take(1)"
   ]
  },
  {
   "cell_type": "code",
   "execution_count": 27,
   "metadata": {
    "collapsed": false
   },
   "outputs": [
    {
     "data": {
      "text/plain": [
       "2129760"
      ]
     },
     "execution_count": 27,
     "metadata": {},
     "output_type": "execute_result"
    }
   ],
   "source": [
    "rdd.count()"
   ]
  },
  {
   "cell_type": "markdown",
   "metadata": {},
   "source": [
    "### Build freeway STM station order from meta data"
   ]
  },
  {
   "cell_type": "markdown",
   "metadata": {},
   "source": [
    "Build a sparksql dataframe with the metadata"
   ]
  },
  {
   "cell_type": "code",
   "execution_count": 30,
   "metadata": {
    "collapsed": false
   },
   "outputs": [],
   "source": [
    "meta_path = \"../../../d11_traffic_data/meta/d11/\"\n",
    "\n",
    "def loadMeta():\n",
    "    meta_dir= meta_path+'d11_text_meta_2015_*.txt'\n",
    "    meta_files = glob.glob(meta_dir)\n",
    "\n",
    "    meta_file_list = []\n",
    "    for meta_file in meta_files:\n",
    "        date = str('_'.join(meta_file.split('_')[4:7])).split('.')[0]\n",
    "        df = pd.read_table(meta_file, index_col=None, header=0)\n",
    "        date_col = pd.Series([date] * len(df))\n",
    "        df['file_date'] = date_col\n",
    "        # drop rows that are missing latitude / longitude values\n",
    "        #df.dropna(inplace=True, subset=['Latitude', 'Longitude'], how='any')\n",
    "        meta_file_list.append(df)\n",
    "\n",
    "    meta_frame = pd.concat(meta_file_list).drop_duplicates(subset='ID', keep='last')\n",
    "\n",
    "    usefwy = [ 56, 125, 805,  52, 163,   8,  15,   5, 905,  78,  94,  54]\n",
    "\n",
    "    meta_frame = meta_frame[meta_frame.Fwy.apply(lambda x: x in usefwy)]\n",
    "\n",
    "    #Add freeway name FwyDir\n",
    "    meta_frame['freeway'] = meta_frame.Fwy.apply(str) + meta_frame.Dir\n",
    "    \n",
    "    r_c = {}\n",
    "    for c in meta_frame.columns:\n",
    "        r_c[c]=c.lower()\n",
    "    \n",
    "    meta_frame=meta_frame.rename(columns = r_c )\n",
    "    return meta_frame\n",
    "\n",
    "meta_data = sqlCtx.createDataFrame(loadMeta().loc[:,['id','abs_pm','type']].rename(columns={'id':'station'}))"
   ]
  },
  {
   "cell_type": "code",
   "execution_count": 32,
   "metadata": {
    "collapsed": false
   },
   "outputs": [
    {
     "name": "stdout",
     "output_type": "stream",
     "text": [
      "+-------+------------------+----+\n",
      "|station|            abs_pm|type|\n",
      "+-------+------------------+----+\n",
      "|1113072|             7.885|  ML|\n",
      "|1113073|             7.885|  OR|\n",
      "|1113680|             7.364|  ML|\n",
      "|1113683|             7.885|  FR|\n",
      "|1119041|             3.282|  ML|\n",
      "|1119042|             5.428|  ML|\n",
      "|1119059|             4.067|  ML|\n",
      "|1119060|             6.346|  ML|\n",
      "|1119093|             7.026|  ML|\n",
      "|1119094|             4.747|  ML|\n",
      "|1119109|              7.93|  ML|\n",
      "|1119110|             5.575|  ML|\n",
      "|1119178|            12.009|  ML|\n",
      "|1119179|            11.364|  ML|\n",
      "|1122687|             8.103|  FR|\n",
      "|1122983|             9.712|  ML|\n",
      "|1122991| 9.277000000000001|  ML|\n",
      "|1119020| 4.718999999999999|  ML|\n",
      "|1119021|             2.344|  ML|\n",
      "|1119050|             3.928|  ML|\n",
      "|1119051|             6.215|  ML|\n",
      "|1119067|4.1530000000000005|  ML|\n",
      "|1119068|4.1530000000000005|  ML|\n",
      "|1119075|             4.356|  ML|\n",
      "|1119076|             4.332|  ML|\n",
      "|1119085|             4.515|  ML|\n",
      "|1119086|             6.795|  ML|\n",
      "|1119101| 7.367999999999999|  ML|\n",
      "|1119102|             5.092|  ML|\n",
      "|1119117| 8.222999999999999|  ML|\n",
      "|1119118|             8.246|  ML|\n",
      "|1119125|             8.415|  ML|\n",
      "|1119126|             6.136|  ML|\n",
      "|1119134|             8.969|  ML|\n",
      "|1119135|             6.657|  ML|\n",
      "|1119143|             9.156|  ML|\n",
      "|1119144|             6.865|  ML|\n",
      "|1119161|             9.917|  ML|\n",
      "|1119162|7.6339999999999995|  ML|\n",
      "|1119170|            11.659|  ML|\n",
      "|1119171| 7.957999999999999|  ML|\n",
      "|1119186|             9.138|  ML|\n",
      "|1119187|11.927999999999999|  ML|\n",
      "|1119195|            12.273|  ML|\n",
      "|1119196|             12.85|  ML|\n",
      "|1119205|10.142000000000001|  ML|\n",
      "|1119232|            12.953|  ML|\n",
      "|1119251|             11.72|  ML|\n",
      "|1119252|            11.047|  ML|\n",
      "|1119261|            13.865|  FF|\n",
      "|1119264|13.222000000000001|  FF|\n",
      "|1122781|              8.93|  ML|\n",
      "|1116415|              6.94|  ML|\n",
      "|1126148|            23.111|  ML|\n",
      "|1114376|             2.351|  ML|\n",
      "|1120040|             8.101|  ML|\n",
      "|1121394|             8.371|  ML|\n",
      "|1122335|             8.375|  HV|\n",
      "|1125509|             8.377|  HV|\n",
      "|1125972|             8.103|  HV|\n",
      "|1125976|             8.101|  FF|\n",
      "|1126156|23.500999999999998|  ML|\n",
      "|1126163|            23.502|  ML|\n",
      "|1126165|23.500999999999998|  HV|\n",
      "|1126167|23.500999999999998|  HV|\n",
      "|1114484| 9.187999999999999|  ML|\n",
      "|1114491| 9.142000000000001|  ML|\n",
      "|1114326|15.017000000000001|  ML|\n",
      "|1108769|            29.081|  ML|\n",
      "|1108770|            29.081|  OR|\n",
      "|1111551|             4.313|  ML|\n",
      "|1113486|2.2230000000000003|  ML|\n",
      "|1113644|            29.081|  FR|\n",
      "|1113951|             2.222|  FF|\n",
      "|1114683|             3.804|  ML|\n",
      "|1114695|            34.529|  ML|\n",
      "|1115368|             4.315|  FF|\n",
      "|1116570|              2.23|  OR|\n",
      "|1117920|             1.703|  ML|\n",
      "|1121745|            39.637|  ML|\n",
      "|1121751|            45.717|  ML|\n",
      "|1122458|            10.814|  FR|\n",
      "|1122942|             1.829|  ML|\n",
      "|1122945|             1.703|  ML|\n",
      "|1122948|             1.713|  ML|\n",
      "|1123002|            20.311|  ML|\n",
      "|1123003|            20.302|  ML|\n",
      "|1125235|            10.814|  OR|\n",
      "|1125486|            29.081|  HV|\n",
      "|1108577|            22.309|  ML|\n",
      "|1111550| 6.837000000000001|  ML|\n",
      "|1114108|1.8969999999999998|  ML|\n",
      "|1114131|            10.101|  ML|\n",
      "|1114136|               0.3|  ML|\n",
      "|1114141|              3.15|  ML|\n",
      "|1114147|              4.65|  ML|\n",
      "|1114157|              10.1|  ML|\n",
      "|1114171|             4.651|  ML|\n",
      "|1114511|             14.25|  ML|\n",
      "|1116015|             9.506|  FF|\n",
      "+-------+------------------+----+\n",
      "only showing top 100 rows\n",
      "\n"
     ]
    }
   ],
   "source": [
    "meta_data.show(100)"
   ]
  },
  {
   "cell_type": "markdown",
   "metadata": {},
   "source": [
    "# filter for weekdays I5 S\n",
    "# group by station, time\n"
   ]
  },
  {
   "cell_type": "markdown",
   "metadata": {},
   "source": [
    "Modify this to make all queries"
   ]
  },
  {
   "cell_type": "code",
   "execution_count": 147,
   "metadata": {
    "collapsed": false
   },
   "outputs": [],
   "source": [
    "weekdaySelector = udf(\n",
    "    lambda x: \"weekday\" if int(x) < 6 else \"weekend\"\n",
    ")\n",
    "\n",
    "#timeOfDay = udf(\n",
    "#    lambda x: x[0] #time(int(x.hour),int(x.minute))\n",
    "#)\n",
    "\n",
    "timeOfDay = udf(\n",
    "    lambda x: time(int(x.hour), int(x.minute)).strftime(\"H:M\")\n",
    ")\n"
   ]
  },
  {
   "cell_type": "code",
   "execution_count": 148,
   "metadata": {
    "collapsed": false
   },
   "outputs": [],
   "source": [
    "station_time = (\n",
    "    rdd\n",
    "    .select(\n",
    "        'freeway',\n",
    "        'direction_of_travel',\n",
    "        'timestamp',\n",
    "        'station',\n",
    "        'totalflow',\n",
    "        'avgoccupancy',\n",
    "        'avgspeed',\n",
    "        date_format('timestamp', 'u').alias('dayofweek')\n",
    "    )\n",
    "    \n",
    ")\n",
    "\n",
    "station_time = (\n",
    "    station_time\n",
    "    .withColumn(\n",
    "        'dayType', \n",
    "        weekdaySelector(station_time.dayofweek)\n",
    "        )\n",
    "    .withColumn(\n",
    "        'timeOfDay',\n",
    "        timeOfDay(station_time.timestamp)\n",
    "    )\n",
    "    .groupBy([\n",
    "        'freeway',\n",
    "        'direction_of_travel',\n",
    "        'station',\n",
    "        'dayType',\n",
    "        'dayofweek',\n",
    "        'timeOfDay'\n",
    "        #hour(\"timestamp\").alias(\"hour\"),\n",
    "        #minute(\"timestamp\").alias(\"minute\")\n",
    "    ])\n",
    "    .agg(\n",
    "        mean(\"totalflow\").alias(\"flow_mean\"),\n",
    "        stddev(\"totalflow\").alias(\"flow_std\"),\n",
    "        count(\"totalflow\").alias(\"flow_count\"),\n",
    "        psmax(\"totalflow\").alias(\"flow_max\"),\n",
    "        psmin(\"totalflow\").alias(\"flow_min\"),\n",
    "        \n",
    "        mean(\"avgoccupancy\").alias(\"occ_mean\"),\n",
    "        stddev(\"avgoccupancy\").alias(\"occ_std\"),\n",
    "        count(\"avgoccupancy\").alias(\"occ_count\"),\n",
    "        psmax(\"avgoccupancy\").alias(\"occ_max\"),\n",
    "        psmin(\"avgoccupancy\").alias(\"occ_min\"),\n",
    "        \n",
    "        mean(\"avgspeed\").alias(\"speed_mean\"),\n",
    "        stddev(\"avgspeed\").alias(\"speed_std\"),\n",
    "        count(\"avgspeed\").alias(\"speed_count\"),\n",
    "        psmax(\"avgspeed\").alias(\"speed_max\"),\n",
    "        psmin(\"avgspeed\").alias(\"speed_min\")\n",
    "    )\n",
    ")\n",
    "\n",
    "\n",
    "\n",
    "#station_time = (\n",
    "#    station_time\n",
    "#    .withColumn(\n",
    "#        'timeOfDay', \n",
    "#        timeOfDay(station_time)\n",
    "#    )\n",
    "#)\n",
    "#station_time.show(10)"
   ]
  },
  {
   "cell_type": "code",
   "execution_count": 149,
   "metadata": {
    "collapsed": false
   },
   "outputs": [
    {
     "ename": "Exception",
     "evalue": "could not open socket",
     "output_type": "error",
     "traceback": [
      "\u001b[0;31m---------------------------------------------------------------------------\u001b[0m",
      "\u001b[0;31mException\u001b[0m                                 Traceback (most recent call last)",
      "\u001b[0;32m<ipython-input-149-81f119ee99c2>\u001b[0m in \u001b[0;36m<module>\u001b[0;34m()\u001b[0m\n\u001b[0;32m----> 1\u001b[0;31m \u001b[0mdf\u001b[0m \u001b[0;34m=\u001b[0m \u001b[0mstation_time\u001b[0m\u001b[0;34m.\u001b[0m\u001b[0mtoPandas\u001b[0m\u001b[0;34m(\u001b[0m\u001b[0;34m)\u001b[0m\u001b[0;34m\u001b[0m\u001b[0m\n\u001b[0m",
      "\u001b[0;32m/Users/mikihardisty/Applications/spark-2.1.0-bin-hadoop2.7/python/pyspark/sql/dataframe.py\u001b[0m in \u001b[0;36mtoPandas\u001b[0;34m(self)\u001b[0m\n\u001b[1;32m   1574\u001b[0m         \"\"\"\n\u001b[1;32m   1575\u001b[0m         \u001b[0;32mimport\u001b[0m \u001b[0mpandas\u001b[0m \u001b[0;32mas\u001b[0m \u001b[0mpd\u001b[0m\u001b[0;34m\u001b[0m\u001b[0m\n\u001b[0;32m-> 1576\u001b[0;31m         \u001b[0;32mreturn\u001b[0m \u001b[0mpd\u001b[0m\u001b[0;34m.\u001b[0m\u001b[0mDataFrame\u001b[0m\u001b[0;34m.\u001b[0m\u001b[0mfrom_records\u001b[0m\u001b[0;34m(\u001b[0m\u001b[0mself\u001b[0m\u001b[0;34m.\u001b[0m\u001b[0mcollect\u001b[0m\u001b[0;34m(\u001b[0m\u001b[0;34m)\u001b[0m\u001b[0;34m,\u001b[0m \u001b[0mcolumns\u001b[0m\u001b[0;34m=\u001b[0m\u001b[0mself\u001b[0m\u001b[0;34m.\u001b[0m\u001b[0mcolumns\u001b[0m\u001b[0;34m)\u001b[0m\u001b[0;34m\u001b[0m\u001b[0m\n\u001b[0m\u001b[1;32m   1577\u001b[0m \u001b[0;34m\u001b[0m\u001b[0m\n\u001b[1;32m   1578\u001b[0m     \u001b[0;31m##########################################################################################\u001b[0m\u001b[0;34m\u001b[0m\u001b[0;34m\u001b[0m\u001b[0m\n",
      "\u001b[0;32m/Users/mikihardisty/Applications/spark-2.1.0-bin-hadoop2.7/python/pyspark/sql/dataframe.py\u001b[0m in \u001b[0;36mcollect\u001b[0;34m(self)\u001b[0m\n\u001b[1;32m    390\u001b[0m         \u001b[0;32mwith\u001b[0m \u001b[0mSCCallSiteSync\u001b[0m\u001b[0;34m(\u001b[0m\u001b[0mself\u001b[0m\u001b[0;34m.\u001b[0m\u001b[0m_sc\u001b[0m\u001b[0;34m)\u001b[0m \u001b[0;32mas\u001b[0m \u001b[0mcss\u001b[0m\u001b[0;34m:\u001b[0m\u001b[0;34m\u001b[0m\u001b[0m\n\u001b[1;32m    391\u001b[0m             \u001b[0mport\u001b[0m \u001b[0;34m=\u001b[0m \u001b[0mself\u001b[0m\u001b[0;34m.\u001b[0m\u001b[0m_jdf\u001b[0m\u001b[0;34m.\u001b[0m\u001b[0mcollectToPython\u001b[0m\u001b[0;34m(\u001b[0m\u001b[0;34m)\u001b[0m\u001b[0;34m\u001b[0m\u001b[0m\n\u001b[0;32m--> 392\u001b[0;31m         \u001b[0;32mreturn\u001b[0m \u001b[0mlist\u001b[0m\u001b[0;34m(\u001b[0m\u001b[0m_load_from_socket\u001b[0m\u001b[0;34m(\u001b[0m\u001b[0mport\u001b[0m\u001b[0;34m,\u001b[0m \u001b[0mBatchedSerializer\u001b[0m\u001b[0;34m(\u001b[0m\u001b[0mPickleSerializer\u001b[0m\u001b[0;34m(\u001b[0m\u001b[0;34m)\u001b[0m\u001b[0;34m)\u001b[0m\u001b[0;34m)\u001b[0m\u001b[0;34m)\u001b[0m\u001b[0;34m\u001b[0m\u001b[0m\n\u001b[0m\u001b[1;32m    393\u001b[0m \u001b[0;34m\u001b[0m\u001b[0m\n\u001b[1;32m    394\u001b[0m     \u001b[0;34m@\u001b[0m\u001b[0mignore_unicode_prefix\u001b[0m\u001b[0;34m\u001b[0m\u001b[0m\n",
      "\u001b[0;32m/Users/mikihardisty/Applications/spark-2.1.0-bin-hadoop2.7/python/pyspark/rdd.py\u001b[0m in \u001b[0;36m_load_from_socket\u001b[0;34m(port, serializer)\u001b[0m\n\u001b[1;32m    135\u001b[0m         \u001b[0;32mbreak\u001b[0m\u001b[0;34m\u001b[0m\u001b[0m\n\u001b[1;32m    136\u001b[0m     \u001b[0;32mif\u001b[0m \u001b[0;32mnot\u001b[0m \u001b[0msock\u001b[0m\u001b[0;34m:\u001b[0m\u001b[0;34m\u001b[0m\u001b[0m\n\u001b[0;32m--> 137\u001b[0;31m         \u001b[0;32mraise\u001b[0m \u001b[0mException\u001b[0m\u001b[0;34m(\u001b[0m\u001b[0;34m\"could not open socket\"\u001b[0m\u001b[0;34m)\u001b[0m\u001b[0;34m\u001b[0m\u001b[0m\n\u001b[0m\u001b[1;32m    138\u001b[0m     \u001b[0;32mtry\u001b[0m\u001b[0;34m:\u001b[0m\u001b[0;34m\u001b[0m\u001b[0m\n\u001b[1;32m    139\u001b[0m         \u001b[0mrf\u001b[0m \u001b[0;34m=\u001b[0m \u001b[0msock\u001b[0m\u001b[0;34m.\u001b[0m\u001b[0mmakefile\u001b[0m\u001b[0;34m(\u001b[0m\u001b[0;34m\"rb\"\u001b[0m\u001b[0;34m,\u001b[0m \u001b[0;36m65536\u001b[0m\u001b[0;34m)\u001b[0m\u001b[0;34m\u001b[0m\u001b[0m\n",
      "\u001b[0;31mException\u001b[0m: could not open socket"
     ]
    }
   ],
   "source": [
    "df = station_time.toPandas()"
   ]
  },
  {
   "cell_type": "code",
   "execution_count": 85,
   "metadata": {
    "collapsed": false
   },
   "outputs": [
    {
     "data": {
      "text/plain": [
       "(1479,)"
      ]
     },
     "execution_count": 85,
     "metadata": {},
     "output_type": "execute_result"
    }
   ],
   "source": [
    "df.station.unique().shape"
   ]
  },
  {
   "cell_type": "code",
   "execution_count": 119,
   "metadata": {
    "collapsed": false
   },
   "outputs": [
    {
     "data": {
      "text/plain": [
       "array([u'weekday', u'weekend'], dtype=object)"
      ]
     },
     "execution_count": 119,
     "metadata": {},
     "output_type": "execute_result"
    }
   ],
   "source": [
    "#print df.columns\n",
    "df['dayType'].unique()"
   ]
  },
  {
   "cell_type": "code",
   "execution_count": 91,
   "metadata": {
    "collapsed": false
   },
   "outputs": [
    {
     "data": {
      "text/plain": [
       "0    00:00:00\n",
       "1    00:00:00\n",
       "2    00:00:00\n",
       "3    00:00:00\n",
       "4    00:00:00\n",
       "5    00:00:00\n",
       "6    00:00:00\n",
       "7    00:00:00\n",
       "8    00:05:00\n",
       "9    00:05:00\n",
       "dtype: object"
      ]
     },
     "execution_count": 91,
     "metadata": {},
     "output_type": "execute_result"
    }
   ],
   "source": [
    "df[:10].apply(lambda x:time(int(x.hour),int(x.minute)),axis = 1)"
   ]
  },
  {
   "cell_type": "code",
   "execution_count": 76,
   "metadata": {
    "collapsed": false
   },
   "outputs": [],
   "source": [
    "df.sort_values('time',inplace=True)"
   ]
  },
  {
   "cell_type": "code",
   "execution_count": 131,
   "metadata": {
    "collapsed": false,
    "scrolled": false
   },
   "outputs": [
    {
     "data": {
      "text/plain": [
       "Index([u'freeway', u'direction_of_travel', u'station', u'dayType',\n",
       "       u'dayofweek', u'timeOfDay', u'flow_mean', u'flow_std', u'flow_count',\n",
       "       u'flow_max', u'flow_min', u'occ_mean', u'occ_std', u'occ_count',\n",
       "       u'occ_max', u'occ_min', u'speed_mean', u'speed_std', u'speed_count',\n",
       "       u'speed_max', u'speed_min'],\n",
       "      dtype='object')"
      ]
     },
     "execution_count": 131,
     "metadata": {},
     "output_type": "execute_result"
    }
   ],
   "source": [
    "df.columns"
   ]
  },
  {
   "cell_type": "code",
   "execution_count": 132,
   "metadata": {
    "collapsed": false
   },
   "outputs": [
    {
     "data": {
      "text/html": [
       "<div>\n",
       "<table border=\"1\" class=\"dataframe\">\n",
       "  <thead>\n",
       "    <tr style=\"text-align: right;\">\n",
       "      <th></th>\n",
       "      <th>freeway</th>\n",
       "      <th>direction_of_travel</th>\n",
       "      <th>station</th>\n",
       "      <th>dayType</th>\n",
       "      <th>dayofweek</th>\n",
       "      <th>timeOfDay</th>\n",
       "      <th>flow_mean</th>\n",
       "      <th>flow_std</th>\n",
       "      <th>flow_count</th>\n",
       "      <th>flow_max</th>\n",
       "      <th>...</th>\n",
       "      <th>occ_mean</th>\n",
       "      <th>occ_std</th>\n",
       "      <th>occ_count</th>\n",
       "      <th>occ_max</th>\n",
       "      <th>occ_min</th>\n",
       "      <th>speed_mean</th>\n",
       "      <th>speed_std</th>\n",
       "      <th>speed_count</th>\n",
       "      <th>speed_max</th>\n",
       "      <th>speed_min</th>\n",
       "    </tr>\n",
       "  </thead>\n",
       "  <tbody>\n",
       "    <tr>\n",
       "      <th>0</th>\n",
       "      <td>78</td>\n",
       "      <td>W</td>\n",
       "      <td>1108701</td>\n",
       "      <td>weekday</td>\n",
       "      <td>1</td>\n",
       "      <td>Time: 0 hours, 0 minutes, 0 seconds, 0 microse...</td>\n",
       "      <td>6</td>\n",
       "      <td>NaN</td>\n",
       "      <td>1</td>\n",
       "      <td>6</td>\n",
       "      <td>...</td>\n",
       "      <td>NaN</td>\n",
       "      <td>NaN</td>\n",
       "      <td>0</td>\n",
       "      <td>NaN</td>\n",
       "      <td>NaN</td>\n",
       "      <td>NaN</td>\n",
       "      <td>NaN</td>\n",
       "      <td>0</td>\n",
       "      <td>NaN</td>\n",
       "      <td>NaN</td>\n",
       "    </tr>\n",
       "    <tr>\n",
       "      <th>1</th>\n",
       "      <td>56</td>\n",
       "      <td>E</td>\n",
       "      <td>1113680</td>\n",
       "      <td>weekday</td>\n",
       "      <td>1</td>\n",
       "      <td>Time: 0 hours, 0 minutes, 0 seconds, 0 microse...</td>\n",
       "      <td>70</td>\n",
       "      <td>NaN</td>\n",
       "      <td>1</td>\n",
       "      <td>70</td>\n",
       "      <td>...</td>\n",
       "      <td>0.0175</td>\n",
       "      <td>NaN</td>\n",
       "      <td>1</td>\n",
       "      <td>0.0175</td>\n",
       "      <td>0.0175</td>\n",
       "      <td>68.6</td>\n",
       "      <td>NaN</td>\n",
       "      <td>1</td>\n",
       "      <td>68.6</td>\n",
       "      <td>68.6</td>\n",
       "    </tr>\n",
       "    <tr>\n",
       "      <th>2</th>\n",
       "      <td>125</td>\n",
       "      <td>S</td>\n",
       "      <td>1114013</td>\n",
       "      <td>weekday</td>\n",
       "      <td>1</td>\n",
       "      <td>Time: 0 hours, 0 minutes, 0 seconds, 0 microse...</td>\n",
       "      <td>6</td>\n",
       "      <td>NaN</td>\n",
       "      <td>1</td>\n",
       "      <td>6</td>\n",
       "      <td>...</td>\n",
       "      <td>NaN</td>\n",
       "      <td>NaN</td>\n",
       "      <td>0</td>\n",
       "      <td>NaN</td>\n",
       "      <td>NaN</td>\n",
       "      <td>NaN</td>\n",
       "      <td>NaN</td>\n",
       "      <td>0</td>\n",
       "      <td>NaN</td>\n",
       "      <td>NaN</td>\n",
       "    </tr>\n",
       "    <tr>\n",
       "      <th>3</th>\n",
       "      <td>94</td>\n",
       "      <td>W</td>\n",
       "      <td>1108295</td>\n",
       "      <td>weekday</td>\n",
       "      <td>1</td>\n",
       "      <td>Time: 0 hours, 5 minutes, 0 seconds, 0 microse...</td>\n",
       "      <td>15</td>\n",
       "      <td>NaN</td>\n",
       "      <td>1</td>\n",
       "      <td>15</td>\n",
       "      <td>...</td>\n",
       "      <td>0.0032</td>\n",
       "      <td>NaN</td>\n",
       "      <td>1</td>\n",
       "      <td>0.0032</td>\n",
       "      <td>0.0032</td>\n",
       "      <td>70.2</td>\n",
       "      <td>NaN</td>\n",
       "      <td>1</td>\n",
       "      <td>70.2</td>\n",
       "      <td>70.2</td>\n",
       "    </tr>\n",
       "    <tr>\n",
       "      <th>4</th>\n",
       "      <td>805</td>\n",
       "      <td>S</td>\n",
       "      <td>1108394</td>\n",
       "      <td>weekday</td>\n",
       "      <td>1</td>\n",
       "      <td>Time: 0 hours, 5 minutes, 0 seconds, 0 microse...</td>\n",
       "      <td>4</td>\n",
       "      <td>NaN</td>\n",
       "      <td>1</td>\n",
       "      <td>4</td>\n",
       "      <td>...</td>\n",
       "      <td>NaN</td>\n",
       "      <td>NaN</td>\n",
       "      <td>0</td>\n",
       "      <td>NaN</td>\n",
       "      <td>NaN</td>\n",
       "      <td>NaN</td>\n",
       "      <td>NaN</td>\n",
       "      <td>0</td>\n",
       "      <td>NaN</td>\n",
       "      <td>NaN</td>\n",
       "    </tr>\n",
       "    <tr>\n",
       "      <th>5</th>\n",
       "      <td>5</td>\n",
       "      <td>N</td>\n",
       "      <td>1108682</td>\n",
       "      <td>weekday</td>\n",
       "      <td>1</td>\n",
       "      <td>Time: 0 hours, 5 minutes, 0 seconds, 0 microse...</td>\n",
       "      <td>104</td>\n",
       "      <td>NaN</td>\n",
       "      <td>1</td>\n",
       "      <td>104</td>\n",
       "      <td>...</td>\n",
       "      <td>0.0227</td>\n",
       "      <td>NaN</td>\n",
       "      <td>1</td>\n",
       "      <td>0.0227</td>\n",
       "      <td>0.0227</td>\n",
       "      <td>69.2</td>\n",
       "      <td>NaN</td>\n",
       "      <td>1</td>\n",
       "      <td>69.2</td>\n",
       "      <td>69.2</td>\n",
       "    </tr>\n",
       "    <tr>\n",
       "      <th>6</th>\n",
       "      <td>78</td>\n",
       "      <td>W</td>\n",
       "      <td>1108762</td>\n",
       "      <td>weekday</td>\n",
       "      <td>1</td>\n",
       "      <td>Time: 0 hours, 5 minutes, 0 seconds, 0 microse...</td>\n",
       "      <td>38</td>\n",
       "      <td>NaN</td>\n",
       "      <td>1</td>\n",
       "      <td>38</td>\n",
       "      <td>...</td>\n",
       "      <td>0.0103</td>\n",
       "      <td>NaN</td>\n",
       "      <td>1</td>\n",
       "      <td>0.0103</td>\n",
       "      <td>0.0103</td>\n",
       "      <td>66.1</td>\n",
       "      <td>NaN</td>\n",
       "      <td>1</td>\n",
       "      <td>66.1</td>\n",
       "      <td>66.1</td>\n",
       "    </tr>\n",
       "    <tr>\n",
       "      <th>7</th>\n",
       "      <td>5</td>\n",
       "      <td>N</td>\n",
       "      <td>1114659</td>\n",
       "      <td>weekday</td>\n",
       "      <td>1</td>\n",
       "      <td>Time: 0 hours, 5 minutes, 0 seconds, 0 microse...</td>\n",
       "      <td>52</td>\n",
       "      <td>NaN</td>\n",
       "      <td>1</td>\n",
       "      <td>52</td>\n",
       "      <td>...</td>\n",
       "      <td>0.0104</td>\n",
       "      <td>NaN</td>\n",
       "      <td>1</td>\n",
       "      <td>0.0104</td>\n",
       "      <td>0.0104</td>\n",
       "      <td>70.3</td>\n",
       "      <td>NaN</td>\n",
       "      <td>1</td>\n",
       "      <td>70.3</td>\n",
       "      <td>70.3</td>\n",
       "    </tr>\n",
       "    <tr>\n",
       "      <th>8</th>\n",
       "      <td>163</td>\n",
       "      <td>N</td>\n",
       "      <td>1116139</td>\n",
       "      <td>weekday</td>\n",
       "      <td>1</td>\n",
       "      <td>Time: 0 hours, 5 minutes, 0 seconds, 0 microse...</td>\n",
       "      <td>28</td>\n",
       "      <td>NaN</td>\n",
       "      <td>1</td>\n",
       "      <td>28</td>\n",
       "      <td>...</td>\n",
       "      <td>0.0060</td>\n",
       "      <td>NaN</td>\n",
       "      <td>1</td>\n",
       "      <td>0.0060</td>\n",
       "      <td>0.0060</td>\n",
       "      <td>67.6</td>\n",
       "      <td>NaN</td>\n",
       "      <td>1</td>\n",
       "      <td>67.6</td>\n",
       "      <td>67.6</td>\n",
       "    </tr>\n",
       "    <tr>\n",
       "      <th>9</th>\n",
       "      <td>125</td>\n",
       "      <td>N</td>\n",
       "      <td>1119050</td>\n",
       "      <td>weekday</td>\n",
       "      <td>1</td>\n",
       "      <td>Time: 0 hours, 5 minutes, 0 seconds, 0 microse...</td>\n",
       "      <td>97</td>\n",
       "      <td>NaN</td>\n",
       "      <td>1</td>\n",
       "      <td>97</td>\n",
       "      <td>...</td>\n",
       "      <td>0.0281</td>\n",
       "      <td>NaN</td>\n",
       "      <td>1</td>\n",
       "      <td>0.0281</td>\n",
       "      <td>0.0281</td>\n",
       "      <td>65.9</td>\n",
       "      <td>NaN</td>\n",
       "      <td>1</td>\n",
       "      <td>65.9</td>\n",
       "      <td>65.9</td>\n",
       "    </tr>\n",
       "  </tbody>\n",
       "</table>\n",
       "<p>10 rows × 21 columns</p>\n",
       "</div>"
      ],
      "text/plain": [
       "   freeway direction_of_travel  station  dayType dayofweek  \\\n",
       "0       78                   W  1108701  weekday         1   \n",
       "1       56                   E  1113680  weekday         1   \n",
       "2      125                   S  1114013  weekday         1   \n",
       "3       94                   W  1108295  weekday         1   \n",
       "4      805                   S  1108394  weekday         1   \n",
       "5        5                   N  1108682  weekday         1   \n",
       "6       78                   W  1108762  weekday         1   \n",
       "7        5                   N  1114659  weekday         1   \n",
       "8      163                   N  1116139  weekday         1   \n",
       "9      125                   N  1119050  weekday         1   \n",
       "\n",
       "                                           timeOfDay  flow_mean  flow_std  \\\n",
       "0  Time: 0 hours, 0 minutes, 0 seconds, 0 microse...          6       NaN   \n",
       "1  Time: 0 hours, 0 minutes, 0 seconds, 0 microse...         70       NaN   \n",
       "2  Time: 0 hours, 0 minutes, 0 seconds, 0 microse...          6       NaN   \n",
       "3  Time: 0 hours, 5 minutes, 0 seconds, 0 microse...         15       NaN   \n",
       "4  Time: 0 hours, 5 minutes, 0 seconds, 0 microse...          4       NaN   \n",
       "5  Time: 0 hours, 5 minutes, 0 seconds, 0 microse...        104       NaN   \n",
       "6  Time: 0 hours, 5 minutes, 0 seconds, 0 microse...         38       NaN   \n",
       "7  Time: 0 hours, 5 minutes, 0 seconds, 0 microse...         52       NaN   \n",
       "8  Time: 0 hours, 5 minutes, 0 seconds, 0 microse...         28       NaN   \n",
       "9  Time: 0 hours, 5 minutes, 0 seconds, 0 microse...         97       NaN   \n",
       "\n",
       "   flow_count  flow_max    ...      occ_mean  occ_std  occ_count  occ_max  \\\n",
       "0           1         6    ...           NaN      NaN          0      NaN   \n",
       "1           1        70    ...        0.0175      NaN          1   0.0175   \n",
       "2           1         6    ...           NaN      NaN          0      NaN   \n",
       "3           1        15    ...        0.0032      NaN          1   0.0032   \n",
       "4           1         4    ...           NaN      NaN          0      NaN   \n",
       "5           1       104    ...        0.0227      NaN          1   0.0227   \n",
       "6           1        38    ...        0.0103      NaN          1   0.0103   \n",
       "7           1        52    ...        0.0104      NaN          1   0.0104   \n",
       "8           1        28    ...        0.0060      NaN          1   0.0060   \n",
       "9           1        97    ...        0.0281      NaN          1   0.0281   \n",
       "\n",
       "   occ_min  speed_mean  speed_std  speed_count  speed_max  speed_min  \n",
       "0      NaN         NaN        NaN            0        NaN        NaN  \n",
       "1   0.0175        68.6        NaN            1       68.6       68.6  \n",
       "2      NaN         NaN        NaN            0        NaN        NaN  \n",
       "3   0.0032        70.2        NaN            1       70.2       70.2  \n",
       "4      NaN         NaN        NaN            0        NaN        NaN  \n",
       "5   0.0227        69.2        NaN            1       69.2       69.2  \n",
       "6   0.0103        66.1        NaN            1       66.1       66.1  \n",
       "7   0.0104        70.3        NaN            1       70.3       70.3  \n",
       "8   0.0060        67.6        NaN            1       67.6       67.6  \n",
       "9   0.0281        65.9        NaN            1       65.9       65.9  \n",
       "\n",
       "[10 rows x 21 columns]"
      ]
     },
     "execution_count": 132,
     "metadata": {},
     "output_type": "execute_result"
    }
   ],
   "source": [
    "df[:10]"
   ]
  },
  {
   "cell_type": "code",
   "execution_count": null,
   "metadata": {
    "collapsed": true
   },
   "outputs": [],
   "source": []
  }
 ],
 "metadata": {
  "anaconda-cloud": {},
  "kernelspec": {
   "display_name": "Python 2",
   "language": "python",
   "name": "python2"
  },
  "language_info": {
   "codemirror_mode": {
    "name": "ipython",
    "version": 2
   },
   "file_extension": ".py",
   "mimetype": "text/x-python",
   "name": "python",
   "nbconvert_exporter": "python",
   "pygments_lexer": "ipython2",
   "version": "2.7.13"
  }
 },
 "nbformat": 4,
 "nbformat_minor": 2
}
