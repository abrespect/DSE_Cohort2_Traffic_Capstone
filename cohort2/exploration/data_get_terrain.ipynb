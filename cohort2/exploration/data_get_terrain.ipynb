{
 "cells": [
  {
   "cell_type": "code",
   "execution_count": 1,
   "metadata": {
    "collapsed": true
   },
   "outputs": [],
   "source": [
    "from os.path import expanduser\n",
    "import pandas as pd\n",
    "import simplejson\n",
    "import numpy as np\n",
    "import urllib"
   ]
  },
  {
   "cell_type": "code",
   "execution_count": 2,
   "metadata": {
    "collapsed": false
   },
   "outputs": [],
   "source": [
    "# get the google api key\n",
    "home = expanduser(\"~\")\n",
    "with open(home + '/.googleapi') as infile:\n",
    "    apikey = infile.next().strip()"
   ]
  },
  {
   "cell_type": "code",
   "execution_count": null,
   "metadata": {
    "collapsed": false
   },
   "outputs": [],
   "source": []
  },
  {
   "cell_type": "code",
   "execution_count": 6,
   "metadata": {
    "collapsed": false
   },
   "outputs": [
    {
     "data": {
      "text/html": [
       "<div>\n",
       "<table border=\"1\" class=\"dataframe\">\n",
       "  <thead>\n",
       "    <tr style=\"text-align: right;\">\n",
       "      <th></th>\n",
       "      <th>ID</th>\n",
       "      <th>Fwy</th>\n",
       "      <th>Dir</th>\n",
       "      <th>District</th>\n",
       "      <th>County</th>\n",
       "      <th>City</th>\n",
       "      <th>State_PM</th>\n",
       "      <th>Abs_PM</th>\n",
       "      <th>Latitude</th>\n",
       "      <th>Longitude</th>\n",
       "      <th>Length</th>\n",
       "      <th>Type</th>\n",
       "      <th>Lanes</th>\n",
       "      <th>Name</th>\n",
       "      <th>User_ID_1</th>\n",
       "      <th>User_ID_2</th>\n",
       "      <th>User_ID_3</th>\n",
       "      <th>User_ID_4</th>\n",
       "      <th>file_date</th>\n",
       "    </tr>\n",
       "  </thead>\n",
       "  <tbody>\n",
       "    <tr>\n",
       "      <th>584</th>\n",
       "      <td>1113072</td>\n",
       "      <td>56</td>\n",
       "      <td>W</td>\n",
       "      <td>11</td>\n",
       "      <td>73</td>\n",
       "      <td>66000.0</td>\n",
       "      <td>7.383</td>\n",
       "      <td>7.885</td>\n",
       "      <td>32.955202</td>\n",
       "      <td>-117.124689</td>\n",
       "      <td>0.452</td>\n",
       "      <td>ML</td>\n",
       "      <td>2</td>\n",
       "      <td>Black Mountain Rd</td>\n",
       "      <td>314</td>\n",
       "      <td>NaN</td>\n",
       "      <td>NaN</td>\n",
       "      <td>NaN</td>\n",
       "      <td>2015_01_01</td>\n",
       "    </tr>\n",
       "    <tr>\n",
       "      <th>585</th>\n",
       "      <td>1113073</td>\n",
       "      <td>56</td>\n",
       "      <td>W</td>\n",
       "      <td>11</td>\n",
       "      <td>73</td>\n",
       "      <td>66000.0</td>\n",
       "      <td>7.383</td>\n",
       "      <td>7.885</td>\n",
       "      <td>32.955202</td>\n",
       "      <td>-117.124689</td>\n",
       "      <td>NaN</td>\n",
       "      <td>OR</td>\n",
       "      <td>3</td>\n",
       "      <td>BLACK MOUNTAIN RD</td>\n",
       "      <td>314</td>\n",
       "      <td>NaN</td>\n",
       "      <td>NaN</td>\n",
       "      <td>NaN</td>\n",
       "      <td>2015_01_01</td>\n",
       "    </tr>\n",
       "    <tr>\n",
       "      <th>665</th>\n",
       "      <td>1113680</td>\n",
       "      <td>56</td>\n",
       "      <td>E</td>\n",
       "      <td>11</td>\n",
       "      <td>73</td>\n",
       "      <td>66000.0</td>\n",
       "      <td>6.862</td>\n",
       "      <td>7.364</td>\n",
       "      <td>32.953394</td>\n",
       "      <td>-117.133404</td>\n",
       "      <td>0.999</td>\n",
       "      <td>ML</td>\n",
       "      <td>3</td>\n",
       "      <td>BLACK MOUNTAIN RD</td>\n",
       "      <td>434</td>\n",
       "      <td>NaN</td>\n",
       "      <td>NaN</td>\n",
       "      <td>NaN</td>\n",
       "      <td>2015_01_01</td>\n",
       "    </tr>\n",
       "    <tr>\n",
       "      <th>666</th>\n",
       "      <td>1113683</td>\n",
       "      <td>56</td>\n",
       "      <td>W</td>\n",
       "      <td>11</td>\n",
       "      <td>73</td>\n",
       "      <td>66000.0</td>\n",
       "      <td>7.383</td>\n",
       "      <td>7.885</td>\n",
       "      <td>32.955202</td>\n",
       "      <td>-117.124689</td>\n",
       "      <td>NaN</td>\n",
       "      <td>FR</td>\n",
       "      <td>2</td>\n",
       "      <td>BLK MOUNTAIN - WB 56</td>\n",
       "      <td>314</td>\n",
       "      <td>NaN</td>\n",
       "      <td>NaN</td>\n",
       "      <td>NaN</td>\n",
       "      <td>2015_01_01</td>\n",
       "    </tr>\n",
       "    <tr>\n",
       "      <th>1034</th>\n",
       "      <td>1119041</td>\n",
       "      <td>125</td>\n",
       "      <td>N</td>\n",
       "      <td>11</td>\n",
       "      <td>73</td>\n",
       "      <td>NaN</td>\n",
       "      <td>1.433</td>\n",
       "      <td>3.282</td>\n",
       "      <td>32.608637</td>\n",
       "      <td>-116.967247</td>\n",
       "      <td>0.792</td>\n",
       "      <td>ML</td>\n",
       "      <td>3</td>\n",
       "      <td>1 MI S/O BIRCH RD</td>\n",
       "      <td>19106</td>\n",
       "      <td>NaN</td>\n",
       "      <td>NaN</td>\n",
       "      <td>NaN</td>\n",
       "      <td>2015_01_01</td>\n",
       "    </tr>\n",
       "  </tbody>\n",
       "</table>\n",
       "</div>"
      ],
      "text/plain": [
       "           ID  Fwy Dir  District  County     City State_PM  Abs_PM   Latitude  \\\n",
       "584   1113072   56   W        11      73  66000.0    7.383   7.885  32.955202   \n",
       "585   1113073   56   W        11      73  66000.0    7.383   7.885  32.955202   \n",
       "665   1113680   56   E        11      73  66000.0    6.862   7.364  32.953394   \n",
       "666   1113683   56   W        11      73  66000.0    7.383   7.885  32.955202   \n",
       "1034  1119041  125   N        11      73      NaN    1.433   3.282  32.608637   \n",
       "\n",
       "       Longitude  Length Type  Lanes                  Name  User_ID_1  \\\n",
       "584  -117.124689   0.452   ML      2     Black Mountain Rd        314   \n",
       "585  -117.124689     NaN   OR      3     BLACK MOUNTAIN RD        314   \n",
       "665  -117.133404   0.999   ML      3     BLACK MOUNTAIN RD        434   \n",
       "666  -117.124689     NaN   FR      2  BLK MOUNTAIN - WB 56        314   \n",
       "1034 -116.967247   0.792   ML      3     1 MI S/O BIRCH RD      19106   \n",
       "\n",
       "      User_ID_2  User_ID_3  User_ID_4   file_date  \n",
       "584         NaN        NaN        NaN  2015_01_01  \n",
       "585         NaN        NaN        NaN  2015_01_01  \n",
       "665         NaN        NaN        NaN  2015_01_01  \n",
       "666         NaN        NaN        NaN  2015_01_01  \n",
       "1034        NaN        NaN        NaN  2015_01_01  "
      ]
     },
     "execution_count": 6,
     "metadata": {},
     "output_type": "execute_result"
    }
   ],
   "source": [
    "# read in the metadata file\n",
    "meta_hdf_path = '/Users/bohr/workspace/capstone/DSE_Cohort2_Traffic_Capstone/C2 Exploratory/meta_2015.hdf'\n",
    "meta_frame = pd.read_hdf(meta_hdf_path, 'meta_2015')\n",
    "meta_frame.head()"
   ]
  },
  {
   "cell_type": "code",
   "execution_count": 81,
   "metadata": {
    "collapsed": false
   },
   "outputs": [
    {
     "data": {
      "text/plain": [
       "ID           1541\n",
       "Fwy          1541\n",
       "Dir          1541\n",
       "District     1541\n",
       "County       1541\n",
       "City         1318\n",
       "State_PM     1541\n",
       "Abs_PM       1541\n",
       "Latitude     1539\n",
       "Longitude    1539\n",
       "Length        932\n",
       "Type         1541\n",
       "Lanes        1541\n",
       "Name         1541\n",
       "User_ID_1    1541\n",
       "User_ID_2       0\n",
       "User_ID_3       0\n",
       "User_ID_4       0\n",
       "file_date    1541\n",
       "dtype: int64"
      ]
     },
     "execution_count": 81,
     "metadata": {},
     "output_type": "execute_result"
    }
   ],
   "source": [
    "meta_frame.count()"
   ]
  },
  {
   "cell_type": "code",
   "execution_count": 103,
   "metadata": {
    "collapsed": false
   },
   "outputs": [
    {
     "data": {
      "text/html": [
       "<div>\n",
       "<table border=\"1\" class=\"dataframe\">\n",
       "  <thead>\n",
       "    <tr style=\"text-align: right;\">\n",
       "      <th></th>\n",
       "      <th>ID</th>\n",
       "      <th>Fwy</th>\n",
       "      <th>Dir</th>\n",
       "      <th>District</th>\n",
       "      <th>County</th>\n",
       "      <th>City</th>\n",
       "      <th>State_PM</th>\n",
       "      <th>Abs_PM</th>\n",
       "      <th>Latitude</th>\n",
       "      <th>Longitude</th>\n",
       "      <th>Length</th>\n",
       "      <th>Type</th>\n",
       "      <th>Lanes</th>\n",
       "      <th>Name</th>\n",
       "      <th>User_ID_1</th>\n",
       "      <th>User_ID_2</th>\n",
       "      <th>User_ID_3</th>\n",
       "      <th>User_ID_4</th>\n",
       "      <th>file_date</th>\n",
       "    </tr>\n",
       "  </thead>\n",
       "  <tbody>\n",
       "    <tr>\n",
       "      <th>767</th>\n",
       "      <td>1114649</td>\n",
       "      <td>805</td>\n",
       "      <td>S</td>\n",
       "      <td>11</td>\n",
       "      <td>73</td>\n",
       "      <td>66000.0</td>\n",
       "      <td>28.811</td>\n",
       "      <td>28.662</td>\n",
       "      <td>NaN</td>\n",
       "      <td>NaN</td>\n",
       "      <td>0.651</td>\n",
       "      <td>ML</td>\n",
       "      <td>4</td>\n",
       "      <td>S/B AT JCT I-5</td>\n",
       "      <td>4045</td>\n",
       "      <td>NaN</td>\n",
       "      <td>NaN</td>\n",
       "      <td>NaN</td>\n",
       "      <td>2015_12_17</td>\n",
       "    </tr>\n",
       "    <tr>\n",
       "      <th>1324</th>\n",
       "      <td>1125383</td>\n",
       "      <td>52</td>\n",
       "      <td>W</td>\n",
       "      <td>11</td>\n",
       "      <td>73</td>\n",
       "      <td>70224.0</td>\n",
       "      <td>14.756</td>\n",
       "      <td>14.756</td>\n",
       "      <td>NaN</td>\n",
       "      <td>NaN</td>\n",
       "      <td>0.695</td>\n",
       "      <td>ML</td>\n",
       "      <td>2</td>\n",
       "      <td>52 WB from 125 Conn</td>\n",
       "      <td>43812</td>\n",
       "      <td>NaN</td>\n",
       "      <td>NaN</td>\n",
       "      <td>NaN</td>\n",
       "      <td>2015_12_17</td>\n",
       "    </tr>\n",
       "  </tbody>\n",
       "</table>\n",
       "</div>"
      ],
      "text/plain": [
       "           ID  Fwy Dir  District  County     City State_PM  Abs_PM  Latitude  \\\n",
       "767   1114649  805   S        11      73  66000.0   28.811  28.662       NaN   \n",
       "1324  1125383   52   W        11      73  70224.0   14.756  14.756       NaN   \n",
       "\n",
       "      Longitude  Length Type  Lanes                 Name  User_ID_1  \\\n",
       "767         NaN   0.651   ML      4       S/B AT JCT I-5       4045   \n",
       "1324        NaN   0.695   ML      2  52 WB from 125 Conn      43812   \n",
       "\n",
       "      User_ID_2  User_ID_3  User_ID_4   file_date  \n",
       "767         NaN        NaN        NaN  2015_12_17  \n",
       "1324        NaN        NaN        NaN  2015_12_17  "
      ]
     },
     "execution_count": 103,
     "metadata": {},
     "output_type": "execute_result"
    }
   ],
   "source": [
    "meta_frame[meta_frame.Latitude.isnull()]"
   ]
  },
  {
   "cell_type": "code",
   "execution_count": 215,
   "metadata": {
    "collapsed": false
   },
   "outputs": [
    {
     "name": "stderr",
     "output_type": "stream",
     "text": [
      "/anaconda/lib/python2.7/site-packages/ipykernel/__main__.py:3: SettingWithCopyWarning: \n",
      "A value is trying to be set on a copy of a slice from a DataFrame.\n",
      "Try using .loc[row_indexer,col_indexer] = value instead\n",
      "\n",
      "See the caveats in the documentation: http://pandas.pydata.org/pandas-docs/stable/indexing.html#indexing-view-versus-copy\n",
      "  app.launch_new_instance()\n"
     ]
    }
   ],
   "source": [
    "meta_frame_no_nan = meta_frame.dropna(axis='index', subset=['Latitude', 'Longitude'])\n",
    "meta_frame_no_nan.index = np.arange(0, len(meta_frame_no_nan))\n",
    "meta_frame_no_nan['lat_lon'] = meta_frame_no_nan['Latitude'].map(str) + ',' + meta_frame_no_nan['Longitude'].map(str)"
   ]
  },
  {
   "cell_type": "code",
   "execution_count": 216,
   "metadata": {
    "collapsed": false
   },
   "outputs": [
    {
     "data": {
      "text/html": [
       "<div>\n",
       "<table border=\"1\" class=\"dataframe\">\n",
       "  <thead>\n",
       "    <tr style=\"text-align: right;\">\n",
       "      <th></th>\n",
       "      <th>ID</th>\n",
       "      <th>Fwy</th>\n",
       "      <th>Dir</th>\n",
       "      <th>District</th>\n",
       "      <th>County</th>\n",
       "      <th>City</th>\n",
       "      <th>State_PM</th>\n",
       "      <th>Abs_PM</th>\n",
       "      <th>Latitude</th>\n",
       "      <th>Longitude</th>\n",
       "      <th>Length</th>\n",
       "      <th>Type</th>\n",
       "      <th>Lanes</th>\n",
       "      <th>Name</th>\n",
       "      <th>User_ID_1</th>\n",
       "      <th>User_ID_2</th>\n",
       "      <th>User_ID_3</th>\n",
       "      <th>User_ID_4</th>\n",
       "      <th>file_date</th>\n",
       "      <th>lat_lon</th>\n",
       "    </tr>\n",
       "  </thead>\n",
       "  <tbody>\n",
       "  </tbody>\n",
       "</table>\n",
       "</div>"
      ],
      "text/plain": [
       "Empty DataFrame\n",
       "Columns: [ID, Fwy, Dir, District, County, City, State_PM, Abs_PM, Latitude, Longitude, Length, Type, Lanes, Name, User_ID_1, User_ID_2, User_ID_3, User_ID_4, file_date, lat_lon]\n",
       "Index: []"
      ]
     },
     "execution_count": 216,
     "metadata": {},
     "output_type": "execute_result"
    }
   ],
   "source": [
    "# spot check\n",
    "meta_frame_no_nan[meta_frame_no_nan.ID == 1114649]"
   ]
  },
  {
   "cell_type": "code",
   "execution_count": 217,
   "metadata": {
    "collapsed": false
   },
   "outputs": [
    {
     "data": {
      "text/plain": [
       "ID           1539\n",
       "Fwy          1539\n",
       "Dir          1539\n",
       "District     1539\n",
       "County       1539\n",
       "City         1316\n",
       "State_PM     1539\n",
       "Abs_PM       1539\n",
       "Latitude     1539\n",
       "Longitude    1539\n",
       "Length        930\n",
       "Type         1539\n",
       "Lanes        1539\n",
       "Name         1539\n",
       "User_ID_1    1539\n",
       "User_ID_2       0\n",
       "User_ID_3       0\n",
       "User_ID_4       0\n",
       "file_date    1539\n",
       "lat_lon      1539\n",
       "dtype: int64"
      ]
     },
     "execution_count": 217,
     "metadata": {},
     "output_type": "execute_result"
    }
   ],
   "source": [
    "meta_frame_no_nan.count()"
   ]
  },
  {
   "cell_type": "code",
   "execution_count": 118,
   "metadata": {
    "collapsed": false
   },
   "outputs": [],
   "source": [
    "ELEVATION_BASE_URL = 'https://maps.googleapis.com/maps/api/elevation/json'\n",
    "def getElevation(lat_lon_list=None, **elvtn_args):\n",
    "    \"\"\"\n",
    "    This function will get the elevation from the google api\n",
    "    \"\"\"\n",
    "    result = None\n",
    "    elvtn_args.update({\n",
    "        'locations': \"|\".join(lat_lon_list),\n",
    "        'key': apikey\n",
    "    })\n",
    "\n",
    "    url = ELEVATION_BASE_URL + '?' + urllib.urlencode(elvtn_args)\n",
    "    response = simplejson.load(urllib.urlopen(url))\n",
    "\n",
    "    if 'status' not in response or response['status'] != 'OK':\n",
    "        print \"bad response\"\n",
    "    else:\n",
    "        result = [item['elevation'] for item in response['results']]\n",
    "    return result"
   ]
  },
  {
   "cell_type": "code",
   "execution_count": 236,
   "metadata": {
    "collapsed": false
   },
   "outputs": [
    {
     "name": "stdout",
     "output_type": "stream",
     "text": [
      "1539\n",
      "1539\n"
     ]
    }
   ],
   "source": [
    "# # chunk the data into parts of 50\n",
    "# id_master = []\n",
    "# elevation_master = []\n",
    "\n",
    "# chunk = 50\n",
    "# for item in range(0, 31):\n",
    "#     start = item*chunk\n",
    "#     end = (item+1)*chunk\n",
    "    \n",
    "#     id_master += list(meta_frame_no_nan['ID'][start:end].values)\n",
    "#     elevation_master += getElevation(list(meta_frame_no_nan['lat_lon'][start:end]))\n",
    "    \n",
    "# print len(id_master)\n",
    "# print len(elevation_master)"
   ]
  },
  {
   "cell_type": "code",
   "execution_count": 237,
   "metadata": {
    "collapsed": false
   },
   "outputs": [],
   "source": [
    "elev_df = pd.DataFrame({'ID': id_master, 'elevation': elevation_master})"
   ]
  },
  {
   "cell_type": "code",
   "execution_count": 241,
   "metadata": {
    "collapsed": false
   },
   "outputs": [
    {
     "data": {
      "text/plain": [
       "Index([u'ID', u'Fwy', u'Dir', u'District', u'County', u'City', u'State_PM',\n",
       "       u'Abs_PM', u'Latitude', u'Longitude', u'Length', u'Type', u'Lanes',\n",
       "       u'Name', u'User_ID_1', u'User_ID_2', u'User_ID_3', u'User_ID_4',\n",
       "       u'file_date'],\n",
       "      dtype='object')"
      ]
     },
     "execution_count": 241,
     "metadata": {},
     "output_type": "execute_result"
    }
   ],
   "source": [
    "meta_frame.columns"
   ]
  },
  {
   "cell_type": "code",
   "execution_count": 242,
   "metadata": {
    "collapsed": false
   },
   "outputs": [
    {
     "data": {
      "text/plain": [
       "Index([u'ID', u'elevation'], dtype='object')"
      ]
     },
     "execution_count": 242,
     "metadata": {},
     "output_type": "execute_result"
    }
   ],
   "source": [
    "elev_df.columns"
   ]
  },
  {
   "cell_type": "code",
   "execution_count": 251,
   "metadata": {
    "collapsed": false
   },
   "outputs": [],
   "source": [
    "new_meta_frame = pd.merge(meta_frame, elev_df, how='left')"
   ]
  },
  {
   "cell_type": "code",
   "execution_count": 79,
   "metadata": {
    "collapsed": false
   },
   "outputs": [
    {
     "data": {
      "text/html": [
       "<div>\n",
       "<table border=\"1\" class=\"dataframe\">\n",
       "  <thead>\n",
       "    <tr style=\"text-align: right;\">\n",
       "      <th></th>\n",
       "      <th>Unnamed: 0</th>\n",
       "      <th>ID</th>\n",
       "      <th>Fwy</th>\n",
       "      <th>Dir</th>\n",
       "      <th>District</th>\n",
       "      <th>County</th>\n",
       "      <th>City</th>\n",
       "      <th>State_PM</th>\n",
       "      <th>Abs_PM</th>\n",
       "      <th>Latitude</th>\n",
       "      <th>...</th>\n",
       "      <th>Length</th>\n",
       "      <th>Type</th>\n",
       "      <th>Lanes</th>\n",
       "      <th>Name</th>\n",
       "      <th>User_ID_1</th>\n",
       "      <th>User_ID_2</th>\n",
       "      <th>User_ID_3</th>\n",
       "      <th>User_ID_4</th>\n",
       "      <th>file_date</th>\n",
       "      <th>elevation</th>\n",
       "    </tr>\n",
       "  </thead>\n",
       "  <tbody>\n",
       "    <tr>\n",
       "      <th>884</th>\n",
       "      <td>884</td>\n",
       "      <td>1114649</td>\n",
       "      <td>805</td>\n",
       "      <td>S</td>\n",
       "      <td>11</td>\n",
       "      <td>73</td>\n",
       "      <td>66000.0</td>\n",
       "      <td>28.811</td>\n",
       "      <td>28.662</td>\n",
       "      <td>NaN</td>\n",
       "      <td>...</td>\n",
       "      <td>0.651</td>\n",
       "      <td>ML</td>\n",
       "      <td>4</td>\n",
       "      <td>S/B AT JCT I-5</td>\n",
       "      <td>4045</td>\n",
       "      <td>NaN</td>\n",
       "      <td>NaN</td>\n",
       "      <td>NaN</td>\n",
       "      <td>2015_12_17</td>\n",
       "      <td>NaN</td>\n",
       "    </tr>\n",
       "    <tr>\n",
       "      <th>1441</th>\n",
       "      <td>1441</td>\n",
       "      <td>1125383</td>\n",
       "      <td>52</td>\n",
       "      <td>W</td>\n",
       "      <td>11</td>\n",
       "      <td>73</td>\n",
       "      <td>70224.0</td>\n",
       "      <td>14.756</td>\n",
       "      <td>14.756</td>\n",
       "      <td>NaN</td>\n",
       "      <td>...</td>\n",
       "      <td>0.695</td>\n",
       "      <td>ML</td>\n",
       "      <td>2</td>\n",
       "      <td>52 WB from 125 Conn</td>\n",
       "      <td>43812</td>\n",
       "      <td>NaN</td>\n",
       "      <td>NaN</td>\n",
       "      <td>NaN</td>\n",
       "      <td>2015_12_17</td>\n",
       "      <td>NaN</td>\n",
       "    </tr>\n",
       "  </tbody>\n",
       "</table>\n",
       "<p>2 rows × 21 columns</p>\n",
       "</div>"
      ],
      "text/plain": [
       "      Unnamed: 0       ID  Fwy Dir  District  County     City State_PM  \\\n",
       "884          884  1114649  805   S        11      73  66000.0   28.811   \n",
       "1441        1441  1125383   52   W        11      73  70224.0   14.756   \n",
       "\n",
       "      Abs_PM  Latitude    ...     Length  Type Lanes                 Name  \\\n",
       "884   28.662       NaN    ...      0.651    ML     4       S/B AT JCT I-5   \n",
       "1441  14.756       NaN    ...      0.695    ML     2  52 WB from 125 Conn   \n",
       "\n",
       "     User_ID_1  User_ID_2  User_ID_3  User_ID_4   file_date elevation  \n",
       "884       4045        NaN        NaN        NaN  2015_12_17       NaN  \n",
       "1441     43812        NaN        NaN        NaN  2015_12_17       NaN  \n",
       "\n",
       "[2 rows x 21 columns]"
      ]
     },
     "execution_count": 79,
     "metadata": {},
     "output_type": "execute_result"
    }
   ],
   "source": [
    "# find bad data...\n",
    "new_meta_frame[new_meta_frame.elevation.isnull()]"
   ]
  },
  {
   "cell_type": "code",
   "execution_count": 83,
   "metadata": {
    "collapsed": false
   },
   "outputs": [
    {
     "data": {
      "text/plain": [
       "Unnamed: 0               884\n",
       "ID                   1114649\n",
       "Fwy                      805\n",
       "Dir                        S\n",
       "District                  11\n",
       "County                    73\n",
       "City                   66000\n",
       "State_PM              28.811\n",
       "Abs_PM                28.662\n",
       "Latitude             32.9665\n",
       "Longitude           -117.225\n",
       "Length                 0.651\n",
       "Type                      ML\n",
       "Lanes                      4\n",
       "Name          S/B AT JCT I-5\n",
       "User_ID_1               4045\n",
       "User_ID_2                NaN\n",
       "User_ID_3                NaN\n",
       "User_ID_4                NaN\n",
       "file_date         2015_12_17\n",
       "elevation                NaN\n",
       "Name: 884, dtype: object"
      ]
     },
     "execution_count": 83,
     "metadata": {},
     "output_type": "execute_result"
    }
   ],
   "source": [
    "# Fix bad data via manual lookup\n",
    "new_meta_frame.loc[884, 'Latitude'] = 32.966531\n",
    "new_meta_frame.loc[884, 'Longitude'] = -117.2255\n",
    "new_meta_frame.iloc[884]"
   ]
  },
  {
   "cell_type": "code",
   "execution_count": 85,
   "metadata": {
    "collapsed": false
   },
   "outputs": [
    {
     "data": {
      "text/plain": [
       "Unnamed: 0                   1441\n",
       "ID                        1125383\n",
       "Fwy                            52\n",
       "Dir                             W\n",
       "District                       11\n",
       "County                         73\n",
       "City                        70224\n",
       "State_PM                   14.756\n",
       "Abs_PM                     14.756\n",
       "Latitude                  32.8365\n",
       "Longitude                -117.008\n",
       "Length                      0.695\n",
       "Type                           ML\n",
       "Lanes                           2\n",
       "Name          52 WB from 125 Conn\n",
       "User_ID_1                   43812\n",
       "User_ID_2                     NaN\n",
       "User_ID_3                     NaN\n",
       "User_ID_4                     NaN\n",
       "file_date              2015_12_17\n",
       "elevation                     NaN\n",
       "Name: 1441, dtype: object"
      ]
     },
     "execution_count": 85,
     "metadata": {},
     "output_type": "execute_result"
    }
   ],
   "source": [
    "new_meta_frame.loc[1441, 'Latitude'] = 32.836534\n",
    "new_meta_frame.loc[1441, 'Longitude'] = -117.00755\n",
    "new_meta_frame.iloc[1441]"
   ]
  },
  {
   "cell_type": "code",
   "execution_count": 121,
   "metadata": {
    "collapsed": true
   },
   "outputs": [],
   "source": [
    "result_884 = getElevation(['32.9665,-117.2255'])\n",
    "result_1441 = getElevation(['32.8365,-117.00755'])"
   ]
  },
  {
   "cell_type": "code",
   "execution_count": null,
   "metadata": {
    "collapsed": false
   },
   "outputs": [],
   "source": []
  },
  {
   "cell_type": "code",
   "execution_count": 123,
   "metadata": {
    "collapsed": false
   },
   "outputs": [],
   "source": [
    "new_meta_frame.loc[884, 'elevation'] = result_884[0]\n",
    "new_meta_frame.loc[1441, 'elevation'] = result_1441[0]"
   ]
  },
  {
   "cell_type": "code",
   "execution_count": 124,
   "metadata": {
    "collapsed": false
   },
   "outputs": [],
   "source": [
    "# Note: all elevations are in meters.\n",
    "new_meta_frame.to_csv('../data/meta_2015_with_elev.csv')"
   ]
  },
  {
   "cell_type": "markdown",
   "metadata": {},
   "source": [
    "# Calculate slope between stations"
   ]
  },
  {
   "cell_type": "code",
   "execution_count": null,
   "metadata": {
    "collapsed": false
   },
   "outputs": [],
   "source": []
  },
  {
   "cell_type": "code",
   "execution_count": 125,
   "metadata": {
    "collapsed": false
   },
   "outputs": [],
   "source": [
    "new_meta_frame = pd.read_csv('../data/meta_2015_with_elev.csv')"
   ]
  },
  {
   "cell_type": "code",
   "execution_count": 126,
   "metadata": {
    "collapsed": true
   },
   "outputs": [],
   "source": [
    "def create_freeway_vectors():\n",
    "    to_loop = new_meta_frame.groupby(['Fwy', 'Dir'])['ID'].count().reset_index()[['Fwy', 'Dir']].values\n",
    "    \n",
    "    ret = {}\n",
    "    for Fwy, Dir in to_loop:\n",
    "        if Dir == \"N\":\n",
    "            sort_order = ('Abs_PM', True)        \n",
    "        elif Dir == \"S\":\n",
    "            sort_order = ('Abs_PM', False)        \n",
    "        elif Dir == \"E\":\n",
    "            sort_order = ('Abs_PM', True)        \n",
    "        elif Dir == \"W\":\n",
    "            sort_order = ('Abs_PM', False)\n",
    "            \n",
    "        ret[\"%s_%s\" % (Fwy, Dir)] = new_meta_frame[(new_meta_frame.Fwy == Fwy) & (new_meta_frame.Dir == Dir)\n",
    "                                                  & (new_meta_frame.Type == 'ML')]\\\n",
    "            .sort_values(by=sort_order[0], ascending=sort_order[1])[['ID', 'Latitude', 'Longitude', 'Abs_PM']]\n",
    "    return ret "
   ]
  },
  {
   "cell_type": "code",
   "execution_count": 127,
   "metadata": {
    "collapsed": false
   },
   "outputs": [],
   "source": [
    "freeway_vectors = create_freeway_vectors()"
   ]
  },
  {
   "cell_type": "code",
   "execution_count": 113,
   "metadata": {
    "collapsed": true
   },
   "outputs": [],
   "source": [
    "ELEVATION_BASE_URL = 'https://maps.googleapis.com/maps/api/elevation/json'\n",
    "def getElevationPath(lat_lon_list=None, samples=10):\n",
    "    \"\"\"\n",
    "    This function will get the elevation from the google api\n",
    "    \"\"\"\n",
    "    result = None\n",
    "    elvtn_args = {\n",
    "        'path': \"|\".join(lat_lon_list),\n",
    "        'samples': samples,\n",
    "        'key': apikey\n",
    "    }\n",
    "\n",
    "    url = ELEVATION_BASE_URL + '?' + urllib.urlencode(elvtn_args)\n",
    "    response = simplejson.load(urllib.urlopen(url))\n",
    "\n",
    "    if 'status' not in response or response['status'] != 'OK':\n",
    "        print \"bad response\"\n",
    "        print \"response: %s\" % response\n",
    "    else:\n",
    "        result = [item['elevation'] for item in response['results']]\n",
    "    return result"
   ]
  },
  {
   "cell_type": "code",
   "execution_count": 41,
   "metadata": {
    "collapsed": true
   },
   "outputs": [],
   "source": [
    "# Test the function\n",
    "# result = getElevationPath(['32.834748,-117.003404', '32.809436,-117.005295'], samples=18)"
   ]
  },
  {
   "cell_type": "code",
   "execution_count": null,
   "metadata": {
    "collapsed": false
   },
   "outputs": [],
   "source": []
  },
  {
   "cell_type": "code",
   "execution_count": 116,
   "metadata": {
    "collapsed": false
   },
   "outputs": [
    {
     "name": "stdout",
     "output_type": "stream",
     "text": [
      "on freeway: 125_S\n",
      "on freeway: 905_E\n",
      "on freeway: 1\n",
      "on freeway: 54_W\n",
      "on freeway: 2\n",
      "on freeway: 125_N\n",
      "on freeway: 52_W\n",
      "on freeway: 4\n",
      "on freeway: 67_N\n",
      "on freeway: 5\n",
      "on freeway: 56_E\n",
      "on freeway: 67_S\n",
      "on freeway: 7\n",
      "on freeway: 56_W\n",
      "on freeway: 8\n",
      "on freeway: 905_W\n",
      "on freeway: 94_E\n",
      "on freeway: 10\n",
      "on freeway: 52_E\n",
      "on freeway: 11\n",
      "on freeway: 78_W\n",
      "on freeway: 5_N\n",
      "on freeway: 13\n",
      "on freeway: 15_N\n",
      "on freeway: 14\n",
      "on freeway: 15_S\n",
      "on freeway: 94_W\n",
      "on freeway: 16\n",
      "on freeway: 78_E\n",
      "on freeway: 17\n",
      "on freeway: 54_E\n",
      "on freeway: 5_S\n",
      "on freeway: 19\n",
      "on freeway: 8_E\n",
      "on freeway: 20\n",
      "on freeway: 163_N\n",
      "on freeway: 805_S\n",
      "on freeway: 22\n",
      "on freeway: 8_W\n",
      "on freeway: 23\n",
      "on freeway: 805_N\n",
      "on freeway: 163_S\n",
      "on freeway: 25\n"
     ]
    }
   ],
   "source": [
    "# loop through all freeways and get the results\n",
    "# calculations will be done afterwards to debug while not pulling from google's api\n",
    "raw_results = {}\n",
    "counter = 0\n",
    "for key in freeway_vectors:\n",
    "    print \"on freeway: %s\" % key\n",
    "    if counter % 3:\n",
    "        print \"counter: %s\" % counter\n",
    "    frame = freeway_vectors[key]\n",
    "    count = frame.ID.count()\n",
    "    for index in range(1, count):\n",
    "        distance = abs(frame.iloc[index-1].Abs_PM - frame.iloc[index].Abs_PM)\n",
    "\n",
    "        # get enough samples for .1 resolution\n",
    "        samples = int(round(distance, 1)*10)\n",
    "        lat1, lon1 = frame.iloc[index-1][['Latitude', 'Longitude']]\n",
    "        lat_lon1 = '%s,%s' % (lat1, lon1)\n",
    "        lat2, lon2 = frame.iloc[index][['Latitude', 'Longitude']]\n",
    "        lat_lon2 = '%s,%s' % (lat2, lon2)\n",
    "        if samples < 2:\n",
    "            samples = 2\n",
    "        result = getElevationPath([lat_lon1, lat_lon2], samples=samples)\n",
    "        \n",
    "        start_id = frame.iloc[index-1].ID\n",
    "        end_id = frame.iloc[index].ID\n",
    "        if key not in raw_results:\n",
    "            raw_results[key] = {}\n",
    "        raw_results[key]['%s_%s' % (start_id, end_id)] = result\n",
    "    counter += 1"
   ]
  },
  {
   "cell_type": "code",
   "execution_count": 133,
   "metadata": {
    "collapsed": false,
    "scrolled": true
   },
   "outputs": [],
   "source": [
    "# store results as a dataframe to csv just in case\n",
    "# it's not pretty but I didn't design the data structure with a dataframe in mind...\n",
    "df = pd.DataFrame(raw_results)\n",
    "df.to_csv('raw_results.csv')"
   ]
  },
  {
   "cell_type": "code",
   "execution_count": 135,
   "metadata": {
    "collapsed": false
   },
   "outputs": [
    {
     "name": "stdout",
     "output_type": "stream",
     "text": [
      "-rw-r--r--  1 bohr  staff   133K Mar  5 16:17 raw_results.csv\r\n"
     ]
    }
   ],
   "source": [
    "!ls -hl raw_results.csv"
   ]
  },
  {
   "cell_type": "code",
   "execution_count": null,
   "metadata": {
    "collapsed": false
   },
   "outputs": [],
   "source": []
  },
  {
   "cell_type": "code",
   "execution_count": 153,
   "metadata": {
    "collapsed": false,
    "scrolled": true
   },
   "outputs": [],
   "source": [
    "# calculate the grade for each station\n",
    "id_list = []\n",
    "grade_list = []\n",
    "for key in freeway_vectors:\n",
    "    frame = freeway_vectors[key]\n",
    "    count = frame.ID.count()\n",
    "    for index in range(1, count):\n",
    "        # absolute value of run in case we walk the freeway backwards\n",
    "        run = abs(frame.iloc[index-1].Abs_PM - frame.iloc[index].Abs_PM)\n",
    "        # sometimes there are multiple stations on the same mile marker...\n",
    "        if run == 0:\n",
    "            run = abs(frame.iloc[index-2].Abs_PM - frame.iloc[index].Abs_PM)\n",
    "#         print \"run: %s\" % run\n",
    "\n",
    "        start_id = frame.iloc[index-1].ID\n",
    "        end_id = frame.iloc[index].ID\n",
    "        raw_elevations = raw_results[key]['%s_%s' % (start_id, end_id)]\n",
    "#         print \"raw_elevations: %s\" % raw_elevations\n",
    "        \n",
    "        run_between_points = run/len(raw_elevations)\n",
    "#         print \"run_between_points: %s\" % run_between_points\n",
    "\n",
    "        # use the closest point to calculate the grade\n",
    "        if index == count:\n",
    "            # if at the end of the vector, then use the last raw_elevations\n",
    "            grade = np.arctan((raw_elevations[-1] - raw_elevations[-2])/float(run_between_points))\n",
    "        else:\n",
    "            grade = np.arctan((raw_elevations[1] - raw_elevations[0])/float(run_between_points))\n",
    "        \n",
    "        id_list.append(start_id)\n",
    "        grade_list.append(grade)"
   ]
  },
  {
   "cell_type": "code",
   "execution_count": 154,
   "metadata": {
    "collapsed": false
   },
   "outputs": [
    {
     "data": {
      "text/plain": [
       "815"
      ]
     },
     "execution_count": 154,
     "metadata": {},
     "output_type": "execute_result"
    }
   ],
   "source": [
    "len(id_list)"
   ]
  },
  {
   "cell_type": "code",
   "execution_count": 155,
   "metadata": {
    "collapsed": false
   },
   "outputs": [
    {
     "data": {
      "text/plain": [
       "815"
      ]
     },
     "execution_count": 155,
     "metadata": {},
     "output_type": "execute_result"
    }
   ],
   "source": [
    "len(grade_list)"
   ]
  },
  {
   "cell_type": "code",
   "execution_count": 159,
   "metadata": {
    "collapsed": false
   },
   "outputs": [],
   "source": [
    "grade_df = pd.DataFrame({'ID': id_list, 'grade': grade_list})"
   ]
  },
  {
   "cell_type": "code",
   "execution_count": 164,
   "metadata": {
    "collapsed": false
   },
   "outputs": [],
   "source": [
    "new_meta_frame_with_grade = pd.merge(new_meta_frame, grade_df, how='left', on='ID')"
   ]
  },
  {
   "cell_type": "code",
   "execution_count": 171,
   "metadata": {
    "collapsed": false
   },
   "outputs": [],
   "source": [
    "new_meta_frame_with_grade[new_meta_frame_with_grade.Type == 'ML'].to_csv('../data/meta_2015_with_elev_and_grade.csv')"
   ]
  },
  {
   "cell_type": "code",
   "execution_count": null,
   "metadata": {
    "collapsed": false,
    "scrolled": true
   },
   "outputs": [],
   "source": []
  },
  {
   "cell_type": "code",
   "execution_count": null,
   "metadata": {
    "collapsed": false
   },
   "outputs": [],
   "source": []
  },
  {
   "cell_type": "code",
   "execution_count": null,
   "metadata": {
    "collapsed": false
   },
   "outputs": [],
   "source": []
  },
  {
   "cell_type": "code",
   "execution_count": null,
   "metadata": {
    "collapsed": true
   },
   "outputs": [],
   "source": []
  }
 ],
 "metadata": {
  "anaconda-cloud": {},
  "kernelspec": {
   "display_name": "Python [default]",
   "language": "python",
   "name": "python2"
  },
  "language_info": {
   "codemirror_mode": {
    "name": "ipython",
    "version": 2
   },
   "file_extension": ".py",
   "mimetype": "text/x-python",
   "name": "python",
   "nbconvert_exporter": "python",
   "pygments_lexer": "ipython2",
   "version": "2.7.12"
  }
 },
 "nbformat": 4,
 "nbformat_minor": 1
}
