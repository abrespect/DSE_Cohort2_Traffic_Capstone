{
 "cells": [
  {
   "cell_type": "markdown",
   "metadata": {},
   "source": [
    "## Data stations ordered\n",
    "\n",
    "### Purpose & Motivation\n",
    "\n",
    "The purpose of notebook is to fetch elevation data and add it into the metadata file. Once elevation is obtained calculate the slope for each station.\n",
    "\n",
    "### Direction from Advisor\n",
    "\n",
    "Do not continue to investigate the potential of misclassified stations or reason for stations being abnormally close together on the ML.\n",
    "\n",
    "### Tasks/Questions to Answer\n",
    "#### Questions to Answer\n",
    "\n",
    "What is the elevation for each station?\n",
    "What is the slop for each station?\n",
    "\n",
    "#### Tasks\n",
    "* Use Google API to get the elevation for each station.\n",
    "* Use Google API to get a path of the elevation for each station to calculate the slope.\n",
    "* Generate a geojson file for use in visualization work (241) which is not included in this repo but is still an example for future work.\n",
    "\n",
    "### Results\n",
    "Elevation data was obtained, but slope was abandoned after the first pass didn't work.\n",
    "\n",
    "### Conclusions\n",
    "\n",
    "Using Google's API was pretty easy \n",
    "\n"
   ]
  },
  {
   "cell_type": "code",
   "execution_count": 1,
   "metadata": {
    "collapsed": true
   },
   "outputs": [],
   "source": [
    "from os.path import expanduser\n",
    "import pandas as pd\n",
    "import simplejson\n",
    "import numpy as np\n",
    "import urllib\n",
    "import json"
   ]
  },
  {
   "cell_type": "code",
   "execution_count": 2,
   "metadata": {
    "collapsed": false
   },
   "outputs": [],
   "source": [
    "# retrieve the google api key, for a new user you'll have to follow google's instructions to get your key\n",
    "home = expanduser(\"~\")\n",
    "with open(home + '/.googleapi') as infile:\n",
    "    apikey = infile.next().strip()"
   ]
  },
  {
   "cell_type": "code",
   "execution_count": 3,
   "metadata": {
    "collapsed": false
   },
   "outputs": [
    {
     "name": "stdout",
     "output_type": "stream",
     "text": [
      "../data/meta_2015.hdf\r\n"
     ]
    }
   ],
   "source": [
    "!ls ../data/meta_2015.hdf"
   ]
  },
  {
   "cell_type": "markdown",
   "metadata": {},
   "source": [
    "# Load Metadata"
   ]
  },
  {
   "cell_type": "code",
   "execution_count": 4,
   "metadata": {
    "collapsed": false
   },
   "outputs": [
    {
     "data": {
      "text/html": [
       "<div>\n",
       "<table border=\"1\" class=\"dataframe\">\n",
       "  <thead>\n",
       "    <tr style=\"text-align: right;\">\n",
       "      <th></th>\n",
       "      <th>ID</th>\n",
       "      <th>Fwy</th>\n",
       "      <th>Dir</th>\n",
       "      <th>District</th>\n",
       "      <th>County</th>\n",
       "      <th>City</th>\n",
       "      <th>State_PM</th>\n",
       "      <th>Abs_PM</th>\n",
       "      <th>Latitude</th>\n",
       "      <th>Longitude</th>\n",
       "      <th>Length</th>\n",
       "      <th>Type</th>\n",
       "      <th>Lanes</th>\n",
       "      <th>Name</th>\n",
       "      <th>User_ID_1</th>\n",
       "      <th>User_ID_2</th>\n",
       "      <th>User_ID_3</th>\n",
       "      <th>User_ID_4</th>\n",
       "      <th>file_date</th>\n",
       "    </tr>\n",
       "  </thead>\n",
       "  <tbody>\n",
       "    <tr>\n",
       "      <th>584</th>\n",
       "      <td>1113072</td>\n",
       "      <td>56</td>\n",
       "      <td>W</td>\n",
       "      <td>11</td>\n",
       "      <td>73</td>\n",
       "      <td>66000.0</td>\n",
       "      <td>7.383</td>\n",
       "      <td>7.885</td>\n",
       "      <td>32.955202</td>\n",
       "      <td>-117.124689</td>\n",
       "      <td>0.452</td>\n",
       "      <td>ML</td>\n",
       "      <td>2</td>\n",
       "      <td>Black Mountain Rd</td>\n",
       "      <td>314</td>\n",
       "      <td>NaN</td>\n",
       "      <td>NaN</td>\n",
       "      <td>NaN</td>\n",
       "      <td>2015_01_01</td>\n",
       "    </tr>\n",
       "    <tr>\n",
       "      <th>585</th>\n",
       "      <td>1113073</td>\n",
       "      <td>56</td>\n",
       "      <td>W</td>\n",
       "      <td>11</td>\n",
       "      <td>73</td>\n",
       "      <td>66000.0</td>\n",
       "      <td>7.383</td>\n",
       "      <td>7.885</td>\n",
       "      <td>32.955202</td>\n",
       "      <td>-117.124689</td>\n",
       "      <td>NaN</td>\n",
       "      <td>OR</td>\n",
       "      <td>3</td>\n",
       "      <td>BLACK MOUNTAIN RD</td>\n",
       "      <td>314</td>\n",
       "      <td>NaN</td>\n",
       "      <td>NaN</td>\n",
       "      <td>NaN</td>\n",
       "      <td>2015_01_01</td>\n",
       "    </tr>\n",
       "    <tr>\n",
       "      <th>665</th>\n",
       "      <td>1113680</td>\n",
       "      <td>56</td>\n",
       "      <td>E</td>\n",
       "      <td>11</td>\n",
       "      <td>73</td>\n",
       "      <td>66000.0</td>\n",
       "      <td>6.862</td>\n",
       "      <td>7.364</td>\n",
       "      <td>32.953394</td>\n",
       "      <td>-117.133404</td>\n",
       "      <td>0.999</td>\n",
       "      <td>ML</td>\n",
       "      <td>3</td>\n",
       "      <td>BLACK MOUNTAIN RD</td>\n",
       "      <td>434</td>\n",
       "      <td>NaN</td>\n",
       "      <td>NaN</td>\n",
       "      <td>NaN</td>\n",
       "      <td>2015_01_01</td>\n",
       "    </tr>\n",
       "    <tr>\n",
       "      <th>666</th>\n",
       "      <td>1113683</td>\n",
       "      <td>56</td>\n",
       "      <td>W</td>\n",
       "      <td>11</td>\n",
       "      <td>73</td>\n",
       "      <td>66000.0</td>\n",
       "      <td>7.383</td>\n",
       "      <td>7.885</td>\n",
       "      <td>32.955202</td>\n",
       "      <td>-117.124689</td>\n",
       "      <td>NaN</td>\n",
       "      <td>FR</td>\n",
       "      <td>2</td>\n",
       "      <td>BLK MOUNTAIN - WB 56</td>\n",
       "      <td>314</td>\n",
       "      <td>NaN</td>\n",
       "      <td>NaN</td>\n",
       "      <td>NaN</td>\n",
       "      <td>2015_01_01</td>\n",
       "    </tr>\n",
       "    <tr>\n",
       "      <th>1034</th>\n",
       "      <td>1119041</td>\n",
       "      <td>125</td>\n",
       "      <td>N</td>\n",
       "      <td>11</td>\n",
       "      <td>73</td>\n",
       "      <td>NaN</td>\n",
       "      <td>1.433</td>\n",
       "      <td>3.282</td>\n",
       "      <td>32.608637</td>\n",
       "      <td>-116.967247</td>\n",
       "      <td>0.792</td>\n",
       "      <td>ML</td>\n",
       "      <td>3</td>\n",
       "      <td>1 MI S/O BIRCH RD</td>\n",
       "      <td>19106</td>\n",
       "      <td>NaN</td>\n",
       "      <td>NaN</td>\n",
       "      <td>NaN</td>\n",
       "      <td>2015_01_01</td>\n",
       "    </tr>\n",
       "  </tbody>\n",
       "</table>\n",
       "</div>"
      ],
      "text/plain": [
       "           ID  Fwy Dir  District  County     City State_PM  Abs_PM   Latitude  \\\n",
       "584   1113072   56   W        11      73  66000.0    7.383   7.885  32.955202   \n",
       "585   1113073   56   W        11      73  66000.0    7.383   7.885  32.955202   \n",
       "665   1113680   56   E        11      73  66000.0    6.862   7.364  32.953394   \n",
       "666   1113683   56   W        11      73  66000.0    7.383   7.885  32.955202   \n",
       "1034  1119041  125   N        11      73      NaN    1.433   3.282  32.608637   \n",
       "\n",
       "       Longitude  Length Type  Lanes                  Name  User_ID_1  \\\n",
       "584  -117.124689   0.452   ML      2     Black Mountain Rd        314   \n",
       "585  -117.124689     NaN   OR      3     BLACK MOUNTAIN RD        314   \n",
       "665  -117.133404   0.999   ML      3     BLACK MOUNTAIN RD        434   \n",
       "666  -117.124689     NaN   FR      2  BLK MOUNTAIN - WB 56        314   \n",
       "1034 -116.967247   0.792   ML      3     1 MI S/O BIRCH RD      19106   \n",
       "\n",
       "      User_ID_2  User_ID_3  User_ID_4   file_date  \n",
       "584         NaN        NaN        NaN  2015_01_01  \n",
       "585         NaN        NaN        NaN  2015_01_01  \n",
       "665         NaN        NaN        NaN  2015_01_01  \n",
       "666         NaN        NaN        NaN  2015_01_01  \n",
       "1034        NaN        NaN        NaN  2015_01_01  "
      ]
     },
     "execution_count": 4,
     "metadata": {},
     "output_type": "execute_result"
    }
   ],
   "source": [
    "# read in the metadata file\n",
    "meta_hdf_path = '../data/meta_2015.hdf'\n",
    "meta_frame = pd.read_hdf(meta_hdf_path, 'meta_2015')\n",
    "meta_frame.head()"
   ]
  },
  {
   "cell_type": "markdown",
   "metadata": {},
   "source": [
    "## Missing Data\n",
    "Not all of the metadata has a valid lat / long. First we'll get the elevation for the known lat/long and then we'll manually fix the missing records."
   ]
  },
  {
   "cell_type": "code",
   "execution_count": 5,
   "metadata": {
    "collapsed": false
   },
   "outputs": [
    {
     "data": {
      "text/plain": [
       "ID           1541\n",
       "Fwy          1541\n",
       "Dir          1541\n",
       "District     1541\n",
       "County       1541\n",
       "City         1318\n",
       "State_PM     1541\n",
       "Abs_PM       1541\n",
       "Latitude     1539\n",
       "Longitude    1539\n",
       "Length        932\n",
       "Type         1541\n",
       "Lanes        1541\n",
       "Name         1541\n",
       "User_ID_1    1541\n",
       "User_ID_2       0\n",
       "User_ID_3       0\n",
       "User_ID_4       0\n",
       "file_date    1541\n",
       "dtype: int64"
      ]
     },
     "execution_count": 5,
     "metadata": {},
     "output_type": "execute_result"
    }
   ],
   "source": [
    "meta_frame.count()"
   ]
  },
  {
   "cell_type": "code",
   "execution_count": 6,
   "metadata": {
    "collapsed": false
   },
   "outputs": [
    {
     "data": {
      "text/plain": [
       "array(['ML', 'OR', 'FR', 'FF', 'HV', 'CH', 'CD'], dtype=object)"
      ]
     },
     "execution_count": 6,
     "metadata": {},
     "output_type": "execute_result"
    }
   ],
   "source": [
    "meta_frame.Type.unique()"
   ]
  },
  {
   "cell_type": "code",
   "execution_count": 7,
   "metadata": {
    "collapsed": false
   },
   "outputs": [
    {
     "data": {
      "text/html": [
       "<div>\n",
       "<table border=\"1\" class=\"dataframe\">\n",
       "  <thead>\n",
       "    <tr style=\"text-align: right;\">\n",
       "      <th></th>\n",
       "      <th>ID</th>\n",
       "      <th>Fwy</th>\n",
       "      <th>Dir</th>\n",
       "      <th>District</th>\n",
       "      <th>County</th>\n",
       "      <th>City</th>\n",
       "      <th>State_PM</th>\n",
       "      <th>Abs_PM</th>\n",
       "      <th>Latitude</th>\n",
       "      <th>Longitude</th>\n",
       "      <th>Length</th>\n",
       "      <th>Type</th>\n",
       "      <th>Lanes</th>\n",
       "      <th>Name</th>\n",
       "      <th>User_ID_1</th>\n",
       "      <th>User_ID_2</th>\n",
       "      <th>User_ID_3</th>\n",
       "      <th>User_ID_4</th>\n",
       "      <th>file_date</th>\n",
       "    </tr>\n",
       "  </thead>\n",
       "  <tbody>\n",
       "    <tr>\n",
       "      <th>767</th>\n",
       "      <td>1114649</td>\n",
       "      <td>805</td>\n",
       "      <td>S</td>\n",
       "      <td>11</td>\n",
       "      <td>73</td>\n",
       "      <td>66000.0</td>\n",
       "      <td>28.811</td>\n",
       "      <td>28.662</td>\n",
       "      <td>NaN</td>\n",
       "      <td>NaN</td>\n",
       "      <td>0.651</td>\n",
       "      <td>ML</td>\n",
       "      <td>4</td>\n",
       "      <td>S/B AT JCT I-5</td>\n",
       "      <td>4045</td>\n",
       "      <td>NaN</td>\n",
       "      <td>NaN</td>\n",
       "      <td>NaN</td>\n",
       "      <td>2015_12_17</td>\n",
       "    </tr>\n",
       "    <tr>\n",
       "      <th>1324</th>\n",
       "      <td>1125383</td>\n",
       "      <td>52</td>\n",
       "      <td>W</td>\n",
       "      <td>11</td>\n",
       "      <td>73</td>\n",
       "      <td>70224.0</td>\n",
       "      <td>14.756</td>\n",
       "      <td>14.756</td>\n",
       "      <td>NaN</td>\n",
       "      <td>NaN</td>\n",
       "      <td>0.695</td>\n",
       "      <td>ML</td>\n",
       "      <td>2</td>\n",
       "      <td>52 WB from 125 Conn</td>\n",
       "      <td>43812</td>\n",
       "      <td>NaN</td>\n",
       "      <td>NaN</td>\n",
       "      <td>NaN</td>\n",
       "      <td>2015_12_17</td>\n",
       "    </tr>\n",
       "  </tbody>\n",
       "</table>\n",
       "</div>"
      ],
      "text/plain": [
       "           ID  Fwy Dir  District  County     City State_PM  Abs_PM  Latitude  \\\n",
       "767   1114649  805   S        11      73  66000.0   28.811  28.662       NaN   \n",
       "1324  1125383   52   W        11      73  70224.0   14.756  14.756       NaN   \n",
       "\n",
       "      Longitude  Length Type  Lanes                 Name  User_ID_1  \\\n",
       "767         NaN   0.651   ML      4       S/B AT JCT I-5       4045   \n",
       "1324        NaN   0.695   ML      2  52 WB from 125 Conn      43812   \n",
       "\n",
       "      User_ID_2  User_ID_3  User_ID_4   file_date  \n",
       "767         NaN        NaN        NaN  2015_12_17  \n",
       "1324        NaN        NaN        NaN  2015_12_17  "
      ]
     },
     "execution_count": 7,
     "metadata": {},
     "output_type": "execute_result"
    }
   ],
   "source": [
    "meta_frame[meta_frame.Latitude.isnull()]"
   ]
  },
  {
   "cell_type": "code",
   "execution_count": 8,
   "metadata": {
    "collapsed": false
   },
   "outputs": [
    {
     "name": "stderr",
     "output_type": "stream",
     "text": [
      "/anaconda/lib/python2.7/site-packages/ipykernel/__main__.py:3: SettingWithCopyWarning: \n",
      "A value is trying to be set on a copy of a slice from a DataFrame.\n",
      "Try using .loc[row_indexer,col_indexer] = value instead\n",
      "\n",
      "See the caveats in the documentation: http://pandas.pydata.org/pandas-docs/stable/indexing.html#indexing-view-versus-copy\n",
      "  app.launch_new_instance()\n"
     ]
    }
   ],
   "source": [
    "meta_frame_no_nan = meta_frame.dropna(axis='index', subset=['Latitude', 'Longitude'])\n",
    "meta_frame_no_nan.index = np.arange(0, len(meta_frame_no_nan))\n",
    "meta_frame_no_nan['lat_lon'] = meta_frame_no_nan['Latitude'].map(str) + ',' + meta_frame_no_nan['Longitude'].map(str)"
   ]
  },
  {
   "cell_type": "code",
   "execution_count": 9,
   "metadata": {
    "collapsed": false
   },
   "outputs": [
    {
     "data": {
      "text/html": [
       "<div>\n",
       "<table border=\"1\" class=\"dataframe\">\n",
       "  <thead>\n",
       "    <tr style=\"text-align: right;\">\n",
       "      <th></th>\n",
       "      <th>ID</th>\n",
       "      <th>Fwy</th>\n",
       "      <th>Dir</th>\n",
       "      <th>District</th>\n",
       "      <th>County</th>\n",
       "      <th>City</th>\n",
       "      <th>State_PM</th>\n",
       "      <th>Abs_PM</th>\n",
       "      <th>Latitude</th>\n",
       "      <th>Longitude</th>\n",
       "      <th>Length</th>\n",
       "      <th>Type</th>\n",
       "      <th>Lanes</th>\n",
       "      <th>Name</th>\n",
       "      <th>User_ID_1</th>\n",
       "      <th>User_ID_2</th>\n",
       "      <th>User_ID_3</th>\n",
       "      <th>User_ID_4</th>\n",
       "      <th>file_date</th>\n",
       "      <th>lat_lon</th>\n",
       "    </tr>\n",
       "  </thead>\n",
       "  <tbody>\n",
       "  </tbody>\n",
       "</table>\n",
       "</div>"
      ],
      "text/plain": [
       "Empty DataFrame\n",
       "Columns: [ID, Fwy, Dir, District, County, City, State_PM, Abs_PM, Latitude, Longitude, Length, Type, Lanes, Name, User_ID_1, User_ID_2, User_ID_3, User_ID_4, file_date, lat_lon]\n",
       "Index: []"
      ]
     },
     "execution_count": 9,
     "metadata": {},
     "output_type": "execute_result"
    }
   ],
   "source": [
    "# spot check\n",
    "meta_frame_no_nan[meta_frame_no_nan.ID == 1114649]"
   ]
  },
  {
   "cell_type": "code",
   "execution_count": 10,
   "metadata": {
    "collapsed": false
   },
   "outputs": [
    {
     "data": {
      "text/plain": [
       "ID           1539\n",
       "Fwy          1539\n",
       "Dir          1539\n",
       "District     1539\n",
       "County       1539\n",
       "City         1316\n",
       "State_PM     1539\n",
       "Abs_PM       1539\n",
       "Latitude     1539\n",
       "Longitude    1539\n",
       "Length        930\n",
       "Type         1539\n",
       "Lanes        1539\n",
       "Name         1539\n",
       "User_ID_1    1539\n",
       "User_ID_2       0\n",
       "User_ID_3       0\n",
       "User_ID_4       0\n",
       "file_date    1539\n",
       "lat_lon      1539\n",
       "dtype: int64"
      ]
     },
     "execution_count": 10,
     "metadata": {},
     "output_type": "execute_result"
    }
   ],
   "source": [
    "meta_frame_no_nan.count()"
   ]
  },
  {
   "cell_type": "markdown",
   "metadata": {},
   "source": [
    "## Get Elevation from Google API"
   ]
  },
  {
   "cell_type": "code",
   "execution_count": 11,
   "metadata": {
    "collapsed": false
   },
   "outputs": [],
   "source": [
    "ELEVATION_BASE_URL = 'https://maps.googleapis.com/maps/api/elevation/json'\n",
    "def getElevation(lat_lon_list=None, **elvtn_args):\n",
    "    \"\"\"\n",
    "    This function will get the elevation from the google api\n",
    "    \"\"\"\n",
    "    result = None\n",
    "    elvtn_args.update({\n",
    "        'locations': \"|\".join(lat_lon_list),\n",
    "        'key': apikey\n",
    "    })\n",
    "\n",
    "    url = ELEVATION_BASE_URL + '?' + urllib.urlencode(elvtn_args)\n",
    "    response = simplejson.load(urllib.urlopen(url))\n",
    "\n",
    "    if 'status' not in response or response['status'] != 'OK':\n",
    "        print \"bad response\"\n",
    "    else:\n",
    "        result = [item['elevation'] for item in response['results']]\n",
    "    return result"
   ]
  },
  {
   "cell_type": "code",
   "execution_count": 12,
   "metadata": {
    "collapsed": false
   },
   "outputs": [
    {
     "name": "stdout",
     "output_type": "stream",
     "text": [
      "1539\n",
      "1539\n"
     ]
    }
   ],
   "source": [
    "# chunk the data into parts of 50 and fetch data from Google API\n",
    "id_master = []\n",
    "elevation_master = []\n",
    "\n",
    "chunk = 50\n",
    "for item in range(0, 31):\n",
    "    start = item*chunk\n",
    "    end = (item+1)*chunk\n",
    "    \n",
    "    id_master += list(meta_frame_no_nan['ID'][start:end].values)\n",
    "    elevation_master += getElevation(list(meta_frame_no_nan['lat_lon'][start:end]))\n",
    "    \n",
    "print len(id_master)\n",
    "print len(elevation_master)"
   ]
  },
  {
   "cell_type": "code",
   "execution_count": 13,
   "metadata": {
    "collapsed": false
   },
   "outputs": [],
   "source": [
    "elev_df = pd.DataFrame({'ID': id_master, 'elevation': elevation_master})"
   ]
  },
  {
   "cell_type": "code",
   "execution_count": 14,
   "metadata": {
    "collapsed": false
   },
   "outputs": [
    {
     "data": {
      "text/plain": [
       "Index([u'ID', u'Fwy', u'Dir', u'District', u'County', u'City', u'State_PM',\n",
       "       u'Abs_PM', u'Latitude', u'Longitude', u'Length', u'Type', u'Lanes',\n",
       "       u'Name', u'User_ID_1', u'User_ID_2', u'User_ID_3', u'User_ID_4',\n",
       "       u'file_date'],\n",
       "      dtype='object')"
      ]
     },
     "execution_count": 14,
     "metadata": {},
     "output_type": "execute_result"
    }
   ],
   "source": [
    "meta_frame.columns"
   ]
  },
  {
   "cell_type": "code",
   "execution_count": 15,
   "metadata": {
    "collapsed": false
   },
   "outputs": [
    {
     "data": {
      "text/plain": [
       "Index([u'ID', u'elevation'], dtype='object')"
      ]
     },
     "execution_count": 15,
     "metadata": {},
     "output_type": "execute_result"
    }
   ],
   "source": [
    "elev_df.columns"
   ]
  },
  {
   "cell_type": "code",
   "execution_count": 16,
   "metadata": {
    "collapsed": false
   },
   "outputs": [],
   "source": [
    "new_meta_frame = pd.merge(meta_frame, elev_df, how='left')"
   ]
  },
  {
   "cell_type": "code",
   "execution_count": 17,
   "metadata": {
    "collapsed": false
   },
   "outputs": [
    {
     "data": {
      "text/html": [
       "<div>\n",
       "<table border=\"1\" class=\"dataframe\">\n",
       "  <thead>\n",
       "    <tr style=\"text-align: right;\">\n",
       "      <th></th>\n",
       "      <th>ID</th>\n",
       "      <th>Fwy</th>\n",
       "      <th>Dir</th>\n",
       "      <th>District</th>\n",
       "      <th>County</th>\n",
       "      <th>City</th>\n",
       "      <th>State_PM</th>\n",
       "      <th>Abs_PM</th>\n",
       "      <th>Latitude</th>\n",
       "      <th>Longitude</th>\n",
       "      <th>Length</th>\n",
       "      <th>Type</th>\n",
       "      <th>Lanes</th>\n",
       "      <th>Name</th>\n",
       "      <th>User_ID_1</th>\n",
       "      <th>User_ID_2</th>\n",
       "      <th>User_ID_3</th>\n",
       "      <th>User_ID_4</th>\n",
       "      <th>file_date</th>\n",
       "      <th>elevation</th>\n",
       "    </tr>\n",
       "  </thead>\n",
       "  <tbody>\n",
       "    <tr>\n",
       "      <th>884</th>\n",
       "      <td>1114649</td>\n",
       "      <td>805</td>\n",
       "      <td>S</td>\n",
       "      <td>11</td>\n",
       "      <td>73</td>\n",
       "      <td>66000.0</td>\n",
       "      <td>28.811</td>\n",
       "      <td>28.662</td>\n",
       "      <td>NaN</td>\n",
       "      <td>NaN</td>\n",
       "      <td>0.651</td>\n",
       "      <td>ML</td>\n",
       "      <td>4</td>\n",
       "      <td>S/B AT JCT I-5</td>\n",
       "      <td>4045</td>\n",
       "      <td>NaN</td>\n",
       "      <td>NaN</td>\n",
       "      <td>NaN</td>\n",
       "      <td>2015_12_17</td>\n",
       "      <td>NaN</td>\n",
       "    </tr>\n",
       "    <tr>\n",
       "      <th>1441</th>\n",
       "      <td>1125383</td>\n",
       "      <td>52</td>\n",
       "      <td>W</td>\n",
       "      <td>11</td>\n",
       "      <td>73</td>\n",
       "      <td>70224.0</td>\n",
       "      <td>14.756</td>\n",
       "      <td>14.756</td>\n",
       "      <td>NaN</td>\n",
       "      <td>NaN</td>\n",
       "      <td>0.695</td>\n",
       "      <td>ML</td>\n",
       "      <td>2</td>\n",
       "      <td>52 WB from 125 Conn</td>\n",
       "      <td>43812</td>\n",
       "      <td>NaN</td>\n",
       "      <td>NaN</td>\n",
       "      <td>NaN</td>\n",
       "      <td>2015_12_17</td>\n",
       "      <td>NaN</td>\n",
       "    </tr>\n",
       "  </tbody>\n",
       "</table>\n",
       "</div>"
      ],
      "text/plain": [
       "           ID  Fwy Dir  District  County     City State_PM  Abs_PM  Latitude  \\\n",
       "884   1114649  805   S        11      73  66000.0   28.811  28.662       NaN   \n",
       "1441  1125383   52   W        11      73  70224.0   14.756  14.756       NaN   \n",
       "\n",
       "      Longitude  Length Type  Lanes                 Name  User_ID_1  \\\n",
       "884         NaN   0.651   ML      4       S/B AT JCT I-5       4045   \n",
       "1441        NaN   0.695   ML      2  52 WB from 125 Conn      43812   \n",
       "\n",
       "      User_ID_2  User_ID_3  User_ID_4   file_date  elevation  \n",
       "884         NaN        NaN        NaN  2015_12_17        NaN  \n",
       "1441        NaN        NaN        NaN  2015_12_17        NaN  "
      ]
     },
     "execution_count": 17,
     "metadata": {},
     "output_type": "execute_result"
    }
   ],
   "source": [
    "# find bad data...\n",
    "new_meta_frame[new_meta_frame.elevation.isnull()]"
   ]
  },
  {
   "cell_type": "markdown",
   "metadata": {},
   "source": [
    "## Fix the records with Missing Lat/Long"
   ]
  },
  {
   "cell_type": "code",
   "execution_count": 18,
   "metadata": {
    "collapsed": false
   },
   "outputs": [
    {
     "data": {
      "text/plain": [
       "ID                  1114649\n",
       "Fwy                     805\n",
       "Dir                       S\n",
       "District                 11\n",
       "County                   73\n",
       "City                  66000\n",
       "State_PM             28.811\n",
       "Abs_PM               28.662\n",
       "Latitude            32.9665\n",
       "Longitude          -117.225\n",
       "Length                0.651\n",
       "Type                     ML\n",
       "Lanes                     4\n",
       "Name         S/B AT JCT I-5\n",
       "User_ID_1              4045\n",
       "User_ID_2               NaN\n",
       "User_ID_3               NaN\n",
       "User_ID_4               NaN\n",
       "file_date        2015_12_17\n",
       "elevation               NaN\n",
       "Name: 884, dtype: object"
      ]
     },
     "execution_count": 18,
     "metadata": {},
     "output_type": "execute_result"
    }
   ],
   "source": [
    "# Fix bad data via manual lookup\n",
    "new_meta_frame.loc[884, 'Latitude'] = 32.966531\n",
    "new_meta_frame.loc[884, 'Longitude'] = -117.2255\n",
    "new_meta_frame.iloc[884]"
   ]
  },
  {
   "cell_type": "code",
   "execution_count": 19,
   "metadata": {
    "collapsed": false
   },
   "outputs": [
    {
     "data": {
      "text/plain": [
       "ID                       1125383\n",
       "Fwy                           52\n",
       "Dir                            W\n",
       "District                      11\n",
       "County                        73\n",
       "City                       70224\n",
       "State_PM                  14.756\n",
       "Abs_PM                    14.756\n",
       "Latitude                 32.8365\n",
       "Longitude               -117.008\n",
       "Length                     0.695\n",
       "Type                          ML\n",
       "Lanes                          2\n",
       "Name         52 WB from 125 Conn\n",
       "User_ID_1                  43812\n",
       "User_ID_2                    NaN\n",
       "User_ID_3                    NaN\n",
       "User_ID_4                    NaN\n",
       "file_date             2015_12_17\n",
       "elevation                    NaN\n",
       "Name: 1441, dtype: object"
      ]
     },
     "execution_count": 19,
     "metadata": {},
     "output_type": "execute_result"
    }
   ],
   "source": [
    "new_meta_frame.loc[1441, 'Latitude'] = 32.836534\n",
    "new_meta_frame.loc[1441, 'Longitude'] = -117.00755\n",
    "new_meta_frame.iloc[1441]"
   ]
  },
  {
   "cell_type": "code",
   "execution_count": 20,
   "metadata": {
    "collapsed": true
   },
   "outputs": [],
   "source": [
    "result_884 = getElevation(['32.9665,-117.2255'])\n",
    "result_1441 = getElevation(['32.8365,-117.00755'])"
   ]
  },
  {
   "cell_type": "code",
   "execution_count": 21,
   "metadata": {
    "collapsed": false
   },
   "outputs": [],
   "source": [
    "new_meta_frame.loc[884, 'elevation'] = result_884[0]\n",
    "new_meta_frame.loc[1441, 'elevation'] = result_1441[0]"
   ]
  },
  {
   "cell_type": "code",
   "execution_count": 16,
   "metadata": {
    "collapsed": false
   },
   "outputs": [],
   "source": [
    "# Note: all elevations are in meters.\n",
    "new_meta_frame.to_csv('../data/meta_2015_with_elev.csv')"
   ]
  },
  {
   "cell_type": "markdown",
   "metadata": {},
   "source": [
    "# Calculate slope between stations"
   ]
  },
  {
   "cell_type": "code",
   "execution_count": 22,
   "metadata": {
    "collapsed": false
   },
   "outputs": [],
   "source": [
    "new_meta_frame = pd.read_csv('../data/meta_2015_with_elev.csv')"
   ]
  },
  {
   "cell_type": "code",
   "execution_count": 23,
   "metadata": {
    "collapsed": false
   },
   "outputs": [
    {
     "data": {
      "text/plain": [
       "Index([u'Unnamed: 0', u'Unnamed: 0.1', u'Unnamed: 0.1.1', u'ID', u'Fwy',\n",
       "       u'Dir', u'District', u'County', u'City', u'State_PM', u'Abs_PM',\n",
       "       u'Latitude', u'Longitude', u'Length', u'Type', u'Lanes', u'Name',\n",
       "       u'User_ID_1', u'User_ID_2', u'User_ID_3', u'User_ID_4', u'file_date',\n",
       "       u'elevation'],\n",
       "      dtype='object')"
      ]
     },
     "execution_count": 23,
     "metadata": {},
     "output_type": "execute_result"
    }
   ],
   "source": [
    "new_meta_frame.columns"
   ]
  },
  {
   "cell_type": "code",
   "execution_count": 24,
   "metadata": {
    "collapsed": false
   },
   "outputs": [
    {
     "data": {
      "text/plain": [
       "array(['ML', 'OR', 'FR', 'FF', 'HV', 'CH', 'CD'], dtype=object)"
      ]
     },
     "execution_count": 24,
     "metadata": {},
     "output_type": "execute_result"
    }
   ],
   "source": [
    "new_meta_frame.Type.unique()"
   ]
  },
  {
   "cell_type": "code",
   "execution_count": 25,
   "metadata": {
    "collapsed": false
   },
   "outputs": [],
   "source": [
    "def create_freeway_vectors(frame_to_use, columns_to_select=['ID', 'Latitude', 'Longitude', 'Abs_PM', 'Lanes']):\n",
    "    \"\"\"\n",
    "    Create a vector for the ML stations of a particular freeway\n",
    "    \"\"\"\n",
    "    to_loop = new_meta_frame.groupby(['Fwy', 'Dir'])['ID'].count().reset_index()[['Fwy', 'Dir']].values\n",
    "    \n",
    "    ret = {}\n",
    "    for Fwy, Dir in to_loop:\n",
    "        sort_order = ('Abs_PM', True)                    \n",
    "        tmp = frame_to_use[(frame_to_use.Fwy == Fwy) & (frame_to_use.Dir == Dir)\n",
    "                                                  & (frame_to_use.Type == 'ML')]\\\n",
    "            .sort_values(by=sort_order[0], ascending=sort_order[1])[columns_to_select].drop_duplicates()\n",
    "        tmp['order'] = pd.Series(index=tmp.index, data=sorted(range(0, len(tmp.ID)), reverse=(not sort_order[1])))\n",
    "        ret[\"%s_%s\" % (Fwy, Dir)] = tmp\n",
    "    return ret "
   ]
  },
  {
   "cell_type": "code",
   "execution_count": 26,
   "metadata": {
    "collapsed": false
   },
   "outputs": [],
   "source": [
    "freeway_vectors = create_freeway_vectors(new_meta_frame)"
   ]
  },
  {
   "cell_type": "code",
   "execution_count": 27,
   "metadata": {
    "collapsed": false
   },
   "outputs": [
    {
     "data": {
      "text/plain": [
       "26"
      ]
     },
     "execution_count": 27,
     "metadata": {},
     "output_type": "execute_result"
    }
   ],
   "source": [
    "len(freeway_vectors)"
   ]
  },
  {
   "cell_type": "code",
   "execution_count": 28,
   "metadata": {
    "collapsed": false,
    "scrolled": true
   },
   "outputs": [
    {
     "data": {
      "text/plain": [
       "{'125_N':           ID   Latitude   Longitude  Abs_PM  Lanes  order\n",
       " 18   1119021  32.595673 -116.964628   2.344      2      0\n",
       " 4    1119041  32.608637 -116.967247   3.282      3      1\n",
       " 19   1119050  32.617282 -116.971114   3.928      3      2\n",
       " 6    1119059  32.619301 -116.971171   4.067      2      3\n",
       " 23   1119075  32.623484 -116.971141   4.356      2      4\n",
       " 25   1119085  32.625784 -116.971135   4.515      3      5\n",
       " 9    1119094  32.629142 -116.971145   4.747      2      6\n",
       " 28   1119102  32.634145 -116.971152   5.092      2      7\n",
       " 11   1119110  32.641088 -116.970426   5.575      2      8\n",
       " 32   1119126  32.649208 -116.970687   6.136      2      9\n",
       " 34   1119135  32.656460 -116.972951   6.657      2     10\n",
       " 36   1119144  32.658804 -116.975168   6.865      2     11\n",
       " 38   1119162  32.666777 -116.984009   7.634      2     12\n",
       " 40   1119171  32.671414 -116.984862   7.958      2     13\n",
       " 30   1119118  32.675550 -116.985470   8.246      2     14\n",
       " 45   1119205  32.684722 -117.009803  10.142      2     15\n",
       " 48   1119252  32.695755 -117.013341  11.047      3     16\n",
       " 13   1119179  32.700003 -117.011277  11.364      2     17\n",
       " 690  1112964  32.702928 -117.010755  11.569      3     18\n",
       " 42   1119187  32.708060 -117.011493  11.928      2     19\n",
       " 43   1119195  32.712790 -117.013390  12.273      2     20\n",
       " 711  1113266  32.716131 -117.014296  12.510      3     21\n",
       " 700  1113147  32.725198 -117.014470  13.126      3     22\n",
       " 694  1113017  32.731085 -117.015062  13.545      3     23\n",
       " 701  1113159  32.736686 -117.015668  13.934      3     24\n",
       " 705  1113187  32.749343 -117.016208  14.878      3     25\n",
       " 284  1108372  32.754424 -117.010210  15.373      3     26\n",
       " 719  1113308  32.774768 -117.002680  16.966      2     27\n",
       " 217  1108299  32.775560 -117.002934  17.020      3     28\n",
       " 675  1111555  32.787663 -117.006295  17.881      3     29\n",
       " 677  1111557  32.794264 -117.005630  18.340      4     30\n",
       " 819  1113915  32.805586 -117.005342  19.123      3     31\n",
       " 813  1113894  32.807875 -117.005299  19.281      3     32\n",
       " 708  1113222  32.809737 -117.004842  19.413      3     33\n",
       " 722  1113327  32.833838 -117.003119  21.146      3     34,\n",
       " '125_S':           ID   Latitude   Longitude  Abs_PM  Lanes  order\n",
       " 21   1119067  32.620053 -116.971541   4.153      2      0\n",
       " 22   1119068  32.620053 -116.971541   4.153      2      1\n",
       " 24   1119076  32.621989 -116.971431   4.332      2      2\n",
       " 17   1119020  32.627587 -116.971589   4.719      2      3\n",
       " 5    1119042  32.637029 -116.971446   5.428      2      4\n",
       " 20   1119051  32.647725 -116.970777   6.215      2      5\n",
       " 7    1119060  32.649605 -116.971095   6.346      2      6\n",
       " 26   1119086  32.655244 -116.972809   6.795      3      7\n",
       " 8    1119093  32.658064 -116.974882   7.026      2      8\n",
       " 27   1119101  32.660669 -116.978747   7.368      2      9\n",
       " 10   1119109  32.666382 -116.984168   7.930      2     10\n",
       " 29   1119117  32.670471 -116.985185   8.223      2     11\n",
       " 31   1119125  32.673230 -116.985582   8.415      3     12\n",
       " 33   1119134  32.680656 -116.988509   8.969      3     13\n",
       " 41   1119186  32.681990 -116.990933   9.138      2     14\n",
       " 35   1119143  32.682081 -116.991224   9.156      3     15\n",
       " 37   1119161  32.679891 -117.002578   9.917      3     16\n",
       " 39   1119170  32.695218 -117.014362  11.659      3     17\n",
       " 47   1119251  32.695995 -117.013866  11.720      3     18\n",
       " 12   1119178  32.700011 -117.011577  12.009      2     19\n",
       " 838  1114006  32.700378 -117.011606  12.075      3     20\n",
       " 44   1119196  32.710260 -117.012799  12.850      2     21\n",
       " 840  1114018  32.710482 -117.012885  12.866      3     22\n",
       " 46   1119232  32.711635 -117.013079  12.953      2     23\n",
       " 715  1113292  32.720013 -117.014848  13.604      3     24\n",
       " 712  1113267  32.741488 -117.016541  15.317      3     25\n",
       " 698  1113138  32.744963 -117.018519  15.669      2     26\n",
       " 716  1113297  32.749839 -117.016252  16.382      3     27\n",
       " 717  1113301  32.752517 -117.012720  16.752      3     28\n",
       " 238  1108323  32.754413 -117.010595  16.963      3     29\n",
       " 728  1113413  32.759045 -117.005049  17.418      3     30\n",
       " 241  1108326  32.775103 -117.003063  18.587      3     31\n",
       " 674  1111554  32.789405 -117.006655  19.600      3     32\n",
       " 676  1111556  32.794230 -117.005898  19.937      3     33\n",
       " 816  1113904  32.801997 -117.005609  20.474      3     34\n",
       " 707  1113218  32.809436 -117.005295  20.990      4     35\n",
       " 723  1113335  32.834748 -117.003404  22.809      3     36,\n",
       " '15_N':            ID   Latitude   Longitude  Abs_PM  Lanes  order\n",
       " 1138  1119689  32.701162 -117.120639   0.734      4      0\n",
       " 1139  1119694  32.705882 -117.120433   1.066      3      1\n",
       " 84    1122948  32.715149 -117.117717   1.713      2      2\n",
       " 82    1122942  32.716837 -117.117751   1.829      3      3\n",
       " 1105  1118886  32.723255 -117.115308   2.302      3      4\n",
       " 1402  1123179  32.733487 -117.111847   3.059      2      5\n",
       " 1400  1123165  32.733487 -117.111847   3.059      3      6\n",
       " 1110  1118923  32.743033 -117.110934   3.770      5      7\n",
       " 74    1114683  32.743423 -117.110577   3.804      5      8\n",
       " 623   1108747  32.749887 -117.108580   4.282      5      9\n",
       " 625   1108749  32.755505 -117.108629   4.672      4     10\n",
       " 627   1108751  32.763381 -117.109091   5.213      4     11\n",
       " 1112  1118941  32.778656 -117.112218   6.313      4     12\n",
       " 558   1108676  32.780507 -117.112857   6.446      4     13\n",
       " 1050  1117890  32.786224 -117.114171   6.856      4     14\n",
       " 421   1108528  32.790215 -117.112989   7.141      4     15\n",
       " 845   1114044  32.798930 -117.112299   7.751      5     16\n",
       " 950   1115649  32.803162 -117.112748   8.043      5     17\n",
       " 537   1108655  32.809942 -117.113787   8.513      4     18\n",
       " 951   1115656  32.814701 -117.114537   8.844      5     19\n",
       " 424   1108531  32.822010 -117.116084   9.356      4     20\n",
       " 952   1115663  32.827600 -117.117266   9.748      5     21\n",
       " 426   1108534  32.833224 -117.118598  10.144      4     22\n",
       " 954   1115672  32.842596 -117.119997  10.814      4     23\n",
       " 956   1115713  32.848411 -117.116636  11.261      5     24\n",
       " 1217  1120611  32.862995 -117.110269  12.335      6     25\n",
       " 957   1115721  32.868194 -117.107817  12.721      7     26\n",
       " 1052  1117909  32.874869 -117.106870  13.187      7     27\n",
       " 428   1108536  32.879670 -117.107922  13.524      6     28\n",
       " 1325  1122469  32.887474 -117.112061  14.115      6     29\n",
       " ...       ...        ...         ...     ...    ...    ...\n",
       " 1382  1123030  32.992692 -117.083407  21.831      6     42\n",
       " 477   1108592  32.999461 -117.082451  22.301      5     43\n",
       " 1228  1120994  33.004858 -117.080707  22.691      6     44\n",
       " 482   1108597  33.013247 -117.079485  23.280      4     45\n",
       " 1232  1121037  33.017302 -117.079039  23.561      6     46\n",
       " 480   1108595  33.024581 -117.078628  24.065      5     47\n",
       " 1231  1121035  33.034420 -117.077018  24.758      5     48\n",
       " 1244  1121099  33.041631 -117.074011  25.284      6     49\n",
       " 1249  1121131  33.050286 -117.072669  25.892      5     50\n",
       " 452   1108562  33.055354 -117.071497  26.249      5     51\n",
       " 1247  1121118  33.061591 -117.068995  26.702      5     52\n",
       " 643   1108767  33.067915 -117.069049  27.138      4     53\n",
       " 1238  1121067  33.074062 -117.070048  27.564      5     54\n",
       " 1495  1125872  33.086753 -117.076377  28.525      5     55\n",
       " 68    1108769  33.092857 -117.082787  29.081      5     56\n",
       " 1497  1125886  33.100535 -117.090041  29.755      5     57\n",
       " 1329  1122502  33.109785 -117.095526  30.470      2     58\n",
       " 645   1108771  33.109901 -117.095594  30.479      5     59\n",
       " 647   1108773  33.116398 -117.099391  30.976      6     60\n",
       " 1141  1119736  33.125282 -117.104135  31.653      4     61\n",
       " 1142  1119743  33.142901 -117.104509  32.877      4     62\n",
       " 1143  1119749  33.157090 -117.104039  33.837      4     63\n",
       " 1145  1119762  33.166377 -117.107730  34.529      4     64\n",
       " 75    1114695  33.166377 -117.107730  34.529      4     65\n",
       " 1147  1119774  33.178414 -117.114712  35.451      4     66\n",
       " 1148  1119780  33.192903 -117.122965  36.557      4     67\n",
       " 79    1121745  33.232554 -117.146877  39.637      4     68\n",
       " 80    1121751  33.317188 -117.153998  45.717      4     69\n",
       " 1286  1121757  33.357444 -117.158725  48.537      4     70\n",
       " 1288  1121763  33.406738 -117.164546  52.347      4     71\n",
       " \n",
       " [72 rows x 6 columns],\n",
       " '15_S':            ID   Latitude   Longitude  Abs_PM  Lanes  order\n",
       " 1137  1119683  32.701146 -117.120937   0.723      2      0\n",
       " 1140  1119699  32.705928 -117.120609   1.057      3      1\n",
       " 78    1117920  32.715149 -117.117869   1.703      2      2\n",
       " 83    1122945  32.715149 -117.117869   1.703      2      3\n",
       " 1153  1119808  32.723273 -117.115525   2.294      3      4\n",
       " 1107  1118900  32.733539 -117.112150   3.049      3      5\n",
       " 1392  1123114  32.743120 -117.111361   3.760      5      6\n",
       " 887   1114684  32.743514 -117.110995   3.795      5      7\n",
       " 629   1108753  32.748042 -117.109034   4.144      4      8\n",
       " 631   1108755  32.754476 -117.108977   4.591      5      9\n",
       " 633   1108757  32.761617 -117.109257   5.082      5     10\n",
       " 1239  1121074  32.778825 -117.112533   6.317      4     11\n",
       " 960   1115763  32.786062 -117.114472   6.834      4     12\n",
       " 1053  1117931  32.786249 -117.114457   6.847      6     13\n",
       " 419   1108526  32.788320 -117.113962   6.994      5     14\n",
       " 593   1108715  32.800345 -117.112825   7.842      5     15\n",
       " 961   1115771  32.803081 -117.113175   8.032      5     16\n",
       " 360   1108465  32.809906 -117.114188   8.507      4     17\n",
       " 962   1115779  32.814606 -117.114981   8.833      5     18\n",
       " 416   1108523  32.822271 -117.116575   9.367      4     19\n",
       " 963   1115787  32.827529 -117.117732   9.737      5     20\n",
       " 414   1108521  32.832989 -117.118962  10.122      4     21\n",
       " 964   1115794  32.842604 -117.120583  10.803      5     22\n",
       " 965   1115802  32.848370 -117.117157  11.250      5     23\n",
       " 966   1115811  32.868138 -117.108510  12.712      6     24\n",
       " 1051  1117899  32.874797 -117.107576  13.178      6     25\n",
       " 492   1108607  32.881993 -117.109567  13.692      6     26\n",
       " 967   1115820  32.886353 -117.112080  14.027      6     27\n",
       " 1307  1122272  32.891265 -117.114689  14.399      6     28\n",
       " 388   1108495  32.894088 -117.115721  14.603      6     29\n",
       " ...       ...        ...         ...     ...    ...    ...\n",
       " 328   1108427  32.978318 -117.086978  20.784      5     39\n",
       " 1383  1123031  32.985192 -117.083216  21.298      5     40\n",
       " 1378  1123006  32.992818 -117.083901  21.818      7     41\n",
       " 326   1108425  32.996577 -117.083687  22.073      5     42\n",
       " 1229  1121001  33.004968 -117.081057  22.682      6     43\n",
       " 412   1108519  33.010949 -117.080160  23.108      5     44\n",
       " 1233  1121038  33.017322 -117.079475  23.551      5     45\n",
       " 430   1108538  33.024783 -117.079000  24.066      5     46\n",
       " 1230  1121034  33.034506 -117.077429  24.746      5     47\n",
       " 1245  1121105  33.041744 -117.074397  25.275      5     48\n",
       " 1248  1121125  33.050388 -117.073047  25.882      5     49\n",
       " 433   1108541  33.053304 -117.072601  26.085      5     50\n",
       " 1246  1121112  33.061597 -117.069320  26.690      5     51\n",
       " 435   1108543  33.069784 -117.069615  27.258      4     52\n",
       " 1237  1121066  33.074031 -117.070369  27.554      5     53\n",
       " 437   1108545  33.081470 -117.072744  28.087      4     54\n",
       " 1494  1125865  33.086691 -117.076716  28.516      4     55\n",
       " 409   1108516  33.090473 -117.080791  28.868      4     56\n",
       " 1496  1125879  33.100505 -117.090366  29.756      5     57\n",
       " 448   1108558  33.106484 -117.093924  30.217      4     58\n",
       " 446   1108556  33.116002 -117.099486  30.944      5     59\n",
       " 1423  1125265  33.125235 -117.104439  31.644      4     60\n",
       " 444   1108554  33.144465 -117.104762  32.974      4     61\n",
       " 1144  1119756  33.157067 -117.104348  33.828      4     62\n",
       " 888   1114696  33.166231 -117.108070  34.520      4     63\n",
       " 1146  1119768  33.178265 -117.114973  35.440      4     64\n",
       " 1284  1121748  33.232597 -117.147394  39.637      4     65\n",
       " 1285  1121754  33.317195 -117.154451  45.708      4     66\n",
       " 1287  1121760  33.357354 -117.159131  48.528      4     67\n",
       " 1289  1121767  33.406971 -117.164827  52.338      4     68\n",
       " \n",
       " [69 rows x 6 columns],\n",
       " '163_N':            ID   Latitude   Longitude  Abs_PM  Lanes  order\n",
       " 714   1113279  32.746749 -117.156312   1.941      2      0\n",
       " 653   1111520  32.751600 -117.155806   2.289      2      1\n",
       " 1298  1121818  32.757697 -117.160056   2.789      4      2\n",
       " 871   1114450  32.767979 -117.162130   3.565      7      3\n",
       " 872   1114457  32.783982 -117.161692   4.699      5      4\n",
       " 874   1114471  32.804762 -117.154108   6.199      6      5\n",
       " 992   1116139  32.812726 -117.151215   6.777      4      6\n",
       " 454   1108564  32.821751 -117.146602   7.459      4      7\n",
       " 993   1116145  32.826900 -117.143798   7.849      4      8\n",
       " 456   1108567  32.833798 -117.139787   8.378      4      9\n",
       " 100   1116151  32.840523 -117.133858   8.955      4     10\n",
       " 65    1114484  32.843194 -117.131418   9.188      4     11\n",
       " 986   1116098  32.845121 -117.129665   9.356      4     12\n",
       " 459   1108570  32.854682 -117.119386  10.260      4     13,\n",
       " '163_S':            ID   Latitude   Longitude  Abs_PM  Lanes  order\n",
       " 661   1111539  32.746765 -117.156512   1.892      2      0\n",
       " 246   1108331  32.749679 -117.155519   2.101      2      1\n",
       " 1299  1121821  32.757664 -117.160289   2.743      5      2\n",
       " 650   1111510  32.770297 -117.161759   3.679      4      3\n",
       " 873   1114463  32.784029 -117.161945   4.653      4      4\n",
       " 649   1111509  32.790699 -117.159531   5.133      4      5\n",
       " 875   1114478  32.804853 -117.154410   6.153      5      6\n",
       " 985   1116092  32.812816 -117.151507   6.730      5      7\n",
       " 379   1108486  32.819500 -117.148074   7.235      4      8\n",
       " 377   1108484  32.822354 -117.146524   7.452      4      9\n",
       " 987   1116105  32.826994 -117.143983   7.803      5     10\n",
       " 107   1108481  32.833609 -117.140186   8.308      4     11\n",
       " 114   1116164  32.840675 -117.134077   8.909      4     12\n",
       " 66    1114491  32.843367 -117.131624   9.142      5     13\n",
       " 994   1116158  32.845317 -117.129866   9.310      5     14\n",
       " 599   1108721  32.855860 -117.117328  10.333      5     15,\n",
       " '52_E':            ID   Latitude   Longitude  Abs_PM  Lanes  order\n",
       " 93    1114136  32.837447 -117.234743   0.300      3      0\n",
       " 1086  1118557  32.841387 -117.218311   1.308      2      1\n",
       " 91    1114108  32.845413 -117.209402   1.897      2      2\n",
       " 1088  1118567  32.846717 -117.204307   2.218      2      3\n",
       " 94    1114141  32.846153 -117.188480   3.150      3      4\n",
       " 101   1121680  32.846938 -117.174426   3.971      4      5\n",
       " 95    1114147  32.841823 -117.164749   4.650      4      6\n",
       " 1089  1118575  32.839837 -117.162111   4.856      4      7\n",
       " 853   1114177  32.840942 -117.133738   6.591      4      8\n",
       " 1092  1118636  32.841627 -117.122598   7.246      3      9\n",
       " 1292  1121780  32.842684 -117.087957   9.271      3     10\n",
       " 92    1114131  32.848333 -117.075672  10.101      3     11\n",
       " 103   1121794  32.850297 -117.073164  10.300      3     12\n",
       " 1294  1121800  32.853511 -117.067890  10.681      3     13\n",
       " 876   1114520  32.853811 -117.055777  11.401      3     14\n",
       " 1296  1121806  32.853151 -117.051554  11.650      3     15\n",
       " 110   1114529  32.851233 -117.038885  12.401      3     16\n",
       " 104   1121812  32.848883 -117.030492  12.921      3     17\n",
       " 654   1111526  32.843462 -117.025631  13.401      2     18\n",
       " 98    1114511  32.835925 -117.015497  14.250      2     19,\n",
       " '52_W':            ID   Latitude   Longitude  Abs_PM  Lanes  order\n",
       " 851   1114162  32.838563 -117.234406   0.300      3      0\n",
       " 1085  1118552  32.841671 -117.218491   1.309      2      1\n",
       " 849   1114119  32.845641 -117.209753   1.887      3      2\n",
       " 1087  1118562  32.847046 -117.204305   2.219      2      3\n",
       " 852   1114166  32.846481 -117.188474   3.150      2      4\n",
       " 1290  1121771  32.847199 -117.174410   3.970      2      5\n",
       " 97    1114171  32.842090 -117.164732   4.651      3      6\n",
       " 1090  1118591  32.840086 -117.162103   4.858      4      7\n",
       " 850   1114153  32.841164 -117.133778   6.590      4      8\n",
       " 1091  1118630  32.841898 -117.122619   7.245      4      9\n",
       " 1291  1121777  32.842001 -117.112274   7.841      4     10\n",
       " 51    1122781  32.841704 -117.093624   8.930      3     11\n",
       " 1293  1121783  32.842947 -117.087962   9.270      3     12\n",
       " 96    1114157  32.848723 -117.075722  10.100      2     13\n",
       " 115   1121797  32.850718 -117.073190  10.301      3     14\n",
       " 1295  1121803  32.853857 -117.067876  10.680      4     15\n",
       " 877   1114525  32.854113 -117.055734  11.400      3     16\n",
       " 1297  1121809  32.853459 -117.051468  11.651      3     17\n",
       " 111   1114534  32.851551 -117.038844  12.400      3     18\n",
       " 109   1114515  32.851402 -117.037926  12.450      2     19\n",
       " 116   1121815  32.849108 -117.030286  12.920      3     20\n",
       " 655   1111527  32.843588 -117.025315  13.400      2     21\n",
       " 1441  1125383  32.836534 -117.007550  14.756      2     22,\n",
       " '54_E':           ID   Latitude   Longitude  Abs_PM  Lanes  order\n",
       " 569  1108689  32.664009 -117.057617   2.904      3      0\n",
       " 608  1108731  32.674057 -117.038294   4.241      3      1\n",
       " 610  1108733  32.682203 -117.029012   5.025      3      2,\n",
       " '54_W':           ID   Latitude   Longitude  Abs_PM  Lanes  order\n",
       " 571  1108691  32.664368 -117.057402   2.965      3      0\n",
       " 612  1108735  32.671672 -117.041389   4.036      3      1\n",
       " 614  1108737  32.679441 -117.033088   4.764      3      2,\n",
       " '56_E':            ID   Latitude   Longitude  Abs_PM  Lanes  order\n",
       " 1472  1125689  32.934775 -117.235209   0.420      3      0\n",
       " 616   1108739  32.937845 -117.226663   0.966      3      1\n",
       " 618   1108741  32.944548 -117.212950   1.891      3      2\n",
       " 1477  1125737  32.950976 -117.197404   2.909      2      3\n",
       " 776   1113740  32.952425 -117.193019   3.188      2      4\n",
       " 1475  1125721  32.965955 -117.177396   4.522      2      5\n",
       " 1476  1125733  32.960096 -117.155172   5.950      2      6\n",
       " 1417  1125207  32.958196 -117.152094   6.173      2      7\n",
       " 2     1113680  32.953394 -117.133404   7.364      3      8\n",
       " 1416  1125201  32.956215 -117.119934   8.173      3      9\n",
       " 1465  1125559  32.958444 -117.113436   8.563      2     10\n",
       " 16    1122991  32.962233 -117.102057   9.277      2     11\n",
       " 1460  1125527  32.962525 -117.101272   9.327      2     12,\n",
       " '56_W':            ID   Latitude   Longitude  Abs_PM  Lanes  order\n",
       " 619   1108743  32.937679 -117.228154   0.881      2      0\n",
       " 621   1108745  32.944421 -117.213509   1.861      2      1\n",
       " 773   1113720  32.951299 -117.197463   2.909      2      2\n",
       " 1469  1125631  32.952754 -117.193087   3.190      2      3\n",
       " 782   1113771  32.966186 -117.177595   4.519      2      4\n",
       " 779   1113760  32.960479 -117.155182   5.948      2      5\n",
       " 1420  1125219  32.958567 -117.152079   6.175      2      6\n",
       " 1467  1125575  32.954374 -117.128361   7.661      2      7\n",
       " 0     1113072  32.955202 -117.124689   7.885      2      8\n",
       " 1463  1125546  32.958653 -117.113729   8.565      2      9\n",
       " 1461  1125531  32.962672 -117.101859   9.302      2     10\n",
       " 15    1122983  32.964764 -117.095254   9.712      2     11,\n",
       " '5_N':            ID   Latitude   Longitude  Abs_PM  Lanes  order\n",
       " 847   1114091  32.542842 -117.030331   0.057      6      0\n",
       " 1064  1118333  32.551690 -117.045725   1.143      4      1\n",
       " 890   1114709  32.553384 -117.049868   1.412      4      2\n",
       " 1066  1118348  32.558459 -117.061845   2.195      4      3\n",
       " 891   1114720  32.561334 -117.067081   2.560      4      4\n",
       " 1067  1118352  32.569052 -117.076507   3.335      4      5\n",
       " 1101  1118743  32.577106 -117.082889   4.004      4      6\n",
       " 1070  1118379  32.584267 -117.087224   4.578      4      7\n",
       " 893   1114734  32.593827 -117.088439   5.230      5      8\n",
       " 1396  1123135  32.595086 -117.088638   5.324      1      9\n",
       " 1394  1123133  32.595101 -117.088640   5.325      4     10\n",
       " 1201  1120362  32.604051 -117.089763   5.946      4     11\n",
       " 895   1114748  32.607857 -117.090202   6.210      5     12\n",
       " 1104  1118796  32.613851 -117.090918   6.626      4     13\n",
       " 1072  1118421  32.622017 -117.092917   7.201      5     14\n",
       " 1100  1118735  32.630565 -117.096247   7.820      4     15\n",
       " 1075  1118450  32.640259 -117.100052   8.524      5     16\n",
       " 1215  1120597  32.643299 -117.101172   8.746      5     17\n",
       " 854   1114190  32.658963 -117.107386   9.897      5     18\n",
       " 1414  1123331  32.670525 -117.111203  10.713      1     19\n",
       " 1076  1118458  32.671696 -117.110938  10.795      4     20\n",
       " 1079  1118479  32.676941 -117.109212  11.179      4     21\n",
       " 855   1114205  32.686187 -117.112750  11.847      6     22\n",
       " 1450  1125469  32.688981 -117.115932  12.114      4     23\n",
       " 856   1114211  32.694337 -117.124759  12.747      4     24\n",
       " 1037  1117762  32.694578 -117.129462  13.022      4     25\n",
       " 857   1114219  32.695918 -117.134988  13.371      6     26\n",
       " 1039  1117782  32.706216 -117.147448  14.417      5     27\n",
       " 848   1114100  32.709969 -117.147511  14.676      5     28\n",
       " 1041  1117796  32.712599 -117.147532  14.857      4     29\n",
       " ...       ...        ...         ...     ...    ...    ...\n",
       " 407   1108514  33.010364 -117.264530  38.431      4     79\n",
       " 1330  1122507  33.027309 -117.275242  39.793      4     80\n",
       " 1160  1119865  33.035624 -117.280848  40.451      4     81\n",
       " 1434  1125314  33.037208 -117.281927  40.577      4     82\n",
       " 1161  1119871  33.044769 -117.285978  41.154      4     83\n",
       " 1332  1122512  33.048098 -117.286976  41.391      4     84\n",
       " 533   1108651  33.064668 -117.291997  42.571      4     85\n",
       " 1163  1119890  33.073419 -117.294587  43.191      4     86\n",
       " 545   1108663  33.086077 -117.299048  44.101      4     87\n",
       " 1165  1119903  33.092320 -117.303146  44.591      4     88\n",
       " 562   1108682  33.103602 -117.310425  45.473      4     89\n",
       " 1168  1119921  33.115949 -117.318110  46.436      4     90\n",
       " 567   1108687  33.123940 -117.322960  47.056      4     91\n",
       " 541   1108659  33.136145 -117.330076  47.995      4     92\n",
       " 1169  1119928  33.142807 -117.333209  48.491      4     93\n",
       " 1170  1119934  33.155404 -117.338099  49.416      4     94\n",
       " 1171  1119947  33.173355 -117.348324  50.791      4     95\n",
       " 910   1115289  33.179859 -117.353416  51.327      6     96\n",
       " 911   1115304  33.191415 -117.363042  52.299      4     97\n",
       " 912   1115306  33.200816 -117.373244  53.188      4     98\n",
       " 913   1115314  33.203683 -117.381192  53.691      4     99\n",
       " 914   1115323  33.211043 -117.387430  54.326      4    100\n",
       " 1173  1119960  33.224874 -117.393754  55.341      4    101\n",
       " 1175  1119972  33.236554 -117.405920  56.411      4    102\n",
       " 1177  1119984  33.246111 -117.417364  57.391      4    103\n",
       " 1178  1119990  33.258050 -117.426272  58.391      4    104\n",
       " 1274  1121692  33.281567 -117.449193  60.491      4    105\n",
       " 1276  1121707  33.303917 -117.470642  62.481      4    106\n",
       " 1280  1121724  33.363000 -117.540497  68.341      4    107\n",
       " 1282  1121731  33.383518 -117.577735  70.931      4    108\n",
       " \n",
       " [109 rows x 6 columns],\n",
       " '5_S':            ID   Latitude   Longitude  Abs_PM  Lanes  order\n",
       " 1063  1118326  32.551447 -117.045806   1.140      4      0\n",
       " 889   1114708  32.552409 -117.048120   1.291      5      1\n",
       " 1065  1118341  32.558188 -117.061806   2.186      4      2\n",
       " 892   1114721  32.561106 -117.067228   2.559      4      3\n",
       " 1068  1118365  32.568952 -117.076731   3.336      4      4\n",
       " 1069  1118372  32.576983 -117.083123   4.003      4      5\n",
       " 894   1114735  32.593819 -117.088714   5.231      5      6\n",
       " 1395  1123134  32.595070 -117.088901   5.324      1      7\n",
       " 896   1114749  32.607870 -117.090464   6.211      5      8\n",
       " 1200  1120356  32.613849 -117.091173   6.627      3      9\n",
       " 1071  1118413  32.621946 -117.093171   7.201      4     10\n",
       " 1073  1118428  32.630458 -117.096492   7.819      4     11\n",
       " 1074  1118442  32.639695 -117.100165   8.489      4     12\n",
       " 1351  1122601  32.639722 -117.100176   8.491      5     13\n",
       " 1216  1120603  32.642724 -117.101267   8.710      4     14\n",
       " 858   1114240  32.658893 -117.107675   9.898      4     15\n",
       " 1077  1118465  32.671761 -117.111234  10.796      4     16\n",
       " 1078  1118472  32.676960 -117.109463  11.178      4     17\n",
       " 859   1114254  32.686001 -117.113072  11.848      5     18\n",
       " 1058  1118076  32.688779 -117.116159  12.113      4     19\n",
       " 860   1114261  32.694108 -117.124841  12.748      4     20\n",
       " 1036  1117755  32.694358 -117.129467  13.022      4     21\n",
       " 861   1114268  32.695740 -117.135196  13.372      5     22\n",
       " 1038  1117774  32.706200 -117.147722  14.416      5     23\n",
       " 1365  1122726  32.709980 -117.147760  14.677      5     24\n",
       " 1040  1117789  32.712581 -117.147751  14.856      4     25\n",
       " 1043  1117810  32.718001 -117.147844  15.230      4     26\n",
       " 866   1114318  32.723198 -117.150182  15.628      6     27\n",
       " 1030  1117683  32.723795 -117.151061  15.698      6     28\n",
       " 318   1108417  32.723898 -117.156068  16.001      5     29\n",
       " ...       ...        ...         ...     ...    ...    ...\n",
       " 372   1108477  33.036347 -117.281649  40.483      4     73\n",
       " 374   1108479  33.048438 -117.287351  41.385      4     74\n",
       " 1162  1119877  33.055523 -117.289401  41.888      4     75\n",
       " 601   1108723  33.064772 -117.292309  42.548      4     76\n",
       " 1164  1119897  33.073371 -117.294873  43.159      4     77\n",
       " 603   1108725  33.080188 -117.296877  43.643      4     78\n",
       " 1166  1119909  33.092248 -117.303383  44.559      4     79\n",
       " 560   1108680  33.101626 -117.309439  45.293      4     80\n",
       " 1167  1119915  33.112683 -117.316473  46.158      4     81\n",
       " 565   1108685  33.122973 -117.322702  46.955      4     82\n",
       " 543   1108661  33.134215 -117.329382  47.823      4     83\n",
       " 450   1108560  33.151704 -117.336331  49.108      4     84\n",
       " 539   1108657  33.162818 -117.342266  49.948      4     85\n",
       " 358   1108463  33.170920 -117.346811  50.568      4     86\n",
       " 356   1108461  33.179734 -117.353651  51.293      4     87\n",
       " 354   1108459  33.191277 -117.363281  52.266      4     88\n",
       " 554   1108672  33.200618 -117.373434  53.158      4     89\n",
       " 915   1115348  33.203488 -117.381365  53.658      4     90\n",
       " 1306  1122257  33.210909 -117.387715  54.292      4     91\n",
       " 1172  1119954  33.218567 -117.391109  54.858      4     92\n",
       " 1174  1119966  33.230196 -117.400904  55.858      4     93\n",
       " 1176  1119978  33.240152 -117.413376  56.858      4     94\n",
       " 1179  1119997  33.257953 -117.426547  58.329      4     95\n",
       " 1275  1121702  33.281440 -117.449446  60.429      4     96\n",
       " 1277  1121712  33.303834 -117.470867  62.419      4     97\n",
       " 1278  1121715  33.336526 -117.503236  65.448      4     98\n",
       " 1279  1121722  33.336536 -117.503249  65.449      4     99\n",
       " 1281  1121728  33.362845 -117.540736  68.279      4    100\n",
       " 1283  1121734  33.383349 -117.578043  70.878      4    101\n",
       " 102   1121740  33.394031 -117.592254  72.008      5    102\n",
       " \n",
       " [103 rows x 6 columns],\n",
       " '67_N': Empty DataFrame\n",
       " Columns: [ID, Latitude, Longitude, Abs_PM, Lanes, order]\n",
       " Index: [],\n",
       " '67_S': Empty DataFrame\n",
       " Columns: [ID, Latitude, Longitude, Abs_PM, Lanes, order]\n",
       " Index: [],\n",
       " '78_E':            ID   Latitude   Longitude  Abs_PM  Lanes  order\n",
       " 692   1112989  33.180264 -117.345296   0.411      4      0\n",
       " 1121  1119414  33.181054 -117.337870   0.854      3      1\n",
       " 524   1108639  33.181952 -117.325285   1.590      3      2\n",
       " 1001  1116318  33.182878 -117.298269   3.219      3      3\n",
       " 522   1108637  33.183323 -117.292024   3.582      3      4\n",
       " 243   1108328  33.188500 -117.278185   4.470      3      5\n",
       " 531   1108649  33.194181 -117.248185   6.316      3      6\n",
       " 520   1108635  33.189520 -117.240260   6.882      3      7\n",
       " 518   1108633  33.180072 -117.229778   7.792      3      8\n",
       " 529   1108645  33.165559 -117.213523   9.214      3      9\n",
       " 441   1108549  33.149286 -117.197442  10.676      3     10\n",
       " 1015  1116449  33.142359 -117.188863  11.360      3     11\n",
       " 486   1108601  33.137072 -117.174360  12.270      3     12\n",
       " 577   1108699  33.137161 -117.161693  13.018      3     13\n",
       " 580   1108702  33.135093 -117.131488  14.856      3     14\n",
       " 584   1108706  33.131243 -117.119739  15.592      3     15\n",
       " 1533  1126016  33.129097 -117.114845  15.911      4     16\n",
       " 1535  1126027  33.126865 -117.109376  16.263      3     17,\n",
       " '78_W':            ID   Latitude   Longitude  Abs_PM  Lanes  order\n",
       " 693   1112996  33.180446 -117.345347   0.412      4      0\n",
       " 504   1108619  33.181145 -117.341401   0.649      3      1\n",
       " 506   1108621  33.181397 -117.328764   1.383      3      2\n",
       " 308   1108401  33.183081 -117.297902   3.241      3      3\n",
       " 636   1108760  33.183222 -117.296449   3.326      3      4\n",
       " 996   1116167  33.183485 -117.292020   3.584      3      5\n",
       " 508   1108623  33.187261 -117.281077   4.281      3      6\n",
       " 970   1115897  33.188661 -117.278229   4.472      6      7\n",
       " 510   1108625  33.194328 -117.256869   5.797      3      8\n",
       " 1062  1118260  33.194991 -117.251058   6.137      3      9\n",
       " 512   1108627  33.189940 -117.240564   6.851      3     10\n",
       " 514   1108629  33.180588 -117.229853   7.759      3     11\n",
       " 527   1108643  33.168329 -117.216099   8.969      3     12\n",
       " 516   1108631  33.151914 -117.200195  10.435      3     13\n",
       " 1011  1116433  33.145066 -117.192190  11.094      1     14\n",
       " 1010  1116431  33.145055 -117.192178  11.095      3     15\n",
       " 638   1108762  33.138585 -117.178083  12.031      3     16\n",
       " 484   1108599  33.137287 -117.174332  12.267      3     17\n",
       " 575   1108697  33.137204 -117.164146  12.875      3     18\n",
       " 578   1108700  33.139232 -117.142802  14.136      3     19\n",
       " 955   1115692  33.135241 -117.131420  14.858      3     20\n",
       " 582   1108704  33.132973 -117.123193  15.365      3     21\n",
       " 1534  1126022  33.129360 -117.114803  15.911      4     22\n",
       " 1536  1126035  33.127065 -117.109382  16.263      2     23\n",
       " 586   1108708  33.130825 -117.092776  17.279      3     24,\n",
       " '805_N':            ID   Latitude   Longitude  Abs_PM  Lanes  order\n",
       " 1149  1119784  32.549450 -117.039282   0.321      2      0\n",
       " 1151  1119797  32.553573 -117.041355   0.632      4      1\n",
       " 1095  1118663  32.558315 -117.042254   0.965      4      2\n",
       " 867   1114333  32.560986 -117.042036   1.151      5      3\n",
       " 1097  1118677  32.572621 -117.039445   1.968      4      4\n",
       " 869   1114409  32.578098 -117.038150   2.352      4      5\n",
       " 1361  1122699  32.584089 -117.036837   2.771      4      6\n",
       " 984   1116061  32.597548 -117.036123   3.702      4      7\n",
       " 971   1115905  32.602960 -117.036122   4.075      4      8\n",
       " 983   1116055  32.608222 -117.036161   4.438      4      9\n",
       " 1360  1122693  32.618855 -117.039388   5.195      4     10\n",
       " 1181  1120025  32.636870 -117.049588   6.592      5     11\n",
       " 1006  1116413  32.639795 -117.054350   6.936      4     12\n",
       " 52    1116415  32.639835 -117.054399   6.940      2     13\n",
       " 1193  1120256  32.647835 -117.060693   7.606      4     14\n",
       " 1182  1120033  32.651582 -117.067889   8.101      4     15\n",
       " 1520  1125958  32.663039 -117.078438   9.090      4     16\n",
       " 1515  1125944  32.672966 -117.082421   9.829      5     17\n",
       " 347   1108448  32.678110 -117.084893  10.211      5     18\n",
       " 1508  1125925  32.686782 -117.091828  10.942      4     19\n",
       " 1446  1125457  32.691156 -117.094637  11.293      4     20\n",
       " 343   1108443  32.704271 -117.094872  12.201      5     21\n",
       " 341   1108441  32.714775 -117.102476  13.059      4     22\n",
       " 1120  1119383  32.729896 -117.107497  14.208      5     23\n",
       " 1372  1122928  32.734846 -117.113294  14.701      4     24\n",
       " 1401  1123176  32.737597 -117.114371  14.901      2     25\n",
       " 688   1111572  32.741165 -117.116261  15.171      4     26\n",
       " 1260  1121253  32.748560 -117.122250  15.791      4     27\n",
       " 1108  1118908  32.750436 -117.123137  15.931      5     28\n",
       " 310   1108403  32.756285 -117.125123  16.351      4     29\n",
       " 1109  1118915  32.760845 -117.126610  16.677      3     30\n",
       " 1111  1118924  32.768250 -117.129439  17.215      4     31\n",
       " 988   1116112  32.781007 -117.138625  18.241      5     32\n",
       " 736   1113460  32.782075 -117.139838  18.343      5     33\n",
       " 461   1108572  32.786732 -117.146540  18.851      5     34\n",
       " 989   1116119  32.793965 -117.149604  19.394      5     35\n",
       " 990   1116126  32.800085 -117.149586  19.817      5     36\n",
       " 991   1116133  32.804673 -117.150822  20.141      5     37\n",
       " 906   1115240  32.811675 -117.155267  20.697      4     38\n",
       " 1057  1118020  32.817749 -117.159929  21.199      4     39\n",
       " 1047  1117850  32.819359 -117.160872  21.323      4     40\n",
       " 1046  1117836  32.823888 -117.163512  21.671      4     41\n",
       " 1183  1120074  32.826221 -117.164912  21.851      5     42\n",
       " 89    1108577  32.832144 -117.168507  22.309      4     43\n",
       " 1539  1126175  32.842493 -117.174848  23.111      5     44\n",
       " 61    1126156  32.847538 -117.177909  23.501      6     45\n",
       " 466   1108580  32.858916 -117.184886  24.385      4     46\n",
       " 673   1111553  32.867237 -117.192319  25.101      4     47\n",
       " 468   1108582  32.876463 -117.199708  25.875      4     48\n",
       " 977   1115964  32.881721 -117.201326  26.250      5     49\n",
       " 535   1108653  32.891350 -117.207199  27.011      4     50\n",
       " 1390  1123088  32.894790 -117.214108  27.477      5     51\n",
       " 1359  1122685  32.894808 -117.214135  27.479      5     52\n",
       " 1482  1125780  32.894826 -117.214163  27.481      2     53\n",
       " 1503  1125912  32.894826 -117.214163  27.481      7     54\n",
       " 883   1114648  32.909198 -117.226773  28.661      5     55,\n",
       " '805_S':            ID   Latitude   Longitude  Abs_PM  Lanes  order\n",
       " 1150  1119790  32.553604 -117.041663   0.631      4      0\n",
       " 1094  1118656  32.558345 -117.042588   0.964      4      1\n",
       " 868   1114356  32.561025 -117.042316   1.151      4      2\n",
       " 1096  1118670  32.572631 -117.039744   1.967      4      3\n",
       " 54    1114376  32.578095 -117.038478   2.351      4      4\n",
       " 1152  1119804  32.578123 -117.038471   2.353      5      5\n",
       " 1362  1122706  32.584087 -117.037094   2.772      4      6\n",
       " 972   1115912  32.596510 -117.036458   3.631      4      7\n",
       " 979   1115979  32.603075 -117.036435   4.084      4      8\n",
       " 978   1115972  32.608399 -117.036523   4.453      4      9\n",
       " 1363  1122712  32.618793 -117.039655   5.196      4     10\n",
       " 1196  1120291  32.630622 -117.044658   6.062      4     11\n",
       " 1180  1120018  32.636725 -117.049889   6.591      5     12\n",
       " 1009  1116424  32.639599 -117.054604   6.932      5     13\n",
       " 1265  1121401  32.647524 -117.060767   7.594      5     14\n",
       " 55    1120040  32.651396 -117.068162   8.101      5     15\n",
       " 56    1121394  32.654401 -117.071164   8.371      5     16\n",
       " 1532  1126006  32.659734 -117.075966   8.831      4     17\n",
       " 1264  1121387  32.660084 -117.076276   8.861      4     18\n",
       " 1214  1120497  32.662772 -117.078579   9.090      4     19\n",
       " 1219  1120683  32.672850 -117.082700   9.826      5     20\n",
       " 670   1111548  32.678037 -117.085196  10.212      5     21\n",
       " 1055  1117979  32.686682 -117.092110  10.942      4     22\n",
       " 669   1111547  32.691110 -117.094893  11.294      4     23\n",
       " 668   1111546  32.704152 -117.095206  12.198      5     24\n",
       " 667   1111545  32.714727 -117.102692  13.060      4     25\n",
       " 666   1111544  32.725755 -117.103501  13.831      4     26\n",
       " 1106  1118894  32.729729 -117.107696  14.207      5     27\n",
       " 1373  1122929  32.734623 -117.113506  14.702      4     28\n",
       " 665   1111543  32.748425 -117.122530  15.793      5     29\n",
       " ...       ...        ...         ...     ...    ...    ...\n",
       " 1393  1123124  32.760708 -117.126904  16.677      6     31\n",
       " 1262  1121288  32.768160 -117.129693  17.216      4     32\n",
       " 973   1115921  32.780880 -117.138885  18.242      6     33\n",
       " 301   1108391  32.781920 -117.140068  18.342      5     34\n",
       " 974   1115929  32.786586 -117.146806  18.852      5     35\n",
       " 975   1115937  32.793814 -117.149876  19.393      5     36\n",
       " 303   1108393  32.802620 -117.150601  20.006      5     37\n",
       " 976   1115946  32.803497 -117.150840  20.068      4     38\n",
       " 687   1111570  32.808467 -117.152775  20.431      4     39\n",
       " 907   1115246  32.811513 -117.155527  20.696      4     40\n",
       " 1056  1118013  32.817619 -117.160167  21.198      6     41\n",
       " 1054  1117945  32.819236 -117.161117  21.322      4     42\n",
       " 1114  1118957  32.819236 -117.161117  21.322      5     43\n",
       " 1048  1117857  32.823789 -117.163808  21.672      4     44\n",
       " 305   1108398  32.834806 -117.170551  22.526      5     45\n",
       " 53    1126148  32.842363 -117.175148  23.111      5     46\n",
       " 1184  1120081  32.842376 -117.175156  23.112      5     47\n",
       " 1540  1126191  32.847433 -117.178139  23.501      5     48\n",
       " 62    1126163  32.847446 -117.178147  23.502      6     49\n",
       " 311   1108410  32.857504 -117.184358  24.285      4     50\n",
       " 640   1108764  32.867100 -117.192516  25.100      4     51\n",
       " 314   1108413  32.875201 -117.199467  25.790      4     52\n",
       " 982   1116049  32.881653 -117.201619  26.251      5     53\n",
       " 738   1113473  32.889096 -117.204916  26.801      5     54\n",
       " 1478  1125769  32.891018 -117.207135  26.986      4     55\n",
       " 1358  1122678  32.894604 -117.214442  27.478      4     56\n",
       " 1391  1123089  32.894604 -117.214442  27.478      4     57\n",
       " 1500  1125897  32.894640 -117.214497  27.482      2     58\n",
       " 1504  1125913  32.894648 -117.214511  27.483      2     59\n",
       " 884   1114649  32.966531 -117.225500  28.662      4     60\n",
       " \n",
       " [61 rows x 6 columns],\n",
       " '8_E':            ID   Latitude   Longitude  Abs_PM  Lanes  order\n",
       " 651   1111514  32.756227 -117.230335   0.419      2      0\n",
       " 606   1108728  32.756842 -117.223737   0.806      2      1\n",
       " 878   1114540  32.758771 -117.210396   1.598      4      2\n",
       " 71    1113486  32.759740 -117.199699   2.223      4      3\n",
       " 917   1115356  32.760503 -117.195181   2.494      5      4\n",
       " 919   1115413  32.759721 -117.188602   2.884      5      5\n",
       " 922   1115432  32.759211 -117.179602   3.409      4      6\n",
       " 923   1115438  32.760171 -117.170959   3.920      4      7\n",
       " 70    1111551  32.761944 -117.164553   4.313      4      8\n",
       " 920   1115420  32.763110 -117.162041   4.480      4      9\n",
       " 921   1115426  32.764658 -117.156329   4.832      4     10\n",
       " 683   1111566  32.765477 -117.153086   5.030      5     11\n",
       " 924   1115444  32.767848 -117.144800   5.536      5     12\n",
       " 1029  1116783  32.770269 -117.137788   5.975      4     13\n",
       " 682   1111565  32.772891 -117.128096   6.568      4     14\n",
       " 671   1111549  32.774983 -117.124175   6.838      6     15\n",
       " 925   1115450  32.778557 -117.109532   7.759      4     16\n",
       " 280   1108366  32.778944 -117.101735   8.215      4     17\n",
       " 918   1115380  32.780019 -117.094920   8.619      6     18\n",
       " 681   1111564  32.780604 -117.087310   9.065      5     19\n",
       " 881   1114573  32.779817 -117.079742   9.509      5     20\n",
       " 277   1108363  32.779322 -117.066044  10.309      5     21\n",
       " 882   1114580  32.776129 -117.050353  11.259      5     22\n",
       " 1103  1118775  32.773069 -117.037690  12.064      5     23\n",
       " 660   1111535  32.773533 -117.030888  12.471      4     24\n",
       " 274   1108360  32.770932 -117.021130  13.077      4     25\n",
       " 659   1111534  32.773859 -117.013732  13.559      4     26\n",
       " 67    1114326  32.778943 -116.990121  15.017      6     27\n",
       " 927   1115463  32.778941 -116.990052  15.021      6     28\n",
       " 658   1111532  32.779621 -116.983478  15.413      4     29\n",
       " 657   1111531  32.793980 -116.977186  16.485      4     30\n",
       " 656   1111530  32.801971 -116.972858  17.133      5     31\n",
       " 1354  1122636  32.802954 -116.957448  18.045      3     32\n",
       " 680   1111561  32.802945 -116.951191  18.411      3     33\n",
       " 1356  1122645  32.802955 -116.943342  18.871      3     34\n",
       " 933   1115537  32.802942 -116.927363  19.789      3     35\n",
       " 934   1115541  32.805288 -116.921513  20.170      3     36\n",
       " 928   1115477  32.815375 -116.913932  21.002      2     37\n",
       " 1023  1116593  32.819668 -116.910225  21.374      2     38\n",
       " 689   1111575  32.825277 -116.904782  21.886      2     39\n",
       " 929   1115486  32.829342 -116.899444  22.306      2     40\n",
       " 686   1111569  32.829874 -116.898720  22.362      2     41\n",
       " 930   1115490  32.839494 -116.888214  23.266      2     42\n",
       " 724   1113364  32.844556 -116.880704  23.837      2     43,\n",
       " '8_W':            ID   Latitude   Longitude  Abs_PM  Lanes  order\n",
       " 879   1114546  32.759094 -117.210321   1.601      4      0\n",
       " 1021  1116574  32.759919 -117.199637   2.228      2      1\n",
       " 932   1115528  32.760688 -117.195193   2.493      5      2\n",
       " 931   1115517  32.759940 -117.188706   2.877      5      3\n",
       " 936   1115555  32.759396 -117.178868   3.453      5      4\n",
       " 937   1115565  32.760399 -117.170717   3.937      5      5\n",
       " 672   1111552  32.762079 -117.164639   4.311      4      6\n",
       " 995   1116165  32.763216 -117.162209   4.473      3      7\n",
       " 935   1115548  32.764805 -117.156607   4.819      4      8\n",
       " 662   1111540  32.765611 -117.153352   5.017      5      9\n",
       " 938   1115572  32.768025 -117.145039   5.526      5     10\n",
       " 663   1111541  32.770490 -117.137833   5.977      4     11\n",
       " 939   1115578  32.773122 -117.128233   6.568      4     12\n",
       " 90    1111550  32.775258 -117.124378   6.837      6     13\n",
       " 1352  1122623  32.777003 -117.121375   7.048      6     14\n",
       " 940   1115584  32.778744 -117.109510   7.761      4     15\n",
       " 880   1114566  32.779156 -117.101856   8.210      6     16\n",
       " 941   1115592  32.779300 -117.100823   8.271      6     17\n",
       " 942   1115600  32.780251 -117.095003   8.615      6     18\n",
       " 248   1108333  32.780903 -117.089249   8.952      5     19\n",
       " 251   1108336  32.779461 -117.066530  10.280      5     20\n",
       " 254   1108339  32.773851 -117.045191  11.599      4     21\n",
       " 1102  1118767  32.773261 -117.037671  12.058      4     22\n",
       " 256   1108341  32.773660 -117.030671  12.478      4     23\n",
       " 258   1108343  32.771107 -117.023752  12.929      4     24\n",
       " 260   1108345  32.774158 -117.013463  13.581      5     25\n",
       " 1027  1116712  32.777177 -117.005038  14.110      6     26\n",
       " 324   1108423  32.777190 -117.005007  14.112      4     27\n",
       " 262   1108347  32.778899 -117.001223  14.362      4     28\n",
       " 943   1115608  32.779188 -116.989808  15.036      6     29\n",
       " 265   1108351  32.779945 -116.983405  15.432      4     30\n",
       " 267   1108353  32.793962 -116.977440  16.482      4     31\n",
       " 295   1108385  32.802066 -116.973297  17.113      4     32\n",
       " 297   1108387  32.803133 -116.964952  17.608      3     33\n",
       " 1355  1122637  32.803159 -116.957460  18.044      3     34\n",
       " 270   1108356  32.803161 -116.951206  18.410      3     35\n",
       " 1357  1122646  32.803158 -116.943342  18.871      3     36\n",
       " 272   1108358  32.803169 -116.936214  19.289      2     37\n",
       " 944   1115612  32.803210 -116.927288  19.794      2     38\n",
       " 945   1115616  32.805455 -116.921611  20.174      2     39\n",
       " 299   1108389  32.810302 -116.918188  20.569      2     40\n",
       " 946   1115620  32.815497 -116.914192  21.000      2     41\n",
       " 1024  1116594  32.819741 -116.910514  21.367      2     42\n",
       " 320   1108419  32.825440 -116.905031  21.883      2     43\n",
       " 947   1115624  32.829499 -116.899603  22.305      2     44\n",
       " 948   1115628  32.839643 -116.888393  23.260      2     45\n",
       " 322   1108421  32.844830 -116.880828  23.837      2     46,\n",
       " '905_E':            ID   Latitude   Longitude  Abs_PM  Lanes  order\n",
       " 1492  1125836  32.568009 -117.035356   2.611      2      0\n",
       " 1486  1125812  32.568270 -117.027365   3.077      3      1\n",
       " 1491  1125835  32.566988 -117.017135   3.691      4      2\n",
       " 1485  1125805  32.566314 -117.004599   4.434      4      3\n",
       " 1484  1125799  32.564763 -116.988199   5.422      3      4\n",
       " 1483  1125794  32.564150 -116.982231   5.770      3      5\n",
       " 1410  1123302  32.564120 -116.978000   6.016      3      6\n",
       " 1407  1123282  32.564070 -116.969401   6.518      4      7\n",
       " 1311  1122380  32.564065 -116.963594   6.856      3      8\n",
       " 105   1123270  32.563871 -116.951055   7.586      3      9\n",
       " 1405  1123265  32.560777 -116.944829   8.016      3     10,\n",
       " '905_W':            ID   Latitude   Longitude  Abs_PM  Lanes  order\n",
       " 1438  1125348  32.568341 -117.027502   3.082      3      0\n",
       " 1490  1125829  32.567240 -117.017027   3.706      3      1\n",
       " 1439  1125353  32.566603 -117.004472   4.449      3      2\n",
       " 1440  1125359  32.565082 -116.988059   5.437      4      3\n",
       " 1443  1125410  32.564440 -116.982135   5.785      3      4\n",
       " 1408  1123287  32.564408 -116.977872   6.033      3      5\n",
       " 1406  1123276  32.564373 -116.969279   6.533      3      6\n",
       " 1314  1122394  32.564336 -116.961909   6.962      3      7\n",
       " 1404  1123261  32.564112 -116.950744   7.613      3      8\n",
       " 1403  1123256  32.560935 -116.944559   8.042      3      9\n",
       " 1317  1122412  32.555743 -116.939922   8.491      3     10,\n",
       " '94_E':            ID   Latitude   Longitude  Abs_PM  Lanes  order\n",
       " 292   1108380  32.713024 -117.139745   0.455      4      0\n",
       " 290   1108378  32.713119 -117.133405   0.825      4      1\n",
       " 1374  1122951  32.713706 -117.129104   1.080      4      2\n",
       " 288   1108376  32.714326 -117.126912   1.215      4      3\n",
       " 685   1111568  32.716580 -117.116620   1.837      4      4\n",
       " 679   1111559  32.718627 -117.104491   2.565      4      5\n",
       " 684   1111567  32.718925 -117.101118   2.764      4      6\n",
       " 1093  1118648  32.717692 -117.090432   3.402      6      7\n",
       " 286   1108374  32.718010 -117.084620   3.744      5      8\n",
       " 398   1108505  32.723666 -117.076046   4.384      5      9\n",
       " 870   1114441  32.738356 -117.054391   6.034      4     10\n",
       " 396   1108503  32.744705 -117.041718   6.944      4     11\n",
       " 832   1113966  32.745649 -117.032947   7.464      4     12\n",
       " 394   1108501  32.746290 -117.030852   7.594      4     13\n",
       " 704   1113181  32.746819 -117.020529   8.204      3     14\n",
       " 720   1113318  32.749921 -117.015245   8.584      2     15,\n",
       " '94_W':            ID   Latitude   Longitude  Abs_PM  Lanes  order\n",
       " 1116  1118989  32.713382 -117.145021   0.155      3      0\n",
       " 678   1111558  32.713274 -117.140097   0.456      4      1\n",
       " 204   1108285  32.713318 -117.134145   0.819      4      2\n",
       " 1375  1122956  32.713724 -117.129847   1.083      4      3\n",
       " 206   1108287  32.714211 -117.127908   1.205      4      4\n",
       " 208   1108289  32.716724 -117.119831   1.721      4      5\n",
       " 210   1108291  32.717134 -117.117861   1.844      5      6\n",
       " 212   1108293  32.717909 -117.113171   2.134      4      7\n",
       " 214   1108295  32.718507 -117.106173   2.564      4      8\n",
       " 216   1108297  32.718104 -117.092449   3.415      5      9\n",
       " 220   1108302  32.717955 -117.087127   3.740      4     10\n",
       " 222   1108304  32.720663 -117.080357   4.198      4     11\n",
       " 224   1108306  32.726464 -117.072595   4.789      4     12\n",
       " 226   1108308  32.734694 -117.057992   5.824      4     13\n",
       " 229   1108311  32.740913 -117.052169   6.344      4     14\n",
       " 231   1108313  32.744540 -117.047105   6.726      4     15\n",
       " 233   1108315  32.744864 -117.040554   7.130      4     16\n",
       " 235   1108317  32.745268 -117.035279   7.454      4     17\n",
       " 702   1113173  32.746923 -117.023229   8.204      4     18\n",
       " 696   1113126  32.748892 -117.017105   8.611      3     19\n",
       " 1188  1120121  32.753919 -117.010444   9.140      3     20}"
      ]
     },
     "execution_count": 28,
     "metadata": {},
     "output_type": "execute_result"
    }
   ],
   "source": [
    "freeway_vectors"
   ]
  },
  {
   "cell_type": "code",
   "execution_count": 29,
   "metadata": {
    "collapsed": false
   },
   "outputs": [
    {
     "name": "stdout",
     "output_type": "stream",
     "text": [
      "           ID   Latitude   Longitude  Abs_PM  Lanes  order\n",
      "1138  1119689  32.701162 -117.120639   0.734      4      0\n",
      "1139  1119694  32.705882 -117.120433   1.066      3      1\n",
      "84    1122948  32.715149 -117.117717   1.713      2      2\n",
      "82    1122942  32.716837 -117.117751   1.829      3      3\n",
      "1105  1118886  32.723255 -117.115308   2.302      3      4\n"
     ]
    }
   ],
   "source": [
    "print freeway_vectors['15_N'].head()"
   ]
  },
  {
   "cell_type": "code",
   "execution_count": 30,
   "metadata": {
    "collapsed": true
   },
   "outputs": [],
   "source": [
    "ELEVATION_BASE_URL = 'https://maps.googleapis.com/maps/api/elevation/json'\n",
    "def getElevationPath(lat_lon_list=None, samples=10):\n",
    "    \"\"\"\n",
    "    This function will get the elevation from the google api\n",
    "    \"\"\"\n",
    "    result = None\n",
    "    elvtn_args = {\n",
    "        'path': \"|\".join(lat_lon_list),\n",
    "        'samples': samples,\n",
    "        'key': apikey\n",
    "    }\n",
    "\n",
    "    url = ELEVATION_BASE_URL + '?' + urllib.urlencode(elvtn_args)\n",
    "    response = simplejson.load(urllib.urlopen(url))\n",
    "\n",
    "    if 'status' not in response or response['status'] != 'OK':\n",
    "        print \"bad response\"\n",
    "        print \"response: %s\" % response\n",
    "    else:\n",
    "        result = [item['elevation'] for item in response['results']]\n",
    "    return result"
   ]
  },
  {
   "cell_type": "code",
   "execution_count": 31,
   "metadata": {
    "collapsed": false
   },
   "outputs": [
    {
     "data": {
      "text/plain": [
       "[110.7438354492188,\n",
       " 113.268913269043,\n",
       " 125.765510559082,\n",
       " 132.7821807861328,\n",
       " 141.4222564697266,\n",
       " 151.6808624267578,\n",
       " 158.3583221435547,\n",
       " 170.2845611572266,\n",
       " 167.3048400878906,\n",
       " 170.2570190429688,\n",
       " 226.43896484375,\n",
       " 216.9059600830078,\n",
       " 224.97607421875,\n",
       " 223.4471282958984,\n",
       " 214.2090148925781,\n",
       " 217.1637115478516,\n",
       " 216.4353179931641,\n",
       " 217.5686340332031]"
      ]
     },
     "execution_count": 31,
     "metadata": {},
     "output_type": "execute_result"
    }
   ],
   "source": [
    "# Test the function\n",
    "result = getElevationPath(['32.834748,-117.003404', '32.809436,-117.005295'], samples=18)\n",
    "result"
   ]
  },
  {
   "cell_type": "code",
   "execution_count": 32,
   "metadata": {
    "collapsed": false
   },
   "outputs": [
    {
     "name": "stdout",
     "output_type": "stream",
     "text": [
      "on freeway: 125_S\n",
      "on freeway: 905_E\n",
      "counter: 1\n",
      "on freeway: 54_W\n",
      "counter: 2\n",
      "on freeway: 125_N\n",
      "on freeway: 52_W\n",
      "counter: 4\n",
      "on freeway: 67_N\n",
      "counter: 5\n",
      "on freeway: 56_E\n",
      "on freeway: 67_S\n",
      "counter: 7\n",
      "on freeway: 56_W\n",
      "counter: 8\n",
      "on freeway: 905_W\n",
      "on freeway: 94_E\n",
      "counter: 10\n",
      "on freeway: 52_E\n",
      "counter: 11\n",
      "on freeway: 78_W\n",
      "on freeway: 5_N\n",
      "counter: 13\n",
      "on freeway: 15_N\n",
      "counter: 14\n",
      "on freeway: 15_S\n",
      "on freeway: 94_W\n",
      "counter: 16\n",
      "on freeway: 78_E\n",
      "counter: 17\n",
      "on freeway: 54_E\n",
      "on freeway: 5_S\n",
      "counter: 19\n",
      "on freeway: 8_E\n",
      "counter: 20\n",
      "on freeway: 163_N\n",
      "on freeway: 805_S\n",
      "counter: 22\n",
      "on freeway: 8_W\n",
      "counter: 23\n",
      "on freeway: 805_N\n",
      "on freeway: 163_S\n",
      "counter: 25\n"
     ]
    }
   ],
   "source": [
    "# loop through all freeways and get the results\n",
    "# calculations will be done afterwards to debug while not pulling from google's api\n",
    "raw_results = {}\n",
    "counter = 0\n",
    "for key in freeway_vectors:\n",
    "    print \"on freeway: %s\" % key\n",
    "    if counter % 3:\n",
    "        print \"counter: %s\" % counter\n",
    "    frame = freeway_vectors[key]\n",
    "    count = frame.ID.count()\n",
    "    for index in range(1, count):\n",
    "        distance = abs(frame.iloc[index-1].Abs_PM - frame.iloc[index].Abs_PM)\n",
    "\n",
    "        # get enough samples for .1 resolution\n",
    "        samples = int(round(distance, 1)*10)\n",
    "        lat1, lon1 = frame.iloc[index-1][['Latitude', 'Longitude']]\n",
    "        lat_lon1 = '%s,%s' % (lat1, lon1)\n",
    "        lat2, lon2 = frame.iloc[index][['Latitude', 'Longitude']]\n",
    "        lat_lon2 = '%s,%s' % (lat2, lon2)\n",
    "        if samples < 2:\n",
    "            samples = 2\n",
    "        result = getElevationPath([lat_lon1, lat_lon2], samples=samples)\n",
    "        \n",
    "        start_id = frame.iloc[index-1].ID\n",
    "        end_id = frame.iloc[index].ID\n",
    "        if key not in raw_results:\n",
    "            raw_results[key] = {}\n",
    "        raw_results[key]['%s_%s' % (start_id, end_id)] = result\n",
    "    counter += 1"
   ]
  },
  {
   "cell_type": "code",
   "execution_count": 33,
   "metadata": {
    "collapsed": false,
    "scrolled": true
   },
   "outputs": [],
   "source": [
    "# calculate the grade for each station\n",
    "id_list = []\n",
    "grade_list = []\n",
    "for key in freeway_vectors:\n",
    "    frame = freeway_vectors[key]\n",
    "    count = frame.ID.count()\n",
    "    for index in range(1, count+1):\n",
    "        # absolute value of run in case we walk the freeway backwards\n",
    "        if index < count:\n",
    "            run = abs(frame.iloc[index-1].Abs_PM - frame.iloc[index].Abs_PM)\n",
    "        else:\n",
    "            run = abs(frame.iloc[index-2].Abs_PM - frame.iloc[index-1].Abs_PM)\n",
    "\n",
    "        # sometimes there are multiple stations on the same mile marker...\n",
    "        if run == 0:\n",
    "            if index < count:\n",
    "                pad = 0\n",
    "            else:\n",
    "                pad = 1\n",
    "            for i in range(1, 5):\n",
    "                run = abs(frame.iloc[index-i].Abs_PM - frame.iloc[index-pad].Abs_PM)\n",
    "                if run != 0:\n",
    "                    break\n",
    "#         print \"run: %s\" % run\n",
    "\n",
    "        if index < count:\n",
    "            start_id = frame.iloc[index-1].ID\n",
    "            end_id = frame.iloc[index].ID\n",
    "        else:\n",
    "            start_id = frame.iloc[index-2].ID\n",
    "            end_id = frame.iloc[index-1].ID\n",
    "            \n",
    "        raw_elevations = raw_results[key]['%s_%s' % (start_id, end_id)]\n",
    "#         print \"raw_elevations: %s\" % raw_elevations\n",
    "        \n",
    "        run_between_points = run/len(raw_elevations)\n",
    "#         print \"run_between_points: %s\" % run_between_points\n",
    "\n",
    "        # use the closest point to calculate the grade\n",
    "        if index == count:\n",
    "            # if at the end of the vector, then use the last raw_elevations\n",
    "            grade = np.arctan((raw_elevations[-1] - raw_elevations[-2])/float(run_between_points))\n",
    "        else:\n",
    "            grade = np.arctan((raw_elevations[1] - raw_elevations[0])/float(run_between_points))\n",
    "        \n",
    "        id_list.append(start_id)\n",
    "        grade_list.append(grade)"
   ]
  },
  {
   "cell_type": "code",
   "execution_count": 34,
   "metadata": {
    "collapsed": false
   },
   "outputs": [],
   "source": [
    "grade_df = pd.DataFrame({'ID': id_list, 'grade': grade_list})"
   ]
  },
  {
   "cell_type": "code",
   "execution_count": 35,
   "metadata": {
    "collapsed": false
   },
   "outputs": [
    {
     "data": {
      "text/html": [
       "<div>\n",
       "<table border=\"1\" class=\"dataframe\">\n",
       "  <thead>\n",
       "    <tr style=\"text-align: right;\">\n",
       "      <th></th>\n",
       "      <th>ID</th>\n",
       "      <th>grade</th>\n",
       "    </tr>\n",
       "  </thead>\n",
       "  <tbody>\n",
       "  </tbody>\n",
       "</table>\n",
       "</div>"
      ],
      "text/plain": [
       "Empty DataFrame\n",
       "Columns: [ID, grade]\n",
       "Index: []"
      ]
     },
     "execution_count": 35,
     "metadata": {},
     "output_type": "execute_result"
    }
   ],
   "source": [
    "grade_df[grade_df.grade.isnull()]"
   ]
  },
  {
   "cell_type": "code",
   "execution_count": 36,
   "metadata": {
    "collapsed": false
   },
   "outputs": [],
   "source": [
    "new_meta_frame_with_grade = pd.merge(new_meta_frame, grade_df, how='inner', on='ID')"
   ]
  },
  {
   "cell_type": "code",
   "execution_count": 38,
   "metadata": {
    "collapsed": false
   },
   "outputs": [],
   "source": [
    "new_meta_frame_with_grade[[u'ID', u'Fwy', u'Dir', u'Abs_PM', u'Latitude', u'Longitude', u'Lanes', u'Name',\n",
    "     u'elevation', u'grade']].to_csv('../data/meta_2015_with_elev_and_grade.csv')"
   ]
  },
  {
   "cell_type": "markdown",
   "metadata": {},
   "source": [
    "# Generate json files for use to convert to Geojson"
   ]
  },
  {
   "cell_type": "code",
   "execution_count": 40,
   "metadata": {
    "collapsed": false
   },
   "outputs": [
    {
     "data": {
      "text/html": [
       "<div>\n",
       "<table border=\"1\" class=\"dataframe\">\n",
       "  <thead>\n",
       "    <tr style=\"text-align: right;\">\n",
       "      <th></th>\n",
       "      <th>Unnamed: 0</th>\n",
       "      <th>ID</th>\n",
       "      <th>Fwy</th>\n",
       "      <th>Dir</th>\n",
       "      <th>Abs_PM</th>\n",
       "      <th>Latitude</th>\n",
       "      <th>Longitude</th>\n",
       "      <th>Lanes</th>\n",
       "      <th>Name</th>\n",
       "      <th>elevation</th>\n",
       "      <th>grade</th>\n",
       "      <th>Type</th>\n",
       "    </tr>\n",
       "  </thead>\n",
       "  <tbody>\n",
       "    <tr>\n",
       "      <th>0</th>\n",
       "      <td>0</td>\n",
       "      <td>1113072</td>\n",
       "      <td>56</td>\n",
       "      <td>W</td>\n",
       "      <td>7.885</td>\n",
       "      <td>32.955202</td>\n",
       "      <td>-117.124689</td>\n",
       "      <td>2</td>\n",
       "      <td>Black Mountain Rd</td>\n",
       "      <td>178.243729</td>\n",
       "      <td>1.536084</td>\n",
       "      <td>ML</td>\n",
       "    </tr>\n",
       "    <tr>\n",
       "      <th>1</th>\n",
       "      <td>1</td>\n",
       "      <td>1113680</td>\n",
       "      <td>56</td>\n",
       "      <td>E</td>\n",
       "      <td>7.364</td>\n",
       "      <td>32.953394</td>\n",
       "      <td>-117.133404</td>\n",
       "      <td>3</td>\n",
       "      <td>BLACK MOUNTAIN RD</td>\n",
       "      <td>150.936234</td>\n",
       "      <td>1.545684</td>\n",
       "      <td>ML</td>\n",
       "    </tr>\n",
       "    <tr>\n",
       "      <th>2</th>\n",
       "      <td>2</td>\n",
       "      <td>1119041</td>\n",
       "      <td>125</td>\n",
       "      <td>N</td>\n",
       "      <td>3.282</td>\n",
       "      <td>32.608637</td>\n",
       "      <td>-116.967247</td>\n",
       "      <td>3</td>\n",
       "      <td>1 MI S/O BIRCH RD</td>\n",
       "      <td>163.306900</td>\n",
       "      <td>1.563082</td>\n",
       "      <td>ML</td>\n",
       "    </tr>\n",
       "    <tr>\n",
       "      <th>3</th>\n",
       "      <td>3</td>\n",
       "      <td>1119042</td>\n",
       "      <td>125</td>\n",
       "      <td>S</td>\n",
       "      <td>5.428</td>\n",
       "      <td>32.637029</td>\n",
       "      <td>-116.971446</td>\n",
       "      <td>2</td>\n",
       "      <td>1 MI S/O BIRCH RD</td>\n",
       "      <td>169.974411</td>\n",
       "      <td>1.558263</td>\n",
       "      <td>ML</td>\n",
       "    </tr>\n",
       "    <tr>\n",
       "      <th>4</th>\n",
       "      <td>4</td>\n",
       "      <td>1119059</td>\n",
       "      <td>125</td>\n",
       "      <td>N</td>\n",
       "      <td>4.067</td>\n",
       "      <td>32.619301</td>\n",
       "      <td>-116.971171</td>\n",
       "      <td>2</td>\n",
       "      <td>SOUTH SIDE BIRCH RD</td>\n",
       "      <td>180.948593</td>\n",
       "      <td>1.520973</td>\n",
       "      <td>ML</td>\n",
       "    </tr>\n",
       "  </tbody>\n",
       "</table>\n",
       "</div>"
      ],
      "text/plain": [
       "   Unnamed: 0       ID  Fwy Dir  Abs_PM   Latitude   Longitude  Lanes  \\\n",
       "0           0  1113072   56   W   7.885  32.955202 -117.124689      2   \n",
       "1           1  1113680   56   E   7.364  32.953394 -117.133404      3   \n",
       "2           2  1119041  125   N   3.282  32.608637 -116.967247      3   \n",
       "3           3  1119042  125   S   5.428  32.637029 -116.971446      2   \n",
       "4           4  1119059  125   N   4.067  32.619301 -116.971171      2   \n",
       "\n",
       "                  Name   elevation     grade Type  \n",
       "0    Black Mountain Rd  178.243729  1.536084   ML  \n",
       "1    BLACK MOUNTAIN RD  150.936234  1.545684   ML  \n",
       "2    1 MI S/O BIRCH RD  163.306900  1.563082   ML  \n",
       "3    1 MI S/O BIRCH RD  169.974411  1.558263   ML  \n",
       "4  SOUTH SIDE BIRCH RD  180.948593  1.520973   ML  "
      ]
     },
     "execution_count": 40,
     "metadata": {},
     "output_type": "execute_result"
    }
   ],
   "source": [
    "new_meta_frame_with_grade_ML = pd.read_csv('../data/meta_2015_with_elev_and_grade.csv')\n",
    "new_meta_frame_with_grade_ML['Type'] = 'ML'\n",
    "new_meta_frame_with_grade_ML.head()"
   ]
  },
  {
   "cell_type": "code",
   "execution_count": 41,
   "metadata": {
    "collapsed": false
   },
   "outputs": [
    {
     "data": {
      "text/plain": [
       "Unnamed: 0    839\n",
       "ID            839\n",
       "Fwy           839\n",
       "Dir           839\n",
       "Abs_PM        839\n",
       "Latitude      839\n",
       "Longitude     839\n",
       "Lanes         839\n",
       "Name          839\n",
       "elevation     839\n",
       "grade         839\n",
       "Type          839\n",
       "dtype: int64"
      ]
     },
     "execution_count": 41,
     "metadata": {},
     "output_type": "execute_result"
    }
   ],
   "source": [
    "new_meta_frame_with_grade_ML.count()"
   ]
  },
  {
   "cell_type": "code",
   "execution_count": 42,
   "metadata": {
    "collapsed": false
   },
   "outputs": [],
   "source": [
    "freeway_vectors_update = create_freeway_vectors(\n",
    "    new_meta_frame_with_grade_ML, [u'ID', u'Fwy', u'Dir', u'Abs_PM', u'Latitude', u'Longitude', u'Lanes', u'Name',\n",
    "     u'elevation'])"
   ]
  },
  {
   "cell_type": "code",
   "execution_count": 43,
   "metadata": {
    "collapsed": true
   },
   "outputs": [],
   "source": [
    "def sorted_func(x):\n",
    "    values = x.split('_')\n",
    "    Fwy = int(values[0])\n",
    "    Dir = values[1]\n",
    "    if Dir == 'N' or Dir == 'E':\n",
    "        dir_weight = 0\n",
    "    else:\n",
    "        dir_weight = 1\n",
    "    return Fwy + dir_weight"
   ]
  },
  {
   "cell_type": "code",
   "execution_count": 44,
   "metadata": {
    "collapsed": false,
    "scrolled": false
   },
   "outputs": [
    {
     "data": {
      "text/plain": [
       "['5_N',\n",
       " '5_S',\n",
       " '8_E',\n",
       " '8_W',\n",
       " '15_N',\n",
       " '15_S',\n",
       " '52_E',\n",
       " '52_W',\n",
       " '54_E',\n",
       " '54_W',\n",
       " '56_E',\n",
       " '56_W',\n",
       " '67_N',\n",
       " '67_S',\n",
       " '78_E',\n",
       " '78_W',\n",
       " '94_E',\n",
       " '94_W',\n",
       " '125_N',\n",
       " '125_S',\n",
       " '163_N',\n",
       " '163_S',\n",
       " '805_N',\n",
       " '805_S',\n",
       " '905_E',\n",
       " '905_W']"
      ]
     },
     "execution_count": 44,
     "metadata": {},
     "output_type": "execute_result"
    }
   ],
   "source": [
    "sorted(freeway_vectors_update.keys(), key=sorted_func)"
   ]
  },
  {
   "cell_type": "code",
   "execution_count": 45,
   "metadata": {
    "collapsed": false
   },
   "outputs": [],
   "source": [
    "for freeway_key in freeway_vectors_update:\n",
    "    data = freeway_vectors_update[freeway_key][[u'ID', u'Fwy', u'Dir', u'Abs_PM', u'Latitude', u'Longitude', \n",
    "                                                u'Lanes', u'Name', u'elevation', 'order']]\n",
    "#     data['order'] = pd.Series(index=data.index, data=range(1, len(data)+1))\n",
    "    data[[u'ID', u'Fwy', u'Dir', u'Abs_PM', u'Latitude', u'Longitude', u'Lanes', u'Name',\n",
    "          u'elevation', 'order']].to_json('../data/%s_ML_2015.json' % freeway_key, orient='records')"
   ]
  },
  {
   "cell_type": "code",
   "execution_count": 46,
   "metadata": {
    "collapsed": false
   },
   "outputs": [],
   "source": [
    "files=!ls ../data/*_ML_2015.json"
   ]
  },
  {
   "cell_type": "code",
   "execution_count": 47,
   "metadata": {
    "collapsed": false
   },
   "outputs": [
    {
     "data": {
      "text/plain": [
       "['../data/125_N_ML_2015.json',\n",
       " '../data/125_S_ML_2015.json',\n",
       " '../data/15_N_ML_2015.json',\n",
       " '../data/15_S_ML_2015.json',\n",
       " '../data/163_N_ML_2015.json',\n",
       " '../data/163_S_ML_2015.json',\n",
       " '../data/52_E_ML_2015.json',\n",
       " '../data/52_W_ML_2015.json',\n",
       " '../data/54_E_ML_2015.json',\n",
       " '../data/54_W_ML_2015.json',\n",
       " '../data/56_E_ML_2015.json',\n",
       " '../data/56_W_ML_2015.json',\n",
       " '../data/5_N_ML_2015.json',\n",
       " '../data/5_S_ML_2015.json',\n",
       " '../data/67_N_ML_2015.json',\n",
       " '../data/67_S_ML_2015.json',\n",
       " '../data/78_E_ML_2015.json',\n",
       " '../data/78_W_ML_2015.json',\n",
       " '../data/805_N_ML_2015.json',\n",
       " '../data/805_S_ML_2015.json',\n",
       " '../data/8_E_ML_2015.json',\n",
       " '../data/8_W_ML_2015.json',\n",
       " '../data/905_E_ML_2015.json',\n",
       " '../data/905_W_ML_2015.json',\n",
       " '../data/94_E_ML_2015.json',\n",
       " '../data/94_W_ML_2015.json']"
      ]
     },
     "execution_count": 47,
     "metadata": {},
     "output_type": "execute_result"
    }
   ],
   "source": [
    "files"
   ]
  },
  {
   "cell_type": "code",
   "execution_count": null,
   "metadata": {
    "collapsed": true
   },
   "outputs": [],
   "source": []
  },
  {
   "cell_type": "code",
   "execution_count": 48,
   "metadata": {
    "collapsed": true
   },
   "outputs": [],
   "source": [
    "test_final = json.load(open('../data/2015_ML_d11_geojson_points.json'))"
   ]
  },
  {
   "cell_type": "code",
   "execution_count": 49,
   "metadata": {
    "collapsed": false
   },
   "outputs": [
    {
     "data": {
      "text/plain": [
       "37"
      ]
     },
     "execution_count": 49,
     "metadata": {},
     "output_type": "execute_result"
    }
   ],
   "source": [
    "len(test_final['125_S']['data']['features'])"
   ]
  },
  {
   "cell_type": "code",
   "execution_count": 51,
   "metadata": {
    "collapsed": false,
    "scrolled": true
   },
   "outputs": [
    {
     "name": "stdout",
     "output_type": "stream",
     "text": [
      "125_N\n",
      "34\n",
      "geojson len: 34\n",
      "125_S\n",
      "36\n",
      "geojson len: 36\n",
      "15_N\n",
      "71\n",
      "geojson len: 71\n",
      "15_S\n",
      "68\n",
      "geojson len: 68\n",
      "163_N\n",
      "13\n",
      "geojson len: 13\n",
      "163_S\n",
      "15\n",
      "geojson len: 15\n",
      "52_E\n",
      "19\n",
      "geojson len: 19\n",
      "52_W\n",
      "22\n",
      "geojson len: 22\n",
      "54_E\n",
      "2\n",
      "geojson len: 2\n",
      "54_W\n",
      "2\n",
      "geojson len: 2\n",
      "56_E\n",
      "12\n",
      "geojson len: 12\n",
      "56_W\n",
      "11\n",
      "geojson len: 11\n",
      "5_N\n",
      "108\n",
      "geojson len: 108\n",
      "5_S\n",
      "102\n",
      "geojson len: 102\n",
      "67_N\n",
      "0\n",
      "geojson len: 0\n",
      "67_S\n",
      "0\n",
      "geojson len: 0\n",
      "78_E\n",
      "17\n",
      "geojson len: 17\n",
      "78_W\n",
      "24\n",
      "geojson len: 24\n",
      "805_N\n",
      "55\n",
      "geojson len: 55\n",
      "805_S\n",
      "60\n",
      "geojson len: 60\n",
      "8_E\n",
      "43\n",
      "geojson len: 43\n",
      "8_W\n",
      "46\n",
      "geojson len: 46\n",
      "905_E\n",
      "10\n",
      "geojson len: 10\n",
      "905_W\n",
      "10\n",
      "geojson len: 10\n",
      "94_E\n",
      "15\n",
      "geojson len: 15\n",
      "94_W\n",
      "20\n",
      "geojson len: 20\n"
     ]
    }
   ],
   "source": [
    "final = {}\n",
    "\n",
    "for filename in files:\n",
    "    new_geojson = {'type': 'FeatureCollection', 'features': []}\n",
    "    data = json.load(open(filename))\n",
    "    key = '_'.join(filename.split('/')[2].split('_')[0:2])\n",
    "    print key\n",
    "    if key == '15_N':\n",
    "        visible = False\n",
    "    else:\n",
    "        visible = False\n",
    "\n",
    "    print len(data)\n",
    "    for row in data:\n",
    "        properties = {'key': key,\n",
    "                      'ID': row['ID'],\n",
    "                      'Lanes': row['Lanes'],\n",
    "                      'Name': row['Name'],\n",
    "                      'Abs_PM': row['Abs_PM'],\n",
    "                      'Elevation': row['elevation'],\n",
    "                      'Order': row['order']}\n",
    "        geometry = {'type': \"Point\", \"coordinates\": [row['Longitude'], row['Latitude']]}\n",
    "        temp = {'type': 'Feature', 'properties': properties, \"geometry\": geometry}\n",
    "        new_geojson['features'].append(temp)\n",
    "\n",
    "    print \"geojson len: %s\" % len(new_geojson['features'])\n",
    "    final[key] = {'visible': visible, 'data': new_geojson}\n",
    "json.dump(final, open('../data/2015_ML_d11_geojson_points.json', 'w'))"
   ]
  },
  {
   "cell_type": "code",
   "execution_count": 52,
   "metadata": {
    "collapsed": false,
    "scrolled": true
   },
   "outputs": [
    {
     "name": "stdout",
     "output_type": "stream",
     "text": [
      "125_N\n",
      "125_S\n",
      "15_N\n",
      "15_S\n",
      "163_N\n",
      "163_S\n",
      "52_E\n",
      "52_W\n",
      "54_E\n",
      "54_W\n",
      "56_E\n",
      "56_W\n",
      "5_N\n",
      "5_S\n",
      "67_N\n",
      "67_S\n",
      "78_E\n",
      "78_W\n",
      "805_N\n",
      "805_S\n",
      "8_E\n",
      "8_W\n",
      "905_E\n",
      "905_W\n",
      "94_E\n",
      "94_W\n"
     ]
    }
   ],
   "source": [
    "final = {}\n",
    "for filename in files:\n",
    "    data = json.load(open(filename))\n",
    "    key = '_'.join(filename.split('/')[2].split('_')[0:2])\n",
    "    print key\n",
    "    if key == '15_N':\n",
    "        visible = True\n",
    "    else:\n",
    "        visible = False\n",
    "    final[key] = {'visible': visible, 'data': data}\n",
    "json.dump(final, open('../data/2015_ML_d11.json', 'w'))"
   ]
  },
  {
   "cell_type": "code",
   "execution_count": 53,
   "metadata": {
    "collapsed": false
   },
   "outputs": [
    {
     "data": {
      "text/plain": [
       "count    839.000000\n",
       "mean      89.920762\n",
       "std       68.061828\n",
       "min        3.167338\n",
       "25%       25.592031\n",
       "50%       77.214447\n",
       "75%      141.236954\n",
       "max      309.354401\n",
       "Name: elevation, dtype: float64"
      ]
     },
     "execution_count": 53,
     "metadata": {},
     "output_type": "execute_result"
    }
   ],
   "source": [
    "new_meta_frame_with_grade_ML[[u'ID', u'Fwy', u'Dir', u'Abs_PM', u'Latitude', u'Longitude', u'Lanes', u'Name',\n",
    "     u'elevation', u'grade']].elevation.describe()"
   ]
  },
  {
   "cell_type": "code",
   "execution_count": 56,
   "metadata": {
    "collapsed": false
   },
   "outputs": [
    {
     "name": "stdout",
     "output_type": "stream",
     "text": [
      "on freeway: 125_S\n",
      "on freeway: 905_E\n",
      "on freeway: 54_W\n",
      "on freeway: 125_N\n",
      "on freeway: 52_W\n",
      "on freeway: 67_N\n",
      "on freeway: 56_E\n",
      "on freeway: 67_S\n",
      "on freeway: 56_W\n",
      "on freeway: 905_W\n",
      "on freeway: 94_E\n",
      "on freeway: 52_E\n",
      "on freeway: 78_W\n",
      "on freeway: 5_N\n",
      "on freeway: 15_N\n",
      "on freeway: 15_S\n",
      "on freeway: 94_W\n",
      "on freeway: 78_E\n",
      "on freeway: 54_E\n",
      "on freeway: 5_S\n",
      "on freeway: 8_E\n",
      "on freeway: 163_N\n",
      "on freeway: 805_S\n",
      "on freeway: 8_W\n",
      "on freeway: 805_N\n",
      "on freeway: 163_S\n"
     ]
    }
   ],
   "source": [
    "# loop through all freeways and get the results\n",
    "# calculations will be done afterwards to debug while not pulling from google's api\n",
    "raw_results = {}\n",
    "counter = 0\n",
    "to_review = {}\n",
    "for key in freeway_vectors_update:\n",
    "    print \"on freeway: %s\" % key\n",
    "    frame = freeway_vectors_update[key]\n",
    "    count = frame.ID.count()\n",
    "    for index in range(1, count):\n",
    "        distance = abs(frame.iloc[index-1].Abs_PM - frame.iloc[index].Abs_PM)\n",
    "\n",
    "        if distance < .2:\n",
    "            if key not in to_review:\n",
    "                to_review[key] = []\n",
    "            to_review[key].append(frame.iloc[index-1])\n",
    "    counter += 1"
   ]
  },
  {
   "cell_type": "markdown",
   "metadata": {},
   "source": [
    "to_review contains the list of stations that need further review to determine if there are data errors.  This is the end point of this analysis due to Advisor direction to not continue any further."
   ]
  },
  {
   "cell_type": "markdown",
   "metadata": {},
   "source": [
    "## Highlight stations that seem too close to each other\n",
    "It's likely that either stations have changed over time and therefore some of these stations might not be active, or perhaps some of the stations are misclassified.  Either way additional research would be needed to determine how accurate each of the stations were over time and to determine which stations should be filtered out. Advisor direction was to not go down this path of exploration / research."
   ]
  },
  {
   "cell_type": "markdown",
   "metadata": {},
   "source": [
    "<img src='screenshots/1123134.png'>\n",
    "1123134 is really close to it's neighbor 1123135 0.001 miles"
   ]
  },
  {
   "cell_type": "code",
   "execution_count": 61,
   "metadata": {
    "collapsed": false
   },
   "outputs": [
    {
     "data": {
      "text/html": [
       "<div>\n",
       "<table border=\"1\" class=\"dataframe\">\n",
       "  <thead>\n",
       "    <tr style=\"text-align: right;\">\n",
       "      <th></th>\n",
       "      <th>Unnamed: 0</th>\n",
       "      <th>ID</th>\n",
       "      <th>Fwy</th>\n",
       "      <th>Dir</th>\n",
       "      <th>Abs_PM</th>\n",
       "      <th>Latitude</th>\n",
       "      <th>Longitude</th>\n",
       "      <th>Lanes</th>\n",
       "      <th>Name</th>\n",
       "      <th>elevation</th>\n",
       "      <th>grade</th>\n",
       "      <th>Type</th>\n",
       "    </tr>\n",
       "  </thead>\n",
       "  <tbody>\n",
       "    <tr>\n",
       "      <th>410</th>\n",
       "      <td>410</td>\n",
       "      <td>1114660</td>\n",
       "      <td>5</td>\n",
       "      <td>S</td>\n",
       "      <td>30.812</td>\n",
       "      <td>32.907588</td>\n",
       "      <td>-117.226265</td>\n",
       "      <td>3</td>\n",
       "      <td>S/B AT JCT I-805</td>\n",
       "      <td>21.196461</td>\n",
       "      <td>-1.556265</td>\n",
       "      <td>ML</td>\n",
       "    </tr>\n",
       "    <tr>\n",
       "      <th>673</th>\n",
       "      <td>673</td>\n",
       "      <td>1120356</td>\n",
       "      <td>5</td>\n",
       "      <td>S</td>\n",
       "      <td>6.627</td>\n",
       "      <td>32.613849</td>\n",
       "      <td>-117.091173</td>\n",
       "      <td>3</td>\n",
       "      <td>SB 5 S/O L St</td>\n",
       "      <td>9.153790</td>\n",
       "      <td>1.436106</td>\n",
       "      <td>ML</td>\n",
       "    </tr>\n",
       "    <tr>\n",
       "      <th>769</th>\n",
       "      <td>769</td>\n",
       "      <td>1123072</td>\n",
       "      <td>5</td>\n",
       "      <td>S</td>\n",
       "      <td>30.532</td>\n",
       "      <td>32.903777</td>\n",
       "      <td>-117.224665</td>\n",
       "      <td>2</td>\n",
       "      <td>5 S Bypass S/O 5/805</td>\n",
       "      <td>17.328718</td>\n",
       "      <td>-1.562271</td>\n",
       "      <td>ML</td>\n",
       "    </tr>\n",
       "    <tr>\n",
       "      <th>779</th>\n",
       "      <td>779</td>\n",
       "      <td>1123134</td>\n",
       "      <td>5</td>\n",
       "      <td>S</td>\n",
       "      <td>5.324</td>\n",
       "      <td>32.595070</td>\n",
       "      <td>-117.088901</td>\n",
       "      <td>1</td>\n",
       "      <td>Main St to 5 SB</td>\n",
       "      <td>7.251188</td>\n",
       "      <td>1.268062</td>\n",
       "      <td>ML</td>\n",
       "    </tr>\n",
       "  </tbody>\n",
       "</table>\n",
       "</div>"
      ],
      "text/plain": [
       "     Unnamed: 0       ID  Fwy Dir  Abs_PM   Latitude   Longitude  Lanes  \\\n",
       "410         410  1114660    5   S  30.812  32.907588 -117.226265      3   \n",
       "673         673  1120356    5   S   6.627  32.613849 -117.091173      3   \n",
       "769         769  1123072    5   S  30.532  32.903777 -117.224665      2   \n",
       "779         779  1123134    5   S   5.324  32.595070 -117.088901      1   \n",
       "\n",
       "                     Name  elevation     grade Type  \n",
       "410      S/B AT JCT I-805  21.196461 -1.556265   ML  \n",
       "673         SB 5 S/O L St   9.153790  1.436106   ML  \n",
       "769  5 S Bypass S/O 5/805  17.328718 -1.562271   ML  \n",
       "779       Main St to 5 SB   7.251188  1.268062   ML  "
      ]
     },
     "execution_count": 61,
     "metadata": {},
     "output_type": "execute_result"
    }
   ],
   "source": [
    "new_meta_frame_with_grade_ML[(new_meta_frame_with_grade_ML.Dir == 'S') & (new_meta_frame_with_grade_ML.Fwy == 5) &\n",
    "                             (new_meta_frame_with_grade_ML.Lanes < 4)]"
   ]
  },
  {
   "cell_type": "markdown",
   "metadata": {},
   "source": [
    "<img src='screenshots/1116433.png'>\n",
    "station 1116433 is really close to a neighboring station and is only 1 lane. seems like an incorrect station"
   ]
  },
  {
   "cell_type": "code",
   "execution_count": 75,
   "metadata": {
    "collapsed": false
   },
   "outputs": [
    {
     "data": {
      "text/html": [
       "<div>\n",
       "<table border=\"1\" class=\"dataframe\">\n",
       "  <thead>\n",
       "    <tr style=\"text-align: right;\">\n",
       "      <th></th>\n",
       "      <th>Unnamed: 0</th>\n",
       "      <th>ID</th>\n",
       "      <th>Fwy</th>\n",
       "      <th>Dir</th>\n",
       "      <th>Abs_PM</th>\n",
       "      <th>Latitude</th>\n",
       "      <th>Longitude</th>\n",
       "      <th>Lanes</th>\n",
       "      <th>Name</th>\n",
       "      <th>elevation</th>\n",
       "      <th>grade</th>\n",
       "      <th>Type</th>\n",
       "    </tr>\n",
       "  </thead>\n",
       "  <tbody>\n",
       "    <tr>\n",
       "      <th>522</th>\n",
       "      <td>522</td>\n",
       "      <td>1116433</td>\n",
       "      <td>78</td>\n",
       "      <td>W</td>\n",
       "      <td>11.094</td>\n",
       "      <td>33.145066</td>\n",
       "      <td>-117.19219</td>\n",
       "      <td>1</td>\n",
       "      <td>Las Posas Rd</td>\n",
       "      <td>168.368027</td>\n",
       "      <td>1.507798</td>\n",
       "      <td>ML</td>\n",
       "    </tr>\n",
       "  </tbody>\n",
       "</table>\n",
       "</div>"
      ],
      "text/plain": [
       "     Unnamed: 0       ID  Fwy Dir  Abs_PM   Latitude  Longitude  Lanes  \\\n",
       "522         522  1116433   78   W  11.094  33.145066 -117.19219      1   \n",
       "\n",
       "             Name   elevation     grade Type  \n",
       "522  Las Posas Rd  168.368027  1.507798   ML  "
      ]
     },
     "execution_count": 75,
     "metadata": {},
     "output_type": "execute_result"
    }
   ],
   "source": [
    "new_meta_frame_with_grade_ML[(new_meta_frame_with_grade_ML.Dir == 'W') & (new_meta_frame_with_grade_ML.Fwy == 78) &\n",
    "                             (new_meta_frame_with_grade_ML.Lanes < 2)]"
   ]
  },
  {
   "cell_type": "code",
   "execution_count": null,
   "metadata": {
    "collapsed": true
   },
   "outputs": [],
   "source": []
  },
  {
   "cell_type": "code",
   "execution_count": null,
   "metadata": {
    "collapsed": true
   },
   "outputs": [],
   "source": [
    "# 8, 52, 54, 56, 78E, 94, 905 has no issues\n",
    "# 125, 163, 805 has no issues"
   ]
  },
  {
   "cell_type": "code",
   "execution_count": 91,
   "metadata": {
    "collapsed": false
   },
   "outputs": [
    {
     "data": {
      "text/html": [
       "<div>\n",
       "<table border=\"1\" class=\"dataframe\">\n",
       "  <thead>\n",
       "    <tr style=\"text-align: right;\">\n",
       "      <th></th>\n",
       "      <th>Unnamed: 0</th>\n",
       "      <th>ID</th>\n",
       "      <th>Fwy</th>\n",
       "      <th>Dir</th>\n",
       "      <th>Abs_PM</th>\n",
       "      <th>Latitude</th>\n",
       "      <th>Longitude</th>\n",
       "      <th>Lanes</th>\n",
       "      <th>Name</th>\n",
       "      <th>elevation</th>\n",
       "      <th>grade</th>\n",
       "      <th>Type</th>\n",
       "    </tr>\n",
       "  </thead>\n",
       "  <tbody>\n",
       "    <tr>\n",
       "      <th>769</th>\n",
       "      <td>769</td>\n",
       "      <td>1123072</td>\n",
       "      <td>5</td>\n",
       "      <td>S</td>\n",
       "      <td>30.532</td>\n",
       "      <td>32.903777</td>\n",
       "      <td>-117.224665</td>\n",
       "      <td>2</td>\n",
       "      <td>5 S Bypass S/O 5/805</td>\n",
       "      <td>17.328718</td>\n",
       "      <td>-1.562271</td>\n",
       "      <td>ML</td>\n",
       "    </tr>\n",
       "    <tr>\n",
       "      <th>779</th>\n",
       "      <td>779</td>\n",
       "      <td>1123134</td>\n",
       "      <td>5</td>\n",
       "      <td>S</td>\n",
       "      <td>5.324</td>\n",
       "      <td>32.595070</td>\n",
       "      <td>-117.088901</td>\n",
       "      <td>1</td>\n",
       "      <td>Main St to 5 SB</td>\n",
       "      <td>7.251188</td>\n",
       "      <td>1.268062</td>\n",
       "      <td>ML</td>\n",
       "    </tr>\n",
       "  </tbody>\n",
       "</table>\n",
       "</div>"
      ],
      "text/plain": [
       "     Unnamed: 0       ID  Fwy Dir  Abs_PM   Latitude   Longitude  Lanes  \\\n",
       "769         769  1123072    5   S  30.532  32.903777 -117.224665      2   \n",
       "779         779  1123134    5   S   5.324  32.595070 -117.088901      1   \n",
       "\n",
       "                     Name  elevation     grade Type  \n",
       "769  5 S Bypass S/O 5/805  17.328718 -1.562271   ML  \n",
       "779       Main St to 5 SB   7.251188  1.268062   ML  "
      ]
     },
     "execution_count": 91,
     "metadata": {},
     "output_type": "execute_result"
    }
   ],
   "source": [
    "new_meta_frame_with_grade_ML[(new_meta_frame_with_grade_ML.Dir == 'S') & (new_meta_frame_with_grade_ML.Fwy == 5) &\n",
    "                             (new_meta_frame_with_grade_ML.Lanes < 3)]"
   ]
  },
  {
   "cell_type": "code",
   "execution_count": 39,
   "metadata": {
    "collapsed": false
   },
   "outputs": [
    {
     "data": {
      "text/html": [
       "<div>\n",
       "<table border=\"1\" class=\"dataframe\">\n",
       "  <thead>\n",
       "    <tr style=\"text-align: right;\">\n",
       "      <th></th>\n",
       "      <th>Unnamed: 0</th>\n",
       "      <th>ID</th>\n",
       "      <th>Fwy</th>\n",
       "      <th>Dir</th>\n",
       "      <th>Abs_PM</th>\n",
       "      <th>Latitude</th>\n",
       "      <th>Longitude</th>\n",
       "      <th>Lanes</th>\n",
       "      <th>Name</th>\n",
       "      <th>elevation</th>\n",
       "      <th>grade</th>\n",
       "      <th>Type</th>\n",
       "    </tr>\n",
       "  </thead>\n",
       "  <tbody>\n",
       "    <tr>\n",
       "      <th>63</th>\n",
       "      <td>63</td>\n",
       "      <td>1117920</td>\n",
       "      <td>15</td>\n",
       "      <td>S</td>\n",
       "      <td>1.703</td>\n",
       "      <td>32.715149</td>\n",
       "      <td>-117.117869</td>\n",
       "      <td>2</td>\n",
       "      <td>SB 15 @ 94</td>\n",
       "      <td>19.198471</td>\n",
       "      <td>1.547851</td>\n",
       "      <td>ML</td>\n",
       "    </tr>\n",
       "    <tr>\n",
       "      <th>67</th>\n",
       "      <td>67</td>\n",
       "      <td>1122945</td>\n",
       "      <td>15</td>\n",
       "      <td>S</td>\n",
       "      <td>1.703</td>\n",
       "      <td>32.715149</td>\n",
       "      <td>-117.117869</td>\n",
       "      <td>2</td>\n",
       "      <td>15 SB From  94</td>\n",
       "      <td>19.198471</td>\n",
       "      <td>0.000000</td>\n",
       "      <td>ML</td>\n",
       "    </tr>\n",
       "  </tbody>\n",
       "</table>\n",
       "</div>"
      ],
      "text/plain": [
       "    Unnamed: 0       ID  Fwy Dir  Abs_PM   Latitude   Longitude  Lanes  \\\n",
       "63          63  1117920   15   S   1.703  32.715149 -117.117869      2   \n",
       "67          67  1122945   15   S   1.703  32.715149 -117.117869      2   \n",
       "\n",
       "              Name  elevation     grade Type  \n",
       "63      SB 15 @ 94  19.198471  1.547851   ML  \n",
       "67  15 SB From  94  19.198471  0.000000   ML  "
      ]
     },
     "execution_count": 39,
     "metadata": {},
     "output_type": "execute_result"
    }
   ],
   "source": [
    "new_meta_frame_with_grade_ML[(new_meta_frame_with_grade_ML.Dir == 'S') & (new_meta_frame_with_grade_ML.Fwy == 15) &\n",
    "                             (new_meta_frame_with_grade_ML.Lanes < 3)]"
   ]
  },
  {
   "cell_type": "code",
   "execution_count": 40,
   "metadata": {
    "collapsed": false
   },
   "outputs": [
    {
     "data": {
      "text/html": [
       "<div>\n",
       "<table border=\"1\" class=\"dataframe\">\n",
       "  <thead>\n",
       "    <tr style=\"text-align: right;\">\n",
       "      <th></th>\n",
       "      <th>Unnamed: 0</th>\n",
       "      <th>ID</th>\n",
       "      <th>Fwy</th>\n",
       "      <th>Dir</th>\n",
       "      <th>Abs_PM</th>\n",
       "      <th>Latitude</th>\n",
       "      <th>Longitude</th>\n",
       "      <th>Lanes</th>\n",
       "      <th>Name</th>\n",
       "      <th>elevation</th>\n",
       "      <th>grade</th>\n",
       "      <th>Type</th>\n",
       "    </tr>\n",
       "  </thead>\n",
       "  <tbody>\n",
       "    <tr>\n",
       "      <th>68</th>\n",
       "      <td>68</td>\n",
       "      <td>1122948</td>\n",
       "      <td>15</td>\n",
       "      <td>N</td>\n",
       "      <td>1.713</td>\n",
       "      <td>32.715149</td>\n",
       "      <td>-117.117717</td>\n",
       "      <td>2</td>\n",
       "      <td>94 EB From 15 NB</td>\n",
       "      <td>19.331848</td>\n",
       "      <td>1.522833</td>\n",
       "      <td>ML</td>\n",
       "    </tr>\n",
       "    <tr>\n",
       "      <th>735</th>\n",
       "      <td>735</td>\n",
       "      <td>1122502</td>\n",
       "      <td>15</td>\n",
       "      <td>N</td>\n",
       "      <td>30.470</td>\n",
       "      <td>33.109785</td>\n",
       "      <td>-117.095526</td>\n",
       "      <td>2</td>\n",
       "      <td>15 NB HOV N/O</td>\n",
       "      <td>218.190216</td>\n",
       "      <td>-1.550586</td>\n",
       "      <td>ML</td>\n",
       "    </tr>\n",
       "    <tr>\n",
       "      <th>783</th>\n",
       "      <td>783</td>\n",
       "      <td>1123179</td>\n",
       "      <td>15</td>\n",
       "      <td>N</td>\n",
       "      <td>3.059</td>\n",
       "      <td>32.733487</td>\n",
       "      <td>-117.111847</td>\n",
       "      <td>2</td>\n",
       "      <td>15NB From 805NB Conn</td>\n",
       "      <td>61.661972</td>\n",
       "      <td>0.000000</td>\n",
       "      <td>ML</td>\n",
       "    </tr>\n",
       "  </tbody>\n",
       "</table>\n",
       "</div>"
      ],
      "text/plain": [
       "     Unnamed: 0       ID  Fwy Dir  Abs_PM   Latitude   Longitude  Lanes  \\\n",
       "68           68  1122948   15   N   1.713  32.715149 -117.117717      2   \n",
       "735         735  1122502   15   N  30.470  33.109785 -117.095526      2   \n",
       "783         783  1123179   15   N   3.059  32.733487 -117.111847      2   \n",
       "\n",
       "                     Name   elevation     grade Type  \n",
       "68       94 EB From 15 NB   19.331848  1.522833   ML  \n",
       "735         15 NB HOV N/O  218.190216 -1.550586   ML  \n",
       "783  15NB From 805NB Conn   61.661972  0.000000   ML  "
      ]
     },
     "execution_count": 40,
     "metadata": {},
     "output_type": "execute_result"
    }
   ],
   "source": [
    "new_meta_frame_with_grade_ML[(new_meta_frame_with_grade_ML.Dir == 'N') & (new_meta_frame_with_grade_ML.Fwy == 15) &\n",
    "                             (new_meta_frame_with_grade_ML.Lanes < 3)]"
   ]
  },
  {
   "cell_type": "markdown",
   "metadata": {},
   "source": [
    "<img src='screenshots/1108771.png'>\n",
    "<img src='screenshots/1122502.png'>\n",
    "station 1108771 is super close to 1122502 and 1122502 has a name of HOV plus is only two lanes as opposed to 5"
   ]
  },
  {
   "cell_type": "code",
   "execution_count": null,
   "metadata": {
    "collapsed": true
   },
   "outputs": [],
   "source": []
  }
 ],
 "metadata": {
  "anaconda-cloud": {},
  "kernelspec": {
   "display_name": "Python [default]",
   "language": "python",
   "name": "python2"
  },
  "language_info": {
   "codemirror_mode": {
    "name": "ipython",
    "version": 2
   },
   "file_extension": ".py",
   "mimetype": "text/x-python",
   "name": "python",
   "nbconvert_exporter": "python",
   "pygments_lexer": "ipython2",
   "version": "2.7.12"
  }
 },
 "nbformat": 4,
 "nbformat_minor": 1
}
