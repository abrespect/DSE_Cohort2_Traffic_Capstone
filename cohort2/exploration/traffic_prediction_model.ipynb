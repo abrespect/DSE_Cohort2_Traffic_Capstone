{
 "cells": [
  {
   "cell_type": "markdown",
   "metadata": {},
   "source": [
    "# Traffic prediction model\n",
    "\n",
    "## Abstract\n",
    "\n",
    "This notebook explores a method of predicting traffic patterns on freeways. A naive approach to predict traffic for a particular station would be to use traffic state from all other station on a freeway. This would prove to be computatinally heavy and not feasable for a notebook. However based on this theme there are many simpler permutation of station combinations that can be fed into the model. For example; State of all stations. State of all stations in a freeway. State of all preceding stations. State of preceding staiton. State of all anteceding station. State of anteceding station. State of anteceding and precdeding station, etc.\n",
    "\n",
    "For this model the assumtion is made that cars do appear or disapear on any segment of freeway between two stations, execpt when there are intermediate on-ramps or off-ramps between stations. With this assumption, a prediction should be possible based on the preceding stations flow and occupancy. This is the model described below. \n",
    "\n",
    "This method should capture the intial traffic formation. This method may not capture the observed traffic propagation. Specifically backwards traveling waves of traffic. Further refinement of the model may include adding the state of antecedingpostceding stations. \n",
    "\n",
    "This model consists of two submodels. The first model called the Station Traffic Model (STM) predicts traffic patterns for an individual Station Model (SM) based on the preceding station's flow, occupancy, and intermediate on ramp and off ramp flows. The second model called the Freeway Traffic Model (FTM) predicts traffic patterns for a freeway from the SMs, and previous station state. The model is intialized with initial station state. The model is used by feeding in previously predicted station state and pumping the first staiton flow and occupancy, and on-ramps and off-ramp flows.\n",
    "\n",
    "Once traffic has been predicted use the fundumental diagram  based model get a prediction of confidence of a stations traffic state for each time step in the FTM"
   ]
  },
  {
   "cell_type": "markdown",
   "metadata": {},
   "source": [
    "## Data cleanup\n",
    "Must have good data for any starting section. Therefore must not start on an unhealthy station. Might also be a good idea to drop any unhealthy stations."
   ]
  },
  {
   "cell_type": "markdown",
   "metadata": {},
   "source": [
    "## Validation\n",
    "\n",
    "### Base case\n",
    "Assume all stations are always not in jam\n",
    "For test data set, classify as always in jam, get percentage correct. Ballpark estimation of 80% correct.\n",
    "\n",
    "### Data split\n",
    "Random continous segments of time"
   ]
  },
  {
   "cell_type": "markdown",
   "metadata": {},
   "source": [
    "## Station Models (SM)\n",
    "* stations are in order of flow\n",
    "* X<sub>n,t</sub>\n",
    "    * X is a station flow and occupancy\n",
    "    * where n is 0..N, N=number of stations\n",
    "    * where t is 0..T, T=5 minute interval \n",
    "* O<sub>n-1..n,t-1</sub>\n",
    "    * O is on-ramps flow\n",
    "    * where n-1..n is between X<sub>n-1,t-1</sub> and X<sub>n,t-1</sub>\n",
    "* F<sub>n-1..n,t-1</sub> \n",
    "    * F is off-ramps flow\n",
    "    * where n-1..n is between X<sub>n-1,t-1</sub> and X<sub>n,t-1</sub>\n",
    "\n",
    "## Station Traffic Model (STM)\n",
    "#### STM<sub>n</sub>(X<sub>n-1,t-1</sub>, O<sub>n-1..n,t-1</sub>, F<sub>n-1..n,t-1</sub> ) = X'<sub>n,t</sub>\n",
    "* X<sub>n-1,t-1</sub> is flow and occupancy of X<sub>n-1,t-1</sub>\n",
    "* O<sub>n-1..n,t-1</sub> is flow of all OR between X<sub>n-1,t-1</sub> and X<sub>n,t</sub>\n",
    "* F<sub>n-1..n,t-1</sub> is flow of all FR between X<sub>n-1,t-1</sub> and X<sub>n,t</sub>\n",
    "* X'<sub>n,t</sub> is prediction of flow and occupancy for X'\n",
    "    \n",
    "## Freeway Traffic Model (FTM)\n",
    "### Initialization at t=0 : FTM<sub>0</sub>\n",
    "#### FTM<sub>0</sub>(STM<sub>1..N</sub>,  X<sub>0..N,0</sub>, O<sub>0..N,0</sub>, F<sub>0..N,0</sub>) = X'<sub>1..N,1</sub>\n",
    "\n",
    "* X<sub>0..N,0</sub> is initial station state\n",
    "* STM<sub>1..N</sub> is trained station traffic model\n",
    "* O<sub>0..N,0</sub> is initial on ramp flow between stations\n",
    "* F<sub>0..N,0</sub> is initial off ramp flow between stations\n",
    "* X'<sub>0..N,1</sub> is predicted traffic for X<sub>0..N</sub>\n",
    "\n",
    "### FTM at t=1..T : FTM<sub>1..T</sub>\n",
    "\n",
    "#### FTM<sub>t</sub>(STM<sub>1..N</sub>,  X'<sub>0,p;1..N,t-1</sub>, O<sub>0..N,p</sub>, F<sub>0..N,p</sub>) = X'<sub>1..N,t</sub>\n",
    "* X'<sub>1..N,t-1</sub> is previous predicted station state for station 1..0\n",
    "* X'<sub>0,p</sub> is pumped station state for station 0\n",
    "* STM<sub>0..N</sub> is trained station traffic model\n",
    "* O<sub>0..N,p</sub> is pumped on-ramp flow between stations\n",
    "* F<sub>0..N,p</sub> is pumped off-ramp flow between stations\n",
    "* X'<sub>0..N,t+1</sub> is predicted traffic for X'<sub>0..N</sub>"
   ]
  },
  {
   "cell_type": "code",
   "execution_count": 1,
   "metadata": {
    "collapsed": false
   },
   "outputs": [],
   "source": [
    "%matplotlib inline\n",
    "import matplotlib.pyplot as plt\n",
    "import pandas as pd\n",
    "import numpy as np\n",
    "import time\n",
    "from os import listdir\n",
    "from os.path import isfile, join\n",
    "from datetime import time, datetime\n",
    "\n",
    "import glob\n",
    "\n",
    "from pyspark.sql.functions import hour, mean,minute, stddev, count,max as psmax,min as psmin, date_format\n",
    "from pyspark.sql.functions import udf\n",
    "from pyspark.sql.types import IntegerType\n",
    "from pyspark.sql.functions import lit\n",
    "\n",
    "from sklearn.kernel_ridge import KernelRidge\n",
    "from sklearn import linear_model\n",
    "\n",
    "from sklearn.metrics import mean_squared_error\n",
    "\n",
    "import seaborn as sns"
   ]
  },
  {
   "cell_type": "code",
   "execution_count": 2,
   "metadata": {
    "collapsed": true
   },
   "outputs": [],
   "source": [
    "#data locations\n",
    "data_5min_path = \"../data/station_5min/2015/d11/\"\n",
    "meta_path = \"../data/station_5min/2015/meta_data/d11/\""
   ]
  },
  {
   "cell_type": "markdown",
   "metadata": {},
   "source": [
    "# Get data file names"
   ]
  },
  {
   "cell_type": "code",
   "execution_count": 3,
   "metadata": {
    "collapsed": false
   },
   "outputs": [],
   "source": [
    "#get all files to process\n",
    "onlyfiles = [f for f in listdir(data_5min_path) if isfile(join(data_5min_path, f))]"
   ]
  },
  {
   "cell_type": "code",
   "execution_count": 4,
   "metadata": {
    "collapsed": false
   },
   "outputs": [
    {
     "data": {
      "text/plain": [
       "['d11_text_station_5min_2015_01_01.txt.gz',\n",
       " 'd11_text_station_5min_2015_01_02.txt.gz',\n",
       " 'd11_text_station_5min_2015_01_03.txt.gz']"
      ]
     },
     "execution_count": 4,
     "metadata": {},
     "output_type": "execute_result"
    }
   ],
   "source": [
    "onlyfiles[0:3]"
   ]
  },
  {
   "cell_type": "code",
   "execution_count": 5,
   "metadata": {
    "collapsed": true
   },
   "outputs": [],
   "source": [
    "colnames = [\n",
    "    'Timestamp','Station','District','Freeway','Direction_of_Travel',\n",
    "    'LaneType','StationLength','Samples',\n",
    "    'Perc_Observed','TotalFlow','AvgOccupancy','AvgSpeed',\n",
    "    'Lane1_Samples','Lane1_Flow','Lane1_AvgOcc','Lane1_AvgSpeed','Lane1_Observed',\n",
    "    'Lane2_Samples','Lane2_Flow','Lane2_AvgOcc','Lane2_AvgSpeed','Lane2_Observed',\n",
    "    'Lane3_Samples','Lane3_Flow','Lane3_AvgOcc','Lane3_AvgSpeed','Lane3_Observed',\n",
    "    'Lane4_Samples','Lane4_Flow','Lane4_AvgOcc','Lane4_AvgSpeed','Lane4_Observed',\n",
    "    'Lane5_Samples','Lane5_Flow','Lane5_AvgOcc','Lane5_AvgSpeed','Lane5_Observed',\n",
    "    'Lane6_Samples','Lane6_Flow','Lane6_AvgOcc','Lane6_AvgSpeed','Lane6_Observed',\n",
    "    'Lane7_Samples','Lane7_Flow','Lane7_AvgOcc','Lane7_AvgSpeed','Lane7_Observed',\n",
    "    'Lane8_Samples','Lane8_Flow','Lane8_AvgOcc','Lane8_AvgSpeed','Lane8_Observed'\n",
    "]\n",
    "colnames = [c.lower() for c in colnames]"
   ]
  },
  {
   "cell_type": "code",
   "execution_count": 6,
   "metadata": {
    "collapsed": false
   },
   "outputs": [
    {
     "data": {
      "text/plain": [
       "52"
      ]
     },
     "execution_count": 6,
     "metadata": {},
     "output_type": "execute_result"
    }
   ],
   "source": [
    "len(colnames)"
   ]
  },
  {
   "cell_type": "code",
   "execution_count": 7,
   "metadata": {
    "collapsed": true
   },
   "outputs": [],
   "source": [
    "from pyspark.sql import SQLContext\n",
    "from pyspark.sql.types import *"
   ]
  },
  {
   "cell_type": "markdown",
   "metadata": {},
   "source": [
    "# Make spark schema"
   ]
  },
  {
   "cell_type": "markdown",
   "metadata": {},
   "source": [
    "struct list was generated with the following code after reading the files with inferschema = true, then hand modified \n",
    "```\n",
    "'[' + ','.join(['StructField(\"%s\",%s(),True)'% (colnames[idx], str(i.dataType))\n",
    "for idx, i in enumerate(rdd.schema)]) + ']'\n",
    "```"
   ]
  },
  {
   "cell_type": "code",
   "execution_count": 8,
   "metadata": {
    "collapsed": false
   },
   "outputs": [],
   "source": [
    "#print '[\\n    ' + \",\\n    \".join(['StructField(\"%s\",%s(),True)'% (colnames[idx], str(i.dataType))\n",
    "#for idx, i in enumerate(rdd.schema)]) + '\\n]'"
   ]
  },
  {
   "cell_type": "markdown",
   "metadata": {},
   "source": [
    "# Build dataframe with spark"
   ]
  },
  {
   "cell_type": "code",
   "execution_count": 9,
   "metadata": {
    "collapsed": true
   },
   "outputs": [],
   "source": [
    "struct_list = [\n",
    "    StructField(\"timestamp\",TimestampType(),True),\n",
    "    StructField(\"station\",IntegerType(),True),\n",
    "    StructField(\"district\",IntegerType(),True),\n",
    "    StructField(\"freeway\",IntegerType(),True),\n",
    "    StructField(\"direction_of_travel\",StringType(),True),\n",
    "    StructField(\"lanetype\",StringType(),True),\n",
    "    StructField(\"stationlength\",DoubleType(),True),\n",
    "    StructField(\"samples\",IntegerType(),True),\n",
    "    StructField(\"perc_observed\",IntegerType(),True),\n",
    "    StructField(\"totalflow\",IntegerType(),True),\n",
    "    StructField(\"avgoccupancy\",DoubleType(),True),\n",
    "    StructField(\"avgspeed\",DoubleType(),True),\n",
    "    StructField(\"lane1_samples\",IntegerType(),True),\n",
    "    StructField(\"lane1_flow\",IntegerType(),True),\n",
    "    StructField(\"lane1_avgocc\",DoubleType(),True),\n",
    "    StructField(\"lane1_avgspeed\",DoubleType(),True),\n",
    "    StructField(\"lane1_observed\",IntegerType(),True),\n",
    "    StructField(\"lane2_samples\",IntegerType(),True),\n",
    "    StructField(\"lane2_flow\",IntegerType(),True),\n",
    "    StructField(\"lane2_avgocc\",DoubleType(),True),\n",
    "    StructField(\"lane2_avgspeed\",DoubleType(),True),\n",
    "    StructField(\"lane2_observed\",IntegerType(),True),\n",
    "    StructField(\"lane3_samples\",IntegerType(),True),\n",
    "    StructField(\"lane3_flow\",IntegerType(),True),\n",
    "    StructField(\"lane3_avgocc\",DoubleType(),True),\n",
    "    StructField(\"lane3_avgspeed\",DoubleType(),True),\n",
    "    StructField(\"lane3_observed\",IntegerType(),True),\n",
    "    StructField(\"lane4_samples\",IntegerType(),True),\n",
    "    StructField(\"lane4_flow\",IntegerType(),True),\n",
    "    StructField(\"lane4_avgocc\",DoubleType(),True),\n",
    "    StructField(\"lane4_avgspeed\",DoubleType(),True),\n",
    "    StructField(\"lane4_observed\",IntegerType(),True),\n",
    "    StructField(\"lane5_samples\",IntegerType(),True),\n",
    "    StructField(\"lane5_flow\",IntegerType(),True),\n",
    "    StructField(\"lane5_avgocc\",DoubleType(),True),\n",
    "    StructField(\"lane5_avgspeed\",DoubleType(),True),\n",
    "    StructField(\"lane5_observed\",IntegerType(),True),\n",
    "    StructField(\"lane6_samples\",IntegerType(),True),\n",
    "    StructField(\"lane6_flow\",IntegerType(),True),\n",
    "    StructField(\"lane6_avgocc\",DoubleType(),True),\n",
    "    StructField(\"lane6_avgspeed\",DoubleType(),True),\n",
    "    StructField(\"lane6_observed\",IntegerType(),True),\n",
    "    StructField(\"lane7_samples\",IntegerType(),True),\n",
    "    StructField(\"lane7_flow\",IntegerType(),True),\n",
    "    StructField(\"lane7_avgocc\",DoubleType(),True),\n",
    "    StructField(\"lane7_avgspeed\",DoubleType(),True),\n",
    "    StructField(\"lane7_observed\",IntegerType(),True),\n",
    "    StructField(\"lane8_samples\",IntegerType(),True),\n",
    "    StructField(\"lane8_flow\",IntegerType(),True),\n",
    "    StructField(\"lane8_avgocc\",DoubleType(),True),\n",
    "    StructField(\"lane8_avgspeed\",DoubleType(),True),\n",
    "    StructField(\"lane8_observed\",IntegerType(),True)\n",
    "]\n",
    "\n",
    "schema_struct = StructType(struct_list)"
   ]
  },
  {
   "cell_type": "code",
   "execution_count": 10,
   "metadata": {
    "collapsed": false
   },
   "outputs": [
    {
     "data": {
      "text/plain": [
       "[Row(timestamp=datetime.datetime(2015, 2, 20, 0, 0), station=1100313, district=11, freeway=5, direction_of_travel=u'N', lanetype=u'FR', stationlength=None, samples=10, perc_observed=100, totalflow=12, avgoccupancy=None, avgspeed=None, lane1_samples=10, lane1_flow=12, lane1_avgocc=None, lane1_avgspeed=None, lane1_observed=1, lane2_samples=None, lane2_flow=None, lane2_avgocc=None, lane2_avgspeed=None, lane2_observed=0, lane3_samples=None, lane3_flow=None, lane3_avgocc=None, lane3_avgspeed=None, lane3_observed=0, lane4_samples=None, lane4_flow=None, lane4_avgocc=None, lane4_avgspeed=None, lane4_observed=0, lane5_samples=None, lane5_flow=None, lane5_avgocc=None, lane5_avgspeed=None, lane5_observed=0, lane6_samples=None, lane6_flow=None, lane6_avgocc=None, lane6_avgspeed=None, lane6_observed=0, lane7_samples=None, lane7_flow=None, lane7_avgocc=None, lane7_avgspeed=None, lane7_observed=0, lane8_samples=None, lane8_flow=None, lane8_avgocc=None, lane8_avgspeed=None, lane8_observed=0)]"
      ]
     },
     "execution_count": 10,
     "metadata": {},
     "output_type": "execute_result"
    }
   ],
   "source": [
    "#node this is only the first 5 days of files for now\n",
    "files = [data_5min_path + filename for filename in onlyfiles][:90]\n",
    "\n",
    "rdd = spark.read.csv(\n",
    "    files, \n",
    "    header='false',\n",
    "    timestampFormat='MM/dd/yyyy HH:mm:ss',\n",
    "    schema=schema_struct,\n",
    "    inferSchema='false'\n",
    ")\n",
    "    \n",
    "rdd.take(1)"
   ]
  },
  {
   "cell_type": "code",
   "execution_count": 11,
   "metadata": {
    "collapsed": false
   },
   "outputs": [
    {
     "data": {
      "text/plain": [
       "38394402"
      ]
     },
     "execution_count": 11,
     "metadata": {},
     "output_type": "execute_result"
    }
   ],
   "source": [
    "rdd.count()"
   ]
  },
  {
   "cell_type": "markdown",
   "metadata": {},
   "source": [
    "# Get metadata and identify all FR OR and their preceding and antceding station"
   ]
  },
  {
   "cell_type": "code",
   "execution_count": 12,
   "metadata": {
    "collapsed": false
   },
   "outputs": [
    {
     "data": {
      "text/html": [
       "<div>\n",
       "<table border=\"1\" class=\"dataframe\">\n",
       "  <thead>\n",
       "    <tr style=\"text-align: right;\">\n",
       "      <th></th>\n",
       "      <th>id</th>\n",
       "      <th>fwy</th>\n",
       "      <th>dir</th>\n",
       "      <th>district</th>\n",
       "      <th>county</th>\n",
       "      <th>city</th>\n",
       "      <th>state_pm</th>\n",
       "      <th>abs_pm</th>\n",
       "      <th>latitude</th>\n",
       "      <th>longitude</th>\n",
       "      <th>length</th>\n",
       "      <th>type</th>\n",
       "      <th>lanes</th>\n",
       "      <th>name</th>\n",
       "      <th>user_id_1</th>\n",
       "      <th>user_id_2</th>\n",
       "      <th>user_id_3</th>\n",
       "      <th>user_id_4</th>\n",
       "      <th>file_date</th>\n",
       "      <th>freeway</th>\n",
       "    </tr>\n",
       "  </thead>\n",
       "  <tbody>\n",
       "    <tr>\n",
       "      <th>584</th>\n",
       "      <td>1113072</td>\n",
       "      <td>56</td>\n",
       "      <td>W</td>\n",
       "      <td>11</td>\n",
       "      <td>73</td>\n",
       "      <td>66000.0</td>\n",
       "      <td>7.383</td>\n",
       "      <td>7.885</td>\n",
       "      <td>32.955202</td>\n",
       "      <td>-117.124689</td>\n",
       "      <td>0.452</td>\n",
       "      <td>ML</td>\n",
       "      <td>2</td>\n",
       "      <td>Black Mountain Rd</td>\n",
       "      <td>314</td>\n",
       "      <td>NaN</td>\n",
       "      <td>NaN</td>\n",
       "      <td>NaN</td>\n",
       "      <td>01_01</td>\n",
       "      <td>56W</td>\n",
       "    </tr>\n",
       "  </tbody>\n",
       "</table>\n",
       "</div>"
      ],
      "text/plain": [
       "          id  fwy dir  district  county     city state_pm  abs_pm   latitude  \\\n",
       "584  1113072   56   W        11      73  66000.0    7.383   7.885  32.955202   \n",
       "\n",
       "      longitude  length type  lanes               name  user_id_1  user_id_2  \\\n",
       "584 -117.124689   0.452   ML      2  Black Mountain Rd        314        NaN   \n",
       "\n",
       "     user_id_3  user_id_4 file_date freeway  \n",
       "584        NaN        NaN     01_01     56W  "
      ]
     },
     "execution_count": 12,
     "metadata": {},
     "output_type": "execute_result"
    }
   ],
   "source": [
    "def loadMeta():\n",
    "    meta_dir='../data/External/meta/2015/d11/d11_text_meta_2015_*.txt'\n",
    "    meta_files = glob.glob(meta_dir)\n",
    "\n",
    "    meta_file_list = []\n",
    "    for meta_file in meta_files:\n",
    "        date = str('_'.join(meta_file.split('_')[4:7])).split('.')[0]\n",
    "        df = pd.read_table(meta_file, index_col=None, header=0)\n",
    "        date_col = pd.Series([date] * len(df))\n",
    "        df['file_date'] = date_col\n",
    "        # drop rows that are missing latitude / longitude values\n",
    "        #df.dropna(inplace=True, subset=['Latitude', 'Longitude'], how='any')\n",
    "        meta_file_list.append(df)\n",
    "\n",
    "    meta_frame = pd.concat(meta_file_list).drop_duplicates(subset='ID', keep='last')\n",
    "\n",
    "    usefwy = [ 56, 125, 805,  52, 163,   8,  15,   5, 905,  78,  94,  54]\n",
    "\n",
    "    meta_frame = meta_frame[meta_frame.Fwy.apply(lambda x: x in usefwy)]\n",
    "\n",
    "    #Add freeway name FwyDir\n",
    "    meta_frame['freeway'] = meta_frame.Fwy.apply(str) + meta_frame.Dir\n",
    "    \n",
    "    r_c = {}\n",
    "    for c in meta_frame.columns:\n",
    "        r_c[c]=c.lower()\n",
    "    \n",
    "    meta_frame=meta_frame.rename(columns = r_c )\n",
    "    return meta_frame\n",
    "\n",
    "loadMeta().head(1)"
   ]
  },
  {
   "cell_type": "markdown",
   "metadata": {},
   "source": [
    "# Get time min time for time delta"
   ]
  },
  {
   "cell_type": "code",
   "execution_count": 13,
   "metadata": {
    "collapsed": false
   },
   "outputs": [
    {
     "data": {
      "text/plain": [
       "numpy.datetime64('2015-01-01T00:00:00.000000000')"
      ]
     },
     "execution_count": 13,
     "metadata": {},
     "output_type": "execute_result"
    }
   ],
   "source": [
    "station_stats = (\n",
    "    rdd\n",
    "    .agg(\n",
    "        psmax(\"timestamp\").alias(\"timestamp_max\"),\n",
    "        psmin(\"timestamp\").alias(\"timestamp_min\")\n",
    "    )\n",
    "    .toPandas()\n",
    ")\n",
    "station_stats.timestamp_min.values[0]"
   ]
  },
  {
   "cell_type": "code",
   "execution_count": 14,
   "metadata": {
    "collapsed": false
   },
   "outputs": [],
   "source": [
    "#union_rdd_list[0].take(1)"
   ]
  },
  {
   "cell_type": "markdown",
   "metadata": {},
   "source": [
    "# Build the meta data for station order, build fields to organize data "
   ]
  },
  {
   "cell_type": "code",
   "execution_count": 15,
   "metadata": {
    "collapsed": false
   },
   "outputs": [
    {
     "name": "stdout",
     "output_type": "stream",
     "text": [
      "+-----+-------+---+---+------------------+------------------+----+-----+---+---+--------+-----+\n",
      "|index|station|fwy|dir|            abs_pm|            length|type|lanes|NML|IML|flow_mod|order|\n",
      "+-----+-------+---+---+------------------+------------------+----+-----+---+---+--------+-----+\n",
      "|    0|1121740|  5|  S|            72.008|             0.757|  ML|    5|  0|  1|       0|    0|\n",
      "|    1|1121734|  5|  S|            70.878|2.6210000000000004|  ML|    4|  0|  1|       0|    0|\n",
      "|    2|1121728|  5|  S|            68.279|             2.714|  ML|    4|  0|  1|       0|    0|\n",
      "|    3|1121722|  5|  S|            65.449|             1.415|  ML|    4|  0|  1|       0|    0|\n",
      "|    4|1121715|  5|  S| 65.44800000000001|             1.514|  ML|    4|  0|  1|       0|    0|\n",
      "|    5|1121712|  5|  S|            62.419|             2.509|  ML|    4|  0|  1|       0|    0|\n",
      "|    6|1121702|  5|  S|60.428999999999995|             2.045|  ML|    4|  0|  1|       0|    0|\n",
      "|    7|1119997|  5|  S| 58.32899999999999|             1.785|  ML|    4|  0|  1|       0|    0|\n",
      "|    8|1119978|  5|  S|56.858000000000004|             1.235|  ML|    4|  0|  1|       0|    0|\n",
      "|    9|1119966|  5|  S|55.858000000000004|               1.0|  ML|    4|  0|  1|       0|    0|\n",
      "|   10|1119954|  5|  S|54.858000000000004|0.7829999999999999|  ML|    4|  0|  1|       0|    0|\n",
      "|   11|1122257|  5|  S|            54.292|               0.6|  ML|    4|  0|  1|       0|    0|\n",
      "|   12|1122250|  5|  S|            54.292|               NaN|  OR|    3|  1|  0|       1|    2|\n",
      "|   13|1122252|  5|  S|            54.292|               NaN|  FR|    2|  1|  0|      -1|    1|\n",
      "|   14|1115348|  5|  S|            53.658|0.5670000000000001|  ML|    4|  0|  1|       0|    0|\n",
      "|   15|1108674|  5|  S|            53.159|               NaN|  OR|    1|  1|  0|       1|    2|\n",
      "|   16|1113776|  5|  S|            53.158|               NaN|  FR|    2|  1|  0|      -1|    1|\n",
      "|   17|1108672|  5|  S|            53.158|             0.696|  ML|    4|  0|  1|       0|    0|\n",
      "|   18|1108673|  5|  S|            53.158|               NaN|  OR|    2|  1|  0|       1|    1|\n",
      "|   19|1108459|  5|  S|52.266000000000005|             0.932|  ML|    4|  0|  1|       0|    0|\n",
      "+-----+-------+---+---+------------------+------------------+----+-----+---+---+--------+-----+\n",
      "only showing top 20 rows\n",
      "\n"
     ]
    }
   ],
   "source": [
    "# Select wanted columns\n",
    "slice_df = loadMeta().loc[:,['id','fwy','dir','abs_pm','length','type','lanes']]\n",
    "\n",
    "# Select i5s this will be replaced with a groupby to expand to all freeways\n",
    "slice_df = slice_df[slice_df.apply(lambda x: 5 is x.fwy and 'S' in x.dir, axis=1)]\n",
    "\n",
    "# sort group by abs_pm since we will be relying on this order to help us build helper fields\n",
    "slice_df.sort_values('abs_pm', inplace = True, ascending=False)\n",
    "\n",
    "\n",
    "# make our freeways section segments. \n",
    "# This is encoded as block in the slice dataframe, and as segments for the indexes\n",
    "# segments is used to get the preceding and postceding station information\n",
    "slice_df['block'] = slice_df.type.shift(1).apply(lambda x:x in ['ML']).astype(int).cumsum()\n",
    "slice_df = slice_df.reset_index(drop=True)\n",
    "segments = slice_df.reset_index().groupby(['block'])['index'].apply(np.array)\n",
    "\n",
    "# add some helper columns\n",
    "# NML = not main line\n",
    "# IMS = is main line\n",
    "# ctr is used to build type_order\n",
    "slice_df['NML'] = slice_df.type.apply(lambda x: x not in 'ML').astype(int)\n",
    "slice_df['IML'] = slice_df.type.apply(lambda x: x in 'ML').astype(int)\n",
    "slice_df['type_to_int'] = slice_df.type.apply(lambda x: ['ML','OR','FR','HV','FF'].index(x)).astype(int)\n",
    "slice_df['ctr'] = 1\n",
    "\n",
    "\n",
    "type_mod = {\n",
    "    'ML':0,\n",
    "    'OR':1,\n",
    "    'FR':-1,\n",
    "    'HV':0,\n",
    "    'FF':0\n",
    "}\n",
    "\n",
    "slice_df['flow_mod'] = slice_df.type.apply(lambda x: type_mod[x]).astype(int)\n",
    "\n",
    "slice_df['type_order'] = (\n",
    "    slice_df\n",
    "    .loc[::-1]  # reverse list so counting is from 0-x instead of x-0\n",
    "    .groupby(['block','NML','type'])['ctr']\n",
    "    .cumsum()[::-1] - 1  # reverse list again so it is in the correct order subtract 1 so counts start at zero\n",
    ")\n",
    "\n",
    "slice_df['order'] = (\n",
    "    slice_df\n",
    "    .loc[::-1]  # reverse list so counting is from 0-x instead of x-0\n",
    "    .groupby(['block','ctr'])['ctr']\n",
    "    .cumsum()[::-1] -1  # reverse list again so it is in the correct order subtract 1 so counts start at zero\n",
    ")\n",
    "\n",
    "\n",
    "\n",
    "#rename id to station for easy joins with 5minute data drop ctr since it's not very useful now\n",
    "df_slice = slice_df.rename(columns={'id':'station'}).drop(['ctr','block','type_order','type_to_int'],axis=1)\n",
    "\n",
    "#make it a spark dataframe\n",
    "sc_slice = sqlCtx.createDataFrame(df_slice.reset_index())\n",
    "\n",
    "sc_slice.show()"
   ]
  },
  {
   "cell_type": "code",
   "execution_count": 16,
   "metadata": {
    "collapsed": true
   },
   "outputs": [],
   "source": [
    "dtime = udf(\n",
    "    lambda x: x-1,\n",
    "    IntegerType()\n",
    ")\n",
    "\n",
    "delta = udf(\n",
    "    lambda date_time: int((np.datetime64(date_time)-station_stats.timestamp_min.values[0])/np.timedelta64(5,'m')),\n",
    "    IntegerType()\n",
    ")\n",
    "\n",
    "delta_time = udf(\n",
    "    lambda x,y,z: x+y*z,\n",
    "    IntegerType()\n",
    ")\n",
    "\n",
    "fwy_rdd = (\n",
    "    rdd\n",
    "    .where('freeway = 5')\n",
    "    .where('direction_of_travel = \"S\"')\n",
    "    .select('timestamp', 'station', 'totalflow', 'avgoccupancy', 'avgspeed')\n",
    "    .withColumn(\"delta\", delta(rdd.timestamp))\n",
    "    .orderBy('timestamp', ascending=True)\n",
    ")"
   ]
  },
  {
   "cell_type": "code",
   "execution_count": 17,
   "metadata": {
    "collapsed": false
   },
   "outputs": [],
   "source": [
    "union_rdd_list = []\n",
    "\n",
    "station_groups = {}\n",
    "\n",
    "for idx,(p,s,a) in enumerate([segments[i:i + 3] for i in range(0, len(segments)-2, 1)]):\n",
    "    \n",
    "    station_groups[idx]={\n",
    "        'station':list(df_slice.loc[s,'station'].values),\n",
    "        'pre':list(df_slice.loc[p,'station'].values),\n",
    "        'ant':list(df_slice.loc[a,'station'].values),\n",
    "    }\n",
    "    \n",
    "    #print idx, p,s,a\n",
    "    sc_p = (\n",
    "        sc_slice\n",
    "        .withColumn(\"locat\", lit(1))\n",
    "        .withColumn(\"group\", lit(idx))\n",
    "        .withColumn(\"tdelta\", lit(0))\n",
    "    )\n",
    "    sc_p = (\n",
    "        sc_p\n",
    "        .where(' or '.join(['index == %i'%(x) for x in p]))\n",
    "    )\n",
    "    \n",
    "    sc_s = (\n",
    "        sc_slice\n",
    "        .withColumn(\"locat\", lit(0))\n",
    "        .withColumn(\"group\", lit(idx))\n",
    "        .withColumn(\"tdelta\", lit(-1)))\n",
    "    sc_s = (\n",
    "        sc_s\n",
    "        .where(' or '.join(['index == %i'%(x) for x in s]))\n",
    "    )\n",
    "    \n",
    "    sc_a = (\n",
    "        sc_slice\n",
    "        .withColumn(\"locat\", lit(2))\n",
    "        .withColumn(\"group\", lit(idx))\n",
    "        .withColumn(\"tdelta\", lit(0))\n",
    "    )\n",
    "    sc_a = (\n",
    "        sc_a\n",
    "        .where(' or '.join(['index == %i'%(x) for x in a]))\n",
    "    )\n",
    "    \n",
    "    sc_psa = (\n",
    "        sc_s\n",
    "        .union(sc_p)\n",
    "        .union(sc_a)\n",
    "    )\n",
    "    \n",
    "    union_rdd_list.append(sc_psa)\n",
    "    \n",
    "\n",
    "union_rdd = reduce(lambda x,y:x.union(y),union_rdd_list[6:16])   \n",
    "#union_rdd = reduce(lambda x,y:x.union(y),union_rdd_list[0:4])   \n",
    "union_rdd = union_rdd.join(fwy_rdd, 'station').withColumn(\"dtime\", delta_time('delta','tdelta','IML'))"
   ]
  },
  {
   "cell_type": "code",
   "execution_count": 18,
   "metadata": {
    "collapsed": false
   },
   "outputs": [],
   "source": [
    "df = union_rdd.toPandas()"
   ]
  },
  {
   "cell_type": "code",
   "execution_count": 19,
   "metadata": {
    "collapsed": false
   },
   "outputs": [
    {
     "data": {
      "text/plain": [
       "array([ 6, 13, 14, 15, 10, 11, 12,  8,  9,  7])"
      ]
     },
     "execution_count": 19,
     "metadata": {},
     "output_type": "execute_result"
    }
   ],
   "source": [
    "df.group.unique()"
   ]
  },
  {
   "cell_type": "code",
   "execution_count": 20,
   "metadata": {
    "collapsed": false
   },
   "outputs": [],
   "source": [
    "df['delta_flow'] = df.apply(lambda x: x.flow_mod*x.totalflow,axis =1)"
   ]
  },
  {
   "cell_type": "code",
   "execution_count": 21,
   "metadata": {
    "collapsed": false,
    "scrolled": false
   },
   "outputs": [],
   "source": [
    "t_df = (\n",
    "    df\n",
    "    .sort_values(['group','dtime','locat','order'],ascending=[True,True,True,False])\n",
    "    .loc[:,['dtime','station','totalflow','avgoccupancy','delta_flow','locat','order','type','group']]\n",
    "    .fillna(0)\n",
    ")\n",
    "\n",
    "t_df['delta_flow'] = (\n",
    "    t_df\n",
    "    .groupby(['dtime','locat'])['delta_flow']\n",
    "    .cumsum()\n",
    ")\n",
    "\n",
    "t_df = t_df[(t_df.order ==0)]\n",
    "\n",
    "dmin = t_df.dtime.min()\n",
    "dmax = t_df.dtime.max()\n",
    "\n",
    "\n",
    "t_df = t_df[t_df.dtime.apply(lambda x: x > dmin and x < dmax)]"
   ]
  },
  {
   "cell_type": "code",
   "execution_count": null,
   "metadata": {
    "collapsed": true
   },
   "outputs": [],
   "source": []
  },
  {
   "cell_type": "markdown",
   "metadata": {},
   "source": [
    "# Train and find MSE\n",
    "For each segment"
   ]
  },
  {
   "cell_type": "code",
   "execution_count": 22,
   "metadata": {
    "collapsed": false,
    "scrolled": false
   },
   "outputs": [
    {
     "name": "stdout",
     "output_type": "stream",
     "text": [
      "6 (12829, 6) (12829, 2) (12829, 6) (12829, 2)\n",
      "[32.002061591675321, 0.0078425638007133154]\n",
      "[35.161090183335219, 0.013234009412035092]\n",
      "[[  5.77687392e-01   4.57099532e-01   3.57866628e+00  -2.19085029e+02\n",
      "    0.00000000e+00   0.00000000e+00]\n",
      " [  7.70121266e-05  -4.09412861e-06   1.55295952e-01   3.96645758e-01\n",
      "    0.00000000e+00   0.00000000e+00]]\n",
      "7 (12829, 6) (12829, 2) (12829, 6) (12829, 2)\n",
      "[29.796404550683508, 0.0093581571381989755]\n",
      "[31.263049487792117, 0.01363260777326498]\n",
      "[[  4.24676319e-01   4.99462484e-01   5.17638228e+02  -2.76374234e+02\n",
      "    0.00000000e+00   0.00000000e+00]\n",
      " [ -5.04585000e-05  -4.52530868e-05   8.52633079e-01   6.85948399e-01\n",
      "    0.00000000e+00   0.00000000e+00]]\n",
      "8 (12829, 6) (12829, 2) (12829, 6) (12829, 2)\n",
      "[30.22477082652868, 0.0097610255632411373]\n",
      "[31.059676175084672, 0.012144579453782191]\n",
      "[[  5.44554746e-01   4.03264765e-01   1.81200760e+02  -8.15546741e+01\n",
      "    0.00000000e+00   0.00000000e+00]\n",
      " [  1.04888683e-04  -6.80528467e-05   4.16576577e-01   3.37601070e-01\n",
      "    0.00000000e+00   0.00000000e+00]]\n",
      "9 (12829, 6) (12829, 2) (12829, 6) (12829, 2)\n",
      "[32.088839348738212, 0.0086871265696161441]\n",
      "[33.456877649332363, 0.010673089881103723]\n",
      "[[  6.57253598e-01   3.27650079e-01   1.05242634e+02  -1.21033950e+02\n",
      "    0.00000000e+00   0.00000000e+00]\n",
      " [  8.42548400e-05  -3.70058010e-05   3.67340998e-01   3.58156707e-01\n",
      "    0.00000000e+00   0.00000000e+00]]\n",
      "10 (12829, 6) (12829, 2) (12829, 6) (12829, 2)\n",
      "[31.902931143759972, 0.01435629239613714]\n",
      "[31.492643251139018, 0.019247804651775675]\n",
      "[[  3.84885937e-01   4.75611888e-01   3.25327080e+02  -1.85676166e+01\n",
      "    0.00000000e+00  -2.62364463e-02]\n",
      " [  1.05460628e-05  -1.25526025e-04   9.67726921e-01   4.22606199e-01\n",
      "    0.00000000e+00   6.71320998e-05]]\n",
      "11 (12829, 6) (12829, 2) (12829, 6) (12829, 2)\n",
      "[30.13936325211143, 0.01753807908286005]\n",
      "[31.058840785771977, 0.022273539958960264]\n",
      "[[  5.13406507e-01   3.36386154e-01   2.63047856e+01  -8.14522766e+01\n",
      "    4.34710046e-01   9.55543756e-02]\n",
      " [  7.49935568e-05  -1.19585740e-04   5.42394480e-01   6.58719482e-01\n",
      "    2.30158728e-05   1.00602546e-04]]\n",
      "12 (12829, 6) (12829, 2) (12829, 6) (12829, 2)\n",
      "[33.83982526253925, 0.015512431471499872]\n",
      "[34.350276604730141, 0.019396241491192349]\n",
      "[[  3.25529067e-01   6.12475105e-01   7.74294753e+01  -4.65258974e+01\n",
      "   -6.98096979e-02   2.04233369e-01]\n",
      " [  5.98593318e-05  -4.68501078e-05   4.50598087e-01   4.67956981e-01\n",
      "   -2.06653997e-04   2.16189490e-04]]\n",
      "13 (12829, 6) (12829, 2) (12829, 6) (12829, 2)\n",
      "[30.862645672313612, 0.019727384865330513]\n",
      "[31.917952538198268, 0.023638575747036077]\n",
      "[[  4.43877027e-01   4.70523720e-01   1.03216491e+02  -2.26592669e+02\n",
      "    1.67336967e-01   8.70850093e-02]\n",
      " [  1.00664036e-04  -1.46792082e-04   5.96856749e-01   5.38591975e-01\n",
      "   -3.16876719e-05   5.33806245e-05]]\n",
      "14 (12829, 6) (12829, 2) (12829, 6) (12829, 2)\n",
      "[32.232859329917638, 0.016283103542737903]\n",
      "[32.419153436005715, 0.01750527833704283]\n",
      "[[  6.76493909e-01   2.72947652e-01   9.93660586e+01  -6.60045583e+01\n",
      "    8.97782009e-01  -6.69835504e-01]\n",
      " [  1.47597788e-04  -4.96976370e-05   3.38706659e-01   2.73198183e-01\n",
      "    1.08676358e-04   1.02063031e-05]]\n",
      "15 (12829, 6) (12829, 2) (12829, 6) (12829, 2)\n",
      "[34.646047356783434, 0.015053527237027891]\n",
      "[34.279298134469805, 0.01574344804718672]\n",
      "[[  1.72468259e-01   7.28757667e-01  -1.48196955e+01   4.79770964e+01\n",
      "    3.07566012e-01  -5.45437503e-02]\n",
      " [ -2.27772531e-05   4.73425406e-05   1.97565662e-01   5.63934179e-01\n",
      "   -5.79794760e-05   9.72029457e-05]]\n"
     ]
    }
   ],
   "source": [
    "segments = {}\n",
    "\n",
    "for g,g_df in t_df.groupby('group'):\n",
    "    Y_tdf = (\n",
    "        g_df[(g_df.locat==0)]#[1:]\n",
    "        .set_index(['dtime','locat'])\n",
    "        .loc[:,['totalflow','avgoccupancy']]\n",
    "        .unstack()\n",
    "        .fillna(0)\n",
    "    )\n",
    "    \n",
    "    X_tdf = (\n",
    "        g_df[~(g_df.locat==0)]#[:-2]\n",
    "        .set_index(['dtime','locat'])\n",
    "        .loc[:,['totalflow','avgoccupancy']]\n",
    "        .unstack()\n",
    "        .fillna(0)\n",
    "    )\n",
    "    \n",
    "    D_tdf = (\n",
    "        g_df[~(g_df.locat==1)]#[1:-2]\n",
    "        .set_index(['dtime','locat'])\n",
    "        .loc[:,['delta_flow']]\n",
    "        .unstack()\n",
    "        .fillna(0)\n",
    "    )\n",
    "    \n",
    "    X_tdf = X_tdf.join(D_tdf)\n",
    "    \n",
    "    station_lookup = (\n",
    "        g_df\n",
    "        .set_index(['locat'])\n",
    "        .loc[:,['station']]\n",
    "        .drop_duplicates()\n",
    "        #.unstack()\n",
    "        .fillna(0)\n",
    "    )\n",
    "    \n",
    "    X_cols = X_tdf.columns#.values#[' '.join([str(c) for c in col]) for col in X_tdf.columns.values]\n",
    "    Y_cols = Y_tdf.columns#.values#[' '.join([str(c) for c in col]) for col in Y_tdf.columns.values]\n",
    "    \n",
    "    X_train = X_tdf.iloc[:len(X_tdf)/2]\n",
    "    X_test = X_tdf.iloc[len(X_tdf)/2:]\n",
    "    \n",
    "    Y_train = Y_tdf.iloc[:len(Y_tdf)/2]\n",
    "    Y_test = Y_tdf.iloc[len(Y_tdf)/2:]\n",
    "    \n",
    "    print g, X_test.shape, Y_test.shape, X_train.shape, Y_train.shape\n",
    "    \n",
    "    reg = linear_model.LinearRegression()\n",
    "    reg.fit(X_train, Y_train)\n",
    "    Y_pred =  reg.predict(X_train)\n",
    "    print list(np.sqrt(mean_squared_error(Y_train, Y_pred, multioutput='raw_values')))\n",
    "\n",
    "    Y_pred =  reg.predict(X_test)\n",
    "    Y_pred = pd.DataFrame( Y_pred, columns=Y_cols) \n",
    "    print list(np.sqrt(mean_squared_error(Y_test, Y_pred, multioutput='raw_values')))\n",
    "\n",
    "    print reg.coef_\n",
    "    \n",
    "    #print pd.DataFrame(reg.coef_, columns=datacols, index =datarows)\n",
    "    \n",
    "    segments[g] = {\n",
    "        'reg':reg,\n",
    "        'X_train':X_train,\n",
    "        'X_test':X_test,\n",
    "        'Y_train':Y_train,\n",
    "        'Y_test':Y_test,\n",
    "        'Y_pred':Y_pred,\n",
    "        'Y_cols':X_cols,\n",
    "        'Y_cols':Y_cols,\n",
    "        'stations':station_groups[g],\n",
    "        'station_lookup':station_lookup\n",
    "    }\n",
    "    \n",
    "    "
   ]
  },
  {
   "cell_type": "code",
   "execution_count": 23,
   "metadata": {
    "collapsed": false
   },
   "outputs": [
    {
     "data": {
      "text/plain": [
       "((25658, 2), (25658, 6), (25661, 2))"
      ]
     },
     "execution_count": 23,
     "metadata": {},
     "output_type": "execute_result"
    }
   ],
   "source": [
    "Y_tdf.shape,X_tdf.shape, D_tdf.shape"
   ]
  },
  {
   "cell_type": "code",
   "execution_count": 24,
   "metadata": {
    "collapsed": false
   },
   "outputs": [
    {
     "data": {
      "text/plain": [
       "[6, 7, 8, 9, 10, 11, 12, 13, 14, 15]"
      ]
     },
     "execution_count": 24,
     "metadata": {},
     "output_type": "execute_result"
    }
   ],
   "source": [
    "sorted(segments.keys())"
   ]
  },
  {
   "cell_type": "markdown",
   "metadata": {},
   "source": [
    "# Build the freeway traffic model"
   ]
  },
  {
   "cell_type": "code",
   "execution_count": 25,
   "metadata": {
    "collapsed": false
   },
   "outputs": [
    {
     "name": "stderr",
     "output_type": "stream",
     "text": [
      "/Users/multidest/anaconda/lib/python2.7/site-packages/pandas/core/indexing.py:549: SettingWithCopyWarning: \n",
      "A value is trying to be set on a copy of a slice from a DataFrame.\n",
      "Try using .loc[row_indexer,col_indexer] = value instead\n",
      "\n",
      "See the caveats in the documentation: http://pandas.pydata.org/pandas-docs/stable/indexing.html#indexing-view-versus-copy\n",
      "  self.obj[item_labels[indexer[info_axis]]] = value\n"
     ]
    }
   ],
   "source": [
    "#get order of segments\n",
    "sorted_segments = sorted(segments.keys())\n",
    "\n",
    "#initialize all the stations with t=0 values\n",
    "last_pred = {}\n",
    "last_pred[0]={}\n",
    "for s in sorted_segments:\n",
    "    y_test = segments[s]['Y_test'].iloc[[0],:]\n",
    "    last_pred[0][s]=y_test\n",
    "\n",
    "#now we want to pull the  t-1 traffic prediction for each station segment\n",
    "#updating the test values with the predicted values for the s+1 and s-1 stations\n",
    "for t in range(1,500):\n",
    "    last_pred[t]={}\n",
    "    \n",
    "    #intitalize first segment at t with real data\n",
    "    first_segment = sorted_segments[0]\n",
    "    y_test = segments[first_segment]['Y_test'].iloc[[t],:]\n",
    "    last_pred[t][first_segment] = y_test\n",
    "    \n",
    "    #initialize last segment at t with real data\n",
    "    last_segment = sorted(segments.keys())[-1]\n",
    "    y_test = segments[last_segment]['Y_test'].iloc[[t],:]\n",
    "    last_pred[t][last_segment] = y_test\n",
    "    \n",
    "    #predict for segmets between first and last segment at t\n",
    "    for s in sorted_segments[1:-1]:\n",
    "        x_test = segments[s]['X_test'].iloc[[t],:]\n",
    "        \n",
    "        #load x_test for real ramp values and predicted s-1 and s+1  y_pred  data from from t-1\n",
    "        for idx1, i in enumerate(['totalflow','avgoccupancy']):\n",
    "            for idx, p in enumerate([-1,1]):\n",
    "                x_test.loc[:,(i,idx+1)] = last_pred[t-1][s+p].loc[:,i].loc[:,0].values[0]\n",
    "\n",
    "        #perform prediction\n",
    "        y_pred = segments[s]['reg'].predict(x_test)\n",
    "        y_pred = pd.DataFrame(y_pred, columns=segments[s]['Y_cols'])\n",
    "        \n",
    "        #store prediction\n",
    "        last_pred[t][s] = y_pred"
   ]
  },
  {
   "cell_type": "code",
   "execution_count": null,
   "metadata": {
    "collapsed": false
   },
   "outputs": [],
   "source": []
  },
  {
   "cell_type": "code",
   "execution_count": 26,
   "metadata": {
    "collapsed": false,
    "scrolled": false
   },
   "outputs": [
    {
     "name": "stdout",
     "output_type": "stream",
     "text": [
      "   Time:  Flow Error : Occ Error\n",
      "       Segment:\n",
      "      0:\n",
      "             6:  00000.00   : 000.0000\n",
      "             7:  00000.00   : 000.0000\n",
      "             8:  00000.00   : 000.0000\n",
      "             9:  00000.00   : 000.0000\n",
      "            10:  00000.00   : 000.0000\n",
      "            11:  00000.00   : 000.0000\n",
      "            12:  00000.00   : 000.0000\n",
      "            13:  00000.00   : 000.0000\n",
      "            14:  00000.00   : 000.0000\n",
      "            15:  00000.00   : 000.0000\n"
     ]
    }
   ],
   "source": [
    "#check error Print \n",
    "print '   Time:  Flow Error : Occ Error'\n",
    "print '       Segment:'\n",
    "for t in sorted(last_pred.keys()):\n",
    "    print '%7i:'%(t*5) \n",
    "    \n",
    "    for s in sorted_segments:\n",
    "        y_test = segments[s]['Y_test'].iloc[[t],:]\n",
    "        y_pred = last_pred[t][s]\n",
    "        \n",
    "        error_list = list(np.sqrt(mean_squared_error(y_test, y_pred, multioutput='raw_values')))\n",
    "        \n",
    "        print '%14i:  %08.2f   : %08.4f'%(s,error_list[0],error_list[1])\n",
    "        \n",
    "    break"
   ]
  },
  {
   "cell_type": "code",
   "execution_count": 27,
   "metadata": {
    "collapsed": false
   },
   "outputs": [],
   "source": [
    "#check error plot\n",
    "\n",
    "\n",
    "data = [] \n",
    "\n",
    "for t in sorted(last_pred.keys()):\n",
    "    for s in sorted_segments:\n",
    "        y_test = segments[s]['Y_test'].iloc[[t],:].values\n",
    "        y_pred = last_pred[t][s].values\n",
    "        \n",
    "        error_list = list(np.sqrt(mean_squared_error(y_test, y_pred, multioutput='raw_values')))\n",
    "        \n",
    "        data.append([t,s,error_list[0],error_list[1]])\n",
    "error_df = pd.DataFrame(data,columns=['time','segment','flow','occ'])"
   ]
  },
  {
   "cell_type": "code",
   "execution_count": null,
   "metadata": {
    "collapsed": false
   },
   "outputs": [],
   "source": []
  },
  {
   "cell_type": "code",
   "execution_count": 28,
   "metadata": {
    "collapsed": false
   },
   "outputs": [
    {
     "data": {
      "text/plain": [
       "<matplotlib.axes._subplots.AxesSubplot at 0x1454164d0>"
      ]
     },
     "execution_count": 28,
     "metadata": {},
     "output_type": "execute_result"
    },
    {
     "data": {
      "image/png": "[encoded data removed]",
      "text/plain": [
       "<matplotlib.figure.Figure at 0x11884fc10>"
      ]
     },
     "metadata": {},
     "output_type": "display_data"
    },
    {
     "data": {
      "image/png": "[encoded data removed]",
      "text/plain": [
       "<matplotlib.figure.Figure at 0x11884f9d0>"
      ]
     },
     "metadata": {},
     "output_type": "display_data"
    },
    {
     "data": {
      "image/png": "[encoded data removed]",
      "text/plain": [
       "<matplotlib.figure.Figure at 0x145857750>"
      ]
     },
     "metadata": {},
     "output_type": "display_data"
    },
    {
     "data": {
      "image/png": "[encoded data removed]",
      "text/plain": [
       "<matplotlib.figure.Figure at 0x1456cd550>"
      ]
     },
     "metadata": {},
     "output_type": "display_data"
    }
   ],
   "source": [
    "error_df.groupby('time').mean().plot(y='flow')\n",
    "error_df.groupby('time').mean().plot(y='occ')\n",
    "error_df.groupby('segment').mean().plot(y='flow')\n",
    "error_df.groupby('segment').mean().plot(y='occ')"
   ]
  },
  {
   "cell_type": "code",
   "execution_count": null,
   "metadata": {
    "collapsed": false,
    "scrolled": false
   },
   "outputs": [],
   "source": []
  },
  {
   "cell_type": "code",
   "execution_count": null,
   "metadata": {
    "collapsed": true
   },
   "outputs": [],
   "source": []
  },
  {
   "cell_type": "code",
   "execution_count": null,
   "metadata": {
    "collapsed": false,
    "scrolled": false
   },
   "outputs": [],
   "source": [
    "def plotall():\n",
    "    print list(np.max(Y_test,axis=0))\n",
    "    print list(np.min(Y_test,axis=0))\n",
    "\n",
    "    plt.figure()\n",
    "    plt.plot(Y_pred.values[:,0])\n",
    "    plt.plot(Y_test.values[:,0])\n",
    "    plt.plot()\n",
    "\n",
    "    plt.figure()\n",
    "    plt.plot(Y_pred.values[:,1])\n",
    "    plt.plot(Y_test.values[:,1])\n",
    "    plt.plot()\n",
    "\n",
    "    plt.figure()\n",
    "    plt.plot(Y_test.values[:,0],Y_test.values[:,0],'o')\n",
    "    plt.plot(Y_test.values[:,0],Y_pred.values[:,0],'.')\n",
    "    plt.plot()\n",
    "\n",
    "    plt.figure()\n",
    "    sns.kdeplot(Y_test.values[:,0],Y_test.values[:,0])\n",
    "    plt.plot()\n",
    "\n",
    "    plt.figure()\n",
    "    sns.kdeplot(Y_test.values[:,0],Y_pred.values[:,0])\n",
    "    plt.plot()\n",
    "\n",
    "    print X_test.shape\n",
    "\n",
    "    plt.figure()\n",
    "    plt.plot(X_test.values[:,0],Y_test.values[:,0],'.')\n",
    "    plt.plot(X_test.values[:,0],Y_pred.values[:,0],'.')\n",
    "\n",
    "    print X_test.shape\n",
    "\n",
    "    #for flow\n",
    "    for i in range(0, X_test.shape[1], 1):\n",
    "        plt.figure()\n",
    "        plt.plot(X_test.values[:,i],Y_test.values[:,0],'.')\n",
    "        plt.plot(X_test.values[:,i],Y_pred.values[:,0],'.')\n",
    "        plt.plot()\n",
    "\n",
    "        #plt.figure()\n",
    "        #sns.kdeplot(X_test[:,i],Y_test[:,0])\n",
    "        #plt.plot()\n",
    "        #plt.figure()\n",
    "        #sns.kdeplot(X_test[:,i],Y_pred[:,0])\n",
    "        #plt.plot()\n",
    "\n",
    "    #for occupancy\n",
    "    for i in range(0, X_test.shape[1], 1):\n",
    "        plt.figure()\n",
    "        plt.plot(X_test.values[:,i],Y_test.values[:,1],'.')\n",
    "        plt.plot(X_test.values[:,i],Y_pred.values[:,1],'.')\n",
    "        plt.plot()\n",
    "\n",
    "        #plt.figure()\n",
    "        #sns.kdeplot(X_test[:,i],Y_test[:,1])\n",
    "        #plt.plot()\n",
    "        #plt.figure()\n",
    "        #sns.kdeplot(X_test[:,i],Y_pred[:,1])\n",
    "        #plt.plot()\n",
    "        \n",
    "plotall()"
   ]
  },
  {
   "cell_type": "code",
   "execution_count": null,
   "metadata": {
    "collapsed": true
   },
   "outputs": [],
   "source": []
  },
  {
   "cell_type": "code",
   "execution_count": null,
   "metadata": {
    "collapsed": true
   },
   "outputs": [],
   "source": []
  },
  {
   "cell_type": "markdown",
   "metadata": {
    "collapsed": true
   },
   "source": [
    "# Old stuff"
   ]
  },
  {
   "cell_type": "code",
   "execution_count": null,
   "metadata": {
    "collapsed": true
   },
   "outputs": [],
   "source": [
    "clf = KernelRidge(alpha=1.0)\n",
    "clf.fit(X_train, Y_train)\n",
    "Y_pred =  clf.predict(X_train)\n",
    "print list(np.sqrt(mean_squared_error(Y_train,Y_pred,multioutput='raw_values')))\n",
    "\n",
    "Y_pred =  clf.predict(X_test)\n",
    "print list(np.sqrt(mean_squared_error(Y_test,Y_pred,multioutput='raw_values')))"
   ]
  }
 ],
 "metadata": {
  "anaconda-cloud": {},
  "kernelspec": {
   "display_name": "Python [default]",
   "language": "python",
   "name": "python2"
  },
  "language_info": {
   "codemirror_mode": {
    "name": "ipython",
    "version": 2
   },
   "file_extension": ".py",
   "mimetype": "text/x-python",
   "name": "python",
   "nbconvert_exporter": "python",
   "pygments_lexer": "ipython2",
   "version": "2.7.12"
  }
 },
 "nbformat": 4,
 "nbformat_minor": 2
}
