{
 "cells": [
  {
   "cell_type": "code",
   "execution_count": 102,
   "metadata": {
    "collapsed": true
   },
   "outputs": [],
   "source": [
    "from os.path import expanduser\n",
    "import pandas as pd\n",
    "import simplejson\n",
    "import numpy as np\n",
    "import urllib\n",
    "import json\n",
    "import glob"
   ]
  },
  {
   "cell_type": "markdown",
   "metadata": {},
   "source": [
    "# Generate Metadata File for 2008 to 2015"
   ]
  },
  {
   "cell_type": "code",
   "execution_count": 100,
   "metadata": {
    "collapsed": false
   },
   "outputs": [
    {
     "name": "stdout",
     "output_type": "stream",
     "text": [
      "\u001b[34m2008\u001b[m\u001b[m \u001b[34m2009\u001b[m\u001b[m \u001b[34m2010\u001b[m\u001b[m \u001b[34m2011\u001b[m\u001b[m \u001b[34m2012\u001b[m\u001b[m \u001b[34m2013\u001b[m\u001b[m \u001b[34m2014\u001b[m\u001b[m \u001b[34m2015\u001b[m\u001b[m \u001b[34m2016\u001b[m\u001b[m\r\n"
     ]
    }
   ],
   "source": [
    "!ls ../data/meta"
   ]
  },
  {
   "cell_type": "code",
   "execution_count": 104,
   "metadata": {
    "collapsed": false
   },
   "outputs": [
    {
     "name": "stdout",
     "output_type": "stream",
     "text": [
      "['../data/meta/2008/d11/d11_text_meta_2007_09_21.txt', '../data/meta/2008/d11/d11_text_meta_2008_03_06.txt', '../data/meta/2008/d11/d11_text_meta_2008_04_15.txt', '../data/meta/2008/d11/d11_text_meta_2008_04_16.txt', '../data/meta/2008/d11/d11_text_meta_2008_04_18.txt']\n"
     ]
    }
   ],
   "source": [
    "meta_dir = '../data/meta/*/d11/*text_meta_*.txt'\n",
    "meta_files = glob.glob(meta_dir)\n",
    "meta_file_list = []\n",
    "for meta_file in meta_files:\n",
    "    date = str('_'.join(meta_file.split('_')[4:7])).split('.')[0]\n",
    "    df = pd.read_table(meta_file, index_col=None, header=0)\n",
    "    date_col = pd.Series([date] * len(df))\n",
    "    df['file_date'] = date_col\n",
    "    meta_file_list.append(df)\n",
    "    \n",
    "print meta_files[0:5]\n",
    "meta_frame = pd.concat(meta_file_list)"
   ]
  },
  {
   "cell_type": "code",
   "execution_count": 105,
   "metadata": {
    "collapsed": false
   },
   "outputs": [
    {
     "name": "stdout",
     "output_type": "stream",
     "text": [
      "unique count of stations: 1783\n",
      "\n",
      "distribution of Types of stations\n"
     ]
    },
    {
     "data": {
      "text/plain": [
       "ML    979\n",
       "OR    344\n",
       "FR    263\n",
       "HV    106\n",
       "FF     81\n",
       "CH      7\n",
       "CD      3\n",
       "Name: Type, dtype: int64"
      ]
     },
     "execution_count": 105,
     "metadata": {},
     "output_type": "execute_result"
    }
   ],
   "source": [
    "# the type in the meta data are just the detector types.  Need to analyze the \"change\" that cohort 1 referred to\n",
    "no_dup_keep_last = meta_frame.drop_duplicates(subset='ID', keep='last') # TODO: assuming meta and 5min agree on freeway type...check?\n",
    "print \"unique count of stations: %s\" % no_dup_keep_last.shape[0]\n",
    "\n",
    "print \"\\ndistribution of Types of stations\"\n",
    "no_dup_keep_last.Type.value_counts()"
   ]
  },
  {
   "cell_type": "code",
   "execution_count": 106,
   "metadata": {
    "collapsed": true
   },
   "outputs": [],
   "source": [
    "no_dup_keep_last.to_csv('../data/meta_2008_2015.csv')"
   ]
  },
  {
   "cell_type": "code",
   "execution_count": 107,
   "metadata": {
    "collapsed": false
   },
   "outputs": [
    {
     "data": {
      "text/plain": [
       "array(['ML', 'OR', 'FR', 'FF', 'HV', 'CD', 'CH'], dtype=object)"
      ]
     },
     "execution_count": 107,
     "metadata": {},
     "output_type": "execute_result"
    }
   ],
   "source": [
    "no_dup_keep_last.Type.unique()"
   ]
  },
  {
   "cell_type": "code",
   "execution_count": 231,
   "metadata": {
    "collapsed": true
   },
   "outputs": [],
   "source": [
    "def create_freeway_vectors(frame_to_use, columns_to_select=['ID', 'Latitude', 'Longitude', 'Abs_PM', 'Lanes']):\n",
    "    frame_to_use = frame_to_use[frame_to_use.Type == 'ML']\n",
    "    to_loop = frame_to_use.groupby(['Fwy', 'Dir'])['ID'].count().reset_index()[['Fwy', 'Dir']].values\n",
    "\n",
    "    ret = {}\n",
    "    for Fwy, Dir in to_loop:\n",
    "        if Dir == \"N\":\n",
    "            sort_order = ('Abs_PM', True)        \n",
    "        elif Dir == \"S\":\n",
    "            sort_order = ('Abs_PM', True)        \n",
    "        elif Dir == \"E\":\n",
    "            sort_order = ('Abs_PM', True)        \n",
    "        elif Dir == \"W\":\n",
    "            sort_order = ('Abs_PM', True)\n",
    "        \n",
    "        \n",
    "        tmp = frame_to_use[(frame_to_use.Fwy == Fwy) & (frame_to_use.Dir == Dir)]\\\n",
    "            .sort_values(by=sort_order[0], ascending=sort_order[1])[columns_to_select] # .drop_duplicates()\n",
    "        tmp['order'] = pd.Series(index=tmp.index, data=sorted(range(0, len(tmp.ID)), reverse=(not sort_order[1])))\n",
    "        ret[\"%s_%s\" % (Fwy, Dir)] = tmp\n",
    "    return ret "
   ]
  },
  {
   "cell_type": "code",
   "execution_count": 206,
   "metadata": {
    "collapsed": true
   },
   "outputs": [],
   "source": [
    "def sorted_func(x):\n",
    "    values = x.split('_')\n",
    "    Fwy = int(values[0])\n",
    "    Dir = values[1]\n",
    "    if Dir == 'N' or Dir == 'E':\n",
    "        dir_weight = 0\n",
    "    else:\n",
    "        dir_weight = 1\n",
    "    return Fwy + dir_weight"
   ]
  },
  {
   "cell_type": "code",
   "execution_count": 277,
   "metadata": {
    "collapsed": false
   },
   "outputs": [],
   "source": [
    "freeway_vectors_update = create_freeway_vectors(\n",
    "    no_dup_keep_last, [u'ID', u'Fwy', u'Dir', u'Abs_PM', u'Latitude', u'Longitude', u'Lanes', u'Name', 'Type'])"
   ]
  },
  {
   "cell_type": "code",
   "execution_count": 278,
   "metadata": {
    "collapsed": false
   },
   "outputs": [
    {
     "data": {
      "text/plain": [
       "['5_N',\n",
       " '5_S',\n",
       " '8_E',\n",
       " '8_W',\n",
       " '15_N',\n",
       " '15_S',\n",
       " '52_E',\n",
       " '52_W',\n",
       " '54_E',\n",
       " '54_W',\n",
       " '56_E',\n",
       " '56_W',\n",
       " '78_E',\n",
       " '78_W',\n",
       " '94_E',\n",
       " '94_W',\n",
       " '125_N',\n",
       " '125_S',\n",
       " '163_N',\n",
       " '163_S',\n",
       " '805_N',\n",
       " '805_S',\n",
       " '905_E',\n",
       " '905_W']"
      ]
     },
     "execution_count": 278,
     "metadata": {},
     "output_type": "execute_result"
    }
   ],
   "source": [
    "freeway_keys = sorted(freeway_vectors_update.keys(), key=sorted_func)\n",
    "freeway_keys"
   ]
  },
  {
   "cell_type": "code",
   "execution_count": 279,
   "metadata": {
    "collapsed": false
   },
   "outputs": [
    {
     "name": "stdout",
     "output_type": "stream",
     "text": [
      "ID                        1114091\n",
      "Fwy                             5\n",
      "Dir                             N\n",
      "Abs_PM                      0.057\n",
      "Latitude                  32.5428\n",
      "Longitude                 -117.03\n",
      "Lanes                           6\n",
      "Name         N/O CMNO DE LA PLAZA\n",
      "Type                           ML\n",
      "order                           0\n",
      "Name: 730, dtype: object\n",
      "1114091\n"
     ]
    }
   ],
   "source": [
    "for ind, i in freeway_vectors_update['5_N'].iterrows():\n",
    "    print i\n",
    "    print i['ID']\n",
    "    break"
   ]
  },
  {
   "cell_type": "markdown",
   "metadata": {},
   "source": [
    "# Create geojson using 2008 through 2015 data"
   ]
  },
  {
   "cell_type": "code",
   "execution_count": 235,
   "metadata": {
    "collapsed": true
   },
   "outputs": [],
   "source": [
    "# data for all districts if decide to upscale\n",
    "# from pyspark.sql.functions import hour, mean,minute, stddev, count,max as psmax,min as psmin, date_format, \\\n",
    "#     split, explode\n",
    "\n",
    "# from pyspark.sql import SQLContext\n",
    "# from pyspark.sql import Row\n",
    "# from pyspark.sql.types import *\n",
    "# from pyspark.sql import DataFrameReader"
   ]
  },
  {
   "cell_type": "code",
   "execution_count": 236,
   "metadata": {
    "collapsed": false
   },
   "outputs": [],
   "source": [
    "# spark_df = spark.read.format(\"com.databricks.spark.csv\").option(\"header\", \"true\") \\\n",
    "#     .option(\"mode\", \"DROPMALFORMED\") \\\n",
    "#     .load('../data/stats_2008_2015_d11.csv');\n",
    "\n",
    "# spark_df.show()"
   ]
  },
  {
   "cell_type": "code",
   "execution_count": 237,
   "metadata": {
    "collapsed": false
   },
   "outputs": [
    {
     "data": {
      "text/plain": [
       "Index([u'station', u'hour', u'minute', u'flow_mean'], dtype='object')"
      ]
     },
     "execution_count": 237,
     "metadata": {},
     "output_type": "execute_result"
    }
   ],
   "source": [
    "df_new = pd.read_csv('../data/weekday_stats_2008_2015_d11.csv', usecols=range(1,5))\n",
    "df_new.columns"
   ]
  },
  {
   "cell_type": "code",
   "execution_count": 238,
   "metadata": {
    "collapsed": false
   },
   "outputs": [
    {
     "data": {
      "text/plain": [
       "Index([u'ID', u'Fwy', u'Dir', u'District', u'County', u'City', u'State_PM',\n",
       "       u'Abs_PM', u'Latitude', u'Longitude', u'Length', u'Type', u'Lanes',\n",
       "       u'Name', u'User_ID_1', u'User_ID_2', u'User_ID_3', u'User_ID_4',\n",
       "       u'file_date'],\n",
       "      dtype='object')"
      ]
     },
     "execution_count": 238,
     "metadata": {},
     "output_type": "execute_result"
    }
   ],
   "source": [
    "no_dup_keep_last.columns"
   ]
  },
  {
   "cell_type": "code",
   "execution_count": 239,
   "metadata": {
    "collapsed": false
   },
   "outputs": [
    {
     "name": "stdout",
     "output_type": "stream",
     "text": [
      "[ 94  78   5 805 125   8 163  15  52 905  56  54  67]\n"
     ]
    }
   ],
   "source": [
    "print no_dup_keep_last.Fwy.unique()"
   ]
  },
  {
   "cell_type": "code",
   "execution_count": 240,
   "metadata": {
    "collapsed": false
   },
   "outputs": [
    {
     "data": {
      "text/plain": [
       "Index([u'station', u'hour', u'minute', u'flow_mean'], dtype='object')"
      ]
     },
     "execution_count": 240,
     "metadata": {},
     "output_type": "execute_result"
    }
   ],
   "source": [
    "df_new.columns"
   ]
  },
  {
   "cell_type": "code",
   "execution_count": 257,
   "metadata": {
    "collapsed": true
   },
   "outputs": [],
   "source": [
    "df_new['Time'] = pd.to_datetime(df_new['hour'].astype('str') + ':' + df_new['minute'].astype('str'),\n",
    "                                format='%H:%M').dt.time"
   ]
  },
  {
   "cell_type": "code",
   "execution_count": 276,
   "metadata": {
    "collapsed": false
   },
   "outputs": [
    {
     "data": {
      "text/plain": [
       "array([1108341, datetime.time(0, 0), 51.48754789270001], dtype=object)"
      ]
     },
     "execution_count": 276,
     "metadata": {},
     "output_type": "execute_result"
    }
   ],
   "source": [
    "test = df_new[['station', 'Time', 'flow_mean']].as_matrix()\n",
    "test"
   ]
  },
  {
   "cell_type": "code",
   "execution_count": 250,
   "metadata": {
    "collapsed": false
   },
   "outputs": [],
   "source": [
    "# complete_with_meta = pd.merge(df_new, no_dup_keep_last[['ID', 'District', 'County', 'City', 'State_PM', 'Abs_PM',\n",
    "#                                                       'Latitude', 'Longitude', 'Name', 'Lanes', 'Type', 'Fwy',\n",
    "#                                                       'Dir']], how='left', left_on='station',\n",
    "#                               right_on='ID')\n",
    "# complete_with_meta['Time'] = pd.to_datetime(complete_with_meta['hour'].astype('str') + ':' + \\\n",
    "#                                             complete_with_meta['minute'].astype('str'),\n",
    "#                                 format='%H:%M').dt.time"
   ]
  },
  {
   "cell_type": "code",
   "execution_count": 217,
   "metadata": {
    "collapsed": false
   },
   "outputs": [],
   "source": [
    "# average_day = []\n",
    "# for key in freeway_keys:\n",
    "#     Fwy, Dir = key.split('_')\n",
    "#     tmp = complete_with_meta[(complete_with_meta.Fwy == int(Fwy)) & (complete_with_meta.Dir == Dir)]\n",
    "#     average_day.append(tmp.groupby('ID')['flow_mean'].mean())\n",
    "# df_avg = pd.concat(average_day)"
   ]
  },
  {
   "cell_type": "code",
   "execution_count": 218,
   "metadata": {
    "collapsed": false
   },
   "outputs": [],
   "source": [
    "# complete_with_meta_avg = pd.merge(pd.DataFrame(df_avg).reset_index(),\n",
    "#                                   no_dup_keep_last[['ID', 'District', 'County', 'City', 'State_PM', 'Abs_PM',\n",
    "#                                                     'Latitude', 'Longitude', 'Name', 'Lanes', 'Type', 'Fwy',\n",
    "#                                                     'Dir']], how='left', left_on='ID',\n",
    "#                               right_on='ID')"
   ]
  },
  {
   "cell_type": "code",
   "execution_count": 219,
   "metadata": {
    "collapsed": false
   },
   "outputs": [
    {
     "data": {
      "text/plain": [
       "Index([u'ID', u'flow_mean', u'District', u'County', u'City', u'State_PM',\n",
       "       u'Abs_PM', u'Latitude', u'Longitude', u'Name', u'Lanes', u'Type',\n",
       "       u'Fwy', u'Dir'],\n",
       "      dtype='object')"
      ]
     },
     "execution_count": 219,
     "metadata": {},
     "output_type": "execute_result"
    }
   ],
   "source": [
    "# complete_with_meta_avg.columns"
   ]
  },
  {
   "cell_type": "code",
   "execution_count": 251,
   "metadata": {
    "collapsed": false
   },
   "outputs": [
    {
     "data": {
      "text/plain": [
       "array([ 94,   8,   5, 805,  15,  78,  52, 163, 125,  56, 905,  54,  67])"
      ]
     },
     "execution_count": 251,
     "metadata": {},
     "output_type": "execute_result"
    }
   ],
   "source": [
    "complete_with_meta.Fwy.unique()"
   ]
  },
  {
   "cell_type": "code",
   "execution_count": 282,
   "metadata": {
    "collapsed": false
   },
   "outputs": [
    {
     "data": {
      "text/plain": [
       "Index([u'station', u'hour', u'minute', u'flow_mean', u'Time'], dtype='object')"
      ]
     },
     "execution_count": 282,
     "metadata": {},
     "output_type": "execute_result"
    }
   ],
   "source": [
    "df_new.columns"
   ]
  },
  {
   "cell_type": "code",
   "execution_count": 254,
   "metadata": {
    "collapsed": false
   },
   "outputs": [
    {
     "data": {
      "text/plain": [
       "ID           38880\n",
       "Fwy          38880\n",
       "Dir          38880\n",
       "Abs_PM       38880\n",
       "Latitude     38880\n",
       "Longitude    38880\n",
       "Lanes        38880\n",
       "Name         38880\n",
       "Type         38880\n",
       "flow_mean    38880\n",
       "Time         38880\n",
       "order        38880\n",
       "dtype: int64"
      ]
     },
     "execution_count": 254,
     "metadata": {},
     "output_type": "execute_result"
    }
   ],
   "source": [
    "freeway_vectors_update_2008_2015['5_N'].count()"
   ]
  },
  {
   "cell_type": "code",
   "execution_count": 255,
   "metadata": {
    "collapsed": false
   },
   "outputs": [
    {
     "data": {
      "text/plain": [
       "Index([u'ID', u'Fwy', u'Dir', u'Abs_PM', u'Latitude', u'Longitude', u'Lanes',\n",
       "       u'Name', u'Type', u'flow_mean', u'Time', u'order'],\n",
       "      dtype='object')"
      ]
     },
     "execution_count": 255,
     "metadata": {},
     "output_type": "execute_result"
    }
   ],
   "source": [
    "freeway_vectors_update_2008_2015['5_N'].columns"
   ]
  },
  {
   "cell_type": "code",
   "execution_count": 280,
   "metadata": {
    "collapsed": false
   },
   "outputs": [
    {
     "data": {
      "text/plain": [
       "Index([u'ID', u'Fwy', u'Dir', u'Abs_PM', u'Latitude', u'Longitude', u'Lanes',\n",
       "       u'Name', u'Type', u'order'],\n",
       "      dtype='object')"
      ]
     },
     "execution_count": 280,
     "metadata": {},
     "output_type": "execute_result"
    }
   ],
   "source": [
    "freeway_vectors_update[key].columns"
   ]
  },
  {
   "cell_type": "code",
   "execution_count": 290,
   "metadata": {
    "collapsed": false
   },
   "outputs": [
    {
     "name": "stdout",
     "output_type": "stream",
     "text": [
      "          flow_mean\n",
      "Time               \n",
      "00:00:00  43.073009\n",
      "00:05:00  45.417035\n",
      "00:10:00  44.585177\n",
      "00:15:00  44.297566\n",
      "00:20:00  43.984513\n"
     ]
    },
    {
     "data": {
      "text/plain": [
       "array([[ 43.07300885],\n",
       "       [ 45.4170354 ],\n",
       "       [ 44.58517699],\n",
       "       [ 44.29756637],\n",
       "       [ 43.98451327]])"
      ]
     },
     "execution_count": 290,
     "metadata": {},
     "output_type": "execute_result"
    }
   ],
   "source": [
    "# example\n",
    "temp = df_new[df_new.station == row['ID']][['Time', 'flow_mean']].sort_values(by='Time').set_index('Time')\n",
    "print temp.head()\n",
    "temp.as_matrix()[0:5]"
   ]
  },
  {
   "cell_type": "code",
   "execution_count": 298,
   "metadata": {
    "collapsed": false
   },
   "outputs": [
    {
     "name": "stdout",
     "output_type": "stream",
     "text": [
      "5_N\n",
      "geojson len: 135\n",
      "5_S\n",
      "geojson len: 119\n",
      "8_E\n",
      "geojson len: 49\n",
      "8_W\n",
      "geojson len: 49\n",
      "15_N\n",
      "geojson len: 87\n",
      "15_S\n",
      "geojson len: 84\n",
      "52_E\n",
      "geojson len: 27\n",
      "52_W\n",
      "geojson len: 29\n",
      "54_E\n",
      "geojson len: 3\n",
      "54_W\n",
      "geojson len: 3\n",
      "56_E\n",
      "geojson len: 17\n",
      "56_W\n",
      "geojson len: 14\n",
      "78_E\n",
      "geojson len: 19\n",
      "78_W\n",
      "geojson len: 26\n",
      "94_E\n",
      "geojson len: 16\n",
      "94_W\n",
      "geojson len: 23\n",
      "125_N\n",
      "geojson len: 36\n",
      "125_S\n",
      "geojson len: 38\n",
      "163_N\n",
      "geojson len: 15\n",
      "163_S\n",
      "geojson len: 17\n",
      "805_N\n",
      "geojson len: 73\n",
      "805_S\n",
      "geojson len: 76\n",
      "905_E\n",
      "geojson len: 11\n",
      "905_W\n",
      "geojson len: 13\n"
     ]
    }
   ],
   "source": [
    "# update ML file for 2008 to 2015\n",
    "final = {}\n",
    "\n",
    "for key in freeway_keys:\n",
    "    print key\n",
    "    new_geojson = {'type': 'FeatureCollection', 'features': []}\n",
    "\n",
    "    # freeway_vectors_update has all of the metadata info\n",
    "    df = freeway_vectors_update[key]\n",
    "    for idx, row in df.iterrows():\n",
    "        properties = {'key': key,\n",
    "                      'ID': row['ID'],\n",
    "                      'Lanes': row['Lanes'],\n",
    "                      'Name': row['Name'],\n",
    "                      'Abs_PM': np.round(row['Abs_PM'], decimals=1),\n",
    "                      'Order': row['order'],\n",
    "                      'Type': row['Type'],\n",
    "                     }\n",
    "        flow_data = df_new[df_new.station == row['ID']][['Time', 'flow_mean']].sort_values(by='Time').set_index('Time')\n",
    "        properties['Flow'] = flow_data.flow_mean.tolist()\n",
    "        geometry = {'type': \"Point\", \"coordinates\": [row['Longitude'], row['Latitude']]}\n",
    "        temp = {'type': 'Feature', 'properties': properties, \"geometry\": geometry}\n",
    "        new_geojson['features'].append(temp)\n",
    "#         break\n",
    "    print \"geojson len: %s\" % len(new_geojson['features'])\n",
    "    final[key] = {'visible': False, 'data': new_geojson}\n",
    "#     print final\n",
    "#     break\n",
    "json.dump(final, open('../data/2015_to_2008_ML_d11_geojson_points2.json', 'w'))"
   ]
  },
  {
   "cell_type": "markdown",
   "metadata": {
    "collapsed": true
   },
   "source": [
    "## Calculate midpoint\n",
    "\n",
    "source: http://www.movable-type.co.uk/scripts/latlong.html\n",
    "\n",
    "var Bx = Math.cos(φ2) * Math.cos(λ2-λ1);\n",
    "\n",
    "var By = Math.cos(φ2) * Math.sin(λ2-λ1);\n",
    "\n",
    "var φ3 = Math.atan2(Math.sin(φ1) + Math.sin(φ2),\n",
    "                    Math.sqrt( (Math.cos(φ1)+Bx)*(Math.cos(φ1)+Bx) + By*By ) );\n",
    "\n",
    "var λ3 = λ1 + Math.atan2(By, Math.cos(φ1) + Bx);\n"
   ]
  },
  {
   "cell_type": "code",
   "execution_count": 343,
   "metadata": {
    "collapsed": true
   },
   "outputs": [],
   "source": [
    "# source:\n",
    "# http://stackoverflow.com/questions/5895832/python-lat-long-midpoint-calculation-gives-wrong-result-when-longitude-90\n",
    "import math\n",
    "\n",
    "def midpoint(lat1, lon1, lat2, lon2, debug=False):\n",
    "    if debug:\n",
    "        print lat1, lon1\n",
    "        print lat2, lon2\n",
    "    lonA = math.radians(lon1)\n",
    "    lonB = math.radians(lon2)\n",
    "    latA = math.radians(lat1)\n",
    "    latB = math.radians(lat2)\n",
    "\n",
    "    dLon = lonB - lonA\n",
    "\n",
    "    Bx = math.cos(latB) * math.cos(dLon)\n",
    "    By = math.cos(latB) * math.sin(dLon)\n",
    "\n",
    "    latC = math.atan2(math.sin(latA) + math.sin(latB),\n",
    "                  math.sqrt((math.cos(latA) + Bx) * (math.cos(latA) + Bx) + By * By))\n",
    "    lonC = lonA + math.atan2(By, math.cos(latA) + Bx)\n",
    "    lonC = (lonC + 3 * math.pi) % (2 * math.pi) - math.pi\n",
    "\n",
    "    return math.degrees(latC), math.degrees(lonC)"
   ]
  },
  {
   "cell_type": "code",
   "execution_count": 344,
   "metadata": {
    "collapsed": false
   },
   "outputs": [
    {
     "data": {
      "text/plain": [
       "(32.54726623446039, -117.03802762069233)"
      ]
     },
     "execution_count": 344,
     "metadata": {},
     "output_type": "execute_result"
    }
   ],
   "source": [
    "# test\n",
    "midpoint(32.542842, -117.030331, 32.551690, -117.045725)"
   ]
  },
  {
   "cell_type": "code",
   "execution_count": 346,
   "metadata": {
    "collapsed": false
   },
   "outputs": [
    {
     "name": "stdout",
     "output_type": "stream",
     "text": [
      "total: 135\n"
     ]
    }
   ],
   "source": [
    "# prototype\n",
    "# shifted = freeway_vectors_update['5_N'].shift(-1)\n",
    "# result = []\n",
    "# final = []\n",
    "# total = len(freeway_vectors_update['5_N'])\n",
    "# print \"total: %s\" % total\n",
    "# index = 0\n",
    "# for idx, item in freeway_vectors_update['5_N'].iterrows():\n",
    "# #     print item['order']\n",
    "# #     print index\n",
    "#     if item['order'] != (total - 1):\n",
    "#         result.append(midpoint(item['Latitude'], item['Longitude'], shifted.iloc[index]['Latitude'],\n",
    "#                                shifted.iloc[index]['Longitude']))\n",
    "#         final.append([item['Latitude'], item['Longitude'], result[index][0], result[index][1]])\n",
    "#     else:\n",
    "#         final.append([result[index-1][0], result[index-1][1], item['Latitude'], item['Longitude']])\n",
    "#     index += 1\n"
   ]
  },
  {
   "cell_type": "code",
   "execution_count": 347,
   "metadata": {
    "collapsed": false
   },
   "outputs": [
    {
     "data": {
      "text/plain": [
       "{'geometry': {'coordinates': [[11.836395263671875, 47.75317468890147],\n",
       "   [11.865234375, 47.73193447949174]],\n",
       "  'type': 'LineString'},\n",
       " 'properties': {'elevation': 50, 'id': 2},\n",
       " 'type': 'Feature'}"
      ]
     },
     "execution_count": 347,
     "metadata": {},
     "output_type": "execute_result"
    }
   ],
   "source": [
    "# example format for geojson for the line\n",
    "{ \n",
    "    \"type\": \"Feature\",\n",
    "    \"properties\":\n",
    "    {\n",
    "        \"id\": 2,\n",
    "        \"elevation\": 50\n",
    "    },\n",
    "    \"geometry\":\n",
    "    {\n",
    "        \"type\": \"LineString\",\n",
    "        \"coordinates\": \n",
    "        [\n",
    "            [ 11.836395263671875, 47.75317468890147 ],\n",
    "            [ 11.865234375, 47.73193447949174 ]\n",
    "        ]\n",
    "    }\n",
    "}"
   ]
  },
  {
   "cell_type": "code",
   "execution_count": null,
   "metadata": {
    "collapsed": true
   },
   "outputs": [],
   "source": [
    "[ \n",
    "{ \"type\": \"Feature\", \"properties\": { \"id\": 2, \"elevation\": 50 }, \"geometry\": { \"type\": \"LineString\", \"coordinates\": [ [ 11.836395263671875, 47.75317468890147 ], [ 11.865234375, 47.73193447949174 ] ] } },\n",
    "{ \"type\": \"Feature\", \"properties\": { \"id\": 1, \"elevation\": 750 }, \"geometry\": { \"type\": \"LineString\", \"coordinates\": [ [ 11.865234375,47.73193447949174 ], [ 11.881027221679688, 47.700520033704954 ] ] } },\n",
    "{ \"type\": \"Feature\", \"properties\": { \"id\": 0, \"elevation\": 1700 }, \"geometry\": { \"type\": \"LineString\", \"coordinates\": [ [ 11.881027221679688, 47.700520033704954 ], [ 11.923599243164062, 47.706527200903395 ] ] } },\n",
    "{ \"type\": \"Feature\", \"properties\": { \"id\": 0, \"elevation\": 3000 }, \"geometry\": { \"type\": \"LineString\", \"coordinates\": [ [ 11.923599243164062, 47.706527200903395 ], [ 11.881027221679688, 47.700520033704954 ], ] } }\n",
    "]"
   ]
  },
  {
   "cell_type": "code",
   "execution_count": 475,
   "metadata": {
    "collapsed": true
   },
   "outputs": [],
   "source": [
    "def calculate_segments(freeway_df, wig_dat):\n",
    "    \"\"\"\n",
    "    This function will calculate the segments from the ordered stations and return\n",
    "    an array of midpoints\n",
    "    \"\"\"\n",
    "    shifted = freeway_df.shift(-1)\n",
    "    result = []\n",
    "    final = []\n",
    "    data = []\n",
    "    stations = []\n",
    "    total = len(freeway_df)\n",
    "    print \"total: %s\" % total\n",
    "    index = 0\n",
    "    for idx, item in freeway_df.iterrows():\n",
    "    #     print item['order']\n",
    "    #     print index\n",
    "#         print item\n",
    "        station = item['ID']\n",
    "        stations.append(station)\n",
    "        points = wig_dat[wig_dat.ID == station].reset_index().T.iloc[2:1442].T.ix[0].tolist()\n",
    "#         print points\n",
    "        data.append(points)\n",
    "        if item['order'] == 0:\n",
    "            result.append(midpoint(item['Latitude'], item['Longitude'], shifted.iloc[index]['Latitude'],\n",
    "                                   shifted.iloc[index]['Longitude']))\n",
    "            final.append([[item['Longitude'], item['Latitude']], [result[index][1], result[index][0]]])            \n",
    "        elif item['order'] != (total - 1):\n",
    "            result.append(midpoint(item['Latitude'], item['Longitude'], shifted.iloc[index]['Latitude'],\n",
    "                                   shifted.iloc[index]['Longitude']))\n",
    "            final.append([[result[index-1][1], result[index-1][0]], [result[index][1], result[index][0]]])\n",
    "        else:\n",
    "            final.append([[result[index-1][1], result[index-1][0]], [item['Longitude'], item['Latitude']]])\n",
    "        index += 1\n",
    "    return final, data, stations"
   ]
  },
  {
   "cell_type": "code",
   "execution_count": 476,
   "metadata": {
    "collapsed": false
   },
   "outputs": [
    {
     "name": "stdout",
     "output_type": "stream",
     "text": [
      "total: 135\n"
     ]
    }
   ],
   "source": [
    "example = pd.read_csv('../vis/WiggleVis/data/heatmaps/wiggle_analysis_%s_%s.csv' % (5, 'N'))\n",
    "# print example.head()\n",
    "segments, wiggles, stations = calculate_segments(freeway_vectors_update['5_N'], example)"
   ]
  },
  {
   "cell_type": "code",
   "execution_count": 477,
   "metadata": {
    "collapsed": false
   },
   "outputs": [
    {
     "name": "stdout",
     "output_type": "stream",
     "text": [
      "5_N\n",
      "total: 135\n",
      "5_S\n",
      "total: 119\n",
      "8_E\n",
      "total: 49\n",
      "8_W\n",
      "total: 49\n",
      "15_N\n",
      "total: 87\n",
      "15_S\n",
      "total: 84\n",
      "52_E\n",
      "total: 27\n",
      "52_W\n",
      "total: 29\n",
      "54_E\n",
      "total: 3\n",
      "54_W\n",
      "total: 3\n",
      "56_E\n",
      "total: 17\n",
      "56_W\n",
      "total: 14\n",
      "78_E\n",
      "total: 19\n",
      "78_W\n",
      "total: 26\n",
      "94_E\n",
      "total: 16\n",
      "94_W\n",
      "total: 23\n",
      "125_N\n",
      "total: 36\n",
      "125_S\n",
      "total: 38\n",
      "163_N\n",
      "total: 15\n",
      "163_S\n",
      "total: 17\n",
      "805_N\n",
      "total: 73\n",
      "805_S\n",
      "total: 76\n",
      "905_E\n",
      "total: 11\n",
      "905_W\n",
      "total: 13\n"
     ]
    }
   ],
   "source": [
    "# update ML file for 2008 to 2015\n",
    "final = {}\n",
    "\n",
    "for key in freeway_keys:\n",
    "    print key\n",
    "    Fwy, Dir = key.split('_')\n",
    "    wiggle_data = pd.read_csv('../vis/WiggleVis/data/heatmaps/wiggle_analysis_%s_%s.csv' % (Fwy, Dir))\n",
    "    segments, wiggles, stations = calculate_segments(freeway_vectors_update[key], wiggle_data)\n",
    "\n",
    "    data_to_store = {'type': \"FeatureCollection\", 'features': []}\n",
    "    for seg, wig, stat in zip(segments, wiggles, stations):\n",
    "        new_geojson = {'type': 'Feature'}\n",
    "        properties = {'wiggles': wig, 'ID': stat}\n",
    "        geometry = {'type': \"LineString\", \"coordinates\": seg}\n",
    "        new_geojson['geometry'] = geometry\n",
    "        new_geojson['properties'] = properties\n",
    "#         print new_geojson\n",
    "        data_to_store['features'].append(new_geojson)\n",
    "    final[key] = data_to_store\n",
    "#     print final\n",
    "# print final\n",
    "json_string = json.dumps(final)\n",
    "final_string = 'var segment_data = ' + json_string\n",
    "with open('../data/2015_to_2008_ML_d11_geojson_lines.js', 'w') as outfile:\n",
    "    outfile.write(final_string)"
   ]
  },
  {
   "cell_type": "code",
   "execution_count": 470,
   "metadata": {
    "collapsed": false
   },
   "outputs": [
    {
     "data": {
      "text/plain": [
       "{'geometry': {'coordinates': [[32.620053000000006, -116.97154099999999],\n",
       "   [32.620053000000006, -116.97154099999996]],\n",
       "  'type': 'LineString'},\n",
       " 'properties': {'ID': 1119067,\n",
       "  'wiggles': [-1.0,\n",
       "   0.057515290842,\n",
       "   0.26753338188000003,\n",
       "   0.4659019436,\n",
       "   0.643183579758,\n",
       "   0.79104435687,\n",
       "   0.902698912439,\n",
       "   0.973263966957,\n",
       "   1.0,\n",
       "   0.9824281104070001,\n",
       "   0.922317067161,\n",
       "   0.8235437145100001,\n",
       "   0.691837666898,\n",
       "   0.534428103826,\n",
       "   0.359616017343,\n",
       "   0.17629914848499997,\n",
       "   -0.00942421576635,\n",
       "   -0.26045302519200003,\n",
       "   -0.48702655272600004,\n",
       "   -0.679604742244,\n",
       "   -0.830812640189,\n",
       "   -0.935731129271,\n",
       "   -0.992038250494,\n",
       "   -1.0,\n",
       "   -0.962318471734,\n",
       "   -0.883853255194,\n",
       "   -0.7712386398190001,\n",
       "   -0.63242409206,\n",
       "   -0.476168456997,\n",
       "   -0.311519327251,\n",
       "   -0.14730808068,\n",
       "   0.017659649508700002,\n",
       "   0.31500368626200004,\n",
       "   0.566935107575,\n",
       "   0.764725240124,\n",
       "   0.903257640584,\n",
       "   0.981038196246,\n",
       "   1.0,\n",
       "   0.96512767379,\n",
       "   0.8839347169239999,\n",
       "   0.765833860174,\n",
       "   0.621444097026,\n",
       "   0.461878991052,\n",
       "   0.298059133798,\n",
       "   0.140087504942,\n",
       "   -0.00997755660006,\n",
       "   -0.38040830383100005,\n",
       "   -0.669980607881,\n",
       "   -0.8701239278139999,\n",
       "   -0.978787156654,\n",
       "   -1.0,\n",
       "   -0.943089720532,\n",
       "   -0.821625181224,\n",
       "   -0.652172508798,\n",
       "   -0.45295323002,\n",
       "   -0.242496293855,\n",
       "   -0.038370238030199996,\n",
       "   0.312875868065,\n",
       "   0.634474685776,\n",
       "   0.861970777738,\n",
       "   0.9845256152240001,\n",
       "   1.0,\n",
       "   0.914477408927,\n",
       "   0.741257574911,\n",
       "   0.499420508346,\n",
       "   0.212083764564,\n",
       "   -0.08375906121,\n",
       "   -0.34897830475599995,\n",
       "   -0.588832361943,\n",
       "   -0.785360784337,\n",
       "   -0.9246178870489999,\n",
       "   -0.9974677383230001,\n",
       "   -1.0,\n",
       "   -0.9335583867820001,\n",
       "   -0.804400146791,\n",
       "   -0.623028988732,\n",
       "   -0.40326383255500003,\n",
       "   -0.161120527317,\n",
       "   0.0963984950454,\n",
       "   0.359879695677,\n",
       "   0.593594141166,\n",
       "   0.7831447017890001,\n",
       "   0.917725323073,\n",
       "   0.990722522789,\n",
       "   1.0,\n",
       "   0.947859872172,\n",
       "   0.840696281632,\n",
       "   0.6883774083740001,\n",
       "   0.503409048561,\n",
       "   0.299945872845,\n",
       "   0.0927245710506,\n",
       "   -0.180231928257,\n",
       "   -0.480835398125,\n",
       "   -0.7230379398989999,\n",
       "   -0.893933888136,\n",
       "   -0.986525753476,\n",
       "   -1.0,\n",
       "   -0.939544418738,\n",
       "   -0.815731957394,\n",
       "   -0.643525871434,\n",
       "   -0.44098677821099996,\n",
       "   -0.227781926814,\n",
       "   -0.0236094488117,\n",
       "   0.39390216526,\n",
       "   0.7393000686839999,\n",
       "   0.946748539372,\n",
       "   1.0,\n",
       "   0.8964821692049999,\n",
       "   0.647358414866,\n",
       "   0.276530821658,\n",
       "   -0.0804369672435,\n",
       "   -0.30322830314599997,\n",
       "   -0.524747472027,\n",
       "   -0.7236525046160001,\n",
       "   -0.879899377837,\n",
       "   -0.976323020263,\n",
       "   -1.0,\n",
       "   -0.9432920183589999,\n",
       "   -0.804494144234,\n",
       "   -0.5880421338790001,\n",
       "   -0.304266814364,\n",
       "   0.015527479310299998,\n",
       "   0.197995559187,\n",
       "   0.385190978008,\n",
       "   0.565293167039,\n",
       "   0.726648116228,\n",
       "   0.858549271082,\n",
       "   0.951941573605,\n",
       "   1.0,\n",
       "   0.998544862477,\n",
       "   0.94626973058,\n",
       "   0.8447729096590001,\n",
       "   0.6983987023360001,\n",
       "   0.5139088879829999,\n",
       "   0.300016816621,\n",
       "   0.066825276009,\n",
       "   -0.136538804925,\n",
       "   -0.323231829687,\n",
       "   -0.499574554142,\n",
       "   -0.65797757681,\n",
       "   -0.7918725319390001,\n",
       "   -0.895927379569,\n",
       "   -0.9661661819670001,\n",
       "   -1.0,\n",
       "   -0.996183304773,\n",
       "   -0.954715990062,\n",
       "   -0.876714160888,\n",
       "   -0.7642730999899999,\n",
       "   -0.620343206111,\n",
       "   -0.448634576494,\n",
       "   -0.253558854194,\n",
       "   -0.0402087714378,\n",
       "   0.121494218148,\n",
       "   0.273227852267,\n",
       "   0.42415506286399995,\n",
       "   0.569079352122,\n",
       "   0.7023861235240001,\n",
       "   0.818144080713,\n",
       "   0.910270100518,\n",
       "   0.9727624625749999,\n",
       "   1.0,\n",
       "   0.9870966255179999,\n",
       "   0.9302925401209999,\n",
       "   0.8273560623019999,\n",
       "   0.677964228443,\n",
       "   0.484026826579,\n",
       "   0.24991789673099998,\n",
       "   -0.00933054507027,\n",
       "   -0.165261120546,\n",
       "   -0.327616489005,\n",
       "   -0.489073828934,\n",
       "   -0.6415974975050001,\n",
       "   -0.7768271992479999,\n",
       "   -0.886529513545,\n",
       "   -0.9630877688299999,\n",
       "   -1.0,\n",
       "   -0.992351414607,\n",
       "   -0.937226839028,\n",
       "   -0.834030266127,\n",
       "   -0.684682929401,\n",
       "   -0.493678117611,\n",
       "   -0.267979834884,\n",
       "   -0.0167628249199,\n",
       "   0.16615355375600002,\n",
       "   0.34503200048199995,\n",
       "   0.516870066196,\n",
       "   0.673141980583,\n",
       "   0.8058554946430001,\n",
       "   0.908011742296,\n",
       "   0.974014385762,\n",
       "   1.0,\n",
       "   0.9840667002529999,\n",
       "   0.9263849369850001,\n",
       "   0.8291826702130001,\n",
       "   0.6966061556190001,\n",
       "   0.534466612091,\n",
       "   0.349891357359,\n",
       "   0.15090490030099998,\n",
       "   -0.0504262582209,\n",
       "   -0.239370841741,\n",
       "   -0.41855452855999997,\n",
       "   -0.581332322209,\n",
       "   -0.72213635871,\n",
       "   -0.836668700656,\n",
       "   -0.921995319928,\n",
       "   -0.9765418437729999,\n",
       "   -1.0,\n",
       "   -0.9931610765919999,\n",
       "   -0.957698435903,\n",
       "   -0.895924667342,\n",
       "   -0.8105499966769999,\n",
       "   -0.7044669984899999,\n",
       "   -0.580582629631,\n",
       "   -0.44171249878799995,\n",
       "   -0.290544695969,\n",
       "   -0.12967216087000003,\n",
       "   0.0294792297523,\n",
       "   0.162106920146,\n",
       "   0.295804432648,\n",
       "   0.42792661070200005,\n",
       "   0.555405984785,\n",
       "   0.674708042131,\n",
       "   0.781846331807,\n",
       "   0.8724675880920001,\n",
       "   0.942010340544,\n",
       "   0.985933015847,\n",
       "   1.0,\n",
       "   0.9806072179269999,\n",
       "   0.925123158978,\n",
       "   0.83221748889,\n",
       "   0.702147848533,\n",
       "   0.536976365678,\n",
       "   0.34069080785800004,\n",
       "   0.119210980359,\n",
       "   -0.0837775390252,\n",
       "   -0.25668430590999997,\n",
       "   -0.427971875471,\n",
       "   -0.589808752851,\n",
       "   -0.7342604742859999,\n",
       "   -0.853718579948,\n",
       "   -0.941339407493,\n",
       "   -0.9914651887379999,\n",
       "   -1.0,\n",
       "   -0.964715077974,\n",
       "   -0.885461744932,\n",
       "   -0.7642754403700001,\n",
       "   -0.605360777001,\n",
       "   -0.41495469612400004,\n",
       "   -0.20107221561500002,\n",
       "   0.023305666586,\n",
       "   0.224276687363,\n",
       "   0.418978673219,\n",
       "   0.5980607165,\n",
       "   0.7527295920360001,\n",
       "   0.8752096446619999,\n",
       "   0.959156261151,\n",
       "   1.0,\n",
       "   0.995202257605,\n",
       "   0.944408206281,\n",
       "   0.849488354431,\n",
       "   0.714466123295,\n",
       "   0.545334965268,\n",
       "   0.34977442784400004,\n",
       "   0.136779880258,\n",
       "   -0.0798629317138,\n",
       "   -0.287535224151,\n",
       "   -0.4829339048,\n",
       "   -0.656941915026,\n",
       "   -0.8014585116290001,\n",
       "   -0.909790586135,\n",
       "   -0.9769726753569999,\n",
       "   -1.0,\n",
       "   -0.9779634246510001,\n",
       "   -0.9120803083650001,\n",
       "   -0.8056205457600001,\n",
       "   -0.663732410124,\n",
       "   -0.49317783320200004,\n",
       "   -0.301991238896,\n",
       "   -0.0990797678106,\n",
       "   0.113826531228,\n",
       "   0.326395349019,\n",
       "   0.522032351737,\n",
       "   0.692188858761,\n",
       "   0.829654536792,\n",
       "   0.9288784901170001,\n",
       "   0.986203055993,\n",
       "   1.0,\n",
       "   0.970703960161,\n",
       "   0.900743349842,\n",
       "   0.794374213238,\n",
       "   0.65742745375,\n",
       "   0.49698416480200003,\n",
       "   0.320997258702,\n",
       "   0.137880033033,\n",
       "   -0.060034465213900004,\n",
       "   -0.295705949398,\n",
       "   -0.508518417823,\n",
       "   -0.689940472239,\n",
       "   -0.833280586864,\n",
       "   -0.933940538787,\n",
       "   -0.989552973647,\n",
       "   -1.0,\n",
       "   -0.967316247237,\n",
       "   -0.895485982895,\n",
       "   -0.790149318717,\n",
       "   -0.658236944029,\n",
       "   -0.50755598133,\n",
       "   -0.34635131523400003,\n",
       "   -0.182867044151,\n",
       "   -0.0249315776496,\n",
       "   0.241314139087,\n",
       "   0.49543701723000005,\n",
       "   0.703140071534,\n",
       "   0.858114893198,\n",
       "   0.95713298125,\n",
       "   1.0,\n",
       "   0.9893534113369999,\n",
       "   0.930324765987,\n",
       "   0.830094187081,\n",
       "   0.697368807807,\n",
       "   0.5418190006279999,\n",
       "   0.373506173363,\n",
       "   0.202333859058,\n",
       "   0.0375500619697,\n",
       "   -0.240551648335,\n",
       "   -0.515764199382,\n",
       "   -0.734554619675,\n",
       "   -0.889783589877,\n",
       "   -0.978141839192,\n",
       "   -1.0,\n",
       "   -0.959083048416,\n",
       "   -0.8620026815940001,\n",
       "   -0.717685291644,\n",
       "   -0.536734864518,\n",
       "   -0.330769371886,\n",
       "   -0.111766389842,\n",
       "   0.11235305375,\n",
       "   0.330443683332,\n",
       "   0.528594679412,\n",
       "   0.6984936726559999,\n",
       "   0.8337772464409999,\n",
       "   0.9301843441,\n",
       "   0.985600542345,\n",
       "   1.0,\n",
       "   0.975294973493,\n",
       "   0.915105128298,\n",
       "   0.8244606235349999,\n",
       "   0.7094542730769999,\n",
       "   0.576859136925,\n",
       "   0.433728765299,\n",
       "   0.286998025392,\n",
       "   0.143102924377,\n",
       "   0.00763796088312,\n",
       "   -0.126305366338,\n",
       "   -0.24340033994899998,\n",
       "   -0.341075436233,\n",
       "   -0.419163687496,\n",
       "   -0.47906431323,\n",
       "   -0.523544925819,\n",
       "   -0.556435480816,\n",
       "   -0.5822292870019999,\n",
       "   -0.6056146828660001,\n",
       "   -0.630968615538,\n",
       "   -0.661849535963,\n",
       "   -0.700530968273,\n",
       "   -0.747618133666,\n",
       "   -0.801787603451,\n",
       "   -0.859683876717,\n",
       "   -0.9159971012620001,\n",
       "   -0.963733312341,\n",
       "   -0.994673336725,\n",
       "   -1.0,\n",
       "   -0.971056825263,\n",
       "   -0.900186499259,\n",
       "   -0.7815854903180001,\n",
       "   -0.612103676973,\n",
       "   -0.391915753798,\n",
       "   -0.124995185397,\n",
       "   0.0867346328722,\n",
       "   0.24635148682799998,\n",
       "   0.41142307670100003,\n",
       "   0.573179724034,\n",
       "   0.7219872674,\n",
       "   0.84794476325,\n",
       "   0.941557714137,\n",
       "   0.9944409748549999,\n",
       "   1.0,\n",
       "   0.9540374281039999,\n",
       "   0.8552344854039999,\n",
       "   0.705463335468,\n",
       "   0.509896946513,\n",
       "   0.276896610045,\n",
       "   0.017672951308,\n",
       "   -0.193213318282,\n",
       "   -0.398071173507,\n",
       "   -0.589180809726,\n",
       "   -0.754797204925,\n",
       "   -0.884144831921,\n",
       "   -0.9681350742749999,\n",
       "   -1.0,\n",
       "   -0.9757972768340001,\n",
       "   -0.8947490745799999,\n",
       "   -0.7593886456110001,\n",
       "   -0.575501107975,\n",
       "   -0.35185882940700003,\n",
       "   -0.09976570407180001,\n",
       "   0.12715840068700002,\n",
       "   0.33067330141199996,\n",
       "   0.523661615591,\n",
       "   0.695337042258,\n",
       "   0.8359283611839999,\n",
       "   0.93724916486,\n",
       "   0.993175059409,\n",
       "   1.0,\n",
       "   0.956651403723,\n",
       "   0.864752764553,\n",
       "   0.7285320371420001,\n",
       "   0.554583413486,\n",
       "   0.351498689257,\n",
       "   0.129391690908,\n",
       "   -0.0940701599974,\n",
       "   -0.30578437734700004,\n",
       "   -0.5037370164989999,\n",
       "   -0.678221758876,\n",
       "   -0.820802949779,\n",
       "   -0.924737590817,\n",
       "   -0.985300788328,\n",
       "   -1.0,\n",
       "   -0.968669766091,\n",
       "   -0.8934450755910001,\n",
       "   -0.778617761612,\n",
       "   -0.630386049018,\n",
       "   -0.45651234986100003,\n",
       "   -0.265908437139,\n",
       "   -0.0681701021064,\n",
       "   0.16136439615,\n",
       "   0.39396806530100004,\n",
       "   0.600058787972,\n",
       "   0.770083665158,\n",
       "   0.89647393441,\n",
       "   0.97399913869,\n",
       "   1.0,\n",
       "   0.9744893337630001,\n",
       "   0.9001166775730001,\n",
       "   0.781998894709,\n",
       "   0.627425579872,\n",
       "   0.445454355629,\n",
       "   0.246416808089,\n",
       "   0.0413605764453,\n",
       "   -0.21060862968400001,\n",
       "   -0.455104479921,\n",
       "   -0.665714445699,\n",
       "   -0.83166598455,\n",
       "   -0.944803318565,\n",
       "   -1.0,\n",
       "   -0.9954012919299999,\n",
       "   -0.932482601454,\n",
       "   -0.815920713936,\n",
       "   -0.653285515553,\n",
       "   -0.45457058058899996,\n",
       "   -0.231590744003,\n",
       "   0.00278517178298,\n",
       "   0.24093768985199998,\n",
       "   0.46382908872199996,\n",
       "   0.659373484253,\n",
       "   0.817295325693,\n",
       "   0.929670245513,\n",
       "   0.991314153327,\n",
       "   1.0,\n",
       "   0.9564930699519999,\n",
       "   0.864407575016,\n",
       "   0.7298988689920001,\n",
       "   0.561215951975,\n",
       "   0.36814735454,\n",
       "   0.16139940327,\n",
       "   -0.05540645505419999,\n",
       "   -0.287793113151,\n",
       "   -0.499892483948,\n",
       "   -0.68218289341,\n",
       "   -0.827212370932,\n",
       "   -0.929876956436,\n",
       "   -0.987540539404,\n",
       "   -1.0,\n",
       "   -0.9693097612010001,\n",
       "   -0.899488483979,\n",
       "   -0.796136976439,\n",
       "   -0.666000091912,\n",
       "   -0.5165063474430001,\n",
       "   -0.35531732601300003,\n",
       "   -0.18991496864100002,\n",
       "   -0.0272491221013,\n",
       "   0.191393961259,\n",
       "   0.40280219528899996,\n",
       "   0.586915401884,\n",
       "   0.7393625304510001,\n",
       "   0.8574367446619999,\n",
       "   0.9399550971080001,\n",
       "   0.987061743689,\n",
       "   1.0,\n",
       "   0.980876709098,\n",
       "   0.932438736249,\n",
       "   0.857876502068,\n",
       "   0.760663935008,\n",
       "   0.644438677681,\n",
       "   0.512921355471,\n",
       "   0.36986862700900003,\n",
       "   0.219051851881,\n",
       "   0.0642516405683,\n",
       "   -0.101367479691,\n",
       "   -0.270484624708,\n",
       "   -0.431342564419,\n",
       "   -0.579749728742,\n",
       "   -0.7116117304590001,\n",
       "   -0.8230088146819999,\n",
       "   -0.910293723148,\n",
       "   -0.970206328964,\n",
       "   -1.0,\n",
       "   -0.9975737434999999,\n",
       "   -0.961603685293,\n",
       "   -0.891667223131,\n",
       "   -0.788353139507,\n",
       "   -0.653350963896,\n",
       "   -0.489512884943,\n",
       "   -0.300881538606,\n",
       "   -0.09267711180230001,\n",
       "   0.0927014763524,\n",
       "   0.256366785815,\n",
       "   0.418384735238,\n",
       "   0.572428169399,\n",
       "   0.711938259905,\n",
       "   0.830370402028,\n",
       "   0.9214738678509999,\n",
       "   0.979596203737,\n",
       "   1.0,\n",
       "   0.9791765159110001,\n",
       "   0.9151380443129999,\n",
       "   0.807669183168,\n",
       "   0.658516653169,\n",
       "   0.47149820378999996,\n",
       "   0.25251363147,\n",
       "   0.00944501841336,\n",
       "   -0.1682156561,\n",
       "   -0.34511672815600003,\n",
       "   -0.516123835686,\n",
       "   -0.67276675097,\n",
       "   -0.8066980460140001,\n",
       "   -0.910140803687,\n",
       "   -0.9763413074580001,\n",
       "   -1.0,\n",
       "   -0.977653108836,\n",
       "   -0.90797824064,\n",
       "   -0.792000015049,\n",
       "   -0.633176381661,\n",
       "   -0.437352443072,\n",
       "   -0.212576067703,\n",
       "   0.0243034420297,\n",
       "   0.220034083214,\n",
       "   0.412179866636,\n",
       "   0.590994614644,\n",
       "   0.747049997593,\n",
       "   0.8717626511799998,\n",
       "   0.957895148901,\n",
       "   1.0,\n",
       "   0.994778075672,\n",
       "   0.9413270122399999,\n",
       "   0.841261000534,\n",
       "   0.698690624098,\n",
       "   0.52005962918,\n",
       "   0.313844191841,\n",
       "   0.0901288402169,\n",
       "   -0.133818692397,\n",
       "   -0.348748246937,\n",
       "   -0.5475887104899999,\n",
       "   -0.7200936161750001,\n",
       "   -0.8573455938429999,\n",
       "   -0.952261963947,\n",
       "   -1.0,\n",
       "   -0.9982366949529999,\n",
       "   -0.9473052791869999,\n",
       "   -0.8501793590539999,\n",
       "   -0.712304827207,\n",
       "   -0.541289040565,\n",
       "   -0.346465559554,\n",
       "   -0.138360416227,\n",
       "   0.08614084477469999,\n",
       "   0.327346290371,\n",
       "   0.545389760591,\n",
       "   0.729276740703,\n",
       "   0.870097973394,\n",
       "   0.9614999305069999,\n",
       "   1.0,\n",
       "   0.9851297510979999,\n",
       "   0.919400369151,\n",
       "   0.808095277881,\n",
       "   0.6589053840110001,\n",
       "   0.48143163075,\n",
       "   0.286587069112,\n",
       "   0.08593601585069999,\n",
       "   -0.161674082817,\n",
       "   -0.42625829821500005,\n",
       "   -0.652137415857,\n",
       "   -0.8278741642020001,\n",
       "   -0.945320696808,\n",
       "   -1.0,\n",
       "   -0.9912632207350001,\n",
       "   -0.9222195368200001,\n",
       "   -0.7994485166590001,\n",
       "   -0.63251723662,\n",
       "   -0.43333507638700003,\n",
       "   -0.215387561329,\n",
       "   0.00941260515626,\n",
       "   0.291571278407,\n",
       "   0.543674226486,\n",
       "   0.75060721122,\n",
       "   0.900395027081,\n",
       "   0.9848526908480001,\n",
       "   1.0,\n",
       "   0.946219020907,\n",
       "   0.828148990748,\n",
       "   0.654328232187,\n",
       "   0.43660719740000004,\n",
       "   0.189369909114,\n",
       "   -0.0665385474291,\n",
       "   -0.306713774193,\n",
       "   -0.528948614459,\n",
       "   -0.719499858686,\n",
       "   -0.866786134675,\n",
       "   -0.962077793039,\n",
       "   -1.0,\n",
       "   -0.978818157287,\n",
       "   -0.90048857946,\n",
       "   -0.7704725054960001,\n",
       "   -0.597327043468,\n",
       "   -0.392101507191,\n",
       "   -0.167580756997,\n",
       "   0.069406162905,\n",
       "   0.31581158134799997,\n",
       "   0.539201298555,\n",
       "   0.7273287640330001,\n",
       "   0.870569607009,\n",
       "   0.962459668901,\n",
       "   1.0,\n",
       "   0.9837119907680001,\n",
       "   0.917444634049,\n",
       "   0.807954582894,\n",
       "   0.664296680828,\n",
       "   0.497076603153,\n",
       "   0.31762699393599997,\n",
       "   0.137173185224,\n",
       "   -0.0643186588131,\n",
       "   -0.354208169916,\n",
       "   -0.5970081920929999,\n",
       "   -0.7844401387559999,\n",
       "   -0.9128843463040001,\n",
       "   -0.983168280461,\n",
       "   -1.0,\n",
       "   -0.971116549798,\n",
       "   -0.906240074118,\n",
       "   -0.815948670295,\n",
       "   -0.7105731100939999,\n",
       "   -0.599224246511,\n",
       "   -0.48903987390299997,\n",
       "   -0.384715608231,\n",
       "   -0.28835435720400004,\n",
       "   -0.199636059085,\n",
       "   -0.116276757182,\n",
       "   -0.03471688787069999,\n",
       "   0.0559132714609,\n",
       "   0.15797279048,\n",
       "   0.269207672153,\n",
       "   0.390003176332,\n",
       "   0.518011602669,\n",
       "   0.6479723219160001,\n",
       "   0.771893885553,\n",
       "   0.8795932198659999,\n",
       "   0.959549875873,\n",
       "   1.0,\n",
       "   0.990168366212,\n",
       "   0.921520053012,\n",
       "   0.788907824633,\n",
       "   0.591497574816,\n",
       "   0.333371773448,\n",
       "   0.0237381065172,\n",
       "   -0.158244844686,\n",
       "   -0.33743266215000006,\n",
       "   -0.515400368996,\n",
       "   -0.680714674163,\n",
       "   -0.821831267267,\n",
       "   -0.9279191336370001,\n",
       "   -0.989665848591,\n",
       "   -1.0,\n",
       "   -0.954673445213,\n",
       "   -0.852657465673,\n",
       "   -0.696321946953,\n",
       "   -0.491384078335,\n",
       "   -0.246631157883,\n",
       "   0.0166353000106,\n",
       "   0.19721036154,\n",
       "   0.378182597059,\n",
       "   0.550264724009,\n",
       "   0.704481973859,\n",
       "   0.8326673740270001,\n",
       "   0.927896493038,\n",
       "   0.984837501098,\n",
       "   1.0,\n",
       "   0.971874307999,\n",
       "   0.9009609734999999,\n",
       "   0.789697538412,\n",
       "   0.642295421674,\n",
       "   0.464503878702,\n",
       "   0.26332015976100004,\n",
       "   0.0466652998675,\n",
       "   -0.14075628898700002,\n",
       "   -0.31721574244,\n",
       "   -0.485371190537,\n",
       "   -0.638648917613,\n",
       "   -0.771013862964,\n",
       "   -0.877169931348,\n",
       "   -0.9527350478929999,\n",
       "   -0.9943900187970001,\n",
       "   -1.0,\n",
       "   -0.968706568377,\n",
       "   -0.9009873018619999,\n",
       "   -0.7986787242,\n",
       "   -0.664957780259,\n",
       "   -0.5042769627570001,\n",
       "   -0.322249014763,\n",
       "   -0.125478877742,\n",
       "   0.07299931471,\n",
       "   0.261975601412,\n",
       "   0.442984368385,\n",
       "   0.60867190642,\n",
       "   0.752150490506,\n",
       "   0.867323883681,\n",
       "   0.949191068442,\n",
       "   0.9941094627429999,\n",
       "   1.0,\n",
       "   0.966479053495,\n",
       "   0.8949061401989999,\n",
       "   0.788341386526,\n",
       "   0.651412503883,\n",
       "   0.490097049332,\n",
       "   0.311431541522,\n",
       "   0.123164077697,\n",
       "   -0.07732777425439999,\n",
       "   -0.29007265830400003,\n",
       "   -0.4865256758,\n",
       "   -0.658853348729,\n",
       "   -0.8005031425620001,\n",
       "   -0.906469257038,\n",
       "   -0.973465544991,\n",
       "   -1.0,\n",
       "   -0.986352203803,\n",
       "   -0.934461654936,\n",
       "   -0.847740482625,\n",
       "   -0.730828252643,\n",
       "   -0.5893090970329999,\n",
       "   -0.429412108457,\n",
       "   -0.257714861855,\n",
       "   -0.08086725289989999,\n",
       "   0.111320873099,\n",
       "   0.30900311262200003,\n",
       "   0.49137098721,\n",
       "   0.65260716925,\n",
       "   0.78772862219,\n",
       "   0.8926369820710001,\n",
       "   0.964146217515,\n",
       "   1.0,\n",
       "   0.9988896402330001,\n",
       "   0.960480302462,\n",
       "   0.885448871083,\n",
       "   0.7755318207619999,\n",
       "   0.633576325351,\n",
       "   0.463583254329,\n",
       "   0.270727238853,\n",
       "   0.0613371428966,\n",
       "   -0.131196311207,\n",
       "   -0.314246774923,\n",
       "   -0.490403059159,\n",
       "   -0.651783711346,\n",
       "   -0.790502079962,\n",
       "   -0.8990479357790001,\n",
       "   -0.9707077840989999,\n",
       "   -1.0,\n",
       "   -0.9830958682269999,\n",
       "   -0.918194500129,\n",
       "   -0.8058189052529999,\n",
       "   -0.6490025082540001,\n",
       "   -0.45334019812,\n",
       "   -0.226885413323,\n",
       "   0.015999261286799998,\n",
       "   0.21924259264499998,\n",
       "   0.41876850484399997,\n",
       "   0.603672883016,\n",
       "   0.763268208158,\n",
       "   0.887728943795,\n",
       "   0.968724975511,\n",
       "   1.0,\n",
       "   0.9778529496170001,\n",
       "   0.901484906102,\n",
       "   0.773181329852,\n",
       "   0.5983093871230001,\n",
       "   0.38512205194300003,\n",
       "   0.144373667972,\n",
       "   -0.09333946347660001,\n",
       "   -0.308588401365,\n",
       "   -0.512511209974,\n",
       "   -0.693346555141,\n",
       "   -0.8403684510799999,\n",
       "   -0.944545949454,\n",
       "   -0.999111487506,\n",
       "   -1.0,\n",
       "   -0.946129092398,\n",
       "   -0.8395009107250001,\n",
       "   -0.685118079268,\n",
       "   -0.49071835495300004,\n",
       "   -0.266344571102,\n",
       "   -0.0237771494992,\n",
       "   0.19476357903900002,\n",
       "   0.403371491093,\n",
       "   0.5940502912110001,\n",
       "   0.756654587073,\n",
       "   0.8825593906899999,\n",
       "   0.965118092888,\n",
       "   1.0,\n",
       "   0.985391054061,\n",
       "   0.922050434097,\n",
       "   0.813224856914,\n",
       "   0.664430916072,\n",
       "   0.483123155264,\n",
       "   0.278271328872,\n",
       "   0.0598741725256,\n",
       "   -0.156415092276,\n",
       "   -0.363582862238,\n",
       "   -0.553884933665,\n",
       "   -0.7186177056280001,\n",
       "   -0.8504052449930001,\n",
       "   -0.943501930977,\n",
       "   -0.9940088615880001,\n",
       "   -1.0,\n",
       "   -0.961558471516,\n",
       "   -0.8807271707250001,\n",
       "   -0.761380792357,\n",
       "   -0.609028543998,\n",
       "   -0.43055820393600003,\n",
       "   -0.233932985194,\n",
       "   -0.0278530250434,\n",
       "   0.18556020025199998,\n",
       "   0.391022378841,\n",
       "   0.578405555283,\n",
       "   0.739427556592,\n",
       "   0.866917581083,\n",
       "   0.955128616083,\n",
       "   1.0,\n",
       "   0.99935833105,\n",
       "   0.953045934064,\n",
       "   0.8629677665979999,\n",
       "   0.733050076478,\n",
       "   0.569107343711,\n",
       "   0.378617992897,\n",
       "   0.170413897173,\n",
       "   -0.0469902777386,\n",
       "   -0.26671316803100004,\n",
       "   -0.47333270198399996,\n",
       "   -0.656708557357,\n",
       "   -0.8077117813179999,\n",
       "   -0.918705800199,\n",
       "   -0.983964257652,\n",
       "   -1.0,\n",
       "   -0.965783449686,\n",
       "   -0.8828341827480001,\n",
       "   -0.755176462826,\n",
       "   -0.589157368657,\n",
       "   -0.393134475609,\n",
       "   -0.177048248305,\n",
       "   0.0479749743562,\n",
       "   0.270129284207,\n",
       "   0.47855146905100004,\n",
       "   0.662667641361,\n",
       "   0.813213245328,\n",
       "   0.922724813556,\n",
       "   0.985928096941,\n",
       "   1.0,\n",
       "   0.964689702687,\n",
       "   0.8822932614489999,\n",
       "   0.75748523685,\n",
       "   0.597019845868,\n",
       "   0.40932216009800004,\n",
       "   0.20399641252999998,\n",
       "   -0.00915703065157,\n",
       "   -0.22953338678399998,\n",
       "   -0.43648551811,\n",
       "   -0.620675809296,\n",
       "   -0.774215209128,\n",
       "   -0.8909995420990001,\n",
       "   -0.9669283654299999,\n",
       "   -1.0,\n",
       "   -0.9902848461149999,\n",
       "   -0.9397870233310001,\n",
       "   -0.8522111816500001,\n",
       "   -0.732656555466,\n",
       "   -0.587263644317,\n",
       "   -0.422840138074,\n",
       "   -0.246491859448,\n",
       "   -0.0652817399764,\n",
       "   0.125064313493,\n",
       "   0.312914740885,\n",
       "   0.486037363881,\n",
       "   0.6394160308300001,\n",
       "   0.7689966943950001,\n",
       "   0.8716716146179999,\n",
       "   0.945221230071,\n",
       "   0.9882308920489999,\n",
       "   1.0,\n",
       "   0.980459586009,\n",
       "   0.9301112699940001,\n",
       "   0.8499960867280001,\n",
       "   0.741696425334,\n",
       "   0.607368748283,\n",
       "   0.449799423719,\n",
       "   0.272471443986,\n",
       "   0.079626478825,\n",
       "   -0.0940744602841,\n",
       "   -0.252233796322,\n",
       "   -0.408910004935,\n",
       "   -0.558617112332,\n",
       "   -0.6955382332690001,\n",
       "   -0.813726442272,\n",
       "   -0.907355505258,\n",
       "   -0.971010054184,\n",
       "   -1.0,\n",
       "   -0.990680067862,\n",
       "   -0.940752675707,\n",
       "   -0.849531247011,\n",
       "   -0.718141622671,\n",
       "   -0.549641559026,\n",
       "   -0.349042278785,\n",
       "   -0.12322145911699998,\n",
       "   0.0849515410262,\n",
       "   0.262489722129,\n",
       "   0.437124729104,\n",
       "   0.60080082248,\n",
       "   0.7455250859199999,\n",
       "   0.863778172693,\n",
       "   0.948923014562,\n",
       "   0.9955877921070001,\n",
       "   1.0,\n",
       "   0.960250455225,\n",
       "   0.8764694921420001,\n",
       "   0.750902173392,\n",
       "   0.587874847468,\n",
       "   0.393651467571,\n",
       "   0.1761843777,\n",
       "   -0.04539410895280001,\n",
       "   -0.238661022183,\n",
       "   -0.42622906887199996,\n",
       "   -0.5993927800609999,\n",
       "   -0.749930472436,\n",
       "   -0.8705134538629999,\n",
       "   -0.9550765737029999,\n",
       "   -0.9991306031039999,\n",
       "   -1.0,\n",
       "   -0.9569735656559999,\n",
       "   -0.8713600947050001,\n",
       "   -0.7464460874690001,\n",
       "   -0.587357646913,\n",
       "   -0.40083354195200005,\n",
       "   -0.19492082477699998,\n",
       "   0.020012519032400002,\n",
       "   0.223201288622,\n",
       "   0.41821985846299997,\n",
       "   0.5963959327530001,\n",
       "   0.74977419599,\n",
       "   0.871477333208,\n",
       "   0.956016762722,\n",
       "   0.9995394097679999,\n",
       "   1.0,\n",
       "   0.957251876847,\n",
       "   0.87305307183,\n",
       "   0.7509881120370001,\n",
       "   0.596309675972,\n",
       "   0.415707567166,\n",
       "   0.217015444707,\n",
       "   0.00886823450142,\n",
       "   -0.199990972637,\n",
       "   -0.40015843224500003,\n",
       "   -0.582886307971,\n",
       "   -0.7401913986599999,\n",
       "   -0.865191452211,\n",
       "   -0.952408821261,\n",
       "   -0.9980142514929999,\n",
       "   -1.0,\n",
       "   -0.95827431105,\n",
       "   -0.874672477116,\n",
       "   -0.752883177462,\n",
       "   -0.5982923917090001,\n",
       "   -0.417750793791,\n",
       "   -0.219273993802,\n",
       "   -0.0116881567474,\n",
       "   0.20166538793699998,\n",
       "   ...]},\n",
       " 'type': 'Feature'}"
      ]
     },
     "execution_count": 470,
     "metadata": {},
     "output_type": "execute_result"
    }
   ],
   "source": [
    "final['125_S'][0]"
   ]
  },
  {
   "cell_type": "code",
   "execution_count": null,
   "metadata": {
    "collapsed": true
   },
   "outputs": [],
   "source": []
  }
 ],
 "metadata": {
  "anaconda-cloud": {},
  "kernelspec": {
   "display_name": "Python [default]",
   "language": "python",
   "name": "python2"
  },
  "language_info": {
   "codemirror_mode": {
    "name": "ipython",
    "version": 2
   },
   "file_extension": ".py",
   "mimetype": "text/x-python",
   "name": "python",
   "nbconvert_exporter": "python",
   "pygments_lexer": "ipython2",
   "version": "2.7.12"
  }
 },
 "nbformat": 4,
 "nbformat_minor": 1
}
