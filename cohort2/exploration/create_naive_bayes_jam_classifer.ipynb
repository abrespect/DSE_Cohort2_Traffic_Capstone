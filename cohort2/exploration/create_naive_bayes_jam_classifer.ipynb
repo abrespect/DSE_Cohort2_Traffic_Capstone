{
 "cells": [
  {
   "cell_type": "code",
   "execution_count": 1,
   "metadata": {
    "collapsed": true
   },
   "outputs": [],
   "source": [
    "import pandas as pd\n",
    "import numpy as np"
   ]
  },
  {
   "cell_type": "code",
   "execution_count": 2,
   "metadata": {
    "collapsed": true
   },
   "outputs": [],
   "source": [
    "df = pd.read_csv(\"I5S_labeled.csv\")"
   ]
  },
  {
   "cell_type": "code",
   "execution_count": 3,
   "metadata": {
    "collapsed": false
   },
   "outputs": [
    {
     "data": {
      "text/html": [
       "<div>\n",
       "<table border=\"1\" class=\"dataframe\">\n",
       "  <thead>\n",
       "    <tr style=\"text-align: right;\">\n",
       "      <th></th>\n",
       "      <th>Unnamed: 0</th>\n",
       "      <th>Date</th>\n",
       "      <th>Time</th>\n",
       "      <th>Station</th>\n",
       "      <th>TotalFlow</th>\n",
       "      <th>AvgOccupancy</th>\n",
       "      <th>AvgSpeed</th>\n",
       "      <th>Order</th>\n",
       "      <th>Class</th>\n",
       "    </tr>\n",
       "  </thead>\n",
       "  <tbody>\n",
       "    <tr>\n",
       "      <th>0</th>\n",
       "      <td>0</td>\n",
       "      <td>01/01/2015</td>\n",
       "      <td>00:00:00</td>\n",
       "      <td>1108417</td>\n",
       "      <td>76.0</td>\n",
       "      <td>0.0125</td>\n",
       "      <td>69.6</td>\n",
       "      <td>73</td>\n",
       "      <td>0.0</td>\n",
       "    </tr>\n",
       "    <tr>\n",
       "      <th>1</th>\n",
       "      <td>1</td>\n",
       "      <td>01/01/2015</td>\n",
       "      <td>00:05:00</td>\n",
       "      <td>1108417</td>\n",
       "      <td>92.0</td>\n",
       "      <td>0.0150</td>\n",
       "      <td>69.2</td>\n",
       "      <td>73</td>\n",
       "      <td>0.0</td>\n",
       "    </tr>\n",
       "    <tr>\n",
       "      <th>2</th>\n",
       "      <td>2</td>\n",
       "      <td>01/01/2015</td>\n",
       "      <td>00:10:00</td>\n",
       "      <td>1108417</td>\n",
       "      <td>100.0</td>\n",
       "      <td>0.0162</td>\n",
       "      <td>69.8</td>\n",
       "      <td>73</td>\n",
       "      <td>0.0</td>\n",
       "    </tr>\n",
       "    <tr>\n",
       "      <th>3</th>\n",
       "      <td>3</td>\n",
       "      <td>01/01/2015</td>\n",
       "      <td>00:15:00</td>\n",
       "      <td>1108417</td>\n",
       "      <td>91.0</td>\n",
       "      <td>0.0143</td>\n",
       "      <td>69.9</td>\n",
       "      <td>73</td>\n",
       "      <td>0.0</td>\n",
       "    </tr>\n",
       "    <tr>\n",
       "      <th>4</th>\n",
       "      <td>4</td>\n",
       "      <td>01/01/2015</td>\n",
       "      <td>00:20:00</td>\n",
       "      <td>1108417</td>\n",
       "      <td>176.0</td>\n",
       "      <td>0.0291</td>\n",
       "      <td>67.6</td>\n",
       "      <td>73</td>\n",
       "      <td>0.0</td>\n",
       "    </tr>\n",
       "  </tbody>\n",
       "</table>\n",
       "</div>"
      ],
      "text/plain": [
       "   Unnamed: 0        Date      Time  Station  TotalFlow  AvgOccupancy  \\\n",
       "0           0  01/01/2015  00:00:00  1108417       76.0        0.0125   \n",
       "1           1  01/01/2015  00:05:00  1108417       92.0        0.0150   \n",
       "2           2  01/01/2015  00:10:00  1108417      100.0        0.0162   \n",
       "3           3  01/01/2015  00:15:00  1108417       91.0        0.0143   \n",
       "4           4  01/01/2015  00:20:00  1108417      176.0        0.0291   \n",
       "\n",
       "   AvgSpeed  Order  Class  \n",
       "0      69.6     73    0.0  \n",
       "1      69.2     73    0.0  \n",
       "2      69.8     73    0.0  \n",
       "3      69.9     73    0.0  \n",
       "4      67.6     73    0.0  "
      ]
     },
     "execution_count": 3,
     "metadata": {},
     "output_type": "execute_result"
    }
   ],
   "source": [
    "df.head()"
   ]
  },
  {
   "cell_type": "code",
   "execution_count": 4,
   "metadata": {
    "collapsed": false
   },
   "outputs": [
    {
     "data": {
      "text/html": [
       "<div>\n",
       "<table border=\"1\" class=\"dataframe\">\n",
       "  <thead>\n",
       "    <tr style=\"text-align: right;\">\n",
       "      <th></th>\n",
       "      <th>Unnamed: 0</th>\n",
       "      <th>Date</th>\n",
       "      <th>Time</th>\n",
       "      <th>Station</th>\n",
       "      <th>TotalFlow</th>\n",
       "      <th>AvgOccupancy</th>\n",
       "      <th>AvgSpeed</th>\n",
       "      <th>Order</th>\n",
       "    </tr>\n",
       "    <tr>\n",
       "      <th>Class</th>\n",
       "      <th></th>\n",
       "      <th></th>\n",
       "      <th></th>\n",
       "      <th></th>\n",
       "      <th></th>\n",
       "      <th></th>\n",
       "      <th></th>\n",
       "      <th></th>\n",
       "    </tr>\n",
       "  </thead>\n",
       "  <tbody>\n",
       "    <tr>\n",
       "      <th>0.0</th>\n",
       "      <td>9998289</td>\n",
       "      <td>9998289</td>\n",
       "      <td>9998289</td>\n",
       "      <td>9998289</td>\n",
       "      <td>9998289</td>\n",
       "      <td>9998289</td>\n",
       "      <td>9998289</td>\n",
       "      <td>9998289</td>\n",
       "    </tr>\n",
       "    <tr>\n",
       "      <th>0.5</th>\n",
       "      <td>585880</td>\n",
       "      <td>585880</td>\n",
       "      <td>585880</td>\n",
       "      <td>585880</td>\n",
       "      <td>585880</td>\n",
       "      <td>585880</td>\n",
       "      <td>585880</td>\n",
       "      <td>585880</td>\n",
       "    </tr>\n",
       "    <tr>\n",
       "      <th>1.0</th>\n",
       "      <td>189009</td>\n",
       "      <td>189009</td>\n",
       "      <td>189009</td>\n",
       "      <td>189009</td>\n",
       "      <td>189009</td>\n",
       "      <td>189009</td>\n",
       "      <td>189009</td>\n",
       "      <td>189009</td>\n",
       "    </tr>\n",
       "  </tbody>\n",
       "</table>\n",
       "</div>"
      ],
      "text/plain": [
       "       Unnamed: 0     Date     Time  Station  TotalFlow  AvgOccupancy  \\\n",
       "Class                                                                   \n",
       "0.0       9998289  9998289  9998289  9998289    9998289       9998289   \n",
       "0.5        585880   585880   585880   585880     585880        585880   \n",
       "1.0        189009   189009   189009   189009     189009        189009   \n",
       "\n",
       "       AvgSpeed    Order  \n",
       "Class                     \n",
       "0.0     9998289  9998289  \n",
       "0.5      585880   585880  \n",
       "1.0      189009   189009  "
      ]
     },
     "execution_count": 4,
     "metadata": {},
     "output_type": "execute_result"
    }
   ],
   "source": [
    "df.groupby('Class').count()"
   ]
  },
  {
   "cell_type": "markdown",
   "metadata": {},
   "source": [
    "## Pivot Class to create Naive Classifier"
   ]
  },
  {
   "cell_type": "code",
   "execution_count": 7,
   "metadata": {
    "collapsed": true
   },
   "outputs": [],
   "source": [
    "df2 = pd.pivot_table(df,index='Station', columns='Time', values='Class')"
   ]
  },
  {
   "cell_type": "code",
   "execution_count": 15,
   "metadata": {
    "collapsed": false
   },
   "outputs": [],
   "source": [
    "df['conc'] = df['Station'].astype(str)+'__'+df['Date'].astype(str)"
   ]
  },
  {
   "cell_type": "code",
   "execution_count": 16,
   "metadata": {
    "collapsed": false
   },
   "outputs": [],
   "source": [
    "df2 = df.pivot(index='conc', columns='Time', values='Class')"
   ]
  },
  {
   "cell_type": "code",
   "execution_count": 17,
   "metadata": {
    "collapsed": false
   },
   "outputs": [
    {
     "data": {
      "text/plain": [
       "(37526, 288)"
      ]
     },
     "execution_count": 17,
     "metadata": {},
     "output_type": "execute_result"
    }
   ],
   "source": [
    "df2.shape"
   ]
  },
  {
   "cell_type": "code",
   "execution_count": 20,
   "metadata": {
    "collapsed": false
   },
   "outputs": [],
   "source": [
    "df2 = df2.reset_index()"
   ]
  },
  {
   "cell_type": "code",
   "execution_count": 28,
   "metadata": {
    "collapsed": false
   },
   "outputs": [],
   "source": [
    "df2['Station'], df2['Date'] = df2['conc'].str.split('__', 1).str"
   ]
  },
  {
   "cell_type": "code",
   "execution_count": 35,
   "metadata": {
    "collapsed": false
   },
   "outputs": [],
   "source": [
    "avgs = df2.groupby('Station').mean().reset_index()"
   ]
  },
  {
   "cell_type": "code",
   "execution_count": 41,
   "metadata": {
    "collapsed": false
   },
   "outputs": [],
   "source": [
    "result = pd.melt(avgs, id_vars=['Station'], value_vars=list(avgs.columns[1:]), var_name='Time', value_name='Percent')"
   ]
  },
  {
   "cell_type": "code",
   "execution_count": 44,
   "metadata": {
    "collapsed": true
   },
   "outputs": [],
   "source": [
    "result['Station'] = result['Station'].astype(int)"
   ]
  },
  {
   "cell_type": "code",
   "execution_count": 50,
   "metadata": {
    "collapsed": false
   },
   "outputs": [
    {
     "data": {
      "text/plain": [
       "0.14370954692556634"
      ]
     },
     "execution_count": 50,
     "metadata": {},
     "output_type": "execute_result"
    }
   ],
   "source": [
    "sum(result['Percent']>.1) / float(result.shape[0]) # percent that are above threshold"
   ]
  },
  {
   "cell_type": "code",
   "execution_count": 51,
   "metadata": {
    "collapsed": true
   },
   "outputs": [],
   "source": [
    "def regular_irregular(row, threshold = .1):\n",
    "    if row['Class'] == 0:\n",
    "        return 'No Jam'\n",
    "    elif row['Percent'] < threshold:\n",
    "        return 'Irregular'\n",
    "    else:\n",
    "        return 'Regular'"
   ]
  },
  {
   "cell_type": "code",
   "execution_count": 52,
   "metadata": {
    "collapsed": false
   },
   "outputs": [],
   "source": [
    "df['Regular'] = df.merge(result).apply(lambda row: regular_irregular(row), axis=1)"
   ]
  },
  {
   "cell_type": "code",
   "execution_count": 56,
   "metadata": {
    "collapsed": true
   },
   "outputs": [],
   "source": [
    "df.merge(result).to_csv('I5S_labeled_w_regular.csv')"
   ]
  },
  {
   "cell_type": "code",
   "execution_count": null,
   "metadata": {
    "collapsed": true
   },
   "outputs": [],
   "source": []
  }
 ],
 "metadata": {
  "kernelspec": {
   "display_name": "Python 2",
   "language": "python",
   "name": "python2"
  },
  "language_info": {
   "codemirror_mode": {
    "name": "ipython",
    "version": 2
   },
   "file_extension": ".py",
   "mimetype": "text/x-python",
   "name": "python",
   "nbconvert_exporter": "python",
   "pygments_lexer": "ipython2",
   "version": "2.7.12"
  }
 },
 "nbformat": 4,
 "nbformat_minor": 2
}
