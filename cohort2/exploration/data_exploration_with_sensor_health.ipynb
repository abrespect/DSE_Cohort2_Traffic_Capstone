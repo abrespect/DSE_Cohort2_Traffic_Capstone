{
 "cells": [
  {
   "cell_type": "markdown",
   "metadata": {},
   "source": [
    "## Data Exploration\n",
    "\n",
    "### Purpose & Motivation\n",
    "\n",
    "The purpose of this notebook is to investigate the traffic data from pems and generate 2015 files for further analysis. \n",
    "\n",
    "### Direction from Advisor\n",
    "\n",
    "N/A\n",
    "\n",
    "### Tasks/Questions to Answer\n",
    "#### Questions to Answer\n",
    "\n",
    "What is changing within the metadata files over time and what is the \"correct\" to use for our project?\n",
    "What does the 5 min data look like?\n",
    "    What is the distribution of stations per type?\n",
    "    What are the summary statistics for each station type?\n",
    "    \n",
    "How many stations contain imputed data?\n",
    "How many stations are always down?\n",
    "Do we have data files for every day in the 2015 year?\n",
    "\n",
    "#### Tasks\n",
    "Generate a metadata file for 2015.\n",
    "Generate a average 5 minute file for 2015.\n",
    "Generate CDF for % observed for 2015.\n",
    "Generate a ranked list of stations for 2015 based upon % observed data.\n",
    "Check if we have data files for all days in 2015.\n",
    "Check which stations are always down in 2015.\n",
    "\n",
    "### Results\n",
    "#### Metadata\n",
    "For our purposes the latest record for each station was decided to be the \"correct\" answer. This is a simplification\n",
    "but for our approach on the project we are using yearly or multi-year averages of the data rather than indexing \n",
    "day to day, so having the metadata change over time doesn't really make sense.\n",
    " \n",
    "#### 5 minute frame\n",
    "\n",
    "### Conclusions\n",
    "\n",
    "General information about the pems data is posted to the wiki.\n",
    "https://github.com/mas-dse-c6sander/DSE_Cohort2_Traffic_Capstone/wiki/PeMS-Data-Information\n",
    "\n",
    "It was decided that the latest record per metadata file would be \"correct\" however some stations might not appear in the last file, so consolidating all of the files and taking the \"last\" record was considered a better approach then just using the last metadata file.\n",
    "\n",
    "Looks like all of the fields in the 5 min data don't relate to all of the freeway types equally.\n",
    "    Types that don't include Occupancy, Speed, Station Length CH FR OR\n",
    "    Types that don't include Speed, Station Length FF\n",
    "    Types that include Occupancy and Speed data (ie: have all field types) ML, HV\n",
    "    Note: Lane N Observed is a 0 when no data exists for the lane, unlike other fields which are \"blank\" and therefore NaN\n",
    "    \n",
    "The \"best\" station has 97.5% observed data which means that 2.5% is imputted data for 2015. CDF Results can be found in this notebook or on the wiki.\n",
    "https://github.com/mas-dse-c6sander/DSE_Cohort2_Traffic_Capstone/wiki/Sensor-Health\n",
    "\n",
    "The freeway/station rank list was generated and also posted to the wiki.\n",
    "https://github.com/mas-dse-c6sander/DSE_Cohort2_Traffic_Capstone/wiki/List-of-Stations-in-rank-order-for-2015\n",
    "https://github.com/mas-dse-c6sander/DSE_Cohort2_Traffic_Capstone/wiki/List-of-Freeways-in-Rank-Order-for-2015\n",
    "\n",
    "Some additional definitions / info for 2016 data\n",
    "https://github.com/mas-dse-c6sander/DSE_Cohort2_Traffic_Capstone/wiki/Data-Exploration\n",
    "\n"
   ]
  },
  {
   "cell_type": "code",
   "execution_count": 2,
   "metadata": {
    "collapsed": false,
    "nbpresent": {
     "id": "8c32f355-32aa-4b0c-a068-9cd9b6c7aa35"
    },
    "slideshow": {
     "slide_type": "skip"
    }
   },
   "outputs": [
    {
     "name": "stdout",
     "output_type": "stream",
     "text": [
      "Populating the interactive namespace from numpy and matplotlib\n"
     ]
    }
   ],
   "source": [
    "import pandas as pd\n",
    "import os\n",
    "import glob\n",
    "import numpy as np\n",
    "import seaborn as sns\n",
    "import matplotlib.pyplot as plt\n",
    "import time\n",
    "%pylab inline"
   ]
  },
  {
   "cell_type": "markdown",
   "metadata": {
    "nbpresent": {
     "id": "57980ddb-a138-48db-a7c9-0c22db5c2215"
    },
    "slideshow": {
     "slide_type": "slide"
    }
   },
   "source": [
    "# Investigate Meta Data Field\n",
    "\n",
    "## Load all metadata for d11 2015"
   ]
  },
  {
   "cell_type": "code",
   "execution_count": 3,
   "metadata": {
    "collapsed": false,
    "nbpresent": {
     "id": "98b03aee-9028-4753-8582-f4326765a286"
    }
   },
   "outputs": [
    {
     "name": "stdout",
     "output_type": "stream",
     "text": [
      "\u001b[34md10\u001b[m\u001b[m \u001b[34md11\u001b[m\u001b[m \u001b[34md12\u001b[m\u001b[m \u001b[34md3\u001b[m\u001b[m  \u001b[34md4\u001b[m\u001b[m  \u001b[34md5\u001b[m\u001b[m  \u001b[34md6\u001b[m\u001b[m  \u001b[34md7\u001b[m\u001b[m  \u001b[34md8\u001b[m\u001b[m\r\n"
     ]
    }
   ],
   "source": [
    "!ls ../data/meta/2015"
   ]
  },
  {
   "cell_type": "code",
   "execution_count": 4,
   "metadata": {
    "collapsed": false,
    "nbpresent": {
     "id": "9a7cdfd9-9b28-4504-b843-d7ffd1dce3b7"
    }
   },
   "outputs": [
    {
     "name": "stdout",
     "output_type": "stream",
     "text": [
      "ID\tFwy\tDir\tDistrict\tCounty\tCity\tState_PM\tAbs_PM\tLatitude\tLongitude\tLength\tType\tLanes\tName\tUser_ID_1\tUser_ID_2\tUser_ID_3\tUser_ID_4\r\n",
      "1100313\t5\tN\t11\t73\t66000\tR22.324\t22.215\t32.79154\t-117.20716\t\tFR\t1\tCLAIREMONT DR\t151\t\t\t\r\n",
      "1100323\t5\tN\t11\t73\t66000\tR34.142\t34.033\t32.950106\t-117.243571\t\tFR\t2\tDEL MAR HTS RD\t129\t\t\t\r\n",
      "1100326\t5\tN\t11\t73\t66000\tR36.232\t36.123\t32.979357\t-117.252719\t\tFR\t2\tVIA DE LA VALLE\t130\t\t\t\r\n",
      "1100330\t5\tN\t11\t73\t66000\tR37.37\t37.261\t32.995494\t-117.25635\t\tFR\t2\tLOMAS SANTA FE\t341\t\t\t\r\n"
     ]
    }
   ],
   "source": [
    "!head -n 5 ../data/meta/2015/d11/d11_text_meta_2015_01_01.txt"
   ]
  },
  {
   "cell_type": "code",
   "execution_count": 5,
   "metadata": {
    "collapsed": false,
    "nbpresent": {
     "id": "86ace995-62a1-4bad-ba6a-54263e2c97e9"
    },
    "scrolled": true
   },
   "outputs": [
    {
     "name": "stdout",
     "output_type": "stream",
     "text": [
      "['../data/meta/2015/d11/d11_text_meta_2015_01_01.txt', '../data/meta/2015/d11/d11_text_meta_2015_02_06.txt', '../data/meta/2015/d11/d11_text_meta_2015_02_20.txt', '../data/meta/2015/d11/d11_text_meta_2015_04_03.txt', '../data/meta/2015/d11/d11_text_meta_2015_05_23.txt', '../data/meta/2015/d11/d11_text_meta_2015_06_03.txt', '../data/meta/2015/d11/d11_text_meta_2015_06_18.txt', '../data/meta/2015/d11/d11_text_meta_2015_06_25.txt', '../data/meta/2015/d11/d11_text_meta_2015_06_26.txt', '../data/meta/2015/d11/d11_text_meta_2015_07_22.txt', '../data/meta/2015/d11/d11_text_meta_2015_07_31.txt', '../data/meta/2015/d11/d11_text_meta_2015_08_01.txt', '../data/meta/2015/d11/d11_text_meta_2015_08_04.txt', '../data/meta/2015/d11/d11_text_meta_2015_08_11.txt', '../data/meta/2015/d11/d11_text_meta_2015_08_21.txt', '../data/meta/2015/d11/d11_text_meta_2015_09_03.txt', '../data/meta/2015/d11/d11_text_meta_2015_09_18.txt', '../data/meta/2015/d11/d11_text_meta_2015_09_24.txt', '../data/meta/2015/d11/d11_text_meta_2015_10_23.txt', '../data/meta/2015/d11/d11_text_meta_2015_12_17.txt']\n"
     ]
    }
   ],
   "source": [
    "meta_dir = '../data/meta/2015/d11/*text_meta_*.txt'\n",
    "meta_files = glob.glob(meta_dir)\n",
    "meta_file_list = []\n",
    "for meta_file in meta_files:\n",
    "    date = str('_'.join(meta_file.split('_')[4:7])).split('.')[0]\n",
    "    df = pd.read_table(meta_file, index_col=None, header=0)\n",
    "    date_col = pd.Series([date] * len(df))\n",
    "    df['file_date'] = date_col\n",
    "    meta_file_list.append(df)\n",
    "    \n",
    "print meta_files\n",
    "meta_frame = pd.concat(meta_file_list)"
   ]
  },
  {
   "cell_type": "code",
   "execution_count": 6,
   "metadata": {
    "collapsed": false,
    "nbpresent": {
     "id": "0da7a7be-4d33-420e-a8c5-01020a7d61be"
    }
   },
   "outputs": [
    {
     "data": {
      "text/plain": [
       "(29496, 19)"
      ]
     },
     "execution_count": 6,
     "metadata": {},
     "output_type": "execute_result"
    }
   ],
   "source": [
    "meta_frame.shape"
   ]
  },
  {
   "cell_type": "code",
   "execution_count": 7,
   "metadata": {
    "collapsed": false,
    "nbpresent": {
     "id": "843452c9-9bf9-448e-bcbf-02ba5917c544"
    }
   },
   "outputs": [
    {
     "data": {
      "text/plain": [
       "(27955, 19)"
      ]
     },
     "execution_count": 7,
     "metadata": {},
     "output_type": "execute_result"
    }
   ],
   "source": [
    "# check for duplicate ID values.\n",
    "meta_frame[meta_frame.ID.duplicated() == True].shape"
   ]
  },
  {
   "cell_type": "markdown",
   "metadata": {
    "nbpresent": {
     "id": "901d11c7-2fb7-45b8-b1d0-396a1d08377a"
    }
   },
   "source": [
    "## There are lots of duplicate IDs\n",
    "The meta data is changing for the stations over time"
   ]
  },
  {
   "cell_type": "code",
   "execution_count": 8,
   "metadata": {
    "collapsed": false,
    "nbpresent": {
     "id": "ecad3309-801b-4494-89cf-e7387db7d3c8"
    }
   },
   "outputs": [
    {
     "data": {
      "text/plain": [
       "Index([u'ID', u'Fwy', u'Dir', u'District', u'County', u'City', u'State_PM',\n",
       "       u'Abs_PM', u'Latitude', u'Longitude', u'Length', u'Type', u'Lanes',\n",
       "       u'Name', u'User_ID_1', u'User_ID_2', u'User_ID_3', u'User_ID_4',\n",
       "       u'file_date'],\n",
       "      dtype='object')"
      ]
     },
     "execution_count": 8,
     "metadata": {},
     "output_type": "execute_result"
    }
   ],
   "source": [
    "meta_frame.columns"
   ]
  },
  {
   "cell_type": "code",
   "execution_count": 9,
   "metadata": {
    "collapsed": false,
    "nbpresent": {
     "id": "0ff84150-4f2c-4d44-8fa4-2ebfa39d7376"
    },
    "scrolled": true
   },
   "outputs": [
    {
     "name": "stdout",
     "output_type": "stream",
     "text": [
      "unique count of stations: 1541\n",
      "\n",
      "distribution of Types of stations\n"
     ]
    },
    {
     "data": {
      "text/plain": [
       "ML    839\n",
       "OR    312\n",
       "FR    234\n",
       "HV     93\n",
       "FF     55\n",
       "CH      7\n",
       "CD      1\n",
       "Name: Type, dtype: int64"
      ]
     },
     "execution_count": 9,
     "metadata": {},
     "output_type": "execute_result"
    }
   ],
   "source": [
    "# the type in the meta data are just the detector types.  Need to analyze the \"change\" that cohort 1 referred to\n",
    "no_dup_keep_last = meta_frame.drop_duplicates(subset='ID', keep='last') # TODO: assuming meta and 5min agree on freeway type...check?\n",
    "print \"unique count of stations: %s\" % no_dup_keep_last.shape[0]\n",
    "\n",
    "print \"\\ndistribution of Types of stations\"\n",
    "no_dup_keep_last.Type.value_counts()"
   ]
  },
  {
   "cell_type": "code",
   "execution_count": 10,
   "metadata": {
    "collapsed": true
   },
   "outputs": [],
   "source": [
    "# this is commented out to all for re-running\n",
    "# no_dup_keep_last.to_hdf('meta_2015.hdf', 'meta_2015', mode='w')"
   ]
  },
  {
   "cell_type": "code",
   "execution_count": 11,
   "metadata": {
    "collapsed": false,
    "nbpresent": {
     "id": "d4783660-0ae9-4508-b7a4-1a7295e684a1"
    }
   },
   "outputs": [
    {
     "data": {
      "text/html": [
       "<div>\n",
       "<table border=\"1\" class=\"dataframe\">\n",
       "  <thead>\n",
       "    <tr style=\"text-align: right;\">\n",
       "      <th></th>\n",
       "      <th>ID</th>\n",
       "      <th>Fwy</th>\n",
       "      <th>Dir</th>\n",
       "      <th>District</th>\n",
       "      <th>County</th>\n",
       "      <th>City</th>\n",
       "      <th>State_PM</th>\n",
       "      <th>Abs_PM</th>\n",
       "      <th>Latitude</th>\n",
       "      <th>Longitude</th>\n",
       "      <th>Length</th>\n",
       "      <th>Type</th>\n",
       "      <th>Lanes</th>\n",
       "      <th>Name</th>\n",
       "      <th>User_ID_1</th>\n",
       "      <th>User_ID_2</th>\n",
       "      <th>User_ID_3</th>\n",
       "      <th>User_ID_4</th>\n",
       "      <th>file_date</th>\n",
       "    </tr>\n",
       "  </thead>\n",
       "  <tbody>\n",
       "    <tr>\n",
       "      <th>1419</th>\n",
       "      <td>1126035</td>\n",
       "      <td>78</td>\n",
       "      <td>W</td>\n",
       "      <td>11</td>\n",
       "      <td>73</td>\n",
       "      <td>NaN</td>\n",
       "      <td>R16.267</td>\n",
       "      <td>16.263</td>\n",
       "      <td>33.127065</td>\n",
       "      <td>-117.109382</td>\n",
       "      <td>0.684</td>\n",
       "      <td>ML</td>\n",
       "      <td>2</td>\n",
       "      <td>78 WB W/O 15</td>\n",
       "      <td>13004</td>\n",
       "      <td>NaN</td>\n",
       "      <td>NaN</td>\n",
       "      <td>NaN</td>\n",
       "      <td>12_17</td>\n",
       "    </tr>\n",
       "    <tr>\n",
       "      <th>1420</th>\n",
       "      <td>1126036</td>\n",
       "      <td>78</td>\n",
       "      <td>W</td>\n",
       "      <td>11</td>\n",
       "      <td>73</td>\n",
       "      <td>NaN</td>\n",
       "      <td>R16.27</td>\n",
       "      <td>16.266</td>\n",
       "      <td>33.127047</td>\n",
       "      <td>-117.109335</td>\n",
       "      <td>NaN</td>\n",
       "      <td>FF</td>\n",
       "      <td>2</td>\n",
       "      <td>78 WB Con Fr 15NB</td>\n",
       "      <td>23004</td>\n",
       "      <td>NaN</td>\n",
       "      <td>NaN</td>\n",
       "      <td>NaN</td>\n",
       "      <td>12_17</td>\n",
       "    </tr>\n",
       "    <tr>\n",
       "      <th>1421</th>\n",
       "      <td>1126037</td>\n",
       "      <td>78</td>\n",
       "      <td>W</td>\n",
       "      <td>11</td>\n",
       "      <td>73</td>\n",
       "      <td>NaN</td>\n",
       "      <td>R16.272</td>\n",
       "      <td>16.268</td>\n",
       "      <td>33.127036</td>\n",
       "      <td>-117.109303</td>\n",
       "      <td>NaN</td>\n",
       "      <td>FF</td>\n",
       "      <td>1</td>\n",
       "      <td>78 WB Con Fr 15SB</td>\n",
       "      <td>33004</td>\n",
       "      <td>NaN</td>\n",
       "      <td>NaN</td>\n",
       "      <td>NaN</td>\n",
       "      <td>12_17</td>\n",
       "    </tr>\n",
       "    <tr>\n",
       "      <th>1422</th>\n",
       "      <td>1126175</td>\n",
       "      <td>805</td>\n",
       "      <td>N</td>\n",
       "      <td>11</td>\n",
       "      <td>73</td>\n",
       "      <td>66000.0</td>\n",
       "      <td>23.26</td>\n",
       "      <td>23.111</td>\n",
       "      <td>32.842493</td>\n",
       "      <td>-117.174848</td>\n",
       "      <td>1.267</td>\n",
       "      <td>ML</td>\n",
       "      <td>5</td>\n",
       "      <td>805 NB S/O 52</td>\n",
       "      <td>16705</td>\n",
       "      <td>NaN</td>\n",
       "      <td>NaN</td>\n",
       "      <td>NaN</td>\n",
       "      <td>12_17</td>\n",
       "    </tr>\n",
       "    <tr>\n",
       "      <th>1423</th>\n",
       "      <td>1126191</td>\n",
       "      <td>805</td>\n",
       "      <td>S</td>\n",
       "      <td>11</td>\n",
       "      <td>73</td>\n",
       "      <td>66000.0</td>\n",
       "      <td>23.65</td>\n",
       "      <td>23.501</td>\n",
       "      <td>32.847433</td>\n",
       "      <td>-117.178139</td>\n",
       "      <td>0.586</td>\n",
       "      <td>ML</td>\n",
       "      <td>5</td>\n",
       "      <td>805 SB N/O 52</td>\n",
       "      <td>16708</td>\n",
       "      <td>NaN</td>\n",
       "      <td>NaN</td>\n",
       "      <td>NaN</td>\n",
       "      <td>12_17</td>\n",
       "    </tr>\n",
       "  </tbody>\n",
       "</table>\n",
       "</div>"
      ],
      "text/plain": [
       "           ID  Fwy Dir  District  County     City State_PM  Abs_PM   Latitude  \\\n",
       "1419  1126035   78   W        11      73      NaN  R16.267  16.263  33.127065   \n",
       "1420  1126036   78   W        11      73      NaN   R16.27  16.266  33.127047   \n",
       "1421  1126037   78   W        11      73      NaN  R16.272  16.268  33.127036   \n",
       "1422  1126175  805   N        11      73  66000.0    23.26  23.111  32.842493   \n",
       "1423  1126191  805   S        11      73  66000.0    23.65  23.501  32.847433   \n",
       "\n",
       "       Longitude  Length Type  Lanes               Name  User_ID_1  User_ID_2  \\\n",
       "1419 -117.109382   0.684   ML      2       78 WB W/O 15      13004        NaN   \n",
       "1420 -117.109335     NaN   FF      2  78 WB Con Fr 15NB      23004        NaN   \n",
       "1421 -117.109303     NaN   FF      1  78 WB Con Fr 15SB      33004        NaN   \n",
       "1422 -117.174848   1.267   ML      5      805 NB S/O 52      16705        NaN   \n",
       "1423 -117.178139   0.586   ML      5      805 SB N/O 52      16708        NaN   \n",
       "\n",
       "      User_ID_3  User_ID_4 file_date  \n",
       "1419        NaN        NaN     12_17  \n",
       "1420        NaN        NaN     12_17  \n",
       "1421        NaN        NaN     12_17  \n",
       "1422        NaN        NaN     12_17  \n",
       "1423        NaN        NaN     12_17  "
      ]
     },
     "execution_count": 11,
     "metadata": {},
     "output_type": "execute_result"
    }
   ],
   "source": [
    "no_dup_keep_last.tail()"
   ]
  },
  {
   "cell_type": "code",
   "execution_count": 12,
   "metadata": {
    "collapsed": false,
    "nbpresent": {
     "id": "144b7da4-d87c-41bd-ac46-ab20f0586d5b"
    }
   },
   "outputs": [
    {
     "data": {
      "text/plain": [
       "Index([u'ID', u'Fwy', u'Dir', u'District', u'County', u'City', u'State_PM',\n",
       "       u'Abs_PM', u'Latitude', u'Longitude', u'Length', u'Type', u'Lanes',\n",
       "       u'Name', u'User_ID_1', u'User_ID_2', u'User_ID_3', u'User_ID_4',\n",
       "       u'file_date'],\n",
       "      dtype='object')"
      ]
     },
     "execution_count": 12,
     "metadata": {},
     "output_type": "execute_result"
    }
   ],
   "source": [
    "meta_frame.columns"
   ]
  },
  {
   "cell_type": "code",
   "execution_count": 13,
   "metadata": {
    "collapsed": false,
    "nbpresent": {
     "id": "1ca1f7c9-a5a1-48cd-a812-180b36770cec"
    }
   },
   "outputs": [
    {
     "name": "stdout",
     "output_type": "stream",
     "text": [
      "column: ID, unique values: [1126191]\n",
      "column: Fwy, unique values: [805]\n",
      "column: Dir, unique values: ['S']\n",
      "column: District, unique values: [11]\n",
      "column: County, unique values: [73]\n",
      "column: City, unique values: [ 66000.]\n",
      "column: State_PM, unique values: ['23.65']\n",
      "column: Abs_PM, unique values: [ 23.501]\n",
      "column: Latitude, unique values: [ 32.847433]\n",
      "column: Longitude, unique values: [-117.178139]\n",
      "column: Length, unique values: [ 0.195  0.586]\n",
      "column: Type, unique values: ['ML']\n",
      "column: Lanes, unique values: [5]\n",
      "column: Name, unique values: ['805 SB N/O 52']\n",
      "column: User_ID_1, unique values: [16708]\n",
      "column: User_ID_2, unique values: [ nan]\n",
      "column: User_ID_3, unique values: [ nan]\n",
      "column: User_ID_4, unique values: [ nan]\n",
      "column: file_date, unique values: ['06_26' '07_22' '07_31' '08_01' '08_04' '08_11' '08_21' '09_03' '09_18'\n",
      " '09_24' '10_23' '12_17']\n"
     ]
    }
   ],
   "source": [
    "# spot check a single station ID\n",
    "for column in meta_frame.columns:\n",
    "    print \"column: %s, unique values: %s\" % (column, meta_frame[meta_frame['ID'] == 1126191][column].unique())"
   ]
  },
  {
   "cell_type": "code",
   "execution_count": 14,
   "metadata": {
    "collapsed": false
   },
   "outputs": [],
   "source": [
    "tmp = meta_frame[[u'ID', u'Fwy', u'Dir', u'District', u'County', u'City', u'State_PM',\n",
    "       u'Abs_PM', u'Latitude', u'Longitude', u'Length', u'Type', u'Lanes',\n",
    "       u'Name']]"
   ]
  },
  {
   "cell_type": "code",
   "execution_count": 15,
   "metadata": {
    "collapsed": false,
    "scrolled": true
   },
   "outputs": [
    {
     "name": "stdout",
     "output_type": "stream",
     "text": [
      "ind: 1100416, unique: 2\n",
      "ind: 1100434, unique: 2\n",
      "ind: 1100442, unique: 2\n",
      "ind: 1100451, unique: 2\n",
      "ind: 1100475, unique: 2\n",
      "ind: 1100478, unique: 2\n",
      "ind: 1100486, unique: 2\n",
      "ind: 1108290, unique: 2\n",
      "ind: 1108330, unique: 2\n",
      "ind: 1108333, unique: 2\n",
      "ind: 1108336, unique: 2\n",
      "ind: 1108338, unique: 2\n",
      "ind: 1108339, unique: 2\n",
      "ind: 1108340, unique: 2\n",
      "ind: 1108341, unique: 2\n",
      "ind: 1108343, unique: 2\n",
      "ind: 1108345, unique: 2\n",
      "ind: 1108346, unique: 2\n",
      "ind: 1108347, unique: 2\n",
      "ind: 1108350, unique: 2\n",
      "ind: 1108351, unique: 2\n",
      "ind: 1108353, unique: 2\n",
      "ind: 1108355, unique: 2\n",
      "ind: 1108356, unique: 2\n",
      "ind: 1108357, unique: 2\n",
      "ind: 1108358, unique: 2\n",
      "ind: 1108359, unique: 2\n",
      "ind: 1108360, unique: 2\n",
      "ind: 1108363, unique: 2\n",
      "ind: 1108366, unique: 2\n",
      "ind: 1108369, unique: 2\n",
      "ind: 1108371, unique: 2\n",
      "ind: 1108385, unique: 2\n",
      "ind: 1108387, unique: 2\n",
      "ind: 1108388, unique: 2\n",
      "ind: 1108389, unique: 2\n",
      "ind: 1108390, unique: 2\n",
      "ind: 1108410, unique: 3\n",
      "ind: 1108419, unique: 2\n",
      "ind: 1108420, unique: 2\n",
      "ind: 1108421, unique: 2\n",
      "ind: 1108423, unique: 2\n",
      "ind: 1108425, unique: 2\n",
      "ind: 1108427, unique: 2\n",
      "ind: 1108429, unique: 2\n",
      "ind: 1108445, unique: 2\n",
      "ind: 1108447, unique: 2\n",
      "ind: 1108448, unique: 2\n",
      "ind: 1108467, unique: 2\n",
      "ind: 1108519, unique: 2\n",
      "ind: 1108567, unique: 2\n",
      "ind: 1108577, unique: 3\n",
      "ind: 1108580, unique: 3\n",
      "ind: 1108590, unique: 2\n",
      "ind: 1108595, unique: 2\n",
      "ind: 1108625, unique: 2\n",
      "ind: 1108631, unique: 2\n",
      "ind: 1108637, unique: 2\n",
      "ind: 1108639, unique: 2\n",
      "ind: 1108704, unique: 2\n",
      "ind: 1108706, unique: 2\n",
      "ind: 1108708, unique: 2\n",
      "ind: 1108714, unique: 2\n",
      "ind: 1108728, unique: 2\n",
      "ind: 1108747, unique: 2\n",
      "ind: 1111510, unique: 2\n",
      "ind: 1111514, unique: 2\n",
      "ind: 1111515, unique: 2\n",
      "ind: 1111526, unique: 3\n",
      "ind: 1111527, unique: 2\n",
      "ind: 1111530, unique: 2\n",
      "ind: 1111531, unique: 2\n",
      "ind: 1111532, unique: 2\n",
      "ind: 1111534, unique: 3\n",
      "ind: 1111535, unique: 2\n",
      "ind: 1111540, unique: 2\n",
      "ind: 1111541, unique: 2\n",
      "ind: 1111545, unique: 2\n",
      "ind: 1111547, unique: 3\n",
      "ind: 1111549, unique: 2\n",
      "ind: 1111550, unique: 2\n",
      "ind: 1111551, unique: 2\n",
      "ind: 1111552, unique: 2\n",
      "ind: 1111561, unique: 2\n",
      "ind: 1111564, unique: 2\n",
      "ind: 1111565, unique: 2\n",
      "ind: 1111566, unique: 2\n",
      "ind: 1111569, unique: 2\n",
      "ind: 1111575, unique: 2\n",
      "ind: 1112964, unique: 3\n",
      "ind: 1113266, unique: 2\n",
      "ind: 1113292, unique: 2\n",
      "ind: 1113364, unique: 2\n",
      "ind: 1113418, unique: 2\n",
      "ind: 1113430, unique: 2\n",
      "ind: 1113435, unique: 2\n",
      "ind: 1113473, unique: 2\n",
      "ind: 1113486, unique: 3\n",
      "ind: 1113951, unique: 2\n",
      "ind: 1113985, unique: 2\n",
      "ind: 1114006, unique: 3\n",
      "ind: 1114018, unique: 2\n",
      "ind: 1114131, unique: 2\n",
      "ind: 1114153, unique: 3\n",
      "ind: 1114157, unique: 2\n",
      "ind: 1114171, unique: 2\n",
      "ind: 1114177, unique: 3\n",
      "ind: 1114190, unique: 2\n",
      "ind: 1114205, unique: 2\n",
      "ind: 1114211, unique: 2\n",
      "ind: 1114219, unique: 2\n",
      "ind: 1114240, unique: 2\n",
      "ind: 1114254, unique: 2\n",
      "ind: 1114261, unique: 2\n",
      "ind: 1114268, unique: 2\n",
      "ind: 1114290, unique: 2\n",
      "ind: 1114296, unique: 2\n",
      "ind: 1114326, unique: 2\n",
      "ind: 1114463, unique: 2\n",
      "ind: 1114478, unique: 2\n",
      "ind: 1114484, unique: 2\n",
      "ind: 1114491, unique: 2\n",
      "ind: 1114515, unique: 2\n",
      "ind: 1114520, unique: 2\n",
      "ind: 1114525, unique: 2\n",
      "ind: 1114529, unique: 3\n",
      "ind: 1114534, unique: 2\n",
      "ind: 1114540, unique: 3\n",
      "ind: 1114546, unique: 2\n",
      "ind: 1114566, unique: 2\n",
      "ind: 1114573, unique: 2\n",
      "ind: 1114580, unique: 2\n",
      "ind: 1114648, unique: 2\n",
      "ind: 1114649, unique: 2\n",
      "ind: 1115356, unique: 3\n",
      "ind: 1115368, unique: 2\n",
      "ind: 1115380, unique: 2\n",
      "ind: 1115413, unique: 2\n",
      "ind: 1115420, unique: 3\n",
      "ind: 1115426, unique: 2\n",
      "ind: 1115432, unique: 2\n",
      "ind: 1115438, unique: 3\n",
      "ind: 1115444, unique: 2\n",
      "ind: 1115450, unique: 2\n",
      "ind: 1115463, unique: 3\n",
      "ind: 1115477, unique: 2\n",
      "ind: 1115486, unique: 2\n",
      "ind: 1115490, unique: 2\n",
      "ind: 1115517, unique: 2\n",
      "ind: 1115528, unique: 2\n",
      "ind: 1115537, unique: 2\n",
      "ind: 1115541, unique: 2\n",
      "ind: 1115548, unique: 2\n",
      "ind: 1115555, unique: 2\n",
      "ind: 1115565, unique: 2\n",
      "ind: 1115572, unique: 2\n",
      "ind: 1115578, unique: 3\n",
      "ind: 1115584, unique: 2\n",
      "ind: 1115592, unique: 2\n",
      "ind: 1115600, unique: 2\n",
      "ind: 1115608, unique: 2\n",
      "ind: 1115612, unique: 2\n",
      "ind: 1115616, unique: 2\n",
      "ind: 1115620, unique: 2\n",
      "ind: 1115624, unique: 2\n",
      "ind: 1115628, unique: 2\n",
      "ind: 1115632, unique: 2\n",
      "ind: 1115897, unique: 2\n",
      "ind: 1116092, unique: 2\n",
      "ind: 1116098, unique: 3\n",
      "ind: 1116105, unique: 2\n",
      "ind: 1116151, unique: 2\n",
      "ind: 1116158, unique: 3\n",
      "ind: 1116164, unique: 3\n",
      "ind: 1116165, unique: 2\n",
      "ind: 1116167, unique: 2\n",
      "ind: 1116293, unique: 2\n",
      "ind: 1116313, unique: 2\n",
      "ind: 1116318, unique: 2\n",
      "ind: 1116413, unique: 4\n",
      "ind: 1116414, unique: 2\n",
      "ind: 1116415, unique: 2\n",
      "ind: 1116423, unique: 2\n",
      "ind: 1116424, unique: 2\n",
      "ind: 1116431, unique: 2\n",
      "ind: 1116574, unique: 2\n",
      "ind: 1116575, unique: 2\n",
      "ind: 1116593, unique: 2\n",
      "ind: 1116706, unique: 2\n",
      "ind: 1116712, unique: 2\n",
      "ind: 1116783, unique: 2\n",
      "ind: 1117920, unique: 2\n",
      "ind: 1117945, unique: 2\n",
      "ind: 1118076, unique: 2\n",
      "ind: 1118472, unique: 2\n",
      "ind: 1118557, unique: 2\n",
      "ind: 1118567, unique: 2\n",
      "ind: 1118575, unique: 3\n",
      "ind: 1118591, unique: 4\n",
      "ind: 1118630, unique: 2\n",
      "ind: 1118636, unique: 3\n",
      "ind: 1118670, unique: 2\n",
      "ind: 1118767, unique: 2\n",
      "ind: 1118775, unique: 2\n",
      "ind: 1118900, unique: 2\n",
      "ind: 1118923, unique: 2\n",
      "ind: 1118957, unique: 2\n",
      "ind: 1119020, unique: 2\n",
      "ind: 1119021, unique: 2\n",
      "ind: 1119050, unique: 2\n",
      "ind: 1119051, unique: 2\n",
      "ind: 1119075, unique: 2\n",
      "ind: 1119085, unique: 2\n",
      "ind: 1119086, unique: 2\n",
      "ind: 1119101, unique: 2\n",
      "ind: 1119102, unique: 2\n",
      "ind: 1119117, unique: 2\n",
      "ind: 1119126, unique: 2\n",
      "ind: 1119134, unique: 2\n",
      "ind: 1119143, unique: 2\n",
      "ind: 1119195, unique: 2\n",
      "ind: 1119251, unique: 2\n",
      "ind: 1119252, unique: 2\n",
      "ind: 1119694, unique: 2\n",
      "ind: 1119699, unique: 2\n",
      "ind: 1119762, unique: 2\n",
      "ind: 1119780, unique: 2\n",
      "ind: 1119804, unique: 2\n",
      "ind: 1119960, unique: 2\n",
      "ind: 1119984, unique: 2\n",
      "ind: 1120025, unique: 2\n",
      "ind: 1120033, unique: 3\n",
      "ind: 1120074, unique: 2\n",
      "ind: 1120081, unique: 4\n",
      "ind: 1120256, unique: 4\n",
      "ind: 1120300, unique: 2\n",
      "ind: 1120303, unique: 2\n",
      "ind: 1120603, unique: 2\n",
      "ind: 1121099, unique: 2\n",
      "ind: 1121387, unique: 2\n",
      "ind: 1121394, unique: 2\n",
      "ind: 1121401, unique: 2\n",
      "ind: 1121734, unique: 2\n",
      "ind: 1121757, unique: 2\n",
      "ind: 1121771, unique: 2\n",
      "ind: 1121777, unique: 2\n",
      "ind: 1121780, unique: 3\n",
      "ind: 1121783, unique: 5\n",
      "ind: 1121794, unique: 2\n",
      "ind: 1121797, unique: 3\n",
      "ind: 1121800, unique: 3\n",
      "ind: 1121803, unique: 3\n",
      "ind: 1121806, unique: 3\n",
      "ind: 1121809, unique: 3\n",
      "ind: 1121812, unique: 2\n",
      "ind: 1121815, unique: 2\n",
      "ind: 1122116, unique: 2\n",
      "ind: 1122335, unique: 2\n",
      "ind: 1122380, unique: 2\n",
      "ind: 1122443, unique: 2\n",
      "ind: 1122623, unique: 3\n",
      "ind: 1122625, unique: 2\n",
      "ind: 1122636, unique: 2\n",
      "ind: 1122637, unique: 2\n",
      "ind: 1122645, unique: 2\n",
      "ind: 1122646, unique: 2\n",
      "ind: 1122678, unique: 3\n",
      "ind: 1122685, unique: 2\n",
      "ind: 1122763, unique: 2\n",
      "ind: 1122942, unique: 2\n",
      "ind: 1123031, unique: 2\n",
      "ind: 1123088, unique: 2\n",
      "ind: 1123159, unique: 2\n",
      "ind: 1123165, unique: 2\n",
      "ind: 1123265, unique: 2\n",
      "ind: 1125201, unique: 2\n",
      "ind: 1125207, unique: 2\n",
      "ind: 1125457, unique: 2\n",
      "ind: 1125461, unique: 2\n",
      "ind: 1125463, unique: 2\n",
      "ind: 1125476, unique: 2\n",
      "ind: 1125483, unique: 2\n",
      "ind: 1125491, unique: 2\n",
      "ind: 1125495, unique: 2\n",
      "ind: 1125499, unique: 2\n",
      "ind: 1125505, unique: 2\n",
      "ind: 1125507, unique: 3\n",
      "ind: 1125509, unique: 2\n",
      "ind: 1125527, unique: 2\n",
      "ind: 1125531, unique: 2\n",
      "ind: 1125546, unique: 2\n",
      "ind: 1125559, unique: 2\n",
      "ind: 1125575, unique: 2\n",
      "ind: 1125775, unique: 2\n",
      "ind: 1125777, unique: 2\n",
      "ind: 1125780, unique: 2\n",
      "ind: 1125872, unique: 2\n",
      "ind: 1125886, unique: 2\n",
      "ind: 1125896, unique: 2\n",
      "ind: 1125897, unique: 2\n",
      "ind: 1118886, unique: 2\n",
      "ind: 1119808, unique: 2\n",
      "ind: 1123089, unique: 2\n",
      "ind: 1125909, unique: 2\n",
      "ind: 1125960, unique: 2\n",
      "ind: 1125962, unique: 2\n",
      "ind: 1125981, unique: 2\n",
      "ind: 1125989, unique: 3\n",
      "ind: 1125991, unique: 2\n",
      "ind: 1126006, unique: 2\n",
      "ind: 1126148, unique: 2\n",
      "ind: 1126156, unique: 2\n",
      "ind: 1126163, unique: 2\n",
      "ind: 1126175, unique: 3\n",
      "ind: 1126191, unique: 2\n"
     ]
    }
   ],
   "source": [
    "# get the list of station IDs that are different in multiple files\n",
    "to_investigate = []\n",
    "for ind in tmp.ID.unique():\n",
    "    check_unique=sum(~tmp[tmp.ID == ind].duplicated().values)\n",
    "    if check_unique > 1:\n",
    "        to_investigate.append(ind)\n",
    "        print \"ind: %s, unique: %s\" % (ind, check_unique)"
   ]
  },
  {
   "cell_type": "code",
   "execution_count": 16,
   "metadata": {
    "collapsed": false
   },
   "outputs": [
    {
     "data": {
      "text/html": [
       "<div>\n",
       "<table border=\"1\" class=\"dataframe\">\n",
       "  <thead>\n",
       "    <tr style=\"text-align: right;\">\n",
       "      <th></th>\n",
       "      <th>ID</th>\n",
       "      <th>Fwy</th>\n",
       "      <th>Dir</th>\n",
       "      <th>District</th>\n",
       "      <th>County</th>\n",
       "      <th>City</th>\n",
       "      <th>State_PM</th>\n",
       "      <th>Abs_PM</th>\n",
       "      <th>Latitude</th>\n",
       "      <th>Longitude</th>\n",
       "      <th>Length</th>\n",
       "      <th>Type</th>\n",
       "      <th>Lanes</th>\n",
       "      <th>Name</th>\n",
       "    </tr>\n",
       "  </thead>\n",
       "  <tbody>\n",
       "    <tr>\n",
       "      <th>656</th>\n",
       "      <td>1113609</td>\n",
       "      <td>56</td>\n",
       "      <td>W</td>\n",
       "      <td>11</td>\n",
       "      <td>73</td>\n",
       "      <td>66000.0</td>\n",
       "      <td>1.861</td>\n",
       "      <td>1.861</td>\n",
       "      <td>32.944421</td>\n",
       "      <td>-117.213509</td>\n",
       "      <td>NaN</td>\n",
       "      <td>FR</td>\n",
       "      <td>2</td>\n",
       "      <td>CARMEL COUNTRY RD</td>\n",
       "    </tr>\n",
       "    <tr>\n",
       "      <th>654</th>\n",
       "      <td>1113609</td>\n",
       "      <td>56</td>\n",
       "      <td>W</td>\n",
       "      <td>11</td>\n",
       "      <td>73</td>\n",
       "      <td>66000.0</td>\n",
       "      <td>1.861</td>\n",
       "      <td>1.861</td>\n",
       "      <td>32.944421</td>\n",
       "      <td>-117.213509</td>\n",
       "      <td>NaN</td>\n",
       "      <td>FR</td>\n",
       "      <td>2</td>\n",
       "      <td>CARMEL COUNTRY RD</td>\n",
       "    </tr>\n",
       "    <tr>\n",
       "      <th>654</th>\n",
       "      <td>1113609</td>\n",
       "      <td>56</td>\n",
       "      <td>W</td>\n",
       "      <td>11</td>\n",
       "      <td>73</td>\n",
       "      <td>66000.0</td>\n",
       "      <td>1.861</td>\n",
       "      <td>1.861</td>\n",
       "      <td>32.944421</td>\n",
       "      <td>-117.213509</td>\n",
       "      <td>NaN</td>\n",
       "      <td>FR</td>\n",
       "      <td>2</td>\n",
       "      <td>CARMEL COUNTRY RD</td>\n",
       "    </tr>\n",
       "    <tr>\n",
       "      <th>657</th>\n",
       "      <td>1113609</td>\n",
       "      <td>56</td>\n",
       "      <td>W</td>\n",
       "      <td>11</td>\n",
       "      <td>73</td>\n",
       "      <td>66000.0</td>\n",
       "      <td>1.861</td>\n",
       "      <td>1.861</td>\n",
       "      <td>32.944421</td>\n",
       "      <td>-117.213509</td>\n",
       "      <td>NaN</td>\n",
       "      <td>FR</td>\n",
       "      <td>2</td>\n",
       "      <td>CARMEL COUNTRY RD</td>\n",
       "    </tr>\n",
       "    <tr>\n",
       "      <th>657</th>\n",
       "      <td>1113609</td>\n",
       "      <td>56</td>\n",
       "      <td>W</td>\n",
       "      <td>11</td>\n",
       "      <td>73</td>\n",
       "      <td>66000.0</td>\n",
       "      <td>1.861</td>\n",
       "      <td>1.861</td>\n",
       "      <td>32.944421</td>\n",
       "      <td>-117.213509</td>\n",
       "      <td>NaN</td>\n",
       "      <td>FR</td>\n",
       "      <td>2</td>\n",
       "      <td>CARMEL COUNTRY RD</td>\n",
       "    </tr>\n",
       "    <tr>\n",
       "      <th>657</th>\n",
       "      <td>1113609</td>\n",
       "      <td>56</td>\n",
       "      <td>W</td>\n",
       "      <td>11</td>\n",
       "      <td>73</td>\n",
       "      <td>66000.0</td>\n",
       "      <td>1.861</td>\n",
       "      <td>1.861</td>\n",
       "      <td>32.944421</td>\n",
       "      <td>-117.213509</td>\n",
       "      <td>NaN</td>\n",
       "      <td>FR</td>\n",
       "      <td>2</td>\n",
       "      <td>CARMEL COUNTRY RD</td>\n",
       "    </tr>\n",
       "    <tr>\n",
       "      <th>657</th>\n",
       "      <td>1113609</td>\n",
       "      <td>56</td>\n",
       "      <td>W</td>\n",
       "      <td>11</td>\n",
       "      <td>73</td>\n",
       "      <td>66000.0</td>\n",
       "      <td>1.861</td>\n",
       "      <td>1.861</td>\n",
       "      <td>32.944421</td>\n",
       "      <td>-117.213509</td>\n",
       "      <td>NaN</td>\n",
       "      <td>FR</td>\n",
       "      <td>2</td>\n",
       "      <td>CARMEL COUNTRY RD</td>\n",
       "    </tr>\n",
       "    <tr>\n",
       "      <th>657</th>\n",
       "      <td>1113609</td>\n",
       "      <td>56</td>\n",
       "      <td>W</td>\n",
       "      <td>11</td>\n",
       "      <td>73</td>\n",
       "      <td>66000.0</td>\n",
       "      <td>1.861</td>\n",
       "      <td>1.861</td>\n",
       "      <td>32.944421</td>\n",
       "      <td>-117.213509</td>\n",
       "      <td>NaN</td>\n",
       "      <td>FR</td>\n",
       "      <td>2</td>\n",
       "      <td>CARMEL COUNTRY RD</td>\n",
       "    </tr>\n",
       "    <tr>\n",
       "      <th>657</th>\n",
       "      <td>1113609</td>\n",
       "      <td>56</td>\n",
       "      <td>W</td>\n",
       "      <td>11</td>\n",
       "      <td>73</td>\n",
       "      <td>66000.0</td>\n",
       "      <td>1.861</td>\n",
       "      <td>1.861</td>\n",
       "      <td>32.944421</td>\n",
       "      <td>-117.213509</td>\n",
       "      <td>NaN</td>\n",
       "      <td>FR</td>\n",
       "      <td>2</td>\n",
       "      <td>CARMEL COUNTRY RD</td>\n",
       "    </tr>\n",
       "    <tr>\n",
       "      <th>657</th>\n",
       "      <td>1113609</td>\n",
       "      <td>56</td>\n",
       "      <td>W</td>\n",
       "      <td>11</td>\n",
       "      <td>73</td>\n",
       "      <td>66000.0</td>\n",
       "      <td>1.861</td>\n",
       "      <td>1.861</td>\n",
       "      <td>32.944421</td>\n",
       "      <td>-117.213509</td>\n",
       "      <td>NaN</td>\n",
       "      <td>FR</td>\n",
       "      <td>2</td>\n",
       "      <td>CARMEL COUNTRY RD</td>\n",
       "    </tr>\n",
       "    <tr>\n",
       "      <th>657</th>\n",
       "      <td>1113609</td>\n",
       "      <td>56</td>\n",
       "      <td>W</td>\n",
       "      <td>11</td>\n",
       "      <td>73</td>\n",
       "      <td>66000.0</td>\n",
       "      <td>1.861</td>\n",
       "      <td>1.861</td>\n",
       "      <td>32.944421</td>\n",
       "      <td>-117.213509</td>\n",
       "      <td>NaN</td>\n",
       "      <td>FR</td>\n",
       "      <td>2</td>\n",
       "      <td>CARMEL COUNTRY RD</td>\n",
       "    </tr>\n",
       "    <tr>\n",
       "      <th>657</th>\n",
       "      <td>1113609</td>\n",
       "      <td>56</td>\n",
       "      <td>W</td>\n",
       "      <td>11</td>\n",
       "      <td>73</td>\n",
       "      <td>66000.0</td>\n",
       "      <td>1.861</td>\n",
       "      <td>1.861</td>\n",
       "      <td>32.944421</td>\n",
       "      <td>-117.213509</td>\n",
       "      <td>NaN</td>\n",
       "      <td>FR</td>\n",
       "      <td>2</td>\n",
       "      <td>CARMEL COUNTRY RD</td>\n",
       "    </tr>\n",
       "    <tr>\n",
       "      <th>657</th>\n",
       "      <td>1113609</td>\n",
       "      <td>56</td>\n",
       "      <td>W</td>\n",
       "      <td>11</td>\n",
       "      <td>73</td>\n",
       "      <td>66000.0</td>\n",
       "      <td>1.861</td>\n",
       "      <td>1.861</td>\n",
       "      <td>32.944421</td>\n",
       "      <td>-117.213509</td>\n",
       "      <td>NaN</td>\n",
       "      <td>FR</td>\n",
       "      <td>2</td>\n",
       "      <td>CARMEL COUNTRY RD</td>\n",
       "    </tr>\n",
       "    <tr>\n",
       "      <th>657</th>\n",
       "      <td>1113609</td>\n",
       "      <td>56</td>\n",
       "      <td>W</td>\n",
       "      <td>11</td>\n",
       "      <td>73</td>\n",
       "      <td>66000.0</td>\n",
       "      <td>1.861</td>\n",
       "      <td>1.861</td>\n",
       "      <td>32.944421</td>\n",
       "      <td>-117.213509</td>\n",
       "      <td>NaN</td>\n",
       "      <td>FR</td>\n",
       "      <td>2</td>\n",
       "      <td>CARMEL COUNTRY RD</td>\n",
       "    </tr>\n",
       "    <tr>\n",
       "      <th>657</th>\n",
       "      <td>1113609</td>\n",
       "      <td>56</td>\n",
       "      <td>W</td>\n",
       "      <td>11</td>\n",
       "      <td>73</td>\n",
       "      <td>66000.0</td>\n",
       "      <td>1.861</td>\n",
       "      <td>1.861</td>\n",
       "      <td>32.944421</td>\n",
       "      <td>-117.213509</td>\n",
       "      <td>NaN</td>\n",
       "      <td>FR</td>\n",
       "      <td>2</td>\n",
       "      <td>CARMEL COUNTRY RD</td>\n",
       "    </tr>\n",
       "    <tr>\n",
       "      <th>657</th>\n",
       "      <td>1113609</td>\n",
       "      <td>56</td>\n",
       "      <td>W</td>\n",
       "      <td>11</td>\n",
       "      <td>73</td>\n",
       "      <td>66000.0</td>\n",
       "      <td>1.861</td>\n",
       "      <td>1.861</td>\n",
       "      <td>32.944421</td>\n",
       "      <td>-117.213509</td>\n",
       "      <td>NaN</td>\n",
       "      <td>FR</td>\n",
       "      <td>2</td>\n",
       "      <td>CARMEL COUNTRY RD</td>\n",
       "    </tr>\n",
       "    <tr>\n",
       "      <th>657</th>\n",
       "      <td>1113609</td>\n",
       "      <td>56</td>\n",
       "      <td>W</td>\n",
       "      <td>11</td>\n",
       "      <td>73</td>\n",
       "      <td>66000.0</td>\n",
       "      <td>1.861</td>\n",
       "      <td>1.861</td>\n",
       "      <td>32.944421</td>\n",
       "      <td>-117.213509</td>\n",
       "      <td>NaN</td>\n",
       "      <td>FR</td>\n",
       "      <td>2</td>\n",
       "      <td>CARMEL COUNTRY RD</td>\n",
       "    </tr>\n",
       "    <tr>\n",
       "      <th>653</th>\n",
       "      <td>1113609</td>\n",
       "      <td>56</td>\n",
       "      <td>W</td>\n",
       "      <td>11</td>\n",
       "      <td>73</td>\n",
       "      <td>66000.0</td>\n",
       "      <td>1.861</td>\n",
       "      <td>1.861</td>\n",
       "      <td>32.944421</td>\n",
       "      <td>-117.213509</td>\n",
       "      <td>NaN</td>\n",
       "      <td>FR</td>\n",
       "      <td>2</td>\n",
       "      <td>CARMEL COUNTRY RD</td>\n",
       "    </tr>\n",
       "    <tr>\n",
       "      <th>651</th>\n",
       "      <td>1113609</td>\n",
       "      <td>56</td>\n",
       "      <td>W</td>\n",
       "      <td>11</td>\n",
       "      <td>73</td>\n",
       "      <td>66000.0</td>\n",
       "      <td>1.861</td>\n",
       "      <td>1.861</td>\n",
       "      <td>32.944421</td>\n",
       "      <td>-117.213509</td>\n",
       "      <td>NaN</td>\n",
       "      <td>FR</td>\n",
       "      <td>2</td>\n",
       "      <td>CARMEL COUNTRY RD</td>\n",
       "    </tr>\n",
       "    <tr>\n",
       "      <th>648</th>\n",
       "      <td>1113609</td>\n",
       "      <td>56</td>\n",
       "      <td>W</td>\n",
       "      <td>11</td>\n",
       "      <td>73</td>\n",
       "      <td>66000.0</td>\n",
       "      <td>1.861</td>\n",
       "      <td>1.861</td>\n",
       "      <td>32.944421</td>\n",
       "      <td>-117.213509</td>\n",
       "      <td>NaN</td>\n",
       "      <td>FR</td>\n",
       "      <td>2</td>\n",
       "      <td>CARMEL COUNTRY RD</td>\n",
       "    </tr>\n",
       "  </tbody>\n",
       "</table>\n",
       "</div>"
      ],
      "text/plain": [
       "          ID  Fwy Dir  District  County     City State_PM  Abs_PM   Latitude  \\\n",
       "656  1113609   56   W        11      73  66000.0    1.861   1.861  32.944421   \n",
       "654  1113609   56   W        11      73  66000.0    1.861   1.861  32.944421   \n",
       "654  1113609   56   W        11      73  66000.0    1.861   1.861  32.944421   \n",
       "657  1113609   56   W        11      73  66000.0    1.861   1.861  32.944421   \n",
       "657  1113609   56   W        11      73  66000.0    1.861   1.861  32.944421   \n",
       "657  1113609   56   W        11      73  66000.0    1.861   1.861  32.944421   \n",
       "657  1113609   56   W        11      73  66000.0    1.861   1.861  32.944421   \n",
       "657  1113609   56   W        11      73  66000.0    1.861   1.861  32.944421   \n",
       "657  1113609   56   W        11      73  66000.0    1.861   1.861  32.944421   \n",
       "657  1113609   56   W        11      73  66000.0    1.861   1.861  32.944421   \n",
       "657  1113609   56   W        11      73  66000.0    1.861   1.861  32.944421   \n",
       "657  1113609   56   W        11      73  66000.0    1.861   1.861  32.944421   \n",
       "657  1113609   56   W        11      73  66000.0    1.861   1.861  32.944421   \n",
       "657  1113609   56   W        11      73  66000.0    1.861   1.861  32.944421   \n",
       "657  1113609   56   W        11      73  66000.0    1.861   1.861  32.944421   \n",
       "657  1113609   56   W        11      73  66000.0    1.861   1.861  32.944421   \n",
       "657  1113609   56   W        11      73  66000.0    1.861   1.861  32.944421   \n",
       "653  1113609   56   W        11      73  66000.0    1.861   1.861  32.944421   \n",
       "651  1113609   56   W        11      73  66000.0    1.861   1.861  32.944421   \n",
       "648  1113609   56   W        11      73  66000.0    1.861   1.861  32.944421   \n",
       "\n",
       "      Longitude  Length Type  Lanes               Name  \n",
       "656 -117.213509     NaN   FR      2  CARMEL COUNTRY RD  \n",
       "654 -117.213509     NaN   FR      2  CARMEL COUNTRY RD  \n",
       "654 -117.213509     NaN   FR      2  CARMEL COUNTRY RD  \n",
       "657 -117.213509     NaN   FR      2  CARMEL COUNTRY RD  \n",
       "657 -117.213509     NaN   FR      2  CARMEL COUNTRY RD  \n",
       "657 -117.213509     NaN   FR      2  CARMEL COUNTRY RD  \n",
       "657 -117.213509     NaN   FR      2  CARMEL COUNTRY RD  \n",
       "657 -117.213509     NaN   FR      2  CARMEL COUNTRY RD  \n",
       "657 -117.213509     NaN   FR      2  CARMEL COUNTRY RD  \n",
       "657 -117.213509     NaN   FR      2  CARMEL COUNTRY RD  \n",
       "657 -117.213509     NaN   FR      2  CARMEL COUNTRY RD  \n",
       "657 -117.213509     NaN   FR      2  CARMEL COUNTRY RD  \n",
       "657 -117.213509     NaN   FR      2  CARMEL COUNTRY RD  \n",
       "657 -117.213509     NaN   FR      2  CARMEL COUNTRY RD  \n",
       "657 -117.213509     NaN   FR      2  CARMEL COUNTRY RD  \n",
       "657 -117.213509     NaN   FR      2  CARMEL COUNTRY RD  \n",
       "657 -117.213509     NaN   FR      2  CARMEL COUNTRY RD  \n",
       "653 -117.213509     NaN   FR      2  CARMEL COUNTRY RD  \n",
       "651 -117.213509     NaN   FR      2  CARMEL COUNTRY RD  \n",
       "648 -117.213509     NaN   FR      2  CARMEL COUNTRY RD  "
      ]
     },
     "execution_count": 16,
     "metadata": {},
     "output_type": "execute_result"
    }
   ],
   "source": [
    "tmp[tmp.ID == 1113609]"
   ]
  },
  {
   "cell_type": "code",
   "execution_count": 17,
   "metadata": {
    "collapsed": false
   },
   "outputs": [
    {
     "data": {
      "text/html": [
       "<div>\n",
       "<table border=\"1\" class=\"dataframe\">\n",
       "  <thead>\n",
       "    <tr style=\"text-align: right;\">\n",
       "      <th></th>\n",
       "      <th>ID</th>\n",
       "      <th>Fwy</th>\n",
       "      <th>Dir</th>\n",
       "      <th>District</th>\n",
       "      <th>County</th>\n",
       "      <th>City</th>\n",
       "      <th>State_PM</th>\n",
       "      <th>Abs_PM</th>\n",
       "      <th>Latitude</th>\n",
       "      <th>Longitude</th>\n",
       "      <th>Length</th>\n",
       "      <th>Type</th>\n",
       "      <th>Lanes</th>\n",
       "      <th>Name</th>\n",
       "    </tr>\n",
       "  </thead>\n",
       "  <tbody>\n",
       "    <tr>\n",
       "      <th>19</th>\n",
       "      <td>1100416</td>\n",
       "      <td>8</td>\n",
       "      <td>E</td>\n",
       "      <td>11</td>\n",
       "      <td>73</td>\n",
       "      <td>66000.0</td>\n",
       "      <td>3.986</td>\n",
       "      <td>5.943</td>\n",
       "      <td>32.770143</td>\n",
       "      <td>-117.138318</td>\n",
       "      <td>NaN</td>\n",
       "      <td>FR</td>\n",
       "      <td>1</td>\n",
       "      <td>NB TEXAS ST</td>\n",
       "    </tr>\n",
       "    <tr>\n",
       "      <th>19</th>\n",
       "      <td>1100416</td>\n",
       "      <td>8</td>\n",
       "      <td>E</td>\n",
       "      <td>11</td>\n",
       "      <td>73</td>\n",
       "      <td>66000.0</td>\n",
       "      <td>4.038</td>\n",
       "      <td>5.995</td>\n",
       "      <td>32.770348</td>\n",
       "      <td>-117.137456</td>\n",
       "      <td>NaN</td>\n",
       "      <td>FR</td>\n",
       "      <td>1</td>\n",
       "      <td>NB TEXAS ST</td>\n",
       "    </tr>\n",
       "    <tr>\n",
       "      <th>19</th>\n",
       "      <td>1100416</td>\n",
       "      <td>8</td>\n",
       "      <td>E</td>\n",
       "      <td>11</td>\n",
       "      <td>73</td>\n",
       "      <td>66000.0</td>\n",
       "      <td>4.038</td>\n",
       "      <td>5.995</td>\n",
       "      <td>32.770348</td>\n",
       "      <td>-117.137456</td>\n",
       "      <td>NaN</td>\n",
       "      <td>FR</td>\n",
       "      <td>1</td>\n",
       "      <td>NB TEXAS ST</td>\n",
       "    </tr>\n",
       "    <tr>\n",
       "      <th>19</th>\n",
       "      <td>1100416</td>\n",
       "      <td>8</td>\n",
       "      <td>E</td>\n",
       "      <td>11</td>\n",
       "      <td>73</td>\n",
       "      <td>66000.0</td>\n",
       "      <td>4.038</td>\n",
       "      <td>5.995</td>\n",
       "      <td>32.770348</td>\n",
       "      <td>-117.137456</td>\n",
       "      <td>NaN</td>\n",
       "      <td>FR</td>\n",
       "      <td>1</td>\n",
       "      <td>NB TEXAS ST</td>\n",
       "    </tr>\n",
       "    <tr>\n",
       "      <th>19</th>\n",
       "      <td>1100416</td>\n",
       "      <td>8</td>\n",
       "      <td>E</td>\n",
       "      <td>11</td>\n",
       "      <td>73</td>\n",
       "      <td>66000.0</td>\n",
       "      <td>4.038</td>\n",
       "      <td>5.995</td>\n",
       "      <td>32.770348</td>\n",
       "      <td>-117.137456</td>\n",
       "      <td>NaN</td>\n",
       "      <td>FR</td>\n",
       "      <td>1</td>\n",
       "      <td>NB TEXAS ST</td>\n",
       "    </tr>\n",
       "    <tr>\n",
       "      <th>19</th>\n",
       "      <td>1100416</td>\n",
       "      <td>8</td>\n",
       "      <td>E</td>\n",
       "      <td>11</td>\n",
       "      <td>73</td>\n",
       "      <td>66000.0</td>\n",
       "      <td>4.038</td>\n",
       "      <td>5.995</td>\n",
       "      <td>32.770348</td>\n",
       "      <td>-117.137456</td>\n",
       "      <td>NaN</td>\n",
       "      <td>FR</td>\n",
       "      <td>1</td>\n",
       "      <td>NB TEXAS ST</td>\n",
       "    </tr>\n",
       "    <tr>\n",
       "      <th>19</th>\n",
       "      <td>1100416</td>\n",
       "      <td>8</td>\n",
       "      <td>E</td>\n",
       "      <td>11</td>\n",
       "      <td>73</td>\n",
       "      <td>66000.0</td>\n",
       "      <td>4.038</td>\n",
       "      <td>5.995</td>\n",
       "      <td>32.770348</td>\n",
       "      <td>-117.137456</td>\n",
       "      <td>NaN</td>\n",
       "      <td>FR</td>\n",
       "      <td>1</td>\n",
       "      <td>NB TEXAS ST</td>\n",
       "    </tr>\n",
       "    <tr>\n",
       "      <th>19</th>\n",
       "      <td>1100416</td>\n",
       "      <td>8</td>\n",
       "      <td>E</td>\n",
       "      <td>11</td>\n",
       "      <td>73</td>\n",
       "      <td>66000.0</td>\n",
       "      <td>4.038</td>\n",
       "      <td>5.995</td>\n",
       "      <td>32.770348</td>\n",
       "      <td>-117.137456</td>\n",
       "      <td>NaN</td>\n",
       "      <td>FR</td>\n",
       "      <td>1</td>\n",
       "      <td>NB TEXAS ST</td>\n",
       "    </tr>\n",
       "    <tr>\n",
       "      <th>19</th>\n",
       "      <td>1100416</td>\n",
       "      <td>8</td>\n",
       "      <td>E</td>\n",
       "      <td>11</td>\n",
       "      <td>73</td>\n",
       "      <td>66000.0</td>\n",
       "      <td>4.038</td>\n",
       "      <td>5.995</td>\n",
       "      <td>32.770348</td>\n",
       "      <td>-117.137456</td>\n",
       "      <td>NaN</td>\n",
       "      <td>FR</td>\n",
       "      <td>1</td>\n",
       "      <td>NB TEXAS ST</td>\n",
       "    </tr>\n",
       "    <tr>\n",
       "      <th>19</th>\n",
       "      <td>1100416</td>\n",
       "      <td>8</td>\n",
       "      <td>E</td>\n",
       "      <td>11</td>\n",
       "      <td>73</td>\n",
       "      <td>66000.0</td>\n",
       "      <td>4.038</td>\n",
       "      <td>5.995</td>\n",
       "      <td>32.770348</td>\n",
       "      <td>-117.137456</td>\n",
       "      <td>NaN</td>\n",
       "      <td>FR</td>\n",
       "      <td>1</td>\n",
       "      <td>NB TEXAS ST</td>\n",
       "    </tr>\n",
       "    <tr>\n",
       "      <th>19</th>\n",
       "      <td>1100416</td>\n",
       "      <td>8</td>\n",
       "      <td>E</td>\n",
       "      <td>11</td>\n",
       "      <td>73</td>\n",
       "      <td>66000.0</td>\n",
       "      <td>4.038</td>\n",
       "      <td>5.995</td>\n",
       "      <td>32.770348</td>\n",
       "      <td>-117.137456</td>\n",
       "      <td>NaN</td>\n",
       "      <td>FR</td>\n",
       "      <td>1</td>\n",
       "      <td>NB TEXAS ST</td>\n",
       "    </tr>\n",
       "    <tr>\n",
       "      <th>19</th>\n",
       "      <td>1100416</td>\n",
       "      <td>8</td>\n",
       "      <td>E</td>\n",
       "      <td>11</td>\n",
       "      <td>73</td>\n",
       "      <td>66000.0</td>\n",
       "      <td>4.038</td>\n",
       "      <td>5.995</td>\n",
       "      <td>32.770348</td>\n",
       "      <td>-117.137456</td>\n",
       "      <td>NaN</td>\n",
       "      <td>FR</td>\n",
       "      <td>1</td>\n",
       "      <td>NB TEXAS ST</td>\n",
       "    </tr>\n",
       "    <tr>\n",
       "      <th>19</th>\n",
       "      <td>1100416</td>\n",
       "      <td>8</td>\n",
       "      <td>E</td>\n",
       "      <td>11</td>\n",
       "      <td>73</td>\n",
       "      <td>66000.0</td>\n",
       "      <td>4.038</td>\n",
       "      <td>5.995</td>\n",
       "      <td>32.770348</td>\n",
       "      <td>-117.137456</td>\n",
       "      <td>NaN</td>\n",
       "      <td>FR</td>\n",
       "      <td>1</td>\n",
       "      <td>NB TEXAS ST</td>\n",
       "    </tr>\n",
       "    <tr>\n",
       "      <th>19</th>\n",
       "      <td>1100416</td>\n",
       "      <td>8</td>\n",
       "      <td>E</td>\n",
       "      <td>11</td>\n",
       "      <td>73</td>\n",
       "      <td>66000.0</td>\n",
       "      <td>4.038</td>\n",
       "      <td>5.995</td>\n",
       "      <td>32.770348</td>\n",
       "      <td>-117.137456</td>\n",
       "      <td>NaN</td>\n",
       "      <td>FR</td>\n",
       "      <td>1</td>\n",
       "      <td>NB TEXAS ST</td>\n",
       "    </tr>\n",
       "    <tr>\n",
       "      <th>19</th>\n",
       "      <td>1100416</td>\n",
       "      <td>8</td>\n",
       "      <td>E</td>\n",
       "      <td>11</td>\n",
       "      <td>73</td>\n",
       "      <td>66000.0</td>\n",
       "      <td>4.038</td>\n",
       "      <td>5.995</td>\n",
       "      <td>32.770348</td>\n",
       "      <td>-117.137456</td>\n",
       "      <td>NaN</td>\n",
       "      <td>FR</td>\n",
       "      <td>1</td>\n",
       "      <td>NB TEXAS ST</td>\n",
       "    </tr>\n",
       "    <tr>\n",
       "      <th>19</th>\n",
       "      <td>1100416</td>\n",
       "      <td>8</td>\n",
       "      <td>E</td>\n",
       "      <td>11</td>\n",
       "      <td>73</td>\n",
       "      <td>66000.0</td>\n",
       "      <td>4.038</td>\n",
       "      <td>5.995</td>\n",
       "      <td>32.770348</td>\n",
       "      <td>-117.137456</td>\n",
       "      <td>NaN</td>\n",
       "      <td>FR</td>\n",
       "      <td>1</td>\n",
       "      <td>NB TEXAS ST</td>\n",
       "    </tr>\n",
       "    <tr>\n",
       "      <th>19</th>\n",
       "      <td>1100416</td>\n",
       "      <td>8</td>\n",
       "      <td>E</td>\n",
       "      <td>11</td>\n",
       "      <td>73</td>\n",
       "      <td>66000.0</td>\n",
       "      <td>4.038</td>\n",
       "      <td>5.995</td>\n",
       "      <td>32.770348</td>\n",
       "      <td>-117.137456</td>\n",
       "      <td>NaN</td>\n",
       "      <td>FR</td>\n",
       "      <td>1</td>\n",
       "      <td>NB TEXAS ST</td>\n",
       "    </tr>\n",
       "    <tr>\n",
       "      <th>19</th>\n",
       "      <td>1100416</td>\n",
       "      <td>8</td>\n",
       "      <td>E</td>\n",
       "      <td>11</td>\n",
       "      <td>73</td>\n",
       "      <td>66000.0</td>\n",
       "      <td>4.038</td>\n",
       "      <td>5.995</td>\n",
       "      <td>32.770348</td>\n",
       "      <td>-117.137456</td>\n",
       "      <td>NaN</td>\n",
       "      <td>FR</td>\n",
       "      <td>1</td>\n",
       "      <td>NB TEXAS ST</td>\n",
       "    </tr>\n",
       "    <tr>\n",
       "      <th>19</th>\n",
       "      <td>1100416</td>\n",
       "      <td>8</td>\n",
       "      <td>E</td>\n",
       "      <td>11</td>\n",
       "      <td>73</td>\n",
       "      <td>66000.0</td>\n",
       "      <td>4.038</td>\n",
       "      <td>5.995</td>\n",
       "      <td>32.770348</td>\n",
       "      <td>-117.137456</td>\n",
       "      <td>NaN</td>\n",
       "      <td>FR</td>\n",
       "      <td>1</td>\n",
       "      <td>NB TEXAS ST</td>\n",
       "    </tr>\n",
       "    <tr>\n",
       "      <th>19</th>\n",
       "      <td>1100416</td>\n",
       "      <td>8</td>\n",
       "      <td>E</td>\n",
       "      <td>11</td>\n",
       "      <td>73</td>\n",
       "      <td>66000.0</td>\n",
       "      <td>4.038</td>\n",
       "      <td>5.995</td>\n",
       "      <td>32.770348</td>\n",
       "      <td>-117.137456</td>\n",
       "      <td>NaN</td>\n",
       "      <td>FR</td>\n",
       "      <td>1</td>\n",
       "      <td>NB TEXAS ST</td>\n",
       "    </tr>\n",
       "  </tbody>\n",
       "</table>\n",
       "</div>"
      ],
      "text/plain": [
       "         ID  Fwy Dir  District  County     City State_PM  Abs_PM   Latitude  \\\n",
       "19  1100416    8   E        11      73  66000.0    3.986   5.943  32.770143   \n",
       "19  1100416    8   E        11      73  66000.0    4.038   5.995  32.770348   \n",
       "19  1100416    8   E        11      73  66000.0    4.038   5.995  32.770348   \n",
       "19  1100416    8   E        11      73  66000.0    4.038   5.995  32.770348   \n",
       "19  1100416    8   E        11      73  66000.0    4.038   5.995  32.770348   \n",
       "19  1100416    8   E        11      73  66000.0    4.038   5.995  32.770348   \n",
       "19  1100416    8   E        11      73  66000.0    4.038   5.995  32.770348   \n",
       "19  1100416    8   E        11      73  66000.0    4.038   5.995  32.770348   \n",
       "19  1100416    8   E        11      73  66000.0    4.038   5.995  32.770348   \n",
       "19  1100416    8   E        11      73  66000.0    4.038   5.995  32.770348   \n",
       "19  1100416    8   E        11      73  66000.0    4.038   5.995  32.770348   \n",
       "19  1100416    8   E        11      73  66000.0    4.038   5.995  32.770348   \n",
       "19  1100416    8   E        11      73  66000.0    4.038   5.995  32.770348   \n",
       "19  1100416    8   E        11      73  66000.0    4.038   5.995  32.770348   \n",
       "19  1100416    8   E        11      73  66000.0    4.038   5.995  32.770348   \n",
       "19  1100416    8   E        11      73  66000.0    4.038   5.995  32.770348   \n",
       "19  1100416    8   E        11      73  66000.0    4.038   5.995  32.770348   \n",
       "19  1100416    8   E        11      73  66000.0    4.038   5.995  32.770348   \n",
       "19  1100416    8   E        11      73  66000.0    4.038   5.995  32.770348   \n",
       "19  1100416    8   E        11      73  66000.0    4.038   5.995  32.770348   \n",
       "\n",
       "     Longitude  Length Type  Lanes         Name  \n",
       "19 -117.138318     NaN   FR      1  NB TEXAS ST  \n",
       "19 -117.137456     NaN   FR      1  NB TEXAS ST  \n",
       "19 -117.137456     NaN   FR      1  NB TEXAS ST  \n",
       "19 -117.137456     NaN   FR      1  NB TEXAS ST  \n",
       "19 -117.137456     NaN   FR      1  NB TEXAS ST  \n",
       "19 -117.137456     NaN   FR      1  NB TEXAS ST  \n",
       "19 -117.137456     NaN   FR      1  NB TEXAS ST  \n",
       "19 -117.137456     NaN   FR      1  NB TEXAS ST  \n",
       "19 -117.137456     NaN   FR      1  NB TEXAS ST  \n",
       "19 -117.137456     NaN   FR      1  NB TEXAS ST  \n",
       "19 -117.137456     NaN   FR      1  NB TEXAS ST  \n",
       "19 -117.137456     NaN   FR      1  NB TEXAS ST  \n",
       "19 -117.137456     NaN   FR      1  NB TEXAS ST  \n",
       "19 -117.137456     NaN   FR      1  NB TEXAS ST  \n",
       "19 -117.137456     NaN   FR      1  NB TEXAS ST  \n",
       "19 -117.137456     NaN   FR      1  NB TEXAS ST  \n",
       "19 -117.137456     NaN   FR      1  NB TEXAS ST  \n",
       "19 -117.137456     NaN   FR      1  NB TEXAS ST  \n",
       "19 -117.137456     NaN   FR      1  NB TEXAS ST  \n",
       "19 -117.137456     NaN   FR      1  NB TEXAS ST  "
      ]
     },
     "execution_count": 17,
     "metadata": {},
     "output_type": "execute_result"
    }
   ],
   "source": [
    "tmp[tmp.ID == 1100416]"
   ]
  },
  {
   "cell_type": "markdown",
   "metadata": {
    "nbpresent": {
     "id": "0a83143d-99d0-43c4-a34e-f565a9ce9335"
    }
   },
   "source": [
    "## Most stations don't change through multiple files\n",
    "After reviewing the contents more it looks like the length or lat/long will be updated in particular files that correlate to particular timeframes.  At this point these changes look very small and seem like they can be safely ignored for our analysis."
   ]
  },
  {
   "cell_type": "code",
   "execution_count": 18,
   "metadata": {
    "collapsed": false,
    "nbpresent": {
     "id": "92216aae-8c4d-45a0-adf3-8551e0fa13c5"
    }
   },
   "outputs": [
    {
     "name": "stdout",
     "output_type": "stream",
     "text": [
      "total number of \"names\": 977\n"
     ]
    }
   ],
   "source": [
    "# get all stations for each freeway / direction\n",
    "print \"total number of \\\"names\\\": %s\" % len(meta_frame.Name.unique())"
   ]
  },
  {
   "cell_type": "code",
   "execution_count": 19,
   "metadata": {
    "collapsed": false,
    "nbpresent": {
     "id": "22a74ba4-0e45-451e-b21f-07b51f29e5a1"
    }
   },
   "outputs": [
    {
     "name": "stdout",
     "output_type": "stream",
     "text": [
      "unique freeway / direction combinations: 26\n",
      "\n",
      "count of stations per freeway / direction: \n"
     ]
    },
    {
     "data": {
      "text/html": [
       "<div>\n",
       "<table border=\"1\" class=\"dataframe\">\n",
       "  <thead>\n",
       "    <tr style=\"text-align: right;\">\n",
       "      <th></th>\n",
       "      <th></th>\n",
       "      <th>ID</th>\n",
       "      <th>District</th>\n",
       "      <th>County</th>\n",
       "      <th>City</th>\n",
       "      <th>State_PM</th>\n",
       "      <th>Abs_PM</th>\n",
       "      <th>Latitude</th>\n",
       "      <th>Longitude</th>\n",
       "      <th>Length</th>\n",
       "      <th>Type</th>\n",
       "      <th>Lanes</th>\n",
       "      <th>Name</th>\n",
       "      <th>User_ID_1</th>\n",
       "      <th>User_ID_2</th>\n",
       "      <th>User_ID_3</th>\n",
       "      <th>User_ID_4</th>\n",
       "      <th>file_date</th>\n",
       "    </tr>\n",
       "    <tr>\n",
       "      <th>Fwy</th>\n",
       "      <th>Dir</th>\n",
       "      <th></th>\n",
       "      <th></th>\n",
       "      <th></th>\n",
       "      <th></th>\n",
       "      <th></th>\n",
       "      <th></th>\n",
       "      <th></th>\n",
       "      <th></th>\n",
       "      <th></th>\n",
       "      <th></th>\n",
       "      <th></th>\n",
       "      <th></th>\n",
       "      <th></th>\n",
       "      <th></th>\n",
       "      <th></th>\n",
       "      <th></th>\n",
       "      <th></th>\n",
       "    </tr>\n",
       "  </thead>\n",
       "  <tbody>\n",
       "    <tr>\n",
       "      <th rowspan=\"2\" valign=\"top\">5</th>\n",
       "      <th>N</th>\n",
       "      <td>3420</td>\n",
       "      <td>3420</td>\n",
       "      <td>3420</td>\n",
       "      <td>3240</td>\n",
       "      <td>3420</td>\n",
       "      <td>3420</td>\n",
       "      <td>3420</td>\n",
       "      <td>3420</td>\n",
       "      <td>2360</td>\n",
       "      <td>3420</td>\n",
       "      <td>3420</td>\n",
       "      <td>3420</td>\n",
       "      <td>3420</td>\n",
       "      <td>0</td>\n",
       "      <td>0</td>\n",
       "      <td>0</td>\n",
       "      <td>3420</td>\n",
       "    </tr>\n",
       "    <tr>\n",
       "      <th>S</th>\n",
       "      <td>3638</td>\n",
       "      <td>3638</td>\n",
       "      <td>3638</td>\n",
       "      <td>3360</td>\n",
       "      <td>3638</td>\n",
       "      <td>3638</td>\n",
       "      <td>3638</td>\n",
       "      <td>3638</td>\n",
       "      <td>2218</td>\n",
       "      <td>3638</td>\n",
       "      <td>3638</td>\n",
       "      <td>3638</td>\n",
       "      <td>3638</td>\n",
       "      <td>0</td>\n",
       "      <td>0</td>\n",
       "      <td>0</td>\n",
       "      <td>3638</td>\n",
       "    </tr>\n",
       "    <tr>\n",
       "      <th rowspan=\"2\" valign=\"top\">8</th>\n",
       "      <th>E</th>\n",
       "      <td>1300</td>\n",
       "      <td>1300</td>\n",
       "      <td>1300</td>\n",
       "      <td>1178</td>\n",
       "      <td>1300</td>\n",
       "      <td>1300</td>\n",
       "      <td>1300</td>\n",
       "      <td>1300</td>\n",
       "      <td>870</td>\n",
       "      <td>1300</td>\n",
       "      <td>1300</td>\n",
       "      <td>1300</td>\n",
       "      <td>1300</td>\n",
       "      <td>0</td>\n",
       "      <td>0</td>\n",
       "      <td>0</td>\n",
       "      <td>1300</td>\n",
       "    </tr>\n",
       "    <tr>\n",
       "      <th>W</th>\n",
       "      <td>1757</td>\n",
       "      <td>1757</td>\n",
       "      <td>1757</td>\n",
       "      <td>1536</td>\n",
       "      <td>1757</td>\n",
       "      <td>1757</td>\n",
       "      <td>1757</td>\n",
       "      <td>1757</td>\n",
       "      <td>937</td>\n",
       "      <td>1757</td>\n",
       "      <td>1757</td>\n",
       "      <td>1757</td>\n",
       "      <td>1757</td>\n",
       "      <td>0</td>\n",
       "      <td>0</td>\n",
       "      <td>0</td>\n",
       "      <td>1757</td>\n",
       "    </tr>\n",
       "    <tr>\n",
       "      <th rowspan=\"2\" valign=\"top\">15</th>\n",
       "      <th>N</th>\n",
       "      <td>3009</td>\n",
       "      <td>3009</td>\n",
       "      <td>3009</td>\n",
       "      <td>2650</td>\n",
       "      <td>3009</td>\n",
       "      <td>3009</td>\n",
       "      <td>3009</td>\n",
       "      <td>3009</td>\n",
       "      <td>1801</td>\n",
       "      <td>3009</td>\n",
       "      <td>3009</td>\n",
       "      <td>3009</td>\n",
       "      <td>3009</td>\n",
       "      <td>0</td>\n",
       "      <td>0</td>\n",
       "      <td>0</td>\n",
       "      <td>3009</td>\n",
       "    </tr>\n",
       "    <tr>\n",
       "      <th>S</th>\n",
       "      <td>2940</td>\n",
       "      <td>2940</td>\n",
       "      <td>2940</td>\n",
       "      <td>2452</td>\n",
       "      <td>2940</td>\n",
       "      <td>2940</td>\n",
       "      <td>2940</td>\n",
       "      <td>2940</td>\n",
       "      <td>1760</td>\n",
       "      <td>2940</td>\n",
       "      <td>2940</td>\n",
       "      <td>2940</td>\n",
       "      <td>2940</td>\n",
       "      <td>0</td>\n",
       "      <td>0</td>\n",
       "      <td>0</td>\n",
       "      <td>2940</td>\n",
       "    </tr>\n",
       "    <tr>\n",
       "      <th rowspan=\"2\" valign=\"top\">52</th>\n",
       "      <th>E</th>\n",
       "      <td>438</td>\n",
       "      <td>438</td>\n",
       "      <td>438</td>\n",
       "      <td>438</td>\n",
       "      <td>438</td>\n",
       "      <td>438</td>\n",
       "      <td>438</td>\n",
       "      <td>438</td>\n",
       "      <td>380</td>\n",
       "      <td>438</td>\n",
       "      <td>438</td>\n",
       "      <td>438</td>\n",
       "      <td>438</td>\n",
       "      <td>0</td>\n",
       "      <td>0</td>\n",
       "      <td>0</td>\n",
       "      <td>438</td>\n",
       "    </tr>\n",
       "    <tr>\n",
       "      <th>W</th>\n",
       "      <td>436</td>\n",
       "      <td>436</td>\n",
       "      <td>436</td>\n",
       "      <td>436</td>\n",
       "      <td>436</td>\n",
       "      <td>436</td>\n",
       "      <td>416</td>\n",
       "      <td>416</td>\n",
       "      <td>436</td>\n",
       "      <td>436</td>\n",
       "      <td>436</td>\n",
       "      <td>436</td>\n",
       "      <td>436</td>\n",
       "      <td>0</td>\n",
       "      <td>0</td>\n",
       "      <td>0</td>\n",
       "      <td>436</td>\n",
       "    </tr>\n",
       "    <tr>\n",
       "      <th rowspan=\"2\" valign=\"top\">54</th>\n",
       "      <th>E</th>\n",
       "      <td>160</td>\n",
       "      <td>160</td>\n",
       "      <td>160</td>\n",
       "      <td>40</td>\n",
       "      <td>160</td>\n",
       "      <td>160</td>\n",
       "      <td>160</td>\n",
       "      <td>160</td>\n",
       "      <td>60</td>\n",
       "      <td>160</td>\n",
       "      <td>160</td>\n",
       "      <td>160</td>\n",
       "      <td>160</td>\n",
       "      <td>0</td>\n",
       "      <td>0</td>\n",
       "      <td>0</td>\n",
       "      <td>160</td>\n",
       "    </tr>\n",
       "    <tr>\n",
       "      <th>W</th>\n",
       "      <td>160</td>\n",
       "      <td>160</td>\n",
       "      <td>160</td>\n",
       "      <td>40</td>\n",
       "      <td>160</td>\n",
       "      <td>160</td>\n",
       "      <td>160</td>\n",
       "      <td>160</td>\n",
       "      <td>60</td>\n",
       "      <td>160</td>\n",
       "      <td>160</td>\n",
       "      <td>160</td>\n",
       "      <td>160</td>\n",
       "      <td>0</td>\n",
       "      <td>0</td>\n",
       "      <td>0</td>\n",
       "      <td>160</td>\n",
       "    </tr>\n",
       "    <tr>\n",
       "      <th rowspan=\"2\" valign=\"top\">56</th>\n",
       "      <th>E</th>\n",
       "      <td>502</td>\n",
       "      <td>502</td>\n",
       "      <td>502</td>\n",
       "      <td>502</td>\n",
       "      <td>502</td>\n",
       "      <td>502</td>\n",
       "      <td>502</td>\n",
       "      <td>502</td>\n",
       "      <td>222</td>\n",
       "      <td>502</td>\n",
       "      <td>502</td>\n",
       "      <td>502</td>\n",
       "      <td>502</td>\n",
       "      <td>0</td>\n",
       "      <td>0</td>\n",
       "      <td>0</td>\n",
       "      <td>502</td>\n",
       "    </tr>\n",
       "    <tr>\n",
       "      <th>W</th>\n",
       "      <td>404</td>\n",
       "      <td>404</td>\n",
       "      <td>404</td>\n",
       "      <td>404</td>\n",
       "      <td>404</td>\n",
       "      <td>404</td>\n",
       "      <td>404</td>\n",
       "      <td>404</td>\n",
       "      <td>202</td>\n",
       "      <td>404</td>\n",
       "      <td>404</td>\n",
       "      <td>404</td>\n",
       "      <td>404</td>\n",
       "      <td>0</td>\n",
       "      <td>0</td>\n",
       "      <td>0</td>\n",
       "      <td>404</td>\n",
       "    </tr>\n",
       "    <tr>\n",
       "      <th rowspan=\"2\" valign=\"top\">67</th>\n",
       "      <th>N</th>\n",
       "      <td>40</td>\n",
       "      <td>40</td>\n",
       "      <td>40</td>\n",
       "      <td>0</td>\n",
       "      <td>40</td>\n",
       "      <td>40</td>\n",
       "      <td>40</td>\n",
       "      <td>40</td>\n",
       "      <td>0</td>\n",
       "      <td>40</td>\n",
       "      <td>40</td>\n",
       "      <td>40</td>\n",
       "      <td>40</td>\n",
       "      <td>0</td>\n",
       "      <td>0</td>\n",
       "      <td>0</td>\n",
       "      <td>40</td>\n",
       "    </tr>\n",
       "    <tr>\n",
       "      <th>S</th>\n",
       "      <td>40</td>\n",
       "      <td>40</td>\n",
       "      <td>40</td>\n",
       "      <td>0</td>\n",
       "      <td>40</td>\n",
       "      <td>40</td>\n",
       "      <td>40</td>\n",
       "      <td>40</td>\n",
       "      <td>0</td>\n",
       "      <td>40</td>\n",
       "      <td>40</td>\n",
       "      <td>40</td>\n",
       "      <td>40</td>\n",
       "      <td>0</td>\n",
       "      <td>0</td>\n",
       "      <td>0</td>\n",
       "      <td>40</td>\n",
       "    </tr>\n",
       "    <tr>\n",
       "      <th rowspan=\"2\" valign=\"top\">78</th>\n",
       "      <th>E</th>\n",
       "      <td>916</td>\n",
       "      <td>916</td>\n",
       "      <td>916</td>\n",
       "      <td>760</td>\n",
       "      <td>916</td>\n",
       "      <td>916</td>\n",
       "      <td>916</td>\n",
       "      <td>916</td>\n",
       "      <td>356</td>\n",
       "      <td>916</td>\n",
       "      <td>916</td>\n",
       "      <td>916</td>\n",
       "      <td>916</td>\n",
       "      <td>0</td>\n",
       "      <td>0</td>\n",
       "      <td>0</td>\n",
       "      <td>916</td>\n",
       "    </tr>\n",
       "    <tr>\n",
       "      <th>W</th>\n",
       "      <td>1227</td>\n",
       "      <td>1227</td>\n",
       "      <td>1227</td>\n",
       "      <td>1095</td>\n",
       "      <td>1227</td>\n",
       "      <td>1227</td>\n",
       "      <td>1227</td>\n",
       "      <td>1227</td>\n",
       "      <td>494</td>\n",
       "      <td>1227</td>\n",
       "      <td>1227</td>\n",
       "      <td>1227</td>\n",
       "      <td>1227</td>\n",
       "      <td>0</td>\n",
       "      <td>0</td>\n",
       "      <td>0</td>\n",
       "      <td>1227</td>\n",
       "    </tr>\n",
       "    <tr>\n",
       "      <th rowspan=\"2\" valign=\"top\">94</th>\n",
       "      <th>E</th>\n",
       "      <td>711</td>\n",
       "      <td>711</td>\n",
       "      <td>711</td>\n",
       "      <td>711</td>\n",
       "      <td>711</td>\n",
       "      <td>711</td>\n",
       "      <td>711</td>\n",
       "      <td>711</td>\n",
       "      <td>320</td>\n",
       "      <td>711</td>\n",
       "      <td>711</td>\n",
       "      <td>711</td>\n",
       "      <td>711</td>\n",
       "      <td>0</td>\n",
       "      <td>0</td>\n",
       "      <td>0</td>\n",
       "      <td>711</td>\n",
       "    </tr>\n",
       "    <tr>\n",
       "      <th>W</th>\n",
       "      <td>1060</td>\n",
       "      <td>1060</td>\n",
       "      <td>1060</td>\n",
       "      <td>1040</td>\n",
       "      <td>1060</td>\n",
       "      <td>1060</td>\n",
       "      <td>1060</td>\n",
       "      <td>1060</td>\n",
       "      <td>420</td>\n",
       "      <td>1060</td>\n",
       "      <td>1060</td>\n",
       "      <td>1060</td>\n",
       "      <td>1060</td>\n",
       "      <td>0</td>\n",
       "      <td>0</td>\n",
       "      <td>0</td>\n",
       "      <td>1060</td>\n",
       "    </tr>\n",
       "    <tr>\n",
       "      <th rowspan=\"2\" valign=\"top\">125</th>\n",
       "      <th>N</th>\n",
       "      <td>592</td>\n",
       "      <td>592</td>\n",
       "      <td>592</td>\n",
       "      <td>363</td>\n",
       "      <td>592</td>\n",
       "      <td>592</td>\n",
       "      <td>592</td>\n",
       "      <td>592</td>\n",
       "      <td>349</td>\n",
       "      <td>592</td>\n",
       "      <td>592</td>\n",
       "      <td>592</td>\n",
       "      <td>592</td>\n",
       "      <td>0</td>\n",
       "      <td>0</td>\n",
       "      <td>0</td>\n",
       "      <td>592</td>\n",
       "    </tr>\n",
       "    <tr>\n",
       "      <th>S</th>\n",
       "      <td>618</td>\n",
       "      <td>618</td>\n",
       "      <td>618</td>\n",
       "      <td>380</td>\n",
       "      <td>618</td>\n",
       "      <td>618</td>\n",
       "      <td>618</td>\n",
       "      <td>618</td>\n",
       "      <td>355</td>\n",
       "      <td>618</td>\n",
       "      <td>618</td>\n",
       "      <td>618</td>\n",
       "      <td>618</td>\n",
       "      <td>0</td>\n",
       "      <td>0</td>\n",
       "      <td>0</td>\n",
       "      <td>618</td>\n",
       "    </tr>\n",
       "    <tr>\n",
       "      <th rowspan=\"2\" valign=\"top\">163</th>\n",
       "      <th>N</th>\n",
       "      <td>473</td>\n",
       "      <td>473</td>\n",
       "      <td>473</td>\n",
       "      <td>473</td>\n",
       "      <td>473</td>\n",
       "      <td>473</td>\n",
       "      <td>473</td>\n",
       "      <td>473</td>\n",
       "      <td>273</td>\n",
       "      <td>473</td>\n",
       "      <td>473</td>\n",
       "      <td>473</td>\n",
       "      <td>473</td>\n",
       "      <td>0</td>\n",
       "      <td>0</td>\n",
       "      <td>0</td>\n",
       "      <td>473</td>\n",
       "    </tr>\n",
       "    <tr>\n",
       "      <th>S</th>\n",
       "      <td>581</td>\n",
       "      <td>581</td>\n",
       "      <td>581</td>\n",
       "      <td>581</td>\n",
       "      <td>581</td>\n",
       "      <td>581</td>\n",
       "      <td>581</td>\n",
       "      <td>581</td>\n",
       "      <td>325</td>\n",
       "      <td>581</td>\n",
       "      <td>581</td>\n",
       "      <td>581</td>\n",
       "      <td>581</td>\n",
       "      <td>0</td>\n",
       "      <td>0</td>\n",
       "      <td>0</td>\n",
       "      <td>581</td>\n",
       "    </tr>\n",
       "    <tr>\n",
       "      <th rowspan=\"2\" valign=\"top\">805</th>\n",
       "      <th>N</th>\n",
       "      <td>2238</td>\n",
       "      <td>2238</td>\n",
       "      <td>2238</td>\n",
       "      <td>2149</td>\n",
       "      <td>2238</td>\n",
       "      <td>2238</td>\n",
       "      <td>2238</td>\n",
       "      <td>2238</td>\n",
       "      <td>1359</td>\n",
       "      <td>2238</td>\n",
       "      <td>2238</td>\n",
       "      <td>2238</td>\n",
       "      <td>2238</td>\n",
       "      <td>0</td>\n",
       "      <td>0</td>\n",
       "      <td>0</td>\n",
       "      <td>2238</td>\n",
       "    </tr>\n",
       "    <tr>\n",
       "      <th>S</th>\n",
       "      <td>2098</td>\n",
       "      <td>2098</td>\n",
       "      <td>2098</td>\n",
       "      <td>1864</td>\n",
       "      <td>2098</td>\n",
       "      <td>2098</td>\n",
       "      <td>2078</td>\n",
       "      <td>2078</td>\n",
       "      <td>1470</td>\n",
       "      <td>2098</td>\n",
       "      <td>2098</td>\n",
       "      <td>2098</td>\n",
       "      <td>2098</td>\n",
       "      <td>0</td>\n",
       "      <td>0</td>\n",
       "      <td>0</td>\n",
       "      <td>2098</td>\n",
       "    </tr>\n",
       "    <tr>\n",
       "      <th rowspan=\"2\" valign=\"top\">905</th>\n",
       "      <th>E</th>\n",
       "      <td>338</td>\n",
       "      <td>338</td>\n",
       "      <td>338</td>\n",
       "      <td>80</td>\n",
       "      <td>338</td>\n",
       "      <td>338</td>\n",
       "      <td>338</td>\n",
       "      <td>338</td>\n",
       "      <td>218</td>\n",
       "      <td>338</td>\n",
       "      <td>338</td>\n",
       "      <td>338</td>\n",
       "      <td>338</td>\n",
       "      <td>0</td>\n",
       "      <td>0</td>\n",
       "      <td>0</td>\n",
       "      <td>338</td>\n",
       "    </tr>\n",
       "    <tr>\n",
       "      <th>W</th>\n",
       "      <td>400</td>\n",
       "      <td>400</td>\n",
       "      <td>400</td>\n",
       "      <td>80</td>\n",
       "      <td>400</td>\n",
       "      <td>400</td>\n",
       "      <td>400</td>\n",
       "      <td>400</td>\n",
       "      <td>220</td>\n",
       "      <td>400</td>\n",
       "      <td>400</td>\n",
       "      <td>400</td>\n",
       "      <td>400</td>\n",
       "      <td>0</td>\n",
       "      <td>0</td>\n",
       "      <td>0</td>\n",
       "      <td>400</td>\n",
       "    </tr>\n",
       "  </tbody>\n",
       "</table>\n",
       "</div>"
      ],
      "text/plain": [
       "           ID  District  County  City  State_PM  Abs_PM  Latitude  Longitude  \\\n",
       "Fwy Dir                                                                        \n",
       "5   N    3420      3420    3420  3240      3420    3420      3420       3420   \n",
       "    S    3638      3638    3638  3360      3638    3638      3638       3638   \n",
       "8   E    1300      1300    1300  1178      1300    1300      1300       1300   \n",
       "    W    1757      1757    1757  1536      1757    1757      1757       1757   \n",
       "15  N    3009      3009    3009  2650      3009    3009      3009       3009   \n",
       "    S    2940      2940    2940  2452      2940    2940      2940       2940   \n",
       "52  E     438       438     438   438       438     438       438        438   \n",
       "    W     436       436     436   436       436     436       416        416   \n",
       "54  E     160       160     160    40       160     160       160        160   \n",
       "    W     160       160     160    40       160     160       160        160   \n",
       "56  E     502       502     502   502       502     502       502        502   \n",
       "    W     404       404     404   404       404     404       404        404   \n",
       "67  N      40        40      40     0        40      40        40         40   \n",
       "    S      40        40      40     0        40      40        40         40   \n",
       "78  E     916       916     916   760       916     916       916        916   \n",
       "    W    1227      1227    1227  1095      1227    1227      1227       1227   \n",
       "94  E     711       711     711   711       711     711       711        711   \n",
       "    W    1060      1060    1060  1040      1060    1060      1060       1060   \n",
       "125 N     592       592     592   363       592     592       592        592   \n",
       "    S     618       618     618   380       618     618       618        618   \n",
       "163 N     473       473     473   473       473     473       473        473   \n",
       "    S     581       581     581   581       581     581       581        581   \n",
       "805 N    2238      2238    2238  2149      2238    2238      2238       2238   \n",
       "    S    2098      2098    2098  1864      2098    2098      2078       2078   \n",
       "905 E     338       338     338    80       338     338       338        338   \n",
       "    W     400       400     400    80       400     400       400        400   \n",
       "\n",
       "         Length  Type  Lanes  Name  User_ID_1  User_ID_2  User_ID_3  \\\n",
       "Fwy Dir                                                               \n",
       "5   N      2360  3420   3420  3420       3420          0          0   \n",
       "    S      2218  3638   3638  3638       3638          0          0   \n",
       "8   E       870  1300   1300  1300       1300          0          0   \n",
       "    W       937  1757   1757  1757       1757          0          0   \n",
       "15  N      1801  3009   3009  3009       3009          0          0   \n",
       "    S      1760  2940   2940  2940       2940          0          0   \n",
       "52  E       380   438    438   438        438          0          0   \n",
       "    W       436   436    436   436        436          0          0   \n",
       "54  E        60   160    160   160        160          0          0   \n",
       "    W        60   160    160   160        160          0          0   \n",
       "56  E       222   502    502   502        502          0          0   \n",
       "    W       202   404    404   404        404          0          0   \n",
       "67  N         0    40     40    40         40          0          0   \n",
       "    S         0    40     40    40         40          0          0   \n",
       "78  E       356   916    916   916        916          0          0   \n",
       "    W       494  1227   1227  1227       1227          0          0   \n",
       "94  E       320   711    711   711        711          0          0   \n",
       "    W       420  1060   1060  1060       1060          0          0   \n",
       "125 N       349   592    592   592        592          0          0   \n",
       "    S       355   618    618   618        618          0          0   \n",
       "163 N       273   473    473   473        473          0          0   \n",
       "    S       325   581    581   581        581          0          0   \n",
       "805 N      1359  2238   2238  2238       2238          0          0   \n",
       "    S      1470  2098   2098  2098       2098          0          0   \n",
       "905 E       218   338    338   338        338          0          0   \n",
       "    W       220   400    400   400        400          0          0   \n",
       "\n",
       "         User_ID_4  file_date  \n",
       "Fwy Dir                        \n",
       "5   N            0       3420  \n",
       "    S            0       3638  \n",
       "8   E            0       1300  \n",
       "    W            0       1757  \n",
       "15  N            0       3009  \n",
       "    S            0       2940  \n",
       "52  E            0        438  \n",
       "    W            0        436  \n",
       "54  E            0        160  \n",
       "    W            0        160  \n",
       "56  E            0        502  \n",
       "    W            0        404  \n",
       "67  N            0         40  \n",
       "    S            0         40  \n",
       "78  E            0        916  \n",
       "    W            0       1227  \n",
       "94  E            0        711  \n",
       "    W            0       1060  \n",
       "125 N            0        592  \n",
       "    S            0        618  \n",
       "163 N            0        473  \n",
       "    S            0        581  \n",
       "805 N            0       2238  \n",
       "    S            0       2098  \n",
       "905 E            0        338  \n",
       "    W            0        400  "
      ]
     },
     "execution_count": 19,
     "metadata": {},
     "output_type": "execute_result"
    }
   ],
   "source": [
    "meta_by_name = meta_frame.groupby(['Fwy', 'Dir'])\n",
    "print \"unique freeway / direction combinations: %s\" % meta_by_name.ID.unique().count()\n",
    "print \"\\ncount of stations per freeway / direction: \"\n",
    "meta_by_name.count()"
   ]
  },
  {
   "cell_type": "code",
   "execution_count": 20,
   "metadata": {
    "collapsed": false,
    "nbpresent": {
     "id": "a0554e47-099a-4fbf-8df1-3bacc1f4a9a4"
    }
   },
   "outputs": [
    {
     "data": {
      "text/html": [
       "<div>\n",
       "<table border=\"1\" class=\"dataframe\">\n",
       "  <thead>\n",
       "    <tr style=\"text-align: right;\">\n",
       "      <th></th>\n",
       "      <th>Fwy</th>\n",
       "      <th>Dir</th>\n",
       "      <th>count</th>\n",
       "    </tr>\n",
       "  </thead>\n",
       "  <tbody>\n",
       "    <tr>\n",
       "      <th>0</th>\n",
       "      <td>5</td>\n",
       "      <td>N</td>\n",
       "      <td>3420</td>\n",
       "    </tr>\n",
       "    <tr>\n",
       "      <th>1</th>\n",
       "      <td>5</td>\n",
       "      <td>S</td>\n",
       "      <td>3638</td>\n",
       "    </tr>\n",
       "    <tr>\n",
       "      <th>2</th>\n",
       "      <td>8</td>\n",
       "      <td>E</td>\n",
       "      <td>1300</td>\n",
       "    </tr>\n",
       "    <tr>\n",
       "      <th>3</th>\n",
       "      <td>8</td>\n",
       "      <td>W</td>\n",
       "      <td>1757</td>\n",
       "    </tr>\n",
       "    <tr>\n",
       "      <th>4</th>\n",
       "      <td>15</td>\n",
       "      <td>N</td>\n",
       "      <td>3009</td>\n",
       "    </tr>\n",
       "    <tr>\n",
       "      <th>5</th>\n",
       "      <td>15</td>\n",
       "      <td>S</td>\n",
       "      <td>2940</td>\n",
       "    </tr>\n",
       "    <tr>\n",
       "      <th>6</th>\n",
       "      <td>52</td>\n",
       "      <td>E</td>\n",
       "      <td>438</td>\n",
       "    </tr>\n",
       "    <tr>\n",
       "      <th>7</th>\n",
       "      <td>52</td>\n",
       "      <td>W</td>\n",
       "      <td>436</td>\n",
       "    </tr>\n",
       "    <tr>\n",
       "      <th>8</th>\n",
       "      <td>54</td>\n",
       "      <td>E</td>\n",
       "      <td>160</td>\n",
       "    </tr>\n",
       "    <tr>\n",
       "      <th>9</th>\n",
       "      <td>54</td>\n",
       "      <td>W</td>\n",
       "      <td>160</td>\n",
       "    </tr>\n",
       "    <tr>\n",
       "      <th>10</th>\n",
       "      <td>56</td>\n",
       "      <td>E</td>\n",
       "      <td>502</td>\n",
       "    </tr>\n",
       "    <tr>\n",
       "      <th>11</th>\n",
       "      <td>56</td>\n",
       "      <td>W</td>\n",
       "      <td>404</td>\n",
       "    </tr>\n",
       "    <tr>\n",
       "      <th>12</th>\n",
       "      <td>67</td>\n",
       "      <td>N</td>\n",
       "      <td>40</td>\n",
       "    </tr>\n",
       "    <tr>\n",
       "      <th>13</th>\n",
       "      <td>67</td>\n",
       "      <td>S</td>\n",
       "      <td>40</td>\n",
       "    </tr>\n",
       "    <tr>\n",
       "      <th>14</th>\n",
       "      <td>78</td>\n",
       "      <td>E</td>\n",
       "      <td>916</td>\n",
       "    </tr>\n",
       "    <tr>\n",
       "      <th>15</th>\n",
       "      <td>78</td>\n",
       "      <td>W</td>\n",
       "      <td>1227</td>\n",
       "    </tr>\n",
       "    <tr>\n",
       "      <th>16</th>\n",
       "      <td>94</td>\n",
       "      <td>E</td>\n",
       "      <td>711</td>\n",
       "    </tr>\n",
       "    <tr>\n",
       "      <th>17</th>\n",
       "      <td>94</td>\n",
       "      <td>W</td>\n",
       "      <td>1060</td>\n",
       "    </tr>\n",
       "    <tr>\n",
       "      <th>18</th>\n",
       "      <td>125</td>\n",
       "      <td>N</td>\n",
       "      <td>592</td>\n",
       "    </tr>\n",
       "    <tr>\n",
       "      <th>19</th>\n",
       "      <td>125</td>\n",
       "      <td>S</td>\n",
       "      <td>618</td>\n",
       "    </tr>\n",
       "    <tr>\n",
       "      <th>20</th>\n",
       "      <td>163</td>\n",
       "      <td>N</td>\n",
       "      <td>473</td>\n",
       "    </tr>\n",
       "    <tr>\n",
       "      <th>21</th>\n",
       "      <td>163</td>\n",
       "      <td>S</td>\n",
       "      <td>581</td>\n",
       "    </tr>\n",
       "    <tr>\n",
       "      <th>22</th>\n",
       "      <td>805</td>\n",
       "      <td>N</td>\n",
       "      <td>2238</td>\n",
       "    </tr>\n",
       "    <tr>\n",
       "      <th>23</th>\n",
       "      <td>805</td>\n",
       "      <td>S</td>\n",
       "      <td>2098</td>\n",
       "    </tr>\n",
       "    <tr>\n",
       "      <th>24</th>\n",
       "      <td>905</td>\n",
       "      <td>E</td>\n",
       "      <td>338</td>\n",
       "    </tr>\n",
       "    <tr>\n",
       "      <th>25</th>\n",
       "      <td>905</td>\n",
       "      <td>W</td>\n",
       "      <td>400</td>\n",
       "    </tr>\n",
       "  </tbody>\n",
       "</table>\n",
       "</div>"
      ],
      "text/plain": [
       "    Fwy Dir  count\n",
       "0     5   N   3420\n",
       "1     5   S   3638\n",
       "2     8   E   1300\n",
       "3     8   W   1757\n",
       "4    15   N   3009\n",
       "5    15   S   2940\n",
       "6    52   E    438\n",
       "7    52   W    436\n",
       "8    54   E    160\n",
       "9    54   W    160\n",
       "10   56   E    502\n",
       "11   56   W    404\n",
       "12   67   N     40\n",
       "13   67   S     40\n",
       "14   78   E    916\n",
       "15   78   W   1227\n",
       "16   94   E    711\n",
       "17   94   W   1060\n",
       "18  125   N    592\n",
       "19  125   S    618\n",
       "20  163   N    473\n",
       "21  163   S    581\n",
       "22  805   N   2238\n",
       "23  805   S   2098\n",
       "24  905   E    338\n",
       "25  905   W    400"
      ]
     },
     "execution_count": 20,
     "metadata": {},
     "output_type": "execute_result"
    }
   ],
   "source": [
    "meta_frame.groupby(['Fwy','Dir']).size().reset_index().rename(columns={0:'count'})"
   ]
  },
  {
   "cell_type": "markdown",
   "metadata": {
    "nbpresent": {
     "id": "b1580268-69bd-4828-91a0-0b771380070a"
    }
   },
   "source": [
    "# Load 5 min data and Generate Summary File\n",
    "\n",
    "The purpose of this section will be to create a new csv file.  The reason for doing this is to try to do the processing one time and then free up memory.  The current approach is to start off with uncompressed files (to save on memory / processing within the notebook).  Once this is complete we will iterate over all of the files in question.  Notice that the dataframe will be dropping columns as each individual file is loaded.  This was done to try and conserve memory.  The 2015 year in text is 40 GB.  Once all of the file are read (and unnecessary columns dropped) a single dataframe will be constructed.\n",
    "\n",
    "After the single dataframe is constructed it will be written out to a csv file.\n",
    "\n",
    "After that point the csv file is what should be read into the notebook.  Unless new data is needed the pickle file should be sufficient.\n",
    "\n",
    "The expected csv file will be approximately 12 GB. After that point we will hopefully do our statistics and then again generate a much smaller file."
   ]
  },
  {
   "cell_type": "code",
   "execution_count": 26,
   "metadata": {
    "collapsed": true,
    "nbpresent": {
     "id": "440702e6-c875-4aa3-a9d9-2c85ce4a1add"
    }
   },
   "outputs": [],
   "source": [
    "# 12 base fields\n",
    "# 5 fields per lane\n",
    "# 8 lanes\n",
    "# 40 + 12\n",
    "\n",
    "# File has 52 columns"
   ]
  },
  {
   "cell_type": "code",
   "execution_count": 27,
   "metadata": {
    "collapsed": false,
    "nbpresent": {
     "id": "c8b01213-388f-4ebe-8d97-03cbe2996de8"
    }
   },
   "outputs": [
    {
     "name": "stdout",
     "output_type": "stream",
     "text": [
      "['Timestamp', 'Station', 'District', 'Freeway #', 'Direction', 'Lane Type', 'Station Length', 'Samples', '% Observed', 'Total Flow', 'Avg Occupancy', 'Avg Speed', 'Lane 1 Samples', 'Lane 1 Flow', 'Lane 1 Avg Occ', 'Lane 1 Avg Speed', 'Lane 1 Observed', 'Lane 2 Samples', 'Lane 2 Flow', 'Lane 2 Avg Occ', 'Lane 2 Avg Speed', 'Lane 2 Observed', 'Lane 3 Samples', 'Lane 3 Flow', 'Lane 3 Avg Occ', 'Lane 3 Avg Speed', 'Lane 3 Observed', 'Lane 4 Samples', 'Lane 4 Flow', 'Lane 4 Avg Occ', 'Lane 4 Avg Speed', 'Lane 4 Observed', 'Lane 5 Samples', 'Lane 5 Flow', 'Lane 5 Avg Occ', 'Lane 5 Avg Speed', 'Lane 5 Observed', 'Lane 6 Samples', 'Lane 6 Flow', 'Lane 6 Avg Occ', 'Lane 6 Avg Speed', 'Lane 6 Observed', 'Lane 7 Samples', 'Lane 7 Flow', 'Lane 7 Avg Occ', 'Lane 7 Avg Speed', 'Lane 7 Observed', 'Lane 8 Samples', 'Lane 8 Flow', 'Lane 8 Avg Occ', 'Lane 8 Avg Speed', 'Lane 8 Observed']\n"
     ]
    }
   ],
   "source": [
    "five_min_base_header = ['Timestamp', 'Station', 'District', 'Freeway #', 'Direction', 'Lane Type', 'Station Length',\n",
    "                        'Samples', '% Observed', 'Total Flow', 'Avg Occupancy', 'Avg Speed']\n",
    "five_min_extra_header = ['Lane %s Samples', 'Lane %s Flow', 'Lane %s Avg Occ', 'Lane %s Avg Speed', 'Lane %s Observed']\n",
    "header = five_min_base_header\n",
    "max_lanes = 8\n",
    "for i in range(1, max_lanes + 1):\n",
    "    new_header = [item % i for item in five_min_extra_header]\n",
    "    header += new_header\n",
    "    \n",
    "print header"
   ]
  },
  {
   "cell_type": "code",
   "execution_count": 28,
   "metadata": {
    "collapsed": false,
    "nbpresent": {
     "id": "f46c7e20-50d1-44c5-8589-f3153c3d5a21"
    }
   },
   "outputs": [],
   "source": [
    "# Note: because I have space I unzipped all of the files.  Difference code is needed to decompress on the fly.\n",
    "jan_2016_path = \"../../cohort2/output_unzipped/station_5min/2016/d11/*_text_station_5min_2016_01*.txt\"\n",
    "all_2015_path = \"../../cohort2/output_unzipped/station_5min/2015/d11/*_text_station_5min_*.txt\"\n",
    "import_path = all_2015_path\n",
    "\n",
    "columns_to_keep = ['Timestamp', 'Station', 'District', 'Freeway #', 'Direction', 'Lane Type', 'Station Length',\n",
    "                   'Samples', '% Observed', 'Total Flow', 'Avg Occupancy', 'Avg Speed']\n",
    "\n",
    "def import_data(import_path, columns_to_keep=[]):\n",
    "    five_min_files = glob.glob(import_path)\n",
    "    print five_min_files[0:5]\n",
    "    five_min_file_list = []\n",
    "    total = len(five_min_files)\n",
    "    for index in range(0, total):\n",
    "        five_min_file = five_min_files[index]\n",
    "        if index % (total/10) == 0:\n",
    "            print \"{0:.2f}\".format(index/float(total))\n",
    "        df = pd.read_csv(five_min_file,index_col=None, header=None, names=header)\n",
    "        # drop columns to reduce size\n",
    "        if columns_to_keep:\n",
    "            df = df[columns_to_keep]\n",
    "        five_min_file_list.append(df)\n",
    "\n",
    "    five_min_frame = pd.concat(five_min_file_list)\n",
    "    return five_min_frame"
   ]
  },
  {
   "cell_type": "code",
   "execution_count": 189,
   "metadata": {
    "collapsed": false,
    "nbpresent": {
     "id": "26350905-411c-4867-9bfb-e1df7b5d338d"
    }
   },
   "outputs": [
    {
     "name": "stdout",
     "output_type": "stream",
     "text": [
      "['../../cohort2/output_unzipped/station_5min/2015/d11/d11_text_station_5min_2015_01_01.txt', '../../cohort2/output_unzipped/station_5min/2015/d11/d11_text_station_5min_2015_01_02.txt', '../../cohort2/output_unzipped/station_5min/2015/d11/d11_text_station_5min_2015_01_03.txt', '../../cohort2/output_unzipped/station_5min/2015/d11/d11_text_station_5min_2015_01_04.txt', '../../cohort2/output_unzipped/station_5min/2015/d11/d11_text_station_5min_2015_01_05.txt']\n",
      "0.00\n",
      "0.10\n",
      "0.20\n",
      "0.30\n",
      "0.39\n",
      "0.49\n",
      "0.59\n",
      "0.69\n",
      "0.79\n",
      "0.89\n",
      "0.99\n"
     ]
    }
   ],
   "source": [
    "# shouldn't run this cell unless we want to re-generate the file\n",
    "# five_min_frame = import_data(import_path, columns_to_keep)\n",
    "# five_min_frame.to_csv('five_min_frame.csv')"
   ]
  },
  {
   "cell_type": "code",
   "execution_count": 25,
   "metadata": {
    "collapsed": false,
    "nbpresent": {
     "id": "3997971c-d3b7-465c-8443-fdb8743d4d47"
    }
   },
   "outputs": [],
   "source": [
    "# Note: using hdf is faster than csv, however the hdf can get corrupted and therefore require re-generating the data\n",
    "# recommend keeping a csv backup so a new hdf can be generated without having to recompute the data.\n",
    "# start_time = time.time()\n",
    "# five_min_frame = pd.read_csv('five_min_frame.csv')\n",
    "# print time.time() - start_time"
   ]
  },
  {
   "cell_type": "code",
   "execution_count": 22,
   "metadata": {
    "collapsed": true
   },
   "outputs": [],
   "source": [
    "# 363.14 seconds reading from csv (all data)"
   ]
  },
  {
   "cell_type": "code",
   "execution_count": 26,
   "metadata": {
    "collapsed": true,
    "nbpresent": {
     "id": "42f4cfe2-6e20-4aac-ac98-980f269dbcc9"
    }
   },
   "outputs": [],
   "source": [
    "# five_min_frame.to_hdf('five_min_frame.hdf', 'five_min_frame', mode='w')"
   ]
  },
  {
   "cell_type": "code",
   "execution_count": 23,
   "metadata": {
    "collapsed": false
   },
   "outputs": [
    {
     "name": "stdout",
     "output_type": "stream",
     "text": [
      "total time: 108.807295084\n"
     ]
    }
   ],
   "source": [
    "start_time = time.time()\n",
    "five_min_frame = pd.read_hdf('../data/five_min_frame.hdf','five_min_frame')\n",
    "print \"total time: %s\" % (time.time() - start_time)"
   ]
  },
  {
   "cell_type": "code",
   "execution_count": 29,
   "metadata": {
    "collapsed": false,
    "nbpresent": {
     "id": "ee52396c-fc03-4fe3-8921-e00a3b81c5fc"
    },
    "scrolled": true
   },
   "outputs": [
    {
     "data": {
      "text/html": [
       "<div>\n",
       "<table border=\"1\" class=\"dataframe\">\n",
       "  <thead>\n",
       "    <tr style=\"text-align: right;\">\n",
       "      <th></th>\n",
       "      <th>0</th>\n",
       "      <th>1</th>\n",
       "      <th>2</th>\n",
       "      <th>3</th>\n",
       "      <th>4</th>\n",
       "    </tr>\n",
       "  </thead>\n",
       "  <tbody>\n",
       "    <tr>\n",
       "      <th>Unnamed: 0</th>\n",
       "      <td>0</td>\n",
       "      <td>1</td>\n",
       "      <td>2</td>\n",
       "      <td>3</td>\n",
       "      <td>4</td>\n",
       "    </tr>\n",
       "    <tr>\n",
       "      <th>Timestamp</th>\n",
       "      <td>01/01/2015 00:00:00</td>\n",
       "      <td>01/01/2015 00:00:00</td>\n",
       "      <td>01/01/2015 00:00:00</td>\n",
       "      <td>01/01/2015 00:00:00</td>\n",
       "      <td>01/01/2015 00:00:00</td>\n",
       "    </tr>\n",
       "    <tr>\n",
       "      <th>Station</th>\n",
       "      <td>1100313</td>\n",
       "      <td>1100323</td>\n",
       "      <td>1100326</td>\n",
       "      <td>1100330</td>\n",
       "      <td>1100333</td>\n",
       "    </tr>\n",
       "    <tr>\n",
       "      <th>District</th>\n",
       "      <td>11</td>\n",
       "      <td>11</td>\n",
       "      <td>11</td>\n",
       "      <td>11</td>\n",
       "      <td>11</td>\n",
       "    </tr>\n",
       "    <tr>\n",
       "      <th>Freeway #</th>\n",
       "      <td>5</td>\n",
       "      <td>5</td>\n",
       "      <td>5</td>\n",
       "      <td>5</td>\n",
       "      <td>5</td>\n",
       "    </tr>\n",
       "    <tr>\n",
       "      <th>Direction</th>\n",
       "      <td>N</td>\n",
       "      <td>N</td>\n",
       "      <td>N</td>\n",
       "      <td>N</td>\n",
       "      <td>N</td>\n",
       "    </tr>\n",
       "    <tr>\n",
       "      <th>Lane Type</th>\n",
       "      <td>FR</td>\n",
       "      <td>FR</td>\n",
       "      <td>FR</td>\n",
       "      <td>FR</td>\n",
       "      <td>FR</td>\n",
       "    </tr>\n",
       "    <tr>\n",
       "      <th>Station Length</th>\n",
       "      <td>NaN</td>\n",
       "      <td>NaN</td>\n",
       "      <td>NaN</td>\n",
       "      <td>NaN</td>\n",
       "      <td>NaN</td>\n",
       "    </tr>\n",
       "    <tr>\n",
       "      <th>Samples</th>\n",
       "      <td>10</td>\n",
       "      <td>20</td>\n",
       "      <td>20</td>\n",
       "      <td>20</td>\n",
       "      <td>10</td>\n",
       "    </tr>\n",
       "    <tr>\n",
       "      <th>% Observed</th>\n",
       "      <td>100</td>\n",
       "      <td>0</td>\n",
       "      <td>100</td>\n",
       "      <td>100</td>\n",
       "      <td>100</td>\n",
       "    </tr>\n",
       "    <tr>\n",
       "      <th>Total Flow</th>\n",
       "      <td>16</td>\n",
       "      <td>NaN</td>\n",
       "      <td>11</td>\n",
       "      <td>7</td>\n",
       "      <td>3</td>\n",
       "    </tr>\n",
       "    <tr>\n",
       "      <th>Avg Occupancy</th>\n",
       "      <td>NaN</td>\n",
       "      <td>NaN</td>\n",
       "      <td>NaN</td>\n",
       "      <td>NaN</td>\n",
       "      <td>NaN</td>\n",
       "    </tr>\n",
       "    <tr>\n",
       "      <th>Avg Speed</th>\n",
       "      <td>NaN</td>\n",
       "      <td>NaN</td>\n",
       "      <td>NaN</td>\n",
       "      <td>NaN</td>\n",
       "      <td>NaN</td>\n",
       "    </tr>\n",
       "  </tbody>\n",
       "</table>\n",
       "</div>"
      ],
      "text/plain": [
       "                                  0                    1                    2  \\\n",
       "Unnamed: 0                        0                    1                    2   \n",
       "Timestamp       01/01/2015 00:00:00  01/01/2015 00:00:00  01/01/2015 00:00:00   \n",
       "Station                     1100313              1100323              1100326   \n",
       "District                         11                   11                   11   \n",
       "Freeway #                         5                    5                    5   \n",
       "Direction                         N                    N                    N   \n",
       "Lane Type                        FR                   FR                   FR   \n",
       "Station Length                  NaN                  NaN                  NaN   \n",
       "Samples                          10                   20                   20   \n",
       "% Observed                      100                    0                  100   \n",
       "Total Flow                       16                  NaN                   11   \n",
       "Avg Occupancy                   NaN                  NaN                  NaN   \n",
       "Avg Speed                       NaN                  NaN                  NaN   \n",
       "\n",
       "                                  3                    4  \n",
       "Unnamed: 0                        3                    4  \n",
       "Timestamp       01/01/2015 00:00:00  01/01/2015 00:00:00  \n",
       "Station                     1100330              1100333  \n",
       "District                         11                   11  \n",
       "Freeway #                         5                    5  \n",
       "Direction                         N                    N  \n",
       "Lane Type                        FR                   FR  \n",
       "Station Length                  NaN                  NaN  \n",
       "Samples                          20                   10  \n",
       "% Observed                      100                  100  \n",
       "Total Flow                        7                    3  \n",
       "Avg Occupancy                   NaN                  NaN  \n",
       "Avg Speed                       NaN                  NaN  "
      ]
     },
     "execution_count": 29,
     "metadata": {},
     "output_type": "execute_result"
    }
   ],
   "source": [
    "# if % Observed != 100 then some of the data is imputed\n",
    "# there are specific columns that designate which columns are imputed\n",
    "five_min_frame.head().T"
   ]
  },
  {
   "cell_type": "code",
   "execution_count": 30,
   "metadata": {
    "collapsed": false,
    "nbpresent": {
     "id": "56c04ed3-5bd1-40dc-9ed9-40d20ba8b1eb"
    }
   },
   "outputs": [
    {
     "data": {
      "text/plain": [
       "array(['FR', 'ML', 'OR', 'HV', 'FF', 'CH', 'CD'], dtype=object)"
      ]
     },
     "execution_count": 30,
     "metadata": {},
     "output_type": "execute_result"
    }
   ],
   "source": [
    "# the lane types found in the 1st month of data\n",
    "# - CD (Coll/Dist) <-- only 1 so don't care...\n",
    "# - CH (Conventional Highway)\n",
    "# - FF (Fwy-Fwy connector)\n",
    "# - FR (Off Ramp)\n",
    "# - HV (HOV)\n",
    "# - ML (Mainline)\n",
    "# - OR (On Ramp)\n",
    "five_min_frame['Lane Type'].unique()"
   ]
  },
  {
   "cell_type": "markdown",
   "metadata": {
    "nbpresent": {
     "id": "b436ebb0-c769-4a4e-9c0b-fa4bfece26fb"
    }
   },
   "source": [
    "# Fields vs Freeway Type\n",
    "Looks like all of the fields in the 5 min data don't relate to all of the freeway types equally.\n",
    "\n",
    "Types that don't include Occupancy, Speed, Station Length\n",
    "CH\n",
    "FR\n",
    "OR\n",
    "\n",
    "Types that don't include Speed, Station Length\n",
    "FF\n",
    "\n",
    "Types that include Occupancy and Speed data (ie: have all field types)\n",
    "ML, HV\n",
    "\n",
    "Note: Lane N Observed is a 0 when no data exists for the lane, unlike other fields which are \"blank\" and therefore NaN"
   ]
  },
  {
   "cell_type": "code",
   "execution_count": 31,
   "metadata": {
    "collapsed": false,
    "nbpresent": {
     "id": "92074355-3564-400f-8399-c278e1793ce4"
    }
   },
   "outputs": [
    {
     "data": {
      "text/html": [
       "<div>\n",
       "<table border=\"1\" class=\"dataframe\">\n",
       "  <thead>\n",
       "    <tr style=\"text-align: right;\">\n",
       "      <th></th>\n",
       "      <th>539</th>\n",
       "      <th>660</th>\n",
       "      <th>1083</th>\n",
       "      <th>1226</th>\n",
       "      <th>1227</th>\n",
       "    </tr>\n",
       "  </thead>\n",
       "  <tbody>\n",
       "    <tr>\n",
       "      <th>Unnamed: 0</th>\n",
       "      <td>539</td>\n",
       "      <td>660</td>\n",
       "      <td>1083</td>\n",
       "      <td>1226</td>\n",
       "      <td>1227</td>\n",
       "    </tr>\n",
       "    <tr>\n",
       "      <th>Timestamp</th>\n",
       "      <td>01/01/2015 00:00:00</td>\n",
       "      <td>01/01/2015 00:00:00</td>\n",
       "      <td>01/01/2015 00:00:00</td>\n",
       "      <td>01/01/2015 00:00:00</td>\n",
       "      <td>01/01/2015 00:00:00</td>\n",
       "    </tr>\n",
       "    <tr>\n",
       "      <th>Station</th>\n",
       "      <td>1111515</td>\n",
       "      <td>1113641</td>\n",
       "      <td>1119449</td>\n",
       "      <td>1121657</td>\n",
       "      <td>1121663</td>\n",
       "    </tr>\n",
       "    <tr>\n",
       "      <th>District</th>\n",
       "      <td>11</td>\n",
       "      <td>11</td>\n",
       "      <td>11</td>\n",
       "      <td>11</td>\n",
       "      <td>11</td>\n",
       "    </tr>\n",
       "    <tr>\n",
       "      <th>Freeway #</th>\n",
       "      <td>8</td>\n",
       "      <td>78</td>\n",
       "      <td>78</td>\n",
       "      <td>67</td>\n",
       "      <td>67</td>\n",
       "    </tr>\n",
       "    <tr>\n",
       "      <th>Direction</th>\n",
       "      <td>W</td>\n",
       "      <td>E</td>\n",
       "      <td>W</td>\n",
       "      <td>N</td>\n",
       "      <td>S</td>\n",
       "    </tr>\n",
       "    <tr>\n",
       "      <th>Lane Type</th>\n",
       "      <td>CH</td>\n",
       "      <td>CH</td>\n",
       "      <td>CH</td>\n",
       "      <td>CH</td>\n",
       "      <td>CH</td>\n",
       "    </tr>\n",
       "    <tr>\n",
       "      <th>Station Length</th>\n",
       "      <td>NaN</td>\n",
       "      <td>NaN</td>\n",
       "      <td>NaN</td>\n",
       "      <td>NaN</td>\n",
       "      <td>NaN</td>\n",
       "    </tr>\n",
       "    <tr>\n",
       "      <th>Samples</th>\n",
       "      <td>20</td>\n",
       "      <td>20</td>\n",
       "      <td>30</td>\n",
       "      <td>10</td>\n",
       "      <td>10</td>\n",
       "    </tr>\n",
       "    <tr>\n",
       "      <th>% Observed</th>\n",
       "      <td>100</td>\n",
       "      <td>100</td>\n",
       "      <td>100</td>\n",
       "      <td>100</td>\n",
       "      <td>100</td>\n",
       "    </tr>\n",
       "    <tr>\n",
       "      <th>Total Flow</th>\n",
       "      <td>22</td>\n",
       "      <td>18</td>\n",
       "      <td>15</td>\n",
       "      <td>2</td>\n",
       "      <td>1</td>\n",
       "    </tr>\n",
       "    <tr>\n",
       "      <th>Avg Occupancy</th>\n",
       "      <td>NaN</td>\n",
       "      <td>NaN</td>\n",
       "      <td>NaN</td>\n",
       "      <td>NaN</td>\n",
       "      <td>NaN</td>\n",
       "    </tr>\n",
       "    <tr>\n",
       "      <th>Avg Speed</th>\n",
       "      <td>NaN</td>\n",
       "      <td>NaN</td>\n",
       "      <td>NaN</td>\n",
       "      <td>NaN</td>\n",
       "      <td>NaN</td>\n",
       "    </tr>\n",
       "  </tbody>\n",
       "</table>\n",
       "</div>"
      ],
      "text/plain": [
       "                               539                  660                  1083  \\\n",
       "Unnamed: 0                      539                  660                 1083   \n",
       "Timestamp       01/01/2015 00:00:00  01/01/2015 00:00:00  01/01/2015 00:00:00   \n",
       "Station                     1111515              1113641              1119449   \n",
       "District                         11                   11                   11   \n",
       "Freeway #                         8                   78                   78   \n",
       "Direction                         W                    E                    W   \n",
       "Lane Type                        CH                   CH                   CH   \n",
       "Station Length                  NaN                  NaN                  NaN   \n",
       "Samples                          20                   20                   30   \n",
       "% Observed                      100                  100                  100   \n",
       "Total Flow                       22                   18                   15   \n",
       "Avg Occupancy                   NaN                  NaN                  NaN   \n",
       "Avg Speed                       NaN                  NaN                  NaN   \n",
       "\n",
       "                               1226                 1227  \n",
       "Unnamed: 0                     1226                 1227  \n",
       "Timestamp       01/01/2015 00:00:00  01/01/2015 00:00:00  \n",
       "Station                     1121657              1121663  \n",
       "District                         11                   11  \n",
       "Freeway #                        67                   67  \n",
       "Direction                         N                    S  \n",
       "Lane Type                        CH                   CH  \n",
       "Station Length                  NaN                  NaN  \n",
       "Samples                          10                   10  \n",
       "% Observed                      100                  100  \n",
       "Total Flow                        2                    1  \n",
       "Avg Occupancy                   NaN                  NaN  \n",
       "Avg Speed                       NaN                  NaN  "
      ]
     },
     "execution_count": 31,
     "metadata": {},
     "output_type": "execute_result"
    }
   ],
   "source": [
    "five_min_frame[five_min_frame['Lane Type'] == 'CH'].head().T"
   ]
  },
  {
   "cell_type": "code",
   "execution_count": 32,
   "metadata": {
    "collapsed": false,
    "nbpresent": {
     "id": "74a1ea41-b0cf-41e9-80bb-4739a48d8ae1"
    }
   },
   "outputs": [
    {
     "data": {
      "text/html": [
       "<div>\n",
       "<table border=\"1\" class=\"dataframe\">\n",
       "  <thead>\n",
       "    <tr style=\"text-align: right;\">\n",
       "      <th></th>\n",
       "      <th>count</th>\n",
       "      <th>mean</th>\n",
       "      <th>std</th>\n",
       "      <th>min</th>\n",
       "      <th>25%</th>\n",
       "      <th>50%</th>\n",
       "      <th>75%</th>\n",
       "      <th>max</th>\n",
       "    </tr>\n",
       "  </thead>\n",
       "  <tbody>\n",
       "    <tr>\n",
       "      <th>Unnamed: 0</th>\n",
       "      <td>733523.0</td>\n",
       "      <td>2.118819e+05</td>\n",
       "      <td>122410.140281</td>\n",
       "      <td>535.0</td>\n",
       "      <td>105917.0</td>\n",
       "      <td>211531.0</td>\n",
       "      <td>317695.0</td>\n",
       "      <td>434592.0</td>\n",
       "    </tr>\n",
       "    <tr>\n",
       "      <th>Station</th>\n",
       "      <td>733523.0</td>\n",
       "      <td>1.118752e+06</td>\n",
       "      <td>4016.273767</td>\n",
       "      <td>1111515.0</td>\n",
       "      <td>1113641.0</td>\n",
       "      <td>1121657.0</td>\n",
       "      <td>1121667.0</td>\n",
       "      <td>1121671.0</td>\n",
       "    </tr>\n",
       "    <tr>\n",
       "      <th>District</th>\n",
       "      <td>733523.0</td>\n",
       "      <td>1.100000e+01</td>\n",
       "      <td>0.000000</td>\n",
       "      <td>11.0</td>\n",
       "      <td>11.0</td>\n",
       "      <td>11.0</td>\n",
       "      <td>11.0</td>\n",
       "      <td>11.0</td>\n",
       "    </tr>\n",
       "    <tr>\n",
       "      <th>Freeway #</th>\n",
       "      <td>733523.0</td>\n",
       "      <td>6.171429e+01</td>\n",
       "      <td>22.448141</td>\n",
       "      <td>8.0</td>\n",
       "      <td>67.0</td>\n",
       "      <td>67.0</td>\n",
       "      <td>78.0</td>\n",
       "      <td>78.0</td>\n",
       "    </tr>\n",
       "    <tr>\n",
       "      <th>Station Length</th>\n",
       "      <td>0.0</td>\n",
       "      <td>NaN</td>\n",
       "      <td>NaN</td>\n",
       "      <td>NaN</td>\n",
       "      <td>NaN</td>\n",
       "      <td>NaN</td>\n",
       "      <td>NaN</td>\n",
       "      <td>NaN</td>\n",
       "    </tr>\n",
       "    <tr>\n",
       "      <th>Samples</th>\n",
       "      <td>733523.0</td>\n",
       "      <td>1.114335e+01</td>\n",
       "      <td>9.973357</td>\n",
       "      <td>0.0</td>\n",
       "      <td>0.0</td>\n",
       "      <td>10.0</td>\n",
       "      <td>20.0</td>\n",
       "      <td>30.0</td>\n",
       "    </tr>\n",
       "    <tr>\n",
       "      <th>% Observed</th>\n",
       "      <td>733523.0</td>\n",
       "      <td>6.337143e+01</td>\n",
       "      <td>44.959009</td>\n",
       "      <td>0.0</td>\n",
       "      <td>0.0</td>\n",
       "      <td>100.0</td>\n",
       "      <td>100.0</td>\n",
       "      <td>100.0</td>\n",
       "    </tr>\n",
       "    <tr>\n",
       "      <th>Total Flow</th>\n",
       "      <td>508840.0</td>\n",
       "      <td>6.003604e+01</td>\n",
       "      <td>46.649730</td>\n",
       "      <td>0.0</td>\n",
       "      <td>19.0</td>\n",
       "      <td>51.0</td>\n",
       "      <td>94.0</td>\n",
       "      <td>335.0</td>\n",
       "    </tr>\n",
       "    <tr>\n",
       "      <th>Avg Occupancy</th>\n",
       "      <td>0.0</td>\n",
       "      <td>NaN</td>\n",
       "      <td>NaN</td>\n",
       "      <td>NaN</td>\n",
       "      <td>NaN</td>\n",
       "      <td>NaN</td>\n",
       "      <td>NaN</td>\n",
       "      <td>NaN</td>\n",
       "    </tr>\n",
       "    <tr>\n",
       "      <th>Avg Speed</th>\n",
       "      <td>0.0</td>\n",
       "      <td>NaN</td>\n",
       "      <td>NaN</td>\n",
       "      <td>NaN</td>\n",
       "      <td>NaN</td>\n",
       "      <td>NaN</td>\n",
       "      <td>NaN</td>\n",
       "      <td>NaN</td>\n",
       "    </tr>\n",
       "  </tbody>\n",
       "</table>\n",
       "</div>"
      ],
      "text/plain": [
       "                   count          mean            std        min        25%  \\\n",
       "Unnamed: 0      733523.0  2.118819e+05  122410.140281      535.0   105917.0   \n",
       "Station         733523.0  1.118752e+06    4016.273767  1111515.0  1113641.0   \n",
       "District        733523.0  1.100000e+01       0.000000       11.0       11.0   \n",
       "Freeway #       733523.0  6.171429e+01      22.448141        8.0       67.0   \n",
       "Station Length       0.0           NaN            NaN        NaN        NaN   \n",
       "Samples         733523.0  1.114335e+01       9.973357        0.0        0.0   \n",
       "% Observed      733523.0  6.337143e+01      44.959009        0.0        0.0   \n",
       "Total Flow      508840.0  6.003604e+01      46.649730        0.0       19.0   \n",
       "Avg Occupancy        0.0           NaN            NaN        NaN        NaN   \n",
       "Avg Speed            0.0           NaN            NaN        NaN        NaN   \n",
       "\n",
       "                      50%        75%        max  \n",
       "Unnamed: 0       211531.0   317695.0   434592.0  \n",
       "Station         1121657.0  1121667.0  1121671.0  \n",
       "District             11.0       11.0       11.0  \n",
       "Freeway #            67.0       78.0       78.0  \n",
       "Station Length        NaN        NaN        NaN  \n",
       "Samples              10.0       20.0       30.0  \n",
       "% Observed          100.0      100.0      100.0  \n",
       "Total Flow           51.0       94.0      335.0  \n",
       "Avg Occupancy         NaN        NaN        NaN  \n",
       "Avg Speed             NaN        NaN        NaN  "
      ]
     },
     "execution_count": 32,
     "metadata": {},
     "output_type": "execute_result"
    }
   ],
   "source": [
    "five_min_frame[five_min_frame['Lane Type'] == 'CH'].describe().T"
   ]
  },
  {
   "cell_type": "code",
   "execution_count": 33,
   "metadata": {
    "collapsed": false,
    "nbpresent": {
     "id": "3e0165b7-100d-4132-8d4d-750e291fbe90"
    }
   },
   "outputs": [
    {
     "data": {
      "text/html": [
       "<div>\n",
       "<table border=\"1\" class=\"dataframe\">\n",
       "  <thead>\n",
       "    <tr style=\"text-align: right;\">\n",
       "      <th></th>\n",
       "      <th>442</th>\n",
       "      <th>583</th>\n",
       "      <th>599</th>\n",
       "      <th>600</th>\n",
       "      <th>603</th>\n",
       "    </tr>\n",
       "  </thead>\n",
       "  <tbody>\n",
       "    <tr>\n",
       "      <th>Unnamed: 0</th>\n",
       "      <td>442</td>\n",
       "      <td>583</td>\n",
       "      <td>599</td>\n",
       "      <td>600</td>\n",
       "      <td>603</td>\n",
       "    </tr>\n",
       "    <tr>\n",
       "      <th>Timestamp</th>\n",
       "      <td>01/01/2015 00:00:00</td>\n",
       "      <td>01/01/2015 00:00:00</td>\n",
       "      <td>01/01/2015 00:00:00</td>\n",
       "      <td>01/01/2015 00:00:00</td>\n",
       "      <td>01/01/2015 00:00:00</td>\n",
       "    </tr>\n",
       "    <tr>\n",
       "      <th>Station</th>\n",
       "      <td>1108675</td>\n",
       "      <td>1113026</td>\n",
       "      <td>1113254</td>\n",
       "      <td>1113258</td>\n",
       "      <td>1113270</td>\n",
       "    </tr>\n",
       "    <tr>\n",
       "      <th>District</th>\n",
       "      <td>11</td>\n",
       "      <td>11</td>\n",
       "      <td>11</td>\n",
       "      <td>11</td>\n",
       "      <td>11</td>\n",
       "    </tr>\n",
       "    <tr>\n",
       "      <th>Freeway #</th>\n",
       "      <td>15</td>\n",
       "      <td>5</td>\n",
       "      <td>805</td>\n",
       "      <td>805</td>\n",
       "      <td>94</td>\n",
       "    </tr>\n",
       "    <tr>\n",
       "      <th>Direction</th>\n",
       "      <td>N</td>\n",
       "      <td>S</td>\n",
       "      <td>S</td>\n",
       "      <td>N</td>\n",
       "      <td>E</td>\n",
       "    </tr>\n",
       "    <tr>\n",
       "      <th>Lane Type</th>\n",
       "      <td>FF</td>\n",
       "      <td>FF</td>\n",
       "      <td>FF</td>\n",
       "      <td>FF</td>\n",
       "      <td>FF</td>\n",
       "    </tr>\n",
       "    <tr>\n",
       "      <th>Station Length</th>\n",
       "      <td>NaN</td>\n",
       "      <td>NaN</td>\n",
       "      <td>NaN</td>\n",
       "      <td>NaN</td>\n",
       "      <td>NaN</td>\n",
       "    </tr>\n",
       "    <tr>\n",
       "      <th>Samples</th>\n",
       "      <td>20</td>\n",
       "      <td>0</td>\n",
       "      <td>10</td>\n",
       "      <td>2</td>\n",
       "      <td>20</td>\n",
       "    </tr>\n",
       "    <tr>\n",
       "      <th>% Observed</th>\n",
       "      <td>100</td>\n",
       "      <td>0</td>\n",
       "      <td>50</td>\n",
       "      <td>50</td>\n",
       "      <td>100</td>\n",
       "    </tr>\n",
       "    <tr>\n",
       "      <th>Total Flow</th>\n",
       "      <td>4</td>\n",
       "      <td>NaN</td>\n",
       "      <td>8</td>\n",
       "      <td>10</td>\n",
       "      <td>23</td>\n",
       "    </tr>\n",
       "    <tr>\n",
       "      <th>Avg Occupancy</th>\n",
       "      <td>0.0022</td>\n",
       "      <td>NaN</td>\n",
       "      <td>0.0046</td>\n",
       "      <td>0.0031</td>\n",
       "      <td>0.0111</td>\n",
       "    </tr>\n",
       "    <tr>\n",
       "      <th>Avg Speed</th>\n",
       "      <td>NaN</td>\n",
       "      <td>NaN</td>\n",
       "      <td>NaN</td>\n",
       "      <td>NaN</td>\n",
       "      <td>NaN</td>\n",
       "    </tr>\n",
       "  </tbody>\n",
       "</table>\n",
       "</div>"
      ],
      "text/plain": [
       "                                442                  583                  599  \\\n",
       "Unnamed: 0                      442                  583                  599   \n",
       "Timestamp       01/01/2015 00:00:00  01/01/2015 00:00:00  01/01/2015 00:00:00   \n",
       "Station                     1108675              1113026              1113254   \n",
       "District                         11                   11                   11   \n",
       "Freeway #                        15                    5                  805   \n",
       "Direction                         N                    S                    S   \n",
       "Lane Type                        FF                   FF                   FF   \n",
       "Station Length                  NaN                  NaN                  NaN   \n",
       "Samples                          20                    0                   10   \n",
       "% Observed                      100                    0                   50   \n",
       "Total Flow                        4                  NaN                    8   \n",
       "Avg Occupancy                0.0022                  NaN               0.0046   \n",
       "Avg Speed                       NaN                  NaN                  NaN   \n",
       "\n",
       "                                600                  603  \n",
       "Unnamed: 0                      600                  603  \n",
       "Timestamp       01/01/2015 00:00:00  01/01/2015 00:00:00  \n",
       "Station                     1113258              1113270  \n",
       "District                         11                   11  \n",
       "Freeway #                       805                   94  \n",
       "Direction                         N                    E  \n",
       "Lane Type                        FF                   FF  \n",
       "Station Length                  NaN                  NaN  \n",
       "Samples                           2                   20  \n",
       "% Observed                       50                  100  \n",
       "Total Flow                       10                   23  \n",
       "Avg Occupancy                0.0031               0.0111  \n",
       "Avg Speed                       NaN                  NaN  "
      ]
     },
     "execution_count": 33,
     "metadata": {},
     "output_type": "execute_result"
    }
   ],
   "source": [
    "five_min_frame[five_min_frame['Lane Type'] == 'FF'].head().T"
   ]
  },
  {
   "cell_type": "code",
   "execution_count": 34,
   "metadata": {
    "collapsed": false,
    "nbpresent": {
     "id": "51bc9e02-780c-4628-ace2-a42e2bbc5ab2"
    }
   },
   "outputs": [
    {
     "data": {
      "text/html": [
       "<div>\n",
       "<table border=\"1\" class=\"dataframe\">\n",
       "  <thead>\n",
       "    <tr style=\"text-align: right;\">\n",
       "      <th></th>\n",
       "      <th>count</th>\n",
       "      <th>mean</th>\n",
       "      <th>std</th>\n",
       "      <th>min</th>\n",
       "      <th>25%</th>\n",
       "      <th>50%</th>\n",
       "      <th>75%</th>\n",
       "      <th>max</th>\n",
       "    </tr>\n",
       "  </thead>\n",
       "  <tbody>\n",
       "    <tr>\n",
       "      <th>Unnamed: 0</th>\n",
       "      <td>5380607.0</td>\n",
       "      <td>2.120370e+05</td>\n",
       "      <td>122475.602446</td>\n",
       "      <td>440.0</td>\n",
       "      <td>1.060000e+05</td>\n",
       "      <td>2.117620e+05</td>\n",
       "      <td>3.178440e+05</td>\n",
       "      <td>4.348790e+05</td>\n",
       "    </tr>\n",
       "    <tr>\n",
       "      <th>Station</th>\n",
       "      <td>5380607.0</td>\n",
       "      <td>1.119119e+06</td>\n",
       "      <td>4295.108696</td>\n",
       "      <td>1108675.0</td>\n",
       "      <td>1.115666e+06</td>\n",
       "      <td>1.120112e+06</td>\n",
       "      <td>1.122443e+06</td>\n",
       "      <td>1.126037e+06</td>\n",
       "    </tr>\n",
       "    <tr>\n",
       "      <th>District</th>\n",
       "      <td>5380607.0</td>\n",
       "      <td>1.100000e+01</td>\n",
       "      <td>0.000000</td>\n",
       "      <td>11.0</td>\n",
       "      <td>1.100000e+01</td>\n",
       "      <td>1.100000e+01</td>\n",
       "      <td>1.100000e+01</td>\n",
       "      <td>1.100000e+01</td>\n",
       "    </tr>\n",
       "    <tr>\n",
       "      <th>Freeway #</th>\n",
       "      <td>5380607.0</td>\n",
       "      <td>1.946469e+02</td>\n",
       "      <td>308.793671</td>\n",
       "      <td>5.0</td>\n",
       "      <td>5.000000e+00</td>\n",
       "      <td>1.500000e+01</td>\n",
       "      <td>1.630000e+02</td>\n",
       "      <td>8.050000e+02</td>\n",
       "    </tr>\n",
       "    <tr>\n",
       "      <th>Station Length</th>\n",
       "      <td>0.0</td>\n",
       "      <td>NaN</td>\n",
       "      <td>NaN</td>\n",
       "      <td>NaN</td>\n",
       "      <td>NaN</td>\n",
       "      <td>NaN</td>\n",
       "      <td>NaN</td>\n",
       "      <td>NaN</td>\n",
       "    </tr>\n",
       "    <tr>\n",
       "      <th>Samples</th>\n",
       "      <td>5380607.0</td>\n",
       "      <td>1.305301e+01</td>\n",
       "      <td>7.744924</td>\n",
       "      <td>0.0</td>\n",
       "      <td>1.000000e+01</td>\n",
       "      <td>1.800000e+01</td>\n",
       "      <td>2.000000e+01</td>\n",
       "      <td>3.600000e+01</td>\n",
       "    </tr>\n",
       "    <tr>\n",
       "      <th>% Observed</th>\n",
       "      <td>5380607.0</td>\n",
       "      <td>7.258291e+01</td>\n",
       "      <td>42.899941</td>\n",
       "      <td>0.0</td>\n",
       "      <td>5.000000e+01</td>\n",
       "      <td>1.000000e+02</td>\n",
       "      <td>1.000000e+02</td>\n",
       "      <td>1.000000e+02</td>\n",
       "    </tr>\n",
       "    <tr>\n",
       "      <th>Total Flow</th>\n",
       "      <td>4066397.0</td>\n",
       "      <td>6.741570e+01</td>\n",
       "      <td>58.879311</td>\n",
       "      <td>0.0</td>\n",
       "      <td>2.000000e+01</td>\n",
       "      <td>5.300000e+01</td>\n",
       "      <td>9.800000e+01</td>\n",
       "      <td>5.150000e+02</td>\n",
       "    </tr>\n",
       "    <tr>\n",
       "      <th>Avg Occupancy</th>\n",
       "      <td>4066397.0</td>\n",
       "      <td>4.517853e-02</td>\n",
       "      <td>0.058104</td>\n",
       "      <td>0.0</td>\n",
       "      <td>1.150000e-02</td>\n",
       "      <td>3.130000e-02</td>\n",
       "      <td>6.030000e-02</td>\n",
       "      <td>9.529000e-01</td>\n",
       "    </tr>\n",
       "    <tr>\n",
       "      <th>Avg Speed</th>\n",
       "      <td>0.0</td>\n",
       "      <td>NaN</td>\n",
       "      <td>NaN</td>\n",
       "      <td>NaN</td>\n",
       "      <td>NaN</td>\n",
       "      <td>NaN</td>\n",
       "      <td>NaN</td>\n",
       "      <td>NaN</td>\n",
       "    </tr>\n",
       "  </tbody>\n",
       "</table>\n",
       "</div>"
      ],
      "text/plain": [
       "                    count          mean            std        min  \\\n",
       "Unnamed: 0      5380607.0  2.120370e+05  122475.602446      440.0   \n",
       "Station         5380607.0  1.119119e+06    4295.108696  1108675.0   \n",
       "District        5380607.0  1.100000e+01       0.000000       11.0   \n",
       "Freeway #       5380607.0  1.946469e+02     308.793671        5.0   \n",
       "Station Length        0.0           NaN            NaN        NaN   \n",
       "Samples         5380607.0  1.305301e+01       7.744924        0.0   \n",
       "% Observed      5380607.0  7.258291e+01      42.899941        0.0   \n",
       "Total Flow      4066397.0  6.741570e+01      58.879311        0.0   \n",
       "Avg Occupancy   4066397.0  4.517853e-02       0.058104        0.0   \n",
       "Avg Speed             0.0           NaN            NaN        NaN   \n",
       "\n",
       "                         25%           50%           75%           max  \n",
       "Unnamed: 0      1.060000e+05  2.117620e+05  3.178440e+05  4.348790e+05  \n",
       "Station         1.115666e+06  1.120112e+06  1.122443e+06  1.126037e+06  \n",
       "District        1.100000e+01  1.100000e+01  1.100000e+01  1.100000e+01  \n",
       "Freeway #       5.000000e+00  1.500000e+01  1.630000e+02  8.050000e+02  \n",
       "Station Length           NaN           NaN           NaN           NaN  \n",
       "Samples         1.000000e+01  1.800000e+01  2.000000e+01  3.600000e+01  \n",
       "% Observed      5.000000e+01  1.000000e+02  1.000000e+02  1.000000e+02  \n",
       "Total Flow      2.000000e+01  5.300000e+01  9.800000e+01  5.150000e+02  \n",
       "Avg Occupancy   1.150000e-02  3.130000e-02  6.030000e-02  9.529000e-01  \n",
       "Avg Speed                NaN           NaN           NaN           NaN  "
      ]
     },
     "execution_count": 34,
     "metadata": {},
     "output_type": "execute_result"
    }
   ],
   "source": [
    "five_min_frame[five_min_frame['Lane Type'] == 'FF'].describe().T"
   ]
  },
  {
   "cell_type": "code",
   "execution_count": 35,
   "metadata": {
    "collapsed": false,
    "nbpresent": {
     "id": "ba438730-208f-4989-a82a-192d61e1dbe8"
    }
   },
   "outputs": [
    {
     "data": {
      "text/html": [
       "<div>\n",
       "<table border=\"1\" class=\"dataframe\">\n",
       "  <thead>\n",
       "    <tr style=\"text-align: right;\">\n",
       "      <th></th>\n",
       "      <th>0</th>\n",
       "      <th>1</th>\n",
       "      <th>2</th>\n",
       "      <th>3</th>\n",
       "      <th>4</th>\n",
       "    </tr>\n",
       "  </thead>\n",
       "  <tbody>\n",
       "    <tr>\n",
       "      <th>Unnamed: 0</th>\n",
       "      <td>0</td>\n",
       "      <td>1</td>\n",
       "      <td>2</td>\n",
       "      <td>3</td>\n",
       "      <td>4</td>\n",
       "    </tr>\n",
       "    <tr>\n",
       "      <th>Timestamp</th>\n",
       "      <td>01/01/2015 00:00:00</td>\n",
       "      <td>01/01/2015 00:00:00</td>\n",
       "      <td>01/01/2015 00:00:00</td>\n",
       "      <td>01/01/2015 00:00:00</td>\n",
       "      <td>01/01/2015 00:00:00</td>\n",
       "    </tr>\n",
       "    <tr>\n",
       "      <th>Station</th>\n",
       "      <td>1100313</td>\n",
       "      <td>1100323</td>\n",
       "      <td>1100326</td>\n",
       "      <td>1100330</td>\n",
       "      <td>1100333</td>\n",
       "    </tr>\n",
       "    <tr>\n",
       "      <th>District</th>\n",
       "      <td>11</td>\n",
       "      <td>11</td>\n",
       "      <td>11</td>\n",
       "      <td>11</td>\n",
       "      <td>11</td>\n",
       "    </tr>\n",
       "    <tr>\n",
       "      <th>Freeway #</th>\n",
       "      <td>5</td>\n",
       "      <td>5</td>\n",
       "      <td>5</td>\n",
       "      <td>5</td>\n",
       "      <td>5</td>\n",
       "    </tr>\n",
       "    <tr>\n",
       "      <th>Direction</th>\n",
       "      <td>N</td>\n",
       "      <td>N</td>\n",
       "      <td>N</td>\n",
       "      <td>N</td>\n",
       "      <td>N</td>\n",
       "    </tr>\n",
       "    <tr>\n",
       "      <th>Lane Type</th>\n",
       "      <td>FR</td>\n",
       "      <td>FR</td>\n",
       "      <td>FR</td>\n",
       "      <td>FR</td>\n",
       "      <td>FR</td>\n",
       "    </tr>\n",
       "    <tr>\n",
       "      <th>Station Length</th>\n",
       "      <td>NaN</td>\n",
       "      <td>NaN</td>\n",
       "      <td>NaN</td>\n",
       "      <td>NaN</td>\n",
       "      <td>NaN</td>\n",
       "    </tr>\n",
       "    <tr>\n",
       "      <th>Samples</th>\n",
       "      <td>10</td>\n",
       "      <td>20</td>\n",
       "      <td>20</td>\n",
       "      <td>20</td>\n",
       "      <td>10</td>\n",
       "    </tr>\n",
       "    <tr>\n",
       "      <th>% Observed</th>\n",
       "      <td>100</td>\n",
       "      <td>0</td>\n",
       "      <td>100</td>\n",
       "      <td>100</td>\n",
       "      <td>100</td>\n",
       "    </tr>\n",
       "    <tr>\n",
       "      <th>Total Flow</th>\n",
       "      <td>16</td>\n",
       "      <td>NaN</td>\n",
       "      <td>11</td>\n",
       "      <td>7</td>\n",
       "      <td>3</td>\n",
       "    </tr>\n",
       "    <tr>\n",
       "      <th>Avg Occupancy</th>\n",
       "      <td>NaN</td>\n",
       "      <td>NaN</td>\n",
       "      <td>NaN</td>\n",
       "      <td>NaN</td>\n",
       "      <td>NaN</td>\n",
       "    </tr>\n",
       "    <tr>\n",
       "      <th>Avg Speed</th>\n",
       "      <td>NaN</td>\n",
       "      <td>NaN</td>\n",
       "      <td>NaN</td>\n",
       "      <td>NaN</td>\n",
       "      <td>NaN</td>\n",
       "    </tr>\n",
       "  </tbody>\n",
       "</table>\n",
       "</div>"
      ],
      "text/plain": [
       "                                  0                    1                    2  \\\n",
       "Unnamed: 0                        0                    1                    2   \n",
       "Timestamp       01/01/2015 00:00:00  01/01/2015 00:00:00  01/01/2015 00:00:00   \n",
       "Station                     1100313              1100323              1100326   \n",
       "District                         11                   11                   11   \n",
       "Freeway #                         5                    5                    5   \n",
       "Direction                         N                    N                    N   \n",
       "Lane Type                        FR                   FR                   FR   \n",
       "Station Length                  NaN                  NaN                  NaN   \n",
       "Samples                          10                   20                   20   \n",
       "% Observed                      100                    0                  100   \n",
       "Total Flow                       16                  NaN                   11   \n",
       "Avg Occupancy                   NaN                  NaN                  NaN   \n",
       "Avg Speed                       NaN                  NaN                  NaN   \n",
       "\n",
       "                                  3                    4  \n",
       "Unnamed: 0                        3                    4  \n",
       "Timestamp       01/01/2015 00:00:00  01/01/2015 00:00:00  \n",
       "Station                     1100330              1100333  \n",
       "District                         11                   11  \n",
       "Freeway #                         5                    5  \n",
       "Direction                         N                    N  \n",
       "Lane Type                        FR                   FR  \n",
       "Station Length                  NaN                  NaN  \n",
       "Samples                          20                   10  \n",
       "% Observed                      100                  100  \n",
       "Total Flow                        7                    3  \n",
       "Avg Occupancy                   NaN                  NaN  \n",
       "Avg Speed                       NaN                  NaN  "
      ]
     },
     "execution_count": 35,
     "metadata": {},
     "output_type": "execute_result"
    }
   ],
   "source": [
    "five_min_frame[five_min_frame['Lane Type'] == 'FR'].head().T"
   ]
  },
  {
   "cell_type": "code",
   "execution_count": 36,
   "metadata": {
    "collapsed": false,
    "nbpresent": {
     "id": "1d6f3dc0-f165-4f2f-8803-701433585afb"
    }
   },
   "outputs": [
    {
     "data": {
      "text/html": [
       "<div>\n",
       "<table border=\"1\" class=\"dataframe\">\n",
       "  <thead>\n",
       "    <tr style=\"text-align: right;\">\n",
       "      <th></th>\n",
       "      <th>count</th>\n",
       "      <th>mean</th>\n",
       "      <th>std</th>\n",
       "      <th>min</th>\n",
       "      <th>25%</th>\n",
       "      <th>50%</th>\n",
       "      <th>75%</th>\n",
       "      <th>max</th>\n",
       "    </tr>\n",
       "  </thead>\n",
       "  <tbody>\n",
       "    <tr>\n",
       "      <th>Unnamed: 0</th>\n",
       "      <td>24207717.0</td>\n",
       "      <td>2.114537e+05</td>\n",
       "      <td>122413.789359</td>\n",
       "      <td>0.0</td>\n",
       "      <td>105455.0</td>\n",
       "      <td>211090.0</td>\n",
       "      <td>317173.0</td>\n",
       "      <td>434869.0</td>\n",
       "    </tr>\n",
       "    <tr>\n",
       "      <th>Station</th>\n",
       "      <td>24207717.0</td>\n",
       "      <td>1.110821e+06</td>\n",
       "      <td>8573.920404</td>\n",
       "      <td>1100313.0</td>\n",
       "      <td>1100711.0</td>\n",
       "      <td>1113586.0</td>\n",
       "      <td>1114022.0</td>\n",
       "      <td>1125987.0</td>\n",
       "    </tr>\n",
       "    <tr>\n",
       "      <th>District</th>\n",
       "      <td>24207717.0</td>\n",
       "      <td>1.100000e+01</td>\n",
       "      <td>0.000000</td>\n",
       "      <td>11.0</td>\n",
       "      <td>11.0</td>\n",
       "      <td>11.0</td>\n",
       "      <td>11.0</td>\n",
       "      <td>11.0</td>\n",
       "    </tr>\n",
       "    <tr>\n",
       "      <th>Freeway #</th>\n",
       "      <td>24207717.0</td>\n",
       "      <td>1.711138e+02</td>\n",
       "      <td>293.932859</td>\n",
       "      <td>5.0</td>\n",
       "      <td>8.0</td>\n",
       "      <td>15.0</td>\n",
       "      <td>94.0</td>\n",
       "      <td>905.0</td>\n",
       "    </tr>\n",
       "    <tr>\n",
       "      <th>Station Length</th>\n",
       "      <td>0.0</td>\n",
       "      <td>NaN</td>\n",
       "      <td>NaN</td>\n",
       "      <td>NaN</td>\n",
       "      <td>NaN</td>\n",
       "      <td>NaN</td>\n",
       "      <td>NaN</td>\n",
       "      <td>NaN</td>\n",
       "    </tr>\n",
       "    <tr>\n",
       "      <th>Samples</th>\n",
       "      <td>24207717.0</td>\n",
       "      <td>1.594517e+01</td>\n",
       "      <td>6.127733</td>\n",
       "      <td>0.0</td>\n",
       "      <td>10.0</td>\n",
       "      <td>20.0</td>\n",
       "      <td>20.0</td>\n",
       "      <td>40.0</td>\n",
       "    </tr>\n",
       "    <tr>\n",
       "      <th>% Observed</th>\n",
       "      <td>24207717.0</td>\n",
       "      <td>8.087588e+01</td>\n",
       "      <td>37.394084</td>\n",
       "      <td>0.0</td>\n",
       "      <td>100.0</td>\n",
       "      <td>100.0</td>\n",
       "      <td>100.0</td>\n",
       "      <td>100.0</td>\n",
       "    </tr>\n",
       "    <tr>\n",
       "      <th>Total Flow</th>\n",
       "      <td>20296508.0</td>\n",
       "      <td>2.837650e+01</td>\n",
       "      <td>29.185491</td>\n",
       "      <td>0.0</td>\n",
       "      <td>6.0</td>\n",
       "      <td>20.0</td>\n",
       "      <td>42.0</td>\n",
       "      <td>438.0</td>\n",
       "    </tr>\n",
       "    <tr>\n",
       "      <th>Avg Occupancy</th>\n",
       "      <td>0.0</td>\n",
       "      <td>NaN</td>\n",
       "      <td>NaN</td>\n",
       "      <td>NaN</td>\n",
       "      <td>NaN</td>\n",
       "      <td>NaN</td>\n",
       "      <td>NaN</td>\n",
       "      <td>NaN</td>\n",
       "    </tr>\n",
       "    <tr>\n",
       "      <th>Avg Speed</th>\n",
       "      <td>0.0</td>\n",
       "      <td>NaN</td>\n",
       "      <td>NaN</td>\n",
       "      <td>NaN</td>\n",
       "      <td>NaN</td>\n",
       "      <td>NaN</td>\n",
       "      <td>NaN</td>\n",
       "      <td>NaN</td>\n",
       "    </tr>\n",
       "  </tbody>\n",
       "</table>\n",
       "</div>"
      ],
      "text/plain": [
       "                     count          mean            std        min        25%  \\\n",
       "Unnamed: 0      24207717.0  2.114537e+05  122413.789359        0.0   105455.0   \n",
       "Station         24207717.0  1.110821e+06    8573.920404  1100313.0  1100711.0   \n",
       "District        24207717.0  1.100000e+01       0.000000       11.0       11.0   \n",
       "Freeway #       24207717.0  1.711138e+02     293.932859        5.0        8.0   \n",
       "Station Length         0.0           NaN            NaN        NaN        NaN   \n",
       "Samples         24207717.0  1.594517e+01       6.127733        0.0       10.0   \n",
       "% Observed      24207717.0  8.087588e+01      37.394084        0.0      100.0   \n",
       "Total Flow      20296508.0  2.837650e+01      29.185491        0.0        6.0   \n",
       "Avg Occupancy          0.0           NaN            NaN        NaN        NaN   \n",
       "Avg Speed              0.0           NaN            NaN        NaN        NaN   \n",
       "\n",
       "                      50%        75%        max  \n",
       "Unnamed: 0       211090.0   317173.0   434869.0  \n",
       "Station         1113586.0  1114022.0  1125987.0  \n",
       "District             11.0       11.0       11.0  \n",
       "Freeway #            15.0       94.0      905.0  \n",
       "Station Length        NaN        NaN        NaN  \n",
       "Samples              20.0       20.0       40.0  \n",
       "% Observed          100.0      100.0      100.0  \n",
       "Total Flow           20.0       42.0      438.0  \n",
       "Avg Occupancy         NaN        NaN        NaN  \n",
       "Avg Speed             NaN        NaN        NaN  "
      ]
     },
     "execution_count": 36,
     "metadata": {},
     "output_type": "execute_result"
    }
   ],
   "source": [
    "five_min_frame[five_min_frame['Lane Type'] == 'FR'].describe().T"
   ]
  },
  {
   "cell_type": "code",
   "execution_count": 37,
   "metadata": {
    "collapsed": false,
    "nbpresent": {
     "id": "aea21e38-6397-447b-8240-e0233531445b"
    }
   },
   "outputs": [
    {
     "data": {
      "text/html": [
       "<div>\n",
       "<table border=\"1\" class=\"dataframe\">\n",
       "  <thead>\n",
       "    <tr style=\"text-align: right;\">\n",
       "      <th></th>\n",
       "      <th>218</th>\n",
       "      <th>880</th>\n",
       "      <th>1074</th>\n",
       "      <th>1086</th>\n",
       "      <th>1143</th>\n",
       "    </tr>\n",
       "  </thead>\n",
       "  <tbody>\n",
       "    <tr>\n",
       "      <th>Unnamed: 0</th>\n",
       "      <td>218</td>\n",
       "      <td>880</td>\n",
       "      <td>1074</td>\n",
       "      <td>1086</td>\n",
       "      <td>1143</td>\n",
       "    </tr>\n",
       "    <tr>\n",
       "      <th>Timestamp</th>\n",
       "      <td>01/01/2015 00:00:00</td>\n",
       "      <td>01/01/2015 00:00:00</td>\n",
       "      <td>01/01/2015 00:00:00</td>\n",
       "      <td>01/01/2015 00:00:00</td>\n",
       "      <td>01/01/2015 00:00:00</td>\n",
       "    </tr>\n",
       "    <tr>\n",
       "      <th>Station</th>\n",
       "      <td>1108436</td>\n",
       "      <td>1115829</td>\n",
       "      <td>1119284</td>\n",
       "      <td>1119532</td>\n",
       "      <td>1120107</td>\n",
       "    </tr>\n",
       "    <tr>\n",
       "      <th>District</th>\n",
       "      <td>11</td>\n",
       "      <td>11</td>\n",
       "      <td>11</td>\n",
       "      <td>11</td>\n",
       "      <td>11</td>\n",
       "    </tr>\n",
       "    <tr>\n",
       "      <th>Freeway #</th>\n",
       "      <td>5</td>\n",
       "      <td>15</td>\n",
       "      <td>5</td>\n",
       "      <td>5</td>\n",
       "      <td>5</td>\n",
       "    </tr>\n",
       "    <tr>\n",
       "      <th>Direction</th>\n",
       "      <td>N</td>\n",
       "      <td>N</td>\n",
       "      <td>S</td>\n",
       "      <td>S</td>\n",
       "      <td>N</td>\n",
       "    </tr>\n",
       "    <tr>\n",
       "      <th>Lane Type</th>\n",
       "      <td>HV</td>\n",
       "      <td>HV</td>\n",
       "      <td>HV</td>\n",
       "      <td>HV</td>\n",
       "      <td>HV</td>\n",
       "    </tr>\n",
       "    <tr>\n",
       "      <th>Station Length</th>\n",
       "      <td>0.609</td>\n",
       "      <td>1.347</td>\n",
       "      <td>0.784</td>\n",
       "      <td>0.901</td>\n",
       "      <td>1.048</td>\n",
       "    </tr>\n",
       "    <tr>\n",
       "      <th>Samples</th>\n",
       "      <td>10</td>\n",
       "      <td>20</td>\n",
       "      <td>10</td>\n",
       "      <td>10</td>\n",
       "      <td>0</td>\n",
       "    </tr>\n",
       "    <tr>\n",
       "      <th>% Observed</th>\n",
       "      <td>100</td>\n",
       "      <td>100</td>\n",
       "      <td>100</td>\n",
       "      <td>100</td>\n",
       "      <td>0</td>\n",
       "    </tr>\n",
       "    <tr>\n",
       "      <th>Total Flow</th>\n",
       "      <td>0</td>\n",
       "      <td>7</td>\n",
       "      <td>0</td>\n",
       "      <td>0</td>\n",
       "      <td>19</td>\n",
       "    </tr>\n",
       "    <tr>\n",
       "      <th>Avg Occupancy</th>\n",
       "      <td>0</td>\n",
       "      <td>0.0021</td>\n",
       "      <td>0</td>\n",
       "      <td>0</td>\n",
       "      <td>0.0145</td>\n",
       "    </tr>\n",
       "    <tr>\n",
       "      <th>Avg Speed</th>\n",
       "      <td>65</td>\n",
       "      <td>65</td>\n",
       "      <td>65</td>\n",
       "      <td>65</td>\n",
       "      <td>68.1</td>\n",
       "    </tr>\n",
       "  </tbody>\n",
       "</table>\n",
       "</div>"
      ],
      "text/plain": [
       "                               218                  880                  1074  \\\n",
       "Unnamed: 0                      218                  880                 1074   \n",
       "Timestamp       01/01/2015 00:00:00  01/01/2015 00:00:00  01/01/2015 00:00:00   \n",
       "Station                     1108436              1115829              1119284   \n",
       "District                         11                   11                   11   \n",
       "Freeway #                         5                   15                    5   \n",
       "Direction                         N                    N                    S   \n",
       "Lane Type                        HV                   HV                   HV   \n",
       "Station Length                0.609                1.347                0.784   \n",
       "Samples                          10                   20                   10   \n",
       "% Observed                      100                  100                  100   \n",
       "Total Flow                        0                    7                    0   \n",
       "Avg Occupancy                     0               0.0021                    0   \n",
       "Avg Speed                        65                   65                   65   \n",
       "\n",
       "                               1086                 1143  \n",
       "Unnamed: 0                     1086                 1143  \n",
       "Timestamp       01/01/2015 00:00:00  01/01/2015 00:00:00  \n",
       "Station                     1119532              1120107  \n",
       "District                         11                   11  \n",
       "Freeway #                         5                    5  \n",
       "Direction                         S                    N  \n",
       "Lane Type                        HV                   HV  \n",
       "Station Length                0.901                1.048  \n",
       "Samples                          10                    0  \n",
       "% Observed                      100                    0  \n",
       "Total Flow                        0                   19  \n",
       "Avg Occupancy                     0               0.0145  \n",
       "Avg Speed                        65                 68.1  "
      ]
     },
     "execution_count": 37,
     "metadata": {},
     "output_type": "execute_result"
    }
   ],
   "source": [
    "five_min_frame[five_min_frame['Lane Type'] == 'HV'].head().T"
   ]
  },
  {
   "cell_type": "code",
   "execution_count": 38,
   "metadata": {
    "collapsed": false,
    "nbpresent": {
     "id": "94692f8a-6243-49af-9d77-9fd2d9c96580"
    }
   },
   "outputs": [
    {
     "data": {
      "text/html": [
       "<div>\n",
       "<table border=\"1\" class=\"dataframe\">\n",
       "  <thead>\n",
       "    <tr style=\"text-align: right;\">\n",
       "      <th></th>\n",
       "      <th>count</th>\n",
       "      <th>mean</th>\n",
       "      <th>std</th>\n",
       "      <th>min</th>\n",
       "      <th>25%</th>\n",
       "      <th>50%</th>\n",
       "      <th>75%</th>\n",
       "      <th>max</th>\n",
       "    </tr>\n",
       "  </thead>\n",
       "  <tbody>\n",
       "    <tr>\n",
       "      <th>Unnamed: 0</th>\n",
       "      <td>9152755.0</td>\n",
       "      <td>2.122411e+05</td>\n",
       "      <td>122439.109666</td>\n",
       "      <td>218.000</td>\n",
       "      <td>1.062100e+05</td>\n",
       "      <td>2.120230e+05</td>\n",
       "      <td>3.180350e+05</td>\n",
       "      <td>4.348720e+05</td>\n",
       "    </tr>\n",
       "    <tr>\n",
       "      <th>Station</th>\n",
       "      <td>9152755.0</td>\n",
       "      <td>1.123488e+06</td>\n",
       "      <td>2852.382667</td>\n",
       "      <td>1108436.000</td>\n",
       "      <td>1.121154e+06</td>\n",
       "      <td>1.125280e+06</td>\n",
       "      <td>1.125896e+06</td>\n",
       "      <td>1.126167e+06</td>\n",
       "    </tr>\n",
       "    <tr>\n",
       "      <th>District</th>\n",
       "      <td>9152755.0</td>\n",
       "      <td>1.100000e+01</td>\n",
       "      <td>0.000000</td>\n",
       "      <td>11.000</td>\n",
       "      <td>1.100000e+01</td>\n",
       "      <td>1.100000e+01</td>\n",
       "      <td>1.100000e+01</td>\n",
       "      <td>1.100000e+01</td>\n",
       "    </tr>\n",
       "    <tr>\n",
       "      <th>Freeway #</th>\n",
       "      <td>9152755.0</td>\n",
       "      <td>2.819150e+02</td>\n",
       "      <td>374.883130</td>\n",
       "      <td>5.000</td>\n",
       "      <td>1.500000e+01</td>\n",
       "      <td>1.500000e+01</td>\n",
       "      <td>8.050000e+02</td>\n",
       "      <td>8.050000e+02</td>\n",
       "    </tr>\n",
       "    <tr>\n",
       "      <th>Station Length</th>\n",
       "      <td>9152755.0</td>\n",
       "      <td>1.170843e+00</td>\n",
       "      <td>0.845063</td>\n",
       "      <td>0.139</td>\n",
       "      <td>5.910000e-01</td>\n",
       "      <td>8.830000e-01</td>\n",
       "      <td>1.401000e+00</td>\n",
       "      <td>4.489000e+00</td>\n",
       "    </tr>\n",
       "    <tr>\n",
       "      <th>Samples</th>\n",
       "      <td>9152755.0</td>\n",
       "      <td>1.298486e+01</td>\n",
       "      <td>6.626250</td>\n",
       "      <td>0.000</td>\n",
       "      <td>1.000000e+01</td>\n",
       "      <td>1.000000e+01</td>\n",
       "      <td>2.000000e+01</td>\n",
       "      <td>3.400000e+01</td>\n",
       "    </tr>\n",
       "    <tr>\n",
       "      <th>% Observed</th>\n",
       "      <td>9152755.0</td>\n",
       "      <td>8.285336e+01</td>\n",
       "      <td>36.590894</td>\n",
       "      <td>0.000</td>\n",
       "      <td>1.000000e+02</td>\n",
       "      <td>1.000000e+02</td>\n",
       "      <td>1.000000e+02</td>\n",
       "      <td>1.000000e+02</td>\n",
       "    </tr>\n",
       "    <tr>\n",
       "      <th>Total Flow</th>\n",
       "      <td>9152755.0</td>\n",
       "      <td>5.709586e+01</td>\n",
       "      <td>57.037688</td>\n",
       "      <td>0.000</td>\n",
       "      <td>1.200000e+01</td>\n",
       "      <td>4.200000e+01</td>\n",
       "      <td>8.400000e+01</td>\n",
       "      <td>5.470000e+02</td>\n",
       "    </tr>\n",
       "    <tr>\n",
       "      <th>Avg Occupancy</th>\n",
       "      <td>9152755.0</td>\n",
       "      <td>3.885942e-02</td>\n",
       "      <td>0.049818</td>\n",
       "      <td>0.000</td>\n",
       "      <td>7.500000e-03</td>\n",
       "      <td>2.440000e-02</td>\n",
       "      <td>5.290000e-02</td>\n",
       "      <td>8.565000e-01</td>\n",
       "    </tr>\n",
       "    <tr>\n",
       "      <th>Avg Speed</th>\n",
       "      <td>9152755.0</td>\n",
       "      <td>6.281486e+01</td>\n",
       "      <td>6.703506</td>\n",
       "      <td>3.000</td>\n",
       "      <td>6.320000e+01</td>\n",
       "      <td>6.480000e+01</td>\n",
       "      <td>6.500000e+01</td>\n",
       "      <td>7.500000e+01</td>\n",
       "    </tr>\n",
       "  </tbody>\n",
       "</table>\n",
       "</div>"
      ],
      "text/plain": [
       "                    count          mean            std          min  \\\n",
       "Unnamed: 0      9152755.0  2.122411e+05  122439.109666      218.000   \n",
       "Station         9152755.0  1.123488e+06    2852.382667  1108436.000   \n",
       "District        9152755.0  1.100000e+01       0.000000       11.000   \n",
       "Freeway #       9152755.0  2.819150e+02     374.883130        5.000   \n",
       "Station Length  9152755.0  1.170843e+00       0.845063        0.139   \n",
       "Samples         9152755.0  1.298486e+01       6.626250        0.000   \n",
       "% Observed      9152755.0  8.285336e+01      36.590894        0.000   \n",
       "Total Flow      9152755.0  5.709586e+01      57.037688        0.000   \n",
       "Avg Occupancy   9152755.0  3.885942e-02       0.049818        0.000   \n",
       "Avg Speed       9152755.0  6.281486e+01       6.703506        3.000   \n",
       "\n",
       "                         25%           50%           75%           max  \n",
       "Unnamed: 0      1.062100e+05  2.120230e+05  3.180350e+05  4.348720e+05  \n",
       "Station         1.121154e+06  1.125280e+06  1.125896e+06  1.126167e+06  \n",
       "District        1.100000e+01  1.100000e+01  1.100000e+01  1.100000e+01  \n",
       "Freeway #       1.500000e+01  1.500000e+01  8.050000e+02  8.050000e+02  \n",
       "Station Length  5.910000e-01  8.830000e-01  1.401000e+00  4.489000e+00  \n",
       "Samples         1.000000e+01  1.000000e+01  2.000000e+01  3.400000e+01  \n",
       "% Observed      1.000000e+02  1.000000e+02  1.000000e+02  1.000000e+02  \n",
       "Total Flow      1.200000e+01  4.200000e+01  8.400000e+01  5.470000e+02  \n",
       "Avg Occupancy   7.500000e-03  2.440000e-02  5.290000e-02  8.565000e-01  \n",
       "Avg Speed       6.320000e+01  6.480000e+01  6.500000e+01  7.500000e+01  "
      ]
     },
     "execution_count": 38,
     "metadata": {},
     "output_type": "execute_result"
    }
   ],
   "source": [
    "five_min_frame[five_min_frame['Lane Type'] == 'HV'].describe().T"
   ]
  },
  {
   "cell_type": "code",
   "execution_count": 39,
   "metadata": {
    "collapsed": false,
    "nbpresent": {
     "id": "649c9f04-b299-4ab6-8073-ff778d0c6c45"
    }
   },
   "outputs": [
    {
     "data": {
      "text/html": [
       "<div>\n",
       "<table border=\"1\" class=\"dataframe\">\n",
       "  <thead>\n",
       "    <tr style=\"text-align: right;\">\n",
       "      <th></th>\n",
       "      <th>86</th>\n",
       "      <th>87</th>\n",
       "      <th>89</th>\n",
       "      <th>91</th>\n",
       "      <th>93</th>\n",
       "    </tr>\n",
       "  </thead>\n",
       "  <tbody>\n",
       "    <tr>\n",
       "      <th>Unnamed: 0</th>\n",
       "      <td>86</td>\n",
       "      <td>87</td>\n",
       "      <td>89</td>\n",
       "      <td>91</td>\n",
       "      <td>93</td>\n",
       "    </tr>\n",
       "    <tr>\n",
       "      <th>Timestamp</th>\n",
       "      <td>01/01/2015 00:00:00</td>\n",
       "      <td>01/01/2015 00:00:00</td>\n",
       "      <td>01/01/2015 00:00:00</td>\n",
       "      <td>01/01/2015 00:00:00</td>\n",
       "      <td>01/01/2015 00:00:00</td>\n",
       "    </tr>\n",
       "    <tr>\n",
       "      <th>Station</th>\n",
       "      <td>1108148</td>\n",
       "      <td>1108285</td>\n",
       "      <td>1108287</td>\n",
       "      <td>1108289</td>\n",
       "      <td>1108291</td>\n",
       "    </tr>\n",
       "    <tr>\n",
       "      <th>District</th>\n",
       "      <td>11</td>\n",
       "      <td>11</td>\n",
       "      <td>11</td>\n",
       "      <td>11</td>\n",
       "      <td>11</td>\n",
       "    </tr>\n",
       "    <tr>\n",
       "      <th>Freeway #</th>\n",
       "      <td>15</td>\n",
       "      <td>94</td>\n",
       "      <td>94</td>\n",
       "      <td>94</td>\n",
       "      <td>94</td>\n",
       "    </tr>\n",
       "    <tr>\n",
       "      <th>Direction</th>\n",
       "      <td>S</td>\n",
       "      <td>W</td>\n",
       "      <td>W</td>\n",
       "      <td>W</td>\n",
       "      <td>W</td>\n",
       "    </tr>\n",
       "    <tr>\n",
       "      <th>Lane Type</th>\n",
       "      <td>ML</td>\n",
       "      <td>ML</td>\n",
       "      <td>ML</td>\n",
       "      <td>ML</td>\n",
       "      <td>ML</td>\n",
       "    </tr>\n",
       "    <tr>\n",
       "      <th>Station Length</th>\n",
       "      <td>0.513</td>\n",
       "      <td>0.313</td>\n",
       "      <td>0.319</td>\n",
       "      <td>0.319</td>\n",
       "      <td>0.206</td>\n",
       "    </tr>\n",
       "    <tr>\n",
       "      <th>Samples</th>\n",
       "      <td>51</td>\n",
       "      <td>30</td>\n",
       "      <td>40</td>\n",
       "      <td>40</td>\n",
       "      <td>50</td>\n",
       "    </tr>\n",
       "    <tr>\n",
       "      <th>% Observed</th>\n",
       "      <td>67</td>\n",
       "      <td>75</td>\n",
       "      <td>100</td>\n",
       "      <td>100</td>\n",
       "      <td>100</td>\n",
       "    </tr>\n",
       "    <tr>\n",
       "      <th>Total Flow</th>\n",
       "      <td>73</td>\n",
       "      <td>57</td>\n",
       "      <td>26</td>\n",
       "      <td>48</td>\n",
       "      <td>53</td>\n",
       "    </tr>\n",
       "    <tr>\n",
       "      <th>Avg Occupancy</th>\n",
       "      <td>0.0096</td>\n",
       "      <td>0.0133</td>\n",
       "      <td>0.0052</td>\n",
       "      <td>0.0113</td>\n",
       "      <td>0.0093</td>\n",
       "    </tr>\n",
       "    <tr>\n",
       "      <th>Avg Speed</th>\n",
       "      <td>69.2</td>\n",
       "      <td>67.3</td>\n",
       "      <td>66.3</td>\n",
       "      <td>67.8</td>\n",
       "      <td>69.9</td>\n",
       "    </tr>\n",
       "  </tbody>\n",
       "</table>\n",
       "</div>"
      ],
      "text/plain": [
       "                                 86                   87                   89  \\\n",
       "Unnamed: 0                       86                   87                   89   \n",
       "Timestamp       01/01/2015 00:00:00  01/01/2015 00:00:00  01/01/2015 00:00:00   \n",
       "Station                     1108148              1108285              1108287   \n",
       "District                         11                   11                   11   \n",
       "Freeway #                        15                   94                   94   \n",
       "Direction                         S                    W                    W   \n",
       "Lane Type                        ML                   ML                   ML   \n",
       "Station Length                0.513                0.313                0.319   \n",
       "Samples                          51                   30                   40   \n",
       "% Observed                       67                   75                  100   \n",
       "Total Flow                       73                   57                   26   \n",
       "Avg Occupancy                0.0096               0.0133               0.0052   \n",
       "Avg Speed                      69.2                 67.3                 66.3   \n",
       "\n",
       "                                 91                   93  \n",
       "Unnamed: 0                       91                   93  \n",
       "Timestamp       01/01/2015 00:00:00  01/01/2015 00:00:00  \n",
       "Station                     1108289              1108291  \n",
       "District                         11                   11  \n",
       "Freeway #                        94                   94  \n",
       "Direction                         W                    W  \n",
       "Lane Type                        ML                   ML  \n",
       "Station Length                0.319                0.206  \n",
       "Samples                          40                   50  \n",
       "% Observed                      100                  100  \n",
       "Total Flow                       48                   53  \n",
       "Avg Occupancy                0.0113               0.0093  \n",
       "Avg Speed                      67.8                 69.9  "
      ]
     },
     "execution_count": 39,
     "metadata": {},
     "output_type": "execute_result"
    }
   ],
   "source": [
    "five_min_frame[five_min_frame['Lane Type'] == 'ML'].head().T"
   ]
  },
  {
   "cell_type": "code",
   "execution_count": 40,
   "metadata": {
    "collapsed": false,
    "nbpresent": {
     "id": "065d71b8-7851-42aa-8f28-151a13ef59c5"
    }
   },
   "outputs": [
    {
     "data": {
      "text/html": [
       "<div>\n",
       "<table border=\"1\" class=\"dataframe\">\n",
       "  <thead>\n",
       "    <tr style=\"text-align: right;\">\n",
       "      <th></th>\n",
       "      <th>count</th>\n",
       "      <th>mean</th>\n",
       "      <th>std</th>\n",
       "      <th>min</th>\n",
       "      <th>25%</th>\n",
       "      <th>50%</th>\n",
       "      <th>75%</th>\n",
       "      <th>max</th>\n",
       "    </tr>\n",
       "  </thead>\n",
       "  <tbody>\n",
       "    <tr>\n",
       "      <th>Unnamed: 0</th>\n",
       "      <td>82226723.0</td>\n",
       "      <td>2.117739e+05</td>\n",
       "      <td>122459.873694</td>\n",
       "      <td>86.000</td>\n",
       "      <td>1.057820e+05</td>\n",
       "      <td>2.114640e+05</td>\n",
       "      <td>3.175740e+05</td>\n",
       "      <td>4.348770e+05</td>\n",
       "    </tr>\n",
       "    <tr>\n",
       "      <th>Station</th>\n",
       "      <td>82226723.0</td>\n",
       "      <td>1.115728e+06</td>\n",
       "      <td>5443.487306</td>\n",
       "      <td>1108148.000</td>\n",
       "      <td>1.108764e+06</td>\n",
       "      <td>1.115600e+06</td>\n",
       "      <td>1.119928e+06</td>\n",
       "      <td>1.126191e+06</td>\n",
       "    </tr>\n",
       "    <tr>\n",
       "      <th>District</th>\n",
       "      <td>82226723.0</td>\n",
       "      <td>1.100000e+01</td>\n",
       "      <td>0.000000</td>\n",
       "      <td>11.000</td>\n",
       "      <td>1.100000e+01</td>\n",
       "      <td>1.100000e+01</td>\n",
       "      <td>1.100000e+01</td>\n",
       "      <td>1.100000e+01</td>\n",
       "    </tr>\n",
       "    <tr>\n",
       "      <th>Freeway #</th>\n",
       "      <td>82226723.0</td>\n",
       "      <td>1.685725e+02</td>\n",
       "      <td>296.974615</td>\n",
       "      <td>5.000</td>\n",
       "      <td>5.000000e+00</td>\n",
       "      <td>1.500000e+01</td>\n",
       "      <td>1.250000e+02</td>\n",
       "      <td>9.050000e+02</td>\n",
       "    </tr>\n",
       "    <tr>\n",
       "      <th>Station Length</th>\n",
       "      <td>82226723.0</td>\n",
       "      <td>7.054279e-01</td>\n",
       "      <td>0.575146</td>\n",
       "      <td>0.001</td>\n",
       "      <td>4.140000e-01</td>\n",
       "      <td>5.730000e-01</td>\n",
       "      <td>7.990000e-01</td>\n",
       "      <td>4.598000e+00</td>\n",
       "    </tr>\n",
       "    <tr>\n",
       "      <th>Samples</th>\n",
       "      <td>82226723.0</td>\n",
       "      <td>3.522050e+01</td>\n",
       "      <td>15.455016</td>\n",
       "      <td>0.000</td>\n",
       "      <td>3.000000e+01</td>\n",
       "      <td>4.000000e+01</td>\n",
       "      <td>4.000000e+01</td>\n",
       "      <td>9.800000e+01</td>\n",
       "    </tr>\n",
       "    <tr>\n",
       "      <th>% Observed</th>\n",
       "      <td>82226723.0</td>\n",
       "      <td>8.753895e+01</td>\n",
       "      <td>30.788014</td>\n",
       "      <td>0.000</td>\n",
       "      <td>1.000000e+02</td>\n",
       "      <td>1.000000e+02</td>\n",
       "      <td>1.000000e+02</td>\n",
       "      <td>1.000000e+02</td>\n",
       "    </tr>\n",
       "    <tr>\n",
       "      <th>Total Flow</th>\n",
       "      <td>82226723.0</td>\n",
       "      <td>2.396427e+02</td>\n",
       "      <td>181.369905</td>\n",
       "      <td>0.000</td>\n",
       "      <td>8.000000e+01</td>\n",
       "      <td>2.080000e+02</td>\n",
       "      <td>3.640000e+02</td>\n",
       "      <td>1.441000e+03</td>\n",
       "    </tr>\n",
       "    <tr>\n",
       "      <th>Avg Occupancy</th>\n",
       "      <td>82226723.0</td>\n",
       "      <td>5.918077e-02</td>\n",
       "      <td>0.057520</td>\n",
       "      <td>0.000</td>\n",
       "      <td>2.020000e-02</td>\n",
       "      <td>4.970000e-02</td>\n",
       "      <td>7.950000e-02</td>\n",
       "      <td>9.997000e-01</td>\n",
       "    </tr>\n",
       "    <tr>\n",
       "      <th>Avg Speed</th>\n",
       "      <td>82226723.0</td>\n",
       "      <td>6.514544e+01</td>\n",
       "      <td>7.601333</td>\n",
       "      <td>3.000</td>\n",
       "      <td>6.440000e+01</td>\n",
       "      <td>6.670000e+01</td>\n",
       "      <td>6.850000e+01</td>\n",
       "      <td>8.630000e+01</td>\n",
       "    </tr>\n",
       "  </tbody>\n",
       "</table>\n",
       "</div>"
      ],
      "text/plain": [
       "                     count          mean            std          min  \\\n",
       "Unnamed: 0      82226723.0  2.117739e+05  122459.873694       86.000   \n",
       "Station         82226723.0  1.115728e+06    5443.487306  1108148.000   \n",
       "District        82226723.0  1.100000e+01       0.000000       11.000   \n",
       "Freeway #       82226723.0  1.685725e+02     296.974615        5.000   \n",
       "Station Length  82226723.0  7.054279e-01       0.575146        0.001   \n",
       "Samples         82226723.0  3.522050e+01      15.455016        0.000   \n",
       "% Observed      82226723.0  8.753895e+01      30.788014        0.000   \n",
       "Total Flow      82226723.0  2.396427e+02     181.369905        0.000   \n",
       "Avg Occupancy   82226723.0  5.918077e-02       0.057520        0.000   \n",
       "Avg Speed       82226723.0  6.514544e+01       7.601333        3.000   \n",
       "\n",
       "                         25%           50%           75%           max  \n",
       "Unnamed: 0      1.057820e+05  2.114640e+05  3.175740e+05  4.348770e+05  \n",
       "Station         1.108764e+06  1.115600e+06  1.119928e+06  1.126191e+06  \n",
       "District        1.100000e+01  1.100000e+01  1.100000e+01  1.100000e+01  \n",
       "Freeway #       5.000000e+00  1.500000e+01  1.250000e+02  9.050000e+02  \n",
       "Station Length  4.140000e-01  5.730000e-01  7.990000e-01  4.598000e+00  \n",
       "Samples         3.000000e+01  4.000000e+01  4.000000e+01  9.800000e+01  \n",
       "% Observed      1.000000e+02  1.000000e+02  1.000000e+02  1.000000e+02  \n",
       "Total Flow      8.000000e+01  2.080000e+02  3.640000e+02  1.441000e+03  \n",
       "Avg Occupancy   2.020000e-02  4.970000e-02  7.950000e-02  9.997000e-01  \n",
       "Avg Speed       6.440000e+01  6.670000e+01  6.850000e+01  8.630000e+01  "
      ]
     },
     "execution_count": 40,
     "metadata": {},
     "output_type": "execute_result"
    }
   ],
   "source": [
    "five_min_frame[five_min_frame['Lane Type'] == 'ML'].describe().T"
   ]
  },
  {
   "cell_type": "code",
   "execution_count": 41,
   "metadata": {
    "collapsed": false,
    "nbpresent": {
     "id": "951760a9-37d1-46cf-8a89-a7d8ce8c7ccc"
    }
   },
   "outputs": [
    {
     "data": {
      "text/html": [
       "<div>\n",
       "<table border=\"1\" class=\"dataframe\">\n",
       "  <thead>\n",
       "    <tr style=\"text-align: right;\">\n",
       "      <th></th>\n",
       "      <th>88</th>\n",
       "      <th>90</th>\n",
       "      <th>92</th>\n",
       "      <th>94</th>\n",
       "      <th>96</th>\n",
       "    </tr>\n",
       "  </thead>\n",
       "  <tbody>\n",
       "    <tr>\n",
       "      <th>Unnamed: 0</th>\n",
       "      <td>88</td>\n",
       "      <td>90</td>\n",
       "      <td>92</td>\n",
       "      <td>94</td>\n",
       "      <td>96</td>\n",
       "    </tr>\n",
       "    <tr>\n",
       "      <th>Timestamp</th>\n",
       "      <td>01/01/2015 00:00:00</td>\n",
       "      <td>01/01/2015 00:00:00</td>\n",
       "      <td>01/01/2015 00:00:00</td>\n",
       "      <td>01/01/2015 00:00:00</td>\n",
       "      <td>01/01/2015 00:00:00</td>\n",
       "    </tr>\n",
       "    <tr>\n",
       "      <th>Station</th>\n",
       "      <td>1108286</td>\n",
       "      <td>1108288</td>\n",
       "      <td>1108290</td>\n",
       "      <td>1108292</td>\n",
       "      <td>1108294</td>\n",
       "    </tr>\n",
       "    <tr>\n",
       "      <th>District</th>\n",
       "      <td>11</td>\n",
       "      <td>11</td>\n",
       "      <td>11</td>\n",
       "      <td>11</td>\n",
       "      <td>11</td>\n",
       "    </tr>\n",
       "    <tr>\n",
       "      <th>Freeway #</th>\n",
       "      <td>94</td>\n",
       "      <td>94</td>\n",
       "      <td>94</td>\n",
       "      <td>94</td>\n",
       "      <td>94</td>\n",
       "    </tr>\n",
       "    <tr>\n",
       "      <th>Direction</th>\n",
       "      <td>W</td>\n",
       "      <td>W</td>\n",
       "      <td>W</td>\n",
       "      <td>W</td>\n",
       "      <td>W</td>\n",
       "    </tr>\n",
       "    <tr>\n",
       "      <th>Lane Type</th>\n",
       "      <td>OR</td>\n",
       "      <td>OR</td>\n",
       "      <td>OR</td>\n",
       "      <td>OR</td>\n",
       "      <td>OR</td>\n",
       "    </tr>\n",
       "    <tr>\n",
       "      <th>Station Length</th>\n",
       "      <td>NaN</td>\n",
       "      <td>NaN</td>\n",
       "      <td>NaN</td>\n",
       "      <td>NaN</td>\n",
       "      <td>NaN</td>\n",
       "    </tr>\n",
       "    <tr>\n",
       "      <th>Samples</th>\n",
       "      <td>10</td>\n",
       "      <td>10</td>\n",
       "      <td>20</td>\n",
       "      <td>10</td>\n",
       "      <td>10</td>\n",
       "    </tr>\n",
       "    <tr>\n",
       "      <th>% Observed</th>\n",
       "      <td>100</td>\n",
       "      <td>100</td>\n",
       "      <td>100</td>\n",
       "      <td>100</td>\n",
       "      <td>100</td>\n",
       "    </tr>\n",
       "    <tr>\n",
       "      <th>Total Flow</th>\n",
       "      <td>1</td>\n",
       "      <td>0</td>\n",
       "      <td>15</td>\n",
       "      <td>2</td>\n",
       "      <td>7</td>\n",
       "    </tr>\n",
       "    <tr>\n",
       "      <th>Avg Occupancy</th>\n",
       "      <td>NaN</td>\n",
       "      <td>NaN</td>\n",
       "      <td>NaN</td>\n",
       "      <td>NaN</td>\n",
       "      <td>NaN</td>\n",
       "    </tr>\n",
       "    <tr>\n",
       "      <th>Avg Speed</th>\n",
       "      <td>NaN</td>\n",
       "      <td>NaN</td>\n",
       "      <td>NaN</td>\n",
       "      <td>NaN</td>\n",
       "      <td>NaN</td>\n",
       "    </tr>\n",
       "  </tbody>\n",
       "</table>\n",
       "</div>"
      ],
      "text/plain": [
       "                                 88                   90                   92  \\\n",
       "Unnamed: 0                       88                   90                   92   \n",
       "Timestamp       01/01/2015 00:00:00  01/01/2015 00:00:00  01/01/2015 00:00:00   \n",
       "Station                     1108286              1108288              1108290   \n",
       "District                         11                   11                   11   \n",
       "Freeway #                        94                   94                   94   \n",
       "Direction                         W                    W                    W   \n",
       "Lane Type                        OR                   OR                   OR   \n",
       "Station Length                  NaN                  NaN                  NaN   \n",
       "Samples                          10                   10                   20   \n",
       "% Observed                      100                  100                  100   \n",
       "Total Flow                        1                    0                   15   \n",
       "Avg Occupancy                   NaN                  NaN                  NaN   \n",
       "Avg Speed                       NaN                  NaN                  NaN   \n",
       "\n",
       "                                 94                   96  \n",
       "Unnamed: 0                       94                   96  \n",
       "Timestamp       01/01/2015 00:00:00  01/01/2015 00:00:00  \n",
       "Station                     1108292              1108294  \n",
       "District                         11                   11  \n",
       "Freeway #                        94                   94  \n",
       "Direction                         W                    W  \n",
       "Lane Type                        OR                   OR  \n",
       "Station Length                  NaN                  NaN  \n",
       "Samples                          10                   10  \n",
       "% Observed                      100                  100  \n",
       "Total Flow                        2                    7  \n",
       "Avg Occupancy                   NaN                  NaN  \n",
       "Avg Speed                       NaN                  NaN  "
      ]
     },
     "execution_count": 41,
     "metadata": {},
     "output_type": "execute_result"
    }
   ],
   "source": [
    "five_min_frame[five_min_frame['Lane Type'] == 'OR'].head().T"
   ]
  },
  {
   "cell_type": "code",
   "execution_count": 42,
   "metadata": {
    "collapsed": false,
    "nbpresent": {
     "id": "7c28bee1-016d-4650-ac66-04f07fc54866"
    }
   },
   "outputs": [
    {
     "data": {
      "text/html": [
       "<div>\n",
       "<table border=\"1\" class=\"dataframe\">\n",
       "  <thead>\n",
       "    <tr style=\"text-align: right;\">\n",
       "      <th></th>\n",
       "      <th>count</th>\n",
       "      <th>mean</th>\n",
       "      <th>std</th>\n",
       "      <th>min</th>\n",
       "      <th>25%</th>\n",
       "      <th>50%</th>\n",
       "      <th>75%</th>\n",
       "      <th>max</th>\n",
       "    </tr>\n",
       "  </thead>\n",
       "  <tbody>\n",
       "    <tr>\n",
       "      <th>Unnamed: 0</th>\n",
       "      <td>32483843.0</td>\n",
       "      <td>2.113429e+05</td>\n",
       "      <td>122416.502446</td>\n",
       "      <td>88.0</td>\n",
       "      <td>105337.0</td>\n",
       "      <td>211088.0</td>\n",
       "      <td>317088.0</td>\n",
       "      <td>434827.0</td>\n",
       "    </tr>\n",
       "    <tr>\n",
       "      <th>Station</th>\n",
       "      <td>32483843.0</td>\n",
       "      <td>1.110614e+06</td>\n",
       "      <td>4586.590527</td>\n",
       "      <td>1108286.0</td>\n",
       "      <td>1108444.0</td>\n",
       "      <td>1108589.0</td>\n",
       "      <td>1108746.0</td>\n",
       "      <td>1125821.0</td>\n",
       "    </tr>\n",
       "    <tr>\n",
       "      <th>District</th>\n",
       "      <td>32483843.0</td>\n",
       "      <td>1.100000e+01</td>\n",
       "      <td>0.000000</td>\n",
       "      <td>11.0</td>\n",
       "      <td>11.0</td>\n",
       "      <td>11.0</td>\n",
       "      <td>11.0</td>\n",
       "      <td>11.0</td>\n",
       "    </tr>\n",
       "    <tr>\n",
       "      <th>Freeway #</th>\n",
       "      <td>32483843.0</td>\n",
       "      <td>1.484713e+02</td>\n",
       "      <td>270.194620</td>\n",
       "      <td>5.0</td>\n",
       "      <td>8.0</td>\n",
       "      <td>15.0</td>\n",
       "      <td>94.0</td>\n",
       "      <td>905.0</td>\n",
       "    </tr>\n",
       "    <tr>\n",
       "      <th>Station Length</th>\n",
       "      <td>0.0</td>\n",
       "      <td>NaN</td>\n",
       "      <td>NaN</td>\n",
       "      <td>NaN</td>\n",
       "      <td>NaN</td>\n",
       "      <td>NaN</td>\n",
       "      <td>NaN</td>\n",
       "      <td>NaN</td>\n",
       "    </tr>\n",
       "    <tr>\n",
       "      <th>Samples</th>\n",
       "      <td>32483843.0</td>\n",
       "      <td>1.864157e+01</td>\n",
       "      <td>7.513764</td>\n",
       "      <td>0.0</td>\n",
       "      <td>10.0</td>\n",
       "      <td>20.0</td>\n",
       "      <td>20.0</td>\n",
       "      <td>60.0</td>\n",
       "    </tr>\n",
       "    <tr>\n",
       "      <th>% Observed</th>\n",
       "      <td>32483843.0</td>\n",
       "      <td>9.319349e+01</td>\n",
       "      <td>24.100179</td>\n",
       "      <td>0.0</td>\n",
       "      <td>100.0</td>\n",
       "      <td>100.0</td>\n",
       "      <td>100.0</td>\n",
       "      <td>100.0</td>\n",
       "    </tr>\n",
       "    <tr>\n",
       "      <th>Total Flow</th>\n",
       "      <td>30603538.0</td>\n",
       "      <td>2.845434e+01</td>\n",
       "      <td>27.791744</td>\n",
       "      <td>0.0</td>\n",
       "      <td>6.0</td>\n",
       "      <td>21.0</td>\n",
       "      <td>42.0</td>\n",
       "      <td>452.0</td>\n",
       "    </tr>\n",
       "    <tr>\n",
       "      <th>Avg Occupancy</th>\n",
       "      <td>0.0</td>\n",
       "      <td>NaN</td>\n",
       "      <td>NaN</td>\n",
       "      <td>NaN</td>\n",
       "      <td>NaN</td>\n",
       "      <td>NaN</td>\n",
       "      <td>NaN</td>\n",
       "      <td>NaN</td>\n",
       "    </tr>\n",
       "    <tr>\n",
       "      <th>Avg Speed</th>\n",
       "      <td>0.0</td>\n",
       "      <td>NaN</td>\n",
       "      <td>NaN</td>\n",
       "      <td>NaN</td>\n",
       "      <td>NaN</td>\n",
       "      <td>NaN</td>\n",
       "      <td>NaN</td>\n",
       "      <td>NaN</td>\n",
       "    </tr>\n",
       "  </tbody>\n",
       "</table>\n",
       "</div>"
      ],
      "text/plain": [
       "                     count          mean            std        min        25%  \\\n",
       "Unnamed: 0      32483843.0  2.113429e+05  122416.502446       88.0   105337.0   \n",
       "Station         32483843.0  1.110614e+06    4586.590527  1108286.0  1108444.0   \n",
       "District        32483843.0  1.100000e+01       0.000000       11.0       11.0   \n",
       "Freeway #       32483843.0  1.484713e+02     270.194620        5.0        8.0   \n",
       "Station Length         0.0           NaN            NaN        NaN        NaN   \n",
       "Samples         32483843.0  1.864157e+01       7.513764        0.0       10.0   \n",
       "% Observed      32483843.0  9.319349e+01      24.100179        0.0      100.0   \n",
       "Total Flow      30603538.0  2.845434e+01      27.791744        0.0        6.0   \n",
       "Avg Occupancy          0.0           NaN            NaN        NaN        NaN   \n",
       "Avg Speed              0.0           NaN            NaN        NaN        NaN   \n",
       "\n",
       "                      50%        75%        max  \n",
       "Unnamed: 0       211088.0   317088.0   434827.0  \n",
       "Station         1108589.0  1108746.0  1125821.0  \n",
       "District             11.0       11.0       11.0  \n",
       "Freeway #            15.0       94.0      905.0  \n",
       "Station Length        NaN        NaN        NaN  \n",
       "Samples              20.0       20.0       60.0  \n",
       "% Observed          100.0      100.0      100.0  \n",
       "Total Flow           21.0       42.0      452.0  \n",
       "Avg Occupancy         NaN        NaN        NaN  \n",
       "Avg Speed             NaN        NaN        NaN  "
      ]
     },
     "execution_count": 42,
     "metadata": {},
     "output_type": "execute_result"
    }
   ],
   "source": [
    "five_min_frame[five_min_frame['Lane Type'] == 'OR'].describe().T"
   ]
  },
  {
   "cell_type": "markdown",
   "metadata": {
    "nbpresent": {
     "id": "61cc0b42-d084-4492-a6d7-87b85afdd465"
    }
   },
   "source": [
    "# Investigate how many stations have imputed data\n",
    "\n",
    "Focus on ML"
   ]
  },
  {
   "cell_type": "code",
   "execution_count": 43,
   "metadata": {
    "collapsed": true,
    "nbpresent": {
     "id": "a1e63aa5-032d-4ecc-99ec-8c280805e347"
    }
   },
   "outputs": [],
   "source": [
    "ML_five_min_frame = five_min_frame[five_min_frame['Lane Type'] == 'ML']"
   ]
  },
  {
   "cell_type": "code",
   "execution_count": 44,
   "metadata": {
    "collapsed": false,
    "nbpresent": {
     "id": "3c89cf05-30b3-4460-bb38-100d0ef1217b"
    }
   },
   "outputs": [
    {
     "data": {
      "text/plain": [
       "100    67944318\n",
       "0       8376065\n",
       "75      2393762\n",
       "50       993331\n",
       "80       798470\n",
       "67       751276\n",
       "83       413345\n",
       "60       227391\n",
       "40       141625\n",
       "33       119409\n",
       "25        31669\n",
       "86        17346\n",
       "20        13086\n",
       "17         5630\n",
       "Name: % Observed, dtype: int64"
      ]
     },
     "execution_count": 44,
     "metadata": {},
     "output_type": "execute_result"
    }
   ],
   "source": [
    "ML_five_min_frame['% Observed'].value_counts()"
   ]
  },
  {
   "cell_type": "code",
   "execution_count": 45,
   "metadata": {
    "collapsed": false,
    "nbpresent": {
     "id": "116265bc-9e24-473a-9b73-45beb85ae582"
    }
   },
   "outputs": [],
   "source": [
    "data = ML_five_min_frame['% Observed'].value_counts()\n",
    "data.sort_index(ascending=False, inplace=True)"
   ]
  },
  {
   "cell_type": "code",
   "execution_count": 46,
   "metadata": {
    "collapsed": false,
    "nbpresent": {
     "id": "c34735b8-004a-43cf-99bc-4e3f6ab74dc3"
    }
   },
   "outputs": [
    {
     "name": "stdout",
     "output_type": "stream",
     "text": [
      "total: 82226723\n",
      "     % Observed #  % Observed percent\n",
      "100      67944318            0.826305\n",
      "86          17346            0.000211\n",
      "83         413345            0.005027\n",
      "80         798470            0.009711\n",
      "75        2393762            0.029112\n",
      "67         751276            0.009137\n",
      "60         227391            0.002765\n",
      "50         993331            0.012080\n",
      "40         141625            0.001722\n",
      "33         119409            0.001452\n",
      "25          31669            0.000385\n",
      "20          13086            0.000159\n",
      "17           5630            0.000068\n",
      "0         8376065            0.101865\n"
     ]
    }
   ],
   "source": [
    "total = data.sum()\n",
    "print \"total: %s\" % total\n",
    "data2 = data / total\n",
    "observed_data = pd.concat([data, data2], axis=1)\n",
    "observed_data.columns = ['% Observed #', '% Observed percent']\n",
    "print observed_data"
   ]
  },
  {
   "cell_type": "code",
   "execution_count": 27,
   "metadata": {
    "collapsed": false,
    "nbpresent": {
     "id": "393a560e-e063-4c66-b7cb-53b0c9ec516a"
    }
   },
   "outputs": [
    {
     "data": {
      "text/plain": [
       "[<matplotlib.lines.Line2D at 0x11529f390>]"
      ]
     },
     "execution_count": 27,
     "metadata": {},
     "output_type": "execute_result"
    },
    {
     "data": {
      "image/png": "[encoded data removed]",
      "text/plain": [
       "<matplotlib.figure.Figure at 0x115f488d0>"
      ]
     },
     "metadata": {},
     "output_type": "display_data"
    }
   ],
   "source": [
    "# cdf of the amount of imputed data records across all stations. 82.6% is real data.  Need to look at the \n",
    "# distribution per Station\n",
    "test = sorted(list(ML_five_min_frame['% Observed']))\n",
    "ind = [i/float(len(test)) for i in range(len(test))]\n",
    "plt.plot(test,ind)"
   ]
  },
  {
   "cell_type": "code",
   "execution_count": 47,
   "metadata": {
    "collapsed": false,
    "nbpresent": {
     "id": "02af4567-5f8c-49cb-b7cf-8c213f97c3dc"
    },
    "scrolled": true
   },
   "outputs": [
    {
     "name": "stdout",
     "output_type": "stream",
     "text": [
      "total stations in file: 839\n"
     ]
    }
   ],
   "source": [
    "print \"total stations in file: %s\" % len(ML_five_min_frame['Station'].unique())"
   ]
  },
  {
   "cell_type": "code",
   "execution_count": 48,
   "metadata": {
    "collapsed": true,
    "nbpresent": {
     "id": "0d7c64b8-2b52-4d83-bb46-9aec401c84cc"
    }
   },
   "outputs": [],
   "source": [
    "# which stations are always good\n",
    "mean_df = ML_five_min_frame[['Station', '% Observed']].groupby('Station').mean()"
   ]
  },
  {
   "cell_type": "code",
   "execution_count": 49,
   "metadata": {
    "collapsed": false,
    "nbpresent": {
     "id": "ca1f4def-51f6-4f89-9f2d-fcff72f69774"
    }
   },
   "outputs": [
    {
     "data": {
      "text/html": [
       "<div>\n",
       "<table border=\"1\" class=\"dataframe\">\n",
       "  <thead>\n",
       "    <tr style=\"text-align: right;\">\n",
       "      <th></th>\n",
       "      <th>% Observed</th>\n",
       "    </tr>\n",
       "    <tr>\n",
       "      <th>Station</th>\n",
       "      <th></th>\n",
       "    </tr>\n",
       "  </thead>\n",
       "  <tbody>\n",
       "    <tr>\n",
       "      <th>1108429</th>\n",
       "      <td>97.524549</td>\n",
       "    </tr>\n",
       "    <tr>\n",
       "      <th>1108597</th>\n",
       "      <td>97.524549</td>\n",
       "    </tr>\n",
       "    <tr>\n",
       "      <th>1115929</th>\n",
       "      <td>97.524549</td>\n",
       "    </tr>\n",
       "    <tr>\n",
       "      <th>1116139</th>\n",
       "      <td>97.524549</td>\n",
       "    </tr>\n",
       "    <tr>\n",
       "      <th>1108486</th>\n",
       "      <td>97.524549</td>\n",
       "    </tr>\n",
       "  </tbody>\n",
       "</table>\n",
       "</div>"
      ],
      "text/plain": [
       "         % Observed\n",
       "Station            \n",
       "1108429   97.524549\n",
       "1108597   97.524549\n",
       "1115929   97.524549\n",
       "1116139   97.524549\n",
       "1108486   97.524549"
      ]
     },
     "execution_count": 49,
     "metadata": {},
     "output_type": "execute_result"
    }
   ],
   "source": [
    "mean_df.sort_values(by='% Observed', ascending=False).head()"
   ]
  },
  {
   "cell_type": "code",
   "execution_count": 50,
   "metadata": {
    "collapsed": false,
    "nbpresent": {
     "id": "1199004f-cd65-4f09-86c6-e863cebc5db0"
    }
   },
   "outputs": [
    {
     "data": {
      "text/html": [
       "<div>\n",
       "<table border=\"1\" class=\"dataframe\">\n",
       "  <thead>\n",
       "    <tr style=\"text-align: right;\">\n",
       "      <th></th>\n",
       "      <th>% Observed</th>\n",
       "    </tr>\n",
       "    <tr>\n",
       "      <th>Station</th>\n",
       "      <th></th>\n",
       "    </tr>\n",
       "  </thead>\n",
       "  <tbody>\n",
       "  </tbody>\n",
       "</table>\n",
       "</div>"
      ],
      "text/plain": [
       "Empty DataFrame\n",
       "Columns: [% Observed]\n",
       "Index: []"
      ]
     },
     "execution_count": 50,
     "metadata": {},
     "output_type": "execute_result"
    }
   ],
   "source": [
    "# none of the stations are 100% observed. ie: all have imputed data.\n",
    "mean_df[mean_df['% Observed'] == 100]"
   ]
  },
  {
   "cell_type": "code",
   "execution_count": 51,
   "metadata": {
    "collapsed": false,
    "nbpresent": {
     "id": "6482a6e0-fa31-4202-8c1c-da8e6dcf15d1"
    }
   },
   "outputs": [],
   "source": [
    "# count of mean_df\n",
    "tmp_df = mean_df.copy()\n",
    "mean_df_counts = tmp_df.reset_index(level=0)['% Observed'].apply(lambda x: round(x, 1)).value_counts()\\\n",
    "    .sort_index(ascending=True)"
   ]
  },
  {
   "cell_type": "code",
   "execution_count": 52,
   "metadata": {
    "collapsed": false,
    "nbpresent": {
     "id": "06966f05-0152-4ea1-8d87-ca7af3caeef1"
    },
    "scrolled": true
   },
   "outputs": [
    {
     "data": {
      "text/plain": [
       "0.0      31\n",
       "0.2       1\n",
       "0.3       1\n",
       "1.7       1\n",
       "2.6       1\n",
       "3.0       1\n",
       "4.7       1\n",
       "5.7       1\n",
       "8.3       1\n",
       "8.5       1\n",
       "9.3       1\n",
       "10.9      1\n",
       "11.1      1\n",
       "12.8      1\n",
       "18.6      1\n",
       "21.2      1\n",
       "23.5      2\n",
       "24.5      1\n",
       "25.0      1\n",
       "25.6      1\n",
       "26.4      1\n",
       "28.5      1\n",
       "28.9      1\n",
       "29.2      1\n",
       "29.8      1\n",
       "30.0      2\n",
       "30.8      1\n",
       "32.4      1\n",
       "34.9      1\n",
       "36.5      1\n",
       "       ... \n",
       "94.6      4\n",
       "94.7      3\n",
       "94.8      6\n",
       "94.9      1\n",
       "95.0      3\n",
       "95.1      2\n",
       "95.2      1\n",
       "95.3      5\n",
       "95.4      6\n",
       "95.5     12\n",
       "95.6      5\n",
       "95.7     10\n",
       "95.8      3\n",
       "95.9      5\n",
       "96.0      6\n",
       "96.1     11\n",
       "96.2     12\n",
       "96.3      6\n",
       "96.4     11\n",
       "96.5     25\n",
       "96.6     18\n",
       "96.7     12\n",
       "96.8     23\n",
       "96.9     29\n",
       "97.0     23\n",
       "97.1     18\n",
       "97.2     19\n",
       "97.3     33\n",
       "97.4     48\n",
       "97.5    164\n",
       "Name: % Observed, dtype: int64"
      ]
     },
     "execution_count": 52,
     "metadata": {},
     "output_type": "execute_result"
    }
   ],
   "source": [
    "mean_df_counts"
   ]
  },
  {
   "cell_type": "code",
   "execution_count": 53,
   "metadata": {
    "collapsed": false,
    "nbpresent": {
     "id": "98ef678f-2874-478d-bff0-926d45472cf5"
    }
   },
   "outputs": [
    {
     "name": "stdout",
     "output_type": "stream",
     "text": [
      "total: 839\n"
     ]
    },
    {
     "data": {
      "text/plain": [
       "[<matplotlib.lines.Line2D at 0x10eddd2d0>]"
      ]
     },
     "execution_count": 53,
     "metadata": {},
     "output_type": "execute_result"
    },
    {
     "data": {
      "image/png": "[encoded data removed]",
      "text/plain": [
       "<matplotlib.figure.Figure at 0x44089b9d0>"
      ]
     },
     "metadata": {},
     "output_type": "display_data"
    }
   ],
   "source": [
    "total = mean_df_counts.sum()\n",
    "print \"total: %s\" % total\n",
    "data = [i/float(total) for i in mean_df_counts]\n",
    "ind = [i/float(len(mean_df_counts)) for i in range(len(mean_df_counts))]\n",
    "plt.plot(ind,data)"
   ]
  },
  {
   "cell_type": "code",
   "execution_count": 54,
   "metadata": {
    "collapsed": false,
    "nbpresent": {
     "id": "65673779-edfb-456d-82fe-93f3a1e16763"
    },
    "scrolled": true
   },
   "outputs": [
    {
     "name": "stdout",
     "output_type": "stream",
     "text": [
      "total: 839\n",
      "0.0     0.036949\n",
      "0.2     0.038141\n",
      "0.3     0.039333\n",
      "1.7     0.040524\n",
      "2.6     0.041716\n",
      "3.0     0.042908\n",
      "4.7     0.044100\n",
      "5.7     0.045292\n",
      "8.3     0.046484\n",
      "8.5     0.047676\n",
      "9.3     0.048868\n",
      "10.9    0.050060\n",
      "11.1    0.051251\n",
      "12.8    0.052443\n",
      "18.6    0.053635\n",
      "21.2    0.054827\n",
      "23.5    0.057211\n",
      "24.5    0.058403\n",
      "25.0    0.059595\n",
      "25.6    0.060787\n",
      "26.4    0.061979\n",
      "28.5    0.063170\n",
      "28.9    0.064362\n",
      "29.2    0.065554\n",
      "29.8    0.066746\n",
      "30.0    0.069130\n",
      "30.8    0.070322\n",
      "32.4    0.071514\n",
      "34.9    0.072706\n",
      "36.5    0.073897\n",
      "          ...   \n",
      "94.6    0.380215\n",
      "94.7    0.383790\n",
      "94.8    0.390942\n",
      "94.9    0.392133\n",
      "95.0    0.395709\n",
      "95.1    0.398093\n",
      "95.2    0.399285\n",
      "95.3    0.405244\n",
      "95.4    0.412396\n",
      "95.5    0.426698\n",
      "95.6    0.432658\n",
      "95.7    0.444577\n",
      "95.8    0.448153\n",
      "95.9    0.454112\n",
      "96.0    0.461263\n",
      "96.1    0.474374\n",
      "96.2    0.488677\n",
      "96.3    0.495828\n",
      "96.4    0.508939\n",
      "96.5    0.538737\n",
      "96.6    0.560191\n",
      "96.7    0.574493\n",
      "96.8    0.601907\n",
      "96.9    0.636472\n",
      "97.0    0.663886\n",
      "97.1    0.685340\n",
      "97.2    0.707986\n",
      "97.3    0.747318\n",
      "97.4    0.804529\n",
      "97.5    1.000000\n",
      "Name: % Observed, dtype: float64\n"
     ]
    }
   ],
   "source": [
    "# cdf\n",
    "total = mean_df_counts.sum()\n",
    "print \"total: %s\" % total\n",
    "# data = [i/float(total) for i in mean_df_counts]\n",
    "data = mean_df_counts.cumsum()/total\n",
    "print data"
   ]
  },
  {
   "cell_type": "code",
   "execution_count": 55,
   "metadata": {
    "collapsed": false,
    "nbpresent": {
     "id": "399d39d9-62a9-4731-be2b-2212cf358458"
    }
   },
   "outputs": [
    {
     "data": {
      "text/plain": [
       "index         5752.400000\n",
       "% Observed      25.390942\n",
       "dtype: float64"
      ]
     },
     "execution_count": 55,
     "metadata": {},
     "output_type": "execute_result"
    }
   ],
   "source": [
    "tmp = data.reset_index(level=0)\n",
    "tmp[tmp['index'] > 90].sum()"
   ]
  },
  {
   "cell_type": "code",
   "execution_count": 56,
   "metadata": {
    "collapsed": false,
    "nbpresent": {
     "id": "3ebbe2e7-2591-4b6d-8eba-3e92b2aecdb3"
    }
   },
   "outputs": [
    {
     "data": {
      "text/plain": [
       "<matplotlib.text.Text at 0x10fa8f250>"
      ]
     },
     "execution_count": 56,
     "metadata": {},
     "output_type": "execute_result"
    },
    {
     "data": {
      "image/png": "[encoded data removed]",
      "text/plain": [
       "<matplotlib.figure.Figure at 0x10fa636d0>"
      ]
     },
     "metadata": {},
     "output_type": "display_data"
    }
   ],
   "source": [
    "ax = data.plot(title=\"CDF of station health via binning of % Observed\", yticks=np.arange(0, 1.1, .1),\n",
    "               xticks=np.arange(0, 101, 5))\n",
    "ax.set_xlabel(\"% of % Observed averages rounded to nearest tenth\")\n",
    "ax.set_ylabel(\"cumlative sum of distribution\")"
   ]
  },
  {
   "cell_type": "markdown",
   "metadata": {
    "nbpresent": {
     "id": "283ec398-eeed-4c02-b24a-8e314caf4926"
    }
   },
   "source": [
    "## Average % Observed for stations\n",
    "We can see from the chart above that the average % observed for each station is in the range of 0 to 97.5%  ~20% of the stations are at the 97.5% If we use 87.75% as the threshold we will have ~75% of the total stations."
   ]
  },
  {
   "cell_type": "code",
   "execution_count": 57,
   "metadata": {
    "collapsed": false,
    "nbpresent": {
     "id": "cab3a402-f462-49fb-be69-d3f4b0df00b1"
    }
   },
   "outputs": [],
   "source": [
    "rounded_observed = mean_df.copy()\n",
    "rounded_observed = rounded_observed['% Observed'].apply(lambda x: round(x, 1))\n",
    "best_stations = mean_df.copy()\n",
    "best_stations['% Observed'] = rounded_observed"
   ]
  },
  {
   "cell_type": "code",
   "execution_count": 58,
   "metadata": {
    "collapsed": false,
    "nbpresent": {
     "id": "bdb383c1-7772-4681-9f08-faf6203164c5"
    }
   },
   "outputs": [
    {
     "data": {
      "text/html": [
       "<div>\n",
       "<table border=\"1\" class=\"dataframe\">\n",
       "  <thead>\n",
       "    <tr style=\"text-align: right;\">\n",
       "      <th></th>\n",
       "      <th>% Observed</th>\n",
       "    </tr>\n",
       "    <tr>\n",
       "      <th>Station</th>\n",
       "      <th></th>\n",
       "    </tr>\n",
       "  </thead>\n",
       "  <tbody>\n",
       "    <tr>\n",
       "      <th>1108148</th>\n",
       "      <td>89.8</td>\n",
       "    </tr>\n",
       "    <tr>\n",
       "      <th>1108285</th>\n",
       "      <td>93.6</td>\n",
       "    </tr>\n",
       "    <tr>\n",
       "      <th>1108287</th>\n",
       "      <td>95.8</td>\n",
       "    </tr>\n",
       "    <tr>\n",
       "      <th>1108289</th>\n",
       "      <td>96.9</td>\n",
       "    </tr>\n",
       "    <tr>\n",
       "      <th>1108291</th>\n",
       "      <td>97.0</td>\n",
       "    </tr>\n",
       "  </tbody>\n",
       "</table>\n",
       "</div>"
      ],
      "text/plain": [
       "         % Observed\n",
       "Station            \n",
       "1108148        89.8\n",
       "1108285        93.6\n",
       "1108287        95.8\n",
       "1108289        96.9\n",
       "1108291        97.0"
      ]
     },
     "execution_count": 58,
     "metadata": {},
     "output_type": "execute_result"
    }
   ],
   "source": [
    "best_stations.head()"
   ]
  },
  {
   "cell_type": "code",
   "execution_count": 59,
   "metadata": {
    "collapsed": false,
    "nbpresent": {
     "id": "fb3c1fff-7a12-4bc5-9aa3-539675cf1a0b"
    }
   },
   "outputs": [],
   "source": [
    "best_station_list = best_stations.reset_index(level=0).groupby(by='% Observed').aggregate(lambda x: tuple(x))\\\n",
    "    .sort_index(ascending=False)"
   ]
  },
  {
   "cell_type": "code",
   "execution_count": 60,
   "metadata": {
    "collapsed": false,
    "nbpresent": {
     "id": "ce0ebf4e-9eab-44f0-912a-cd5763a13e87"
    }
   },
   "outputs": [
    {
     "data": {
      "text/html": [
       "<div>\n",
       "<table border=\"1\" class=\"dataframe\">\n",
       "  <thead>\n",
       "    <tr style=\"text-align: right;\">\n",
       "      <th></th>\n",
       "      <th>Station</th>\n",
       "    </tr>\n",
       "    <tr>\n",
       "      <th>% Observed</th>\n",
       "      <th></th>\n",
       "    </tr>\n",
       "  </thead>\n",
       "  <tbody>\n",
       "    <tr>\n",
       "      <th>97.5</th>\n",
       "      <td>(1108313, 1108315, 1108317, 1108328, 1108331, ...</td>\n",
       "    </tr>\n",
       "    <tr>\n",
       "      <th>97.4</th>\n",
       "      <td>(1108295, 1108434, 1108507, 1108534, 1108545, ...</td>\n",
       "    </tr>\n",
       "    <tr>\n",
       "      <th>97.3</th>\n",
       "      <td>(1108293, 1108306, 1108366, 1108459, 1108477, ...</td>\n",
       "    </tr>\n",
       "    <tr>\n",
       "      <th>97.2</th>\n",
       "      <td>(1108410, 1108439, 1108526, 1108536, 1108676, ...</td>\n",
       "    </tr>\n",
       "    <tr>\n",
       "      <th>97.1</th>\n",
       "      <td>(1108495, 1108498, 1108505, 1108599, 1108605, ...</td>\n",
       "    </tr>\n",
       "  </tbody>\n",
       "</table>\n",
       "</div>"
      ],
      "text/plain": [
       "                                                      Station\n",
       "% Observed                                                   \n",
       "97.5        (1108313, 1108315, 1108317, 1108328, 1108331, ...\n",
       "97.4        (1108295, 1108434, 1108507, 1108534, 1108545, ...\n",
       "97.3        (1108293, 1108306, 1108366, 1108459, 1108477, ...\n",
       "97.2        (1108410, 1108439, 1108526, 1108536, 1108676, ...\n",
       "97.1        (1108495, 1108498, 1108505, 1108599, 1108605, ..."
      ]
     },
     "execution_count": 60,
     "metadata": {},
     "output_type": "execute_result"
    }
   ],
   "source": [
    "best_station_list.head()"
   ]
  },
  {
   "cell_type": "code",
   "execution_count": 61,
   "metadata": {
    "collapsed": false
   },
   "outputs": [],
   "source": [
    "best_station_list.to_csv('best_station.csv')"
   ]
  },
  {
   "cell_type": "code",
   "execution_count": 62,
   "metadata": {
    "collapsed": false
   },
   "outputs": [
    {
     "name": "stdout",
     "output_type": "stream",
     "text": [
      "rank, % Observed, Count, % of stations\n",
      "0 97.5 164 19.55\n",
      "1 97.4 48 5.72\n",
      "2 97.3 33 3.93\n",
      "3 97.2 19 2.26\n",
      "4 97.1 18 2.15\n",
      "5 97.0 23 2.74\n",
      "6 96.9 29 3.46\n",
      "7 96.8 23 2.74\n",
      "8 96.7 12 1.43\n",
      "9 96.6 18 2.15\n",
      "10 96.5 25 2.98\n",
      "11 96.4 11 1.31\n",
      "12 96.3 6 0.72\n",
      "13 96.2 12 1.43\n",
      "14 96.1 11 1.31\n",
      "15 96.0 6 0.72\n",
      "16 95.9 5 0.6\n",
      "17 95.8 3 0.36\n",
      "18 95.7 10 1.19\n",
      "19 95.6 5 0.6\n",
      "20 95.5 12 1.43\n",
      "21 95.4 6 0.72\n",
      "22 95.3 5 0.6\n",
      "23 95.2 1 0.12\n",
      "24 95.1 2 0.24\n",
      "25 95.0 3 0.36\n",
      "26 94.9 1 0.12\n",
      "27 94.8 6 0.72\n",
      "28 94.7 3 0.36\n",
      "29 94.6 4 0.48\n",
      "30 94.5 7 0.83\n",
      "31 94.4 4 0.48\n",
      "32 94.3 4 0.48\n",
      "33 94.2 4 0.48\n",
      "34 94.1 4 0.48\n",
      "35 94.0 4 0.48\n",
      "36 93.9 5 0.6\n",
      "37 93.8 5 0.6\n",
      "38 93.7 5 0.6\n",
      "39 93.6 2 0.24\n",
      "40 93.5 10 1.19\n",
      "41 93.4 1 0.12\n",
      "42 93.1 3 0.36\n",
      "43 93.0 1 0.12\n",
      "44 92.9 2 0.24\n",
      "45 92.7 3 0.36\n",
      "46 92.4 1 0.12\n",
      "47 92.3 1 0.12\n",
      "48 92.2 2 0.24\n",
      "49 92.0 1 0.12\n",
      "50 91.9 2 0.24\n",
      "51 91.8 1 0.12\n",
      "52 91.7 1 0.12\n",
      "53 91.6 1 0.12\n",
      "54 91.4 2 0.24\n",
      "55 91.3 2 0.24\n",
      "56 91.1 2 0.24\n",
      "57 90.9 1 0.12\n",
      "58 90.8 1 0.12\n",
      "59 90.3 1 0.12\n",
      "60 90.1 2 0.24\n",
      "61 89.9 1 0.12\n",
      "62 89.8 1 0.12\n",
      "63 89.7 1 0.12\n",
      "64 89.6 1 0.12\n",
      "65 89.3 1 0.12\n",
      "66 89.2 2 0.24\n",
      "67 89.1 1 0.12\n",
      "68 89.0 1 0.12\n",
      "69 88.9 2 0.24\n",
      "70 88.8 1 0.12\n",
      "71 88.6 2 0.24\n",
      "72 88.4 1 0.12\n",
      "73 88.3 1 0.12\n",
      "74 88.1 1 0.12\n",
      "75 87.9 3 0.36\n",
      "76 87.8 1 0.12\n",
      "77 87.4 1 0.12\n",
      "78 86.6 1 0.12\n",
      "79 86.4 2 0.24\n",
      "80 86.3 2 0.24\n",
      "81 85.9 1 0.12\n",
      "82 85.6 1 0.12\n",
      "83 85.5 2 0.24\n",
      "84 85.4 1 0.12\n",
      "85 85.2 1 0.12\n",
      "86 85.1 1 0.12\n",
      "87 84.9 1 0.12\n",
      "88 84.8 1 0.12\n",
      "89 84.6 1 0.12\n",
      "90 84.1 1 0.12\n",
      "91 83.0 1 0.12\n",
      "92 82.5 2 0.24\n",
      "93 82.4 1 0.12\n",
      "94 82.3 1 0.12\n",
      "95 82.2 1 0.12\n",
      "96 81.9 2 0.24\n",
      "97 81.1 1 0.12\n",
      "98 81.0 1 0.12\n",
      "99 80.8 3 0.36\n",
      "100 79.6 1 0.12\n",
      "101 79.5 1 0.12\n",
      "102 79.3 2 0.24\n",
      "103 78.9 1 0.12\n",
      "104 78.7 1 0.12\n",
      "105 78.5 1 0.12\n",
      "106 78.4 1 0.12\n",
      "107 78.1 1 0.12\n",
      "108 78.0 1 0.12\n",
      "109 77.3 1 0.12\n",
      "110 77.2 2 0.24\n",
      "111 76.9 1 0.12\n",
      "112 76.2 3 0.36\n",
      "113 75.7 1 0.12\n",
      "114 75.5 1 0.12\n",
      "115 75.4 1 0.12\n",
      "116 75.2 1 0.12\n",
      "117 74.9 1 0.12\n",
      "118 74.7 1 0.12\n",
      "119 74.5 1 0.12\n",
      "120 74.4 1 0.12\n",
      "121 74.0 1 0.12\n",
      "122 73.8 1 0.12\n",
      "123 73.4 2 0.24\n",
      "124 73.3 1 0.12\n",
      "125 73.2 1 0.12\n",
      "126 73.1 5 0.6\n",
      "127 72.9 2 0.24\n",
      "128 72.7 2 0.24\n",
      "129 72.3 1 0.12\n",
      "130 72.1 1 0.12\n",
      "131 72.0 1 0.12\n",
      "132 71.7 1 0.12\n",
      "133 71.4 1 0.12\n",
      "134 71.1 1 0.12\n",
      "135 70.9 2 0.24\n",
      "136 70.7 2 0.24\n",
      "137 70.6 1 0.12\n",
      "138 70.5 1 0.12\n",
      "139 70.2 2 0.24\n",
      "140 70.0 1 0.12\n",
      "141 69.7 1 0.12\n",
      "142 69.3 4 0.48\n",
      "143 69.2 2 0.24\n",
      "144 69.1 1 0.12\n",
      "145 69.0 1 0.12\n",
      "146 68.9 1 0.12\n",
      "147 68.8 1 0.12\n",
      "148 68.5 1 0.12\n",
      "149 68.2 1 0.12\n",
      "150 67.7 1 0.12\n",
      "151 67.6 1 0.12\n",
      "152 65.4 1 0.12\n",
      "153 64.9 1 0.12\n",
      "154 64.6 1 0.12\n",
      "155 64.4 1 0.12\n",
      "156 64.3 1 0.12\n",
      "157 63.7 1 0.12\n",
      "158 63.2 1 0.12\n",
      "159 60.6 1 0.12\n",
      "160 60.4 1 0.12\n",
      "161 59.5 1 0.12\n",
      "162 59.0 1 0.12\n",
      "163 58.7 1 0.12\n",
      "164 58.3 1 0.12\n",
      "165 57.9 1 0.12\n",
      "166 57.0 1 0.12\n",
      "167 55.9 1 0.12\n",
      "168 54.4 1 0.12\n",
      "169 54.0 1 0.12\n",
      "170 53.5 1 0.12\n",
      "171 52.6 1 0.12\n",
      "172 52.5 1 0.12\n",
      "173 51.3 1 0.12\n",
      "174 50.0 1 0.12\n",
      "175 49.4 1 0.12\n",
      "176 48.8 2 0.24\n",
      "177 48.7 2 0.24\n",
      "178 48.6 1 0.12\n",
      "179 48.3 2 0.24\n",
      "180 47.6 1 0.12\n",
      "181 47.2 1 0.12\n",
      "182 46.0 1 0.12\n",
      "183 45.3 1 0.12\n",
      "184 42.5 1 0.12\n",
      "185 42.4 1 0.12\n",
      "186 41.1 2 0.24\n",
      "187 40.8 1 0.12\n",
      "188 39.4 2 0.24\n",
      "189 38.3 2 0.24\n",
      "190 38.1 1 0.12\n",
      "191 37.5 1 0.12\n",
      "192 37.0 1 0.12\n",
      "193 36.5 1 0.12\n",
      "194 34.9 1 0.12\n",
      "195 32.4 1 0.12\n",
      "196 30.8 1 0.12\n",
      "197 30.0 2 0.24\n",
      "198 29.8 1 0.12\n",
      "199 29.2 1 0.12\n",
      "200 28.9 1 0.12\n",
      "201 28.5 1 0.12\n",
      "202 26.4 1 0.12\n",
      "203 25.6 1 0.12\n",
      "204 25.0 1 0.12\n",
      "205 24.5 1 0.12\n",
      "206 23.5 2 0.24\n",
      "207 21.2 1 0.12\n",
      "208 18.6 1 0.12\n",
      "209 12.8 1 0.12\n",
      "210 11.1 1 0.12\n",
      "211 10.9 1 0.12\n",
      "212 9.3 1 0.12\n",
      "213 8.5 1 0.12\n",
      "214 8.3 1 0.12\n",
      "215 5.7 1 0.12\n",
      "216 4.7 1 0.12\n",
      "217 3.0 1 0.12\n",
      "218 2.6 1 0.12\n",
      "219 1.7 1 0.12\n",
      "220 0.3 1 0.12\n",
      "221 0.2 1 0.12\n",
      "222 0.0 31 3.69\n"
     ]
    }
   ],
   "source": [
    "total = 839\n",
    "print \"rank, % Observed, Count, % of stations\"\n",
    "for rank, ind in enumerate(best_station_list.index):\n",
    "    value = len(best_station_list.ix[ind].Station)\n",
    "    print rank, ind, value, round(float(value/839.0)*100, 2)"
   ]
  },
  {
   "cell_type": "code",
   "execution_count": 63,
   "metadata": {
    "collapsed": false
   },
   "outputs": [
    {
     "data": {
      "text/plain": [
       "164"
      ]
     },
     "execution_count": 63,
     "metadata": {},
     "output_type": "execute_result"
    }
   ],
   "source": [
    "len(best_station_list.ix[97.5].Station)"
   ]
  },
  {
   "cell_type": "code",
   "execution_count": 64,
   "metadata": {
    "collapsed": false,
    "nbpresent": {
     "id": "e7cb273e-cac7-4f93-8400-6f88695fb8a6"
    },
    "scrolled": true
   },
   "outputs": [
    {
     "name": "stdout",
     "output_type": "stream",
     "text": [
      "rank: 1 stations at 97.5: (1108313, 1108315, 1108317, 1108328, 1108331, 1108339, 1108341, 1108343, 1108351, 1108353, 1108360, 1108372, 1108389, 1108401, 1108413, 1108419, 1108421, 1108423, 1108427, 1108429, 1108465, 1108473, 1108486, 1108512, 1108523, 1108531, 1108543, 1108547, 1108560, 1108562, 1108564, 1108572, 1108582, 1108592, 1108597, 1108623, 1108625, 1108627, 1108649, 1108661, 1108687, 1108693, 1108700, 1108717, 1108728, 1108739, 1108741, 1108743, 1108745, 1108760, 1111514, 1111526, 1111531, 1111535, 1111557, 1111569, 1111570, 1111575, 1112989, 1113126, 1113138, 1113147, 1113292, 1113318, 1113364, 1113720, 1113740, 1115240, 1115450, 1115486, 1115537, 1115612, 1115616, 1115624, 1115649, 1115656, 1115663, 1115721, 1115739, 1115771, 1115779, 1115787, 1115811, 1115820, 1115838, 1115897, 1115921, 1115929, 1115937, 1115946, 1116092, 1116098, 1116119, 1116133, 1116139, 1116145, 1116158, 1116318, 1117836, 1117850, 1117899, 1118013, 1118170, 1118260, 1118521, 1118529, 1118707, 1118796, 1118957, 1119528, 1119645, 1119653, 1119679, 1119683, 1119689, 1119694, 1119699, 1119749, 1119762, 1119842, 1119850, 1119865, 1119871, 1119890, 1119897, 1119934, 1119947, 1119954, 1119960, 1119966, 1119972, 1119978, 1119984, 1119990, 1119997, 1120356, 1120362, 1121037, 1121038, 1121105, 1121112, 1121118, 1122394, 1122469, 1122479, 1122507, 1122552, 1122560, 1122575, 1122594, 1122645, 1122646, 1123030, 1123031, 1123078, 1123081, 1125314, 1125348, 1125353, 1125689, 1125836, 1125865, 1125872, 1125879)\n",
      "rank: 2 stations at 97.4: (1108295, 1108434, 1108507, 1108534, 1108545, 1108554, 1108558, 1108580, 1108667, 1108704, 1108708, 1108771, 1111542, 1111559, 1112996, 1113159, 1113222, 1113301, 1113894, 1113966, 1114018, 1115477, 1115672, 1116431, 1118413, 1118421, 1118428, 1118630, 1118735, 1118894, 1118908, 1119383, 1119736, 1119743, 1119756, 1119768, 1119774, 1119790, 1120121, 1121131, 1122502, 1122512, 1122583, 1122706, 1123256, 1123287, 1125410, 1125812)\n",
      "rank: 3 stations at 97.3: (1108293, 1108306, 1108366, 1108459, 1108477, 1108538, 1115304, 1115314, 1115323, 1115348, 1115592, 1116433, 1118365, 1118379, 1118442, 1118450, 1118552, 1118557, 1118562, 1118648, 1118656, 1119307, 1121125, 1122257, 1122601, 1122699, 1122928, 1123302, 1125265, 1125794, 1125799, 1126016, 1126022)\n",
      "rank: 4 stations at 97.2: (1108410, 1108439, 1108526, 1108536, 1108676, 1108721, 1108767, 1113218, 1113335, 1115246, 1116712, 1117931, 1118341, 1118352, 1118886, 1119921, 1119928, 1120167, 1122272)\n",
      "rank: 5 stations at 97.1: (1108495, 1108498, 1108505, 1108599, 1108605, 1108609, 1108611, 1108711, 1111527, 1113976, 1115692, 1117717, 1117796, 1117835, 1118078, 1119808, 1121034, 1122567)\n",
      "rank: 6 stations at 97.0: (1108291, 1108380, 1108585, 1108702, 1108723, 1115380, 1115584, 1115600, 1116126, 1117683, 1117734, 1117748, 1118076, 1118472, 1118900, 1118989, 1119915, 1122956, 1123114, 1123176, 1123179, 1125383, 1125886)\n",
      "rank: 7 stations at 96.9: (1108289, 1108376, 1108415, 1108417, 1108475, 1114119, 1114219, 1114240, 1114268, 1114276, 1114283, 1114290, 1114318, 1114463, 1114471, 1114478, 1114566, 1114573, 1118465, 1118923, 1120291, 1120611, 1121715, 1121722, 1121777, 1121818, 1121821, 1125457, 1125469)\n",
      "rank: 8 stations at 96.8: (1108297, 1108299, 1108570, 1108629, 1108715, 1113187, 1113308, 1113413, 1113915, 1114044, 1114211, 1114261, 1114296, 1114441, 1114580, 1118479, 1118670, 1118702, 1121099, 1121763, 1121767, 1122726, 1123165)\n",
      "rank: 9 stations at 96.7: (1108398, 1108637, 1108689, 1108706, 1108733, 1108762, 1113904, 1114831, 1115608, 1116167, 1121806, 1121809)\n",
      "rank: 10 stations at 96.6: (1108304, 1108308, 1108333, 1108501, 1108549, 1108595, 1108659, 1108663, 1108725, 1111554, 1114100, 1114333, 1115794, 1116449, 1118372, 1118567, 1118743, 1121734)\n",
      "rank: 11 stations at 96.5: (1108450, 1108613, 1108617, 1108639, 1111555, 1113266, 1113267, 1114050, 1114190, 1115413, 1115432, 1115490, 1115517, 1115528, 1115555, 1115628, 1116574, 1117871, 1119126, 1119135, 1119144, 1119161, 1119251, 1119252, 1120603)\n",
      "rank: 12 stations at 96.4: (1108378, 1108448, 1108577, 1108682, 1108731, 1108735, 1108737, 1111546, 1114450, 1121731, 1122544)\n",
      "rank: 13 stations at 96.3: (1111548, 1116105, 1117741, 1118775, 1121035, 1121748)\n",
      "rank: 14 stations at 96.2: (1108437, 1108633, 1108655, 1108680, 1111509, 1111541, 1115444, 1115572, 1115578, 1116783, 1121692, 1122623)\n",
      "rank: 15 stations at 96.1: (1108461, 1108528, 1108685, 1115289, 1115420, 1116165, 1117809, 1117810, 1118326, 1121066, 1121401)\n",
      "rank: 16 stations at 96.0: (1108509, 1108541, 1108697, 1111556, 1121253, 1121702)\n",
      "rank: 17 stations at 95.9: (1108393, 1108699, 1108755, 1111540, 1120256)\n",
      "rank: 18 stations at 95.8: (1108287, 1115548, 1122494)\n",
      "rank: 19 stations at 95.7: (1108347, 1108385, 1108514, 1108601, 1108621, 1111530, 1111534, 1111572, 1123006, 1123124)\n",
      "rank: 20 stations at 95.6: (1108691, 1114817, 1118544, 1120754, 1123133)\n",
      "rank: 21 stations at 95.5: (1108441, 1108443, 1108556, 1108619, 1108631, 1108651, 1108749, 1113173, 1113181, 1114832, 1114854, 1118915)\n",
      "rank: 22 stations at 95.4: (1108615, 1108672, 1111539, 1111543, 1113279, 1125925)\n",
      "rank: 23 stations at 95.3: (1114806, 1119784, 1122536, 1123134, 1123135)\n",
      "rank: 24 stations at 95.2: (1123276,)\n",
      "rank: 25 stations at 95.1: (1108603, 1118020)\n",
      "rank: 26 stations at 95.0: (1108567, 1116593, 1121707)\n",
      "rank: 27 stations at 94.9: (1120683,)\n",
      "rank: 28 stations at 94.8: (1108425, 1108521, 1108764, 1112964, 1115912, 1116061)\n",
      "rank: 29 stations at 94.7: (1108326, 1108489, 1116594)\n",
      "rank: 30 stations at 94.6: (1108374, 1114649, 1114660, 1115269)\n",
      "rank: 31 stations at 94.5: (1108484, 1111566, 1114006, 1114734, 1114735, 1115713, 1120497)\n",
      "rank: 32 stations at 94.4: (1111558, 1117755, 1117762, 1122951)\n",
      "rank: 33 stations at 94.3: (1118636, 1125527, 1125531, 1125958)\n",
      "rank: 34 stations at 94.2: (1108463, 1115438, 1115802, 1122636)\n",
      "rank: 35 stations at 94.1: (1111545, 1111547, 1111564, 1120040)\n",
      "rank: 36 stations at 94.0: (1108607, 1108753, 1115565, 1119877)\n",
      "rank: 37 stations at 93.9: (1108747, 1115306, 1118924, 1121288, 1125835)\n",
      "rank: 38 stations at 93.8: (1108590, 1118348, 1125207, 1125219, 1125559)\n",
      "rank: 39 stations at 93.7: (1108643, 1121712, 1123282, 1125201, 1125575)\n",
      "rank: 40 stations at 93.6: (1108285, 1121001)\n",
      "rank: 41 stations at 93.5: (1115905, 1115972, 1115979, 1116055, 1119414, 1119903, 1119909, 1121724, 1121728, 1125546)\n",
      "rank: 42 stations at 93.4: (1114848,)\n",
      "rank: 43 stations at 93.1: (1115355, 1115463, 1121783)\n",
      "rank: 44 stations at 93.0: (1121757,)\n",
      "rank: 45 stations at 92.9: (1113017, 1114748)\n",
      "rank: 46 stations at 92.7: (1108358, 1119143, 1120018)\n",
      "rank: 47 stations at 92.4: (1114356,)\n",
      "rank: 48 stations at 92.3: (1108645,)\n",
      "rank: 49 stations at 92.2: (1108471, 1119170)\n",
      "rank: 50 stations at 92.0: (1125944,)\n",
      "rank: 51 stations at 91.9: (1108345, 1113486)\n",
      "rank: 52 stations at 91.8: (1116413,)\n",
      "rank: 53 stations at 91.7: (1123265,)\n",
      "rank: 54 stations at 91.6: (1114749,)\n",
      "rank: 55 stations at 91.4: (1114659, 1121760)\n",
      "rank: 56 stations at 91.3: (1113771, 1115964)\n",
      "rank: 57 stations at 91.1: (1108391, 1122637)\n",
      "rank: 58 stations at 90.9: (1119134,)\n",
      "rank: 59 stations at 90.8: (1115277,)\n",
      "rank: 60 stations at 90.3: (1123072,)\n",
      "rank: 61 stations at 90.1: (1111551, 1114457)\n",
      "rank: 62 stations at 89.9: (1108302,)\n",
      "rank: 63 stations at 89.8: (1108148,)\n",
      "rank: 64 stations at 89.7: (1108516,)\n",
      "rank: 65 stations at 89.6: (1114805,)\n",
      "rank: 66 stations at 89.3: (1115541,)\n",
      "rank: 67 stations at 89.2: (1113760, 1125733)\n",
      "rank: 68 stations at 89.1: (1118767,)\n",
      "rank: 69 stations at 89.0: (1113327,)\n",
      "rank: 70 stations at 88.9: (1108503, 1114254)\n",
      "rank: 71 stations at 88.8: (1108479,)\n",
      "rank: 72 stations at 88.6: (1108519, 1118333)\n",
      "rank: 73 stations at 88.4: (1111550,)\n",
      "rank: 74 stations at 88.3: (1118458,)\n",
      "rank: 75 stations at 88.1: (1116415,)\n",
      "rank: 76 stations at 87.9: (1108452, 1108491, 1116049)\n",
      "rank: 77 stations at 87.8: (1114708,)\n",
      "rank: 78 stations at 87.4: (1118677,)\n",
      "rank: 79 stations at 86.6: (1119125,)\n",
      "rank: 80 stations at 86.4: (1108363, 1117979)\n",
      "rank: 81 stations at 86.3: (1108336, 1119637)\n",
      "rank: 82 stations at 85.9: (1122693,)\n",
      "rank: 83 stations at 85.6: (1117724,)\n",
      "rank: 84 stations at 85.5: (1108387, 1114709)\n",
      "rank: 85 stations at 85.4: (1125721,)\n",
      "rank: 86 stations at 85.2: (1119804,)\n",
      "rank: 87 stations at 85.1: (1113985,)\n",
      "rank: 88 stations at 84.9: (1108356,)\n",
      "rank: 89 stations at 84.8: (1115426,)\n",
      "rank: 90 stations at 84.6: (1111553,)\n",
      "rank: 91 stations at 84.1: (1114721,)\n",
      "rank: 92 stations at 83.0: (1111520,)\n",
      "rank: 93 stations at 82.5: (1111552, 1120074)\n",
      "rank: 94 stations at 82.4: (1121387,)\n",
      "rank: 95 stations at 82.3: (1121771,)\n",
      "rank: 96 stations at 82.2: (1108769,)\n",
      "rank: 97 stations at 81.9: (1108669, 1118537)\n",
      "rank: 98 stations at 81.1: (1119102,)\n",
      "rank: 99 stations at 81.0: (1108665,)\n",
      "rank: 100 stations at 80.8: (1108773, 1114529, 1114534)\n",
      "rank: 101 stations at 79.6: (1117774,)\n",
      "rank: 102 stations at 79.5: (1123029,)\n",
      "rank: 103 stations at 79.3: (1119205, 1119232)\n",
      "rank: 104 stations at 78.9: (1108468,)\n",
      "rank: 105 stations at 78.7: (1114166,)\n",
      "rank: 106 stations at 78.5: (1123003,)\n",
      "rank: 107 stations at 78.4: (1114205,)\n",
      "rank: 108 stations at 78.1: (1123002,)\n",
      "rank: 109 stations at 78.0: (1113460,)\n",
      "rank: 110 stations at 77.3: (1120994,)\n",
      "rank: 111 stations at 77.2: (1114648, 1115356)\n",
      "rank: 112 stations at 76.9: (1116112,)\n",
      "rank: 113 stations at 76.2: (1108751, 1121800, 1121803)\n",
      "rank: 114 stations at 75.7: (1121067,)\n",
      "rank: 115 stations at 75.5: (1119171,)\n",
      "rank: 116 stations at 75.4: (1114157,)\n",
      "rank: 117 stations at 75.2: (1115749,)\n",
      "rank: 118 stations at 74.9: (1120081,)\n",
      "rank: 119 stations at 74.7: (1114818,)\n",
      "rank: 120 stations at 74.5: (1113297,)\n",
      "rank: 121 stations at 74.4: (1111565,)\n",
      "rank: 122 stations at 74.0: (1119051,)\n",
      "rank: 123 stations at 73.8: (1122929,)\n",
      "rank: 124 stations at 73.4: (1114091, 1119817)\n",
      "rank: 125 stations at 73.3: (1117789,)\n",
      "rank: 126 stations at 73.2: (1108311,)\n",
      "rank: 127 stations at 73.1: (1111510, 1114035, 1117857, 1119797, 1125359)\n",
      "rank: 128 stations at 72.9: (1115763, 1125805)\n",
      "rank: 129 stations at 72.7: (1114720, 1117909)\n",
      "rank: 130 stations at 72.3: (1111561,)\n",
      "rank: 131 stations at 72.1: (1126191,)\n",
      "rank: 132 stations at 72.0: (1125769,)\n",
      "rank: 133 stations at 71.7: (1121812,)\n",
      "rank: 134 stations at 71.4: (1108657,)\n",
      "rank: 135 stations at 71.1: (1120033,)\n",
      "rank: 136 stations at 70.9: (1108757, 1119021)\n",
      "rank: 137 stations at 70.7: (1111544, 1119117)\n",
      "rank: 138 stations at 70.6: (1108719,)\n",
      "rank: 139 stations at 70.5: (1122487,)\n",
      "rank: 140 stations at 70.2: (1119186, 1119187)\n",
      "rank: 141 stations at 70.0: (1117818,)\n",
      "rank: 142 stations at 69.7: (1114546,)\n",
      "rank: 143 stations at 69.3: (1114131, 1114136, 1114171, 1114540)\n",
      "rank: 144 stations at 69.2: (1114108, 1114147)\n",
      "rank: 145 stations at 69.1: (1108635,)\n",
      "rank: 146 stations at 69.0: (1114520,)\n",
      "rank: 147 stations at 68.9: (1118941,)\n",
      "rank: 148 stations at 68.8: (1121680,)\n",
      "rank: 149 stations at 68.5: (1118575,)\n",
      "rank: 150 stations at 68.2: (1119086,)\n",
      "rank: 151 stations at 67.7: (1123069,)\n",
      "rank: 152 stations at 67.6: (1125829,)\n",
      "rank: 153 stations at 65.4: (1122412,)\n",
      "rank: 154 stations at 64.9: (1108323,)\n",
      "rank: 155 stations at 64.6: (1108481,)\n",
      "rank: 156 stations at 64.4: (1120025,)\n",
      "rank: 157 stations at 64.3: (1117782,)\n",
      "rank: 158 stations at 63.7: (1120597,)\n",
      "rank: 159 stations at 63.2: (1122528,)\n",
      "rank: 160 stations at 60.6: (1119118,)\n",
      "rank: 161 stations at 60.4: (1121815,)\n",
      "rank: 162 stations at 59.5: (1119068,)\n",
      "rank: 163 stations at 59.0: (1111549,)\n",
      "rank: 164 stations at 58.7: (1114141,)\n",
      "rank: 165 stations at 58.3: (1114525,)\n",
      "rank: 166 stations at 57.9: (1119076,)\n",
      "rank: 167 stations at 57.0: (1118663,)\n",
      "rank: 168 stations at 55.9: (1114162,)\n",
      "rank: 169 stations at 54.4: (1122712,)\n",
      "rank: 170 stations at 54.0: (1113473,)\n",
      "rank: 171 stations at 53.5: (1118591,)\n",
      "rank: 172 stations at 52.6: (1126175,)\n",
      "rank: 173 stations at 52.5: (1126148,)\n",
      "rank: 174 stations at 51.3: (1108653,)\n",
      "rank: 175 stations at 50.0: (1114376,)\n",
      "rank: 176 stations at 49.4: (1119020,)\n",
      "rank: 177 stations at 48.8: (1125631, 1125737)\n",
      "rank: 178 stations at 48.7: (1111532, 1115620)\n",
      "rank: 179 stations at 48.6: (1117890,)\n",
      "rank: 180 stations at 48.3: (1119075, 1119162)\n",
      "rank: 181 stations at 47.6: (1123087,)\n",
      "rank: 182 stations at 47.2: (1119067,)\n",
      "rank: 183 stations at 46.0: (1123086,)\n",
      "rank: 184 stations at 45.3: (1119666,)\n",
      "rank: 185 stations at 42.5: (1125897,)\n",
      "rank: 186 stations at 42.4: (1122685,)\n",
      "rank: 187 stations at 41.1: (1121074, 1125780)\n",
      "rank: 188 stations at 40.8: (1114326,)\n",
      "rank: 189 stations at 39.4: (1119828, 1119834)\n",
      "rank: 190 stations at 38.3: (1114484, 1114695)\n",
      "rank: 191 stations at 38.1: (1114491,)\n",
      "rank: 192 stations at 37.5: (1119085,)\n",
      "rank: 193 stations at 37.0: (1121780,)\n",
      "rank: 194 stations at 36.5: (1116424,)\n",
      "rank: 195 stations at 34.9: (1111568,)\n",
      "rank: 196 stations at 32.4: (1114684,)\n",
      "rank: 197 stations at 30.8: (1119050,)\n",
      "rank: 198 stations at 30.0: (1114153, 1114177)\n",
      "rank: 199 stations at 29.8: (1111567,)\n",
      "rank: 200 stations at 29.2: (1114696,)\n",
      "rank: 201 stations at 28.9: (1114409,)\n",
      "rank: 202 stations at 28.5: (1122678,)\n",
      "rank: 203 stations at 26.4: (1119101,)\n",
      "rank: 204 stations at 25.6: (1126035,)\n",
      "rank: 205 stations at 25.0: (1114511,)\n",
      "rank: 206 stations at 24.5: (1126027,)\n",
      "rank: 207 stations at 23.5: (1119195, 1119196)\n",
      "rank: 208 stations at 21.2: (1114515,)\n",
      "rank: 209 stations at 18.6: (1121754,)\n",
      "rank: 210 stations at 12.8: (1122380,)\n",
      "rank: 211 stations at 11.1: (1121794,)\n",
      "rank: 212 stations at 10.9: (1121751,)\n",
      "rank: 213 stations at 9.3: (1121797,)\n",
      "rank: 214 stations at 8.5: (1118496,)\n",
      "rank: 215 stations at 8.3: (1121740,)\n",
      "rank: 216 stations at 5.7: (1121745,)\n",
      "rank: 217 stations at 4.7: (1123088,)\n",
      "rank: 218 stations at 3.0: (1116151,)\n",
      "rank: 219 stations at 2.6: (1116164,)\n",
      "rank: 220 stations at 1.7: (1114683,)\n",
      "rank: 221 stations at 0.3: (1117945,)\n",
      "rank: 222 stations at 0.2: (1123331,)\n",
      "rank: 223 stations at 0.0: (1108403, 1113072, 1113680, 1114847, 1117920, 1119041, 1119042, 1119059, 1119060, 1119093, 1119094, 1119109, 1119110, 1119178, 1119179, 1119780, 1121394, 1122781, 1122942, 1122945, 1122948, 1122983, 1122991, 1123089, 1123261, 1123270, 1125912, 1125913, 1126006, 1126156, 1126163)\n"
     ]
    }
   ],
   "source": [
    "# print out the rank, % observed (rounded to .1) and the list of stations\n",
    "for rank, ind in enumerate(best_station_list.index):\n",
    "    print \"rank: %s stations at %s: %s\" % (rank+1, ind, str(best_station_list.ix[ind][0]))"
   ]
  },
  {
   "cell_type": "markdown",
   "metadata": {
    "collapsed": false,
    "nbpresent": {
     "id": "cf072cb5-9049-4ecd-9cfc-aeb104d9f89f"
    },
    "scrolled": true
   },
   "source": [
    "# Combine Station Health with Meta to Determine Health Rank of Freeways"
   ]
  },
  {
   "cell_type": "code",
   "execution_count": 65,
   "metadata": {
    "collapsed": false,
    "nbpresent": {
     "id": "82f9018a-4fc0-4132-a4cc-51400b7469ee"
    }
   },
   "outputs": [
    {
     "name": "stdout",
     "output_type": "stream",
     "text": [
      "(1541, 13)\n"
     ]
    }
   ],
   "source": [
    "meta_cols = list(no_dup_keep_last.columns)\n",
    "meta_cols[0] = 'Station'\n",
    "new_meta_frame = no_dup_keep_last.copy()\n",
    "new_meta_frame.columns = meta_cols\n",
    "new_meta_cols = meta_cols[0:13]\n",
    "new_meta_frame = new_meta_frame[new_meta_cols]\n",
    "print new_meta_frame.shape\n"
   ]
  },
  {
   "cell_type": "code",
   "execution_count": 66,
   "metadata": {
    "collapsed": false
   },
   "outputs": [],
   "source": [
    "test = ML_five_min_frame.merge(new_meta_frame, how='left')"
   ]
  },
  {
   "cell_type": "code",
   "execution_count": 67,
   "metadata": {
    "collapsed": false
   },
   "outputs": [
    {
     "data": {
      "text/plain": [
       "(82226723, 24)"
      ]
     },
     "execution_count": 67,
     "metadata": {},
     "output_type": "execute_result"
    }
   ],
   "source": [
    "test.shape\n"
   ]
  },
  {
   "cell_type": "code",
   "execution_count": 68,
   "metadata": {
    "collapsed": false
   },
   "outputs": [
    {
     "data": {
      "text/html": [
       "<div>\n",
       "<table border=\"1\" class=\"dataframe\">\n",
       "  <thead>\n",
       "    <tr style=\"text-align: right;\">\n",
       "      <th></th>\n",
       "      <th>Unnamed: 0</th>\n",
       "      <th>Timestamp</th>\n",
       "      <th>Station</th>\n",
       "      <th>District</th>\n",
       "      <th>Freeway #</th>\n",
       "      <th>Direction</th>\n",
       "      <th>Lane Type</th>\n",
       "      <th>Station Length</th>\n",
       "      <th>Samples</th>\n",
       "      <th>% Observed</th>\n",
       "      <th>...</th>\n",
       "      <th>Dir</th>\n",
       "      <th>County</th>\n",
       "      <th>City</th>\n",
       "      <th>State_PM</th>\n",
       "      <th>Abs_PM</th>\n",
       "      <th>Latitude</th>\n",
       "      <th>Longitude</th>\n",
       "      <th>Length</th>\n",
       "      <th>Type</th>\n",
       "      <th>Lanes</th>\n",
       "    </tr>\n",
       "  </thead>\n",
       "  <tbody>\n",
       "    <tr>\n",
       "      <th>0</th>\n",
       "      <td>86</td>\n",
       "      <td>01/01/2015 00:00:00</td>\n",
       "      <td>1108148</td>\n",
       "      <td>11</td>\n",
       "      <td>15</td>\n",
       "      <td>S</td>\n",
       "      <td>ML</td>\n",
       "      <td>0.513</td>\n",
       "      <td>51</td>\n",
       "      <td>67</td>\n",
       "      <td>...</td>\n",
       "      <td>S</td>\n",
       "      <td>73</td>\n",
       "      <td>66000.0</td>\n",
       "      <td>M14.876</td>\n",
       "      <td>15.123</td>\n",
       "      <td>32.901576</td>\n",
       "      <td>-117.116607</td>\n",
       "      <td>0.513</td>\n",
       "      <td>ML</td>\n",
       "      <td>6</td>\n",
       "    </tr>\n",
       "    <tr>\n",
       "      <th>1</th>\n",
       "      <td>87</td>\n",
       "      <td>01/01/2015 00:00:00</td>\n",
       "      <td>1108285</td>\n",
       "      <td>11</td>\n",
       "      <td>94</td>\n",
       "      <td>W</td>\n",
       "      <td>ML</td>\n",
       "      <td>0.313</td>\n",
       "      <td>30</td>\n",
       "      <td>75</td>\n",
       "      <td>...</td>\n",
       "      <td>W</td>\n",
       "      <td>73</td>\n",
       "      <td>66000.0</td>\n",
       "      <td>2.235</td>\n",
       "      <td>0.819</td>\n",
       "      <td>32.713318</td>\n",
       "      <td>-117.134145</td>\n",
       "      <td>0.313</td>\n",
       "      <td>ML</td>\n",
       "      <td>4</td>\n",
       "    </tr>\n",
       "    <tr>\n",
       "      <th>2</th>\n",
       "      <td>89</td>\n",
       "      <td>01/01/2015 00:00:00</td>\n",
       "      <td>1108287</td>\n",
       "      <td>11</td>\n",
       "      <td>94</td>\n",
       "      <td>W</td>\n",
       "      <td>ML</td>\n",
       "      <td>0.319</td>\n",
       "      <td>40</td>\n",
       "      <td>100</td>\n",
       "      <td>...</td>\n",
       "      <td>W</td>\n",
       "      <td>73</td>\n",
       "      <td>66000.0</td>\n",
       "      <td>2.621</td>\n",
       "      <td>1.205</td>\n",
       "      <td>32.714211</td>\n",
       "      <td>-117.127908</td>\n",
       "      <td>0.319</td>\n",
       "      <td>ML</td>\n",
       "      <td>4</td>\n",
       "    </tr>\n",
       "    <tr>\n",
       "      <th>3</th>\n",
       "      <td>91</td>\n",
       "      <td>01/01/2015 00:00:00</td>\n",
       "      <td>1108289</td>\n",
       "      <td>11</td>\n",
       "      <td>94</td>\n",
       "      <td>W</td>\n",
       "      <td>ML</td>\n",
       "      <td>0.319</td>\n",
       "      <td>40</td>\n",
       "      <td>100</td>\n",
       "      <td>...</td>\n",
       "      <td>W</td>\n",
       "      <td>73</td>\n",
       "      <td>66000.0</td>\n",
       "      <td>3.137</td>\n",
       "      <td>1.721</td>\n",
       "      <td>32.716724</td>\n",
       "      <td>-117.119831</td>\n",
       "      <td>0.319</td>\n",
       "      <td>ML</td>\n",
       "      <td>4</td>\n",
       "    </tr>\n",
       "    <tr>\n",
       "      <th>4</th>\n",
       "      <td>93</td>\n",
       "      <td>01/01/2015 00:00:00</td>\n",
       "      <td>1108291</td>\n",
       "      <td>11</td>\n",
       "      <td>94</td>\n",
       "      <td>W</td>\n",
       "      <td>ML</td>\n",
       "      <td>0.206</td>\n",
       "      <td>50</td>\n",
       "      <td>100</td>\n",
       "      <td>...</td>\n",
       "      <td>W</td>\n",
       "      <td>73</td>\n",
       "      <td>66000.0</td>\n",
       "      <td>3.26</td>\n",
       "      <td>1.844</td>\n",
       "      <td>32.717134</td>\n",
       "      <td>-117.117861</td>\n",
       "      <td>0.206</td>\n",
       "      <td>ML</td>\n",
       "      <td>5</td>\n",
       "    </tr>\n",
       "  </tbody>\n",
       "</table>\n",
       "<p>5 rows × 24 columns</p>\n",
       "</div>"
      ],
      "text/plain": [
       "   Unnamed: 0            Timestamp  Station  District  Freeway # Direction  \\\n",
       "0          86  01/01/2015 00:00:00  1108148        11         15         S   \n",
       "1          87  01/01/2015 00:00:00  1108285        11         94         W   \n",
       "2          89  01/01/2015 00:00:00  1108287        11         94         W   \n",
       "3          91  01/01/2015 00:00:00  1108289        11         94         W   \n",
       "4          93  01/01/2015 00:00:00  1108291        11         94         W   \n",
       "\n",
       "  Lane Type  Station Length  Samples  % Observed  ...    Dir  County     City  \\\n",
       "0        ML           0.513       51          67  ...      S      73  66000.0   \n",
       "1        ML           0.313       30          75  ...      W      73  66000.0   \n",
       "2        ML           0.319       40         100  ...      W      73  66000.0   \n",
       "3        ML           0.319       40         100  ...      W      73  66000.0   \n",
       "4        ML           0.206       50         100  ...      W      73  66000.0   \n",
       "\n",
       "   State_PM  Abs_PM   Latitude   Longitude Length  Type  Lanes  \n",
       "0   M14.876  15.123  32.901576 -117.116607  0.513    ML      6  \n",
       "1     2.235   0.819  32.713318 -117.134145  0.313    ML      4  \n",
       "2     2.621   1.205  32.714211 -117.127908  0.319    ML      4  \n",
       "3     3.137   1.721  32.716724 -117.119831  0.319    ML      4  \n",
       "4      3.26   1.844  32.717134 -117.117861  0.206    ML      5  \n",
       "\n",
       "[5 rows x 24 columns]"
      ]
     },
     "execution_count": 68,
     "metadata": {},
     "output_type": "execute_result"
    }
   ],
   "source": [
    "test.head()"
   ]
  },
  {
   "cell_type": "code",
   "execution_count": 69,
   "metadata": {
    "collapsed": false
   },
   "outputs": [
    {
     "data": {
      "text/plain": [
       "Index([u'Unnamed: 0', u'Timestamp', u'Station', u'District', u'Freeway #',\n",
       "       u'Direction', u'Lane Type', u'Station Length', u'Samples',\n",
       "       u'% Observed', u'Total Flow', u'Avg Occupancy', u'Avg Speed', u'Fwy',\n",
       "       u'Dir', u'County', u'City', u'State_PM', u'Abs_PM', u'Latitude',\n",
       "       u'Longitude', u'Length', u'Type', u'Lanes'],\n",
       "      dtype='object')"
      ]
     },
     "execution_count": 69,
     "metadata": {},
     "output_type": "execute_result"
    }
   ],
   "source": [
    "test.columns"
   ]
  },
  {
   "cell_type": "code",
   "execution_count": 70,
   "metadata": {
    "collapsed": false,
    "nbpresent": {
     "id": "8979b66b-23b2-46e5-9c27-cf24fdf438fc"
    }
   },
   "outputs": [],
   "source": [
    "merge_groupby = test.groupby(['Fwy', 'Dir', 'Station'])['% Observed'].mean()"
   ]
  },
  {
   "cell_type": "code",
   "execution_count": 71,
   "metadata": {
    "collapsed": false
   },
   "outputs": [
    {
     "data": {
      "text/plain": [
       "Fwy  Dir  Station\n",
       "5    N    1108437    96.168968\n",
       "          1108507    97.427402\n",
       "          1108509    95.958784\n",
       "          1108512    97.503316\n",
       "          1108514    95.731422\n",
       "Name: % Observed, dtype: float64"
      ]
     },
     "execution_count": 71,
     "metadata": {},
     "output_type": "execute_result"
    }
   ],
   "source": [
    "merge_groupby.head()"
   ]
  },
  {
   "cell_type": "markdown",
   "metadata": {},
   "source": [
    "## Ranked List of Freeways based upon % Observed average over all Stations"
   ]
  },
  {
   "cell_type": "code",
   "execution_count": 72,
   "metadata": {
    "collapsed": false
   },
   "outputs": [
    {
     "data": {
      "text/html": [
       "<div>\n",
       "<table border=\"1\" class=\"dataframe\">\n",
       "  <thead>\n",
       "    <tr style=\"text-align: right;\">\n",
       "      <th></th>\n",
       "      <th>Fwy</th>\n",
       "      <th>Dir</th>\n",
       "      <th>% Observed</th>\n",
       "    </tr>\n",
       "  </thead>\n",
       "  <tbody>\n",
       "    <tr>\n",
       "      <th>1</th>\n",
       "      <td>54</td>\n",
       "      <td>E</td>\n",
       "      <td>96.616906</td>\n",
       "    </tr>\n",
       "    <tr>\n",
       "      <th>2</th>\n",
       "      <td>54</td>\n",
       "      <td>W</td>\n",
       "      <td>96.148572</td>\n",
       "    </tr>\n",
       "    <tr>\n",
       "      <th>3</th>\n",
       "      <td>94</td>\n",
       "      <td>W</td>\n",
       "      <td>95.220825</td>\n",
       "    </tr>\n",
       "    <tr>\n",
       "      <th>4</th>\n",
       "      <td>78</td>\n",
       "      <td>W</td>\n",
       "      <td>94.022544</td>\n",
       "    </tr>\n",
       "    <tr>\n",
       "      <th>5</th>\n",
       "      <td>8</td>\n",
       "      <td>W</td>\n",
       "      <td>93.449684</td>\n",
       "    </tr>\n",
       "    <tr>\n",
       "      <th>6</th>\n",
       "      <td>5</td>\n",
       "      <td>S</td>\n",
       "      <td>91.523882</td>\n",
       "    </tr>\n",
       "    <tr>\n",
       "      <th>7</th>\n",
       "      <td>78</td>\n",
       "      <td>E</td>\n",
       "      <td>90.820399</td>\n",
       "    </tr>\n",
       "    <tr>\n",
       "      <th>8</th>\n",
       "      <td>5</td>\n",
       "      <td>N</td>\n",
       "      <td>90.301820</td>\n",
       "    </tr>\n",
       "    <tr>\n",
       "      <th>9</th>\n",
       "      <td>8</td>\n",
       "      <td>E</td>\n",
       "      <td>90.235154</td>\n",
       "    </tr>\n",
       "    <tr>\n",
       "      <th>10</th>\n",
       "      <td>15</td>\n",
       "      <td>S</td>\n",
       "      <td>88.591207</td>\n",
       "    </tr>\n",
       "    <tr>\n",
       "      <th>11</th>\n",
       "      <td>94</td>\n",
       "      <td>E</td>\n",
       "      <td>88.038504</td>\n",
       "    </tr>\n",
       "    <tr>\n",
       "      <th>12</th>\n",
       "      <td>163</td>\n",
       "      <td>N</td>\n",
       "      <td>84.416897</td>\n",
       "    </tr>\n",
       "    <tr>\n",
       "      <th>13</th>\n",
       "      <td>15</td>\n",
       "      <td>N</td>\n",
       "      <td>84.266869</td>\n",
       "    </tr>\n",
       "    <tr>\n",
       "      <th>14</th>\n",
       "      <td>163</td>\n",
       "      <td>S</td>\n",
       "      <td>83.667346</td>\n",
       "    </tr>\n",
       "    <tr>\n",
       "      <th>15</th>\n",
       "      <td>905</td>\n",
       "      <td>W</td>\n",
       "      <td>80.552763</td>\n",
       "    </tr>\n",
       "    <tr>\n",
       "      <th>16</th>\n",
       "      <td>805</td>\n",
       "      <td>N</td>\n",
       "      <td>80.395404</td>\n",
       "    </tr>\n",
       "    <tr>\n",
       "      <th>17</th>\n",
       "      <td>805</td>\n",
       "      <td>S</td>\n",
       "      <td>77.672324</td>\n",
       "    </tr>\n",
       "    <tr>\n",
       "      <th>18</th>\n",
       "      <td>905</td>\n",
       "      <td>E</td>\n",
       "      <td>77.430860</td>\n",
       "    </tr>\n",
       "    <tr>\n",
       "      <th>19</th>\n",
       "      <td>56</td>\n",
       "      <td>E</td>\n",
       "      <td>76.065738</td>\n",
       "    </tr>\n",
       "    <tr>\n",
       "      <th>20</th>\n",
       "      <td>56</td>\n",
       "      <td>W</td>\n",
       "      <td>74.748980</td>\n",
       "    </tr>\n",
       "    <tr>\n",
       "      <th>21</th>\n",
       "      <td>52</td>\n",
       "      <td>W</td>\n",
       "      <td>70.490618</td>\n",
       "    </tr>\n",
       "    <tr>\n",
       "      <th>22</th>\n",
       "      <td>125</td>\n",
       "      <td>N</td>\n",
       "      <td>70.107350</td>\n",
       "    </tr>\n",
       "    <tr>\n",
       "      <th>23</th>\n",
       "      <td>125</td>\n",
       "      <td>S</td>\n",
       "      <td>69.655635</td>\n",
       "    </tr>\n",
       "    <tr>\n",
       "      <th>24</th>\n",
       "      <td>52</td>\n",
       "      <td>E</td>\n",
       "      <td>67.806161</td>\n",
       "    </tr>\n",
       "  </tbody>\n",
       "</table>\n",
       "</div>"
      ],
      "text/plain": [
       "    Fwy Dir  % Observed\n",
       "1    54   E   96.616906\n",
       "2    54   W   96.148572\n",
       "3    94   W   95.220825\n",
       "4    78   W   94.022544\n",
       "5     8   W   93.449684\n",
       "6     5   S   91.523882\n",
       "7    78   E   90.820399\n",
       "8     5   N   90.301820\n",
       "9     8   E   90.235154\n",
       "10   15   S   88.591207\n",
       "11   94   E   88.038504\n",
       "12  163   N   84.416897\n",
       "13   15   N   84.266869\n",
       "14  163   S   83.667346\n",
       "15  905   W   80.552763\n",
       "16  805   N   80.395404\n",
       "17  805   S   77.672324\n",
       "18  905   E   77.430860\n",
       "19   56   E   76.065738\n",
       "20   56   W   74.748980\n",
       "21   52   W   70.490618\n",
       "22  125   N   70.107350\n",
       "23  125   S   69.655635\n",
       "24   52   E   67.806161"
      ]
     },
     "execution_count": 72,
     "metadata": {},
     "output_type": "execute_result"
    }
   ],
   "source": [
    "freeway_observed = merge_groupby.reset_index().groupby(['Fwy', 'Dir'])['% Observed'].mean()\n",
    "freeway_observed = freeway_observed.reset_index().sort_values(by='% Observed', ascending=False)\n",
    "freeway_observed.index = np.arange(1, len(freeway_observed)+1)\n",
    "freeway_observed"
   ]
  },
  {
   "cell_type": "markdown",
   "metadata": {
    "nbpresent": {
     "id": "be5ecc48-c69b-427a-9615-baaa406cd76a"
    }
   },
   "source": [
    "## Quick analysis to see what files are missing per Year"
   ]
  },
  {
   "cell_type": "code",
   "execution_count": 73,
   "metadata": {
    "collapsed": false,
    "nbpresent": {
     "id": "3899b7a7-e51e-44b2-a1f1-82c190f9d2b7"
    }
   },
   "outputs": [
    {
     "name": "stdout",
     "output_type": "stream",
     "text": [
      "2016 files\n",
      "district: d10 num_files: 364 percent: 0.994535519126\n",
      "district: d11 num_files: 364 percent: 0.994535519126\n",
      "district: d12 num_files: 364 percent: 0.994535519126\n",
      "district: d3 num_files: 364 percent: 0.994535519126\n",
      "district: d4 num_files: 364 percent: 0.994535519126\n",
      "district: d5 num_files: 364 percent: 0.994535519126\n",
      "district: d6 num_files: 364 percent: 0.994535519126\n",
      "district: d7 num_files: 364 percent: 0.994535519126\n",
      "district: d8 num_files: 364 percent: 0.994535519126\n",
      "\n",
      "2015 files\n",
      "district: d10 num_files: 365 percent: 1.0\n",
      "district: d11 num_files: 365 percent: 1.0\n",
      "district: d12 num_files: 365 percent: 1.0\n",
      "district: d3 num_files: 365 percent: 1.0\n",
      "district: d4 num_files: 365 percent: 1.0\n",
      "district: d5 num_files: 365 percent: 1.0\n",
      "district: d6 num_files: 365 percent: 1.0\n",
      "district: d7 num_files: 365 percent: 1.0\n",
      "district: d8 num_files: 365 percent: 1.0\n"
     ]
    }
   ],
   "source": [
    "# check for missing files through the year.\n",
    "days_in_year = 365\n",
    "days_in_leap = days_in_year + 1\n",
    "leap_year = [2008, 2012, 2016]\n",
    "\n",
    "base_path_2016 = '/Users/bohr/workspace/capstone/cohort2/output/station_5min/2016'\n",
    "base_path_2015 = '/Users/bohr/workspace/capstone/cohort2/output/station_5min/2015'\n",
    "\n",
    "districts = ['d10', 'd11', 'd12', 'd3', 'd4', 'd5', 'd6', 'd7', 'd8']\n",
    "master = None\n",
    "print \"2016 files\"\n",
    "for district in districts:\n",
    "    full_path = base_path_2016 + '/' + district\n",
    "    files_found = [f for f in os.listdir(full_path) if os.path.isfile(os.path.join(full_path, f))]\n",
    "    num_files = len(files_found)\n",
    "    print \"district: %s num_files: %s percent: %s\" % (district, num_files, num_files/float(days_in_leap))\n",
    "    \n",
    "print \"\\n2015 files\"\n",
    "for district in districts:\n",
    "    full_path = base_path_2015 + '/' + district\n",
    "    files_found = [f for f in os.listdir(full_path) if os.path.isfile(os.path.join(full_path, f))]\n",
    "    num_files = len(files_found)\n",
    "    print \"district: %s num_files: %s percent: %s\" % (district, num_files, num_files/float(days_in_year))\n"
   ]
  },
  {
   "cell_type": "markdown",
   "metadata": {
    "nbpresent": {
     "id": "443be173-fe91-4a1b-b622-c8b49889640e"
    }
   },
   "source": [
    "# Check to see how many stations are always down"
   ]
  },
  {
   "cell_type": "code",
   "execution_count": 74,
   "metadata": {
    "collapsed": false,
    "nbpresent": {
     "id": "05b0fe65-a233-43f6-9d3c-3bf7c730ea6c"
    }
   },
   "outputs": [
    {
     "data": {
      "text/plain": [
       "Index([u'Unnamed: 0', u'Timestamp', u'Station', u'District', u'Freeway #',\n",
       "       u'Direction', u'Lane Type', u'Station Length', u'Samples',\n",
       "       u'% Observed', u'Total Flow', u'Avg Occupancy', u'Avg Speed'],\n",
       "      dtype='object')"
      ]
     },
     "execution_count": 74,
     "metadata": {},
     "output_type": "execute_result"
    }
   ],
   "source": [
    "five_min_frame.columns"
   ]
  },
  {
   "cell_type": "code",
   "execution_count": 75,
   "metadata": {
    "collapsed": false,
    "nbpresent": {
     "id": "013ad4a5-c24d-452b-86a8-d3711cfc65ba"
    }
   },
   "outputs": [],
   "source": [
    "five_min_by_station = five_min_frame[['Station', '% Observed', 'Timestamp']].set_index(['Station'])\\\n",
    "    .groupby(level=0)"
   ]
  },
  {
   "cell_type": "code",
   "execution_count": 76,
   "metadata": {
    "collapsed": false,
    "nbpresent": {
     "id": "a6f1449a-3f62-4f9d-9c1d-990e9e8d8e0e"
    }
   },
   "outputs": [],
   "source": [
    "station_observed = five_min_by_station.mean()"
   ]
  },
  {
   "cell_type": "code",
   "execution_count": 77,
   "metadata": {
    "collapsed": false,
    "nbpresent": {
     "id": "3fd24250-efcb-4dd7-b355-f5d0b89e7410"
    }
   },
   "outputs": [
    {
     "name": "stdout",
     "output_type": "stream",
     "text": [
      "% Observed    70\n",
      "dtype: int64\n",
      "percentage always down: % Observed    4.542505\n",
      "dtype: float64\n"
     ]
    }
   ],
   "source": [
    "total = station_observed.count()\n",
    "always_down = station_observed[station_observed['% Observed'] == 0].count()\n",
    "print always_down\n",
    "print \"percentage always down: %s\" % (always_down/float(total)*100)"
   ]
  },
  {
   "cell_type": "code",
   "execution_count": null,
   "metadata": {
    "collapsed": true
   },
   "outputs": [],
   "source": []
  }
 ],
 "metadata": {
  "anaconda-cloud": {},
  "kernelspec": {
   "display_name": "Python [default]",
   "language": "python",
   "name": "python2"
  },
  "language_info": {
   "codemirror_mode": {
    "name": "ipython",
    "version": 2
   },
   "file_extension": ".py",
   "mimetype": "text/x-python",
   "name": "python",
   "nbconvert_exporter": "python",
   "pygments_lexer": "ipython2",
   "version": "2.7.12"
  },
  "nbpresent": {
   "slides": {
    "03bcca7b-cf79-4025-96db-7e2dd479ba71": {
     "id": "03bcca7b-cf79-4025-96db-7e2dd479ba71",
     "prev": "420780ed-e771-478b-abb5-aec4c3a83a78",
     "regions": {
      "e220c8b9-a897-4375-a4d0-ebc7bfa6207c": {
       "attrs": {
        "height": 0.8,
        "width": 0.8,
        "x": 0.1,
        "y": 0.1
       },
       "content": {
        "cell": "393a560e-e063-4c66-b7cb-53b0c9ec516a",
        "part": "whole"
       },
       "id": "e220c8b9-a897-4375-a4d0-ebc7bfa6207c"
      }
     }
    },
    "03e2a95a-f302-4f1a-9c71-c1dc5bca28b9": {
     "id": "03e2a95a-f302-4f1a-9c71-c1dc5bca28b9",
     "prev": "7bc5099a-63bb-4851-ba9c-5660084d0ab9",
     "regions": {
      "363c86ef-8097-479e-9663-7313374045ab": {
       "attrs": {
        "height": 0.8,
        "width": 0.8,
        "x": 0.1,
        "y": 0.1
       },
       "content": {
        "cell": "901d11c7-2fb7-45b8-b1d0-396a1d08377a",
        "part": "whole"
       },
       "id": "363c86ef-8097-479e-9663-7313374045ab"
      }
     }
    },
    "0440b035-43c2-4a52-bd66-81a6697bf1b4": {
     "id": "0440b035-43c2-4a52-bd66-81a6697bf1b4",
     "prev": "9fa23176-428a-4144-9234-9d6cc0eca4fa",
     "regions": {
      "9bc5dfc8-df8f-4830-bed6-b00103b6bd72": {
       "attrs": {
        "height": 0.8,
        "width": 0.8,
        "x": 0.1,
        "y": 0.1
       },
       "content": {
        "cell": "0a83143d-99d0-43c4-a34e-f565a9ce9335",
        "part": "whole"
       },
       "id": "9bc5dfc8-df8f-4830-bed6-b00103b6bd72"
      }
     }
    },
    "07cc9663-0302-4e83-bf72-f12b6545a678": {
     "id": "07cc9663-0302-4e83-bf72-f12b6545a678",
     "prev": "2dca9594-330f-481d-9bb8-9ec1a3927866",
     "regions": {
      "fd5267ce-9ebe-44f5-b32b-e2f310b69cfe": {
       "attrs": {
        "height": 0.8,
        "width": 0.8,
        "x": 0.1,
        "y": 0.1
       },
       "content": {
        "cell": "1199004f-cd65-4f09-86c6-e863cebc5db0",
        "part": "whole"
       },
       "id": "fd5267ce-9ebe-44f5-b32b-e2f310b69cfe"
      }
     }
    },
    "0a030960-2d6e-4b4c-bc46-525f189eed30": {
     "id": "0a030960-2d6e-4b4c-bc46-525f189eed30",
     "prev": "1f132748-06ab-4201-963d-c8addb7d4028",
     "regions": {
      "50514d82-1f72-45a2-bb44-48428a351ff2": {
       "attrs": {
        "height": 0.8,
        "width": 0.8,
        "x": 0.1,
        "y": 0.1
       },
       "content": {
        "cell": "65673779-edfb-456d-82fe-93f3a1e16763",
        "part": "whole"
       },
       "id": "50514d82-1f72-45a2-bb44-48428a351ff2"
      }
     }
    },
    "135ada75-9e10-48d6-a611-5912d904f2a2": {
     "id": "135ada75-9e10-48d6-a611-5912d904f2a2",
     "prev": "86921883-c75b-468e-987f-edcf8b0a03bc",
     "regions": {
      "7f9c6e6f-9325-4555-adda-7988b815f09a": {
       "attrs": {
        "height": 0.8,
        "width": 0.8,
        "x": 0.1,
        "y": 0.1
       },
       "content": {
        "cell": "eef75eb0-ae43-4f08-952a-aa4a71041668",
        "part": "whole"
       },
       "id": "7f9c6e6f-9325-4555-adda-7988b815f09a"
      }
     }
    },
    "13e880a1-b376-44e6-9550-860947c0d1c2": {
     "id": "13e880a1-b376-44e6-9550-860947c0d1c2",
     "prev": "4f82126a-3852-49b0-b759-d33844d9649d",
     "regions": {
      "957f9e81-438d-4ef4-96b0-fb2999c98c2d": {
       "attrs": {
        "height": 0.8,
        "width": 0.8,
        "x": 0.1,
        "y": 0.1
       },
       "content": {
        "cell": "fb3c1fff-7a12-4bc5-9aa3-539675cf1a0b",
        "part": "whole"
       },
       "id": "957f9e81-438d-4ef4-96b0-fb2999c98c2d"
      }
     }
    },
    "141861e5-2c60-45da-9a5f-ba4ae0d41063": {
     "id": "141861e5-2c60-45da-9a5f-ba4ae0d41063",
     "prev": "03e2a95a-f302-4f1a-9c71-c1dc5bca28b9",
     "regions": {
      "e11f7d22-5da7-42a4-8b87-879b27af2c49": {
       "attrs": {
        "height": 0.8,
        "width": 0.8,
        "x": 0.1,
        "y": 0.1
       },
       "content": {
        "cell": "ecad3309-801b-4494-89cf-e7387db7d3c8",
        "part": "whole"
       },
       "id": "e11f7d22-5da7-42a4-8b87-879b27af2c49"
      }
     }
    },
    "1919a128-c165-4239-a15a-3c0ea8d639e2": {
     "id": "1919a128-c165-4239-a15a-3c0ea8d639e2",
     "prev": "cb6a71a1-20c4-4eec-946e-76b2c416d3bb",
     "regions": {
      "c75e7926-4bcd-4955-b6e3-2fd15d66aefd": {
       "attrs": {
        "height": 0.8,
        "width": 0.8,
        "x": 0.1,
        "y": 0.1
       },
       "content": {
        "cell": "cf072cb5-9049-4ecd-9cfc-aeb104d9f89f",
        "part": "whole"
       },
       "id": "c75e7926-4bcd-4955-b6e3-2fd15d66aefd"
      }
     }
    },
    "19b129ca-b7c8-461a-87c2-03cd85e9b511": {
     "id": "19b129ca-b7c8-461a-87c2-03cd85e9b511",
     "prev": "eff9ac20-610f-4532-9ad4-813bb0b7372d",
     "regions": {
      "b2da3a0d-ae6d-49f9-8658-bf181157173f": {
       "attrs": {
        "height": 0.8,
        "width": 0.8,
        "x": 0.1,
        "y": 0.1
       },
       "content": {
        "cell": "74a1ea41-b0cf-41e9-80bb-4739a48d8ae1",
        "part": "whole"
       },
       "id": "b2da3a0d-ae6d-49f9-8658-bf181157173f"
      }
     }
    },
    "1a43630b-d7ac-4d80-b454-7aa760ee2976": {
     "id": "1a43630b-d7ac-4d80-b454-7aa760ee2976",
     "prev": "abbe07ed-82ec-45e4-87bb-676f4ece0e5d",
     "regions": {
      "15225c2e-b89a-45c1-ae70-027df0a84e43": {
       "attrs": {
        "height": 0.8,
        "width": 0.8,
        "x": 0.1,
        "y": 0.1
       },
       "content": {
        "cell": "440702e6-c875-4aa3-a9d9-2c85ce4a1add",
        "part": "whole"
       },
       "id": "15225c2e-b89a-45c1-ae70-027df0a84e43"
      }
     }
    },
    "1c011366-9fdd-4beb-93a8-0fbb56681cf0": {
     "id": "1c011366-9fdd-4beb-93a8-0fbb56681cf0",
     "prev": "1a43630b-d7ac-4d80-b454-7aa760ee2976",
     "regions": {
      "d0013e28-4bfe-48e8-82d2-6f8bd1e2af02": {
       "attrs": {
        "height": 0.8,
        "width": 0.8,
        "x": 0.1,
        "y": 0.1
       },
       "content": {
        "cell": "c8b01213-388f-4ebe-8d97-03cbe2996de8",
        "part": "whole"
       },
       "id": "d0013e28-4bfe-48e8-82d2-6f8bd1e2af02"
      }
     }
    },
    "1f132748-06ab-4201-963d-c8addb7d4028": {
     "id": "1f132748-06ab-4201-963d-c8addb7d4028",
     "prev": "ad35d5c7-75df-4bb6-8b13-428f0bb6e8d4",
     "regions": {
      "828e2df8-2245-4e3d-b7ef-c91d97e644c9": {
       "attrs": {
        "height": 0.8,
        "width": 0.8,
        "x": 0.1,
        "y": 0.1
       },
       "content": {
        "cell": "98ef678f-2874-478d-bff0-926d45472cf5",
        "part": "whole"
       },
       "id": "828e2df8-2245-4e3d-b7ef-c91d97e644c9"
      }
     }
    },
    "1f980c73-e374-48d0-93b6-b75206491360": {
     "id": "1f980c73-e374-48d0-93b6-b75206491360",
     "prev": "62a862d3-e76b-4c1e-8d21-98925f355902",
     "regions": {
      "786a620f-84ea-4e47-9c1f-1018c4225607": {
       "attrs": {
        "height": 0.8,
        "width": 0.8,
        "x": 0.1,
        "y": 0.1
       },
       "content": {
        "cell": "be5ecc48-c69b-427a-9615-baaa406cd76a",
        "part": "whole"
       },
       "id": "786a620f-84ea-4e47-9c1f-1018c4225607"
      }
     }
    },
    "23e9e445-4b37-419e-aaa9-9c9e4d55e87c": {
     "id": "23e9e445-4b37-419e-aaa9-9c9e4d55e87c",
     "prev": "e7e780e8-bbfa-4a61-bea1-d2aa427e082c",
     "regions": {
      "05d07d17-6e70-4999-9b96-e650b4b853e1": {
       "attrs": {
        "height": 0.8,
        "width": 0.8,
        "x": 0.1,
        "y": 0.1
       },
       "content": {
        "cell": "4d8f04d6-a2cb-447f-9e08-2c14021da98f",
        "part": "whole"
       },
       "id": "05d07d17-6e70-4999-9b96-e650b4b853e1"
      }
     }
    },
    "2493b6cd-92ce-40d0-a5ef-6b85c969aa6a": {
     "id": "2493b6cd-92ce-40d0-a5ef-6b85c969aa6a",
     "prev": "a47f2855-5038-4b7d-b995-545ea94b17ce",
     "regions": {
      "249530a0-4eac-4293-ae21-825799896731": {
       "attrs": {
        "height": 0.8,
        "width": 0.8,
        "x": 0.1,
        "y": 0.1
       },
       "content": {
        "cell": "9ce6e143-c2ff-44f1-b3be-5fa6f2e514ca",
        "part": "whole"
       },
       "id": "249530a0-4eac-4293-ae21-825799896731"
      }
     }
    },
    "25db1c3e-d26a-4b52-a2e4-d0f0d00a8f21": {
     "id": "25db1c3e-d26a-4b52-a2e4-d0f0d00a8f21",
     "prev": "8c88efd6-db5e-421d-bd52-d7a71653728b",
     "regions": {
      "b5199aa6-c61b-4219-a9a7-b6f0b1995d81": {
       "attrs": {
        "height": 0.8,
        "width": 0.8,
        "x": 0.1,
        "y": 0.1
       },
       "content": {
        "cell": "283ec398-eeed-4c02-b24a-8e314caf4926",
        "part": "whole"
       },
       "id": "b5199aa6-c61b-4219-a9a7-b6f0b1995d81"
      }
     }
    },
    "26719172-57e0-4f69-9151-67420baff90c": {
     "id": "26719172-57e0-4f69-9151-67420baff90c",
     "prev": "2493b6cd-92ce-40d0-a5ef-6b85c969aa6a",
     "regions": {
      "8ce81d6d-1aa3-4be0-a6b3-71bbec95259b": {
       "attrs": {
        "height": 0.8,
        "width": 0.8,
        "x": 0.1,
        "y": 0.1
       },
       "content": {
        "cell": "489e0bc1-2803-402d-8dca-f428d28f344a",
        "part": "whole"
       },
       "id": "8ce81d6d-1aa3-4be0-a6b3-71bbec95259b"
      }
     }
    },
    "2dca9594-330f-481d-9bb8-9ec1a3927866": {
     "id": "2dca9594-330f-481d-9bb8-9ec1a3927866",
     "prev": "3556f20b-192d-4c3f-bbc3-99acd3798fee",
     "regions": {
      "4f44ba1e-1c70-4c91-81b9-224a3a9a5037": {
       "attrs": {
        "height": 0.8,
        "width": 0.8,
        "x": 0.1,
        "y": 0.1
       },
       "content": {
        "cell": "ca1f4def-51f6-4f89-9f2d-fcff72f69774",
        "part": "whole"
       },
       "id": "4f44ba1e-1c70-4c91-81b9-224a3a9a5037"
      }
     }
    },
    "339d3b6c-59d1-4b2b-8620-fed751dbfdb3": {
     "id": "339d3b6c-59d1-4b2b-8620-fed751dbfdb3",
     "prev": "f9dc08c0-bd8b-47f2-864b-e6f01a14c5ab",
     "regions": {
      "1e147f75-916d-4dcf-8844-c7472b473b5c": {
       "attrs": {
        "height": 0.8,
        "width": 0.8,
        "x": 0.1,
        "y": 0.1
       },
       "content": {
        "cell": "9a7cdfd9-9b28-4504-b843-d7ffd1dce3b7",
        "part": "whole"
       },
       "id": "1e147f75-916d-4dcf-8844-c7472b473b5c"
      }
     }
    },
    "3556f20b-192d-4c3f-bbc3-99acd3798fee": {
     "id": "3556f20b-192d-4c3f-bbc3-99acd3798fee",
     "prev": "49852728-2be6-47cb-a56e-e7f36e4da380",
     "regions": {
      "fb04f9fe-c95a-49c8-b030-8cc206095399": {
       "attrs": {
        "height": 0.8,
        "width": 0.8,
        "x": 0.1,
        "y": 0.1
       },
       "content": {
        "cell": "0d7c64b8-2b52-4d83-bb46-9aec401c84cc",
        "part": "whole"
       },
       "id": "fb04f9fe-c95a-49c8-b030-8cc206095399"
      }
     }
    },
    "3b6dea03-edac-44db-b507-bab990825406": {
     "id": "3b6dea03-edac-44db-b507-bab990825406",
     "prev": "f7167936-d537-44ba-b1f7-b9f2ca2e9788",
     "regions": {
      "680621aa-66e3-4341-bfb3-d104b586e28d": {
       "attrs": {
        "height": 0.8,
        "width": 0.8,
        "x": 0.1,
        "y": 0.1
       },
       "content": {
        "cell": "22a74ba4-0e45-451e-b21f-07b51f29e5a1",
        "part": "whole"
       },
       "id": "680621aa-66e3-4341-bfb3-d104b586e28d"
      }
     }
    },
    "3e1d6771-aaf1-45fc-9167-cb53ea559258": {
     "id": "3e1d6771-aaf1-45fc-9167-cb53ea559258",
     "prev": "d3298c90-0ff4-4e69-89ee-e2258ece5366",
     "regions": {
      "9b4417e3-d74c-4f37-a822-83767241283b": {
       "attrs": {
        "height": 0.8,
        "width": 0.8,
        "x": 0.1,
        "y": 0.1
       },
       "content": {
        "cell": "0da7a7be-4d33-420e-a8c5-01020a7d61be",
        "part": "whole"
       },
       "id": "9b4417e3-d74c-4f37-a822-83767241283b"
      }
     }
    },
    "420780ed-e771-478b-abb5-aec4c3a83a78": {
     "id": "420780ed-e771-478b-abb5-aec4c3a83a78",
     "prev": "44d3845d-4639-4a96-a09d-eb7d88e1473e",
     "regions": {
      "52279cd4-e55f-40ee-93c7-eb2fc156fc4c": {
       "attrs": {
        "height": 0.8,
        "width": 0.8,
        "x": 0.1,
        "y": 0.1
       },
       "content": {
        "cell": "c34735b8-004a-43cf-99bc-4e3f6ab74dc3",
        "part": "whole"
       },
       "id": "52279cd4-e55f-40ee-93c7-eb2fc156fc4c"
      }
     }
    },
    "44d3845d-4639-4a96-a09d-eb7d88e1473e": {
     "id": "44d3845d-4639-4a96-a09d-eb7d88e1473e",
     "prev": "f917f312-7934-4b01-aa4d-b61df6ab1f0f",
     "regions": {
      "be7c5b5f-7a2a-4fe8-93f0-715cf9d7d430": {
       "attrs": {
        "height": 0.8,
        "width": 0.8,
        "x": 0.1,
        "y": 0.1
       },
       "content": {
        "cell": "116265bc-9e24-473a-9b73-45beb85ae582",
        "part": "whole"
       },
       "id": "be7c5b5f-7a2a-4fe8-93f0-715cf9d7d430"
      }
     }
    },
    "46be5b4a-db06-497c-8bc0-f195ecde9914": {
     "id": "46be5b4a-db06-497c-8bc0-f195ecde9914",
     "prev": "141861e5-2c60-45da-9a5f-ba4ae0d41063",
     "regions": {
      "07b1fcd5-d700-4c00-9da5-864549cbb713": {
       "attrs": {
        "height": 0.8,
        "width": 0.8,
        "x": 0.1,
        "y": 0.1
       },
       "content": {
        "cell": "0ff84150-4f2c-4d44-8fa4-2ebfa39d7376",
        "part": "whole"
       },
       "id": "07b1fcd5-d700-4c00-9da5-864549cbb713"
      }
     }
    },
    "49852728-2be6-47cb-a56e-e7f36e4da380": {
     "id": "49852728-2be6-47cb-a56e-e7f36e4da380",
     "prev": "6475761c-5565-4ad4-85af-26d848b5e5f7",
     "regions": {
      "40bf8f60-6f3d-41f2-b801-f65bc611cf04": {
       "attrs": {
        "height": 0.8,
        "width": 0.8,
        "x": 0.1,
        "y": 0.1
       },
       "content": {
        "cell": "02af4567-5f8c-49cb-b7cf-8c213f97c3dc",
        "part": "whole"
       },
       "id": "40bf8f60-6f3d-41f2-b801-f65bc611cf04"
      }
     }
    },
    "4f82126a-3852-49b0-b759-d33844d9649d": {
     "id": "4f82126a-3852-49b0-b759-d33844d9649d",
     "prev": "ffe9b13e-6b53-45a3-95cb-8b694edda5a2",
     "regions": {
      "eab39424-9937-481e-bc52-26a7dd055035": {
       "attrs": {
        "height": 0.8,
        "width": 0.8,
        "x": 0.1,
        "y": 0.1
       },
       "content": {
        "cell": "2154fa2e-181f-4b24-964c-618d737d3871",
        "part": "whole"
       },
       "id": "eab39424-9937-481e-bc52-26a7dd055035"
      }
     }
    },
    "51300359-2e1a-479f-84cf-0834a7c45c50": {
     "id": "51300359-2e1a-479f-84cf-0834a7c45c50",
     "prev": "a157c8e7-944b-44bb-a34f-6dcbf1f222ff",
     "regions": {
      "7c76f072-18db-4f63-a1f6-9cb7e78453c8": {
       "attrs": {
        "height": 0.8,
        "width": 0.8,
        "x": 0.1,
        "y": 0.1
       },
       "content": {
        "cell": "48fc4574-bf3c-4580-9658-913505ceb70f",
        "part": "whole"
       },
       "id": "7c76f072-18db-4f63-a1f6-9cb7e78453c8"
      }
     }
    },
    "520f0a38-2f5a-4b35-88b9-90998c11c65b": {
     "id": "520f0a38-2f5a-4b35-88b9-90998c11c65b",
     "prev": "57c9fb68-6d9f-4ca7-9e5f-decb928a8c01",
     "regions": {
      "f5d5a4e4-3328-412a-aabe-37b093b62ff7": {
       "attrs": {
        "height": 0.8,
        "width": 0.8,
        "x": 0.1,
        "y": 0.1
       },
       "content": {
        "cell": "065d71b8-7851-42aa-8f28-151a13ef59c5",
        "part": "whole"
       },
       "id": "f5d5a4e4-3328-412a-aabe-37b093b62ff7"
      }
     }
    },
    "54370373-6b57-4873-8526-e7dd931e0060": {
     "id": "54370373-6b57-4873-8526-e7dd931e0060",
     "prev": "7f58d7d1-0e09-4d3f-adcf-9174911c2eaf",
     "regions": {
      "7672d321-1321-41d8-9bcd-8bef52f4d0e1": {
       "attrs": {
        "height": 0.8,
        "width": 0.8,
        "x": 0.1,
        "y": 0.1
       },
       "content": {
        "cell": "548243df-1195-42a8-ad4c-90f8035b721e",
        "part": "whole"
       },
       "id": "7672d321-1321-41d8-9bcd-8bef52f4d0e1"
      }
     }
    },
    "551a3257-7296-4c8d-8918-906cd7ccf353": {
     "id": "551a3257-7296-4c8d-8918-906cd7ccf353",
     "prev": "54370373-6b57-4873-8526-e7dd931e0060",
     "regions": {
      "fe4d1541-6816-472d-8284-5fa3e60506ce": {
       "attrs": {
        "height": 0.8,
        "width": 0.8,
        "x": 0.1,
        "y": 0.1
       },
       "content": {
        "cell": "4b4a9362-51ed-4206-a971-1a27136d498d",
        "part": "whole"
       },
       "id": "fe4d1541-6816-472d-8284-5fa3e60506ce"
      }
     }
    },
    "56d485cc-54fe-4c29-8928-a9ce2c6c0e4c": {
     "id": "56d485cc-54fe-4c29-8928-a9ce2c6c0e4c",
     "prev": "1c011366-9fdd-4beb-93a8-0fbb56681cf0",
     "regions": {
      "34e24461-529f-499a-93d4-db695bc687d2": {
       "attrs": {
        "height": 0.8,
        "width": 0.8,
        "x": 0.1,
        "y": 0.1
       },
       "content": {
        "cell": "c55d7945-a619-4fba-a724-5c25fa5c27de",
        "part": "whole"
       },
       "id": "34e24461-529f-499a-93d4-db695bc687d2"
      }
     }
    },
    "56e2cb88-3024-40af-8bd4-067465b14941": {
     "id": "56e2cb88-3024-40af-8bd4-067465b14941",
     "prev": "51300359-2e1a-479f-84cf-0834a7c45c50",
     "regions": {
      "6f190107-6d81-470c-a28d-dc8649735896": {
       "attrs": {
        "height": 0.8,
        "width": 0.8,
        "x": 0.1,
        "y": 0.1
       },
       "content": {
        "cell": "b436ebb0-c769-4a4e-9c0b-fa4bfece26fb",
        "part": "whole"
       },
       "id": "6f190107-6d81-470c-a28d-dc8649735896"
      }
     }
    },
    "57c9fb68-6d9f-4ca7-9e5f-decb928a8c01": {
     "id": "57c9fb68-6d9f-4ca7-9e5f-decb928a8c01",
     "prev": "6918a637-a80e-4380-93ff-d81c5285a760",
     "regions": {
      "5c983945-876b-4034-a4e7-871ae3aa73bd": {
       "attrs": {
        "height": 0.8,
        "width": 0.8,
        "x": 0.1,
        "y": 0.1
       },
       "content": {
        "cell": "649c9f04-b299-4ab6-8073-ff778d0c6c45",
        "part": "whole"
       },
       "id": "5c983945-876b-4034-a4e7-871ae3aa73bd"
      }
     }
    },
    "6164f013-1244-4e59-88be-a525c9e4aa89": {
     "id": "6164f013-1244-4e59-88be-a525c9e4aa89",
     "prev": "07cc9663-0302-4e83-bf72-f12b6545a678",
     "regions": {
      "c8241326-a076-496f-9b91-c4b6a61ae9b9": {
       "attrs": {
        "height": 0.8,
        "width": 0.8,
        "x": 0.1,
        "y": 0.1
       },
       "content": {
        "cell": "6482a6e0-fa31-4202-8c1c-da8e6dcf15d1",
        "part": "whole"
       },
       "id": "c8241326-a076-496f-9b91-c4b6a61ae9b9"
      }
     }
    },
    "62a862d3-e76b-4c1e-8d21-98925f355902": {
     "id": "62a862d3-e76b-4c1e-8d21-98925f355902",
     "prev": "23e9e445-4b37-419e-aaa9-9c9e4d55e87c",
     "regions": {
      "f1dbf2c7-d126-489c-97bf-6c4f9820958b": {
       "attrs": {
        "height": 0.8,
        "width": 0.8,
        "x": 0.1,
        "y": 0.1
       },
       "content": {
        "cell": "8979b66b-23b2-46e5-9c27-cf24fdf438fc",
        "part": "whole"
       },
       "id": "f1dbf2c7-d126-489c-97bf-6c4f9820958b"
      }
     }
    },
    "6475761c-5565-4ad4-85af-26d848b5e5f7": {
     "id": "6475761c-5565-4ad4-85af-26d848b5e5f7",
     "prev": "03bcca7b-cf79-4025-96db-7e2dd479ba71",
     "regions": {
      "f053601b-f948-45c7-ac48-97f2b111804e": {
       "attrs": {
        "height": 0.8,
        "width": 0.8,
        "x": 0.1,
        "y": 0.1
       },
       "content": {
        "cell": "60830886-4284-4476-9df2-7abd421f9a84",
        "part": "whole"
       },
       "id": "f053601b-f948-45c7-ac48-97f2b111804e"
      }
     }
    },
    "66d6065c-3559-4d5a-89e0-b8cba258de98": {
     "id": "66d6065c-3559-4d5a-89e0-b8cba258de98",
     "prev": "56d485cc-54fe-4c29-8928-a9ce2c6c0e4c",
     "regions": {
      "2f2fec0d-2a39-4dcb-9ed4-2ca7acab3bad": {
       "attrs": {
        "height": 0.8,
        "width": 0.8,
        "x": 0.1,
        "y": 0.1
       },
       "content": {
        "cell": "f46c7e20-50d1-44c5-8589-f3153c3d5a21",
        "part": "whole"
       },
       "id": "2f2fec0d-2a39-4dcb-9ed4-2ca7acab3bad"
      }
     }
    },
    "6823ee0d-4f48-4224-9d82-bf55bfa02f5b": {
     "id": "6823ee0d-4f48-4224-9d82-bf55bfa02f5b",
     "prev": "ac3413bc-5d99-44f7-9fdf-1a251fdbf094",
     "regions": {
      "38220d62-a3db-438c-8c38-506c80a1ae0d": {
       "attrs": {
        "height": 0.8,
        "width": 0.8,
        "x": 0.1,
        "y": 0.1
       },
       "content": {
        "cell": "1d6f3dc0-f165-4f2f-8803-701433585afb",
        "part": "whole"
       },
       "id": "38220d62-a3db-438c-8c38-506c80a1ae0d"
      }
     }
    },
    "6918a637-a80e-4380-93ff-d81c5285a760": {
     "id": "6918a637-a80e-4380-93ff-d81c5285a760",
     "prev": "a94b3946-6a78-4106-aa9e-dbd910c3e9aa",
     "regions": {
      "489fed25-82d5-46cd-bbee-702cccbcbf89": {
       "attrs": {
        "height": 0.8,
        "width": 0.8,
        "x": 0.1,
        "y": 0.1
       },
       "content": {
        "cell": "94692f8a-6243-49af-9d77-9fd2d9c96580",
        "part": "whole"
       },
       "id": "489fed25-82d5-46cd-bbee-702cccbcbf89"
      }
     }
    },
    "6e637d15-feeb-43e6-be80-9a0cad498202": {
     "id": "6e637d15-feeb-43e6-be80-9a0cad498202",
     "prev": "f238d0b6-ecd5-4c94-9136-6addddb7dde0",
     "regions": {
      "dc29afed-2383-45ee-a141-4275c0ef7954": {
       "attrs": {
        "height": 0.8,
        "width": 0.8,
        "x": 0.1,
        "y": 0.1
       },
       "content": {
        "cell": "42f4cfe2-6e20-4aac-ac98-980f269dbcc9",
        "part": "whole"
       },
       "id": "dc29afed-2383-45ee-a141-4275c0ef7954"
      }
     }
    },
    "6f62370c-a98b-4132-9d37-353bb5f61703": {
     "id": "6f62370c-a98b-4132-9d37-353bb5f61703",
     "prev": "520f0a38-2f5a-4b35-88b9-90998c11c65b",
     "regions": {
      "e20675fd-53e7-42a3-8ba6-b8d7fb59c9fe": {
       "attrs": {
        "height": 0.8,
        "width": 0.8,
        "x": 0.1,
        "y": 0.1
       },
       "content": {
        "cell": "951760a9-37d1-46cf-8a89-a7d8ce8c7ccc",
        "part": "whole"
       },
       "id": "e20675fd-53e7-42a3-8ba6-b8d7fb59c9fe"
      }
     }
    },
    "6ffb910d-f681-43d7-a605-4ba5e6d12749": {
     "id": "6ffb910d-f681-43d7-a605-4ba5e6d12749",
     "prev": "0a030960-2d6e-4b4c-bc46-525f189eed30",
     "regions": {
      "83e921d7-7d58-425e-ae95-e3e9614022f5": {
       "attrs": {
        "height": 0.8,
        "width": 0.8,
        "x": 0.1,
        "y": 0.1
       },
       "content": {
        "cell": "399d39d9-62a9-4731-be2b-2212cf358458",
        "part": "whole"
       },
       "id": "83e921d7-7d58-425e-ae95-e3e9614022f5"
      }
     }
    },
    "7a44d3bb-9a0a-40e6-96c9-53d9a1502357": {
     "id": "7a44d3bb-9a0a-40e6-96c9-53d9a1502357",
     "prev": "c3056393-075d-43a0-9e0d-fc4930bcc188",
     "regions": {
      "09a58782-e36a-47c9-8df1-2e554a475076": {
       "attrs": {
        "height": 0.8,
        "width": 0.8,
        "x": 0.1,
        "y": 0.1
       },
       "content": {
        "cell": "8be841b4-36ab-4ac1-adca-1e76d33f3325",
        "part": "whole"
       },
       "id": "09a58782-e36a-47c9-8df1-2e554a475076"
      }
     }
    },
    "7bc5099a-63bb-4851-ba9c-5660084d0ab9": {
     "id": "7bc5099a-63bb-4851-ba9c-5660084d0ab9",
     "prev": "3e1d6771-aaf1-45fc-9167-cb53ea559258",
     "regions": {
      "59becb35-c5a3-41fe-b665-78cc382063ca": {
       "attrs": {
        "height": 0.8,
        "width": 0.8,
        "x": 0.1,
        "y": 0.1
       },
       "content": {
        "cell": "843452c9-9bf9-448e-bcbf-02ba5917c544",
        "part": "whole"
       },
       "id": "59becb35-c5a3-41fe-b665-78cc382063ca"
      }
     }
    },
    "7f58d7d1-0e09-4d3f-adcf-9174911c2eaf": {
     "id": "7f58d7d1-0e09-4d3f-adcf-9174911c2eaf",
     "prev": "81a09b98-e50b-4e67-87f7-07742bd5cea2",
     "regions": {
      "e274d3be-051c-46d6-98b0-18e0ddc97cc8": {
       "attrs": {
        "height": 0.8,
        "width": 0.8,
        "x": 0.1,
        "y": 0.1
       },
       "content": {
        "cell": "e7cb273e-cac7-4f93-8400-6f88695fb8a6",
        "part": "whole"
       },
       "id": "e274d3be-051c-46d6-98b0-18e0ddc97cc8"
      }
     }
    },
    "81a09b98-e50b-4e67-87f7-07742bd5cea2": {
     "id": "81a09b98-e50b-4e67-87f7-07742bd5cea2",
     "prev": "13e880a1-b376-44e6-9550-860947c0d1c2",
     "regions": {
      "7c662ad8-c6aa-44f1-9e09-2dfae46311e2": {
       "attrs": {
        "height": 0.8,
        "width": 0.8,
        "x": 0.1,
        "y": 0.1
       },
       "content": {
        "cell": "ce0ebf4e-9eab-44f0-912a-cd5763a13e87",
        "part": "whole"
       },
       "id": "7c662ad8-c6aa-44f1-9e09-2dfae46311e2"
      }
     }
    },
    "86921883-c75b-468e-987f-edcf8b0a03bc": {
     "id": "86921883-c75b-468e-987f-edcf8b0a03bc",
     "prev": "3b6dea03-edac-44db-b507-bab990825406",
     "regions": {
      "94c916c1-5d4a-47a6-80bd-1d25d899992f": {
       "attrs": {
        "height": 0.8,
        "width": 0.8,
        "x": 0.1,
        "y": 0.1
       },
       "content": {
        "cell": "a0554e47-099a-4fbf-8df1-3bacc1f4a9a4",
        "part": "whole"
       },
       "id": "94c916c1-5d4a-47a6-80bd-1d25d899992f"
      }
     }
    },
    "87dacff8-584c-4b2d-8e80-9fe0b7748be7": {
     "id": "87dacff8-584c-4b2d-8e80-9fe0b7748be7",
     "prev": null,
     "regions": {
      "c5dbff3d-b717-4d58-9561-b5b271e151db": {
       "attrs": {
        "height": 0.8,
        "width": 0.8,
        "x": 0.1,
        "y": 0.1
       },
       "content": {
        "cell": "8c32f355-32aa-4b0c-a068-9cd9b6c7aa35",
        "part": "whole"
       },
       "id": "c5dbff3d-b717-4d58-9561-b5b271e151db"
      }
     }
    },
    "8c88efd6-db5e-421d-bd52-d7a71653728b": {
     "id": "8c88efd6-db5e-421d-bd52-d7a71653728b",
     "prev": "d0613d39-4b8c-4955-bb4f-a963814b5a3a",
     "regions": {
      "6e5b36be-11cb-483c-824a-a11592cc751a": {
       "attrs": {
        "height": 0.8,
        "width": 0.8,
        "x": 0.1,
        "y": 0.1
       },
       "content": {
        "cell": "3ebbe2e7-2591-4b6d-8eba-3e92b2aecdb3",
        "part": "whole"
       },
       "id": "6e5b36be-11cb-483c-824a-a11592cc751a"
      }
     }
    },
    "8e8ce4df-e043-42e1-a205-40a51c906a01": {
     "id": "8e8ce4df-e043-42e1-a205-40a51c906a01",
     "prev": "25db1c3e-d26a-4b52-a2e4-d0f0d00a8f21",
     "regions": {
      "482d4cd7-7d16-4745-8542-aa72d822e0c6": {
       "attrs": {
        "height": 0.8,
        "width": 0.8,
        "x": 0.1,
        "y": 0.1
       },
       "content": {
        "cell": "cab3a402-f462-49fb-be69-d3f4b0df00b1",
        "part": "whole"
       },
       "id": "482d4cd7-7d16-4745-8542-aa72d822e0c6"
      }
     }
    },
    "9a619989-7081-4e54-a560-b8a07dacf074": {
     "id": "9a619989-7081-4e54-a560-b8a07dacf074",
     "prev": "26719172-57e0-4f69-9151-67420baff90c",
     "regions": {
      "bc16b7ce-0785-4c6f-849d-2c45e5a573b5": {
       "attrs": {
        "height": 0.8,
        "width": 0.8,
        "x": 0.1,
        "y": 0.1
       },
       "content": {
        "cell": "d2ec71fc-079c-4476-846c-d6c7b2b54f67",
        "part": "whole"
       },
       "id": "bc16b7ce-0785-4c6f-849d-2c45e5a573b5"
      }
     }
    },
    "9a853742-5407-4c81-93e6-826c8700d4a1": {
     "id": "9a853742-5407-4c81-93e6-826c8700d4a1",
     "prev": "db6ef39c-c97d-4be7-b78b-342e3ce97b79",
     "regions": {
      "ee8e5af4-515a-4263-81b5-fc8ab890f994": {
       "attrs": {
        "height": 0.8,
        "width": 0.8,
        "x": 0.1,
        "y": 0.1
       },
       "content": {
        "cell": "a1e63aa5-032d-4ecc-99ec-8c280805e347",
        "part": "whole"
       },
       "id": "ee8e5af4-515a-4263-81b5-fc8ab890f994"
      }
     }
    },
    "9fa23176-428a-4144-9234-9d6cc0eca4fa": {
     "id": "9fa23176-428a-4144-9234-9d6cc0eca4fa",
     "prev": "e07ea083-877d-49ec-91ac-abe05fbcbb60",
     "regions": {
      "bee7623c-f409-4b35-a9b8-0ffa6807795d": {
       "attrs": {
        "height": 0.8,
        "width": 0.8,
        "x": 0.1,
        "y": 0.1
       },
       "content": {
        "cell": "1ca1f7c9-a5a1-48cd-a812-180b36770cec",
        "part": "whole"
       },
       "id": "bee7623c-f409-4b35-a9b8-0ffa6807795d"
      }
     }
    },
    "a157c8e7-944b-44bb-a34f-6dcbf1f222ff": {
     "id": "a157c8e7-944b-44bb-a34f-6dcbf1f222ff",
     "prev": "bc8dcbf7-df90-408d-aa4f-b62940c9b277",
     "regions": {
      "e5b6aba1-e511-46db-a851-78dd592377d6": {
       "attrs": {
        "height": 0.8,
        "width": 0.8,
        "x": 0.1,
        "y": 0.1
       },
       "content": {
        "cell": "56c04ed3-5bd1-40dc-9ed9-40d20ba8b1eb",
        "part": "whole"
       },
       "id": "e5b6aba1-e511-46db-a851-78dd592377d6"
      }
     }
    },
    "a1f0c13d-ee6c-4c38-af80-ebdc2be01a39": {
     "id": "a1f0c13d-ee6c-4c38-af80-ebdc2be01a39",
     "prev": "19b129ca-b7c8-461a-87c2-03cd85e9b511",
     "regions": {
      "d69111c3-2302-4f4a-8032-fb7e5c560cd1": {
       "attrs": {
        "height": 0.8,
        "width": 0.8,
        "x": 0.1,
        "y": 0.1
       },
       "content": {
        "cell": "3e0165b7-100d-4132-8d4d-750e291fbe90",
        "part": "whole"
       },
       "id": "d69111c3-2302-4f4a-8032-fb7e5c560cd1"
      }
     }
    },
    "a47f2855-5038-4b7d-b995-545ea94b17ce": {
     "id": "a47f2855-5038-4b7d-b995-545ea94b17ce",
     "prev": "7a44d3bb-9a0a-40e6-96c9-53d9a1502357",
     "regions": {
      "8c55973d-e42f-4661-a20a-c1d2933ad3d9": {
       "attrs": {
        "height": 0.8,
        "width": 0.8,
        "x": 0.1,
        "y": 0.1
       },
       "content": {
        "cell": "2d9334d4-9102-4e0d-89a9-76e20089133d",
        "part": "whole"
       },
       "id": "8c55973d-e42f-4661-a20a-c1d2933ad3d9"
      }
     }
    },
    "a94b3946-6a78-4106-aa9e-dbd910c3e9aa": {
     "id": "a94b3946-6a78-4106-aa9e-dbd910c3e9aa",
     "prev": "6823ee0d-4f48-4224-9d82-bf55bfa02f5b",
     "regions": {
      "84993fcd-1d48-4d3f-aeca-1fc420ee3a88": {
       "attrs": {
        "height": 0.8,
        "width": 0.8,
        "x": 0.1,
        "y": 0.1
       },
       "content": {
        "cell": "aea21e38-6397-447b-8240-e0233531445b",
        "part": "whole"
       },
       "id": "84993fcd-1d48-4d3f-aeca-1fc420ee3a88"
      }
     }
    },
    "abbe07ed-82ec-45e4-87bb-676f4ece0e5d": {
     "id": "abbe07ed-82ec-45e4-87bb-676f4ece0e5d",
     "prev": "135ada75-9e10-48d6-a611-5912d904f2a2",
     "regions": {
      "502d0eb8-b745-4524-a2d0-073e74c5ea29": {
       "attrs": {
        "height": 0.8,
        "width": 0.8,
        "x": 0.1,
        "y": 0.1
       },
       "content": {
        "cell": "b1580268-69bd-4828-91a0-0b771380070a",
        "part": "whole"
       },
       "id": "502d0eb8-b745-4524-a2d0-073e74c5ea29"
      }
     }
    },
    "ac3413bc-5d99-44f7-9fdf-1a251fdbf094": {
     "id": "ac3413bc-5d99-44f7-9fdf-1a251fdbf094",
     "prev": "d2e32be2-a766-4050-b6af-bdf47779a51d",
     "regions": {
      "b2c97d82-9cd8-4e5b-9d81-7208c1d4206b": {
       "attrs": {
        "height": 0.8,
        "width": 0.8,
        "x": 0.1,
        "y": 0.1
       },
       "content": {
        "cell": "ba438730-208f-4989-a82a-192d61e1dbe8",
        "part": "whole"
       },
       "id": "b2c97d82-9cd8-4e5b-9d81-7208c1d4206b"
      }
     }
    },
    "ad35d5c7-75df-4bb6-8b13-428f0bb6e8d4": {
     "id": "ad35d5c7-75df-4bb6-8b13-428f0bb6e8d4",
     "prev": "ebf49950-b5ff-443e-a583-157740be44f4",
     "regions": {
      "6dc18942-cddc-4b93-acab-d4bbe4d4250c": {
       "attrs": {
        "height": 0.8,
        "width": 0.8,
        "x": 0.1,
        "y": 0.1
       },
       "content": {
        "cell": "8ff92083-1306-4bf0-ae72-a320f113dabe",
        "part": "whole"
       },
       "id": "6dc18942-cddc-4b93-acab-d4bbe4d4250c"
      }
     }
    },
    "bc8dcbf7-df90-408d-aa4f-b62940c9b277": {
     "id": "bc8dcbf7-df90-408d-aa4f-b62940c9b277",
     "prev": "6e637d15-feeb-43e6-be80-9a0cad498202",
     "regions": {
      "31cb2013-3e44-4505-ad84-e0ca022f3e3e": {
       "attrs": {
        "height": 0.8,
        "width": 0.8,
        "x": 0.1,
        "y": 0.1
       },
       "content": {
        "cell": "ee52396c-fc03-4fe3-8921-e00a3b81c5fc",
        "part": "whole"
       },
       "id": "31cb2013-3e44-4505-ad84-e0ca022f3e3e"
      }
     }
    },
    "c3056393-075d-43a0-9e0d-fc4930bcc188": {
     "id": "c3056393-075d-43a0-9e0d-fc4930bcc188",
     "prev": "ca7b8cec-ceac-404d-a566-d4c49d3b1132",
     "regions": {
      "4546a5be-4bc4-4580-8c18-c37e0d7f8e05": {
       "attrs": {
        "height": 0.8,
        "width": 0.8,
        "x": 0.1,
        "y": 0.1
       },
       "content": {
        "cell": "3fd24250-efcb-4dd7-b355-f5d0b89e7410",
        "part": "whole"
       },
       "id": "4546a5be-4bc4-4580-8c18-c37e0d7f8e05"
      }
     }
    },
    "c8faa4ed-1d68-4fa3-b11d-44d8fe679e96": {
     "id": "c8faa4ed-1d68-4fa3-b11d-44d8fe679e96",
     "prev": "66d6065c-3559-4d5a-89e0-b8cba258de98",
     "regions": {
      "48f5c4d9-e589-4f18-b8f0-4286580689a5": {
       "attrs": {
        "height": 0.8,
        "width": 0.8,
        "x": 0.1,
        "y": 0.1
       },
       "content": {
        "cell": "26350905-411c-4867-9bfb-e1df7b5d338d",
        "part": "whole"
       },
       "id": "48f5c4d9-e589-4f18-b8f0-4286580689a5"
      }
     }
    },
    "ca7b8cec-ceac-404d-a566-d4c49d3b1132": {
     "id": "ca7b8cec-ceac-404d-a566-d4c49d3b1132",
     "prev": "ea1dac73-8140-43f0-bf17-a0539ba2e8f1",
     "regions": {
      "4374dc24-3b77-4baf-a957-fdb319703be8": {
       "attrs": {
        "height": 0.8,
        "width": 0.8,
        "x": 0.1,
        "y": 0.1
       },
       "content": {
        "cell": "a6f1449a-3f62-4f9d-9c1d-990e9e8d8e0e",
        "part": "whole"
       },
       "id": "4374dc24-3b77-4baf-a957-fdb319703be8"
      }
     }
    },
    "cb6a71a1-20c4-4eec-946e-76b2c416d3bb": {
     "id": "cb6a71a1-20c4-4eec-946e-76b2c416d3bb",
     "prev": "551a3257-7296-4c8d-8918-906cd7ccf353",
     "regions": {
      "178ad312-baec-49f9-95b8-49b8f8d9935a": {
       "attrs": {
        "height": 0.8,
        "width": 0.8,
        "x": 0.1,
        "y": 0.1
       },
       "content": {
        "cell": "658b38d1-b603-41e0-855b-f1692951528e",
        "part": "whole"
       },
       "id": "178ad312-baec-49f9-95b8-49b8f8d9935a"
      }
     }
    },
    "cbd1c506-de4f-4b7e-8766-71e4e9e94f6d": {
     "id": "cbd1c506-de4f-4b7e-8766-71e4e9e94f6d",
     "prev": "6f62370c-a98b-4132-9d37-353bb5f61703",
     "regions": {
      "7e4add36-53ac-4575-9167-c3bc35744f94": {
       "attrs": {
        "height": 0.8,
        "width": 0.8,
        "x": 0.1,
        "y": 0.1
       },
       "content": {
        "cell": "7c28bee1-016d-4650-ac66-04f07fc54866",
        "part": "whole"
       },
       "id": "7e4add36-53ac-4575-9167-c3bc35744f94"
      }
     }
    },
    "d0613d39-4b8c-4955-bb4f-a963814b5a3a": {
     "id": "d0613d39-4b8c-4955-bb4f-a963814b5a3a",
     "prev": "6ffb910d-f681-43d7-a605-4ba5e6d12749",
     "regions": {
      "a39a9665-7e9c-412d-8342-bf59d01930c3": {
       "attrs": {
        "height": 0.8,
        "width": 0.8,
        "x": 0.1,
        "y": 0.1
       },
       "content": {
        "cell": "ddb34ed4-8625-45ea-9c06-b1cb6ed3a532",
        "part": "whole"
       },
       "id": "a39a9665-7e9c-412d-8342-bf59d01930c3"
      }
     }
    },
    "d2e32be2-a766-4050-b6af-bdf47779a51d": {
     "id": "d2e32be2-a766-4050-b6af-bdf47779a51d",
     "prev": "a1f0c13d-ee6c-4c38-af80-ebdc2be01a39",
     "regions": {
      "bcbd8ac5-c5cc-43a9-bdb4-0f7868ec7baa": {
       "attrs": {
        "height": 0.8,
        "width": 0.8,
        "x": 0.1,
        "y": 0.1
       },
       "content": {
        "cell": "51bc9e02-780c-4628-ace2-a42e2bbc5ab2",
        "part": "whole"
       },
       "id": "bcbd8ac5-c5cc-43a9-bdb4-0f7868ec7baa"
      }
     }
    },
    "d3298c90-0ff4-4e69-89ee-e2258ece5366": {
     "id": "d3298c90-0ff4-4e69-89ee-e2258ece5366",
     "prev": "339d3b6c-59d1-4b2b-8620-fed751dbfdb3",
     "regions": {
      "454c4943-807f-4396-80e3-1f8a4c440315": {
       "attrs": {
        "height": 0.8,
        "width": 0.8,
        "x": 0.1,
        "y": 0.1
       },
       "content": {
        "cell": "86ace995-62a1-4bad-ba6a-54263e2c97e9",
        "part": "whole"
       },
       "id": "454c4943-807f-4396-80e3-1f8a4c440315"
      }
     }
    },
    "db5fabaa-2738-4f3f-904b-d1a9d02308a7": {
     "id": "db5fabaa-2738-4f3f-904b-d1a9d02308a7",
     "prev": "87dacff8-584c-4b2d-8e80-9fe0b7748be7",
     "regions": {
      "6469cb2f-3846-493e-801f-92ba42e4203a": {
       "attrs": {
        "height": 0.8,
        "width": 0.8,
        "x": 0.1,
        "y": 0.1
       },
       "content": {
        "cell": "57980ddb-a138-48db-a7c9-0c22db5c2215",
        "part": "whole"
       },
       "id": "6469cb2f-3846-493e-801f-92ba42e4203a"
      }
     }
    },
    "db6ef39c-c97d-4be7-b78b-342e3ce97b79": {
     "id": "db6ef39c-c97d-4be7-b78b-342e3ce97b79",
     "prev": "cbd1c506-de4f-4b7e-8766-71e4e9e94f6d",
     "regions": {
      "1d7e6144-0736-48e1-b946-d177e86db492": {
       "attrs": {
        "height": 0.8,
        "width": 0.8,
        "x": 0.1,
        "y": 0.1
       },
       "content": {
        "cell": "61cc0b42-d084-4492-a6d7-87b85afdd465",
        "part": "whole"
       },
       "id": "1d7e6144-0736-48e1-b946-d177e86db492"
      }
     }
    },
    "dfc12ca3-a05c-4d3a-a44a-2f51bc95d7ad": {
     "id": "dfc12ca3-a05c-4d3a-a44a-2f51bc95d7ad",
     "prev": "1f980c73-e374-48d0-93b6-b75206491360",
     "regions": {
      "b929b6fb-73c5-4f18-86a5-f311b9bf5e9a": {
       "attrs": {
        "height": 0.8,
        "width": 0.8,
        "x": 0.1,
        "y": 0.1
       },
       "content": {
        "cell": "3899b7a7-e51e-44b2-a1f1-82c190f9d2b7",
        "part": "whole"
       },
       "id": "b929b6fb-73c5-4f18-86a5-f311b9bf5e9a"
      }
     }
    },
    "e07ea083-877d-49ec-91ac-abe05fbcbb60": {
     "id": "e07ea083-877d-49ec-91ac-abe05fbcbb60",
     "prev": "e3578f45-8cec-4964-b4b9-760b89e00416",
     "regions": {
      "3d2f7faf-7594-47a2-a5c3-d96160e20fa9": {
       "attrs": {
        "height": 0.8,
        "width": 0.8,
        "x": 0.1,
        "y": 0.1
       },
       "content": {
        "cell": "144b7da4-d87c-41bd-ac46-ab20f0586d5b",
        "part": "whole"
       },
       "id": "3d2f7faf-7594-47a2-a5c3-d96160e20fa9"
      }
     }
    },
    "e3578f45-8cec-4964-b4b9-760b89e00416": {
     "id": "e3578f45-8cec-4964-b4b9-760b89e00416",
     "prev": "46be5b4a-db06-497c-8bc0-f195ecde9914",
     "regions": {
      "5c984969-bdaa-451f-b068-d4ea5625fa7a": {
       "attrs": {
        "height": 0.8,
        "width": 0.8,
        "x": 0.1,
        "y": 0.1
       },
       "content": {
        "cell": "d4783660-0ae9-4508-b7a4-1a7295e684a1",
        "part": "whole"
       },
       "id": "5c984969-bdaa-451f-b068-d4ea5625fa7a"
      }
     }
    },
    "e7e780e8-bbfa-4a61-bea1-d2aa427e082c": {
     "id": "e7e780e8-bbfa-4a61-bea1-d2aa427e082c",
     "prev": "1919a128-c165-4239-a15a-3c0ea8d639e2",
     "regions": {
      "f45cac70-afb6-49ab-8d40-3c8d6a7f5a54": {
       "attrs": {
        "height": 0.8,
        "width": 0.8,
        "x": 0.1,
        "y": 0.1
       },
       "content": {
        "cell": "82f9018a-4fc0-4132-a4cc-51400b7469ee",
        "part": "whole"
       },
       "id": "f45cac70-afb6-49ab-8d40-3c8d6a7f5a54"
      }
     }
    },
    "ea1dac73-8140-43f0-bf17-a0539ba2e8f1": {
     "id": "ea1dac73-8140-43f0-bf17-a0539ba2e8f1",
     "prev": "ef769b36-e8c1-4ccf-92ce-3c5985280097",
     "regions": {
      "0319f5a8-3292-4f1d-961b-aeb20bd2560a": {
       "attrs": {
        "height": 0.8,
        "width": 0.8,
        "x": 0.1,
        "y": 0.1
       },
       "content": {
        "cell": "013ad4a5-c24d-452b-86a8-d3711cfc65ba",
        "part": "whole"
       },
       "id": "0319f5a8-3292-4f1d-961b-aeb20bd2560a"
      }
     }
    },
    "ebf49950-b5ff-443e-a583-157740be44f4": {
     "id": "ebf49950-b5ff-443e-a583-157740be44f4",
     "prev": "6164f013-1244-4e59-88be-a525c9e4aa89",
     "regions": {
      "b0442699-a9ad-47aa-90f7-bee3ff86a401": {
       "attrs": {
        "height": 0.8,
        "width": 0.8,
        "x": 0.1,
        "y": 0.1
       },
       "content": {
        "cell": "06966f05-0152-4ea1-8d87-ca7af3caeef1",
        "part": "whole"
       },
       "id": "b0442699-a9ad-47aa-90f7-bee3ff86a401"
      }
     }
    },
    "ef769b36-e8c1-4ccf-92ce-3c5985280097": {
     "id": "ef769b36-e8c1-4ccf-92ce-3c5985280097",
     "prev": "dfc12ca3-a05c-4d3a-a44a-2f51bc95d7ad",
     "regions": {
      "b8ea35a0-1515-4fe9-825b-a4ca9e66780a": {
       "attrs": {
        "height": 0.8,
        "width": 0.8,
        "x": 0.1,
        "y": 0.1
       },
       "content": {
        "cell": "443be173-fe91-4a1b-b622-c8b49889640e",
        "part": "whole"
       },
       "id": "b8ea35a0-1515-4fe9-825b-a4ca9e66780a"
      }
     }
    },
    "eff9ac20-610f-4532-9ad4-813bb0b7372d": {
     "id": "eff9ac20-610f-4532-9ad4-813bb0b7372d",
     "prev": "56e2cb88-3024-40af-8bd4-067465b14941",
     "regions": {
      "25daafe6-e7a5-422d-abc3-179d03ad1c96": {
       "attrs": {
        "height": 0.8,
        "width": 0.8,
        "x": 0.1,
        "y": 0.1
       },
       "content": {
        "cell": "92074355-3564-400f-8399-c278e1793ce4",
        "part": "whole"
       },
       "id": "25daafe6-e7a5-422d-abc3-179d03ad1c96"
      }
     }
    },
    "f238d0b6-ecd5-4c94-9136-6addddb7dde0": {
     "id": "f238d0b6-ecd5-4c94-9136-6addddb7dde0",
     "prev": "f5c9bc85-9165-4904-a107-1791ddcef42e",
     "regions": {
      "63f4ee3c-bcda-49a3-bcf9-5898eaa869f2": {
       "attrs": {
        "height": 0.8,
        "width": 0.8,
        "x": 0.1,
        "y": 0.1
       },
       "content": {
        "cell": "3997971c-d3b7-465c-8443-fdb8743d4d47",
        "part": "whole"
       },
       "id": "63f4ee3c-bcda-49a3-bcf9-5898eaa869f2"
      }
     }
    },
    "f5c9bc85-9165-4904-a107-1791ddcef42e": {
     "id": "f5c9bc85-9165-4904-a107-1791ddcef42e",
     "prev": "c8faa4ed-1d68-4fa3-b11d-44d8fe679e96",
     "regions": {
      "2fd53c05-cfd2-4476-bf18-36ef6e4de334": {
       "attrs": {
        "height": 0.8,
        "width": 0.8,
        "x": 0.1,
        "y": 0.1
       },
       "content": {
        "cell": "4b9084fe-e666-4c3d-b7ff-1d50d5149241",
        "part": "whole"
       },
       "id": "2fd53c05-cfd2-4476-bf18-36ef6e4de334"
      }
     }
    },
    "f7167936-d537-44ba-b1f7-b9f2ca2e9788": {
     "id": "f7167936-d537-44ba-b1f7-b9f2ca2e9788",
     "prev": "0440b035-43c2-4a52-bd66-81a6697bf1b4",
     "regions": {
      "a361b327-65dd-4cde-a02c-678976029470": {
       "attrs": {
        "height": 0.8,
        "width": 0.8,
        "x": 0.1,
        "y": 0.1
       },
       "content": {
        "cell": "92216aae-8c4d-45a0-adf3-8551e0fa13c5",
        "part": "whole"
       },
       "id": "a361b327-65dd-4cde-a02c-678976029470"
      }
     }
    },
    "f917f312-7934-4b01-aa4d-b61df6ab1f0f": {
     "id": "f917f312-7934-4b01-aa4d-b61df6ab1f0f",
     "prev": "9a853742-5407-4c81-93e6-826c8700d4a1",
     "regions": {
      "bbfe6569-f893-432d-a383-a406565eb317": {
       "attrs": {
        "height": 0.8,
        "width": 0.8,
        "x": 0.1,
        "y": 0.1
       },
       "content": {
        "cell": "3c89cf05-30b3-4460-bb38-100d0ef1217b",
        "part": "whole"
       },
       "id": "bbfe6569-f893-432d-a383-a406565eb317"
      }
     }
    },
    "f9dc08c0-bd8b-47f2-864b-e6f01a14c5ab": {
     "id": "f9dc08c0-bd8b-47f2-864b-e6f01a14c5ab",
     "prev": "db5fabaa-2738-4f3f-904b-d1a9d02308a7",
     "regions": {
      "e9f6645e-f86d-4319-9fc7-939a4aaac756": {
       "attrs": {
        "height": 0.8,
        "width": 0.8,
        "x": 0.1,
        "y": 0.1
       },
       "content": {
        "cell": "98b03aee-9028-4753-8582-f4326765a286",
        "part": "whole"
       },
       "id": "e9f6645e-f86d-4319-9fc7-939a4aaac756"
      }
     }
    },
    "ffe9b13e-6b53-45a3-95cb-8b694edda5a2": {
     "id": "ffe9b13e-6b53-45a3-95cb-8b694edda5a2",
     "prev": "8e8ce4df-e043-42e1-a205-40a51c906a01",
     "regions": {
      "163eebcd-64a4-4473-9173-27766703839f": {
       "attrs": {
        "height": 0.8,
        "width": 0.8,
        "x": 0.1,
        "y": 0.1
       },
       "content": {
        "cell": "bdb383c1-7772-4681-9f08-faf6203164c5",
        "part": "whole"
       },
       "id": "163eebcd-64a4-4473-9173-27766703839f"
      }
     }
    }
   },
   "themes": {}
  }
 },
 "nbformat": 4,
 "nbformat_minor": 1
}
