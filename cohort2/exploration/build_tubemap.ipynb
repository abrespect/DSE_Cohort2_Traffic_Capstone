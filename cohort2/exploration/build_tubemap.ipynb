{
 "cells": [
  {
   "cell_type": "code",
   "execution_count": 1,
   "metadata": {
    "collapsed": false
   },
   "outputs": [],
   "source": [
    "%matplotlib inline\n",
    "\n",
    "import matplotlib as mpl\n",
    "import pandas as pd\n",
    "import os\n",
    "import glob\n",
    "import numpy as np\n",
    "import scipy.linalg as sla\n",
    "import matplotlib.pyplot as plt\n",
    "import ast\n",
    "\n",
    "import json"
   ]
  },
  {
   "cell_type": "code",
   "execution_count": 2,
   "metadata": {
    "collapsed": false
   },
   "outputs": [
    {
     "data": {
      "text/html": [
       "<div>\n",
       "<table border=\"1\" class=\"dataframe\">\n",
       "  <thead>\n",
       "    <tr style=\"text-align: right;\">\n",
       "      <th></th>\n",
       "      <th>ID</th>\n",
       "      <th>Fwy</th>\n",
       "      <th>dir</th>\n",
       "      <th>District</th>\n",
       "      <th>County</th>\n",
       "      <th>City</th>\n",
       "      <th>State_PM</th>\n",
       "      <th>Abs_PM</th>\n",
       "      <th>Latitude</th>\n",
       "      <th>Longitude</th>\n",
       "      <th>Length</th>\n",
       "      <th>Type</th>\n",
       "      <th>Lanes</th>\n",
       "      <th>Name</th>\n",
       "      <th>User_ID_1</th>\n",
       "      <th>User_ID_2</th>\n",
       "      <th>User_ID_3</th>\n",
       "      <th>User_ID_4</th>\n",
       "      <th>file_date</th>\n",
       "      <th>freeway</th>\n",
       "    </tr>\n",
       "  </thead>\n",
       "  <tbody>\n",
       "    <tr>\n",
       "      <th>584</th>\n",
       "      <td>1113072</td>\n",
       "      <td>56</td>\n",
       "      <td>W</td>\n",
       "      <td>11</td>\n",
       "      <td>73</td>\n",
       "      <td>66000.0</td>\n",
       "      <td>7.383</td>\n",
       "      <td>7.885</td>\n",
       "      <td>32.955202</td>\n",
       "      <td>-117.124689</td>\n",
       "      <td>0.452</td>\n",
       "      <td>ML</td>\n",
       "      <td>2</td>\n",
       "      <td>Black Mountain Rd</td>\n",
       "      <td>314</td>\n",
       "      <td>NaN</td>\n",
       "      <td>NaN</td>\n",
       "      <td>NaN</td>\n",
       "      <td>01_01</td>\n",
       "      <td>56W</td>\n",
       "    </tr>\n",
       "  </tbody>\n",
       "</table>\n",
       "</div>"
      ],
      "text/plain": [
       "          ID  Fwy dir  District  County     City State_PM  Abs_PM   Latitude  \\\n",
       "584  1113072   56   W        11      73  66000.0    7.383   7.885  32.955202   \n",
       "\n",
       "      Longitude  Length Type  Lanes               Name  User_ID_1  User_ID_2  \\\n",
       "584 -117.124689   0.452   ML      2  Black Mountain Rd        314        NaN   \n",
       "\n",
       "     User_ID_3  User_ID_4 file_date freeway  \n",
       "584        NaN        NaN     01_01     56W  "
      ]
     },
     "execution_count": 2,
     "metadata": {},
     "output_type": "execute_result"
    }
   ],
   "source": [
    "def loadMeta():\n",
    "    meta_dir='../data/External/meta/2015/d11/d11_text_meta_2015_*.txt'\n",
    "    meta_files = glob.glob(meta_dir)\n",
    "\n",
    "    meta_file_list = []\n",
    "    for meta_file in meta_files:\n",
    "        date = str('_'.join(meta_file.split('_')[4:7])).split('.')[0]\n",
    "        df = pd.read_table(meta_file, index_col=None, header=0)\n",
    "        date_col = pd.Series([date] * len(df))\n",
    "        df['file_date'] = date_col\n",
    "        # drop rows that are missing latitude / longitude values\n",
    "        df.dropna(inplace=True, subset=['Latitude', 'Longitude'], how='any')\n",
    "        meta_file_list.append(df)\n",
    "\n",
    "    meta_frame = pd.concat(meta_file_list).drop_duplicates(subset='ID', keep='last')\n",
    "\n",
    "    #state freeways we are interested in plotting\n",
    "    #meta_frame.Fwy.unique()\n",
    "    usefwy = [ 56, 125, 805,  52, 163,   8,  15,   5, 905,  78,  94,  54]\n",
    "\n",
    "    meta_frame = meta_frame[meta_frame.Fwy.apply(lambda x: x in usefwy)]\n",
    "\n",
    "    #Add freeway name FwyDir\n",
    "    meta_frame['freeway'] = meta_frame.Fwy.apply(str) + meta_frame.Dir\n",
    "    \n",
    "    meta_frame=meta_frame.rename(columns = {'Dir':'dir'})\n",
    "    return meta_frame\n",
    "\n",
    "#test\n",
    "loadMeta().head(1)"
   ]
  },
  {
   "cell_type": "code",
   "execution_count": 3,
   "metadata": {
    "collapsed": false,
    "scrolled": false
   },
   "outputs": [],
   "source": [
    "#automaticly determining points works well enough but makes an aweful map let's manually draw our interconnects\n",
    "fwy_connectors = {\n",
    "    (5,78):(33.177350, -117.351977),\n",
    "    (5,56):(32.932590, -117.239895),\n",
    "    (5,805):(32.902329, -117.223416),\n",
    "    (5,52):(32.838025, -117.234059),\n",
    "    (5,8):(32.759818, -117.203503),\n",
    "    (5,163):(32.724587, -117.155438),\n",
    "    (5,94):(32.713611, -117.146340),\n",
    "    (5,15):(32.692810, -117.121964),\n",
    "    (5,54):(32.651339, -117.103253),\n",
    "    (5,905):(32.566037, -117.073295),\n",
    "    \n",
    "    (805,52):(32.847409, -117.178063),\n",
    "    (805,163):(32.809184, -117.153001),\n",
    "    (805,8):(32.771808, -117.132230),\n",
    "    (805,15):(32.733983, -117.112488),\n",
    "    (805,94):(32.718820, -117.102532),\n",
    "    (805,54):(32.658719, -117.074551),\n",
    "    (805,905):(32.567914, -117.040562),\n",
    "    (805,5):(32.549688, -117.040164),\n",
    "   \n",
    "    (163,15):(32.864525, -117.109639),\n",
    "    (163,52):(32.841019, -117.133328),\n",
    "    (163,8):(32.762814, -117.163026),\n",
    "    \n",
    "    (15,78):(33.127911, -117.106158),\n",
    "    (15,56):(32.965527, -117.070403),\n",
    "    (15,52):(32.841811, -117.120656),\n",
    "    (15,8):(32.778474, -117.112245),\n",
    "    (15,94):(32.716969, -117.117567),\n",
    "    \n",
    "    (125,52):(32.836505, -117.003379),\n",
    "    (125,8):(32.777783, -117.004065),\n",
    "    (125,94):(32.750789, -117.014537),\n",
    "    (125,54):(32.691763, -117.014677),\n",
    "    (125,905):(32.564251, -116.947901),\n",
    "    \n",
    "    (5,'End'):(33.8, -117.607157),\n",
    "    (15,'End'):(33.8, -117.106158),\n",
    "    ('End',5):(32.542842, -117.05),\n",
    "    \n",
    "    (52,'End'):(32.846532, -117.243964),\n",
    "    \n",
    "    (8,'End'):(32.755638, -117.236089),\n",
    "    ('End',8):(32.835468, -116.739977),\n",
    "    (163,'Bend'):(32.821763, -117.146166),\n",
    "    (163,'Bend1'):(32.791449, -117.159621),\n",
    "    (805,'Bend'):(32.821763, -117.162611),\n",
    "    (805,'Bend1'):(32.789250, -117.147848),\n",
    "    (78,'End'):(33.091122, -116.951959),\n",
    "    (94,'End'):(32.728619, -116.906281),\n",
    "    (905,'End'):(32.564469, -116.915106)\n",
    "}\n",
    "\n",
    "fix_xy = {\n",
    "    (805, 94) : (475.0, 200.0) , \n",
    "    (5, 905) : (450.0, 25.0) , \n",
    "    (5, 805) : (375.0, 375.0) , \n",
    "    (125, 8) : (550.0, 250.0) ,\n",
    "    (163, 8) : (400.0, 250.0) ,   \n",
    "    (15, 8) : (450.0, 250.0) ,  \n",
    "    (5, 54) : (450.0, 150.0) ,   \n",
    "    (5, 8) : (350.0, 250.0) , \n",
    "    (805, 163) : (412.5, 312.5) , \n",
    "    (805, 905) : (475.0, 25.0) ,  \n",
    "    (5, 56) : (375.0, 460.0) ,\n",
    "    (125, 54) : (550.0, 150.0) ,  \n",
    "    (805, 52) : (400.0, 350.0) ,\n",
    "    (805, 8) : (425.0, 250.0) , \n",
    "    (5, 163) : (400.0, 200.0) ,  \n",
    "    (15, 56) : (450.0, 460.0) ,  \n",
    "    (805, 5) : (475.0, 0.0) ,\n",
    "    (163, 15) : (450.0, 375.0) ,  \n",
    "    (5, 52) : (350.0, 350.0) , \n",
    "    (5, 15) : (450.0, 175.0) , \n",
    "    (5, 94) : (425.0, 200.0) ,  \n",
    "    (15, 52) : (450.0, 350.0) ,  \n",
    "    (125, 905) : (550.0, 25.0) ,  \n",
    "    (15, 94) : (450.0, 200.0) ,  \n",
    "    (163, 52) : (425.0, 350.0) , \n",
    "    (125, 94) : (550.0, 200.0) , \n",
    "    (805, 15) : (450.0, 225.0) ,  \n",
    "    (805, 54) : (475.0, 150.0) ,  \n",
    "    (125, 52) : (550.0, 350.0) , \n",
    "    (15, 78) : (450.0, 650.0) ,\n",
    "    (5, 78) : (375.0, 650.0) ,\n",
    "    ('End', 8) : (700.0, 250.0) ,\n",
    "    (8, 'End') : (325.0, 250.0),\n",
    "    (78, 'End') : (475.0, 650.0) ,\n",
    "    (94, 'End') : (700.0, 200.0) ,\n",
    "    (163, 'Bend') : (425.0, 325.0) ,\n",
    "    (805, 'Bend') : (400.0, 325.0) ,\n",
    "    (163, 'Bend1') : (400.0, 300.0) ,\n",
    "    (805, 'Bend1') : (425.0, 300.0) ,\n",
    "    (52, 'End') : (325.0, 350.0) ,\n",
    "    (5, 'End') : (375.0, 1000.0) ,\n",
    "    (15, 'End') : (450.0, 1000.0) ,\n",
    "    ('End',5):(500.0,0),\n",
    "    \n",
    "    (905, 'End') : (700.0, 25.0) ,\n",
    "}\n",
    "\n",
    "special_cases = {\n",
    "    #('805S<->52W',805,'S') : (0.0, 2), \n",
    "    ('5S<->52W',5,'S') : (0, 2),\n",
    "    ('5S<->805S',5,'S') : (0, 2), \n",
    "    ('5S<->805S',805,'S') : (0, 2), \n",
    "    ('163S<->15S',15,'S') : (0, 2), \n",
    "    ('163S<->15S',163,'S') : (0, 2),\n",
    "    ('163S<->52W',163,'S') : (0, 2),\n",
    "    \n",
    "    ('805N<->163N',163,'N') : (0, -2),\n",
    "    ('805N<->163N',805,'N') : (0, -2),\n",
    "    ('805S<->163S',163,'S') : (0, 0),\n",
    "    ('805S<->163S',805,'S') : (0, 0),\n",
    "    \n",
    "    ('163N<->Bend',163,'N') : (0, -2),\n",
    "    ('163S<->Bend',163,'S') : (0, 0),\n",
    "    ('805N<->Bend',805,'N') : (0, -2),\n",
    "    ('805S<->Bend',805,'S') : (0, 0),\n",
    "    ('163N<->Bend1',163,'N') : (0, -2),\n",
    "    ('163S<->Bend1',163,'S') : (0, 0),\n",
    "    ('805N<->Bend1',805,'N') : (0, -2),\n",
    "    ('805S<->Bend1',805,'S') : (0, 0),     \n",
    "}\n",
    "\n",
    "#special_cases = {}"
   ]
  },
  {
   "cell_type": "code",
   "execution_count": 10,
   "metadata": {
    "collapsed": false,
    "scrolled": false
   },
   "outputs": [],
   "source": [
    "class TubeMap:\n",
    "    def __init__(self, df, fwy_connectors, fix_xy, special_cases):\n",
    "        self.df = df\n",
    "        \n",
    "        self.origin = {\n",
    "            'Latitude':self.df.Latitude.min(), \n",
    "            'Longitude':self.df.Longitude.min()\n",
    "        }\n",
    "        \n",
    "        self.buildXYHaver()\n",
    "        \n",
    "        self.conns = self.applyFixedPoints(fwy_connectors, fix_xy)\n",
    "        \n",
    "        self.conn_df = self.buildConnDf(special_cases)\n",
    "        \n",
    "        self.tube_dict = self.buildTubeDict()\n",
    "        \n",
    "    def applyFixedPoints(self, fwy_connectors, fix_xy):\n",
    "        \n",
    "        conns = fwy_connectors.copy()\n",
    "        for fwys, latlon in fwy_connectors.iteritems():\n",
    "            conns[fwys]={'latlon':latlon,'xy':self.haver(latlon[0],latlon[1])}\n",
    "\n",
    "        for f,xy in fix_xy.iteritems():\n",
    "            conns[f]['xy']=xy\n",
    "\n",
    "        return conns\n",
    "        \n",
    "    def buildXYHaver(self):\n",
    "        #latlon to meters and scaled\n",
    "        xy = self.df.apply(lambda a:self.haver(a['Latitude'], a['Longitude']),axis = 1)\n",
    "        self.df['X'] = xy.apply(lambda x:x[0])\n",
    "        self.df['Y'] = xy.apply(lambda x:x[1])\n",
    "        \n",
    "    def haver(self, latitude, longitude):\n",
    "        import haversine as hs\n",
    "        self.scale = 10 \n",
    "        x = hs.haversine((latitude, self.origin['Longitude']), (latitude, longitude))*self.scale\n",
    "        y = hs.haversine((self.origin['Latitude'], longitude), (latitude, longitude))*self.scale\n",
    "        \n",
    "        return x,y\n",
    "        \n",
    "    def GetCardinal(self, x1,y1,x2,y2,name):\n",
    "        import math\n",
    "\n",
    "        #dirs = ['N', 'NE','E','SE','S','SW','W','NW']\n",
    "        dirs =     ['N', 'SE','E','NE','N','SW','W','NW']\n",
    "        angle = math.degrees(math.atan2(float(y1-y2), float(x1-x2)))\n",
    "        if 'E' in name:\n",
    "            dirs = ['S', 'NE','E','SE','S','SW','W','NW']\n",
    "\n",
    "        if 'S' in name:\n",
    "            dirs = ['N', 'NW','W','SW','W','SW','W','NW']\n",
    "\n",
    "        if 'W' in name:\n",
    "            dirs = ['N', 'NE','E','SE','N','SW','W','NW']\n",
    "\n",
    "\n",
    "        dx,dy = x2-x1,y2-y1\n",
    "\n",
    "        return dirs[int(math.floor(((angle+360)%360)/(360.0/len(dirs)) ))]\n",
    "\n",
    "\n",
    "    def buildConnDf(self, special_cases):\n",
    "        freeways = self.df.Fwy.unique()\n",
    "        \n",
    "        self.freeway_dict = {}\n",
    "        for f in  freeways:\n",
    "            dirs = sorted(self.df[self.df.Fwy == f]['dir'].unique())\n",
    "            self.freeway_dict[str(f)] = dirs\n",
    "\n",
    "\n",
    "        self.freeway_dict['End']=['','']\n",
    "        self.freeway_dict['Bend']=['','']\n",
    "        self.freeway_dict['Bend1']=['','']\n",
    "        self.freeway_dict['Bend2']=['','']\n",
    "        self.freeway_dict['Bend3']=['','']\n",
    "        self.freeway_dict['Bend4']=['','']\n",
    "        self.freeway_dict['Blank']=['','']\n",
    "        \n",
    "        fix_dir_dict = {'NN':'N', 'SS':'S','NE':'NE','EN':'NE','NW':'NW','SW':'SW','WS':'SW','EE':'E','WW':'W','N':'N','S':'','E':'E','W':'E'}\n",
    "        \n",
    "        df = pd.DataFrame()\n",
    "        for fwys,d in self.conns.iteritems():\n",
    "            latlon = d['latlon']\n",
    "            xy = d['xy']\n",
    "            \n",
    "            name = '<->'.join([str(s)+self.freeway_dict[str(s)][0] for s in fwys])\n",
    "            name = '<->'.join([str(s)+self.freeway_dict[str(s)][1] for s in fwys])\n",
    "\n",
    "            for i in range(0,2):\n",
    "                name = '<->'.join([str(s)+self.freeway_dict[str(s)][i] for s in fwys])\n",
    "                #print name\n",
    "                labelPos = fix_dir_dict[''.join([self.freeway_dict[str(f)][i] for f in fwys])]\n",
    "                marker = 'interchange'\n",
    "\n",
    "                somename = name\n",
    "\n",
    "                exclusion = ['Bend1','Bend','End']\n",
    "                if sum([(f in exclusion) for f in fwys]):\n",
    "                    #name = ''\n",
    "                    #labelPos = None\n",
    "                    marker = None #'station'\n",
    "\n",
    "                for f in [f for f in fwys if (f not in exclusion) ]:\n",
    "                    Dir = self.freeway_dict[str(f)][i]\n",
    "                    x,y = xy\n",
    "                    fwy = str(f)\n",
    "                    \n",
    "                    xd, yd = special_cases.get((somename,f,Dir),(0,0))\n",
    "\n",
    "                    x += xd\n",
    "                    y += yd\n",
    "\n",
    "                    if self.freeway_dict[str(f)][i] in ['N','E']:\n",
    "                        x+=2\n",
    "                        y+=2\n",
    "\n",
    "                    #hacks\n",
    "                    ep = pd.DataFrame([1])\n",
    "\n",
    "                    ep['name'] = name\n",
    "                    ep['dir'] = Dir\n",
    "                    ep['Fwy'] = fwy\n",
    "                    ep['freeway']= str(fwy)+Dir\n",
    "                    ep['Latitude'] = latlon[0]\n",
    "                    ep['Longitude'] = latlon[1]\n",
    "                    ep['X'] = x\n",
    "                    ep['Y'] = y\n",
    "                    ep['labelPos'] = labelPos\n",
    "                    ep['marker'] = marker\n",
    "                    ep['route_node']='conn'\n",
    "\n",
    "                    df = pd.concat([df,ep])\n",
    "\n",
    "        df.drop([0],axis = 1,inplace=True)\n",
    "        df = df.reset_index(drop=True)\n",
    "        return df\n",
    "    \n",
    "    def buildTubeDict(self):\n",
    "        #station_types = ['ML']\n",
    "        filterframe = self.df #.apply(lambda x: x in station_types)]\n",
    "        \n",
    "        connector_frame = self.conn_df\n",
    "        \n",
    "        allgroups = {}\n",
    "        X_var = 'X'\n",
    "        Y_var = 'Y'\n",
    "\n",
    "        lines = []\n",
    "        gdawgs = {}\n",
    "        for name, group in filterframe.groupby('freeway'):  \n",
    "            #prepare fwy and fwy connectors\n",
    "            name = str(name)\n",
    "\n",
    "            connectors = connector_frame[connector_frame.freeway == name]\n",
    "            connectors['Abs_PM'] = None\n",
    "\n",
    "            group['name'] = group.ID.apply(str)\n",
    "            group['marker'] = 'station'\n",
    "            group['route_node'] = 'node'\n",
    "            group['color'] ='#00FF00'\n",
    "\n",
    "            group = pd.concat([group,connectors])\n",
    "\n",
    "            sortby = ['Longitude','Latitude']\n",
    "            if 'N' in name or 'S' in name:\n",
    "                sortby = ['Latitude','Longitude']\n",
    "\n",
    "            group = group.sort_values(sortby,ascending=False)\n",
    "            group = group.reset_index(drop=True)\n",
    "\n",
    "            #drop non terminated edges\n",
    "            f_l = group[group.route_node == 'conn'].index\n",
    "            if len(f_l)>0:\n",
    "                group = group.loc[f_l[0]:f_l[-1],:]\n",
    "\n",
    "            #build segments\n",
    "            group['block'] = (group.route_node.shift(1) != group.route_node).astype(int).cumsum()\n",
    "            segments = group.reset_index().groupby(['route_node','block'])['index'].apply(np.array)\n",
    "\n",
    "            s_min, s_max = group.index.min(),group.index.max()\n",
    "\n",
    "            for s in segments['node']:\n",
    "                s = np.append( [max(s_min,s[0]-1)],s)\n",
    "                s = np.append(s,[min(s_max,s[-1]+1)])\n",
    "\n",
    "                slice_w_endpoints = [s[0],s[-1]]\n",
    "                slice_n_endpoints = [s[1],s[-2]]\n",
    "\n",
    "                endpoints_x = group.loc[slice_w_endpoints,X_var].values\n",
    "                endpoints_y = group.loc[slice_w_endpoints,Y_var].values\n",
    "\n",
    "                x1,x2 = endpoints_x\n",
    "                y1,y2 = endpoints_y\n",
    "\n",
    "                group.loc[s[1]:s[-2],'color']='#FF00FF'\n",
    "                group.loc[s[1]:s[-2],'labelPos'] = self.GetCardinal(x1,y1,x2,y2,name)\n",
    "\n",
    "                group.loc[s[1]:s[-2]] = group.loc[s[1]:s[-2]].sort_values(['Abs_PM'],axis=0,ascending=False).values\n",
    "\n",
    "                X = np.array([endpoints_x,endpoints_y]).T\n",
    "                p = np.array([group.loc[s[1]:s[-2],X_var].values,group.loc[s[1]:s[-2],Y_var].values]).T\n",
    "\n",
    "                if len(p) > 0:\n",
    "                    #project\n",
    "                    trans = np.array([X[0,:]])\n",
    "\n",
    "                    X_trans = X-trans\n",
    "                    X_trans = X_trans[1,:]\n",
    "                    p_trans = p-trans\n",
    "\n",
    "\n",
    "                    t = np.array([np.dot(p_trans,X_trans)])\n",
    "                    b = np.array([np.dot(X_trans,X_trans)])\n",
    "\n",
    "                    c_p = np.divide(t,b)\n",
    "                    p_proj =  np.dot(c_p.T,np.array([X_trans])) + trans\n",
    "\n",
    "                    #scale\n",
    "                    p_max = np.max(p_proj,axis = 0)\n",
    "                    p_min = np.min(p_proj,axis = 0)\n",
    "\n",
    "                    center = np.sum(p_proj,axis=0)/len(p_proj)\n",
    "                    center_x = np.sum(X,axis=0)/len(X)\n",
    "\n",
    "                    p_proj = p_proj - center\n",
    "                    scale =  np.linalg.norm(p_max-p_min)\n",
    "                    x_scale = np.linalg.norm(X_trans)\n",
    "\n",
    "                    p_proj = p_proj / scale\n",
    "                    p_proj = p_proj * x_scale*0.8\n",
    "                    p_proj = p_proj + center_x\n",
    "\n",
    "                    group.loc[s[1]:s[-2],Y_var] = p_proj[:,1]\n",
    "                    group.loc[s[1]:s[-2],X_var] = p_proj[:,0]\n",
    "\n",
    "                plt.plot(group.loc[[s[0],s[-1]],X_var],group.loc[[s[0],s[-1]],Y_var],'o',label=str([s[0],s[-1]]))\n",
    "                plt.plot(group.loc[s[0]:s[-1],X_var],group.loc[s[0]:s[-1],Y_var],'.',label=str([s[0],s[-1]]))\n",
    "\n",
    "            group['coords']=group[X_var].apply(lambda x:[x]) + group[Y_var].apply(lambda x:[x])\n",
    "\n",
    "            group.dropna(subset=['X','Y'],inplace=True)\n",
    "\n",
    "            group['dups'] = group.coords.apply(str)\n",
    "            group = group.drop_duplicates(['dups','marker','dir'], keep='first')\n",
    "            group = group.drop('dups',axis = 1)\n",
    "\n",
    "            allgroups[name]=group\n",
    "\n",
    "        return allgroups\n",
    "    \n",
    "    \n",
    "    def GetTubeMapJson(self, color_func):\n",
    "        lines = []\n",
    "        \n",
    "        nodes = {}\n",
    "        edges = []\n",
    "        for name, df in self.tube_dict.iteritems():\n",
    "            for i in range(len(df)-1):\n",
    "                data = df.iloc[i:i+2,:]\n",
    "                \n",
    "                color = color_func(data)\n",
    "                \n",
    "                if  'interchange' == data.marker.values[0]:\n",
    "                    size = 1\n",
    "                else:\n",
    "                    size = 0.1\n",
    "                    \n",
    "                \n",
    "               \n",
    "                nodes[data.name.values[0]] = {\n",
    "                    'x' : data.coords.values[0][0]*10, \n",
    "                    'y' : -data.coords.values[0][1]*10,\n",
    "                    'color':color,\n",
    "                    'size':size\n",
    "                }\n",
    "                \n",
    "                edges.append({\n",
    "                    'id': data.name.values[0] +',' + data.name.values[1],\n",
    "                    'from': data.name.values[0],\n",
    "                    'to': data.name.values[1],\n",
    "                    'color':color_func(data)\n",
    "                })\n",
    "                \n",
    "        nodes2 = []\n",
    "        for k,v in nodes.iteritems():\n",
    "            v['id']=k\n",
    "            nodes2.append(v)\n",
    "                \n",
    "        data = {\n",
    "            'nodes':nodes2, \n",
    "            'edges':edges\n",
    "        }\n",
    "                \n",
    "        string = json.dumps(data)\n",
    "        \n",
    "        return string\n"
   ]
  },
  {
   "cell_type": "code",
   "execution_count": 11,
   "metadata": {
    "collapsed": false,
    "scrolled": false
   },
   "outputs": [
    {
     "name": "stderr",
     "output_type": "stream",
     "text": [
      "/Users/multidest/Applications/anaconda/lib/python2.7/site-packages/ipykernel/__main__.py:157: SettingWithCopyWarning: \n",
      "A value is trying to be set on a copy of a slice from a DataFrame.\n",
      "Try using .loc[row_indexer,col_indexer] = value instead\n",
      "\n",
      "See the caveats in the documentation: http://pandas.pydata.org/pandas-docs/stable/indexing.html#indexing-view-versus-copy\n",
      "/Users/multidest/Applications/anaconda/lib/python2.7/site-packages/ipykernel/__main__.py:159: SettingWithCopyWarning: \n",
      "A value is trying to be set on a copy of a slice from a DataFrame.\n",
      "Try using .loc[row_indexer,col_indexer] = value instead\n",
      "\n",
      "See the caveats in the documentation: http://pandas.pydata.org/pandas-docs/stable/indexing.html#indexing-view-versus-copy\n",
      "/Users/multidest/Applications/anaconda/lib/python2.7/site-packages/ipykernel/__main__.py:160: SettingWithCopyWarning: \n",
      "A value is trying to be set on a copy of a slice from a DataFrame.\n",
      "Try using .loc[row_indexer,col_indexer] = value instead\n",
      "\n",
      "See the caveats in the documentation: http://pandas.pydata.org/pandas-docs/stable/indexing.html#indexing-view-versus-copy\n",
      "/Users/multidest/Applications/anaconda/lib/python2.7/site-packages/ipykernel/__main__.py:161: SettingWithCopyWarning: \n",
      "A value is trying to be set on a copy of a slice from a DataFrame.\n",
      "Try using .loc[row_indexer,col_indexer] = value instead\n",
      "\n",
      "See the caveats in the documentation: http://pandas.pydata.org/pandas-docs/stable/indexing.html#indexing-view-versus-copy\n",
      "/Users/multidest/Applications/anaconda/lib/python2.7/site-packages/ipykernel/__main__.py:162: SettingWithCopyWarning: \n",
      "A value is trying to be set on a copy of a slice from a DataFrame.\n",
      "Try using .loc[row_indexer,col_indexer] = value instead\n",
      "\n",
      "See the caveats in the documentation: http://pandas.pydata.org/pandas-docs/stable/indexing.html#indexing-view-versus-copy\n"
     ]
    },
    {
     "data": {
      "image/png": "[encoded data removed]",
      "text/plain": [
       "<matplotlib.figure.Figure at 0x114f13bd0>"
      ]
     },
     "metadata": {},
     "output_type": "display_data"
    }
   ],
   "source": [
    "conn = TubeMap(loadMeta(), fwy_connectors, fix_xy, special_cases)"
   ]
  },
  {
   "cell_type": "code",
   "execution_count": 6,
   "metadata": {
    "collapsed": false,
    "scrolled": false
   },
   "outputs": [],
   "source": [
    "def RandomColors(data):\n",
    "    import random\n",
    "    r = lambda: random.randint(0,255)\n",
    "    color = '#%02X%02X%02X' % (r(),r(),r())\n",
    "    return color\n",
    "\n",
    "\n",
    "colors = ['#67001f','#b2182b','#d6604d','#f4a582','#fddbc7','#f7f7f7','#d1e5f0','#92c5de','#4393c3','#2166ac','#053061']\n",
    "\n",
    "fwy_colors = {}\n",
    "for i,(f,ds) in enumerate(conn.freeway_dict.iteritems()):\n",
    "    fwy_colors[str(f)] = colors[i%len(colors)]\n",
    "\n",
    "def GenFreewayColors():\n",
    "    def FreewayColors(data):\n",
    "        fwy = data.Fwy.values[1]\n",
    "\n",
    "        fwy =  str(fwy)\n",
    "\n",
    "        return fwy_colors[fwy]\n",
    "\n",
    "    \n",
    "    return FreewayColors\n",
    "        \n",
    "FreewayColors = GenFreewayColors()\n",
    "\n",
    "def GenStationColors(stations):\n",
    "    def StationColors(data):\n",
    "        try:\n",
    "            sid = data.ID.values[0]\n",
    "            return stations[sid]\n",
    "        except:\n",
    "            try:\n",
    "                sid = data.ID.values[1]\n",
    "                return stations[sid]\n",
    "            except:   \n",
    "                return '#000000'\n",
    "    \n",
    "    return StationColors\n",
    "\n",
    "\n",
    "\n",
    "#timestamp = pd.to_datetime('2016-01-01 10:10:00')\n",
    "#StationColors = GenStationColors(station_vals[timestamp])\n",
    "\n",
    "string = conn.GetTubeMapJson(RandomColors)\n",
    "with open(\"../../../DSE241/final-Abraham-Hart/highway_transit/src/default_map.json\", \"w\") as text_file:\n",
    "    text_file.write(string)"
   ]
  },
  {
   "cell_type": "code",
   "execution_count": null,
   "metadata": {
    "collapsed": true
   },
   "outputs": [],
   "source": []
  },
  {
   "cell_type": "code",
   "execution_count": null,
   "metadata": {
    "collapsed": false
   },
   "outputs": [],
   "source": []
  },
  {
   "cell_type": "code",
   "execution_count": null,
   "metadata": {
    "collapsed": true
   },
   "outputs": [],
   "source": []
  },
  {
   "cell_type": "code",
   "execution_count": 24,
   "metadata": {
    "collapsed": false
   },
   "outputs": [],
   "source": [
    "data_5min_path = \"../data/station_5min/2015/d11/\"\n",
    "\n",
    "import os \n",
    "from os.path import isfile, join\n",
    "onlyfiles = [join(data_5min_path, f) for f in os.listdir(data_5min_path) if isfile(join(data_5min_path, f))]\n",
    "\n",
    "colnames = ['Timestamp', 'Station', 'District', 'Freeway #', 'Direction', 'Lane Type', 'Station Length', 'Samples', \n",
    "            '% Observed', 'TotalFlow', 'AvgOccupancy', 'AvgSpeed', 'Lane 1 Samples', 'Lane 1 Flow', 'Lane 1 Avg Occ', 'Lane 1 Avg Speed', 'Lane 1 Observed', 'Lane 2 Samples', 'Lane 2 Flow', 'Lane 2 Avg Occ', 'Lane 2 Avg Speed', 'Lane 2 Observed', 'Lane 3 Samples', 'Lane 3 Flow', 'Lane 3 Avg Occ', 'Lane 3 Avg Speed', 'Lane 3 Observed', 'Lane 4 Samples', 'Lane 4 Flow', 'Lane 4 Avg Occ', 'Lane 4 Avg Speed', 'Lane 4 Observed', 'Lane 5 Samples', 'Lane 5 Flow', 'Lane 5 Avg Occ', 'Lane 5 Avg Speed', 'Lane 5 Observed', 'Lane 6 Samples', 'Lane 6 Flow', 'Lane 6 Avg Occ', 'Lane 6 Avg Speed', 'Lane 6 Observed', 'Lane 7 Samples', 'Lane 7 Flow', 'Lane 7 Avg Occ', 'Lane 7 Avg Speed', 'Lane 7 Observed', 'Lane 8 Samples', 'Lane 8 Flow', 'Lane 8 Avg Occ', 'Lane 8 Avg Speed', 'Lane 8 Observed']\n",
    "\n",
    "file_content = pd.read_csv(onlyfiles[0],header=None,names=colnames)\n",
    "\n",
    "file_content.drop(['District', 'Direction', 'Freeway #', 'Lane Type', 'Station Length', 'Samples', '% Observed', 'Lane 1 Avg Speed','Lane 1 Samples', 'Lane 1 Flow', 'Lane 1 Avg Occ','Lane 1 Observed', 'Lane 2 Samples', 'Lane 2 Flow', 'Lane 2 Avg Occ', 'Lane 2 Avg Speed', 'Lane 2 Observed', 'Lane 3 Samples', 'Lane 3 Flow', 'Lane 3 Avg Occ', 'Lane 3 Avg Speed', 'Lane 3 Observed', 'Lane 4 Samples', 'Lane 4 Flow', 'Lane 4 Avg Occ', 'Lane 4 Avg Speed', 'Lane 4 Observed', 'Lane 5 Samples', 'Lane 5 Flow', 'Lane 5 Avg Occ', 'Lane 5 Avg Speed', 'Lane 5 Observed', 'Lane 6 Samples', 'Lane 6 Flow', 'Lane 6 Avg Occ', 'Lane 6 Avg Speed', 'Lane 6 Observed', 'Lane 7 Samples', 'Lane 7 Flow', 'Lane 7 Avg Occ', 'Lane 7 Avg Speed', 'Lane 7 Observed', 'Lane 8 Samples', 'Lane 8 Flow', 'Lane 8 Avg Occ', 'Lane 8 Avg Speed', 'Lane 8 Observed'],axis=1,inplace=True)\n",
    "\n",
    "#convert Timestate to pd.datetime\n",
    "file_content.loc[:,'Timestamp'] = pd.to_datetime(file_content.loc[:,'Timestamp'], format='%m/%d/%Y %H:%M:%S')"
   ]
  },
  {
   "cell_type": "code",
   "execution_count": 4,
   "metadata": {
    "collapsed": false
   },
   "outputs": [],
   "source": [
    "\n",
    "data_5min_path = \"../data/station_5min/2015/d11/\"\n",
    "\n",
    "import os \n",
    "from os.path import isfile, join\n",
    "onlyfiles = [join(data_5min_path, f) for f in os.listdir(data_5min_path) if isfile(join(data_5min_path, f))]\n",
    "\n",
    "colnames = ['Timestamp', 'Station', 'District', 'Freeway #', 'Direction', 'Lane Type', 'Station Length', 'Samples', \n",
    "            '% Observed', 'TotalFlow', 'AvgOccupancy', 'AvgSpeed', 'Lane 1 Samples', 'Lane 1 Flow', 'Lane 1 Avg Occ', 'Lane 1 Avg Speed', 'Lane 1 Observed', 'Lane 2 Samples', 'Lane 2 Flow', 'Lane 2 Avg Occ', 'Lane 2 Avg Speed', 'Lane 2 Observed', 'Lane 3 Samples', 'Lane 3 Flow', 'Lane 3 Avg Occ', 'Lane 3 Avg Speed', 'Lane 3 Observed', 'Lane 4 Samples', 'Lane 4 Flow', 'Lane 4 Avg Occ', 'Lane 4 Avg Speed', 'Lane 4 Observed', 'Lane 5 Samples', 'Lane 5 Flow', 'Lane 5 Avg Occ', 'Lane 5 Avg Speed', 'Lane 5 Observed', 'Lane 6 Samples', 'Lane 6 Flow', 'Lane 6 Avg Occ', 'Lane 6 Avg Speed', 'Lane 6 Observed', 'Lane 7 Samples', 'Lane 7 Flow', 'Lane 7 Avg Occ', 'Lane 7 Avg Speed', 'Lane 7 Observed', 'Lane 8 Samples', 'Lane 8 Flow', 'Lane 8 Avg Occ', 'Lane 8 Avg Speed', 'Lane 8 Observed']\n",
    "\n",
    "df_from_each_file = (pd.read_csv(f,header=None,names=colnames) for f in onlyfiles[:2])\n",
    "file_content   = pd.concat(df_from_each_file, ignore_index=True)\n",
    "\n",
    "file_content.drop(['District', 'Direction', 'Freeway #', 'Lane Type', 'Station Length', 'Samples', '% Observed', 'Lane 1 Avg Speed','Lane 1 Samples', 'Lane 1 Flow', 'Lane 1 Avg Occ','Lane 1 Observed', 'Lane 2 Samples', 'Lane 2 Flow', 'Lane 2 Avg Occ', 'Lane 2 Avg Speed', 'Lane 2 Observed', 'Lane 3 Samples', 'Lane 3 Flow', 'Lane 3 Avg Occ', 'Lane 3 Avg Speed', 'Lane 3 Observed', 'Lane 4 Samples', 'Lane 4 Flow', 'Lane 4 Avg Occ', 'Lane 4 Avg Speed', 'Lane 4 Observed', 'Lane 5 Samples', 'Lane 5 Flow', 'Lane 5 Avg Occ', 'Lane 5 Avg Speed', 'Lane 5 Observed', 'Lane 6 Samples', 'Lane 6 Flow', 'Lane 6 Avg Occ', 'Lane 6 Avg Speed', 'Lane 6 Observed', 'Lane 7 Samples', 'Lane 7 Flow', 'Lane 7 Avg Occ', 'Lane 7 Avg Speed', 'Lane 7 Observed', 'Lane 8 Samples', 'Lane 8 Flow', 'Lane 8 Avg Occ', 'Lane 8 Avg Speed', 'Lane 8 Observed'],axis=1,inplace=True)\n",
    "\n",
    "#convert Timestate to pd.datetime\n",
    "file_content.loc[:,'Timestamp'] = pd.to_datetime(file_content.loc[:,'Timestamp'], format='%m/%d/%Y %H:%M:%S')"
   ]
  },
  {
   "cell_type": "code",
   "execution_count": 25,
   "metadata": {
    "collapsed": false
   },
   "outputs": [
    {
     "data": {
      "text/plain": [
       "Index([u'Timestamp', u'Station', u'TotalFlow', u'AvgOccupancy', u'AvgSpeed'], dtype='object')"
      ]
     },
     "execution_count": 25,
     "metadata": {},
     "output_type": "execute_result"
    }
   ],
   "source": [
    "file_content.columns"
   ]
  },
  {
   "cell_type": "code",
   "execution_count": null,
   "metadata": {
    "collapsed": true
   },
   "outputs": [],
   "source": []
  },
  {
   "cell_type": "code",
   "execution_count": 26,
   "metadata": {
    "collapsed": false
   },
   "outputs": [],
   "source": [
    "#'date':{'station_id':[{'index':time,'flow':value,'speed':value,'occ':value}]}\n",
    "\n",
    "df = file_content.copy()\n",
    "df['date'] = df.Timestamp.apply(lambda x: x.date()).apply(str)\n",
    "df['time'] = df.Timestamp.apply(lambda x: x.time()).apply(str)\n",
    "df = df.drop('Timestamp',axis=1)\n",
    "df = df.sort_values('time')\n",
    "\n",
    "station_data = {}\n",
    "for date, df_date in df.groupby('date'):\n",
    "    station_data[date]={}\n",
    "    for station_id, df_station in df_date.groupby('Station'):\n",
    "        df_station = df_station.loc[:,['time','AvgSpeed','AvgOccupancy','TotalFlow']]\n",
    "        df_station = df_station.fillna(method='pad')\n",
    "        df_station = df_station.fillna(method='bfill')\n",
    "        df_station = df_station.fillna(0)                      \n",
    "        station_data[date][str(station_id)] = df_station.to_dict(orient='records')\n",
    "        \n",
    "\n",
    "jsonarray = json.dumps(station_data)\n",
    "with open(\"../../../DSE241/final-Abraham-Hart/server/station_data.json\", \"w\") as text_file:\n",
    "    text_file.write(jsonarray)"
   ]
  },
  {
   "cell_type": "code",
   "execution_count": 27,
   "metadata": {
    "collapsed": false
   },
   "outputs": [
    {
     "data": {
      "text/plain": [
       "['2015-01-01']"
      ]
     },
     "execution_count": 27,
     "metadata": {},
     "output_type": "execute_result"
    }
   ],
   "source": [
    "station_data.keys()"
   ]
  },
  {
   "cell_type": "code",
   "execution_count": 28,
   "metadata": {
    "collapsed": false
   },
   "outputs": [],
   "source": [
    "\n",
    "jsonarray = json.dumps(station_data['2015-01-01']['1113985'])\n",
    "with open(\"../../../DSE241/final-Abraham-Hart/highway_transit/src/default_station_data.json\", \"w\") as text_file:\n",
    "    text_file.write(jsonarray)"
   ]
  },
  {
   "cell_type": "code",
   "execution_count": null,
   "metadata": {
    "collapsed": false
   },
   "outputs": [],
   "source": []
  },
  {
   "cell_type": "code",
   "execution_count": null,
   "metadata": {
    "collapsed": true
   },
   "outputs": [],
   "source": []
  },
  {
   "cell_type": "code",
   "execution_count": null,
   "metadata": {
    "collapsed": true
   },
   "outputs": [],
   "source": []
  },
  {
   "cell_type": "code",
   "execution_count": null,
   "metadata": {
    "collapsed": true
   },
   "outputs": [],
   "source": []
  },
  {
   "cell_type": "code",
   "execution_count": 29,
   "metadata": {
    "collapsed": false,
    "scrolled": false
   },
   "outputs": [],
   "source": [
    "#'category':{'date':{'time':graphdata}}\n",
    "\n",
    "df = file_content.copy()\n",
    "df['date'] = df.Timestamp.apply(lambda x: x.date()).apply(str)\n",
    "df['time'] = df.Timestamp.apply(lambda x: x.time()).apply(str)\n",
    "df = df.drop('Timestamp',axis=1)\n",
    "df = df.sort_values('time')\n",
    "\n",
    "colormap_flow = ['#f2f0f7','#dadaeb','#bcbddc','#9e9ac8','#756bb1','#54278f']\n",
    "colormap_speed = ['#fee5d9','#fcbba1','#fc9272','#fb6a4a','#de2d26','#a50f15'][::-1]\n",
    "colormap_occ = ['#edf8e9','#c7e9c0','#a1d99b','#74c476','#31a354','#006d2c']\n",
    "\n",
    "categories = [('TotalFlow',colormap_flow),('AvgSpeed',colormap_speed),('AvgOccupancy',colormap_occ)]\n",
    "\n",
    "color_data = {}\n",
    "for (c,colormap) in categories:\n",
    "    min_t = df[c].min()\n",
    "    max_t = df[c].max()\n",
    "    \n",
    "\n",
    "    def getcolor(val):        \n",
    "        return colormap[int(((val - min_t)/max_t)*(len(colormap)-1))]\n",
    "    \n",
    "    station_vals = {}\n",
    "    \n",
    "    color_data[c]={}\n",
    "    for date, df_date in df.groupby('date'):\n",
    "        color_data[c][date]={}\n",
    "        for time, df_time in df_date.groupby('time'):\n",
    "            \n",
    "            #fill in missing values\n",
    "            df_time = df_time.fillna(method='pad')\n",
    "            df_time = df_time.fillna(method='bfill')\n",
    "            df_time['color']=df_time[c].apply(lambda x: getcolor(x))\n",
    "\n",
    "            color_data[c][date][time] = df_time.drop(['TotalFlow','AvgSpeed','AvgOccupancy','time','date'],axis = 1).set_index('Station').to_dict()['color']"
   ]
  },
  {
   "cell_type": "code",
   "execution_count": 30,
   "metadata": {
    "collapsed": false
   },
   "outputs": [
    {
     "data": {
      "text/plain": [
       "'#fc9272'"
      ]
     },
     "execution_count": 30,
     "metadata": {},
     "output_type": "execute_result"
    }
   ],
   "source": [
    "color_data['AvgSpeed']['2015-01-01']['17:35:00'][1100461]"
   ]
  },
  {
   "cell_type": "code",
   "execution_count": 31,
   "metadata": {
    "collapsed": false
   },
   "outputs": [],
   "source": [
    "graph_data = {}\n",
    "for c,c_d in color_data.iteritems():\n",
    "    graph_data[c]={}\n",
    "    for d,d_d in c_d.iteritems():\n",
    "        graph_data[c][d]={}\n",
    "        for t,t_d in d_d.iteritems():\n",
    "            tube_map = conn.GetTubeMapJson(GenStationColors(t_d))\n",
    "            graph_data[c][d][t]=tube_map\n"
   ]
  },
  {
   "cell_type": "code",
   "execution_count": 32,
   "metadata": {
    "collapsed": false
   },
   "outputs": [],
   "source": [
    "#graph_data['AvgSpeed']['2015-01-01']['17:35:00']"
   ]
  },
  {
   "cell_type": "code",
   "execution_count": 33,
   "metadata": {
    "collapsed": true
   },
   "outputs": [],
   "source": [
    "jsonarray = json.dumps(graph_data)\n",
    "with open(\"../../../DSE241/final-Abraham-Hart/server/graph_data.json\", \"w\") as text_file:\n",
    "    text_file.write(jsonarray)"
   ]
  },
  {
   "cell_type": "code",
   "execution_count": 34,
   "metadata": {
    "collapsed": false
   },
   "outputs": [
    {
     "data": {
      "text/plain": [
       "['2015-01-01']"
      ]
     },
     "execution_count": 34,
     "metadata": {},
     "output_type": "execute_result"
    }
   ],
   "source": [
    "color_data['AvgSpeed'].keys()"
   ]
  },
  {
   "cell_type": "code",
   "execution_count": null,
   "metadata": {
    "collapsed": false
   },
   "outputs": [],
   "source": []
  },
  {
   "cell_type": "code",
   "execution_count": 35,
   "metadata": {
    "collapsed": false
   },
   "outputs": [],
   "source": [
    "selector = {'stations':station_data['2015-01-01'].keys(),'categories':graph_data.keys(), 'dates':graph_data['AvgSpeed'].keys(),'times':sorted(graph_data['AvgSpeed']['2015-01-01'].keys())}\n",
    "jsonarray = json.dumps(selector)\n",
    "with open(\"../../../DSE241/final-Abraham-Hart/highway_transit/src/selector.json\", \"w\") as text_file:\n",
    "    text_file.write(jsonarray)"
   ]
  },
  {
   "cell_type": "code",
   "execution_count": null,
   "metadata": {
    "collapsed": false
   },
   "outputs": [],
   "source": []
  },
  {
   "cell_type": "code",
   "execution_count": null,
   "metadata": {
    "collapsed": true
   },
   "outputs": [],
   "source": []
  },
  {
   "cell_type": "markdown",
   "metadata": {
    "collapsed": false
   },
   "source": [
    "# Math experiments"
   ]
  },
  {
   "cell_type": "code",
   "execution_count": 7,
   "metadata": {
    "collapsed": false
   },
   "outputs": [
    {
     "data": {
      "image/png": "[encoded data removed]",
      "text/plain": [
       "<matplotlib.figure.Figure at 0x1193a7710>"
      ]
     },
     "metadata": {},
     "output_type": "display_data"
    }
   ],
   "source": [
    "#jeebus christ, how difficult should it be to project a point on a line\n",
    "#project and scale\n",
    "\n",
    "X = np.array([[1.0,1.0],\n",
    "              [4.0,4.0]])\n",
    "p = np.array([[1.0,-1.0],\n",
    "             [2.0,1.0],\n",
    "             [4.0,1.0]])\n",
    "\n",
    "trans = np.array([X[0,:]])\n",
    "\n",
    "X_trans = X-trans\n",
    "X_trans = X_trans[1,:]\n",
    "p_trans = p-trans\n",
    "\n",
    "\n",
    "t = np.array([np.dot(p_trans,X_trans)])\n",
    "b = np.array([np.dot(X_trans,X_trans)])\n",
    "\n",
    "c_p = np.divide(t,b)\n",
    "p_proj =  np.dot(c_p.T,np.array([X_trans])) \n",
    "\n",
    "#translate back\n",
    "p_proj = p_proj + trans\n",
    "\n",
    "v = (X,p,X_trans,p_proj)\n",
    "\n",
    "#scale\n",
    "p_max = np.max(p_proj,axis = 0)\n",
    "p_min = np.min(p_proj,axis = 0)\n",
    "\n",
    "center = np.sum(p_proj,axis=0)/len(p_proj)\n",
    "center_x = np.sum(X,axis=0)/len(X)\n",
    "\n",
    "p_proj = p_proj - center\n",
    "scale =  np.linalg.norm(p_max-p_min)\n",
    "x_scale = np.linalg.norm(X_trans)\n",
    "\n",
    "p_proj = p_proj / scale\n",
    "p_proj = p_proj * x_scale*0.8\n",
    "p_proj = p_proj + center_x\n",
    "\n",
    "\n",
    "\n",
    "\n",
    "\n",
    "\n",
    "plt.axis([-4, 5, -4, 5],'equal')\n",
    "x,y = X[:,0], X[:,1]\n",
    "plt.plot(x,y,'--',color='r')\n",
    "\n",
    "\n",
    "x,y = p[:,0], p[:,1]\n",
    "plt.plot(x,y,'o',color='r')\n",
    "\n",
    "\n",
    "x,y = p_proj[:,0], p_proj[:,1]\n",
    "plt.plot(x,y,'o',color='g')\n",
    "plt.show()\n"
   ]
  },
  {
   "cell_type": "code",
   "execution_count": null,
   "metadata": {
    "collapsed": true
   },
   "outputs": [],
   "source": []
  },
  {
   "cell_type": "code",
   "execution_count": 8,
   "metadata": {
    "collapsed": false
   },
   "outputs": [
    {
     "name": "stdout",
     "output_type": "stream",
     "text": [
      "[ 2.5  2.5]\n",
      "[ 1.33333333  1.33333333]\n",
      "[[ 1.59490332  1.59490332]\n",
      " [ 2.61313708  2.61313708]\n",
      " [ 3.29195959  3.29195959]]\n",
      "pmax [ 2.5  2.5] pmin [ 0.  0.] scale 2.5 center [ 1.33333333  1.33333333] xscale 1.69705627485\n",
      "[[ 1.59490332  1.59490332]\n",
      " [ 2.61313708  2.61313708]\n",
      " [ 3.29195959  3.29195959]]\n"
     ]
    },
    {
     "data": {
      "image/png": "[encoded data removed]",
      "text/plain": [
       "<matplotlib.figure.Figure at 0x1193a8e10>"
      ]
     },
     "metadata": {},
     "output_type": "display_data"
    }
   ],
   "source": [
    "#scale test\n",
    "plt.axis([-10, 10, -10, 10],'equal')\n",
    "\n",
    "X = np.array([[1.0,1.0],\n",
    "              [4.0,4.0]])\n",
    "p = np.array([[1.0,1.0],\n",
    "             [2.0,2.0],\n",
    "             [3.0,3.0],\n",
    "             [4.0,4.0]])\n",
    "\n",
    "\n",
    "trans = np.array([X[0,:]])\n",
    "\n",
    "X_trans = (X-trans)[1,:] \n",
    "\n",
    "p_proj = p-trans\n",
    "\n",
    "X,p,X_trans,p_proj = v\n",
    "\n",
    "x,y = X[:,0], X[:,1]\n",
    "plt.plot(x,y,'-',color='r')\n",
    "\n",
    "\n",
    "\n",
    "p_max = np.max(p_proj,axis = 0)\n",
    "p_min = np.min(p_proj,axis = 0)\n",
    "\n",
    "center = np.sum(p_proj,axis=0)/len(p_proj)\n",
    "center_x = np.sum(X,axis=0)/len(X)\n",
    "\n",
    "p_proj = p_proj - center\n",
    "scale = np.max(p_max-p_min)\n",
    "x_scale = np.linalg.norm(X_trans)/2.5\n",
    "\n",
    "p_proj = p_proj / scale\n",
    "p_proj = p_proj * x_scale\n",
    "p_proj = p_proj + center_x\n",
    "\n",
    "\n",
    "plt.plot(0,0,'.',color='b')\n",
    "\n",
    "\n",
    "print center_x\n",
    "x,y = center_x[0], center_x[1]\n",
    "plt.plot(x,y,'o',color='green')\n",
    "\n",
    "print center\n",
    "x,y = center[0], center[1]\n",
    "plt.plot(x,y,'*',color='orange')\n",
    "\n",
    "print p_proj\n",
    "x,y = p_proj[:,0], p_proj[:,1]\n",
    "plt.plot(x,y,'o',color='r')\n",
    "\n",
    "\n",
    "print 'pmax',p_max,'pmin',p_min,'scale',scale,'center', center, 'xscale',x_scale\n",
    "print p_proj"
   ]
  },
  {
   "cell_type": "markdown",
   "metadata": {
    "collapsed": false
   },
   "source": [
    "# \n",
    "#Center the data on the origin:\n",
    "P.x -= (maxX - minX) / 2\n",
    "P.y -= (maxY - minY) / 2\n",
    "#Scale it down by the same amount in both dimensions, such that the larger of the two ranges becomes (-0.5, 0.5):\n",
    "scale = max(maxX - minX, maxY - minY)\n",
    "P.x /= scale\n",
    "P.y /= scale\n",
    "#Translate the points by (0.5, 0.5) to bring everything where you want it:\n",
    "P.x += 0.5\n",
    "P.y += 0.5\n"
   ]
  },
  {
   "cell_type": "markdown",
   "metadata": {
    "collapsed": true
   },
   "source": [
    "x = [p[0] for p in points]\n",
    "y = [p[1] for p in points]\n",
    "centroid = (sum(x) / len(points), sum(y) / len(points))"
   ]
  },
  {
   "cell_type": "markdown",
   "metadata": {
    "collapsed": false
   },
   "source": [
    "p = np.array([[1.0,2.0],\n",
    "             [2.0,2.0],\n",
    "             [1.0,2.0],\n",
    "             [2.0,1.0]])\n",
    "\n",
    "np.sum(p,axis=0)/len(p)"
   ]
  },
  {
   "cell_type": "markdown",
   "metadata": {
    "collapsed": false
   },
   "source": [
    "np.linalg.norm(X_trans)"
   ]
  },
  {
   "cell_type": "markdown",
   "metadata": {},
   "source": [
    "# Failed experiments go here"
   ]
  },
  {
   "cell_type": "markdown",
   "metadata": {
    "collapsed": false
   },
   "source": [
    "#build snaps\n",
    "meta_frame = loadMeta()\n",
    "meta_frame = buildXY(meta_frame) \n",
    "fwy_colors, freeway_dict, labelPos_dict = build_dicts(meta_frame) \n",
    "connector_frame = detectConnectors(meta_frame, fwy_colors, freeway_dict, labelPos_dict)\n",
    "#connector_frame = addConnectors(meta_frame, connector_frame, connectors)\n",
    "#connector_frame = addEndpoints(meta_frame, connector_frame, endpoints)\n",
    "\n",
    "df = pd.DataFrame()\n",
    "\n",
    "for f, group in connector_frame.groupby('Fwy'): \n",
    "    \n",
    "    sortby = ['Y','X']\n",
    "    if 'N' in freeway_dict[f] or 'S' in freeway_dict[f]:\n",
    "        sortby = ['X','Y']\n",
    "        \n",
    "    group = group.sort_values(sortby,ascending=False)\n",
    "    group = group.reset_index(drop=True)\n",
    "    \n",
    "    snap_dir = 'X'\n",
    "    if group.X.std() > group.Y.std():\n",
    "        snap_dir = 'Y'\n",
    "    \n",
    "    group[snap_dir] = round(group[snap_dir].mean())\n",
    "    group['use'] = snap_dir\n",
    "    \n",
    "    df = pd.concat([df,group])\n",
    "\n",
    "\n",
    "\n",
    "df2 = pd.DataFrame()\n",
    "\n",
    "for f, group in df.groupby('name'): \n",
    "    dims = group.use.unique()\n",
    "    for d in dims:\n",
    "        group[d]=round(group[group.use==d][d].mean())\n",
    "        \n",
    "    df2 = pd.concat([df2,group])\n",
    "\n",
    "\n",
    "plt.plot(connector_frame.X, connector_frame.Y, '.')\n",
    "plt.plot(df2.X, df2.Y, 'o')\n",
    "\n",
    "connector_frame=df2\n",
    "connector_frame"
   ]
  },
  {
   "cell_type": "markdown",
   "metadata": {
    "collapsed": false
   },
   "source": [
    "#oh snap\n",
    "import bisect\n",
    "def snap(myGrid, myValue):\n",
    "    ix = bisect.bisect_right(myGrid, myValue)\n",
    "    if ix == 0:\n",
    "        return myGrid[0]\n",
    "    elif ix == len(myGrid):\n",
    "        return myGrid[-1]\n",
    "    else:\n",
    "        return min(myGrid[ix - 1], myGrid[ix], key=lambda gridValue: abs(gridValue - myValue))\n",
    "       \n",
    "#myGrid = np.array([[0,0],[0,1],[0,2],[0,3],[1,0],[1,1],[1,2],[1,3],[2,0],[2,1],[2,2],[2,3],[3,0],[3,1],[3,2],[3,3]]) \n",
    "#myGrid = np.array(range(0,10,1)) \n",
    "#myValue = 0.3\n",
    "#snap(myGrid, myValue)\n",
    "\n",
    "meta_frame = loadMeta()\n",
    "meta_frame = buildXY(meta_frame) \n",
    "fwy_colors, freeway_dict, labelPos_dict = build_dicts(meta_frame) \n",
    "connector_frame = detectConnectors(meta_frame, fwy_colors, freeway_dict, labelPos_dict)\n",
    "connector_frame = addConnectors(meta_frame, connector_frame, connectors)\n",
    "connector_frame = addEndpoints(meta_frame, connector_frame, endpoints)\n",
    "\n",
    "maxX = int(round(connector_frame.X.max()))\n",
    "minX = int(round(connector_frame.X.min()))\n",
    "\n",
    "maxY = int(round(connector_frame.Y.max()))\n",
    "minY = int(round(connector_frame.Y.min()))\n",
    "\n",
    "print maxX, maxY, minX, minY\n",
    "\n",
    "X_snap_grid = np.array(range(minX, maxX, (maxX - minX)/15))\n",
    "Y_snap_grid = np.array(range(minY, maxY, (maxY - minY)/15)) \n",
    "\n",
    "connector_frame['snap_X'] = connector_frame.X.apply(lambda x:snap(X_snap_grid, x))\n",
    "connector_frame['snap_Y'] = connector_frame.Y.apply(lambda y:snap(Y_snap_grid, y))\n",
    "\n",
    "plt.plot(connector_frame.snap_X, connector_frame.snap_Y, 'o')\n",
    "plt.plot(connector_frame.X, connector_frame.Y, '.')"
   ]
  },
  {
   "cell_type": "markdown",
   "metadata": {
    "collapsed": false
   },
   "source": [
    "def detectConnectors(meta_frame, fwy_colors, freeway_dict, labelPos_dict):\n",
    "    #try to find our freeway connectors\n",
    "    locations = meta_frame[['ID','Latitude','Longitude','X','Y']].set_index('ID').to_dict('index')\n",
    "\n",
    "    df = meta_frame[meta_frame.Type=='FF']\n",
    "\n",
    "    df = meta_frame\n",
    "\n",
    "    def fwydir(fwy):\n",
    "        l = []\n",
    "        for f in fwy:\n",
    "            if f in freeway_dict:\n",
    "                l = l + [f]\n",
    "        return l\n",
    "\n",
    "    def nameParse(name):\n",
    "        simple = \"\".join([ c if  c.isdigit() else \" \" for c in name ])\n",
    "\n",
    "        rds = simple.split()\n",
    "        rds = list(set(rds))\n",
    "        rds = fwydir(rds)\n",
    "        rds = filter(None, rds)\n",
    "        rds = sorted(rds)\n",
    "\n",
    "        return rds\n",
    "\n",
    "\n",
    "    df['connector'] = df.Name + \" \" + df.Fwy.apply(str)\n",
    "    df.connector = df.connector.apply(nameParse)\n",
    "\n",
    "    df['group'] = df.connector.apply(str)\n",
    "    df = df[df.connector.apply(len)>=2]\n",
    "    df = df.groupby('group')['ID'].apply(list).to_frame().reset_index()\n",
    "\n",
    "    df['Latitude'] = df.ID.apply(lambda x: np.mean([locations[n]['Latitude'] for n in x]))\n",
    "    df['Longitude'] = df.ID.apply(lambda x: np.mean([locations[n]['Longitude'] for n in x]))\n",
    "\n",
    "    df['X'] = df.ID.apply(lambda x: np.mean([locations[n]['X'] for n in x]))\n",
    "    df['Y'] = df.ID.apply(lambda x: np.mean([locations[n]['Y'] for n in x]))\n",
    "\n",
    "    df.group = df.group.apply(lambda x:ast.literal_eval(x))\n",
    "\n",
    "    df = df.drop('ID',axis =1)\n",
    "\n",
    "    df['name'] = df.group.apply(lambda x:str(x[0])) + ' <-> ' +df.group.apply(lambda x:str(x[1]))\n",
    "\n",
    "    df['labelPos'] = df.group.apply(lambda x:freeway_dict[x[0]][0]) + '' +df.group.apply(lambda x:freeway_dict[x[1]][0])\n",
    "    df['labelPos'] = df.labelPos.apply(lambda x:fix_dir_dict[str(x)])\n",
    "    \n",
    "    \n",
    "    df_x_y = df.copy()\n",
    "    df_y_x = df.copy()\n",
    "    \n",
    "    df_x_y['dir'] = df_x_y.group.apply(lambda x:freeway_dict[x[0]][0])\n",
    "    df_y_x['dir'] = df.group.apply(lambda x:freeway_dict[x[1]][0])\n",
    "    \n",
    "    df_x_y['Fwy'] = df_x_y.group.apply(lambda x:str(x[0]))\n",
    "    df_y_x['Fwy'] = df_y_x.group.apply(lambda x:str(x[1]))\n",
    "\n",
    "    df_x_y = df_x_y[df_x_y.Fwy.apply(lambda x: int(x) in usefwy)]\n",
    "    df_y_x = df_y_x[df_y_x.Fwy.apply(lambda x: int(x) in usefwy)]\n",
    "\n",
    "    df = pd.concat([df_x_y,df_y_x])\n",
    "    df = df.drop('group', axis = 1)\n",
    "    df = df.reset_index(drop=True)\n",
    "\n",
    "    df['labelPos'] = df.dir\n",
    "\n",
    "    return df\n",
    "\n",
    "meta_frame = loadMeta()\n",
    "meta_frame = buildXY(meta_frame) \n",
    "fwy_colors, freeway_dict, labelPos_dict = build_dicts(meta_frame) \n",
    "connector_frame = detectConnectors(meta_frame, fwy_colors, freeway_dict, labelPos_dict)\n",
    "connector_frame.head(1)"
   ]
  },
  {
   "cell_type": "code",
   "execution_count": null,
   "metadata": {
    "collapsed": true
   },
   "outputs": [],
   "source": []
  }
 ],
 "metadata": {
  "anaconda-cloud": {},
  "kernelspec": {
   "display_name": "Python [default]",
   "language": "python",
   "name": "python2"
  },
  "language_info": {
   "codemirror_mode": {
    "name": "ipython",
    "version": 2
   },
   "file_extension": ".py",
   "mimetype": "text/x-python",
   "name": "python",
   "nbconvert_exporter": "python",
   "pygments_lexer": "ipython2",
   "version": "2.7.12"
  }
 },
 "nbformat": 4,
 "nbformat_minor": 1
}
