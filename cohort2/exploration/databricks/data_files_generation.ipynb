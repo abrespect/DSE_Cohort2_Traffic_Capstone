{
 "cells": [
  {
   "cell_type": "code",
   "execution_count": 1,
   "metadata": {
    "collapsed": false
   },
   "outputs": [],
   "source": [
    "\n",
    "import pandas as pd\n",
    "import numpy as np\n",
    "import time\n",
    "from os import listdir\n",
    "from os.path import isfile, join\n",
    "from datetime import time\n",
    "import glob\n",
    "import sys\n",
    "\n",
    "from pyspark.sql.functions import hour, mean,minute, stddev, count,max as psmax,min as psmin, date_format, split, explode\n",
    "\n",
    "from pyspark.sql import SQLContext\n",
    "from pyspark.sql import Row\n",
    "from pyspark.sql.types import *"
   ]
  },
  {
   "cell_type": "code",
   "execution_count": 2,
   "metadata": {
    "collapsed": true
   },
   "outputs": [],
   "source": [
    "dbutils.fs.unmount('/mnt/ch1data_3/')"
   ]
  },
  {
   "cell_type": "code",
   "execution_count": 3,
   "metadata": {
    "collapsed": true
   },
   "outputs": [],
   "source": [
    "dbutils.fs.unmount('/mnt/ch2data_3/')"
   ]
  },
  {
   "cell_type": "code",
   "execution_count": 4,
   "metadata": {
    "collapsed": true
   },
   "outputs": [],
   "source": [
    "# Replace with your values\n",
    "#\n",
    "# NOTE: Set the access to this notebook appropriately to protect the security of your keys.\n",
    "# Or you can delete this cell after you run the mount command below once successfully.\n",
    "ACCESS_KEY = \"\"\n",
    "SECRET_KEY = \"\"\n",
    "ENCODED_SECRET_KEY = SECRET_KEY.replace(\"/\", \"%2F\")\n",
    "AWS_BUCKET_NAME = \"dse-team2-2014\"\n",
    "MOUNT_NAME = \"ch1data_3\"\n",
    "\n",
    "dbutils.fs.mount(\"s3a://%s:%s@%s\" % (ACCESS_KEY, ENCODED_SECRET_KEY, AWS_BUCKET_NAME), \"/mnt/%s\" % MOUNT_NAME)"
   ]
  },
  {
   "cell_type": "code",
   "execution_count": 5,
   "metadata": {
    "collapsed": true
   },
   "outputs": [],
   "source": [
    "# Replace with your values\n",
    "#\n",
    "# NOTE: Set the access to this notebook appropriately to protect the security of your keys.\n",
    "# Or you can delete this cell after you run the mount command below once successfully.\n",
    "ENCODED_SECRET_KEY = SECRET_KEY.replace(\"/\", \"%2F\")\n",
    "AWS_BUCKET_NAME = \"dse-team1-2015\"\n",
    "MOUNT_NAME2 = \"ch2data_3\"\n",
    "\n",
    "dbutils.fs.mount(\"s3a://%s:%s@%s\" % (ACCESS_KEY, ENCODED_SECRET_KEY, AWS_BUCKET_NAME), \"/mnt/%s\" % MOUNT_NAME2)"
   ]
  },
  {
   "cell_type": "code",
   "execution_count": 6,
   "metadata": {
    "collapsed": true
   },
   "outputs": [],
   "source": [
    "weekdaySelector = udf(\n",
    "    lambda x: \"weekday\" if int(x) < 6 else \"weekend\"\n",
    ")\n",
    "\n",
    "timeOfDay = udf(\n",
    "    lambda x: time(int(x.hour), int(x.minute)).strftime(\"%H:%M\")\n",
    ")\n",
    "\n",
    "split_tabbed_data = udf(\n",
    "    lambda x: x.split(\"\\t\")\n",
    ") "
   ]
  },
  {
   "cell_type": "code",
   "execution_count": 7,
   "metadata": {
    "collapsed": true
   },
   "outputs": [],
   "source": [
    "struct_list = [\n",
    "    StructField(\"timestamp\",TimestampType(),True),\n",
    "    StructField(\"station\",IntegerType(),True),\n",
    "    StructField(\"district\",IntegerType(),True),\n",
    "    StructField(\"freeway\",IntegerType(),True),\n",
    "    StructField(\"direction_of_travel\",StringType(),True),\n",
    "    StructField(\"lanetype\",StringType(),True),\n",
    "    StructField(\"stationlength\",DoubleType(),True),\n",
    "    StructField(\"samples\",IntegerType(),True),\n",
    "    StructField(\"perc_observed\",IntegerType(),True),\n",
    "    StructField(\"totalflow\",IntegerType(),True),\n",
    "    StructField(\"avgoccupancy\",DoubleType(),True),\n",
    "    StructField(\"avgspeed\",DoubleType(),True),\n",
    "    StructField(\"lane1_samples\",IntegerType(),True),\n",
    "    StructField(\"lane1_flow\",IntegerType(),True),\n",
    "    StructField(\"lane1_avgocc\",DoubleType(),True),\n",
    "    StructField(\"lane1_avgspeed\",DoubleType(),True),\n",
    "    StructField(\"lane1_observed\",IntegerType(),True),\n",
    "    StructField(\"lane2_samples\",IntegerType(),True),\n",
    "    StructField(\"lane2_flow\",IntegerType(),True),\n",
    "    StructField(\"lane2_avgocc\",DoubleType(),True),\n",
    "    StructField(\"lane2_avgspeed\",DoubleType(),True),\n",
    "    StructField(\"lane2_observed\",IntegerType(),True),\n",
    "    StructField(\"lane3_samples\",IntegerType(),True),\n",
    "    StructField(\"lane3_flow\",IntegerType(),True),\n",
    "    StructField(\"lane3_avgocc\",DoubleType(),True),\n",
    "    StructField(\"lane3_avgspeed\",DoubleType(),True),\n",
    "    StructField(\"lane3_observed\",IntegerType(),True),\n",
    "    StructField(\"lane4_samples\",IntegerType(),True),\n",
    "    StructField(\"lane4_flow\",IntegerType(),True),\n",
    "    StructField(\"lane4_avgocc\",DoubleType(),True),\n",
    "    StructField(\"lane4_avgspeed\",DoubleType(),True),\n",
    "    StructField(\"lane4_observed\",IntegerType(),True),\n",
    "    StructField(\"lane5_samples\",IntegerType(),True),\n",
    "    StructField(\"lane5_flow\",IntegerType(),True),\n",
    "    StructField(\"lane5_avgocc\",DoubleType(),True),\n",
    "    StructField(\"lane5_avgspeed\",DoubleType(),True),\n",
    "    StructField(\"lane5_observed\",IntegerType(),True),\n",
    "    StructField(\"lane6_samples\",IntegerType(),True),\n",
    "    StructField(\"lane6_flow\",IntegerType(),True),\n",
    "    StructField(\"lane6_avgocc\",DoubleType(),True),\n",
    "    StructField(\"lane6_avgspeed\",DoubleType(),True),\n",
    "    StructField(\"lane6_observed\",IntegerType(),True),\n",
    "    StructField(\"lane7_samples\",IntegerType(),True),\n",
    "    StructField(\"lane7_flow\",IntegerType(),True),\n",
    "    StructField(\"lane7_avgocc\",DoubleType(),True),\n",
    "    StructField(\"lane7_avgspeed\",DoubleType(),True),\n",
    "    StructField(\"lane7_observed\",IntegerType(),True),\n",
    "    StructField(\"lane8_samples\",IntegerType(),True),\n",
    "    StructField(\"lane8_flow\",IntegerType(),True),\n",
    "    StructField(\"lane8_avgocc\",DoubleType(),True),\n",
    "    StructField(\"lane8_avgspeed\",DoubleType(),True),\n",
    "    StructField(\"lane8_observed\",IntegerType(),True)\n",
    "]\n",
    "\n",
    "schema_struct = StructType(struct_list)"
   ]
  },
  {
   "cell_type": "code",
   "execution_count": 8,
   "metadata": {
    "collapsed": true
   },
   "outputs": [],
   "source": [
    "district_no_list = range(3,9)+range(10,13)\n",
    "dir_list = [\"/mnt/%s/dse_traffic/station_5min/%i/d%i/\" % (MOUNT_NAME,y,z) for y in range(2008,2016) for z in district_no_list]\n",
    "files = [dbutils.fs.ls(a) for a in dir_list]\n",
    "onlyfiles = [b[0].path for b in files]\n",
    "onlyfiles"
   ]
  },
  {
   "cell_type": "code",
   "execution_count": 9,
   "metadata": {
    "collapsed": true
   },
   "outputs": [],
   "source": [
    "rdd = spark.read.csv(\n",
    "    onlyfiles, \n",
    "    header='false',\n",
    "    timestampFormat='MM/dd/yyyy HH:mm:ss',\n",
    "    schema=schema_struct,\n",
    "    inferSchema='false'\n",
    ")\n",
    "rdd.take(1)"
   ]
  },
  {
   "cell_type": "code",
   "execution_count": 10,
   "metadata": {
    "collapsed": true
   },
   "outputs": [],
   "source": [
    "station_time = (\n",
    "    rdd\n",
    "    .select(\n",
    "        'district',\n",
    "        'freeway',\n",
    "        'direction_of_travel',\n",
    "        'timestamp',\n",
    "        'station',\n",
    "        'totalflow',\n",
    "        'avgoccupancy',\n",
    "        'avgspeed',\n",
    "        date_format('timestamp', 'u').alias('dayofweek')\n",
    "    )\n",
    "    \n",
    ")\n",
    "\n",
    "station_time = (\n",
    "    station_time\n",
    "    .withColumn(\n",
    "        'dayType', \n",
    "        weekdaySelector(station_time.dayofweek)\n",
    "        )\n",
    "    .withColumn(\n",
    "        'timeOfDay',\n",
    "        timeOfDay(station_time.timestamp)\n",
    "    )\n",
    "    .groupBy([\n",
    "        'district',\n",
    "        'freeway',\n",
    "        'direction_of_travel',\n",
    "        'station',\n",
    "        'dayType',\n",
    "        'timeOfDay'\n",
    "    ])\n",
    "    .agg(\n",
    "        mean(\"totalflow\").alias(\"flow_mean\"),\n",
    "        stddev(\"totalflow\").alias(\"flow_std\"),\n",
    "        count(\"totalflow\").alias(\"flow_count\"),\n",
    "        psmax(\"totalflow\").alias(\"flow_max\"),\n",
    "        psmin(\"totalflow\").alias(\"flow_min\"),\n",
    "        \n",
    "        mean(\"avgoccupancy\").alias(\"occ_mean\"),\n",
    "        stddev(\"avgoccupancy\").alias(\"occ_std\"),\n",
    "        count(\"avgoccupancy\").alias(\"occ_count\"),\n",
    "        psmax(\"avgoccupancy\").alias(\"occ_max\"),\n",
    "        psmin(\"avgoccupancy\").alias(\"occ_min\"),\n",
    "        \n",
    "        mean(\"avgspeed\").alias(\"speed_mean\"),\n",
    "        stddev(\"avgspeed\").alias(\"speed_std\"),\n",
    "        count(\"avgspeed\").alias(\"speed_count\"),\n",
    "        psmax(\"avgspeed\").alias(\"speed_max\"),\n",
    "        psmin(\"avgspeed\").alias(\"speed_min\")\n",
    "    )\n",
    ")\n"
   ]
  },
  {
   "cell_type": "code",
   "execution_count": 11,
   "metadata": {
    "collapsed": true
   },
   "outputs": [],
   "source": [
    "# We'll be using the station_time dataframe over and over again to export csv splices of the data.  Caching for performance purposes.\n",
    "station_time.cache()\n",
    "station_time.take(5)"
   ]
  },
  {
   "cell_type": "code",
   "execution_count": 12,
   "metadata": {
    "collapsed": true
   },
   "outputs": [],
   "source": [
    "meta_dir_list = [\"/mnt/%s/dse_traffic/meta/%i/d%i/\" % ('ch1data_3',y,z) for y in range(2008,2017) for z in district_no_list]\n",
    "\n",
    "meta_onlyfiles = []\n",
    "for a in meta_dir_list:\n",
    "  try:\n",
    "    meta_onlyfiles += [b.path for b in dbutils.fs.ls(a) if b.size != '0L'],\n",
    "  except:\n",
    "    print \"no directory\"\n",
    "    \n",
    "from itertools import chain\n",
    "meta_onlyfiles = list(chain.from_iterable(meta_onlyfiles))\n",
    "\n",
    "meta_onlyfiles"
   ]
  },
  {
   "cell_type": "code",
   "execution_count": 13,
   "metadata": {
    "collapsed": true
   },
   "outputs": [],
   "source": [
    "meta_rdd = spark.read.csv(\n",
    "    meta_onlyfiles,\n",
    "    mode='DROPMALFORMED',\n",
    "    header=True,\n",
    "    inferSchema=True\n",
    ")\n",
    "meta_header_cols = meta_rdd.columns[0].split('\\t')\n",
    "split_col = split(meta_rdd[meta_rdd.columns[0]], '\\t')\n",
    "newdf = meta_rdd\n",
    "for i,a in enumerate(meta_header_cols):\n",
    "    newdf = newdf.withColumn(a, split_col.getItem(i))\n",
    "meta_df = newdf[[meta_header_cols]].toPandas()"
   ]
  },
  {
   "cell_type": "code",
   "execution_count": 14,
   "metadata": {
    "collapsed": true
   },
   "outputs": [],
   "source": [
    "print len(meta_df)\n",
    "meta_df = meta_df.drop_duplicates()\n",
    "print len(meta_df)\n",
    "meta_df = meta_df.groupby(['ID']).max().reset_index().sort_values(['District', 'Fwy', 'Dir', 'Abs_PM'])\n",
    "print len(meta_df)"
   ]
  },
  {
   "cell_type": "code",
   "execution_count": 15,
   "metadata": {
    "collapsed": true
   },
   "outputs": [],
   "source": [
    "type(meta_df)\n",
    "sqlCtx = SQLContext(sc)\n",
    "meta_sdf = sqlCtx.createDataFrame(meta_df)\n",
    "meta_sdf.count()"
   ]
  },
  {
   "cell_type": "code",
   "execution_count": 16,
   "metadata": {
    "collapsed": true
   },
   "outputs": [],
   "source": [
    "print type(meta_sdf)\n",
    "meta_sdf.write.csv(\"/mnt/ch2data/share_data/meta_2008_2016.csv\" , mode='overwrite', header=True)"
   ]
  },
  {
   "cell_type": "code",
   "execution_count": 17,
   "metadata": {
    "collapsed": true
   },
   "outputs": [],
   "source": [
    "meta_sdf.columns"
   ]
  },
  {
   "cell_type": "code",
   "execution_count": 18,
   "metadata": {
    "collapsed": true
   },
   "outputs": [],
   "source": [
    "# We need to first rename some of the columns as spark doesn't recognize case sensitivity.  In addition, we don't need the City, County or user information if we have lat and long and user information is blank.\n",
    "sqlContext.registerDataFrameAsTable(meta_sdf, \"meta_table\")\n",
    "meta_sdf = sqlContext.sql(\"SELECT ID, Fwy, Dir, District AS dis, State_PM, Abs_PM, Latitude, Longitude, Length, Type, Lanes, Name FROM meta_table\")\n",
    "\n",
    "# Joining the station_time and meta_sdf spark dataframes on four columns: station/id, freeway, direction and district\n",
    "traffic_with_meta = station_time.join(meta_sdf,\n",
    "                                      (station_time.station == meta_sdf.ID) & \n",
    "                                      (station_time.freeway == meta_sdf.Fwy) & \n",
    "                                      (station_time.direction_of_travel == meta_sdf.Dir) &\n",
    "                                      (station_time.district == meta_sdf.dis)\n",
    "                                     )\n",
    "traffic_with_meta"
   ]
  },
  {
   "cell_type": "code",
   "execution_count": 19,
   "metadata": {
    "collapsed": true
   },
   "outputs": [],
   "source": [
    "# Across all districts and dayTypes\n",
    "traffic_with_meta.write.csv(\"/mnt/ch2data/share_data/stats_with_meta_2008_2015.csv\", mode='overwrite', header=True)\n",
    "\n",
    "for my_dayType in ['weekday', 'weekend']:\n",
    "  # Across all districts, split dayTypes\n",
    "  traffic_with_meta.filter(traffic_with_meta['dayType'] == my_dayType) \\\n",
    "    .write.csv(\"/mnt/ch2data/share_data/stats_with_meta_2008_2015_%s.csv\" % (my_dayType), mode='overwrite', header=True)\n",
    "  print \"/mnt/ch2data/share_data/stats_with_meta_2008_2015_%s.csv\" % (my_dayType)\n",
    "  # Split by district and dayTypes\n",
    "  for my_district in district_no_list:\n",
    "      traffic_with_meta.filter(traffic_with_meta['dayType'] == my_dayType) \\\n",
    "                .filter(traffic_with_meta['district'] == my_district) \\\n",
    "                .write.csv(\"/mnt/ch2data/share_data/stats_with_meta_2008_2015_d%i_%s.csv\" % (my_district,my_dayType), mode='overwrite', header=True)\n",
    "      print \"/mnt/ch2data/share_data/stats_with_meta_2008_2015_d%i_%s.csv\" % (my_district,my_dayType)"
   ]
  },
  {
   "cell_type": "code",
   "execution_count": 20,
   "metadata": {
    "collapsed": true
   },
   "outputs": [],
   "source": [
    "for my_district in district_no_list:\n",
    "  traffic_with_meta.filter(traffic_with_meta['district'] == my_district) \\\n",
    "                .write.csv(\"/mnt/ch2data/share_data/stats_with_meta_2008_2015_d%i.csv\" % (my_district), mode='overwrite', header=True)\n",
    "  print \"/mnt/ch2data/share_data/stats_with_meta_2008_2015_d%i.csv\" % (my_district)"
   ]
  },
  {
   "cell_type": "code",
   "execution_count": 21,
   "metadata": {
    "collapsed": true
   },
   "outputs": [],
   "source": [
    "[d.path for d in dbutils.fs.ls('/mnt/ch2data/share_data')]"
   ]
  }
 ],
 "metadata": {
  "anaconda-cloud": {},
  "kernelspec": {
   "display_name": "Python 2",
   "language": "python",
   "name": "python2"
  },
  "language_info": {
   "codemirror_mode": {
    "name": "ipython",
    "version": 2
   },
   "file_extension": ".py",
   "mimetype": "text/x-python",
   "name": "python",
   "nbconvert_exporter": "python",
   "pygments_lexer": "ipython2",
   "version": "2.7.12"
  },
  "name": "studygroup_2",
  "notebookId": 103103
 },
 "nbformat": 4,
 "nbformat_minor": 0
}
