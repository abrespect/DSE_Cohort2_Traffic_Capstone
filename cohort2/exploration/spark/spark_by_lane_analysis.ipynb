{
 "cells": [
  {
   "cell_type": "markdown",
   "metadata": {},
   "source": [
    "# Motivation/Purpose\n",
    "The goal of this notebook is to load the data using pyspark, look at misclassified stations, correct any issues and then convert it into a by lane specific dataset.\n",
    "\n",
    "Note: this code requires spark 2.0+\n",
    "\n",
    "\n",
    "Section to document: Motivation/Purpose, tasks, work, results, conclusions/findings"
   ]
  },
  {
   "cell_type": "code",
   "execution_count": 10,
   "metadata": {
    "collapsed": false
   },
   "outputs": [],
   "source": [
    "from pyspark import SparkContext\n",
    "from pyspark import SparkConf\n",
    "from pyspark.sql import SparkSession\n",
    "\n",
    "# Import data types\n",
    "from pyspark.sql.types import *\n",
    "from pyspark.sql.functions import minute, hour, concat, col, lit, Column\n",
    "\n",
    "# sparkConf = SparkConf()\n",
    "# sparkConf.set(\"spark.ui.port\", \"4050\")\n",
    "\n",
    "#     .config(\"spark.driver.allowMultipleContexts\", \"true\") \\\n",
    "\n",
    "# spark = SparkSession \\\n",
    "#     .builder \\\n",
    "#     .appName(\"moreTrafficData\") \\\n",
    "#     .getOrCreate()"
   ]
  },
  {
   "cell_type": "code",
   "execution_count": 11,
   "metadata": {
    "collapsed": false
   },
   "outputs": [],
   "source": [
    "import pandas as pd\n",
    "from time import time\n",
    "%matplotlib inline"
   ]
  },
  {
   "cell_type": "markdown",
   "metadata": {},
   "source": [
    "# Tasks\n",
    "## Load the Data\n",
    "## Explore the data for abnomialies\n",
    "## Clean the data by adjusting any misclassified stations and values for flow\n",
    "## Convert into a by lane aggregated dataset\n"
   ]
  },
  {
   "cell_type": "code",
   "execution_count": 12,
   "metadata": {
    "collapsed": false
   },
   "outputs": [
    {
     "name": "stdout",
     "output_type": "stream",
     "text": [
      ",Unnamed: 0,Unnamed: 0.1,ID,Fwy,Dir,District,County,City,State_PM,Abs_PM,Latitude,Longitude,Length,Type,Lanes,Name,User_ID_1,User_ID_2,User_ID_3,User_ID_4,file_date,elevation\r\n",
      "0,0,0,1113072,56,W,11,73,66000.0,7.383,7.885,32.955202,-117.124689,0.452,ML,2,Black Mountain Rd,314,,,,2015_01_01,178.243728638\r\n",
      "1,1,1,1113073,56,W,11,73,66000.0,7.383,7.885,32.955202,-117.124689,,OR,3,BLACK MOUNTAIN RD,314,,,,2015_01_01,178.243728638\r\n",
      "2,2,2,1113680,56,E,11,73,66000.0,6.862,7.364,32.953394,-117.133404,0.999,ML,3,BLACK MOUNTAIN RD,434,,,,2015_01_01,150.936233521\r\n",
      "3,3,3,1113683,56,W,11,73,66000.0,7.383,7.885,32.955202,-117.124689,,FR,2,BLK MOUNTAIN - WB 56,314,,,,2015_01_01,178.243728638\r\n"
     ]
    }
   ],
   "source": [
    "!head -n 5 ../../data/meta_2015_with_elev.csv"
   ]
  },
  {
   "cell_type": "code",
   "execution_count": 13,
   "metadata": {
    "collapsed": false
   },
   "outputs": [],
   "source": [
    "# loaded the data using spark (for fun...)\n",
    "meta_data = spark.read.csv('../../data/meta_2015_with_elev.csv',\n",
    "                           inferSchema='true',\n",
    "                           header='true',\n",
    "                           sep=',',\n",
    "                           encoding='utf-8',\n",
    "                           timestampFormat='MM/dd/yyyy HH:mm:ss',\n",
    "                         )"
   ]
  },
  {
   "cell_type": "code",
   "execution_count": 14,
   "metadata": {
    "collapsed": false
   },
   "outputs": [],
   "source": [
    "# # drop unnecessary columns\n",
    "# meta_data = meta_data.drop('Unnamed: 0',\n",
    "#                            'Unnamed: 0.1',\n",
    "#                            'User_ID_1',\n",
    "#                            'User_ID_2',\n",
    "#                            'User_ID_3',\n",
    "#                            'User_ID_4')"
   ]
  },
  {
   "cell_type": "code",
   "execution_count": 15,
   "metadata": {
    "collapsed": true
   },
   "outputs": [],
   "source": [
    "meta_df = meta_data.toPandas()"
   ]
  },
  {
   "cell_type": "code",
   "execution_count": 16,
   "metadata": {
    "collapsed": false,
    "scrolled": true
   },
   "outputs": [],
   "source": [
    "# meta_df"
   ]
  },
  {
   "cell_type": "code",
   "execution_count": 17,
   "metadata": {
    "collapsed": true
   },
   "outputs": [],
   "source": [
    "def create_freeway_vectors(frame_to_use, columns_to_select=['ID', 'Latitude', 'Longitude', 'Abs_PM', 'Lanes']):\n",
    "    to_loop = frame_to_use.groupby(['Fwy', 'Dir'])['ID'].count().reset_index()[['Fwy', 'Dir']].values\n",
    "    \n",
    "    ret = {}\n",
    "    for Fwy, Dir in to_loop:\n",
    "        tmp = frame_to_use[(frame_to_use.Fwy == Fwy) & (frame_to_use.Dir == Dir)\n",
    "                                                  & (frame_to_use.Type == 'ML')]\\\n",
    "            .sort_values(by='Abs_PM', ascending=True)[columns_to_select].drop_duplicates()\n",
    "        tmp['order'] = pd.Series(index=tmp.index, data=sorted(range(0, len(tmp.ID)), reverse=False))\n",
    "        ret[\"%s_%s\" % (Fwy, Dir)] = tmp\n",
    "    return ret "
   ]
  },
  {
   "cell_type": "code",
   "execution_count": 18,
   "metadata": {
    "collapsed": false
   },
   "outputs": [],
   "source": [
    "freeway_vectors = create_freeway_vectors(meta_df)"
   ]
  },
  {
   "cell_type": "code",
   "execution_count": 19,
   "metadata": {
    "collapsed": false,
    "scrolled": true
   },
   "outputs": [],
   "source": [
    "# freeway_vectors"
   ]
  },
  {
   "cell_type": "code",
   "execution_count": 20,
   "metadata": {
    "collapsed": false
   },
   "outputs": [],
   "source": [
    "# meta_data.take(1)"
   ]
  },
  {
   "cell_type": "code",
   "execution_count": null,
   "metadata": {
    "collapsed": true
   },
   "outputs": [],
   "source": []
  },
  {
   "cell_type": "markdown",
   "metadata": {},
   "source": [
    "### Create the schema"
   ]
  },
  {
   "cell_type": "code",
   "execution_count": 21,
   "metadata": {
    "collapsed": false
   },
   "outputs": [],
   "source": [
    "# Chris's Schema\n",
    "# five_min_base_header = ['Timestamp', 'Station', 'District', 'Fwy', 'Direction', 'Lane_Type',\n",
    "#                         'Station_Length', 'Samples', '%_Obser', 'Total_Flow', 'Avg_Occupancy', 'Avg_Speed']\n",
    "# five_min_base_types = [TimestampType(), StringType(), StringType(), StringType(), StringType(), StringType(),\n",
    "#                        FloatType(), StringType(), FloatType(), FloatType(), FloatType(), FloatType()]\n",
    "# five_min_extra_header = ['Lane_%s_Samples', 'Lane_%s_Flow', 'Lane_%s_Avg_Occ', 'Lane_%s_Avg_Speed', 'Lane_%s_Observed']\n",
    "# five_min_extra_types = [IntegerType(), FloatType(), FloatType(), FloatType(), FloatType()]\n",
    "\n",
    "# fields = []\n",
    "# for field_name, field_type in zip(five_min_base_header, five_min_base_types):\n",
    "#     fields.append(StructField(field_name, field_type, True))\n",
    "\n",
    "# max_lanes = 8\n",
    "# for i in range(1, max_lanes + 1):\n",
    "#     new_header = [item % i for item in five_min_extra_header]\n",
    "#     for field_name, field_type in zip(new_header, five_min_extra_types):\n",
    "#         fields.append(StructField(field_name, field_type, True))    \n",
    "\n",
    "# schema = StructType(fields)\n",
    "# schema"
   ]
  },
  {
   "cell_type": "code",
   "execution_count": 22,
   "metadata": {
    "collapsed": true
   },
   "outputs": [],
   "source": [
    "# Abe's schema\n",
    "struct_list = [\n",
    "   StructField(\"timestamp\",TimestampType(),True),\n",
    "   StructField(\"station\",IntegerType(),True),\n",
    "   StructField(\"district\",IntegerType(),True),\n",
    "   StructField(\"freeway\",IntegerType(),True),\n",
    "   StructField(\"direction_of_travel\",StringType(),True),\n",
    "   StructField(\"lanetype\",StringType(),True),\n",
    "   StructField(\"stationlength\",DoubleType(),True),\n",
    "   StructField(\"samples\",IntegerType(),True),\n",
    "   StructField(\"perc_observed\",IntegerType(),True),\n",
    "   StructField(\"totalflow\",IntegerType(),True),\n",
    "   StructField(\"avgoccupancy\",DoubleType(),True),\n",
    "   StructField(\"avgspeed\",DoubleType(),True),\n",
    "   StructField(\"lane1_samples\",IntegerType(),True),\n",
    "   StructField(\"lane1_flow\",IntegerType(),True),\n",
    "   StructField(\"lane1_avgocc\",DoubleType(),True),\n",
    "   StructField(\"lane1_avgspeed\",DoubleType(),True),\n",
    "   StructField(\"lane1_observed\",IntegerType(),True),\n",
    "   StructField(\"lane2_samples\",IntegerType(),True),\n",
    "   StructField(\"lane2_flow\",IntegerType(),True),\n",
    "   StructField(\"lane2_avgocc\",DoubleType(),True),\n",
    "   StructField(\"lane2_avgspeed\",DoubleType(),True),\n",
    "   StructField(\"lane2_observed\",IntegerType(),True),\n",
    "   StructField(\"lane3_samples\",IntegerType(),True),\n",
    "   StructField(\"lane3_flow\",IntegerType(),True),\n",
    "   StructField(\"lane3_avgocc\",DoubleType(),True),\n",
    "   StructField(\"lane3_avgspeed\",DoubleType(),True),\n",
    "   StructField(\"lane3_observed\",IntegerType(),True),\n",
    "   StructField(\"lane4_samples\",IntegerType(),True),\n",
    "   StructField(\"lane4_flow\",IntegerType(),True),\n",
    "   StructField(\"lane4_avgocc\",DoubleType(),True),\n",
    "   StructField(\"lane4_avgspeed\",DoubleType(),True),\n",
    "   StructField(\"lane4_observed\",IntegerType(),True),\n",
    "   StructField(\"lane5_samples\",IntegerType(),True),\n",
    "   StructField(\"lane5_flow\",IntegerType(),True),\n",
    "   StructField(\"lane5_avgocc\",DoubleType(),True),\n",
    "   StructField(\"lane5_avgspeed\",DoubleType(),True),\n",
    "   StructField(\"lane5_observed\",IntegerType(),True),\n",
    "   StructField(\"lane6_samples\",IntegerType(),True),\n",
    "   StructField(\"lane6_flow\",IntegerType(),True),\n",
    "   StructField(\"lane6_avgocc\",DoubleType(),True),\n",
    "   StructField(\"lane6_avgspeed\",DoubleType(),True),\n",
    "   StructField(\"lane6_observed\",IntegerType(),True),\n",
    "   StructField(\"lane7_samples\",IntegerType(),True),\n",
    "   StructField(\"lane7_flow\",IntegerType(),True),\n",
    "   StructField(\"lane7_avgocc\",DoubleType(),True),\n",
    "   StructField(\"lane7_avgspeed\",DoubleType(),True),\n",
    "   StructField(\"lane7_observed\",IntegerType(),True),\n",
    "   StructField(\"lane8_samples\",IntegerType(),True),\n",
    "   StructField(\"lane8_flow\",IntegerType(),True),\n",
    "   StructField(\"lane8_avgocc\",DoubleType(),True),\n",
    "   StructField(\"lane8_avgspeed\",DoubleType(),True),\n",
    "   StructField(\"lane8_observed\",IntegerType(),True)\n",
    "]\n",
    "schema = StructType(struct_list)"
   ]
  },
  {
   "cell_type": "markdown",
   "metadata": {},
   "source": [
    "## Read a single file"
   ]
  },
  {
   "cell_type": "code",
   "execution_count": 23,
   "metadata": {
    "collapsed": false,
    "scrolled": true
   },
   "outputs": [],
   "source": [
    "# path to the 5min data files\n",
    "# !ls ../../../../cohort2/output/station_5min/2015/d11"
   ]
  },
  {
   "cell_type": "code",
   "execution_count": 24,
   "metadata": {
    "collapsed": false
   },
   "outputs": [],
   "source": [
    "# review the file\n",
    "single_file = '../../../../cohort2/output/station_5min/2015/d11/d11_text_station_5min_2015_01_01.txt.gz'\n",
    "all_files = '../../../../cohort2/output/station_5min/2015/d11/*.txt.gz'\n",
    "# first_file = sc.textFile(single_file)\n",
    "# first_file.take(1)"
   ]
  },
  {
   "cell_type": "code",
   "execution_count": 62,
   "metadata": {
    "collapsed": false
   },
   "outputs": [
    {
     "name": "stdout",
     "output_type": "stream",
     "text": [
      "total time: 1198.88023901\n"
     ]
    }
   ],
   "source": [
    "start_time = time()\n",
    "data = spark.read.csv(all_files,\n",
    "                      inferSchema='false',\n",
    "                      schema=schema,\n",
    "                      sep=',',\n",
    "                      encoding='utf-8',\n",
    "                      timestampFormat='MM/dd/yyyy HH:mm:ss',\n",
    "                     )\n",
    "# data = spark.read.csv(all_files, schema=schema, sep=',', encoding='utf-8')\n",
    "\n",
    "# convert timestamp to time only column\n",
    "data = (data\n",
    "        .withColumn(\"minute\", minute(data['Timestamp']).cast(\"int\"))\n",
    "        .withColumn(\"hour\", hour(data['Timestamp']).cast(\"int\")))\n",
    "# tmp = data.first()\n",
    "# print tmp\n",
    "# print type(tmp.hour)\n",
    "\n",
    "data = (data\n",
    "        .withColumn('Time', concat(data.hour, lit(\":\"), data.minute))\n",
    "        .withColumn('TimeNumber', data.hour * 12 + data.minute/5))\n",
    "# data = (data.withColumn('Time', data['hour'] + ':' + data['minute']))\n",
    "\n",
    "# print data.take(1)\n",
    "\n",
    "# Creates a temporary view using the DataFrame\n",
    "# data.createOrReplaceTempView(\"data\")\n",
    "\n",
    "# SQL can be run over DataFrames that have been registered as a table.\n",
    "# results = spark.sql(\"SELECT count(Station) as cnt FROM data\")\n",
    "\n",
    "# results.show()\n",
    "\n",
    "# result_by_time = data.groupBy(['Station', 'TimeNumber']).agg({'totalflow': 'mean'}).toPandas()\n",
    "# filter to 5:00 am to 9:00 pm to account for the stations that go offline during the evening.\n",
    "# result_avg = data.filter((21 >= data.hour) & (data.hour >= 5)).groupBy(['Station']).agg(    \n",
    "result_avg = data.filter((21 >= data.hour) & (data.hour >= 5) & (data.perc_observed >= 100)).groupBy(['Station']).agg(\n",
    "    {'totalflow': 'mean',\n",
    "     'perc_observed': 'mean',\n",
    "     'samples': 'mean',\n",
    "     'lane1_flow': 'mean',\n",
    "     'lane2_flow': 'mean',\n",
    "     'lane3_flow': 'mean',\n",
    "     'lane4_flow': 'mean',\n",
    "     'lane5_flow': 'mean',\n",
    "     'lane6_flow': 'mean',                                            \n",
    "     'lane7_flow': 'mean',\n",
    "     'lane8_flow': 'mean'}).toPandas()\n",
    "print \"total time: %s\" % (time() - start_time)"
   ]
  },
  {
   "cell_type": "markdown",
   "metadata": {},
   "source": [
    "## Explore the Data\n",
    "Observations:\n",
    "* Data for each hour varies across even a single day\n",
    "* The values for flow when no samples are records can be over 2x off\n",
    "* The metadata includes 1541 stations in D11 (San Diego) yet not all of them have data for each day\n",
    "\n",
    "#### Distribution of Types of stations\n",
    "\n",
    "| Lane Type | Count of Station | Lane Type Full Name |\n",
    "|-----------|------------------|---------------------|\n",
    "| ML        | 839              | Mainline\n",
    "| OR        | 312              | On Ramp\n",
    "| FR        | 234              | Off Ramp\n",
    "| HV        | 93               | HOV\n",
    "| FF        | 55               | Fwy-Fwy connector\n",
    "| CH        | 7                | Conventional Highway\n",
    "| CD        | 1                | Collector/Distributor\n",
    "\n",
    "Note: The number of on ramps is 33% higher than the number of off ramps, which means that unless the off ramps have more lanes, the D11 inflow capacity exceeds the D11 out flow capacity"
   ]
  },
  {
   "cell_type": "code",
   "execution_count": 63,
   "metadata": {
    "collapsed": false
   },
   "outputs": [],
   "source": [
    "# sort the columns\n",
    "result_avg = result_avg.reindex_axis(sorted(result_avg.columns), axis=1)"
   ]
  },
  {
   "cell_type": "code",
   "execution_count": 64,
   "metadata": {
    "collapsed": true
   },
   "outputs": [],
   "source": [
    "merged_result_avg = pd.merge(result_avg, meta_df, how='left', left_on='Station', right_on='ID')"
   ]
  },
  {
   "cell_type": "code",
   "execution_count": 65,
   "metadata": {
    "collapsed": false
   },
   "outputs": [
    {
     "data": {
      "text/html": [
       "<div>\n",
       "<table border=\"1\" class=\"dataframe\">\n",
       "  <thead>\n",
       "    <tr style=\"text-align: right;\">\n",
       "      <th></th>\n",
       "      <th>Station</th>\n",
       "      <th>avg(lane1_flow)</th>\n",
       "      <th>avg(lane2_flow)</th>\n",
       "      <th>avg(lane3_flow)</th>\n",
       "      <th>avg(lane4_flow)</th>\n",
       "      <th>avg(lane5_flow)</th>\n",
       "      <th>avg(lane6_flow)</th>\n",
       "      <th>avg(lane7_flow)</th>\n",
       "      <th>avg(lane8_flow)</th>\n",
       "      <th>avg(perc_observed)</th>\n",
       "      <th>...</th>\n",
       "      <th>Length</th>\n",
       "      <th>Type</th>\n",
       "      <th>Lanes</th>\n",
       "      <th>Name</th>\n",
       "      <th>User_ID_1</th>\n",
       "      <th>User_ID_2</th>\n",
       "      <th>User_ID_3</th>\n",
       "      <th>User_ID_4</th>\n",
       "      <th>file_date</th>\n",
       "      <th>elevation</th>\n",
       "    </tr>\n",
       "  </thead>\n",
       "  <tbody>\n",
       "    <tr>\n",
       "      <th>965</th>\n",
       "      <td>1108609</td>\n",
       "      <td>56.757242</td>\n",
       "      <td>80.199934</td>\n",
       "      <td>81.77953</td>\n",
       "      <td>73.58106</td>\n",
       "      <td>NaN</td>\n",
       "      <td>NaN</td>\n",
       "      <td>NaN</td>\n",
       "      <td>None</td>\n",
       "      <td>100.0</td>\n",
       "      <td>...</td>\n",
       "      <td>0.387</td>\n",
       "      <td>ML</td>\n",
       "      <td>4</td>\n",
       "      <td>HANCOCK ST</td>\n",
       "      <td>10407</td>\n",
       "      <td>None</td>\n",
       "      <td>None</td>\n",
       "      <td>None</td>\n",
       "      <td>2015_12_17</td>\n",
       "      <td>25.888737</td>\n",
       "    </tr>\n",
       "  </tbody>\n",
       "</table>\n",
       "<p>1 rows × 35 columns</p>\n",
       "</div>"
      ],
      "text/plain": [
       "     Station  avg(lane1_flow)  avg(lane2_flow)  avg(lane3_flow)  \\\n",
       "965  1108609        56.757242        80.199934         81.77953   \n",
       "\n",
       "     avg(lane4_flow)  avg(lane5_flow)  avg(lane6_flow)  avg(lane7_flow)  \\\n",
       "965         73.58106              NaN              NaN              NaN   \n",
       "\n",
       "    avg(lane8_flow)  avg(perc_observed)    ...      Length  Type  Lanes  \\\n",
       "965            None               100.0    ...       0.387    ML      4   \n",
       "\n",
       "           Name  User_ID_1  User_ID_2  User_ID_3 User_ID_4   file_date  \\\n",
       "965  HANCOCK ST      10407       None       None      None  2015_12_17   \n",
       "\n",
       "     elevation  \n",
       "965  25.888737  \n",
       "\n",
       "[1 rows x 35 columns]"
      ]
     },
     "execution_count": 65,
     "metadata": {},
     "output_type": "execute_result"
    }
   ],
   "source": [
    "merged_result_avg[merged_result_avg.Station == 1108609].head()"
   ]
  },
  {
   "cell_type": "code",
   "execution_count": 66,
   "metadata": {
    "collapsed": false,
    "scrolled": true
   },
   "outputs": [
    {
     "name": "stdout",
     "output_type": "stream",
     "text": [
      "# of stations that have less than an average of 5 samples per 5 minutes: 1\n"
     ]
    }
   ],
   "source": [
    "ret = result_avg[result_avg['avg(samples)'] < 5]\n",
    "print \"# of stations that have less than an average of 5 samples per 5 minutes: %s\" % len(ret)\n",
    "# ret"
   ]
  },
  {
   "cell_type": "markdown",
   "metadata": {},
   "source": [
    "### Review the aggregate flow for a single freeway"
   ]
  },
  {
   "cell_type": "code",
   "execution_count": 67,
   "metadata": {
    "collapsed": false
   },
   "outputs": [
    {
     "data": {
      "text/plain": [
       "Index([u'Station', u'avg(lane1_flow)', u'avg(lane2_flow)', u'avg(lane3_flow)',\n",
       "       u'avg(lane4_flow)', u'avg(lane5_flow)', u'avg(lane6_flow)',\n",
       "       u'avg(lane7_flow)', u'avg(lane8_flow)', u'avg(perc_observed)',\n",
       "       u'avg(samples)', u'avg(totalflow)', u'_c0', u'Unnamed: 0',\n",
       "       u'Unnamed: 0.1', u'ID', u'Fwy', u'Dir', u'District', u'County', u'City',\n",
       "       u'State_PM', u'Abs_PM', u'Latitude', u'Longitude', u'Length', u'Type',\n",
       "       u'Lanes', u'Name', u'User_ID_1', u'User_ID_2', u'User_ID_3',\n",
       "       u'User_ID_4', u'file_date', u'elevation'],\n",
       "      dtype='object')"
      ]
     },
     "execution_count": 67,
     "metadata": {},
     "output_type": "execute_result"
    }
   ],
   "source": [
    "merged_result_avg.columns"
   ]
  },
  {
   "cell_type": "code",
   "execution_count": 68,
   "metadata": {
    "collapsed": false
   },
   "outputs": [
    {
     "data": {
      "text/plain": [
       "array([2, 3, 4, 1])"
      ]
     },
     "execution_count": 68,
     "metadata": {},
     "output_type": "execute_result"
    }
   ],
   "source": [
    "# Let's look at a single freeway / direction, ie: 56 W\n",
    "W_56 = merged_result_avg[(merged_result_avg.Dir == 'W') & (merged_result_avg.Fwy == 56)]\n",
    "W_56.Lanes.unique()"
   ]
  },
  {
   "cell_type": "code",
   "execution_count": 69,
   "metadata": {
    "collapsed": false
   },
   "outputs": [
    {
     "data": {
      "text/html": [
       "<div>\n",
       "<table border=\"1\" class=\"dataframe\">\n",
       "  <thead>\n",
       "    <tr style=\"text-align: right;\">\n",
       "      <th></th>\n",
       "      <th>Station</th>\n",
       "      <th>avg(lane1_flow)</th>\n",
       "      <th>avg(lane2_flow)</th>\n",
       "      <th>avg(lane3_flow)</th>\n",
       "      <th>avg(lane4_flow)</th>\n",
       "      <th>avg(lane5_flow)</th>\n",
       "      <th>avg(lane6_flow)</th>\n",
       "      <th>avg(lane7_flow)</th>\n",
       "      <th>avg(lane8_flow)</th>\n",
       "      <th>avg(perc_observed)</th>\n",
       "      <th>...</th>\n",
       "      <th>Longitude</th>\n",
       "      <th>Length</th>\n",
       "      <th>Lanes</th>\n",
       "      <th>Name</th>\n",
       "      <th>User_ID_1</th>\n",
       "      <th>User_ID_2</th>\n",
       "      <th>User_ID_3</th>\n",
       "      <th>User_ID_4</th>\n",
       "      <th>file_date</th>\n",
       "      <th>elevation</th>\n",
       "    </tr>\n",
       "    <tr>\n",
       "      <th>Type</th>\n",
       "      <th></th>\n",
       "      <th></th>\n",
       "      <th></th>\n",
       "      <th></th>\n",
       "      <th></th>\n",
       "      <th></th>\n",
       "      <th></th>\n",
       "      <th></th>\n",
       "      <th></th>\n",
       "      <th></th>\n",
       "      <th></th>\n",
       "      <th></th>\n",
       "      <th></th>\n",
       "      <th></th>\n",
       "      <th></th>\n",
       "      <th></th>\n",
       "      <th></th>\n",
       "      <th></th>\n",
       "      <th></th>\n",
       "      <th></th>\n",
       "      <th></th>\n",
       "    </tr>\n",
       "  </thead>\n",
       "  <tbody>\n",
       "    <tr>\n",
       "      <th>FR</th>\n",
       "      <td>4</td>\n",
       "      <td>4</td>\n",
       "      <td>2</td>\n",
       "      <td>0</td>\n",
       "      <td>0</td>\n",
       "      <td>0</td>\n",
       "      <td>0</td>\n",
       "      <td>0</td>\n",
       "      <td>0</td>\n",
       "      <td>4</td>\n",
       "      <td>...</td>\n",
       "      <td>4</td>\n",
       "      <td>0</td>\n",
       "      <td>4</td>\n",
       "      <td>4</td>\n",
       "      <td>4</td>\n",
       "      <td>0</td>\n",
       "      <td>0</td>\n",
       "      <td>0</td>\n",
       "      <td>4</td>\n",
       "      <td>4</td>\n",
       "    </tr>\n",
       "    <tr>\n",
       "      <th>ML</th>\n",
       "      <td>9</td>\n",
       "      <td>9</td>\n",
       "      <td>9</td>\n",
       "      <td>0</td>\n",
       "      <td>0</td>\n",
       "      <td>0</td>\n",
       "      <td>0</td>\n",
       "      <td>0</td>\n",
       "      <td>0</td>\n",
       "      <td>9</td>\n",
       "      <td>...</td>\n",
       "      <td>9</td>\n",
       "      <td>9</td>\n",
       "      <td>9</td>\n",
       "      <td>9</td>\n",
       "      <td>9</td>\n",
       "      <td>0</td>\n",
       "      <td>0</td>\n",
       "      <td>0</td>\n",
       "      <td>9</td>\n",
       "      <td>9</td>\n",
       "    </tr>\n",
       "    <tr>\n",
       "      <th>OR</th>\n",
       "      <td>5</td>\n",
       "      <td>5</td>\n",
       "      <td>4</td>\n",
       "      <td>1</td>\n",
       "      <td>0</td>\n",
       "      <td>0</td>\n",
       "      <td>0</td>\n",
       "      <td>0</td>\n",
       "      <td>0</td>\n",
       "      <td>5</td>\n",
       "      <td>...</td>\n",
       "      <td>5</td>\n",
       "      <td>0</td>\n",
       "      <td>5</td>\n",
       "      <td>5</td>\n",
       "      <td>5</td>\n",
       "      <td>0</td>\n",
       "      <td>0</td>\n",
       "      <td>0</td>\n",
       "      <td>5</td>\n",
       "      <td>5</td>\n",
       "    </tr>\n",
       "  </tbody>\n",
       "</table>\n",
       "<p>3 rows × 34 columns</p>\n",
       "</div>"
      ],
      "text/plain": [
       "      Station  avg(lane1_flow)  avg(lane2_flow)  avg(lane3_flow)  \\\n",
       "Type                                                               \n",
       "FR          4                4                2                0   \n",
       "ML          9                9                9                0   \n",
       "OR          5                5                4                1   \n",
       "\n",
       "      avg(lane4_flow)  avg(lane5_flow)  avg(lane6_flow)  avg(lane7_flow)  \\\n",
       "Type                                                                       \n",
       "FR                  0                0                0                0   \n",
       "ML                  0                0                0                0   \n",
       "OR                  0                0                0                0   \n",
       "\n",
       "      avg(lane8_flow)  avg(perc_observed)    ...      Longitude  Length  \\\n",
       "Type                                         ...                          \n",
       "FR                  0                   4    ...              4       0   \n",
       "ML                  0                   9    ...              9       9   \n",
       "OR                  0                   5    ...              5       0   \n",
       "\n",
       "      Lanes  Name  User_ID_1  User_ID_2  User_ID_3  User_ID_4  file_date  \\\n",
       "Type                                                                       \n",
       "FR        4     4          4          0          0          0          4   \n",
       "ML        9     9          9          0          0          0          9   \n",
       "OR        5     5          5          0          0          0          5   \n",
       "\n",
       "      elevation  \n",
       "Type             \n",
       "FR            4  \n",
       "ML            9  \n",
       "OR            5  \n",
       "\n",
       "[3 rows x 34 columns]"
      ]
     },
     "execution_count": 69,
     "metadata": {},
     "output_type": "execute_result"
    }
   ],
   "source": [
    "W_56.groupby('Type').count()"
   ]
  },
  {
   "cell_type": "code",
   "execution_count": 70,
   "metadata": {
    "collapsed": false
   },
   "outputs": [
    {
     "name": "stdout",
     "output_type": "stream",
     "text": [
      "the total flow into 56_W: 29.8040269228\n"
     ]
    },
    {
     "data": {
      "text/html": [
       "<div>\n",
       "<table border=\"1\" class=\"dataframe\">\n",
       "  <thead>\n",
       "    <tr style=\"text-align: right;\">\n",
       "      <th></th>\n",
       "      <th>Station</th>\n",
       "      <th>Abs_PM</th>\n",
       "      <th>Lanes</th>\n",
       "      <th>avg(samples)</th>\n",
       "      <th>avg(perc_observed)</th>\n",
       "      <th>avg(totalflow)</th>\n",
       "      <th>avg(lane1_flow)</th>\n",
       "      <th>avg(lane2_flow)</th>\n",
       "      <th>avg(lane3_flow)</th>\n",
       "      <th>Latitude</th>\n",
       "      <th>Longitude</th>\n",
       "    </tr>\n",
       "  </thead>\n",
       "  <tbody>\n",
       "    <tr>\n",
       "      <th>388</th>\n",
       "      <td>1125543</td>\n",
       "      <td>8.565</td>\n",
       "      <td>1</td>\n",
       "      <td>9.879941</td>\n",
       "      <td>100.0</td>\n",
       "      <td>31.631334</td>\n",
       "      <td>31.631334</td>\n",
       "      <td>NaN</td>\n",
       "      <td>NaN</td>\n",
       "      <td>32.958653</td>\n",
       "      <td>-117.113729</td>\n",
       "    </tr>\n",
       "    <tr>\n",
       "      <th>477</th>\n",
       "      <td>1113765</td>\n",
       "      <td>5.948</td>\n",
       "      <td>2</td>\n",
       "      <td>19.758150</td>\n",
       "      <td>100.0</td>\n",
       "      <td>14.412444</td>\n",
       "      <td>1.602456</td>\n",
       "      <td>12.809988</td>\n",
       "      <td>NaN</td>\n",
       "      <td>32.960479</td>\n",
       "      <td>-117.155182</td>\n",
       "    </tr>\n",
       "    <tr>\n",
       "      <th>137</th>\n",
       "      <td>1113723</td>\n",
       "      <td>2.909</td>\n",
       "      <td>3</td>\n",
       "      <td>29.637341</td>\n",
       "      <td>100.0</td>\n",
       "      <td>35.840641</td>\n",
       "      <td>4.953003</td>\n",
       "      <td>13.640109</td>\n",
       "      <td>17.247528</td>\n",
       "      <td>32.951299</td>\n",
       "      <td>-117.197463</td>\n",
       "    </tr>\n",
       "    <tr>\n",
       "      <th>786</th>\n",
       "      <td>1108746</td>\n",
       "      <td>1.861</td>\n",
       "      <td>2</td>\n",
       "      <td>19.757942</td>\n",
       "      <td>100.0</td>\n",
       "      <td>36.371831</td>\n",
       "      <td>10.850094</td>\n",
       "      <td>25.521737</td>\n",
       "      <td>NaN</td>\n",
       "      <td>32.944421</td>\n",
       "      <td>-117.213509</td>\n",
       "    </tr>\n",
       "    <tr>\n",
       "      <th>898</th>\n",
       "      <td>1108744</td>\n",
       "      <td>0.871</td>\n",
       "      <td>2</td>\n",
       "      <td>19.757298</td>\n",
       "      <td>100.0</td>\n",
       "      <td>30.763885</td>\n",
       "      <td>10.690455</td>\n",
       "      <td>20.073431</td>\n",
       "      <td>NaN</td>\n",
       "      <td>32.937625</td>\n",
       "      <td>-117.228312</td>\n",
       "    </tr>\n",
       "  </tbody>\n",
       "</table>\n",
       "</div>"
      ],
      "text/plain": [
       "     Station  Abs_PM  Lanes  avg(samples)  avg(perc_observed)  avg(totalflow)  \\\n",
       "388  1125543   8.565      1      9.879941               100.0       31.631334   \n",
       "477  1113765   5.948      2     19.758150               100.0       14.412444   \n",
       "137  1113723   2.909      3     29.637341               100.0       35.840641   \n",
       "786  1108746   1.861      2     19.757942               100.0       36.371831   \n",
       "898  1108744   0.871      2     19.757298               100.0       30.763885   \n",
       "\n",
       "     avg(lane1_flow)  avg(lane2_flow)  avg(lane3_flow)   Latitude   Longitude  \n",
       "388        31.631334              NaN              NaN  32.958653 -117.113729  \n",
       "477         1.602456        12.809988              NaN  32.960479 -117.155182  \n",
       "137         4.953003        13.640109        17.247528  32.951299 -117.197463  \n",
       "786        10.850094        25.521737              NaN  32.944421 -117.213509  \n",
       "898        10.690455        20.073431              NaN  32.937625 -117.228312  "
      ]
     },
     "execution_count": 70,
     "metadata": {},
     "output_type": "execute_result"
    }
   ],
   "source": [
    "OR_W_56 = W_56[(W_56.Type == 'OR')].sort_values(by='Abs_PM', ascending=False)[\n",
    "    ['Station', 'Abs_PM', 'Lanes', 'avg(samples)', 'avg(perc_observed)',\n",
    "     'avg(totalflow)', 'avg(lane1_flow)', 'avg(lane2_flow)', 'avg(lane3_flow)',\n",
    "     'Latitude', 'Longitude']]\n",
    "W_56_in_flow = OR_W_56['avg(totalflow)'].mean()\n",
    "print \"the total flow into 56_W: %s\" % W_56_in_flow\n",
    "OR_W_56"
   ]
  },
  {
   "cell_type": "code",
   "execution_count": 71,
   "metadata": {
    "collapsed": false
   },
   "outputs": [
    {
     "name": "stdout",
     "output_type": "stream",
     "text": [
      "the total flow out of 56_W: 19.7268525776\n"
     ]
    },
    {
     "data": {
      "text/html": [
       "<div>\n",
       "<table border=\"1\" class=\"dataframe\">\n",
       "  <thead>\n",
       "    <tr style=\"text-align: right;\">\n",
       "      <th></th>\n",
       "      <th>Station</th>\n",
       "      <th>Abs_PM</th>\n",
       "      <th>Lanes</th>\n",
       "      <th>avg(samples)</th>\n",
       "      <th>avg(perc_observed)</th>\n",
       "      <th>avg(totalflow)</th>\n",
       "      <th>avg(lane1_flow)</th>\n",
       "      <th>avg(lane2_flow)</th>\n",
       "      <th>avg(lane3_flow)</th>\n",
       "      <th>avg(lane4_flow)</th>\n",
       "    </tr>\n",
       "  </thead>\n",
       "  <tbody>\n",
       "    <tr>\n",
       "      <th>405</th>\n",
       "      <td>1125548</td>\n",
       "      <td>8.565</td>\n",
       "      <td>1</td>\n",
       "      <td>9.879941</td>\n",
       "      <td>100.0</td>\n",
       "      <td>19.915661</td>\n",
       "      <td>19.915661</td>\n",
       "      <td>NaN</td>\n",
       "      <td>NaN</td>\n",
       "      <td>NaN</td>\n",
       "    </tr>\n",
       "    <tr>\n",
       "      <th>171</th>\n",
       "      <td>1113764</td>\n",
       "      <td>5.948</td>\n",
       "      <td>4</td>\n",
       "      <td>19.758150</td>\n",
       "      <td>100.0</td>\n",
       "      <td>39.437963</td>\n",
       "      <td>9.965020</td>\n",
       "      <td>29.472944</td>\n",
       "      <td>NaN</td>\n",
       "      <td>NaN</td>\n",
       "    </tr>\n",
       "    <tr>\n",
       "      <th>1318</th>\n",
       "      <td>1113721</td>\n",
       "      <td>2.909</td>\n",
       "      <td>2</td>\n",
       "      <td>19.758228</td>\n",
       "      <td>100.0</td>\n",
       "      <td>3.115778</td>\n",
       "      <td>0.743673</td>\n",
       "      <td>2.372105</td>\n",
       "      <td>NaN</td>\n",
       "      <td>NaN</td>\n",
       "    </tr>\n",
       "    <tr>\n",
       "      <th>805</th>\n",
       "      <td>1113615</td>\n",
       "      <td>0.871</td>\n",
       "      <td>1</td>\n",
       "      <td>9.878649</td>\n",
       "      <td>100.0</td>\n",
       "      <td>16.438008</td>\n",
       "      <td>16.438008</td>\n",
       "      <td>NaN</td>\n",
       "      <td>NaN</td>\n",
       "      <td>NaN</td>\n",
       "    </tr>\n",
       "  </tbody>\n",
       "</table>\n",
       "</div>"
      ],
      "text/plain": [
       "      Station  Abs_PM  Lanes  avg(samples)  avg(perc_observed)  \\\n",
       "405   1125548   8.565      1      9.879941               100.0   \n",
       "171   1113764   5.948      4     19.758150               100.0   \n",
       "1318  1113721   2.909      2     19.758228               100.0   \n",
       "805   1113615   0.871      1      9.878649               100.0   \n",
       "\n",
       "      avg(totalflow)  avg(lane1_flow)  avg(lane2_flow)  avg(lane3_flow)  \\\n",
       "405        19.915661        19.915661              NaN              NaN   \n",
       "171        39.437963         9.965020        29.472944              NaN   \n",
       "1318        3.115778         0.743673         2.372105              NaN   \n",
       "805        16.438008        16.438008              NaN              NaN   \n",
       "\n",
       "      avg(lane4_flow)  \n",
       "405               NaN  \n",
       "171               NaN  \n",
       "1318              NaN  \n",
       "805               NaN  "
      ]
     },
     "execution_count": 71,
     "metadata": {},
     "output_type": "execute_result"
    }
   ],
   "source": [
    "FR_W_56 = W_56[(W_56.Type == 'FR')].sort_values(by='Abs_PM', ascending=False)[\n",
    "    ['Station', 'Abs_PM', 'Lanes', 'avg(samples)', 'avg(perc_observed)',\n",
    "     'avg(totalflow)', 'avg(lane1_flow)', 'avg(lane2_flow)', 'avg(lane3_flow)', 'avg(lane4_flow)']]\n",
    "W_56_out_flow = FR_W_56['avg(totalflow)'].mean()\n",
    "print \"the total flow out of 56_W: %s\" % W_56_out_flow\n",
    "FR_W_56"
   ]
  },
  {
   "cell_type": "code",
   "execution_count": 72,
   "metadata": {
    "collapsed": false
   },
   "outputs": [
    {
     "name": "stdout",
     "output_type": "stream",
     "text": [
      "total 56 W flow is: 143.954109526\n"
     ]
    },
    {
     "data": {
      "text/html": [
       "<div>\n",
       "<table border=\"1\" class=\"dataframe\">\n",
       "  <thead>\n",
       "    <tr style=\"text-align: right;\">\n",
       "      <th></th>\n",
       "      <th>Station</th>\n",
       "      <th>Abs_PM</th>\n",
       "      <th>avg(samples)</th>\n",
       "      <th>avg(perc_observed)</th>\n",
       "      <th>avg(totalflow)</th>\n",
       "      <th>avg(lane1_flow)</th>\n",
       "      <th>avg(lane2_flow)</th>\n",
       "    </tr>\n",
       "  </thead>\n",
       "  <tbody>\n",
       "    <tr>\n",
       "      <th>98</th>\n",
       "      <td>1125531</td>\n",
       "      <td>9.302</td>\n",
       "      <td>19.752533</td>\n",
       "      <td>100.0</td>\n",
       "      <td>158.144638</td>\n",
       "      <td>65.109398</td>\n",
       "      <td>93.035240</td>\n",
       "    </tr>\n",
       "    <tr>\n",
       "      <th>849</th>\n",
       "      <td>1125546</td>\n",
       "      <td>8.565</td>\n",
       "      <td>19.756190</td>\n",
       "      <td>100.0</td>\n",
       "      <td>138.233397</td>\n",
       "      <td>67.247084</td>\n",
       "      <td>70.986312</td>\n",
       "    </tr>\n",
       "    <tr>\n",
       "      <th>214</th>\n",
       "      <td>1125575</td>\n",
       "      <td>7.661</td>\n",
       "      <td>19.755641</td>\n",
       "      <td>100.0</td>\n",
       "      <td>125.649981</td>\n",
       "      <td>64.198317</td>\n",
       "      <td>61.451664</td>\n",
       "    </tr>\n",
       "    <tr>\n",
       "      <th>665</th>\n",
       "      <td>1125219</td>\n",
       "      <td>6.175</td>\n",
       "      <td>19.756935</td>\n",
       "      <td>100.0</td>\n",
       "      <td>129.411061</td>\n",
       "      <td>68.685790</td>\n",
       "      <td>60.725272</td>\n",
       "    </tr>\n",
       "    <tr>\n",
       "      <th>874</th>\n",
       "      <td>1113760</td>\n",
       "      <td>5.948</td>\n",
       "      <td>19.754806</td>\n",
       "      <td>100.0</td>\n",
       "      <td>130.273411</td>\n",
       "      <td>69.318198</td>\n",
       "      <td>60.955212</td>\n",
       "    </tr>\n",
       "    <tr>\n",
       "      <th>882</th>\n",
       "      <td>1113771</td>\n",
       "      <td>4.519</td>\n",
       "      <td>19.745703</td>\n",
       "      <td>100.0</td>\n",
       "      <td>154.590137</td>\n",
       "      <td>79.855364</td>\n",
       "      <td>74.734774</td>\n",
       "    </tr>\n",
       "    <tr>\n",
       "      <th>1343</th>\n",
       "      <td>1113720</td>\n",
       "      <td>2.909</td>\n",
       "      <td>19.754950</td>\n",
       "      <td>100.0</td>\n",
       "      <td>139.494396</td>\n",
       "      <td>70.147627</td>\n",
       "      <td>69.346768</td>\n",
       "    </tr>\n",
       "    <tr>\n",
       "      <th>155</th>\n",
       "      <td>1108745</td>\n",
       "      <td>1.861</td>\n",
       "      <td>19.750775</td>\n",
       "      <td>100.0</td>\n",
       "      <td>149.996062</td>\n",
       "      <td>74.368454</td>\n",
       "      <td>75.627608</td>\n",
       "    </tr>\n",
       "    <tr>\n",
       "      <th>845</th>\n",
       "      <td>1108743</td>\n",
       "      <td>0.881</td>\n",
       "      <td>19.752777</td>\n",
       "      <td>100.0</td>\n",
       "      <td>169.793903</td>\n",
       "      <td>70.592726</td>\n",
       "      <td>99.201177</td>\n",
       "    </tr>\n",
       "  </tbody>\n",
       "</table>\n",
       "</div>"
      ],
      "text/plain": [
       "      Station  Abs_PM  avg(samples)  avg(perc_observed)  avg(totalflow)  \\\n",
       "98    1125531   9.302     19.752533               100.0      158.144638   \n",
       "849   1125546   8.565     19.756190               100.0      138.233397   \n",
       "214   1125575   7.661     19.755641               100.0      125.649981   \n",
       "665   1125219   6.175     19.756935               100.0      129.411061   \n",
       "874   1113760   5.948     19.754806               100.0      130.273411   \n",
       "882   1113771   4.519     19.745703               100.0      154.590137   \n",
       "1343  1113720   2.909     19.754950               100.0      139.494396   \n",
       "155   1108745   1.861     19.750775               100.0      149.996062   \n",
       "845   1108743   0.881     19.752777               100.0      169.793903   \n",
       "\n",
       "      avg(lane1_flow)  avg(lane2_flow)  \n",
       "98          65.109398        93.035240  \n",
       "849         67.247084        70.986312  \n",
       "214         64.198317        61.451664  \n",
       "665         68.685790        60.725272  \n",
       "874         69.318198        60.955212  \n",
       "882         79.855364        74.734774  \n",
       "1343        70.147627        69.346768  \n",
       "155         74.368454        75.627608  \n",
       "845         70.592726        99.201177  "
      ]
     },
     "execution_count": 72,
     "metadata": {},
     "output_type": "execute_result"
    }
   ],
   "source": [
    "ML_W_56 = W_56[(W_56.Type == 'ML')].sort_values(by='Abs_PM', ascending=False)[\n",
    "    ['Station', 'Abs_PM', 'avg(samples)', 'avg(perc_observed)',\n",
    "     'avg(totalflow)', 'avg(lane1_flow)', 'avg(lane2_flow)']]\n",
    "W_56_main_flow = ML_W_56['avg(totalflow)'].mean()\n",
    "print \"total 56 W flow is: %s\" % W_56_main_flow\n",
    "ML_W_56"
   ]
  },
  {
   "cell_type": "code",
   "execution_count": 73,
   "metadata": {
    "collapsed": false
   },
   "outputs": [
    {
     "name": "stdout",
     "output_type": "stream",
     "text": [
      "the total flow into 56_W: 29.8040269228\n",
      "the total flow out of 56_W: 19.7268525776\n",
      "total 56 W flow is: 143.954109526\n",
      "total in flow vs total out flow: 1.5108353857\n",
      "total main flow vs total in flow: 4.83002212752\n",
      "total main flow vs total out flow: 7.29736834399\n"
     ]
    }
   ],
   "source": [
    "print \"the total flow into 56_W: %s\" % W_56_in_flow\n",
    "print \"the total flow out of 56_W: %s\" % W_56_out_flow\n",
    "print \"total 56 W flow is: %s\" % W_56_main_flow\n",
    "print \"total in flow vs total out flow: %s\" % (W_56_in_flow / W_56_out_flow)\n",
    "print \"total main flow vs total in flow: %s\" % (W_56_main_flow / W_56_in_flow)\n",
    "print \"total main flow vs total out flow: %s\" % (W_56_main_flow / W_56_out_flow)"
   ]
  },
  {
   "cell_type": "code",
   "execution_count": 99,
   "metadata": {
    "collapsed": false
   },
   "outputs": [
    {
     "name": "stdout",
     "output_type": "stream",
     "text": [
      "in_flow 125_S: 40.328912289\n",
      "out_flow 125_S: 36.7693526116\n",
      "thru_flow 125_S: 129.584574238\n",
      "in_flow 905_E: 5.52178728218\n",
      "out_flow 905_E: 21.3397483999\n",
      "thru_flow 905_E: 91.4131433417\n",
      "in_flow 54_W: 45.9788582605\n",
      "out_flow 54_W: 18.0408744969\n",
      "thru_flow 54_W: 243.374359719\n",
      "in_flow 125_N: 36.9175916519\n",
      "out_flow 125_N: 32.6755771822\n",
      "thru_flow 125_N: 130.745579885\n",
      "in_flow 52_W: nan\n",
      "out_flow 52_W: nan\n",
      "thru_flow 52_W: 188.371151401\n",
      "in_flow 67_N: nan\n",
      "out_flow 67_N: nan\n",
      "thru_flow 67_N: nan\n",
      "in_flow 56_E: 36.5308036595\n",
      "out_flow 56_E: 35.4873172921\n",
      "thru_flow 56_E: 142.759719171\n",
      "in_flow 67_S: nan\n",
      "out_flow 67_S: nan\n",
      "thru_flow 67_S: nan\n",
      "in_flow 56_W: 29.8040269228\n",
      "out_flow 56_W: 19.7268525776\n",
      "thru_flow 56_W: 143.954109526\n",
      "in_flow 905_W: 29.499562305\n",
      "out_flow 905_W: 7.33772488145\n",
      "thru_flow 905_W: 113.429411351\n",
      "in_flow 94_E: 34.6204590627\n",
      "out_flow 94_E: 42.6787691381\n",
      "thru_flow 94_E: 270.884066642\n",
      "in_flow 52_E: nan\n",
      "out_flow 52_E: 13.8972631985\n",
      "thru_flow 52_E: 193.97874111\n",
      "in_flow 78_W: 39.4858098041\n",
      "out_flow 78_W: 44.8964940471\n",
      "thru_flow 78_W: 256.562717034\n",
      "in_flow 5_N: 40.0307485513\n",
      "out_flow 5_N: 46.8673015907\n",
      "thru_flow 5_N: 347.929010877\n",
      "in_flow 15_N: 35.1234805998\n",
      "out_flow 15_N: 50.6590989126\n",
      "thru_flow 15_N: 396.177652053\n",
      "in_flow 15_S: 40.3814202741\n",
      "out_flow 15_S: 40.7868353096\n",
      "thru_flow 15_S: 411.706211511\n",
      "in_flow 94_W: 34.0482024753\n",
      "out_flow 94_W: 36.2351186953\n",
      "thru_flow 94_W: 274.935917008\n",
      "in_flow 78_E: 50.3073875719\n",
      "out_flow 78_E: 35.3759502242\n",
      "thru_flow 78_E: 266.761128994\n",
      "in_flow 54_E: 23.7386751421\n",
      "out_flow 54_E: 45.5194275892\n",
      "thru_flow 54_E: 226.629310569\n",
      "in_flow 5_S: 33.693597624\n",
      "out_flow 5_S: 31.471079929\n",
      "thru_flow 5_S: 341.06319477\n",
      "in_flow 8_E: 37.1137266813\n",
      "out_flow 8_E: 56.1734028042\n",
      "thru_flow 8_E: 310.39611731\n",
      "in_flow 163_N: 24.1839891033\n",
      "out_flow 163_N: 28.385284008\n",
      "thru_flow 163_N: 305.223098729\n",
      "in_flow 805_S: 36.8178429922\n",
      "out_flow 805_S: 33.8984127219\n",
      "thru_flow 805_S: 320.025055506\n",
      "in_flow 8_W: 44.1896199318\n",
      "out_flow 8_W: 37.449713484\n",
      "thru_flow 8_W: 329.384180919\n",
      "in_flow 805_N: 42.0665121197\n",
      "out_flow 805_N: 38.706114372\n",
      "thru_flow 805_N: 313.251192246\n",
      "in_flow 163_S: 31.2300847461\n",
      "out_flow 163_S: 23.1624053937\n",
      "thru_flow 163_S: 330.442167823\n"
     ]
    }
   ],
   "source": [
    "# print stats for all freeways\n",
    "freeway_stats = {}\n",
    "for freeway_key in freeway_vectors:\n",
    "    freeway_stats[freeway_key] = {}\n",
    "    fwy_num, fwy_dir = freeway_key.split('_')\n",
    "    \n",
    "    for fwy_type in ['OR', 'FR', 'ML']:\n",
    "        if fwy_type == 'OR':\n",
    "            store_key = 'in_flow'\n",
    "        elif fwy_type == 'FR':\n",
    "            store_key = 'out_flow'\n",
    "        else:\n",
    "            store_key = 'thru_flow'\n",
    "\n",
    "        lane_flows = {}\n",
    "        freeway_data = merged_result_avg[(merged_result_avg.Dir == fwy_dir) & (merged_result_avg.Fwy == int(fwy_num))]\n",
    "        freeway_filter = freeway_data[(freeway_data.Type == fwy_type)].sort_values(by='Abs_PM', ascending=False)[\n",
    "            ['Station', 'Abs_PM', 'Lanes', 'avg(samples)', 'avg(perc_observed)', 'avg(totalflow)',\n",
    "             'avg(lane1_flow)', 'avg(lane2_flow)', 'avg(lane3_flow)', 'avg(lane4_flow)', 'avg(lane5_flow)',\n",
    "             'avg(lane6_flow)', 'avg(lane7_flow)', 'avg(lane8_flow)', 'Latitude', 'Longitude']]\n",
    "        lane_flows['total'] = freeway_filter['avg(totalflow)'].mean()\n",
    "        print \"%s %s: %s\" % (store_key, freeway_key, lane_flows['total'])\n",
    "        for index in range(1, 8):\n",
    "            lane_flows['lane%s' % index] = freeway_filter['avg(lane%s_flow)' % index].mean()\n",
    "        freeway_stats[freeway_key][store_key] = lane_flows\n",
    "    "
   ]
  },
  {
   "cell_type": "code",
   "execution_count": 98,
   "metadata": {
    "collapsed": false
   },
   "outputs": [
    {
     "data": {
      "text/plain": [
       "{u'125_S': {'in_flow': {'lane1': 12.79924986821516,\n",
       "   'lane2': 22.8986811967191,\n",
       "   'lane3': 35.247964460944694,\n",
       "   'lane4': nan,\n",
       "   'lane5': nan,\n",
       "   'lane6': nan,\n",
       "   'lane7': nan,\n",
       "   'total': 40.32891228901885},\n",
       "  'out_flow': {'lane1': 17.16245684582846,\n",
       "   'lane2': 26.14252768764368,\n",
       "   'lane3': nan,\n",
       "   'lane4': nan,\n",
       "   'lane5': nan,\n",
       "   'lane6': nan,\n",
       "   'lane7': nan,\n",
       "   'total': 36.76935261156122},\n",
       "  'thru_flow': {'lane1': 40.72948575533675,\n",
       "   'lane2': 52.06454676803742,\n",
       "   'lane3': 52.859493847962334,\n",
       "   'lane4': 9.735832764647716,\n",
       "   'lane5': nan,\n",
       "   'lane6': nan,\n",
       "   'lane7': nan,\n",
       "   'total': 129.58457423799118}}}"
      ]
     },
     "execution_count": 98,
     "metadata": {},
     "output_type": "execute_result"
    }
   ],
   "source": [
    "freeway_stats"
   ]
  },
  {
   "cell_type": "markdown",
   "metadata": {},
   "source": [
    "# Iterations for 56 W\n",
    "\n",
    "## Iteration 1 = 1 day of data (no filtering on % observed)\n",
    "* the total flow into 56_W: 14.8556701031\n",
    "* the total flow out of 56_W: 4.44845360825\n",
    "* total 56 W flow is: 143.935866013\n",
    "* total in flow vs total out flow: 3.33951332561\n",
    "* total main flow vs total in flow: 9.68895142489\n",
    "* total main flow vs total out flow: 32.3563823946\n",
    "\n",
    "## Iteration 2 = 1 year of data (no filtering on % observed)\n",
    "* the total flow into 56_W: 29.8040269228\n",
    "* the total flow out of 56_W: 18.1266616983\n",
    "* total 56 W flow is: 151.0211851\n",
    "* total in flow vs total out flow: 1.64420936513\n",
    "* total main flow vs total in flow: 5.06714027241\n",
    "* total main flow vs total out flow: 8.33143949031\n",
    "\n",
    "## Iteration 3 = 1 year of data filtering to >= 50% % observed\n",
    "* the total flow into 56_W: 29.8040269228\n",
    "* the total flow out of 56_W: 18.1266616983\n",
    "* total 56 W flow is: 144.642039981\n",
    "* total in flow vs total out flow: 1.64420936513\n",
    "* total main flow vs total in flow: 4.85310392304\n",
    "* total main flow vs total out flow: 7.97951892021\n",
    "\n",
    "## Iteration 4 = 1 year of data filtering to >= 80% % observed\n",
    "* the total flow into 56_W: 29.8040269228\n",
    "* the total flow out of 56_W: 19.7268525776\n",
    "* total 56 W flow is: 143.954109526\n",
    "* total in flow vs total out flow: 1.5108353857\n",
    "* total main flow vs total in flow: 4.83002212752\n",
    "* total main flow vs total out flow: 7.29736834399\n",
    "\n",
    "## Iteration 5 = 1 year of data filtering to >= 100% % observed\n",
    "* the total flow into 56_W: 29.8040269228\n",
    "* the total flow out of 56_W: 19.7268525776\n",
    "* total 56 W flow is: 143.954109526\n",
    "* total in flow vs total out flow: 1.5108353857\n",
    "* total main flow vs total in flow: 4.83002212752\n",
    "* total main flow vs total out flow: 7.29736834399\n",
    "\n",
    "From the runs above it appears that filtering upon data that is raw ie: 100% % observed gives us a closer ratio of main flow to the in flow and out flow, although the changes are small, and this is only a single freeway. However, for this notebook the assumption will be made that this is a consistent trend, until additional runs can be made on the cluster to confirm / disprove this theory."
   ]
  },
  {
   "cell_type": "markdown",
   "metadata": {},
   "source": [
    "### Data Exploration at this point\n",
    "We can see that the number of on ramps and off ramps are the same for the 56 W and yet the total inflow is 3x higher than the 56 W total outflow. The total main line flow is ~10x higher than the total inflow and ~32x higher than the total outflow. Obviously this doesn't make sense in terms of the data, but given the geography of the freeway there are a few hints to the issue.\n",
    "\n",
    "The 56 W begins from a surface street called Ted Williams Pkwy and Ends at the 5. The first station considered part of the 56 doesn't include the flow into the 5 and the last off ramp is prior where the 56 and 15 meet. So in theory the all of the flow that isn't going out via the off ramps is going into the 5 or 15 or Ted Williams Pkwy.\n",
    "\n",
    "This means that we need to include a few stations from the other freeways to analyze the 56 West"
   ]
  },
  {
   "cell_type": "markdown",
   "metadata": {},
   "source": [
    "### Add 15N/S and 5N/S that apply to the 56 West\n",
    "Unfortunately we aren't able to add in the flow from Freeway to Freeway connectors since Caltrans doesn't have that data."
   ]
  },
  {
   "cell_type": "code",
   "execution_count": 87,
   "metadata": {
    "collapsed": false
   },
   "outputs": [
    {
     "name": "stdout",
     "output_type": "stream",
     "text": [
      "539.255150199\n",
      "445.035415219\n",
      "94.2197349799\n",
      "445.164697621\n",
      "538.332720544\n",
      "-93.1680229237\n",
      "total 15 flow from 56: 1.05171205618\n"
     ]
    }
   ],
   "source": [
    "FF_data = merged_result_avg[(merged_result_avg.Type == 'FF')][[\n",
    "        'Station', 'Fwy', 'Dir', 'Abs_PM', 'Latitude', 'Longitude', 'avg(totalflow)',\n",
    "        'Name']].sort_values(by='Abs_PM', ascending=False)\n",
    "# FF_data\n",
    "# 1125692 = 56 W hits 5N and 1113026 = 56 W hits 5S\n",
    "# Note: these don't show up due to filtering on % observed.\n",
    "FF_data[(FF_data.Station == 1125692) | (FF_data.Station == 1113026)]\n",
    "\n",
    "# For the 15 side there isn't a FF that maps to the 56 / 15 merge, so we have to use the difference between\n",
    "# stations to calculate the flow\n",
    "# Note: this still isn't a complete picture since cars can go straight and continue on ted williams or take\n",
    "# other surface streets\n",
    "\n",
    "# 1123002 - 1113985 = 15N component\n",
    "# 1108429 - 1123003 = 15S component\n",
    "\n",
    "N15_56W_start = merged_result_avg[(merged_result_avg.Station == 1123002)]['avg(totalflow)'].values[0]\n",
    "print N15_56W_start\n",
    "N15_56W_end = merged_result_avg[(merged_result_avg.Station == 1113985)]['avg(totalflow)'].values[0]\n",
    "print N15_56W_end\n",
    "total_N15 = N15_56W_start - N15_56W_end\n",
    "print total_N15\n",
    "\n",
    "S15_56W_start = merged_result_avg[(merged_result_avg.Station == 1108429)]['avg(totalflow)'].values[0]\n",
    "print S15_56W_start\n",
    "S15_56W_end = merged_result_avg[(merged_result_avg.Station == 1123003)]['avg(totalflow)'].values[0]\n",
    "print S15_56W_end\n",
    "total_S15 = S15_56W_start - S15_56W_end\n",
    "print total_S15\n",
    "\n",
    "print \"total 15 flow from 56: %s\" % (total_N15 + total_S15)"
   ]
  },
  {
   "cell_type": "markdown",
   "metadata": {},
   "source": [
    "### Data validation\n",
    "Since we can't fully validate the data as part of a closed system model (since we don't have all of the inputs and outputs) we can at least try to determine if any data points aren't internally consistent. The approach would be to create a linear approximately and see if anything isn't along the line."
   ]
  },
  {
   "cell_type": "code",
   "execution_count": 249,
   "metadata": {
    "collapsed": false
   },
   "outputs": [
    {
     "data": {
      "text/plain": [
       "<seaborn.axisgrid.FacetGrid at 0x113c71550>"
      ]
     },
     "execution_count": 249,
     "metadata": {},
     "output_type": "execute_result"
    },
    {
     "data": {
      "image/png": "[encoded data removed]",
      "text/plain": [
       "<matplotlib.figure.Figure at 0x11318b7d0>"
      ]
     },
     "metadata": {},
     "output_type": "display_data"
    }
   ],
   "source": [
    "import seaborn as sns\n",
    "sns.set(style=\"ticks\")\n",
    "\n",
    "# Load the example dataset for Anscombe's quartet\n",
    "df = sns.load_dataset(\"anscombe\")\n",
    "\n",
    "# Show the results of a linear regression within each dataset\n",
    "sns.lmplot(x=\"x\", y=\"y\", col=\"dataset\", hue=\"dataset\", data=df,\n",
    "           col_wrap=2, ci=None, palette=\"muted\", size=4,\n",
    "           scatter_kws={\"s\": 50, \"alpha\": 1})"
   ]
  },
  {
   "cell_type": "code",
   "execution_count": 30,
   "metadata": {
    "collapsed": false
   },
   "outputs": [
    {
     "data": {
      "image/png": "[encoded data removed]",
      "text/plain": [
       "<matplotlib.figure.Figure at 0x10eec5050>"
      ]
     },
     "metadata": {},
     "output_type": "display_data"
    }
   ],
   "source": [
    "import seaborn as sns\n",
    "sns.set(style=\"darkgrid\", color_codes=True)\n",
    "\n",
    "# tips = sns.load_dataset(\"tips\")\n",
    "g = sns.jointplot(\"avg(totalflow)\", \"avg(samples)\", data=ML_W_56, kind=\"reg\", color=\"r\", size=7)"
   ]
  },
  {
   "cell_type": "code",
   "execution_count": 243,
   "metadata": {
    "collapsed": false
   },
   "outputs": [
    {
     "data": {
      "text/plain": [
       "<matplotlib.axes._subplots.AxesSubplot at 0x113bd1990>"
      ]
     },
     "execution_count": 243,
     "metadata": {},
     "output_type": "execute_result"
    },
    {
     "data": {
      "image/png": "[encoded data removed]",
      "text/plain": [
       "<matplotlib.figure.Figure at 0x114a13550>"
      ]
     },
     "metadata": {},
     "output_type": "display_data"
    }
   ],
   "source": [
    "ML_W_56.index = range(0, len(ML_W_56))\n",
    "ML_W_56['avg(totalflow)'].plot(kind='line')"
   ]
  },
  {
   "cell_type": "code",
   "execution_count": null,
   "metadata": {
    "collapsed": true
   },
   "outputs": [],
   "source": []
  },
  {
   "cell_type": "code",
   "execution_count": null,
   "metadata": {
    "collapsed": true
   },
   "outputs": [],
   "source": [
    "OR_W_56 = W_56[(W_56.Type == 'OR')].sort_values(by='Abs_PM', ascending=False)[\n",
    "    ['Station', 'Abs_PM', 'Lanes', 'avg(samples)', 'avg(perc_observed)',\n",
    "     'avg(totalflow)', 'avg(lane1_flow)', 'avg(lane2_flow)']]\n",
    "W_56_in_flow = OR_W_56['avg(totalflow)'].mean()\n",
    "print \"the total flow into 56_W: %s\" % W_56_in_flow\n",
    "OR_W_56"
   ]
  },
  {
   "cell_type": "code",
   "execution_count": null,
   "metadata": {
    "collapsed": true
   },
   "outputs": [],
   "source": [
    "net_flow_to_5 = "
   ]
  },
  {
   "cell_type": "markdown",
   "metadata": {},
   "source": []
  },
  {
   "cell_type": "code",
   "execution_count": 123,
   "metadata": {
    "collapsed": false
   },
   "outputs": [
    {
     "data": {
      "text/plain": [
       "avg(samples)            7.526620\n",
       "avg(perc_observed)     34.895833\n",
       "avg(totalflow)        130.785880\n",
       "avg(lane1_flow)        63.920139\n",
       "avg(lane2_flow)        66.865741\n",
       "dtype: float64"
      ]
     },
     "execution_count": 123,
     "metadata": {},
     "output_type": "execute_result"
    }
   ],
   "source": [
    "avg_W_56 = core_W_56[['avg(samples)', 'avg(perc_observed)', 'avg(totalflow)', 'avg(lane1_flow)',\n",
    "                      'avg(lane2_flow)']].mean()\n",
    "avg_W_56"
   ]
  },
  {
   "cell_type": "code",
   "execution_count": null,
   "metadata": {
    "collapsed": true
   },
   "outputs": [],
   "source": []
  },
  {
   "cell_type": "code",
   "execution_count": null,
   "metadata": {
    "collapsed": true
   },
   "outputs": [],
   "source": []
  },
  {
   "cell_type": "code",
   "execution_count": null,
   "metadata": {
    "collapsed": true
   },
   "outputs": [],
   "source": []
  },
  {
   "cell_type": "code",
   "execution_count": 220,
   "metadata": {
    "collapsed": false,
    "scrolled": true
   },
   "outputs": [],
   "source": [
    "# data.printSchema()"
   ]
  },
  {
   "cell_type": "markdown",
   "metadata": {},
   "source": [
    "## Outlier Detection\n"
   ]
  },
  {
   "cell_type": "code",
   "execution_count": 88,
   "metadata": {
    "collapsed": false
   },
   "outputs": [
    {
     "name": "stdout",
     "output_type": "stream",
     "text": [
      "\n",
      "An interactive shell.\n",
      "\n",
      "This file is designed to be launched as a PYTHONSTARTUP script.\n",
      "\n"
     ]
    },
    {
     "data": {
      "image/png": "[encoded data removed]",
      "text/plain": [
       "<matplotlib.figure.Figure at 0x10f610f10>"
      ]
     },
     "metadata": {},
     "output_type": "display_data"
    }
   ],
   "source": [
    "print(__doc__)\n",
    "\n",
    "import numpy as np\n",
    "import matplotlib.pyplot as plt\n",
    "from sklearn.ensemble.iforest import IsolationForest\n",
    "\n",
    "rng = np.random.RandomState(42)\n",
    "\n",
    "# Generate train data\n",
    "X = 0.3 * rng.randn(100, 2)\n",
    "X_train = np.r_[X + 2, X - 2]\n",
    "# Generate some regular novel observations\n",
    "X = 0.3 * rng.randn(20, 2)\n",
    "X_test = np.r_[X + 2, X - 2]\n",
    "# Generate some abnormal novel observations\n",
    "X_outliers = rng.uniform(low=-4, high=4, size=(20, 2))\n",
    "\n",
    "# fit the model\n",
    "clf = IsolationForest(max_samples=100, random_state=rng)\n",
    "clf.fit(X_train)\n",
    "y_pred_train = clf.predict(X_train)\n",
    "y_pred_test = clf.predict(X_test)\n",
    "y_pred_outliers = clf.predict(X_outliers)\n",
    "\n",
    "# plot the line, the samples, and the nearest vectors to the plane\n",
    "xx, yy = np.meshgrid(np.linspace(-5, 5, 50), np.linspace(-5, 5, 50))\n",
    "Z = clf.decision_function(np.c_[xx.ravel(), yy.ravel()])\n",
    "Z = Z.reshape(xx.shape)\n",
    "\n",
    "plt.title(\"IsolationForest\")\n",
    "plt.contourf(xx, yy, Z, cmap=plt.cm.Blues_r)\n",
    "\n",
    "b1 = plt.scatter(X_train[:, 0], X_train[:, 1], c='white')\n",
    "b2 = plt.scatter(X_test[:, 0], X_test[:, 1], c='green')\n",
    "c = plt.scatter(X_outliers[:, 0], X_outliers[:, 1], c='red')\n",
    "plt.axis('tight')\n",
    "plt.xlim((-5, 5))\n",
    "plt.ylim((-5, 5))\n",
    "plt.legend([b1, b2, c],\n",
    "           [\"training observations\",\n",
    "            \"new regular observations\", \"new abnormal observations\"],\n",
    "           loc=\"upper left\")\n",
    "plt.show()"
   ]
  },
  {
   "cell_type": "code",
   "execution_count": 90,
   "metadata": {
    "collapsed": false
   },
   "outputs": [
    {
     "data": {
      "image/png": "[encoded data removed]",
      "text/plain": [
       "<matplotlib.figure.Figure at 0x11364c990>"
      ]
     },
     "metadata": {},
     "output_type": "display_data"
    }
   ],
   "source": [
    "import numpy as np\n",
    "import matplotlib.pyplot as plt\n",
    "from sklearn.ensemble.iforest import IsolationForest\n",
    "\n",
    "rng = np.random.RandomState(42)\n",
    "\n",
    "# Generate train data\n",
    "X = 0.3 * rng.randn(100, 2)\n",
    "X_train = np.r_[X + 2, X - 2]\n",
    "# Generate some regular novel observations\n",
    "X = 0.3 * rng.randn(20, 2)\n",
    "X_test = np.r_[X + 2, X - 2]\n",
    "# Generate some abnormal novel observations\n",
    "X_outliers = rng.uniform(low=-4, high=4, size=(20, 2))\n",
    "\n",
    "# fit the model\n",
    "clf = IsolationForest(max_samples=100, random_state=rng)\n",
    "clf.fit(X_train)\n",
    "y_pred_train = clf.predict(X_train)\n",
    "y_pred_test = clf.predict(X_test)\n",
    "y_pred_outliers = clf.predict(X_outliers)\n",
    "\n",
    "# plot the line, the samples, and the nearest vectors to the plane\n",
    "xx, yy = np.meshgrid(np.linspace(-5, 5, 50), np.linspace(-5, 5, 50))\n",
    "Z = clf.decision_function(np.c_[xx.ravel(), yy.ravel()])\n",
    "Z = Z.reshape(xx.shape)\n",
    "\n",
    "plt.title(\"IsolationForest\")\n",
    "plt.contourf(xx, yy, Z, cmap=plt.cm.Blues_r)\n",
    "\n",
    "b1 = plt.scatter(X_train[:, 0], X_train[:, 1], c='white')\n",
    "b2 = plt.scatter(X_test[:, 0], X_test[:, 1], c='green')\n",
    "c = plt.scatter(X_outliers[:, 0], X_outliers[:, 1], c='red')\n",
    "plt.axis('tight')\n",
    "plt.xlim((-5, 5))\n",
    "plt.ylim((-5, 5))\n",
    "plt.legend([b1, b2, c],\n",
    "           [\"training observations\",\n",
    "            \"new regular observations\", \"new abnormal observations\"],\n",
    "           loc=\"upper left\")\n",
    "plt.show()"
   ]
  },
  {
   "cell_type": "code",
   "execution_count": 95,
   "metadata": {
    "collapsed": false
   },
   "outputs": [],
   "source": [
    "29121"
   ]
  },
  {
   "cell_type": "code",
   "execution_count": 114,
   "metadata": {
    "collapsed": false
   },
   "outputs": [
    {
     "name": "stdout",
     "output_type": "stream",
     "text": [
      "[Row(Timestamp=datetime.datetime(2015, 1, 1, 0, 0), Station=u'1100313', District=u'11', Fwy=u'5', Direction=u'N', Lane_Type=u'FR', Station_Length=None, Lane_1_Samples=10, Lane_1_Flow=100.0, Lane_1_Avg_Occ=16.0, Lane_1_Avg_Speed=None, Lane_1_Observed=None, Lane_2_Samples=10, Lane_2_Flow=16.0, Lane_2_Avg_Occ=None, Lane_2_Avg_Speed=None, Lane_2_Observed=1.0, Lane_3_Samples=None, Lane_3_Flow=None, Lane_3_Avg_Occ=None, Lane_3_Avg_Speed=None, Lane_3_Observed=0.0, Lane_4_Samples=None, Lane_4_Flow=None, Lane_4_Avg_Occ=None, Lane_4_Avg_Speed=None, Lane_4_Observed=0.0, Lane_5_Samples=None, Lane_5_Flow=None, Lane_5_Avg_Occ=None, Lane_5_Avg_Speed=None, Lane_5_Observed=0.0, Lane_6_Samples=None, Lane_6_Flow=None, Lane_6_Avg_Occ=None, Lane_6_Avg_Speed=None, Lane_6_Observed=0.0, Lane_7_Samples=None, Lane_7_Flow=None, Lane_7_Avg_Occ=None, Lane_7_Avg_Speed=None, Lane_7_Observed=0.0, Lane_8_Samples=None, Lane_8_Flow=None, Lane_8_Avg_Occ=None, Lane_8_Avg_Speed=None, Lane_8_Observed=0.0, ts=datetime.datetime(2015, 1, 1, 0, 0), minute=u'0')]\n"
     ]
    }
   ],
   "source": [
    "from pyspark.sql.functions import minute, hour\n",
    "\n",
    "transformed = (data\n",
    "#     .withColumn(\"ts\",\n",
    "#         unix_timestamp(col(\"Timestamp\"), \"MM/dd/yyyy hh:mm:ss\").cast(\"timestamp\"))\n",
    "#     .withColumn(\"day\", dayofmonth(col(\"ts\")).cast(\"string\"))\n",
    "#     .withColumn(\"month\", date_format(col(\"ts\"), \"MMM\"))\n",
    "    .withColumn(\"minute\", minute(data['Timestamp']).cast(\"string\"))\n",
    ")\n",
    "\n",
    "print transformed.take(1)"
   ]
  },
  {
   "cell_type": "code",
   "execution_count": null,
   "metadata": {
    "collapsed": true
   },
   "outputs": [],
   "source": [
    "print transformed.take"
   ]
  },
  {
   "cell_type": "code",
   "execution_count": null,
   "metadata": {
    "collapsed": true
   },
   "outputs": [],
   "source": [
    "# path_to_data = '../../../../cohort2/output/station_5min/2015/d11'\n",
    "# raw_data = sc.textFile(path_to_data + \"*.txt.gz\") \\\n",
    "#     .map(lambda line: line.split(\",\")) \\\n",
    "#     .filter(lambda line: len(line)>1) \\\n",
    "#     .map(lambda line: (line[0],line[1])) \\\n",
    "#     .collect()"
   ]
  },
  {
   "cell_type": "code",
   "execution_count": null,
   "metadata": {
    "collapsed": true
   },
   "outputs": [],
   "source": [
    "# sentences=textRDD.flatMap(lambda x: x.split(\". \")).map(lambda x: x.encode('utf-8'))"
   ]
  }
 ],
 "metadata": {
  "anaconda-cloud": {},
  "kernelspec": {
   "display_name": "Python [default]",
   "language": "python",
   "name": "python2"
  },
  "language_info": {
   "codemirror_mode": {
    "name": "ipython",
    "version": 2
   },
   "file_extension": ".py",
   "mimetype": "text/x-python",
   "name": "python",
   "nbconvert_exporter": "python",
   "pygments_lexer": "ipython2",
   "version": "2.7.12"
  }
 },
 "nbformat": 4,
 "nbformat_minor": 1
}
