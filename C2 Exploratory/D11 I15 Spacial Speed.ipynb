{
 "cells": [
  {
   "cell_type": "code",
   "execution_count": 1,
   "metadata": {
    "collapsed": true
   },
   "outputs": [],
   "source": [
    "%matplotlib inline\n",
    "data_5min_path = \"../station_5min/2015/d11/\"\n",
    "import pandas as pd\n",
    "import numpy as np\n",
    "import gzip\n",
    "import time\n",
    "from bokeh.io import curdoc, vform, output_notebook, push_notebook, output_file, show\n",
    "from bokeh.models import ColumnDataSource, HBox, VBox\n",
    "from bokeh.models.widgets import Slider, Button, DataTable, DateFormatter, TableColumn\n",
    "from bokeh.plotting import Figure,show\n",
    "from bokeh.models.layouts import WidgetBox\n",
    "from bokeh.layouts import row, column\n",
    "from os import listdir\n",
    "from os.path import isfile, join\n",
    "from ipywidgets import interact\n",
    "import datetime as dt"
   ]
  },
  {
   "cell_type": "code",
   "execution_count": 2,
   "metadata": {
    "collapsed": true
   },
   "outputs": [],
   "source": [
    "onlyfiles = [f for f in listdir(data_5min_path) if isfile(join(data_5min_path, f))]"
   ]
  },
  {
   "cell_type": "code",
   "execution_count": 3,
   "metadata": {
    "collapsed": true
   },
   "outputs": [],
   "source": [
    "colnames = ['Timestamp', 'Station', 'District', 'Freeway #', 'Direction', 'Lane Type', 'Station Length', 'Samples', \n",
    "            '% Observed', 'TotalFlow', 'AvgOccupancy', 'AvgSpeed', 'Lane 1 Samples', 'Lane 1 Flow', 'Lane 1 Avg Occ', \n",
    "            'Lane 1 Avg Speed', 'Lane 1 Observed', 'Lane 2 Samples', 'Lane 2 Flow', 'Lane 2 Avg Occ', \n",
    "            'Lane 2 Avg Speed', 'Lane 2 Observed', 'Lane 3 Samples', 'Lane 3 Flow', 'Lane 3 Avg Occ', \n",
    "            'Lane 3 Avg Speed', 'Lane 3 Observed', 'Lane 4 Samples', 'Lane 4 Flow', 'Lane 4 Avg Occ', \n",
    "            'Lane 4 Avg Speed', 'Lane 4 Observed', 'Lane 5 Samples', 'Lane 5 Flow', 'Lane 5 Avg Occ', \n",
    "            'Lane 5 Avg Speed', 'Lane 5 Observed', 'Lane 6 Samples', 'Lane 6 Flow', 'Lane 6 Avg Occ', \n",
    "            'Lane 6 Avg Speed', 'Lane 6 Observed', 'Lane 7 Samples', 'Lane 7 Flow', 'Lane 7 Avg Occ', \n",
    "            'Lane 7 Avg Speed', 'Lane 7 Observed', 'Lane 8 Samples', 'Lane 8 Flow', 'Lane 8 Avg Occ', \n",
    "            'Lane 8 Avg Speed', 'Lane 8 Observed']"
   ]
  },
  {
   "cell_type": "markdown",
   "metadata": {},
   "source": [
    "### Get Meta Data into DF"
   ]
  },
  {
   "cell_type": "code",
   "execution_count": 4,
   "metadata": {
    "collapsed": true
   },
   "outputs": [],
   "source": [
    "meta_path = \"../station_5min/2015/meta_data/d11/\"\n",
    "meta_files = [f for f in listdir(meta_path) if isfile(join(meta_path, f))]\n",
    "meta_data = pd.read_table(meta_path+meta_files[0])  # metafiles[0]"
   ]
  },
  {
   "cell_type": "markdown",
   "metadata": {},
   "source": [
    "### Combine all files into big_df"
   ]
  },
  {
   "cell_type": "code",
   "execution_count": 7,
   "metadata": {
    "collapsed": false
   },
   "outputs": [
    {
     "name": "stdout",
     "output_type": "stream",
     "text": [
      "0 2.23941993713\n",
      "1 2.25090003014\n",
      "2 2.28697896004\n",
      "3 2.24717879295\n",
      "4 2.28673696518\n",
      "5 2.16076183319\n",
      "6 2.19041705132\n",
      "7 2.30132508278\n",
      "8 2.28615307808\n",
      "9 2.29717111588\n",
      "10 2.20239210129\n",
      "11 2.28300094604\n",
      "12 2.24759793282\n",
      "13 2.31274580956\n",
      "14 2.22716403008\n",
      "15 2.20623111725\n",
      "16 2.17238092422\n",
      "17 2.1325109005\n",
      "18 2.16779398918\n",
      "19 2.27893400192\n",
      "20 2.21576309204\n",
      "21 2.18940901756\n",
      "22 2.23531699181\n",
      "23 2.24864315987\n",
      "24 2.15287017822\n",
      "25 2.26993894577\n",
      "26 2.21131396294\n",
      "27 2.18698811531\n",
      "28 2.134319067\n",
      "29 2.24546599388\n",
      "30 2.18769311905\n"
     ]
    }
   ],
   "source": [
    "df_list = []\n",
    "for i, filename in enumerate(onlyfiles):\n",
    "    t1 = time.time()\n",
    "    with gzip.open(data_5min_path+filename, 'rb') as f:\n",
    "        file_content = pd.read_csv(f,header=None,names=colnames)\n",
    "        df_list.append(file_content)\n",
    "    t2 = time.time()\n",
    "    print i, t2-t1\n",
    "    if i == 30:\n",
    "        break"
   ]
  },
  {
   "cell_type": "code",
   "execution_count": 8,
   "metadata": {
    "collapsed": true
   },
   "outputs": [],
   "source": [
    "big_df = pd.concat(df_list)"
   ]
  },
  {
   "cell_type": "code",
   "execution_count": 9,
   "metadata": {
    "collapsed": true
   },
   "outputs": [],
   "source": [
    "df_list = None #clear memory space"
   ]
  },
  {
   "cell_type": "markdown",
   "metadata": {},
   "source": [
    "### Filter and create small_df focusedon Main Line, I-15, Southbound traffic"
   ]
  },
  {
   "cell_type": "code",
   "execution_count": 10,
   "metadata": {
    "collapsed": false
   },
   "outputs": [],
   "source": [
    "small_df = big_df.ix[(big_df['Freeway #'] == 15) & (big_df['Direction'] == 'S') & (big_df['Lane Type'] == 'ML'),:]\n",
    "small_df = small_df[['Timestamp', 'Station', 'District', 'Freeway #', 'Direction', 'Lane Type', 'Station Length', \n",
    "                     'Samples', '% Observed', 'TotalFlow', 'AvgOccupancy', 'AvgSpeed']]\n",
    "meta_data = meta_data[['ID','Latitude','Longitude']]\n",
    "meta_data.columns = ['Station','Latitude','Longitude']\n",
    "small_df = small_df.merge(meta_data)\n",
    "\n",
    "# Creates an index for each station from N to S.  Index 0 is the northernmost station.  Index N is the southernmost.\n",
    "station_index = small_df[['Station','Latitude']].drop_duplicates().sort_values('Latitude',ascending=False)\\\n",
    "    .reset_index(drop=True).reset_index()\n",
    "    \n",
    "small_df = small_df.merge(station_index)\n",
    "small_df['Timestamp'] = pd.to_datetime(small_df['Timestamp'])\n",
    "small_df['Time'] = small_df['Timestamp'].apply(lambda x:x.time())\n",
    "small_df['Date'] = small_df['Timestamp'].apply(lambda x:x.date())"
   ]
  },
  {
   "cell_type": "markdown",
   "metadata": {},
   "source": [
    "### Fucntions for Plot"
   ]
  },
  {
   "cell_type": "code",
   "execution_count": 11,
   "metadata": {
    "collapsed": true
   },
   "outputs": [],
   "source": [
    "def scale_time(i):\n",
    "    base_time = dt.time(0,0,0)\n",
    "    delta = dt.timedelta(minutes=i*5)\n",
    "    my_time = (dt.datetime.combine(dt.date(1,1,1),base_time) + delta).time()\n",
    "    return my_time\n",
    "\n",
    "def get_day_of_week(date_value):\n",
    "    day_list = ['Monday','Tuesday','Wednesday','Thursday','Friday','Saturday','Sunday']\n",
    "    day_number = date_value.weekday()\n",
    "    return day_list[day_number]"
   ]
  },
  {
   "cell_type": "markdown",
   "metadata": {},
   "source": [
    "### Bokeh Plot"
   ]
  },
  {
   "cell_type": "code",
   "execution_count": 12,
   "metadata": {
    "collapsed": false
   },
   "outputs": [
    {
     "data": {
      "text/html": [
       "\n",
       "    <div class=\"bk-root\">\n",
       "        <a href=\"http://bokeh.pydata.org\" target=\"_blank\" class=\"bk-logo bk-logo-small bk-logo-notebook\"></a>\n",
       "        <span id=\"f4ea8640-20d1-41e0-aed2-8c3d50310107\">Loading BokehJS ...</span>\n",
       "    </div>"
      ]
     },
     "metadata": {},
     "output_type": "display_data"
    },
    {
     "data": {
      "application/javascript": [
       "\n",
       "(function(global) {\n",
       "  function now() {\n",
       "    return new Date();\n",
       "  }\n",
       "\n",
       "  var force = true;\n",
       "\n",
       "  if (typeof (window._bokeh_onload_callbacks) === \"undefined\" || force === true) {\n",
       "    window._bokeh_onload_callbacks = [];\n",
       "    window._bokeh_is_loading = undefined;\n",
       "  }\n",
       "\n",
       "\n",
       "  \n",
       "  if (typeof (window._bokeh_timeout) === \"undefined\" || force === true) {\n",
       "    window._bokeh_timeout = Date.now() + 5000;\n",
       "    window._bokeh_failed_load = false;\n",
       "  }\n",
       "\n",
       "  var NB_LOAD_WARNING = {'data': {'text/html':\n",
       "     \"<div style='background-color: #fdd'>\\n\"+\n",
       "     \"<p>\\n\"+\n",
       "     \"BokehJS does not appear to have successfully loaded. If loading BokehJS from CDN, this \\n\"+\n",
       "     \"may be due to a slow or bad network connection. Possible fixes:\\n\"+\n",
       "     \"</p>\\n\"+\n",
       "     \"<ul>\\n\"+\n",
       "     \"<li>re-rerun `output_notebook()` to attempt to load from CDN again, or</li>\\n\"+\n",
       "     \"<li>use INLINE resources instead, as so:</li>\\n\"+\n",
       "     \"</ul>\\n\"+\n",
       "     \"<code>\\n\"+\n",
       "     \"from bokeh.resources import INLINE\\n\"+\n",
       "     \"output_notebook(resources=INLINE)\\n\"+\n",
       "     \"</code>\\n\"+\n",
       "     \"</div>\"}};\n",
       "\n",
       "  function display_loaded() {\n",
       "    if (window.Bokeh !== undefined) {\n",
       "      document.getElementById(\"f4ea8640-20d1-41e0-aed2-8c3d50310107\").textContent = \"BokehJS successfully loaded.\";\n",
       "    } else if (Date.now() < window._bokeh_timeout) {\n",
       "      setTimeout(display_loaded, 100)\n",
       "    }\n",
       "  }\n",
       "\n",
       "  function run_callbacks() {\n",
       "    window._bokeh_onload_callbacks.forEach(function(callback) { callback() });\n",
       "    delete window._bokeh_onload_callbacks\n",
       "    console.info(\"Bokeh: all callbacks have finished\");\n",
       "  }\n",
       "\n",
       "  function load_libs(js_urls, callback) {\n",
       "    window._bokeh_onload_callbacks.push(callback);\n",
       "    if (window._bokeh_is_loading > 0) {\n",
       "      console.log(\"Bokeh: BokehJS is being loaded, scheduling callback at\", now());\n",
       "      return null;\n",
       "    }\n",
       "    if (js_urls == null || js_urls.length === 0) {\n",
       "      run_callbacks();\n",
       "      return null;\n",
       "    }\n",
       "    console.log(\"Bokeh: BokehJS not loaded, scheduling load and callback at\", now());\n",
       "    window._bokeh_is_loading = js_urls.length;\n",
       "    for (var i = 0; i < js_urls.length; i++) {\n",
       "      var url = js_urls[i];\n",
       "      var s = document.createElement('script');\n",
       "      s.src = url;\n",
       "      s.async = false;\n",
       "      s.onreadystatechange = s.onload = function() {\n",
       "        window._bokeh_is_loading--;\n",
       "        if (window._bokeh_is_loading === 0) {\n",
       "          console.log(\"Bokeh: all BokehJS libraries loaded\");\n",
       "          run_callbacks()\n",
       "        }\n",
       "      };\n",
       "      s.onerror = function() {\n",
       "        console.warn(\"failed to load library \" + url);\n",
       "      };\n",
       "      console.log(\"Bokeh: injecting script tag for BokehJS library: \", url);\n",
       "      document.getElementsByTagName(\"head\")[0].appendChild(s);\n",
       "    }\n",
       "  };var element = document.getElementById(\"f4ea8640-20d1-41e0-aed2-8c3d50310107\");\n",
       "  if (element == null) {\n",
       "    console.log(\"Bokeh: ERROR: autoload.js configured with elementid 'f4ea8640-20d1-41e0-aed2-8c3d50310107' but no matching script tag was found. \")\n",
       "    return false;\n",
       "  }\n",
       "\n",
       "  var js_urls = [\"https://cdn.pydata.org/bokeh/release/bokeh-0.12.4.min.js\", \"https://cdn.pydata.org/bokeh/release/bokeh-widgets-0.12.4.min.js\"];\n",
       "\n",
       "  var inline_js = [\n",
       "    function(Bokeh) {\n",
       "      Bokeh.set_log_level(\"info\");\n",
       "    },\n",
       "    \n",
       "    function(Bokeh) {\n",
       "      \n",
       "      document.getElementById(\"f4ea8640-20d1-41e0-aed2-8c3d50310107\").textContent = \"BokehJS is loading...\";\n",
       "    },\n",
       "    function(Bokeh) {\n",
       "      console.log(\"Bokeh: injecting CSS: https://cdn.pydata.org/bokeh/release/bokeh-0.12.4.min.css\");\n",
       "      Bokeh.embed.inject_css(\"https://cdn.pydata.org/bokeh/release/bokeh-0.12.4.min.css\");\n",
       "      console.log(\"Bokeh: injecting CSS: https://cdn.pydata.org/bokeh/release/bokeh-widgets-0.12.4.min.css\");\n",
       "      Bokeh.embed.inject_css(\"https://cdn.pydata.org/bokeh/release/bokeh-widgets-0.12.4.min.css\");\n",
       "    }\n",
       "  ];\n",
       "\n",
       "  function run_inline_js() {\n",
       "    \n",
       "    if ((window.Bokeh !== undefined) || (force === true)) {\n",
       "      for (var i = 0; i < inline_js.length; i++) {\n",
       "        inline_js[i](window.Bokeh);\n",
       "      }if (force === true) {\n",
       "        display_loaded();\n",
       "      }} else if (Date.now() < window._bokeh_timeout) {\n",
       "      setTimeout(run_inline_js, 100);\n",
       "    } else if (!window._bokeh_failed_load) {\n",
       "      console.log(\"Bokeh: BokehJS failed to load within specified timeout.\");\n",
       "      window._bokeh_failed_load = true;\n",
       "    } else if (force !== true) {\n",
       "      var cell = $(document.getElementById(\"f4ea8640-20d1-41e0-aed2-8c3d50310107\")).parents('.cell').data().cell;\n",
       "      cell.output_area.append_execute_result(NB_LOAD_WARNING)\n",
       "    }\n",
       "\n",
       "  }\n",
       "\n",
       "  if (window._bokeh_is_loading === 0) {\n",
       "    console.log(\"Bokeh: BokehJS loaded, going straight to plotting\");\n",
       "    run_inline_js();\n",
       "  } else {\n",
       "    load_libs(js_urls, function() {\n",
       "      console.log(\"Bokeh: BokehJS plotting callback run at\", now());\n",
       "      run_inline_js();\n",
       "    });\n",
       "  }\n",
       "}(this));"
      ]
     },
     "metadata": {},
     "output_type": "display_data"
    },
    {
     "data": {
      "text/html": [
       "\n",
       "\n",
       "    <div class=\"bk-root\">\n",
       "        <div class=\"bk-plotdiv\" id=\"fe9fd678-db90-403d-b965-2a2bd8224023\"></div>\n",
       "    </div>\n",
       "<script type=\"text/javascript\">\n",
       "  \n",
       "  (function(global) {\n",
       "    function now() {\n",
       "      return new Date();\n",
       "    }\n",
       "  \n",
       "    var force = false;\n",
       "  \n",
       "    if (typeof (window._bokeh_onload_callbacks) === \"undefined\" || force === true) {\n",
       "      window._bokeh_onload_callbacks = [];\n",
       "      window._bokeh_is_loading = undefined;\n",
       "    }\n",
       "  \n",
       "  \n",
       "    \n",
       "    if (typeof (window._bokeh_timeout) === \"undefined\" || force === true) {\n",
       "      window._bokeh_timeout = Date.now() + 0;\n",
       "      window._bokeh_failed_load = false;\n",
       "    }\n",
       "  \n",
       "    var NB_LOAD_WARNING = {'data': {'text/html':\n",
       "       \"<div style='background-color: #fdd'>\\n\"+\n",
       "       \"<p>\\n\"+\n",
       "       \"BokehJS does not appear to have successfully loaded. If loading BokehJS from CDN, this \\n\"+\n",
       "       \"may be due to a slow or bad network connection. Possible fixes:\\n\"+\n",
       "       \"</p>\\n\"+\n",
       "       \"<ul>\\n\"+\n",
       "       \"<li>re-rerun `output_notebook()` to attempt to load from CDN again, or</li>\\n\"+\n",
       "       \"<li>use INLINE resources instead, as so:</li>\\n\"+\n",
       "       \"</ul>\\n\"+\n",
       "       \"<code>\\n\"+\n",
       "       \"from bokeh.resources import INLINE\\n\"+\n",
       "       \"output_notebook(resources=INLINE)\\n\"+\n",
       "       \"</code>\\n\"+\n",
       "       \"</div>\"}};\n",
       "  \n",
       "    function display_loaded() {\n",
       "      if (window.Bokeh !== undefined) {\n",
       "        document.getElementById(\"fe9fd678-db90-403d-b965-2a2bd8224023\").textContent = \"BokehJS successfully loaded.\";\n",
       "      } else if (Date.now() < window._bokeh_timeout) {\n",
       "        setTimeout(display_loaded, 100)\n",
       "      }\n",
       "    }if ((window.Jupyter !== undefined) && Jupyter.notebook.kernel) {\n",
       "      comm_manager = Jupyter.notebook.kernel.comm_manager\n",
       "      comm_manager.register_target(\"8f35d84a-2fd9-4a51-b888-e62dea154f48\", function () {});\n",
       "    }\n",
       "  \n",
       "    function run_callbacks() {\n",
       "      window._bokeh_onload_callbacks.forEach(function(callback) { callback() });\n",
       "      delete window._bokeh_onload_callbacks\n",
       "      console.info(\"Bokeh: all callbacks have finished\");\n",
       "    }\n",
       "  \n",
       "    function load_libs(js_urls, callback) {\n",
       "      window._bokeh_onload_callbacks.push(callback);\n",
       "      if (window._bokeh_is_loading > 0) {\n",
       "        console.log(\"Bokeh: BokehJS is being loaded, scheduling callback at\", now());\n",
       "        return null;\n",
       "      }\n",
       "      if (js_urls == null || js_urls.length === 0) {\n",
       "        run_callbacks();\n",
       "        return null;\n",
       "      }\n",
       "      console.log(\"Bokeh: BokehJS not loaded, scheduling load and callback at\", now());\n",
       "      window._bokeh_is_loading = js_urls.length;\n",
       "      for (var i = 0; i < js_urls.length; i++) {\n",
       "        var url = js_urls[i];\n",
       "        var s = document.createElement('script');\n",
       "        s.src = url;\n",
       "        s.async = false;\n",
       "        s.onreadystatechange = s.onload = function() {\n",
       "          window._bokeh_is_loading--;\n",
       "          if (window._bokeh_is_loading === 0) {\n",
       "            console.log(\"Bokeh: all BokehJS libraries loaded\");\n",
       "            run_callbacks()\n",
       "          }\n",
       "        };\n",
       "        s.onerror = function() {\n",
       "          console.warn(\"failed to load library \" + url);\n",
       "        };\n",
       "        console.log(\"Bokeh: injecting script tag for BokehJS library: \", url);\n",
       "        document.getElementsByTagName(\"head\")[0].appendChild(s);\n",
       "      }\n",
       "    };var element = document.getElementById(\"fe9fd678-db90-403d-b965-2a2bd8224023\");\n",
       "    if (element == null) {\n",
       "      console.log(\"Bokeh: ERROR: autoload.js configured with elementid 'fe9fd678-db90-403d-b965-2a2bd8224023' but no matching script tag was found. \")\n",
       "      return false;\n",
       "    }\n",
       "  \n",
       "    var js_urls = [];\n",
       "  \n",
       "    var inline_js = [\n",
       "      function(Bokeh) {\n",
       "        (function() {\n",
       "          var fn = function() {\n",
       "            var docs_json = {\"0e317cfa-4a7c-4775-abd7-e63c6f518ad8\":{\"roots\":{\"references\":[{\"attributes\":{},\"id\":\"69a733d1-10b9-41b6-9fb9-0b2dd2aefce4\",\"type\":\"ToolEvents\"},{\"attributes\":{\"editor\":{\"id\":\"59aca1e1-059b-4981-9ce2-3a6321fa9323\",\"type\":\"StringEditor\"},\"field\":\"dates\",\"formatter\":{\"id\":\"a2a607df-0018-42af-b314-b5466f653061\",\"type\":\"DateFormatter\"},\"title\":\"Date\"},\"id\":\"b69ecfc8-b274-4e86-823a-18382a4d4803\",\"type\":\"TableColumn\"},{\"attributes\":{},\"id\":\"94d706e7-2ae7-4743-9bc8-b5ae8e3d4c50\",\"type\":\"BasicTicker\"},{\"attributes\":{\"fill_alpha\":{\"value\":0.1},\"fill_color\":{\"value\":\"#1f77b4\"},\"line_alpha\":{\"value\":0.1},\"line_color\":{\"value\":\"#1f77b4\"},\"x\":{\"field\":\"x\"},\"y\":{\"field\":\"y\"}},\"id\":\"289f2075-9b1c-4b84-96be-315241904e09\",\"type\":\"Circle\"},{\"attributes\":{\"plot\":null,\"text\":\"Eigenvector Analysis\"},\"id\":\"38663d09-770b-482b-8efb-5d0f4c7ad57c\",\"type\":\"Title\"},{\"attributes\":{\"below\":[{\"id\":\"ae0b0d71-951e-4574-ac28-53d21311ddca\",\"type\":\"LinearAxis\"}],\"left\":[{\"id\":\"2c62bf5a-8a84-4d34-9cdb-49126d75a0cc\",\"type\":\"LinearAxis\"}],\"plot_width\":900,\"renderers\":[{\"id\":\"ae0b0d71-951e-4574-ac28-53d21311ddca\",\"type\":\"LinearAxis\"},{\"id\":\"b5fd326e-b8e2-46a1-a1ae-01d10b6ed3fb\",\"type\":\"Grid\"},{\"id\":\"2c62bf5a-8a84-4d34-9cdb-49126d75a0cc\",\"type\":\"LinearAxis\"},{\"id\":\"f244f2d5-b224-4ad3-b370-4ce092448d55\",\"type\":\"Grid\"},{\"id\":\"48ea32d1-acf2-4e4e-976f-dfdd98d46e62\",\"type\":\"GlyphRenderer\"}],\"title\":{\"id\":\"38663d09-770b-482b-8efb-5d0f4c7ad57c\",\"type\":\"Title\"},\"tool_events\":{\"id\":\"69a733d1-10b9-41b6-9fb9-0b2dd2aefce4\",\"type\":\"ToolEvents\"},\"toolbar\":{\"id\":\"1f2458a1-d888-4bf9-97c9-7283578916e9\",\"type\":\"Toolbar\"},\"x_range\":{\"id\":\"bb21732c-b5d1-464d-9d05-e0bbfcca182e\",\"type\":\"Range1d\"},\"y_range\":{\"id\":\"1c3dbef5-8f72-46dc-9919-e89065d8b328\",\"type\":\"Range1d\"}},\"id\":\"d9c55308-9ab4-4650-9ea6-286ff3ad88a2\",\"subtype\":\"Figure\",\"type\":\"Plot\"},{\"attributes\":{\"active_drag\":\"auto\",\"active_scroll\":\"auto\",\"active_tap\":\"auto\"},\"id\":\"1f2458a1-d888-4bf9-97c9-7283578916e9\",\"type\":\"Toolbar\"},{\"attributes\":{\"plot\":{\"id\":\"d9c55308-9ab4-4650-9ea6-286ff3ad88a2\",\"subtype\":\"Figure\",\"type\":\"Plot\"},\"ticker\":{\"id\":\"94d706e7-2ae7-4743-9bc8-b5ae8e3d4c50\",\"type\":\"BasicTicker\"}},\"id\":\"b5fd326e-b8e2-46a1-a1ae-01d10b6ed3fb\",\"type\":\"Grid\"},{\"attributes\":{\"columns\":[{\"id\":\"b69ecfc8-b274-4e86-823a-18382a4d4803\",\"type\":\"TableColumn\"},{\"id\":\"e7dfeec7-696e-4ac4-9ebb-e68708efdd38\",\"type\":\"TableColumn\"},{\"id\":\"6e98b597-3844-4a0e-af5e-e79d08d0c587\",\"type\":\"TableColumn\"},{\"id\":\"a1bcc2be-8a1f-4851-8ae4-fab116a196ff\",\"type\":\"TableColumn\"}],\"height\":50,\"source\":{\"id\":\"dedccae1-d9eb-4a2c-b759-392e81dc0bf4\",\"type\":\"ColumnDataSource\"},\"width\":600},\"id\":\"89d26ffa-f3de-424c-8834-e4ebf233811e\",\"type\":\"DataTable\"},{\"attributes\":{},\"id\":\"5110cab9-e1e8-4c25-a63e-9cd93584420b\",\"type\":\"StringEditor\"},{\"attributes\":{\"editor\":{\"id\":\"5110cab9-e1e8-4c25-a63e-9cd93584420b\",\"type\":\"StringEditor\"},\"field\":\"day_of_week\",\"formatter\":{\"id\":\"143a05d0-af9d-4ba2-97ad-0d058b60e110\",\"type\":\"StringFormatter\"},\"title\":\"Day\"},\"id\":\"a1bcc2be-8a1f-4851-8ae4-fab116a196ff\",\"type\":\"TableColumn\"},{\"attributes\":{\"data_source\":{\"id\":\"c180687c-44e3-4198-a253-6ecca238f822\",\"type\":\"ColumnDataSource\"},\"glyph\":{\"id\":\"948e821c-b499-420b-9655-bb44b55e9081\",\"type\":\"Circle\"},\"hover_glyph\":null,\"nonselection_glyph\":{\"id\":\"289f2075-9b1c-4b84-96be-315241904e09\",\"type\":\"Circle\"},\"selection_glyph\":null},\"id\":\"48ea32d1-acf2-4e4e-976f-dfdd98d46e62\",\"type\":\"GlyphRenderer\"},{\"attributes\":{\"children\":[{\"id\":\"89d26ffa-f3de-424c-8834-e4ebf233811e\",\"type\":\"DataTable\"}],\"height\":50,\"width\":600},\"id\":\"ee89aa0d-78c4-4989-a1c8-45f973cbe281\",\"type\":\"WidgetBox\"},{\"attributes\":{},\"id\":\"3545e0ec-5f07-4cb9-b79f-b989d50fe87f\",\"type\":\"StringEditor\"},{\"attributes\":{},\"id\":\"a2a607df-0018-42af-b314-b5466f653061\",\"type\":\"DateFormatter\"},{\"attributes\":{\"dimension\":1,\"plot\":{\"id\":\"d9c55308-9ab4-4650-9ea6-286ff3ad88a2\",\"subtype\":\"Figure\",\"type\":\"Plot\"},\"ticker\":{\"id\":\"25a4452b-1ef1-4779-b9aa-a3bacefcc4bb\",\"type\":\"BasicTicker\"}},\"id\":\"f244f2d5-b224-4ad3-b370-4ce092448d55\",\"type\":\"Grid\"},{\"attributes\":{},\"id\":\"25a4452b-1ef1-4779-b9aa-a3bacefcc4bb\",\"type\":\"BasicTicker\"},{\"attributes\":{},\"id\":\"03bbabc9-6e50-4641-8273-d0ca6d7e9e57\",\"type\":\"BasicTickFormatter\"},{\"attributes\":{},\"id\":\"143a05d0-af9d-4ba2-97ad-0d058b60e110\",\"type\":\"StringFormatter\"},{\"attributes\":{\"callback\":null,\"end\":66},\"id\":\"bb21732c-b5d1-464d-9d05-e0bbfcca182e\",\"type\":\"Range1d\"},{\"attributes\":{\"callback\":null,\"column_names\":[\"y\",\"x\"],\"data\":{\"x\":[37,25,28,30,33,50,32,35,38,12,24,46,48,53,22,18,16,14,7,9,10,41,52,59,58,57,60,5,55,51,49,47,45,44,43,40,34,42,64,54,62,66,65,6,4,21,23,15,56,20,17,19,3,2,1,0,39,36,31,63,29,26,27,61,8,13,11],\"y\":{\"__ndarray__\":\"zczMzMxMUUCamZmZmdlRQDMzMzMzs1FAZmZmZmbGUUAAAAAAAKBRQDMzMzMz01BAMzMzMzPTUEAzMzMzM7NRQAAAAAAAYFFAmpmZmZmZUEBmZmZmZsZRQDMzMzMzc1FAzczMzMwMUUAzMzMzM7NRQDMzMzMz81FAZmZmZmbmUUBmZmZmZiZRQAAAAAAAAFFAzczMzMzMUEAzMzMzM3NRQGZmZmZmxlBAZmZmZmaGUUDNzMzMzMxQQM3MzMzMLFFAAAAAAAAAUUDNzMzMzKxRQJqZmZmZOVJAZmZmZmbmUEDNzMzMzIxQQAAAAAAAAFJAAAAAAAAAUkCamZmZmRlSQM3MzMzMjFFAZmZmZmbmUEAAAAAAACBTQJqZmZmZmVFAzczMzMyMUUDNzMzMzGxRQJqZmZmZeVBAMzMzMzOTUUCamZmZmRlRQDMzMzMzE1FAZmZmZmbGUEAzMzMzM/NQQAAAAAAAAFFAAAAAAADAUUBmZmZmZsZRQDMzMzMz01FAMzMzMzPzUEAzMzMzM7NRQM3MzMzMzFFAzczMzMzMUUAzMzMzM1NRQAAAAAAAIFBAAAAAAABAUUDNzMzMzOxQQM3MzMzMjFFAmpmZmZl5UUAAAAAAAABSQJqZmZmZmVBAZmZmZmamUUBmZmZmZgZRQDMzMzMz81FAZmZmZmbGUEAAAAAAAIBQQDMzMzMzU1FAAAAAAADAUUA=\",\"dtype\":\"float64\",\"shape\":[67]}}},\"id\":\"c180687c-44e3-4198-a253-6ecca238f822\",\"type\":\"ColumnDataSource\"},{\"attributes\":{\"editor\":{\"id\":\"d98645cf-21c6-4403-abc0-55ffd30d49ff\",\"type\":\"StringEditor\"},\"field\":\"minute\",\"formatter\":{\"id\":\"a40b5ff9-6c7a-459c-92d7-158f386f1529\",\"type\":\"StringFormatter\"},\"title\":\"Minute\"},\"id\":\"6e98b597-3844-4a0e-af5e-e79d08d0c587\",\"type\":\"TableColumn\"},{\"attributes\":{\"children\":[{\"id\":\"d9c55308-9ab4-4650-9ea6-286ff3ad88a2\",\"subtype\":\"Figure\",\"type\":\"Plot\"},{\"id\":\"ee89aa0d-78c4-4989-a1c8-45f973cbe281\",\"type\":\"WidgetBox\"}]},\"id\":\"67a34800-47e0-4629-aa3b-f7042e5f0236\",\"type\":\"Column\"},{\"attributes\":{},\"id\":\"a40b5ff9-6c7a-459c-92d7-158f386f1529\",\"type\":\"StringFormatter\"},{\"attributes\":{\"axis_label\":\"AvgSpeed\",\"formatter\":{\"id\":\"03bbabc9-6e50-4641-8273-d0ca6d7e9e57\",\"type\":\"BasicTickFormatter\"},\"plot\":{\"id\":\"d9c55308-9ab4-4650-9ea6-286ff3ad88a2\",\"subtype\":\"Figure\",\"type\":\"Plot\"},\"ticker\":{\"id\":\"25a4452b-1ef1-4779-b9aa-a3bacefcc4bb\",\"type\":\"BasicTicker\"}},\"id\":\"2c62bf5a-8a84-4d34-9cdb-49126d75a0cc\",\"type\":\"LinearAxis\"},{\"attributes\":{},\"id\":\"20b6819b-a412-4f0f-8f1a-119514350643\",\"type\":\"StringFormatter\"},{\"attributes\":{},\"id\":\"59aca1e1-059b-4981-9ce2-3a6321fa9323\",\"type\":\"StringEditor\"},{\"attributes\":{\"fill_color\":{\"value\":\"#1f77b4\"},\"line_color\":{\"value\":\"#1f77b4\"},\"x\":{\"field\":\"x\"},\"y\":{\"field\":\"y\"}},\"id\":\"948e821c-b499-420b-9655-bb44b55e9081\",\"type\":\"Circle\"},{\"attributes\":{},\"id\":\"7a825a73-438e-4af6-af47-8c4997bf65cb\",\"type\":\"BasicTickFormatter\"},{\"attributes\":{\"callback\":null,\"column_names\":[\"dates\",\"day_of_week\",\"minute\",\"hour\"],\"data\":{\"dates\":[1420099200000.0],\"day_of_week\":[\"Thursday\"],\"hour\":[0],\"minute\":[0]}},\"id\":\"dedccae1-d9eb-4a2c-b759-392e81dc0bf4\",\"type\":\"ColumnDataSource\"},{\"attributes\":{\"axis_label\":\"Stations\",\"formatter\":{\"id\":\"7a825a73-438e-4af6-af47-8c4997bf65cb\",\"type\":\"BasicTickFormatter\"},\"plot\":{\"id\":\"d9c55308-9ab4-4650-9ea6-286ff3ad88a2\",\"subtype\":\"Figure\",\"type\":\"Plot\"},\"ticker\":{\"id\":\"94d706e7-2ae7-4743-9bc8-b5ae8e3d4c50\",\"type\":\"BasicTicker\"}},\"id\":\"ae0b0d71-951e-4574-ac28-53d21311ddca\",\"type\":\"LinearAxis\"},{\"attributes\":{\"editor\":{\"id\":\"3545e0ec-5f07-4cb9-b79f-b989d50fe87f\",\"type\":\"StringEditor\"},\"field\":\"hour\",\"formatter\":{\"id\":\"20b6819b-a412-4f0f-8f1a-119514350643\",\"type\":\"StringFormatter\"},\"title\":\"Hour\"},\"id\":\"e7dfeec7-696e-4ac4-9ebb-e68708efdd38\",\"type\":\"TableColumn\"},{\"attributes\":{\"callback\":null,\"end\":86.5},\"id\":\"1c3dbef5-8f72-46dc-9919-e89065d8b328\",\"type\":\"Range1d\"},{\"attributes\":{},\"id\":\"d98645cf-21c6-4403-abc0-55ffd30d49ff\",\"type\":\"StringEditor\"}],\"root_ids\":[\"67a34800-47e0-4629-aa3b-f7042e5f0236\"]},\"title\":\"Bokeh Application\",\"version\":\"0.12.4\"}};\n",
       "            var render_items = [{\"docid\":\"0e317cfa-4a7c-4775-abd7-e63c6f518ad8\",\"elementid\":\"fe9fd678-db90-403d-b965-2a2bd8224023\",\"modelid\":\"67a34800-47e0-4629-aa3b-f7042e5f0236\",\"notebook_comms_target\":\"8f35d84a-2fd9-4a51-b888-e62dea154f48\"}];\n",
       "            \n",
       "            Bokeh.embed.embed_items(docs_json, render_items);\n",
       "          };\n",
       "          if (document.readyState != \"loading\") fn();\n",
       "          else document.addEventListener(\"DOMContentLoaded\", fn);\n",
       "        })();\n",
       "      },\n",
       "      function(Bokeh) {\n",
       "      }\n",
       "    ];\n",
       "  \n",
       "    function run_inline_js() {\n",
       "      \n",
       "      if ((window.Bokeh !== undefined) || (force === true)) {\n",
       "        for (var i = 0; i < inline_js.length; i++) {\n",
       "          inline_js[i](window.Bokeh);\n",
       "        }if (force === true) {\n",
       "          display_loaded();\n",
       "        }} else if (Date.now() < window._bokeh_timeout) {\n",
       "        setTimeout(run_inline_js, 100);\n",
       "      } else if (!window._bokeh_failed_load) {\n",
       "        console.log(\"Bokeh: BokehJS failed to load within specified timeout.\");\n",
       "        window._bokeh_failed_load = true;\n",
       "      } else if (force !== true) {\n",
       "        var cell = $(document.getElementById(\"fe9fd678-db90-403d-b965-2a2bd8224023\")).parents('.cell').data().cell;\n",
       "        cell.output_area.append_execute_result(NB_LOAD_WARNING)\n",
       "      }\n",
       "  \n",
       "    }\n",
       "  \n",
       "    if (window._bokeh_is_loading === 0) {\n",
       "      console.log(\"Bokeh: BokehJS loaded, going straight to plotting\");\n",
       "      run_inline_js();\n",
       "    } else {\n",
       "      load_libs(js_urls, function() {\n",
       "        console.log(\"Bokeh: BokehJS plotting callback run at\", now());\n",
       "        run_inline_js();\n",
       "      });\n",
       "    }\n",
       "  }(this));\n",
       "</script>"
      ]
     },
     "metadata": {},
     "output_type": "display_data"
    },
    {
     "data": {
      "text/html": [
       "<p><code>&lt;Bokeh Notebook handle for <strong>In[12]</strong>&gt;</code></p>"
      ],
      "text/plain": [
       "<bokeh.io._CommsHandle at 0x11a5ae210>"
      ]
     },
     "execution_count": 12,
     "metadata": {},
     "output_type": "execute_result"
    }
   ],
   "source": [
    "output_notebook()\n",
    "date_value = dt.date(2015,1,1)\n",
    "time_value = dt.time(0,0,0)\n",
    "# Set up data\n",
    "x = small_df.ix[(small_df['Date'] == date_value) & (small_df['Time'] == time_value),'index']\n",
    "y = small_df.ix[(small_df['Date'] == date_value) & (small_df['Time'] == time_value),'AvgSpeed']\n",
    "source = ColumnDataSource(data=dict(x=x, y=y))\n",
    "\n",
    "# Set up plot\n",
    "plot = Figure(plot_height=600, plot_width=900, title=\"Eigenvector Analysis\",\n",
    "              tools=\"\",\n",
    "              x_range=[0, max(x)], y_range=[0, max(y)+10], x_axis_label='Stations', y_axis_label='AvgSpeed')\n",
    "plot.scatter('x', 'y', source=source)\n",
    "\n",
    "# Set up table\n",
    "data_table = dict(\n",
    "        dates=[date_value],\n",
    "        hour=[time_value.hour],\n",
    "        minute=[time_value.minute],\n",
    "        day_of_week = [get_day_of_week(date_value)]\n",
    "    )\n",
    "source_table = ColumnDataSource(data_table)\n",
    "\n",
    "columns = [\n",
    "        TableColumn(field=\"dates\", title=\"Date\", formatter=DateFormatter()),\n",
    "        TableColumn(field=\"hour\", title=\"Hour\"),\n",
    "        TableColumn(field=\"minute\", title=\"Minute\"),\n",
    "        TableColumn(field=\"day_of_week\", title=\"Day\"),\n",
    "    ]\n",
    "data_table = DataTable(source=source_table, columns=columns, width=600, height=50)\n",
    "\n",
    "# Set up callbacks\n",
    "def update_data(my_date,my_time):\n",
    "\n",
    "    date_value = dt.date(2015,1,my_date)\n",
    "    time_value = scale_time(my_time)\n",
    "    # Set up data\n",
    "    x = small_df.ix[(small_df['Date'] == date_value) & (small_df['Time'] == time_value),'index']\n",
    "    y = small_df.ix[(small_df['Date'] == date_value) & (small_df['Time'] == time_value),'AvgSpeed']\n",
    "    \n",
    "    data_table = dict(\n",
    "        dates=[date_value],\n",
    "        hour=[time_value.hour],\n",
    "        minute=[time_value.minute],\n",
    "        day_of_week = [get_day_of_week(date_value)]\n",
    "    )\n",
    "    \n",
    "    source.data = dict(x=x, y=y)\n",
    "    source_table.data = data_table\n",
    "    \n",
    "    push_notebook()\n",
    "\n",
    "show(column(plot,data_table), notebook_handle=True)"
   ]
  },
  {
   "cell_type": "code",
   "execution_count": 14,
   "metadata": {
    "collapsed": false
   },
   "outputs": [],
   "source": [
    "interact(update_data, my_date = (1,30), my_time= (0,287))"
   ]
  },
  {
   "cell_type": "markdown",
   "metadata": {},
   "source": [
    "date = 17, time = 101 is interesting"
   ]
  },
  {
   "cell_type": "code",
   "execution_count": null,
   "metadata": {
    "collapsed": true
   },
   "outputs": [],
   "source": []
  }
 ],
 "metadata": {
  "kernelspec": {
   "display_name": "Python 2",
   "language": "python",
   "name": "python2"
  },
  "language_info": {
   "codemirror_mode": {
    "name": "ipython",
    "version": 2
   },
   "file_extension": ".py",
   "mimetype": "text/x-python",
   "name": "python",
   "nbconvert_exporter": "python",
   "pygments_lexer": "ipython2",
   "version": "2.7.12"
  }
 },
 "nbformat": 4,
 "nbformat_minor": 2
}
