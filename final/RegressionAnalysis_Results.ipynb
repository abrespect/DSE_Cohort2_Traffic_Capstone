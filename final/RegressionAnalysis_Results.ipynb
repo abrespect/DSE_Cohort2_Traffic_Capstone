{
 "cells": [
  {
   "cell_type": "code",
   "execution_count": 1,
   "metadata": {
    "collapsed": false
   },
   "outputs": [
    {
     "name": "stdout",
     "output_type": "stream",
     "text": [
      "Populating the interactive namespace from numpy and matplotlib\n"
     ]
    }
   ],
   "source": [
    "%pylab inline"
   ]
  },
  {
   "cell_type": "code",
   "execution_count": 2,
   "metadata": {
    "collapsed": true
   },
   "outputs": [],
   "source": [
    "import pandas as pd"
   ]
  },
  {
   "cell_type": "code",
   "execution_count": 11,
   "metadata": {
    "collapsed": true
   },
   "outputs": [],
   "source": [
    "class FieldCoefBean:\n",
    "    def __init__(self):\n",
    "        self._mfields= {}\n",
    "        self._n= 0\n",
    "    \n",
    "    def add(self, field_name, coef):\n",
    "        mfields= self._mfields\n",
    "        #\n",
    "        dvalue= None\n",
    "        if field_name in mfields:\n",
    "            dvalue= mfields[field_name]\n",
    "        else:\n",
    "            dvalue= 0.\n",
    "            mfields[field_name]= dvalue\n",
    "        dvalue += coef\n",
    "        mfields[field_name]= dvalue    \n",
    "        #\n",
    "        self._n += 1\n",
    "    \n",
    "    def get_results(self):\n",
    "        results= []\n",
    "        fn= float(self._n)\n",
    "        for k, v in sorted(self._mfields.iteritems(), key=lambda (key,value): (value, key)):\n",
    "            avg_v= v / fn\n",
    "            results.append((k,v))\n",
    "        return results"
   ]
  },
  {
   "cell_type": "code",
   "execution_count": 17,
   "metadata": {
    "collapsed": false,
    "scrolled": true
   },
   "outputs": [],
   "source": [
    "partitions= ['wkday','wkend']\n",
    "years= [2008, 2009, 2010, 2011, 2013, 2014]\n",
    "partitions_result_map= {}\n",
    "for p in partitions:\n",
    "    pos_struct= FieldCoefBean()\n",
    "    neg_struct= FieldCoefBean()\n",
    "    partitions_result_map[p]= (pos_struct, neg_struct)\n",
    "    #\n",
    "    for y in years:\n",
    "        s= './data/regression/elastic_net_{}_{}_results.csv'.format(y, p)\n",
    "        a_df= pd.read_csv(s, header=None, names=['field_name', 'coef'])\n",
    "\n",
    "        # positive coef\n",
    "        mask= a_df.coef >= 0.05\n",
    "        p_df= a_df[mask]\n",
    "        for _, row in p_df.iterrows():\n",
    "            field_name= row[0]\n",
    "            coef= row[1]\n",
    "            #\n",
    "            pos_struct.add(field_name, coef)\n",
    "\n",
    "        # negative coef\n",
    "        mask= a_df.coef <= -0.05\n",
    "        n_df= a_df[mask]\n",
    "        for _, row in n_df.iterrows():\n",
    "            field_name= row[0]\n",
    "            coef= row[1]\n",
    "            #\n",
    "            neg_struct.add(field_name, coef)"
   ]
  },
  {
   "cell_type": "code",
   "execution_count": 21,
   "metadata": {
    "collapsed": false
   },
   "outputs": [
    {
     "name": "stdout",
     "output_type": "stream",
     "text": [
      "\n",
      "Partition=wkday\n",
      "('Field_sourceCol_NUM_LANES_value_5', 1.5829680857114847)\n",
      "('Field_sourceCol_NUM_LANES_value_6', 1.2500135104355041)\n",
      "('LAT', 1.105718041018263)\n",
      "('Field_sourceCol_DISTRICT_ID_value_7', 0.8299819269652197)\n",
      "('Field_sourceCol_DISTRICT_ID_value_12', 0.7900906761334541)\n",
      "('DENSITY', 0.7340265819875262)\n",
      "('Field_sourceCol_NUM_LANES_value_4', 0.5589249224852568)\n",
      "('Field_sourceCol_FWY_NUM_value_101', 0.42048569902187183)\n",
      "('LON', 0.4055040124006356)\n",
      "('AVG_VALUE', 0.31526101104090287)\n",
      "('Field_sourceCol_DISTRICT_ID_value_8', 0.3119871926410567)\n",
      "('Field_sourceCol_FWY_NUM_value_280', 0.28967247293756687)\n",
      "('Field_sourceCol_FWY_NUM_value_880', 0.254558958747903)\n",
      "('Field_sourceCol_FWY_NUM_value_805', 0.24819170438100346)\n",
      "('Field_sourceCol_FWY_NUM_value_91', 0.16802950147187234)\n",
      "('Field_sourceCol_DAY_OF_WEEK_value_4', 0.15964562240431443)\n",
      "('Field_sourceCol_NUM_LANES_value_7', 0.11630464262416321)\n",
      "('Field_sourceCol_DISTRICT_ID_value_11', 0.11488995769301807)\n",
      "('Field_sourceCol_DISTRICT_ID_value_6', 0.11044288563394376)\n",
      "('Field_sourceCol_FWY_NUM_value_605', 0.10956264942844271)\n",
      "\n",
      "('Field_sourceCol_NUM_LANES_value_2', -1.7471436750952054)\n",
      "('Field_sourceCol_DISTRICT_ID_value_4', -1.2710932508275383)\n",
      "('Field_sourceCol_NUM_LANES_value_3', -1.103347094613949)\n",
      "('Field_sourceCol_NUM_LANES_value_1', -0.8166309824013038)\n",
      "('Field_sourceCol_FWY_NUM_value_30', -0.7515989134005507)\n",
      "('Field_sourceCol_FWY_NUM_value_41', -0.730548221761855)\n",
      "('Field_sourceCol_FWY_NUM_value_241', -0.7202244618085238)\n",
      "('Field_sourceCol_FWY_NUM_value_73', -0.7180784766892916)\n",
      "('Field_sourceCol_DISTRICT_ID_value_3', -0.4784333364033602)\n",
      "('Field_sourceCol_FWY_NUM_value_261', -0.3889446322066773)\n",
      "('Field_sourceCol_FWY_NUM_value_104', -0.381089749436405)\n",
      "('Field_sourceCol_FWY_NUM_value_133', -0.359761416204908)\n",
      "('LEN', -0.3505298101992592)\n",
      "('Field_sourceCol_FWY_NUM_value_2', -0.3046248024588543)\n",
      "('Field_sourceCol_FWY_NUM_value_90', -0.2919181799437229)\n",
      "('Field_sourceCol_DISTRICT_ID_value_10', -0.2789084976045459)\n",
      "('LAT', -0.22296614533861914)\n",
      "('LON', -0.16410650501008514)\n",
      "('Field_sourceCol_DISTRICT_ID_value_11', -0.15788319367280748)\n",
      "('Field_sourceCol_DISTRICT_ID_value_5', -0.14718399597352)\n",
      "('Field_sourceCol_FWY_NUM_value_110', -0.11892451960091809)\n",
      "('Field_sourceCol_FWY_NUM_value_22', -0.05650793132730484)\n",
      "('Field_sourceCol_FWY_NUM_value_71', -0.05232132802558171)\n",
      "\n",
      "Partition=wkend\n",
      "('LAT', 2.4486474230935666)\n",
      "('LON', 1.9604688395310514)\n",
      "('Field_sourceCol_NUM_LANES_value_5', 1.4050960250849456)\n",
      "('Field_sourceCol_DISTRICT_ID_value_7', 1.1506337058054583)\n",
      "('Field_sourceCol_NUM_LANES_value_6', 1.0780424286345227)\n",
      "('DENSITY', 0.784683712141925)\n",
      "('Field_sourceCol_DISTRICT_ID_value_12', 0.7625932952879853)\n",
      "('Field_sourceCol_NUM_LANES_value_4', 0.514486669576444)\n",
      "('Field_sourceCol_FWY_NUM_value_101', 0.4233800087732703)\n",
      "('Field_sourceCol_DAY_OF_WEEK_value_5', 0.39855551431642133)\n",
      "('AVG_VALUE', 0.327620711819361)\n",
      "('Field_sourceCol_FWY_NUM_value_80', 0.3276152758885537)\n",
      "('Field_sourceCol_FWY_NUM_value_91', 0.24778716259307143)\n",
      "('Field_sourceCol_FWY_NUM_value_5', 0.22677511618398113)\n",
      "('Field_sourceCol_FWY_NUM_value_280', 0.22245186447492588)\n",
      "('Field_sourceCol_DISTRICT_ID_value_8', 0.1878198617181157)\n",
      "('Field_sourceCol_FWY_NUM_value_805', 0.16887952996097105)\n",
      "('Field_sourceCol_NUM_LANES_value_7', 0.1021623677448846)\n",
      "('Field_sourceCol_DISTRICT_ID_value_6', 0.07280074163014877)\n",
      "('Field_sourceCol_DISTRICT_ID_value_11', 0.05501257345469991)\n",
      "('Field_sourceCol_FWY_NUM_value_605', 0.05142122926047227)\n",
      "('Field_sourceCol_FWY_NUM_value_405', 0.05041263203615462)\n",
      "\n",
      "('Field_sourceCol_NUM_LANES_value_2', -1.5041397268406054)\n",
      "('Field_sourceCol_NUM_LANES_value_3', -0.9865278446757143)\n",
      "('Field_sourceCol_DISTRICT_ID_value_4', -0.9793594136413594)\n",
      "('Field_sourceCol_DISTRICT_ID_value_3', -0.8915486749566587)\n",
      "('Field_sourceCol_FWY_NUM_value_73', -0.8011410184076908)\n",
      "('Field_sourceCol_FWY_NUM_value_41', -0.7807580842201781)\n",
      "('Field_sourceCol_FWY_NUM_value_241', -0.7589839948859097)\n",
      "('Field_sourceCol_FWY_NUM_value_30', -0.7381952460567452)\n",
      "('Field_sourceCol_NUM_LANES_value_1', -0.7319829120952862)\n",
      "('Field_sourceCol_DISTRICT_ID_value_11', -0.5106367847100306)\n",
      "('Field_sourceCol_FWY_NUM_value_2', -0.47021312686822003)\n",
      "('Field_sourceCol_FWY_NUM_value_104', -0.4378553834323504)\n",
      "('Field_sourceCol_FWY_NUM_value_261', -0.40957175287001485)\n",
      "('Field_sourceCol_DAY_OF_WEEK_value_6', -0.3985555143164236)\n",
      "('Field_sourceCol_DISTRICT_ID_value_10', -0.3919913695840877)\n",
      "('Field_sourceCol_FWY_NUM_value_90', -0.37251495782333033)\n",
      "('Field_sourceCol_FWY_NUM_value_133', -0.3680350768038924)\n",
      "('Field_sourceCol_FWY_NUM_value_110', -0.28889859891106606)\n",
      "('LEN', -0.2753691742972654)\n",
      "('Field_sourceCol_FWY_NUM_value_4', -0.21727476219969685)\n",
      "('Field_sourceCol_FWY_NUM_value_71', -0.10686160287081006)\n",
      "('Field_sourceCol_DISTRICT_ID_value_5', -0.06660466223463747)\n",
      "('Field_sourceCol_FWY_NUM_value_22', -0.06585781506719543)\n",
      "('LAT', -0.05302124346677309)\n"
     ]
    }
   ],
   "source": [
    "for p in partitions:\n",
    "    print('\\nPartition={}'.format(p))\n",
    "    m_tuple= partitions_result_map[p]\n",
    "    #\n",
    "    pos_results= m_tuple[0].get_results()\n",
    "    pos_results.reverse()\n",
    "    for e in pos_results:\n",
    "        print(e)\n",
    "    print('')\n",
    "    neg_results= m_tuple[1].get_results()\n",
    "    for e in neg_results:\n",
    "        print(e)"
   ]
  }
 ],
 "metadata": {
  "kernelspec": {
   "display_name": "Python 2",
   "language": "python",
   "name": "python2"
  },
  "language_info": {
   "codemirror_mode": {
    "name": "ipython",
    "version": 2
   },
   "file_extension": ".py",
   "mimetype": "text/x-python",
   "name": "python",
   "nbconvert_exporter": "python",
   "pygments_lexer": "ipython2",
   "version": "2.7.10"
  }
 },
 "nbformat": 4,
 "nbformat_minor": 0
}
